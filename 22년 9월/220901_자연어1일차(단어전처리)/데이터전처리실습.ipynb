{
 "cells": [
  {
   "cell_type": "code",
   "execution_count": 7,
   "id": "58e5166c",
   "metadata": {},
   "outputs": [],
   "source": [
    "import re"
   ]
  },
  {
   "cell_type": "code",
   "execution_count": 13,
   "id": "771b08f8",
   "metadata": {},
   "outputs": [],
   "source": [
    "p = re.compile('(([a-z])bc([a-z]))')"
   ]
  },
  {
   "cell_type": "code",
   "execution_count": 14,
   "id": "706ccfb3",
   "metadata": {},
   "outputs": [
    {
     "name": "stdout",
     "output_type": "stream",
     "text": [
      "[('abcb', 'a', 'b'), ('cbcd', 'c', 'd')]\n"
     ]
    }
   ],
   "source": [
    "print(p.findall('abcbcbcd'))"
   ]
  },
  {
   "cell_type": "code",
   "execution_count": 17,
   "id": "65067094",
   "metadata": {},
   "outputs": [
    {
     "name": "stdout",
     "output_type": "stream",
     "text": [
      "Hi, my name is Song.\n"
     ]
    }
   ],
   "source": [
    "def pad_punctuation(sentence, punc) : \n",
    "    for p in punc :\n",
    "        sentence = sentence.replace(p,\"\"+ p + \"\")\n",
    "        \n",
    "    return sentence\n",
    "\n",
    "sentence = \"Hi, my name is Song.\"\n",
    "\n",
    "print(pad_punctuation(sentence,[\".\", \"?\", \"!\", \",\"]))"
   ]
  },
  {
   "cell_type": "code",
   "execution_count": 18,
   "id": "3ec48f37",
   "metadata": {},
   "outputs": [
    {
     "name": "stdout",
     "output_type": "stream",
     "text": [
      "first, open the frist chapter.\n"
     ]
    }
   ],
   "source": [
    "sentence = \"First, open the frist chapter.\"\n",
    "print(sentence.lower())"
   ]
  },
  {
   "cell_type": "code",
   "execution_count": 19,
   "id": "e58769bc",
   "metadata": {},
   "outputs": [
    {
     "name": "stdout",
     "output_type": "stream",
     "text": [
      "FIRST, OPEN THE FRIST CHAPTER.\n"
     ]
    }
   ],
   "source": [
    "# 노이즈 유형3\n",
    "\n",
    "sentence = \"First, open the frist chapter.\"\n",
    "print(sentence.upper())"
   ]
  },
  {
   "cell_type": "code",
   "execution_count": 20,
   "id": "9051e53c",
   "metadata": {},
   "outputs": [
    {
     "name": "stdout",
     "output_type": "stream",
     "text": [
      "Heisatenyearoldboy.\n"
     ]
    }
   ],
   "source": [
    "# 노이즈 유형3\n",
    "\n",
    "sentence = \"He is a ten-year-old-boy.\"\n",
    "sentence = re.sub(\"([^a-zA-Z.,?!])\",\"\",sentence)\n",
    "print(sentence)"
   ]
  },
  {
   "cell_type": "code",
   "execution_count": 23,
   "id": "0cb03bbb",
   "metadata": {},
   "outputs": [],
   "source": [
    "corpus = \\\n",
    "\"\"\"\n",
    "I wrote the story when I was at home, the autumn after I had learned to speak. We had stayed up at Fern Quarry later than usual. While we were there, Miss Sullivan had described to me the beauties of the late foliage, and it seems that her descriptions revived the memory of a story, which must have been read to me, and which I must have unconsciously retained. I thought then that I was \"making up a story,\" as children say, and I eagerly sat down to write it before the ideas should slip from me. My thoughts flowed easily; I felt a sense of joy in the composition. Words and images came tripping to my finger ends, and as I thought out sentence after sentence, I wrote them on my braille slate. Now, if words and images come to me without effort, it is a pretty sure sign that they are not the offspring of my own mind, but stray waifs that I regretfully dismiss. At that time I eagerly absorbed everything I read without a thought of authorship, and even now I cannot be quite sure of the boundary line between my ideas and those I find in books. I suppose that is because so many of my impressions come to me through the medium of others' eyes and ears.\n",
    "\"\"\""
   ]
  },
  {
   "cell_type": "code",
   "execution_count": 37,
   "id": "1d7e0601",
   "metadata": {},
   "outputs": [],
   "source": [
    "def cleaning_text(text, punc, regex) :\n",
    "# 노이즈유형 1\n",
    "    for p in punc :\n",
    "        text = text.replace(p,\" \"+ p + \" \")\n",
    "# 노이즈 유형 2        \n",
    "        text = text.lower()\n",
    "# 노이즈 유형 3        \n",
    "        text = re.sub(\"([^a-zA-Z.,?!])\",\"\",text)\n",
    "        \n",
    "        return text"
   ]
  },
  {
   "cell_type": "code",
   "execution_count": 38,
   "id": "aa66546b",
   "metadata": {},
   "outputs": [
    {
     "name": "stdout",
     "output_type": "stream",
     "text": [
      "iwrotethestorywheniwasathome,theautumnafterihadlearnedtospeak.wehadstayedupatfernquarrylaterthanusual.whilewewerethere,misssullivanhaddescribedtomethebeautiesofthelatefoliage,anditseemsthatherdescriptionsrevivedthememoryofastory,whichmusthavebeenreadtome,andwhichimusthaveunconsciouslyretained.ithoughtthenthatiwasmakingupastory,aschildrensay,andieagerlysatdowntowriteitbeforetheideasshouldslipfromme.mythoughtsflowedeasilyifeltasenseofjoyinthecomposition.wordsandimagescametrippingtomyfingerends,andasithoughtoutsentenceaftersentence,iwrotethemonmybrailleslate.now,ifwordsandimagescometomewithouteffort,itisaprettysuresignthattheyarenottheoffspringofmyownmind,butstraywaifsthatiregretfullydismiss.atthattimeieagerlyabsorbedeverythingireadwithoutathoughtofauthorship,andevennowicannotbequitesureoftheboundarylinebetweenmyideasandthoseifindinbooks.isupposethatisbecausesomanyofmyimpressionscometomethroughthemediumofotherseyesandears.\n"
     ]
    }
   ],
   "source": [
    "print(cleaning_text(corpus, [\".\",\"?\",\"!\",\",\"], \"[^a-zA-Z.,?!\\n]\"))"
   ]
  },
  {
   "cell_type": "code",
   "execution_count": 30,
   "id": "4573cfdd",
   "metadata": {},
   "outputs": [
    {
     "ename": "SyntaxError",
     "evalue": "invalid syntax (298912062.py, line 1)",
     "output_type": "error",
     "traceback": [
      "\u001b[1;36m  Input \u001b[1;32mIn [30]\u001b[1;36m\u001b[0m\n\u001b[1;33m    I wrote the story when I was at home, the autumn after I had learned to speak. We had stayed up at Fern Quarry later than usual. While we were there, Miss Sullivan had described to me the beauties of the late foliage, and it seems that her descriptions revived the memory of a story, which must have been read to me, and which I must have unconsciously retained. I thought then that I was \"making up a story,\" as children say, and I eagerly sat down to write it before the ideas should slip from me. My thoughts flowed easily; I felt a sense of joy in the composition. Words and images came tripping to my finger ends, and as I thought out sentence after sentence, I wrote them on my braille slate. Now, if words and images come to me without effort, it is a pretty sure sign that they are not the offspring of my own mind, but stray waifs that I regretfully dismiss. At that time I eagerly absorbed everything I read without a thought of authorship, and even now I cannot be quite sure of the boundary line between my ideas and those I find in books. I suppose that is because so many of my impressions come to me through the medium of others' eyes and ears.\u001b[0m\n\u001b[1;37m      ^\u001b[0m\n\u001b[1;31mSyntaxError\u001b[0m\u001b[1;31m:\u001b[0m invalid syntax\n"
     ]
    }
   ],
   "source": [
    "I wrote the story when I was at home, the autumn after I had learned to speak. We had stayed up at Fern Quarry later than usual. While we were there, Miss Sullivan had described to me the beauties of the late foliage, and it seems that her descriptions revived the memory of a story, which must have been read to me, and which I must have unconsciously retained. I thought then that I was \"making up a story,\" as children say, and I eagerly sat down to write it before the ideas should slip from me. My thoughts flowed easily; I felt a sense of joy in the composition. Words and images came tripping to my finger ends, and as I thought out sentence after sentence, I wrote them on my braille slate. Now, if words and images come to me without effort, it is a pretty sure sign that they are not the offspring of my own mind, but stray waifs that I regretfully dismiss. At that time I eagerly absorbed everything I read without a thought of authorship, and even now I cannot be quite sure of the boundary line between my ideas and those I find in books. I suppose that is because so many of my impressions come to me through the medium of others' eyes and ears."
   ]
  },
  {
   "cell_type": "code",
   "execution_count": 35,
   "id": "36046255",
   "metadata": {},
   "outputs": [],
   "source": [
    "def cleaning_text(text, punc, regex) :\n",
    "# 노이즈유형 1\n",
    "    for p in punc :\n",
    "        text = text.replace(p,\" \"+ p + \" \")\n",
    "# 노이즈 유형 2        \n",
    "        text = text.lower()\n",
    "# 노이즈 유형 3        \n",
    "        text = re.sub(regex,\" \",text)\n",
    "        \n",
    "        return text"
   ]
  },
  {
   "cell_type": "code",
   "execution_count": 36,
   "id": "291f36b0",
   "metadata": {},
   "outputs": [
    {
     "name": "stdout",
     "output_type": "stream",
     "text": [
      "\n",
      "i wrote the story when i was at home, the autumn after i had learned to speak .  we had stayed up at fern quarry later than usual .  while we were there, miss sullivan had described to me the beauties of the late foliage, and it seems that her descriptions revived the memory of a story, which must have been read to me, and which i must have unconsciously retained .  i thought then that i was  making up a story,  as children say, and i eagerly sat down to write it before the ideas should slip from me .  my thoughts flowed easily  i felt a sense of joy in the composition .  words and images came tripping to my finger ends, and as i thought out sentence after sentence, i wrote them on my braille slate .  now, if words and images come to me without effort, it is a pretty sure sign that they are not the offspring of my own mind, but stray waifs that i regretfully dismiss .  at that time i eagerly absorbed everything i read without a thought of authorship, and even now i cannot be quite sure of the boundary line between my ideas and those i find in books .  i suppose that is because so many of my impressions come to me through the medium of others  eyes and ears . \n",
      "\n"
     ]
    }
   ],
   "source": [
    "print(cleaning_text(corpus, [\".\",\"?\",\"!\",\",\"], \"[^a-zA-Z.,?!\\n]\"))"
   ]
  },
  {
   "cell_type": "code",
   "execution_count": null,
   "id": "ff83d8a8",
   "metadata": {},
   "outputs": [],
   "source": []
  }
 ],
 "metadata": {
  "kernelspec": {
   "display_name": "Python 3 (ipykernel)",
   "language": "python",
   "name": "python3"
  },
  "language_info": {
   "codemirror_mode": {
    "name": "ipython",
    "version": 3
   },
   "file_extension": ".py",
   "mimetype": "text/x-python",
   "name": "python",
   "nbconvert_exporter": "python",
   "pygments_lexer": "ipython3",
   "version": "3.9.12"
  }
 },
 "nbformat": 4,
 "nbformat_minor": 5
}
