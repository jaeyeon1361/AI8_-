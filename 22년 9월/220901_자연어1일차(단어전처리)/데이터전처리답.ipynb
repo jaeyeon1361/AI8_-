{
 "cells": [
  {
   "cell_type": "code",
   "execution_count": 1,
   "metadata": {
    "id": "AygIRk5SywLR"
   },
   "outputs": [],
   "source": [
    "import re"
   ]
  },
  {
   "cell_type": "code",
   "execution_count": 54,
   "metadata": {},
   "outputs": [
    {
     "name": "stdout",
     "output_type": "stream",
     "text": [
      "['2022', '05', '13']\n"
     ]
    }
   ],
   "source": [
    "# 숫자 찾기\n",
    "example = '2022 05 13 friday'\n",
    "print(re.findall('[0-9]+', example))"
   ]
  },
  {
   "cell_type": "code",
   "execution_count": 55,
   "metadata": {},
   "outputs": [
    {
     "name": "stdout",
     "output_type": "stream",
     "text": [
      "[' ', ' ', ' friday']\n"
     ]
    }
   ],
   "source": [
    "# 숫자가 아닌 것 찾기\n",
    "print(re.findall('[^0-9]+', example))"
   ]
  },
  {
   "cell_type": "code",
   "execution_count": 68,
   "metadata": {},
   "outputs": [
    {
     "name": "stdout",
     "output_type": "stream",
     "text": [
      "[]\n"
     ]
    }
   ],
   "source": [
    "# 이메일 주소를 찾기\n",
    "example = '제 이메일은 rimiyeyo@yonsei.ac.kr 입니다. rimiyeyo@gmail.com으로 변경되었습니다.'\n",
    "print(re.findall('[a-z]@[+', example))"
   ]
  },
  {
   "cell_type": "code",
   "execution_count": 56,
   "metadata": {},
   "outputs": [
    {
     "name": "stdout",
     "output_type": "stream",
     "text": [
      "['rimiyeyo@yonsei.ac.kr', 'rimiyeyo@gmail.com']\n"
     ]
    }
   ],
   "source": [
    "# 이메일 주소를 찾기 정답\n",
    "# 각 . 마다 a-z를 설정 @이는 단어라서 바로 씀\n",
    "example = '제 이메일은 rimiyeyo@yonsei.ac.kr 입니다. rimiyeyo@gmail.com으로 변경되었습니다.'\n",
    "print(re.findall('[a-z]+@[a-z]+.[a-z]+.[a-z]+', example))"
   ]
  },
  {
   "cell_type": "code",
   "execution_count": 65,
   "metadata": {},
   "outputs": [
    {
     "name": "stdout",
     "output_type": "stream",
     "text": [
      "['https://www.google.com/', 'https://www.naver.com/']\n"
     ]
    }
   ],
   "source": [
    "# URL 찾기\n",
    "example = 'https://www.google.com/에 네이버 검색하시면 https://www.naver.com/이 상단에 노출됩니다.'\n",
    "print(re.findall('[a-z]+://[a-z]+.[a-z]+.[a-z]+/', example))"
   ]
  },
  {
   "cell_type": "code",
   "execution_count": 66,
   "metadata": {},
   "outputs": [
    {
     "name": "stdout",
     "output_type": "stream",
     "text": [
      "['sonata01.png', 'avante02.jpg', 'socar2021.gif']\n"
     ]
    }
   ],
   "source": [
    "example = '제 바탕화면 보시면 sonata01.png 파일과 avante02.jpg 파일 그리고 socar2021.gif 파일이 존재합니다.'\n",
    "print(re.findall('[a-z0-9]+.\\.[(png)|(jpg)|(gif)]+', example))"
   ]
  },
  {
   "cell_type": "code",
   "execution_count": null,
   "metadata": {
    "id": "I5MclFqty2-Z"
   },
   "outputs": [],
   "source": [
    "example = '제 바탕화면 보시면 sonata01.png 파일과 avante02.jpg 파일 그리고 socar2021.gif 파일이 존재합니다.'\n",
    "print(re.findall('[a-z0-9]+.\\.[(png)|(jpg)|(gif)]+', example))"
   ]
  },
  {
   "cell_type": "code",
   "execution_count": null,
   "metadata": {
    "id": "rDKRT_w8y5RR"
   },
   "outputs": [],
   "source": []
  },
  {
   "cell_type": "code",
   "execution_count": null,
   "metadata": {
    "id": "2IzFcv0HzCOD"
   },
   "outputs": [],
   "source": []
  },
  {
   "cell_type": "code",
   "execution_count": null,
   "metadata": {
    "id": "aIbvAEZxzE0M"
   },
   "outputs": [],
   "source": []
  }
 ],
 "metadata": {
  "colab": {
   "authorship_tag": "ABX9TyOYHUmMohjVuowwDk+fAZ6T",
   "provenance": []
  },
  "kernelspec": {
   "display_name": "Python 3 (ipykernel)",
   "language": "python",
   "name": "python3"
  },
  "language_info": {
   "codemirror_mode": {
    "name": "ipython",
    "version": 3
   },
   "file_extension": ".py",
   "mimetype": "text/x-python",
   "name": "python",
   "nbconvert_exporter": "python",
   "pygments_lexer": "ipython3",
   "version": "3.9.12"
  }
 },
 "nbformat": 4,
 "nbformat_minor": 1
}
