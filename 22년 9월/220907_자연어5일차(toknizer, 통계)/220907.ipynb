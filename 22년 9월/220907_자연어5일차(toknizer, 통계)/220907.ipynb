{
  "nbformat": 4,
  "nbformat_minor": 0,
  "metadata": {
    "colab": {
      "provenance": []
    },
    "kernelspec": {
      "name": "python3",
      "display_name": "Python 3"
    },
    "language_info": {
      "name": "python"
    }
  },
  "cells": [
    {
      "cell_type": "code",
      "execution_count": null,
      "metadata": {
        "id": "Y_AQLhsKQh_N"
      },
      "outputs": [],
      "source": []
    },
    {
      "cell_type": "markdown",
      "metadata": {
        "id": "f-fTfc7BvCOz"
      },
      "source": [
        "# 한국어 전처리 패키지 (Text preprocessing Tools for Korean Text)\n",
        "\n",
        "1.PyKoSpacing\n",
        "\n",
        "전희원님이 개발한 PyKoSpacing은 한국어 띄어쓰기 패키지로 띄어쓰기가 되어있지 않은 문장을 띄어쓰기를 한 문장으로 변환해주는 패키지입니다. PyKoSpacing은 대용량 코퍼스를 학습하여 만들어진 띄어쓰기 딥 러닝 모델로 준수한 성능을 가지고 있습니다."
      ]
    },
    {
      "cell_type": "code",
      "metadata": {
        "colab": {
          "base_uri": "https://localhost:8080/",
          "height": 1000
        },
        "id": "zA0_dBgruBnn",
        "outputId": "d0675c5d-455e-4bd9-a295-3991d8672b1a"
      },
      "source": [
        "!pip install git+https://github.com/haven-jeon/PyKoSpacing.git"
      ],
      "execution_count": null,
      "outputs": [
        {
          "output_type": "stream",
          "name": "stdout",
          "text": [
            "Looking in indexes: https://pypi.org/simple, https://us-python.pkg.dev/colab-wheels/public/simple/\n",
            "Collecting git+https://github.com/haven-jeon/PyKoSpacing.git\n",
            "  Cloning https://github.com/haven-jeon/PyKoSpacing.git to /tmp/pip-req-build-khj89d5q\n",
            "  Running command git clone -q https://github.com/haven-jeon/PyKoSpacing.git /tmp/pip-req-build-khj89d5q\n",
            "Collecting tensorflow==2.7.2\n",
            "  Downloading https://us-python.pkg.dev/colab-wheels/public/tensorflow/tensorflow-2.7.2%2Bzzzcolab20220516114640-cp37-cp37m-linux_x86_64.whl (671.4 MB)\n",
            "\u001b[K     |████████████████████████████████| 671.4 MB 1.6 kB/s \n",
            "\u001b[?25hRequirement already satisfied: h5py==3.1.0 in /usr/local/lib/python3.7/dist-packages (from pykospacing==0.5) (3.1.0)\n",
            "Collecting argparse>=1.4.0\n",
            "  Downloading argparse-1.4.0-py2.py3-none-any.whl (23 kB)\n",
            "Requirement already satisfied: cached-property in /usr/local/lib/python3.7/dist-packages (from h5py==3.1.0->pykospacing==0.5) (1.5.2)\n",
            "Requirement already satisfied: numpy>=1.14.5 in /usr/local/lib/python3.7/dist-packages (from h5py==3.1.0->pykospacing==0.5) (1.21.6)\n",
            "Requirement already satisfied: tensorflow-io-gcs-filesystem>=0.21.0 in /usr/local/lib/python3.7/dist-packages (from tensorflow==2.7.2->pykospacing==0.5) (0.26.0)\n",
            "Requirement already satisfied: flatbuffers<3.0,>=1.12 in /usr/local/lib/python3.7/dist-packages (from tensorflow==2.7.2->pykospacing==0.5) (2.0.7)\n",
            "Requirement already satisfied: keras-preprocessing>=1.1.1 in /usr/local/lib/python3.7/dist-packages (from tensorflow==2.7.2->pykospacing==0.5) (1.1.2)\n",
            "Requirement already satisfied: absl-py>=0.4.0 in /usr/local/lib/python3.7/dist-packages (from tensorflow==2.7.2->pykospacing==0.5) (1.2.0)\n",
            "Requirement already satisfied: six>=1.12.0 in /usr/local/lib/python3.7/dist-packages (from tensorflow==2.7.2->pykospacing==0.5) (1.15.0)\n",
            "Requirement already satisfied: astunparse>=1.6.0 in /usr/local/lib/python3.7/dist-packages (from tensorflow==2.7.2->pykospacing==0.5) (1.6.3)\n",
            "Requirement already satisfied: tensorboard~=2.6 in /usr/local/lib/python3.7/dist-packages (from tensorflow==2.7.2->pykospacing==0.5) (2.8.0)\n",
            "Requirement already satisfied: grpcio<2.0,>=1.24.3 in /usr/local/lib/python3.7/dist-packages (from tensorflow==2.7.2->pykospacing==0.5) (1.47.0)\n",
            "Collecting tensorflow-estimator<2.8,~=2.7.0rc0\n",
            "  Downloading tensorflow_estimator-2.7.0-py2.py3-none-any.whl (463 kB)\n",
            "\u001b[K     |████████████████████████████████| 463 kB 6.9 MB/s \n",
            "\u001b[?25hCollecting gast<0.5.0,>=0.2.1\n",
            "  Downloading gast-0.4.0-py3-none-any.whl (9.8 kB)\n",
            "Requirement already satisfied: wheel<1.0,>=0.32.0 in /usr/local/lib/python3.7/dist-packages (from tensorflow==2.7.2->pykospacing==0.5) (0.37.1)\n",
            "Requirement already satisfied: termcolor>=1.1.0 in /usr/local/lib/python3.7/dist-packages (from tensorflow==2.7.2->pykospacing==0.5) (1.1.0)\n",
            "Requirement already satisfied: wrapt>=1.11.0 in /usr/local/lib/python3.7/dist-packages (from tensorflow==2.7.2->pykospacing==0.5) (1.14.1)\n",
            "Requirement already satisfied: opt-einsum>=2.3.2 in /usr/local/lib/python3.7/dist-packages (from tensorflow==2.7.2->pykospacing==0.5) (3.3.0)\n",
            "Requirement already satisfied: libclang>=9.0.1 in /usr/local/lib/python3.7/dist-packages (from tensorflow==2.7.2->pykospacing==0.5) (14.0.6)\n",
            "Requirement already satisfied: protobuf>=3.9.2 in /usr/local/lib/python3.7/dist-packages (from tensorflow==2.7.2->pykospacing==0.5) (3.17.3)\n",
            "Requirement already satisfied: google-pasta>=0.1.1 in /usr/local/lib/python3.7/dist-packages (from tensorflow==2.7.2->pykospacing==0.5) (0.2.0)\n",
            "Collecting keras<2.8,>=2.7.0rc0\n",
            "  Downloading keras-2.7.0-py2.py3-none-any.whl (1.3 MB)\n",
            "\u001b[K     |████████████████████████████████| 1.3 MB 65.6 MB/s \n",
            "\u001b[?25hRequirement already satisfied: typing-extensions>=3.6.6 in /usr/local/lib/python3.7/dist-packages (from tensorflow==2.7.2->pykospacing==0.5) (4.1.1)\n",
            "Requirement already satisfied: werkzeug>=0.11.15 in /usr/local/lib/python3.7/dist-packages (from tensorboard~=2.6->tensorflow==2.7.2->pykospacing==0.5) (1.0.1)\n",
            "Requirement already satisfied: markdown>=2.6.8 in /usr/local/lib/python3.7/dist-packages (from tensorboard~=2.6->tensorflow==2.7.2->pykospacing==0.5) (3.4.1)\n",
            "Requirement already satisfied: requests<3,>=2.21.0 in /usr/local/lib/python3.7/dist-packages (from tensorboard~=2.6->tensorflow==2.7.2->pykospacing==0.5) (2.23.0)\n",
            "Requirement already satisfied: google-auth<3,>=1.6.3 in /usr/local/lib/python3.7/dist-packages (from tensorboard~=2.6->tensorflow==2.7.2->pykospacing==0.5) (1.35.0)\n",
            "Requirement already satisfied: tensorboard-plugin-wit>=1.6.0 in /usr/local/lib/python3.7/dist-packages (from tensorboard~=2.6->tensorflow==2.7.2->pykospacing==0.5) (1.8.1)\n",
            "Requirement already satisfied: setuptools>=41.0.0 in /usr/local/lib/python3.7/dist-packages (from tensorboard~=2.6->tensorflow==2.7.2->pykospacing==0.5) (57.4.0)\n",
            "Requirement already satisfied: google-auth-oauthlib<0.5,>=0.4.1 in /usr/local/lib/python3.7/dist-packages (from tensorboard~=2.6->tensorflow==2.7.2->pykospacing==0.5) (0.4.6)\n",
            "Requirement already satisfied: tensorboard-data-server<0.7.0,>=0.6.0 in /usr/local/lib/python3.7/dist-packages (from tensorboard~=2.6->tensorflow==2.7.2->pykospacing==0.5) (0.6.1)\n",
            "Requirement already satisfied: pyasn1-modules>=0.2.1 in /usr/local/lib/python3.7/dist-packages (from google-auth<3,>=1.6.3->tensorboard~=2.6->tensorflow==2.7.2->pykospacing==0.5) (0.2.8)\n",
            "Requirement already satisfied: cachetools<5.0,>=2.0.0 in /usr/local/lib/python3.7/dist-packages (from google-auth<3,>=1.6.3->tensorboard~=2.6->tensorflow==2.7.2->pykospacing==0.5) (4.2.4)\n",
            "Requirement already satisfied: rsa<5,>=3.1.4 in /usr/local/lib/python3.7/dist-packages (from google-auth<3,>=1.6.3->tensorboard~=2.6->tensorflow==2.7.2->pykospacing==0.5) (4.9)\n",
            "Requirement already satisfied: requests-oauthlib>=0.7.0 in /usr/local/lib/python3.7/dist-packages (from google-auth-oauthlib<0.5,>=0.4.1->tensorboard~=2.6->tensorflow==2.7.2->pykospacing==0.5) (1.3.1)\n",
            "Requirement already satisfied: importlib-metadata>=4.4 in /usr/local/lib/python3.7/dist-packages (from markdown>=2.6.8->tensorboard~=2.6->tensorflow==2.7.2->pykospacing==0.5) (4.12.0)\n",
            "Requirement already satisfied: zipp>=0.5 in /usr/local/lib/python3.7/dist-packages (from importlib-metadata>=4.4->markdown>=2.6.8->tensorboard~=2.6->tensorflow==2.7.2->pykospacing==0.5) (3.8.1)\n",
            "Requirement already satisfied: pyasn1<0.5.0,>=0.4.6 in /usr/local/lib/python3.7/dist-packages (from pyasn1-modules>=0.2.1->google-auth<3,>=1.6.3->tensorboard~=2.6->tensorflow==2.7.2->pykospacing==0.5) (0.4.8)\n",
            "Requirement already satisfied: idna<3,>=2.5 in /usr/local/lib/python3.7/dist-packages (from requests<3,>=2.21.0->tensorboard~=2.6->tensorflow==2.7.2->pykospacing==0.5) (2.10)\n",
            "Requirement already satisfied: chardet<4,>=3.0.2 in /usr/local/lib/python3.7/dist-packages (from requests<3,>=2.21.0->tensorboard~=2.6->tensorflow==2.7.2->pykospacing==0.5) (3.0.4)\n",
            "Requirement already satisfied: certifi>=2017.4.17 in /usr/local/lib/python3.7/dist-packages (from requests<3,>=2.21.0->tensorboard~=2.6->tensorflow==2.7.2->pykospacing==0.5) (2022.6.15)\n",
            "Requirement already satisfied: urllib3!=1.25.0,!=1.25.1,<1.26,>=1.21.1 in /usr/local/lib/python3.7/dist-packages (from requests<3,>=2.21.0->tensorboard~=2.6->tensorflow==2.7.2->pykospacing==0.5) (1.24.3)\n",
            "Requirement already satisfied: oauthlib>=3.0.0 in /usr/local/lib/python3.7/dist-packages (from requests-oauthlib>=0.7.0->google-auth-oauthlib<0.5,>=0.4.1->tensorboard~=2.6->tensorflow==2.7.2->pykospacing==0.5) (3.2.0)\n",
            "Building wheels for collected packages: pykospacing\n",
            "  Building wheel for pykospacing (setup.py) ... \u001b[?25l\u001b[?25hdone\n",
            "  Created wheel for pykospacing: filename=pykospacing-0.5-py3-none-any.whl size=2268638 sha256=4f1ca3c530e8cc9952956e6261a540610d554082b8a7a66481cb9ce983cc5322\n",
            "  Stored in directory: /tmp/pip-ephem-wheel-cache-isiu6mto/wheels/9b/93/81/a2a7dc8c66ede5bf30634d20635f32b95eac7ca2ea8844058b\n",
            "Successfully built pykospacing\n",
            "Installing collected packages: tensorflow-estimator, keras, gast, tensorflow, argparse, pykospacing\n",
            "  Attempting uninstall: tensorflow-estimator\n",
            "    Found existing installation: tensorflow-estimator 2.8.0\n",
            "    Uninstalling tensorflow-estimator-2.8.0:\n",
            "      Successfully uninstalled tensorflow-estimator-2.8.0\n",
            "  Attempting uninstall: keras\n",
            "    Found existing installation: keras 2.8.0\n",
            "    Uninstalling keras-2.8.0:\n",
            "      Successfully uninstalled keras-2.8.0\n",
            "  Attempting uninstall: gast\n",
            "    Found existing installation: gast 0.5.3\n",
            "    Uninstalling gast-0.5.3:\n",
            "      Successfully uninstalled gast-0.5.3\n",
            "  Attempting uninstall: tensorflow\n",
            "    Found existing installation: tensorflow 2.8.2+zzzcolab20220719082949\n",
            "    Uninstalling tensorflow-2.8.2+zzzcolab20220719082949:\n",
            "      Successfully uninstalled tensorflow-2.8.2+zzzcolab20220719082949\n",
            "Successfully installed argparse-1.4.0 gast-0.4.0 keras-2.7.0 pykospacing-0.5 tensorflow-2.7.2+zzzcolab20220516114640 tensorflow-estimator-2.7.0\n"
          ]
        },
        {
          "output_type": "display_data",
          "data": {
            "application/vnd.colab-display-data+json": {
              "pip_warning": {
                "packages": [
                  "argparse"
                ]
              }
            }
          },
          "metadata": {}
        }
      ]
    },
    {
      "cell_type": "code",
      "metadata": {
        "id": "8XuxT4OsuBrO"
      },
      "source": [
        "sent = '김철수는 극중 두 인격의 사나이 이광수 역을 맡았다. 철수는 한국 유일의 태권도 전승자를 가리는 결전의 날을 앞두고 10년간 함께 훈련한 사형인 유연재(김광수 분)를 찾으러 속세로 내려온 인물이다.'"
      ],
      "execution_count": null,
      "outputs": []
    },
    {
      "cell_type": "code",
      "metadata": {
        "colab": {
          "base_uri": "https://localhost:8080/"
        },
        "id": "VYiLlotnuBug",
        "outputId": "566bab08-a9f4-4304-aa03-7b2ee6d9a2bd"
      },
      "source": [
        "new_sent = sent.replace(\" \", '') # 띄어쓰기가 없는 문장 임의로 만들기\n",
        "print(new_sent)"
      ],
      "execution_count": null,
      "outputs": [
        {
          "output_type": "stream",
          "name": "stdout",
          "text": [
            "김철수는극중두인격의사나이이광수역을맡았다.철수는한국유일의태권도전승자를가리는결전의날을앞두고10년간함께훈련한사형인유연재(김광수분)를찾으러속세로내려온인물이다.\n"
          ]
        }
      ]
    },
    {
      "cell_type": "code",
      "metadata": {
        "colab": {
          "base_uri": "https://localhost:8080/",
          "height": 387
        },
        "id": "S9Ew0FGtuB0f",
        "outputId": "a1d78520-f8d0-492f-c3f5-cb3ff62a2447"
      },
      "source": [
        "#원 문장과 비교\n",
        "\n",
        "from pykospacing import spacing\n",
        "\n",
        "kospacing_sent = spacing(new_sent)\n",
        "print(sent)\n",
        "print(kospacing_sent)"
      ],
      "execution_count": null,
      "outputs": [
        {
          "output_type": "error",
          "ename": "ImportError",
          "evalue": "ignored",
          "traceback": [
            "\u001b[0;31m---------------------------------------------------------------------------\u001b[0m",
            "\u001b[0;31mImportError\u001b[0m                               Traceback (most recent call last)",
            "\u001b[0;32m<ipython-input-4-3ac5a844ca35>\u001b[0m in \u001b[0;36m<module>\u001b[0;34m\u001b[0m\n\u001b[1;32m      1\u001b[0m \u001b[0;31m#원 문장과 비교\u001b[0m\u001b[0;34m\u001b[0m\u001b[0;34m\u001b[0m\u001b[0;34m\u001b[0m\u001b[0m\n\u001b[1;32m      2\u001b[0m \u001b[0;34m\u001b[0m\u001b[0m\n\u001b[0;32m----> 3\u001b[0;31m \u001b[0;32mfrom\u001b[0m \u001b[0mpykospacing\u001b[0m \u001b[0;32mimport\u001b[0m \u001b[0mspacing\u001b[0m\u001b[0;34m\u001b[0m\u001b[0;34m\u001b[0m\u001b[0m\n\u001b[0m\u001b[1;32m      4\u001b[0m \u001b[0;34m\u001b[0m\u001b[0m\n\u001b[1;32m      5\u001b[0m \u001b[0mkospacing_sent\u001b[0m \u001b[0;34m=\u001b[0m \u001b[0mspacing\u001b[0m\u001b[0;34m(\u001b[0m\u001b[0mnew_sent\u001b[0m\u001b[0;34m)\u001b[0m\u001b[0;34m\u001b[0m\u001b[0;34m\u001b[0m\u001b[0m\n",
            "\u001b[0;31mImportError\u001b[0m: cannot import name 'spacing' from 'pykospacing' (/usr/local/lib/python3.7/dist-packages/pykospacing/__init__.py)",
            "",
            "\u001b[0;31m---------------------------------------------------------------------------\u001b[0;32m\nNOTE: If your import is failing due to a missing package, you can\nmanually install dependencies using either !pip or !apt.\n\nTo view examples of installing some common dependencies, click the\n\"Open Examples\" button below.\n\u001b[0;31m---------------------------------------------------------------------------\u001b[0m\n"
          ],
          "errorDetails": {
            "actions": [
              {
                "action": "open_url",
                "actionText": "Open Examples",
                "url": "/notebooks/snippets/importing_libraries.ipynb"
              }
            ]
          }
        }
      ]
    },
    {
      "cell_type": "markdown",
      "metadata": {
        "id": "gkxcbOzLvW2E"
      },
      "source": [
        "2. Py-Hanspell\n",
        "- Py-Hanspell은 네이버 한글 맞춤법 검사기를 바탕으로 만들어진 패키지입니다.\n"
      ]
    },
    {
      "cell_type": "code",
      "metadata": {
        "colab": {
          "base_uri": "https://localhost:8080/"
        },
        "id": "dUTVc4T4uB4g",
        "outputId": "0126272b-796c-4945-d892-bd9755bfbf2e"
      },
      "source": [
        "!pip install git+https://github.com/ssut/py-hanspell.git"
      ],
      "execution_count": null,
      "outputs": [
        {
          "output_type": "stream",
          "name": "stdout",
          "text": [
            "Looking in indexes: https://pypi.org/simple, https://us-python.pkg.dev/colab-wheels/public/simple/\n",
            "Collecting git+https://github.com/ssut/py-hanspell.git\n",
            "  Cloning https://github.com/ssut/py-hanspell.git to /tmp/pip-req-build-mmzln4mu\n",
            "  Running command git clone -q https://github.com/ssut/py-hanspell.git /tmp/pip-req-build-mmzln4mu\n",
            "Requirement already satisfied: requests in /usr/local/lib/python3.7/dist-packages (from py-hanspell==1.1) (2.23.0)\n",
            "Requirement already satisfied: certifi>=2017.4.17 in /usr/local/lib/python3.7/dist-packages (from requests->py-hanspell==1.1) (2022.6.15)\n",
            "Requirement already satisfied: idna<3,>=2.5 in /usr/local/lib/python3.7/dist-packages (from requests->py-hanspell==1.1) (2.10)\n",
            "Requirement already satisfied: chardet<4,>=3.0.2 in /usr/local/lib/python3.7/dist-packages (from requests->py-hanspell==1.1) (3.0.4)\n",
            "Requirement already satisfied: urllib3!=1.25.0,!=1.25.1,<1.26,>=1.21.1 in /usr/local/lib/python3.7/dist-packages (from requests->py-hanspell==1.1) (1.24.3)\n",
            "Building wheels for collected packages: py-hanspell\n",
            "  Building wheel for py-hanspell (setup.py) ... \u001b[?25l\u001b[?25hdone\n",
            "  Created wheel for py-hanspell: filename=py_hanspell-1.1-py3-none-any.whl size=4868 sha256=e2413eae8a42ce2c84a96c574e790202be61954c430f076372fa84b6eacdc327\n",
            "  Stored in directory: /tmp/pip-ephem-wheel-cache-8j9jzl7b/wheels/ab/f5/7b/d4124bb329c905301baed80e2ae45aa14e824f62ebc3ec2cc4\n",
            "Successfully built py-hanspell\n",
            "Installing collected packages: py-hanspell\n",
            "Successfully installed py-hanspell-1.1\n"
          ]
        }
      ]
    },
    {
      "cell_type": "code",
      "metadata": {
        "colab": {
          "base_uri": "https://localhost:8080/"
        },
        "id": "doE5IVV4veCB",
        "outputId": "0f0a59d7-58fe-4750-83a5-d26bbce362a5"
      },
      "source": [
        "from hanspell import spell_checker\n",
        "\n",
        "sent = \"맞춤법 틀리면 외 않되? 쓰고싶은대로쓰면돼지 \"\n",
        "spelled_sent = spell_checker.check(sent)\n",
        "\n",
        "hanspell_sent = spelled_sent.checked\n",
        "print(hanspell_sent)"
      ],
      "execution_count": null,
      "outputs": [
        {
          "output_type": "stream",
          "name": "stdout",
          "text": [
            "맞춤법 틀리면 왜 안돼? 쓰고 싶은 대로 쓰면 되지\n"
          ]
        }
      ]
    },
    {
      "cell_type": "code",
      "metadata": {
        "colab": {
          "base_uri": "https://localhost:8080/"
        },
        "id": "zJl7RuexvhJR",
        "outputId": "6b5714a9-890b-498d-bc27-b6002dc537af"
      },
      "source": [
        "spelled_sent = spell_checker.check(new_sent)\n",
        "\n",
        "hanspell_sent = spelled_sent.checked\n",
        "print(hanspell_sent)\n",
        "# print(kospacing_sent) # 앞서 사용한 kospacing 패키지에서 얻은 결과"
      ],
      "execution_count": null,
      "outputs": [
        {
          "output_type": "stream",
          "name": "stdout",
          "text": [
            "김철수는 극 중 두 인격의 사나이 이광수 역을 맡았다. 철수는 한국 유일의 태권도 전승자를 가리는 결전의 날을 앞두고 10년간 함께 훈련한 사형인 유연제(김광수 분)를 찾으러 속세로 내려온 인물이다.\n"
          ]
        }
      ]
    },
    {
      "cell_type": "markdown",
      "metadata": {
        "id": "H-5-dJiuvfoa"
      },
      "source": [
        "이 패키지는 띄어쓰기 또한 보정합니다. PyKoSpacing에 사용한 예제를 그대로 사용해봅시다."
      ]
    },
    {
      "cell_type": "code",
      "metadata": {
        "colab": {
          "base_uri": "https://localhost:8080/"
        },
        "id": "r2HMqvFqvv-R",
        "outputId": "34349f87-8d34-413f-902a-1ac72ab9bac2"
      },
      "source": [
        "spelled_sent = spell_checker.check(new_sent)\n",
        "\n",
        "hanspell_sent = spelled_sent.checked\n",
        "print(hanspell_sent)\n",
        "# print(kospacing_sent) # 앞서 사용한 kospacing 패키지에서 얻은 결과"
      ],
      "execution_count": null,
      "outputs": [
        {
          "output_type": "stream",
          "name": "stdout",
          "text": [
            "김철수는 극 중 두 인격의 사나이 이광수 역을 맡았다. 철수는 한국 유일의 태권도 전승자를 가리는 결전의 날을 앞두고 10년간 함께 훈련한 사형인 유연제(김광수 분)를 찾으러 속세로 내려온 인물이다.\n"
          ]
        }
      ]
    },
    {
      "cell_type": "markdown",
      "metadata": {
        "id": "98XDII5Jzw8V"
      },
      "source": [
        "# SOYNLP를 이용한 단어 토큰화\n",
        "\n",
        "soynlp는 품사 태깅, 단어 토큰화 등을 지원하는 단어 토크나이저입니다. 비지도 학습으로 단어 토큰화를 한다는 특징을 갖고 있으며, 데이터에 자주 등장하는 단어들을 단어로 분석합니다. soynlp 단어 토크나이저는 내부적으로 단어 점수 표로 동작합니다. 이 점수는 응집 확률(cohesion probability)과 브랜칭 엔트로피(branching entropy)를 활용합니다."
      ]
    },
    {
      "cell_type": "code",
      "metadata": {
        "colab": {
          "base_uri": "https://localhost:8080/"
        },
        "id": "hs-oCl6Sz19M",
        "outputId": "515b6b7a-c5cf-4e52-8c64-016282d61ed3"
      },
      "source": [
        "!pip install soynlp\n",
        "!pip install konlpy"
      ],
      "execution_count": null,
      "outputs": [
        {
          "output_type": "stream",
          "name": "stdout",
          "text": [
            "Looking in indexes: https://pypi.org/simple, https://us-python.pkg.dev/colab-wheels/public/simple/\n",
            "Requirement already satisfied: soynlp in /usr/local/lib/python3.7/dist-packages (0.0.493)\n",
            "Requirement already satisfied: numpy>=1.12.1 in /usr/local/lib/python3.7/dist-packages (from soynlp) (1.21.6)\n",
            "Requirement already satisfied: scipy>=1.1.0 in /usr/local/lib/python3.7/dist-packages (from soynlp) (1.7.3)\n",
            "Requirement already satisfied: scikit-learn>=0.20.0 in /usr/local/lib/python3.7/dist-packages (from soynlp) (1.0.2)\n",
            "Requirement already satisfied: psutil>=5.0.1 in /usr/local/lib/python3.7/dist-packages (from soynlp) (5.4.8)\n",
            "Requirement already satisfied: threadpoolctl>=2.0.0 in /usr/local/lib/python3.7/dist-packages (from scikit-learn>=0.20.0->soynlp) (3.1.0)\n",
            "Requirement already satisfied: joblib>=0.11 in /usr/local/lib/python3.7/dist-packages (from scikit-learn>=0.20.0->soynlp) (1.1.0)\n",
            "Looking in indexes: https://pypi.org/simple, https://us-python.pkg.dev/colab-wheels/public/simple/\n",
            "Collecting konlpy\n",
            "  Downloading konlpy-0.6.0-py2.py3-none-any.whl (19.4 MB)\n",
            "\u001b[K     |████████████████████████████████| 19.4 MB 502 kB/s \n",
            "\u001b[?25hCollecting JPype1>=0.7.0\n",
            "  Downloading JPype1-1.4.0-cp37-cp37m-manylinux_2_5_x86_64.manylinux1_x86_64.whl (453 kB)\n",
            "\u001b[K     |████████████████████████████████| 453 kB 19.8 MB/s \n",
            "\u001b[?25hRequirement already satisfied: numpy>=1.6 in /usr/local/lib/python3.7/dist-packages (from konlpy) (1.21.6)\n",
            "Requirement already satisfied: lxml>=4.1.0 in /usr/local/lib/python3.7/dist-packages (from konlpy) (4.9.1)\n",
            "Requirement already satisfied: typing-extensions in /usr/local/lib/python3.7/dist-packages (from JPype1>=0.7.0->konlpy) (4.1.1)\n",
            "Installing collected packages: JPype1, konlpy\n",
            "Successfully installed JPype1-1.4.0 konlpy-0.6.0\n"
          ]
        }
      ]
    },
    {
      "cell_type": "markdown",
      "metadata": {
        "id": "ArRICPrm0GPD"
      },
      "source": [
        "1. 신조어 문제\n",
        "\n",
        "soynlp를 소개하기 전에 기존의 형태소 분석기가 가진 문제는 무엇이었는지, SOYNLP가 어떤 점에서 유용한지 정리해봅시다. 기존의 형태소 분석기는 신조어나 형태소 분석기에 등록되지 않은 단어 같은 경우에는 제대로 구분하지 못하는 단점이 있었습니다."
      ]
    },
    {
      "cell_type": "code",
      "metadata": {
        "colab": {
          "base_uri": "https://localhost:8080/"
        },
        "id": "XfxN9nfl0Jiy",
        "outputId": "0899d2d9-3893-493b-8efc-131fcd42ad49"
      },
      "source": [
        "from konlpy.tag import Okt\n",
        "tokenizer = Okt()\n",
        "print(tokenizer.morphs('에이비식스 이대휘 1월 최애돌 기부 요정'))"
      ],
      "execution_count": null,
      "outputs": [
        {
          "output_type": "stream",
          "name": "stdout",
          "text": [
            "['에이', '비식스', '이대', '휘', '1월', '최애', '돌', '기부', '요정']\n"
          ]
        }
      ]
    },
    {
      "cell_type": "markdown",
      "metadata": {
        "id": "NZiKWdSO0Lgc"
      },
      "source": [
        "에이비식스는 아이돌의 이름이고, 이대휘는 에이비식스의 멤버이며, 최애돌은 최고로 애정하는 캐릭터라는 뜻이지만 위의 형태소 분석 결과에서는 전부 분리된 결과를 보여줍니다.\n",
        "\n",
        "그렇다면 텍스트 데이터에서 특정 문자 시퀀스가 함께 자주 등장하는 빈도가 높고, 앞 뒤로 조사 또는 완전히 다른 단어가 등장하는 것을 고려해서 해당 문자 시퀀스를 형태소라고 판단하는 단어 토크나이저라면 어떨까요?\n",
        "\n",
        "예를 들어 에이비식스라는 문자열이 자주 연결되어 등장한다면 한 단어라고 판단하고, 또한 에이비식스라는 단어 앞, 뒤에 '최고', '가수', '실력'과 같은 독립된 다른 단어들이 계속해서 등장한다면 에이비식스를 한 단어로 파악하는 식이지요. 그리고 이런 아이디어를 가진 단어 토크나이저가 soynlp입니다.\n",
        "\n",
        "\n",
        "2. 학습하기\n",
        "\n",
        "soynlp는 기본적으로 학습에 기반한 토크나이저이므로 학습에 필요한 한국어 문서를 다운로드합니다."
      ]
    },
    {
      "cell_type": "code",
      "metadata": {
        "id": "ozzTo7h00K_T"
      },
      "source": [
        "import urllib.request\n",
        "from soynlp import DoublespaceLineCorpus\n",
        "from soynlp.word import WordExtractor"
      ],
      "execution_count": null,
      "outputs": []
    },
    {
      "cell_type": "code",
      "metadata": {
        "colab": {
          "base_uri": "https://localhost:8080/"
        },
        "id": "T1DZw3At0XG5",
        "outputId": "165b2d5d-fb2a-4a8e-9349-801991da6a29"
      },
      "source": [
        "urllib.request.urlretrieve(\"https://raw.githubusercontent.com/lovit/soynlp/master/tutorials/2016-10-20.txt\", filename=\"2016-10-20.txt\")"
      ],
      "execution_count": null,
      "outputs": [
        {
          "output_type": "execute_result",
          "data": {
            "text/plain": [
              "('2016-10-20.txt', <http.client.HTTPMessage at 0x7f08c3cd5190>)"
            ]
          },
          "metadata": {},
          "execution_count": 16
        }
      ]
    },
    {
      "cell_type": "code",
      "metadata": {
        "colab": {
          "base_uri": "https://localhost:8080/"
        },
        "id": "sX_FhooW0SLV",
        "outputId": "f99e65cf-b4a2-40cf-cd96-bfee028227a1"
      },
      "source": [
        "# 훈련 데이터를 다수의 문서로 분리\n",
        "corpus = DoublespaceLineCorpus(\"2016-10-20.txt\")\n",
        "len(corpus)"
      ],
      "execution_count": null,
      "outputs": [
        {
          "output_type": "execute_result",
          "data": {
            "text/plain": [
              "30091"
            ]
          },
          "metadata": {},
          "execution_count": 17
        }
      ]
    },
    {
      "cell_type": "code",
      "metadata": {
        "colab": {
          "base_uri": "https://localhost:8080/"
        },
        "id": "jKv814Vf0bs-",
        "outputId": "3921de4c-6ae4-4b4b-e41a-5cf2cbffc31b"
      },
      "source": [
        "i = 0\n",
        "for document in corpus:\n",
        "  if len(document) > 0:\n",
        "    print(document)\n",
        "    i = i+1\n",
        "  if i == 3:\n",
        "    break"
      ],
      "execution_count": null,
      "outputs": [
        {
          "output_type": "stream",
          "name": "stdout",
          "text": [
            "19  1990  52 1 22\n",
            "오패산터널 총격전 용의자 검거 서울 연합뉴스 경찰 관계자들이 19일 오후 서울 강북구 오패산 터널 인근에서 사제 총기를 발사해 경찰을 살해한 용의자 성모씨를 검거하고 있다 성씨는 검거 당시 서바이벌 게임에서 쓰는 방탄조끼에 헬멧까지 착용한 상태였다 독자제공 영상 캡처 연합뉴스  서울 연합뉴스 김은경 기자 사제 총기로 경찰을 살해한 범인 성모 46 씨는 주도면밀했다  경찰에 따르면 성씨는 19일 오후 강북경찰서 인근 부동산 업소 밖에서 부동산업자 이모 67 씨가 나오기를 기다렸다 이씨와는 평소에도 말다툼을 자주 한 것으로 알려졌다  이씨가 나와 걷기 시작하자 성씨는 따라가면서 미리 준비해온 사제 총기를 이씨에게 발사했다 총알이 빗나가면서 이씨는 도망갔다 그 빗나간 총알은 지나가던 행인 71 씨의 배를 스쳤다  성씨는 강북서 인근 치킨집까지 이씨 뒤를 쫓으며 실랑이하다 쓰러뜨린 후 총기와 함께 가져온 망치로 이씨 머리를 때렸다  이 과정에서 오후 6시 20분께 강북구 번동 길 위에서 사람들이 싸우고 있다 총소리가 났다 는 등의 신고가 여러건 들어왔다  5분 후에 성씨의 전자발찌가 훼손됐다는 신고가 보호관찰소 시스템을 통해 들어왔다 성범죄자로 전자발찌를 차고 있던 성씨는 부엌칼로 직접 자신의 발찌를 끊었다  용의자 소지 사제총기 2정 서울 연합뉴스 임헌정 기자 서울 시내에서 폭행 용의자가 현장 조사를 벌이던 경찰관에게 사제총기를 발사해 경찰관이 숨졌다 19일 오후 6시28분 강북구 번동에서 둔기로 맞았다 는 폭행 피해 신고가 접수돼 현장에서 조사하던 강북경찰서 번동파출소 소속 김모 54 경위가 폭행 용의자 성모 45 씨가 쏜 사제총기에 맞고 쓰러진 뒤 병원에 옮겨졌으나 숨졌다 사진은 용의자가 소지한 사제총기  신고를 받고 번동파출소에서 김창호 54 경위 등 경찰들이 오후 6시 29분께 현장으로 출동했다 성씨는 그사이 부동산 앞에 놓아뒀던 가방을 챙겨 오패산 쪽으로 도망간 후였다  김 경위는 오패산 터널 입구 오른쪽의 급경사에서 성씨에게 접근하다가 오후 6시 33분께 풀숲에 숨은 성씨가 허공에 난사한 10여발의 총알 중 일부를 왼쪽 어깨 뒷부분에 맞고 쓰러졌다  김 경위는 구급차가 도착했을 때 이미 의식이 없었고 심폐소생술을 하며 병원으로 옮겨졌으나 총알이 폐를 훼손해 오후 7시 40분께 사망했다  김 경위는 외근용 조끼를 입고 있었으나 총알을 막기에는 역부족이었다  머리에 부상을 입은 이씨도 함께 병원으로 이송됐으나 생명에는 지장이 없는 것으로 알려졌다  성씨는 오패산 터널 밑쪽 숲에서 오후 6시 45분께 잡혔다  총격현장 수색하는 경찰들 서울 연합뉴스 이효석 기자 19일 오후 서울 강북구 오패산 터널 인근에서 경찰들이 폭행 용의자가 사제총기를 발사해 경찰관이 사망한 사건을 조사 하고 있다  총 때문에 쫓던 경관들과 민간인들이 몸을 숨겼는데 인근 신발가게 직원 이모씨가 다가가 성씨를 덮쳤고 이어 현장에 있던 다른 상인들과 경찰이 가세해 체포했다  성씨는 경찰에 붙잡힌 직후 나 자살하려고 한 거다 맞아 죽어도 괜찮다 고 말한 것으로 전해졌다  성씨 자신도 경찰이 발사한 공포탄 1발 실탄 3발 중 실탄 1발을 배에 맞았으나 방탄조끼를 입은 상태여서 부상하지는 않았다  경찰은 인근을 수색해 성씨가 만든 사제총 16정과 칼 7개를 압수했다 실제 폭발할지는 알 수 없는 요구르트병에 무언가를 채워두고 심지를 꽂은 사제 폭탄도 발견됐다  일부는 숲에서 발견됐고 일부는 성씨가 소지한 가방 안에 있었다\n",
            "테헤란 연합뉴스 강훈상 특파원 이용 승객수 기준 세계 최대 공항인 아랍에미리트 두바이국제공항은 19일 현지시간 이 공항을 이륙하는 모든 항공기의 탑승객은 삼성전자의 갤럭시노트7을 휴대하면 안 된다고 밝혔다  두바이국제공항은 여러 항공 관련 기구의 권고에 따라 안전성에 우려가 있는 스마트폰 갤럭시노트7을 휴대하고 비행기를 타면 안 된다 며 탑승 전 검색 중 발견되면 압수할 계획 이라고 발표했다  공항 측은 갤럭시노트7의 배터리가 폭발 우려가 제기된 만큼 이 제품을 갖고 공항 안으로 들어오지 말라고 이용객에 당부했다  이런 조치는 두바이국제공항 뿐 아니라 신공항인 두바이월드센터에도 적용된다  배터리 폭발문제로 회수된 갤럭시노트7 연합뉴스자료사진\n"
          ]
        }
      ]
    },
    {
      "cell_type": "code",
      "metadata": {
        "colab": {
          "base_uri": "https://localhost:8080/"
        },
        "id": "CLNlJfkO0gI9",
        "outputId": "42a152ac-c1a3-41cf-e097-6d5aeb003540"
      },
      "source": [
        "word_extractor = WordExtractor()\n",
        "word_extractor.train(corpus)\n",
        "word_score_table = word_extractor.extract()"
      ],
      "execution_count": null,
      "outputs": [
        {
          "output_type": "stream",
          "name": "stdout",
          "text": [
            "training was done. used memory 1.782 Gb\n",
            "all cohesion probabilities was computed. # words = 223348\n",
            "all branching entropies was computed # words = 361598\n",
            "all accessor variety was computed # words = 361598\n"
          ]
        }
      ]
    },
    {
      "cell_type": "markdown",
      "metadata": {
        "id": "Tenps97U0eSi"
      },
      "source": [
        "정상 출력되는 것을 확인하였습니다. soynlp는 학습 기반의 단어 토크나이저이므로 기존의 KoNLPy에서 제공하는 형태소 분석기들과는 달리 학습 과정을 거쳐야 합니다. 이는 전체 코퍼스로부터 응집 확률과 브랜칭 엔트로피 단어 점수표를 만드는 과정입니다. WordExtractor.extract()를 통해서 전체 코퍼스에 대해 단어 점수표를 계산합니다."
      ]
    },
    {
      "cell_type": "code",
      "metadata": {
        "colab": {
          "base_uri": "https://localhost:8080/"
        },
        "id": "6eOcZRpq5Vdy",
        "outputId": "307c008d-51b0-4651-c841-57f80e63411a"
      },
      "source": [
        "word_extractor = WordExtractor()\n",
        "word_extractor.train(corpus)\n",
        "word_score_table = word_extractor.extract()"
      ],
      "execution_count": null,
      "outputs": [
        {
          "output_type": "stream",
          "name": "stdout",
          "text": [
            "training was done. used memory 1.843 Gb\n",
            "all cohesion probabilities was computed. # words = 223348\n",
            "all branching entropies was computed # words = 361598\n",
            "all accessor variety was computed # words = 361598\n"
          ]
        }
      ]
    },
    {
      "cell_type": "markdown",
      "metadata": {
        "id": "WXAaTvPR5Zvn"
      },
      "source": [
        "# SOYNLP의 응집 확률(cohesion probability)\n",
        "\n",
        "응집 확률은 내부 문자열(substring)이 얼마나 응집하여 자주 등장하는지를 판단하는 척도입니다. 응집 확률은 문자열을 문자 단위로 분리하여 내부 문자열을 만드는 과정에서 왼쪽부터 순서대로 문자를 추가하면서 각 문자열이 주어졌을 때 그 다음 문자가 나올 확률을 계산하여 누적곱을 한 값입니다. 이 값이 높을수록 전체 코퍼스에서 이 문자열 시퀀스는 하나의 단어로 등장할 가능성이 높습니다. 수식은 아래와 같습니다.\n",
        "\n",
        "<figure>\n",
        "<img src = 'https://wikidocs.net/images/page/92961/%EC%88%98%EC%8B%9D.png'>\n",
        "<figure>\n",
        "\n",
        "'반포한강공원에'라는 7의 길이를 가진 문자 시퀀스에 대해서 각 내부 문자열의 스코어를 구하는 과정은 아래와 같습니다.\n",
        "\n",
        "<figure>\n",
        "<img src = 'https://wikidocs.net/images/page/92961/%EC%88%98%EC%8B%9D2.png'>\n",
        "<figure>\n",
        "\n",
        "실습을 통해 직접 응집 확률을 계산해보겠습니다"
      ]
    },
    {
      "cell_type": "code",
      "metadata": {
        "colab": {
          "base_uri": "https://localhost:8080/"
        },
        "id": "FI3ldGli5yOL",
        "outputId": "db261684-cfd9-4bd1-dac2-ee9f82fb539e"
      },
      "source": [
        "word_score_table[\"반포한\"].cohesion_forward"
      ],
      "execution_count": null,
      "outputs": [
        {
          "output_type": "execute_result",
          "data": {
            "text/plain": [
              "0.08838002913645132"
            ]
          },
          "metadata": {},
          "execution_count": 21
        }
      ]
    },
    {
      "cell_type": "markdown",
      "metadata": {
        "id": "2FJyxKWx51NQ"
      },
      "source": [
        "그렇다면 '반포한강'의 응집 확률은 '반포한'의 응집 확률보다 높을까요?"
      ]
    },
    {
      "cell_type": "code",
      "metadata": {
        "colab": {
          "base_uri": "https://localhost:8080/"
        },
        "id": "4tb-LQ5C54Wu",
        "outputId": "39376278-e1e5-4289-c017-7de1aae33a98"
      },
      "source": [
        "word_score_table[\"반포한강\"].cohesion_forward"
      ],
      "execution_count": null,
      "outputs": [
        {
          "output_type": "execute_result",
          "data": {
            "text/plain": [
              "0.19841268168224552"
            ]
          },
          "metadata": {},
          "execution_count": 22
        }
      ]
    },
    {
      "cell_type": "markdown",
      "metadata": {
        "id": "hYI4plFD56IZ"
      },
      "source": [
        "'반포한강'은 '반포한'보다 응집 확률이 높습니다. 그렇다면 '반포한강공'은 어떨까요?"
      ]
    },
    {
      "cell_type": "code",
      "metadata": {
        "colab": {
          "base_uri": "https://localhost:8080/"
        },
        "id": "d564rhpI58Tx",
        "outputId": "69a947f1-d0ac-4039-9411-2ae3f38e2626"
      },
      "source": [
        "word_score_table[\"반포한강공\"].cohesion_forward"
      ],
      "execution_count": null,
      "outputs": [
        {
          "output_type": "execute_result",
          "data": {
            "text/plain": [
              "0.2972877884078849"
            ]
          },
          "metadata": {},
          "execution_count": 23
        }
      ]
    },
    {
      "cell_type": "markdown",
      "metadata": {
        "id": "Gh5_y1nh5-ar"
      },
      "source": [
        "역시나 '반포한강'보다 응집 확률이 높습니다. '반포한강공원'은 어떨까요?"
      ]
    },
    {
      "cell_type": "code",
      "metadata": {
        "colab": {
          "base_uri": "https://localhost:8080/"
        },
        "id": "JJeNLZlN6AOP",
        "outputId": "b062b083-cda7-4713-a52b-ee5f5ff9e380"
      },
      "source": [
        "word_score_table[\"반포한강공원\"].cohesion_forward"
      ],
      "execution_count": null,
      "outputs": [
        {
          "output_type": "execute_result",
          "data": {
            "text/plain": [
              "0.37891487632839754"
            ]
          },
          "metadata": {},
          "execution_count": 24
        }
      ]
    },
    {
      "cell_type": "markdown",
      "metadata": {
        "id": "gySYEHLX6BxT"
      },
      "source": [
        "'반포한강공'보다 응집 확률이 높습니다. 여기다가 조사 '에'를 붙인 '반포한강공원에'는 어떨까요?"
      ]
    },
    {
      "cell_type": "code",
      "metadata": {
        "colab": {
          "base_uri": "https://localhost:8080/"
        },
        "id": "FhQGhujV6Dp1",
        "outputId": "7a314177-568f-44fa-f823-165f058ebede"
      },
      "source": [
        "word_score_table[\"반포한강공원에\"].cohesion_forward"
      ],
      "execution_count": null,
      "outputs": [
        {
          "output_type": "execute_result",
          "data": {
            "text/plain": [
              "0.33492963377557666"
            ]
          },
          "metadata": {},
          "execution_count": 25
        }
      ]
    },
    {
      "cell_type": "markdown",
      "metadata": {
        "id": "fQMfrAgW6FTB"
      },
      "source": [
        "오히려 '반포한강공원'보다 응집도가 낮아집니다. 결국 결합도는 '반포한강공원'일 때가 가장 높았습니다. 응집도를 통해 판단하기에 하나의 단어로 판단하기에 가장 적합한 문자열은 '반포한강공원'이라고 볼 수 있겠네요."
      ]
    },
    {
      "cell_type": "markdown",
      "metadata": {
        "id": "TujL6BDkm5lY"
      },
      "source": [
        "# 언어 모델(Language Model)\n",
        "\n",
        "- 언어 모델(Language Model)이란 단어 시퀀스(문장)에 확률을 할당하는 모델을 말함. 어떤 문장들이 있을 때, 적절한지 사람처럼 판단할 수 있다면, 기계가 자연어 처리를 정말 잘한다고 볼 수 있음 -> 언어 모델이 하는 일\n",
        "\n",
        "- 크게는 통계를 이용한 방법과 인공 신경망을 이용한 방법으로 구분이 가능. 최근 핫한 자연어 처리 신기술인  GPT 나 Bert, Transformer 또한 인공 신경망 모델 기반\n"
      ]
    },
    {
      "cell_type": "markdown",
      "source": [
        "## 주어진 이전 단어들로부터 다음 단어 예측하기\n",
        "\n",
        "- 확률을 할당하기 위해서 가장 보편적으로 사용되는 방법은 언어 모델이 이전 단어들이 주어졌을 때 다음 단어를 예측하도록 하는 것이다.\n",
        "\n",
        "- 자연어 처리로 유명한 스탠포드 대학교에서는 언어 모델을 문법(Grammar)이라고 비유한다.\n",
        "\n",
        "\n",
        "### 단어 시퀀스의 확률\n",
        "- 하나의 단어를 w, 단어 시퀀스를 대문자 W라고 한다면, n개의 단어가 등장하는 단어 시퀀스 W의 확률은 다음과 같다. P의 확률\n",
        "\n",
        "$~~~~~~~~~~~~~~~~~~~~~~~~~~~~~~~~~~~~~~~~~~~~~~~~~~~~~~~~P(W) = P(w_1, w_2, w_3, \\cdots, w_n)$\n",
        "\n",
        "- 언어 모델이 단어들의 조합이 얼마나 적절한지, 또는 해당 문장이 얼마나 적합한지를 알려주는 일을 하기 때문."
      ],
      "metadata": {
        "id": "FArYmfDwTxGM"
      }
    },
    {
      "cell_type": "markdown",
      "metadata": {
        "id": "OLfq4_JK3UDv"
      },
      "source": [
        "-  문장의 확률을 예측하는 일이 왜 필요한가?\n",
        "\n",
        "\n",
        "언어 모델은 문장의 확률을 예측하는 일이다. 그럼 문장의 확률을 예측하는 것이 왜 필요한지 예를 들어보도록 한다. 여기서 대문자 P는 확률을 의미한다.\n",
        "\n",
        " - a. 기계 번역(Machine Translation)\n",
        "  - P(나는 버스를 탔다) > P(나는 버스를 태운다)\n",
        "\n",
        "   : 언어 모델은 두 문장을 비교하여 좌측의 문장의 확률이 더 높다고 판단한다.\n",
        "\n",
        " - b. 오타 교정(Spell Correction)\n",
        "\n",
        "    - 선생님이 교실로 부리나케\n",
        "\n",
        "    - P(달려갔다) > P(잘려갔다)\n",
        "\n",
        "    - : 언어 모델은 두 문장을 비교하여 좌측의 문장이 확률이 더 높다고 판단한다.\n",
        "\n",
        " - c. 음성 인식(Speech Recognition)\n",
        "\n",
        "    - P(나는 메롱을 먹는다) < P(나는 메론을 먹는다)\n",
        "\n",
        "    - : 언어 모델은 두 문장을 비교하여 우측의 문장의 확률이 더 높다고 판단한다.\n",
        "\n",
        " - 언어 모델은 위와 같이 보다 **적절한 문장을 선택하는 일에 확률**을 사용한다.\n",
        "\n",
        "\n",
        "\n",
        "#### 문장의 확률 예측\n",
        "\n",
        "\n",
        "- 하나의 단어(word)를 w라고 하자. 단어의 시퀀스인 전체 문장(sentence)을 대문자 W라고 하자. n개의 w로 구성된 문장 W의 확률은 다음과 같이 표현\n",
        "\n",
        " - ${P(W) = P(w_{1},w_{2},w_{3},w_{4},w_{5}, {\\dots}, w_{n}) = {\\Pi_{i=1}^{n}} P(w_n) }$\n"
      ]
    },
    {
      "cell_type": "markdown",
      "source": [
        "## 통계적 언어 모델(Statistical Language Model, SLM)\n",
        "- 언어 모델의 전통적인 접근 방법인 통계적 언어 모델."
      ],
      "metadata": {
        "id": "4CH9Shhue7Nw"
      }
    },
    {
      "cell_type": "markdown",
      "metadata": {
        "id": "jXjjzD0W6a3Z"
      },
      "source": [
        "### 연쇄 법칙(Chain rule)\n",
        "\n",
        "$~~~~~~P(x_1,x_2,x_3,\\cdots, x_n) = P(x_1)P(x_2|x_1)P(x_3|x_1,x_2) \\dots P(x_n|x_1,\\dots,x_{n-1})$\n",
        "\n",
        "이 조건부 확률을 이용하여 '안녕하세요 저는 딥러능을 공부하고 있습니다.'라는 문장의 확률을 구해보자. \n",
        "\n",
        "$P(안녕하세요~저는~딥러닝을~공부하고~있습니다) = P(안녕하세요)\\times P(저는|안녕하세요)\\times P(딥러닝을|안녕하세요~저는) \\times \\dots P(있습니다.|안녕하세요~저는~딥러닝을 공부하고)$\n",
        "\n",
        "해당 문장의 확률은\n",
        "'안녕하세요'가 나올 확률 X\n",
        "'안녕하세요'가 나오고 '저는'이 나올 확률 X\n",
        "'안녕하세요 저는'이 나오고 '딥러닝을'이 나올확률 X ...X\n",
        "'안녕하세요 저는 딥러닝을 공부하고 있습니다.'나오고 '있습니다'가 나올 확률이다.\n",
        "\n",
        "결론은 문장의 확률을 구하기 위해서 각 단어에 대한 예측 확률들을 곱한다.\n",
        "\n",
        "\n",
        "\n"
      ]
    },
    {
      "cell_type": "markdown",
      "source": [
        "### 카운트 기반의 접근\n",
        "\n",
        "- 문장의 확률을 구하기 위해 각 단어에 대한 예측 확률을 모두 곱한다는 것은 알겠지만, 이전 단어로부터 다음 단어에 대한 확률은 어떻게 구할까? 그것은 바로 카운트에 기반하여 확률을 계싼.\n",
        "\n",
        "'안녕하세요 저는 딥러닝을 공부하고'가 나왔을 때 '있습니다'가 나올 확률을 구해보자.\n",
        "\n",
        "$P(있습니다|안녕하세요~저는~딥러닝을~공부하고) = {\\frac{count(안녕하세요저는딥러닝을공부하고있습니다)}{count(안녕하세요저는딥러닝을공부하고)}}$\n",
        "\n",
        "단순히 학습한 코퍼스 데이터에서 '안녕하세요 저는 딥러닝을 공부하고'가 100번 등장하고, 그 다음에 '있습니다'가 등장한 경우가 30번이라고 한다면 P(있습니다|안녕하세요저는딥러닝을공부하고)는 30%가 된다.\n",
        "\n",
        "\n",
        "#### 카운터 기반의 한계 - 희소 문제(Sparsity Problem)\n",
        "\n",
        "- 기계에서 많은 코퍼스를 훈련시켜서 언어 모델을 통해 현실에서의 확률 분포를 근사하는 것이 언어 모델의 목표이다. 하지만, 카운트 기반으로 접근하려고 한다면 갖고 있는 코퍼스(Corpus) 즉, 다시 말해 기계가 훈련하는 데이터는 정말 방대한 양이다.\n",
        "\n",
        "- 위의 카운트 기반 조건부 확률을 구하는 공식에서 분모에 해당하는 카운트 수가 0이면 확률이 정의될 수 가 없다. 쉽게 말해, 학습 데이터를 통해 카운트가 한 번도 되지 않거나 아주 적게되는 경우 언어를 정확히 모델링하지 못하는 문제가 생긴다.\n",
        "\n",
        "- 이러한 문제를 완화하기 위해 n-gram이나 스무딩 백오프와 같은 여러가지 일반화(Generalization) 기법이 존재한다. 하지만 근본적 해결책은 되지 못하기에, 통계적 언어 모델에서 인공 신경망 언어 모델로 트렌트가 바뀌었다."
      ],
      "metadata": {
        "id": "Hw2ubVnegw41"
      }
    },
    {
      "cell_type": "markdown",
      "source": [
        "## N-gram 언어 모델(N-gram Language Model)\n",
        "\n",
        "- n-gram 또한 카운트 기반 통계적 접근 언어 모델이므로 통계적 언어 모델의 일종이다. 하지만 모든 단어를 고려하는 것이 아니고, 일부 단어만 고려하는 접근 방법을 사용. 이 때, 일부 단어를 몇개 보느냐를 결정하는데 이것이 N-gram의 N을 의미한다.\n",
        "\n",
        "###  코퍼스에서 카운트하지 못하는 경우를 감소\n",
        "SLM의 한계는 훈련 코퍼스에 확률을 계산하고 싶은 문장이나 단어가 없을 수 있다는 점이다. 또한 문장이 길어질수록 갖고있는 코퍼스에서 그 문장이 존재하지 않을(카운트할 수 없을) 가능성이 높다. 그런데 다음과 같이 참고하는 단어들을 줄이면 카운트를 할 수 있을 가능성이 높일 수 있다.\n",
        "\n",
        "가령, An adorable little boy가 나왔을 때 is가 나올 확률을 그냥 boy가 나왔을 때 is가 나올 확률로 생각해보는 건 어떨까? 갖고있는 코퍼스에 An adorable little boy is가 있을 가능성 보다는 boy is라는 더 짧은 단어 시퀀스가 존재할 가능성이 더 높다.\n",
        "\n",
        "즉, 앞에서는 An adorable little boy가 나왔을 때 is가 나올 확률을 구하기 위해서는 An adorable little boy가 나온 횟수와 An adorable little boy is가 나온 횟수를 카운트해야만 했지만, 이제는 단어의 확률을 구하고자 기준 단어의 앞 단어를 전부 포함해서 카운트하는 것이 아니라, 앞 단어 중 임의의 개수만 포함해서 카운트하여 근사하자는 것이다. 이렇게 하면 갖고 있는 코퍼스에서 해당 단어의 시퀀스를 카운트할 확률이 높아집니다.\n",
        "\n",
        "\n",
        "\n",
        "\n",
        "예를 들어 '안녕하세요 저는 딥러닝을 공부하고 있습니다.' 라는 문장에 대해 n-gram을 전부 구해보면 아래와 같다.\n",
        "\n",
        "unigrams : 안녕하세요 / 저는 / 딥러닝을 / 공부하고 / 있습니다.\n",
        "bigrams : 안녕하세요 저는 / 저는 딥러닝을 / 딥러닝을 공부하고 / 공부하고 있습니다.\n",
        "trigrams : 안녕하세요 저는 딥러닝을 / 저는 딥러닝을 공부하고 / 딥러닝을 공부하고 있습니다.\n",
        "4-grams : 안녕하세요 저는 딥러닝을 공부하고 / 저는 딥러닝을 공부하고 있습니다.\n",
        "\n",
        "n-gram을 통한 언어 모델에서는 다음에 나올 단어의 예측은 오직 n-1개의 단어에만 의존한다. 예를 들어 '안녕하세요 저는 딥러닝을 공부하고' 다음에 나올 단어를 예측하고 싶다고 할 때, n=3 라고 한 3-gram을 이용한 언어 모델을 사용한다고 합시다. 이 경우, 공부하고 다음에 올 단어를 예측하는 것은 다른 부분은 제외한 n-1에 해당되는 앞의 2개의 단어(예제에서 '딥러닝을 공부하고')만을 고려합니다.\n",
        "\n",
        "\n",
        "\n",
        "\n",
        "## 유니그램 모형\n",
        "- 만약 모든 단어의 활용이 완전히 서로 독립이라면, 단어 열의 확률은 다음과 같이 각 단어의 확률의 곱이 된다. 이러한 모형을 유니그램 모형이라고 한다.\n",
        "\n",
        "$~~~~~~~~~~~~~~~~~~~~~~~~~~~~~~~~~~~~~~~~~~P(w_1,w_2,\\cdots,w_m) = \\Pi_{i=1}^m P(w_i)$\n",
        "\n",
        "## 바이그램 모형\n",
        "- 만약 단어의 활용이 바로 전 단어에만 의존한다면 단어 열의 확률은 다음과 같다. 이러한 모형을 바이그램 모형 또는 마코프 모형(markov model)이라고 한다.\n",
        "\n",
        "$~~~~~~~~~~~~~~~~~~~~~~~~~~~~~~~~~~~~~~~~~~P(w_1,w_2,\\cdots,w_m) = P(w_1) \\Pi_{i=2}^m P(w_i {\\mid} w_{i-1})$\n",
        "\n",
        "## N-gram 모형\n",
        "\n",
        "- 만약 단어의 활용이 바로 전 $n-1$개의 단어에만 의존한다면 단어 열의 확률은 다음과 같다. 이러한 모형을 N그램 모형이라고 한다.\n",
        "\n",
        "$~~~~~~~~~~~~~~~~~~~~~~~~~~~~~~~~~~~~~~~~~~P(w_1,w_2,\\cdots,w_m) = P(w_1) \\Pi_{i=n}^m P(w_i {\\mid} w_{i-1}, \\cdots,w_{i-n})$"
      ],
      "metadata": {
        "id": "-yVsc_3vgv5r"
      }
    },
    {
      "cell_type": "markdown",
      "source": [
        "### N-gram의 한계\n",
        "예를 들어서 '골목에서 담배를 피던 소녀가 나를 쳐다봐서 [ ].' 라는 문장의 마지막에 들어갈 단어를 정하는데, 4-gram 이라 가정한다면 소녀가 나를 쳐다봐서 '설레였다' 라는 문장이 카운트가 많이 되서 결정 될 수 있다는 점이다. 근처 단어 몇 개만 고려하니, 문장 앞쪽의 '골목에서 담배를 피던'이란 수식어가 반영이 되지 않아 '무서웠다'와 같이 의도하고 싶은 대로 문장을 끝맺음하지 못하는 경우가 생긴다는 점이다. 뿐만아니라 여전히 카운트를 기반으로 하기때문에 희소 문제가 존재한다.\n",
        "\n",
        "➕ n 을 선택하는 것은 trade-off 문제\n",
        "trade-off 란, 질과 량 가운데 어느 한편을 늘리면 다른 한편은 그 만큼 줄어드는 것을 이르는 말이다.\n",
        "혹시나 나처럼 trade-off의 뜻을 모르는 분들을 위해 적어둔다.\n",
        "\n",
        "n을 크게하면 실제 훈련 코퍼스에서 해당 n-gram을 카운트할 수 있는 확률은 적어지므로 희소 문제는 점점 심각해지고, 모델 사이즈가 커진다는 문제점도 있다. 기본적으로 코퍼스의 모든 n-gram에 대해서 카운트를 해야 하기 때문이다.\n",
        "\n",
        "n을 작게 선택하면 훈련 코퍼스에서 카운트는 잘 되겠지만 근사의 정확도는 현실의 확률분포와 멀어진다. 그렇기 때문에 적절한 n을 선택해야 합니다. 앞서 언급한 trade-off 문제로 인해 정확도를 높이려면 n은 최대 5를 넘게 잡아서는 안 된다고 권장되고 있다.\n",
        "\n",
        "그래도 n을 1보다는 2로 선택하는 것은 거의 대부분의 경우에서 언어 모델의 성능을 높일 수 있다."
      ],
      "metadata": {
        "id": "fFduTe_Li1TB"
      }
    },
    {
      "cell_type": "markdown",
      "metadata": {
        "id": "PSEaDBDYBWyb"
      },
      "source": [
        "# 조건부 확률 추정 방법\n"
      ]
    },
    {
      "cell_type": "code",
      "metadata": {
        "id": "d-nMnQUVCFTg",
        "colab": {
          "base_uri": "https://localhost:8080/"
        },
        "outputId": "0b6fe232-829c-443f-dbbd-7456ab49eeda"
      },
      "source": [
        "from nltk import ConditionalFreqDist\n",
        "from nltk.tokenize import word_tokenize\n",
        "from nltk.util import ngrams\n",
        "\n",
        "import numpy as np\n",
        "import nltk\n",
        "nltk.download('punkt')\n",
        "\n",
        "sentence = \"I am a boy.\"\n",
        "tokens = word_tokenize(sentence)\n",
        "bigram = ngrams(tokens, 2, pad_left=True, pad_right=True, left_pad_symbol=\"SS\", right_pad_symbol=\"SE\")\n",
        "cfd = ConditionalFreqDist([(t[0], t[1]) for t in bigram])"
      ],
      "execution_count": null,
      "outputs": [
        {
          "output_type": "stream",
          "name": "stderr",
          "text": [
            "[nltk_data] Downloading package punkt to /root/nltk_data...\n",
            "[nltk_data]   Package punkt is already up-to-date!\n"
          ]
        }
      ]
    },
    {
      "cell_type": "code",
      "metadata": {
        "colab": {
          "base_uri": "https://localhost:8080/"
        },
        "id": "mNlg3YsxCFbo",
        "outputId": "b5d4827e-6eb2-4b7e-c28b-51d7328e1d4b"
      },
      "source": [
        "cfd.conditions()"
      ],
      "execution_count": null,
      "outputs": [
        {
          "output_type": "execute_result",
          "data": {
            "text/plain": [
              "['SS', 'I', 'am', 'a', 'boy', '.']"
            ]
          },
          "metadata": {},
          "execution_count": 4
        }
      ]
    },
    {
      "cell_type": "code",
      "metadata": {
        "colab": {
          "base_uri": "https://localhost:8080/"
        },
        "id": "WrpD6ErXCHMJ",
        "outputId": "e27c438d-451a-4dab-fef4-00a6917924f9"
      },
      "source": [
        "cfd[\"SS\"]"
      ],
      "execution_count": null,
      "outputs": [
        {
          "output_type": "execute_result",
          "data": {
            "text/plain": [
              "FreqDist({'I': 1})"
            ]
          },
          "metadata": {},
          "execution_count": 5
        }
      ]
    },
    {
      "cell_type": "markdown",
      "metadata": {
        "id": "BMaVUgPfP0JV"
      },
      "source": [
        "다음은 nltk 패키지의 샘플 코퍼스인 movie_reviews의 텍스트로부터 바이그램 확률을 추정하는 예제이다."
      ]
    },
    {
      "cell_type": "code",
      "metadata": {
        "colab": {
          "base_uri": "https://localhost:8080/"
        },
        "id": "xBc_f1lQCIjl",
        "outputId": "24456544-5b82-40d9-a236-f5bb556d3524"
      },
      "source": [
        "import nltk\n",
        "nltk.download('movie_reviews')\n",
        "nltk.download('punkt')\n",
        "from nltk.corpus import movie_reviews\n",
        "\n",
        "sentences = []\n",
        "for tokens in movie_reviews.sents():\n",
        "    bigram = ngrams(tokens, 2, pad_left=True, pad_right=True, left_pad_symbol=\"SS\", right_pad_symbol=\"SE\")\n",
        "    sentences += [t for t in bigram]\n",
        "\n",
        "sentences[:20]"
      ],
      "execution_count": null,
      "outputs": [
        {
          "output_type": "stream",
          "name": "stderr",
          "text": [
            "[nltk_data] Downloading package movie_reviews to /root/nltk_data...\n",
            "[nltk_data]   Package movie_reviews is already up-to-date!\n",
            "[nltk_data] Downloading package punkt to /root/nltk_data...\n",
            "[nltk_data]   Package punkt is already up-to-date!\n"
          ]
        },
        {
          "output_type": "execute_result",
          "data": {
            "text/plain": [
              "[('SS', 'plot'),\n",
              " ('plot', ':'),\n",
              " (':', 'two'),\n",
              " ('two', 'teen'),\n",
              " ('teen', 'couples'),\n",
              " ('couples', 'go'),\n",
              " ('go', 'to'),\n",
              " ('to', 'a'),\n",
              " ('a', 'church'),\n",
              " ('church', 'party'),\n",
              " ('party', ','),\n",
              " (',', 'drink'),\n",
              " ('drink', 'and'),\n",
              " ('and', 'then'),\n",
              " ('then', 'drive'),\n",
              " ('drive', '.'),\n",
              " ('.', 'SE'),\n",
              " ('SS', 'they'),\n",
              " ('they', 'get'),\n",
              " ('get', 'into')]"
            ]
          },
          "metadata": {},
          "execution_count": 6
        }
      ]
    },
    {
      "cell_type": "code",
      "metadata": {
        "id": "grNPlQEgP1NQ"
      },
      "source": [
        "cfd = ConditionalFreqDist(sentences)"
      ],
      "execution_count": null,
      "outputs": []
    },
    {
      "cell_type": "code",
      "metadata": {
        "colab": {
          "base_uri": "https://localhost:8080/"
        },
        "id": "Xa9hFFDxP2Tp",
        "outputId": "649b4cf3-ed6a-4cfe-e975-51dba8f34524"
      },
      "source": [
        "cfd[\"SS\"].most_common(5)"
      ],
      "execution_count": null,
      "outputs": [
        {
          "output_type": "execute_result",
          "data": {
            "text/plain": [
              "[('the', 7965), ('it', 3038), ('i', 2350), ('but', 1754), ('he', 1642)]"
            ]
          },
          "metadata": {},
          "execution_count": 8
        }
      ]
    },
    {
      "cell_type": "code",
      "metadata": {
        "colab": {
          "base_uri": "https://localhost:8080/"
        },
        "id": "Iw0a8qtIP3PW",
        "outputId": "a1d99a2e-e65a-4d63-f0f8-2110f27a8d53"
      },
      "source": [
        "cfd[\"i\"].most_common(5)"
      ],
      "execution_count": null,
      "outputs": [
        {
          "output_type": "execute_result",
          "data": {
            "text/plain": [
              "[(\"'\", 1357), ('was', 506), ('can', 351), ('have', 330), ('don', 276)]"
            ]
          },
          "metadata": {},
          "execution_count": 9
        }
      ]
    },
    {
      "cell_type": "code",
      "metadata": {
        "colab": {
          "base_uri": "https://localhost:8080/"
        },
        "id": "wjV4OOG6P9uP",
        "outputId": "cf3bf0a4-539f-411c-8553-cc6314dccd5d"
      },
      "source": [
        "cfd[\".\"].most_common(5)"
      ],
      "execution_count": null,
      "outputs": [
        {
          "output_type": "execute_result",
          "data": {
            "text/plain": [
              "[('SE', 57626), ('.', 1893), ('\"', 1854), (')', 535), ('s', 129)]"
            ]
          },
          "metadata": {},
          "execution_count": 10
        }
      ]
    },
    {
      "cell_type": "markdown",
      "source": [
        "한글 폰트 참고 : https://teddylee777.github.io/colab/colab-korean"
      ],
      "metadata": {
        "id": "gZNVBbMJkPPr"
      }
    },
    {
      "cell_type": "code",
      "source": [
        "!sudo apt-get install -y fonts-nanum\n",
        "!sudo fc-cache -fv\n",
        "!rm ~/.cache/matplotlib -rf"
      ],
      "metadata": {
        "colab": {
          "base_uri": "https://localhost:8080/"
        },
        "id": "8Hb0s6OlkSH8",
        "outputId": "51aa8b31-a018-44ee-b693-4b65b22b3c90"
      },
      "execution_count": null,
      "outputs": [
        {
          "output_type": "stream",
          "name": "stdout",
          "text": [
            "Reading package lists... Done\n",
            "Building dependency tree       \n",
            "Reading state information... Done\n",
            "fonts-nanum is already the newest version (20170925-1).\n",
            "The following package was automatically installed and is no longer required:\n",
            "  libnvidia-common-460\n",
            "Use 'sudo apt autoremove' to remove it.\n",
            "0 upgraded, 0 newly installed, 0 to remove and 20 not upgraded.\n",
            "/usr/share/fonts: caching, new cache contents: 0 fonts, 1 dirs\n",
            "/usr/share/fonts/truetype: caching, new cache contents: 0 fonts, 3 dirs\n",
            "/usr/share/fonts/truetype/humor-sans: caching, new cache contents: 1 fonts, 0 dirs\n",
            "/usr/share/fonts/truetype/liberation: caching, new cache contents: 16 fonts, 0 dirs\n",
            "/usr/share/fonts/truetype/nanum: caching, new cache contents: 10 fonts, 0 dirs\n",
            "/usr/local/share/fonts: caching, new cache contents: 0 fonts, 0 dirs\n",
            "/root/.local/share/fonts: skipping, no such directory\n",
            "/root/.fonts: skipping, no such directory\n",
            "/var/cache/fontconfig: cleaning cache directory\n",
            "/root/.cache/fontconfig: not cleaning non-existent cache directory\n",
            "/root/.fontconfig: not cleaning non-existent cache directory\n",
            "fc-cache: succeeded\n"
          ]
        }
      ]
    },
    {
      "cell_type": "code",
      "metadata": {
        "colab": {
          "base_uri": "https://localhost:8080/",
          "height": 426
        },
        "id": "pbddF7e0P-gb",
        "outputId": "8eee5afc-2342-46b6-d897-4f9060ad80a1"
      },
      "source": [
        "import matplotlib.pyplot as plt\n",
        "\n",
        "\n",
        "plt.rc('font', family='NanumBarunGothic') \n",
        "plt.subplot(311)\n",
        "cfd[\"SS\"].plot(5, title=\"문장의 첫단어 분포\")\n",
        "plt.subplot(312)\n",
        "cfd[\"i\"].plot(5, title=\"i 다음 단어의 분포\")\n",
        "plt.subplot(313)\n",
        "cfd[\".\"].plot(5, title=\". 다음 단어의 분포\")"
      ],
      "execution_count": null,
      "outputs": [
        {
          "output_type": "display_data",
          "data": {
            "text/plain": [
              "<Figure size 432x288 with 1 Axes>"
            ],
            "image/png": "[encoded data removed]"
          },
          "metadata": {
            "needs_background": "light"
          }
        },
        {
          "output_type": "display_data",
          "data": {
            "text/plain": [
              "<Figure size 432x288 with 1 Axes>"
            ],
            "image/png": "[encoded data removed]"
          },
          "metadata": {
            "needs_background": "light"
          }
        },
        {
          "output_type": "display_data",
          "data": {
            "text/plain": [
              "<Figure size 432x288 with 1 Axes>"
            ],
            "image/png": "[encoded data removed]"
          },
          "metadata": {
            "needs_background": "light"
          }
        },
        {
          "output_type": "execute_result",
          "data": {
            "text/plain": [
              "<matplotlib.axes._subplots.AxesSubplot at 0x7f4ed3f17dd0>"
            ]
          },
          "metadata": {},
          "execution_count": 13
        }
      ]
    },
    {
      "cell_type": "markdown",
      "metadata": {
        "id": "RfO8ekONQTOi"
      },
      "source": [
        "빈도를 추정하면 각각의 조건부 확률은 기본적으로 다음과 같이 추정을 할 수 있다.\n",
        "\n",
        "$~~~~~~~~~~~~~~P(w {\\mid} w_c){\\dfrac {C(w_c,w)}{C(w_c)}}$\n",
        "\n",
        "위 식에서 $C(w_c,w)$은 말뭉치에서 $(w_c,w)라는 바이그램이 나타내는 횟수 $C(w_c)$은 전체 말뭉치에서 $(W_c)$ 라는 유니그램(단어)이 나타는 횟수"
      ]
    },
    {
      "cell_type": "code",
      "metadata": {
        "id": "CQCbpS1YQANl"
      },
      "source": [
        "from nltk.probability import ConditionalProbDist, MLEProbDist\n",
        "cpd = ConditionalProbDist(cfd, MLEProbDist)"
      ],
      "execution_count": null,
      "outputs": []
    },
    {
      "cell_type": "code",
      "metadata": {
        "colab": {
          "base_uri": "https://localhost:8080/"
        },
        "id": "LYvW2gnPSfA4",
        "outputId": "fa74b4bb-9a83-45ea-f866-7266fca2515a"
      },
      "source": [
        "cpd[\"i\"].prob(\"am\") # 트레이닝이 끝나면 조건부 확률의 값을 보거나 샘플 문장을 입력해서 문장의 로그 확률을 구할 수 있다."
      ],
      "execution_count": null,
      "outputs": [
        {
          "output_type": "execute_result",
          "data": {
            "text/plain": [
              "0.018562267971650354"
            ]
          },
          "metadata": {},
          "execution_count": 15
        }
      ]
    },
    {
      "cell_type": "code",
      "metadata": {
        "colab": {
          "base_uri": "https://localhost:8080/"
        },
        "id": "L2MMnk2nSkT_",
        "outputId": "771dd611-e104-4697-8241-cb8af0ce12d6"
      },
      "source": [
        "cpd[\"i\"].prob(\"is\")"
      ],
      "execution_count": null,
      "outputs": [
        {
          "output_type": "execute_result",
          "data": {
            "text/plain": [
              "0.0002249971875351558"
            ]
          },
          "metadata": {},
          "execution_count": 16
        }
      ]
    },
    {
      "cell_type": "code",
      "metadata": {
        "colab": {
          "base_uri": "https://localhost:8080/"
        },
        "id": "7GPbTO22SlOJ",
        "outputId": "9a4d393b-1de8-4485-9607-83b44476f03d"
      },
      "source": [
        "cpd[\"we\"].prob(\"are\")"
      ],
      "execution_count": null,
      "outputs": [
        {
          "output_type": "execute_result",
          "data": {
            "text/plain": [
              "0.08504504504504505"
            ]
          },
          "metadata": {},
          "execution_count": 17
        }
      ]
    },
    {
      "cell_type": "code",
      "metadata": {
        "colab": {
          "base_uri": "https://localhost:8080/"
        },
        "id": "ilDTckpUSmYr",
        "outputId": "742b8585-4d07-4903-f27d-bec73c7a5af0"
      },
      "source": [
        "cpd[\"we\"].prob(\"is\")"
      ],
      "execution_count": null,
      "outputs": [
        {
          "output_type": "execute_result",
          "data": {
            "text/plain": [
              "0.0"
            ]
          },
          "metadata": {},
          "execution_count": 18
        }
      ]
    },
    {
      "cell_type": "markdown",
      "metadata": {
        "id": "pMhPTsXBSn9s"
      },
      "source": [
        "# 바이그램 언어 모형\n",
        "\n",
        "조건부 확률을 알게 되면 각 문장의 확률을 구할 수 있다.\n",
        "\n",
        "바이그램 모형에서는 전체 문장의 확률은 다음과 같이 조건부 확률을 곱으로 나타냄.\n",
        "\n",
        "$~~~~~~~~~~~~~~~P(SS I am a boy SE) = P(I {\\mid} SS) \t\\cdot P(am {\\mid} I) \t\\cdot P(a {\\mid} am) \t\\cdot P(boy {\\mid} a) \t\\cdot P(am {\\mid} I) \\cdot P(. {\\mid} boy )\\cdot P(SE {\\mid} .)$"
      ]
    },
    {
      "cell_type": "code",
      "metadata": {
        "id": "idHXmwMSSnf2"
      },
      "source": [
        "#문장(단어 리스트)의 리스트를 만듬\n",
        "def sentence_score(s):\n",
        "    p = 0.0\n",
        "    for i in range(len(s) - 1):\n",
        "        c = s[i]\n",
        "        w = s[i + 1]\n",
        "        p += np.log(cpd[c].prob(w) + np.finfo(float).eps)\n",
        "    return np.exp(p)"
      ],
      "execution_count": null,
      "outputs": []
    },
    {
      "cell_type": "code",
      "metadata": {
        "colab": {
          "base_uri": "https://localhost:8080/"
        },
        "id": "3wAIWTgpTqhH",
        "outputId": "15634be9-c43a-4384-d67a-85ab64561d34"
      },
      "source": [
        "test_sentence = [\"i\", \"like\", \"the\", \"movie\", \".\"]\n",
        "sentence_score(test_sentence)"
      ],
      "execution_count": null,
      "outputs": [
        {
          "output_type": "execute_result",
          "data": {
            "text/plain": [
              "2.740764134071561e-06"
            ]
          },
          "metadata": {},
          "execution_count": 20
        }
      ]
    },
    {
      "cell_type": "code",
      "metadata": {
        "id": "A1XRdtEATr4F",
        "colab": {
          "base_uri": "https://localhost:8080/"
        },
        "outputId": "c6aa3dbb-98d5-494b-8875-6f1ad06e5c72"
      },
      "source": [
        "test_sentence = [\"like\", \"i\", \"the\", \".\", \"movie\"]\n",
        "sentence_score(test_sentence)"
      ],
      "execution_count": null,
      "outputs": [
        {
          "output_type": "execute_result",
          "data": {
            "text/plain": [
              "2.0530004609775863e-27"
            ]
          },
          "metadata": {},
          "execution_count": 21
        }
      ]
    },
    {
      "cell_type": "code",
      "metadata": {
        "id": "oElPFQpPTs6C"
      },
      "source": [
        "#랜덤하게 문장 생성\n",
        "\n",
        "def generate_sentence(seed=None):\n",
        "    if seed is not None:\n",
        "        import random\n",
        "        random.seed(seed)\n",
        "    c = \"SS\"\n",
        "    sentence = []\n",
        "    while True:\n",
        "        if c not in cpd:\n",
        "            break\n",
        "        w = cpd[c].generate()\n",
        "\n",
        "        if w == \"SE\":\n",
        "            break\n",
        "        elif w in [\"i\", \"ii\", \"iii\"]:\n",
        "            w2 = w.upper()\n",
        "        elif w in [\"mr\", \"luc\", \"i\", \"robin\", \"williams\", \"cindy\", \"crawford\"]:\n",
        "            w2 = w.title()\n",
        "        else:\n",
        "            w2 = w\n",
        "\n",
        "        if c == \"SS\":\n",
        "            sentence.append(w2.title())\n",
        "        elif c in [\"`\", \"\\\"\", \"'\", \"(\"]:\n",
        "            sentence.append(w2)\n",
        "        elif w in [\"'\", \".\", \",\", \")\", \":\", \";\", \"?\"]:\n",
        "            sentence.append(w2)\n",
        "        else:\n",
        "            sentence.append(\" \" + w2)\n",
        "\n",
        "        c = w\n",
        "    return \"\".join(sentence)"
      ],
      "execution_count": null,
      "outputs": []
    },
    {
      "cell_type": "code",
      "metadata": {
        "id": "zkr0bMWJTxSz",
        "colab": {
          "base_uri": "https://localhost:8080/",
          "height": 35
        },
        "outputId": "1a3b9fd4-16ea-43ff-b746-146dc9869252"
      },
      "source": [
        "generate_sentence(6)"
      ],
      "execution_count": null,
      "outputs": [
        {
          "output_type": "execute_result",
          "data": {
            "text/plain": [
              "'Susan egan (or even remotely comprehendible.'"
            ],
            "application/vnd.google.colaboratory.intrinsic+json": {
              "type": "string"
            }
          },
          "metadata": {},
          "execution_count": 23
        }
      ]
    },
    {
      "cell_type": "markdown",
      "metadata": {
        "id": "0VxV-qpNT0nF"
      },
      "source": [
        "한글 자료를 이용하여서 Naver Sentiment Moive corpus를 사용해보자."
      ]
    },
    {
      "cell_type": "code",
      "metadata": {
        "colab": {
          "base_uri": "https://localhost:8080/"
        },
        "id": "0y3oD60eTy2C",
        "outputId": "b856486d-ebb3-4110-87d7-feb59adab704"
      },
      "source": [
        "%%time\n",
        "!wget -nc -q https://raw.githubusercontent.com/e9t/nsmc/master/ratings_train.txt"
      ],
      "execution_count": null,
      "outputs": [
        {
          "output_type": "stream",
          "name": "stdout",
          "text": [
            "CPU times: user 7.88 ms, sys: 14.3 ms, total: 22.1 ms\n",
            "Wall time: 324 ms\n"
          ]
        }
      ]
    },
    {
      "cell_type": "code",
      "metadata": {
        "colab": {
          "base_uri": "https://localhost:8080/"
        },
        "id": "XT52n6SVT6w4",
        "outputId": "6c1200da-ad39-4b20-93df-f5e66f95c0a5"
      },
      "source": [
        "#-*-coding : utf-8 -*-\n",
        "import codecs\n",
        "# UTF-8 : '유니코드를 위한 가변 길이(들어오기 전에 비워놓는 길이.) 문자 인코딩 방식 중 하나.\n",
        "#codecs : UTF-8+ 한글처리에 용이.\n",
        "#codecs : 반드시 문자열은 유니코드로 처리 ->어떤 문자열 셋으로 변환된 문자들로 codecs를 통해 열게 된 파일에 쓰는게 안됨.\n",
        "with codecs.open(\"ratings_train.txt\", encoding='utf-8') as f:\n",
        "    data = [line.split('\\t') for line in f.read().splitlines()] #line.split('\\t') :tab키로 분할해주세요.\n",
        "    #f.read().splitlines() :읽었는데, line별로 split로 해준것을 변수로 받아들음.\n",
        "    data = data[1:]   # header 제외\n",
        "\n",
        "docs = [row[1] for row in data]\n",
        "len(docs)"
      ],
      "execution_count": null,
      "outputs": [
        {
          "output_type": "execute_result",
          "data": {
            "text/plain": [
              "150000"
            ]
          },
          "metadata": {},
          "execution_count": 25
        }
      ]
    },
    {
      "cell_type": "code",
      "source": [
        "!pip install konlpy"
      ],
      "metadata": {
        "colab": {
          "base_uri": "https://localhost:8080/"
        },
        "id": "cbC6ypG3kvpL",
        "outputId": "f13e4128-b387-4cb6-8f7a-ff6da45b91f3"
      },
      "execution_count": null,
      "outputs": [
        {
          "output_type": "stream",
          "name": "stdout",
          "text": [
            "Looking in indexes: https://pypi.org/simple, https://us-python.pkg.dev/colab-wheels/public/simple/\n",
            "Collecting konlpy\n",
            "  Downloading konlpy-0.6.0-py2.py3-none-any.whl (19.4 MB)\n",
            "\u001b[K     |████████████████████████████████| 19.4 MB 454 kB/s \n",
            "\u001b[?25hCollecting JPype1>=0.7.0\n",
            "  Downloading JPype1-1.4.0-cp37-cp37m-manylinux_2_5_x86_64.manylinux1_x86_64.whl (453 kB)\n",
            "\u001b[K     |████████████████████████████████| 453 kB 70.6 MB/s \n",
            "\u001b[?25hRequirement already satisfied: numpy>=1.6 in /usr/local/lib/python3.7/dist-packages (from konlpy) (1.21.6)\n",
            "Requirement already satisfied: lxml>=4.1.0 in /usr/local/lib/python3.7/dist-packages (from konlpy) (4.9.1)\n",
            "Requirement already satisfied: typing-extensions in /usr/local/lib/python3.7/dist-packages (from JPype1>=0.7.0->konlpy) (4.1.1)\n",
            "Installing collected packages: JPype1, konlpy\n",
            "Successfully installed JPype1-1.4.0 konlpy-0.6.0\n"
          ]
        }
      ]
    },
    {
      "cell_type": "code",
      "metadata": {
        "colab": {
          "base_uri": "https://localhost:8080/"
        },
        "id": "Bf2K6tt8T8Lk",
        "outputId": "b24f2f12-c738-425c-e619-f25e31c28bc2"
      },
      "source": [
        "import warnings\n",
        "warnings.simplefilter(\"ignore\")\n",
        "#에러는 아닌데, warning을 무시하겟습니다.\n",
        "\n",
        "from konlpy.tag import Okt\n",
        "\n",
        "tagger = Okt()\n",
        "\n",
        "def tokenize(doc):\n",
        "    tokens = ['/'.join(t) for t in tagger.pos(doc)] #Okt의 품사태킹\n",
        "    return tokens\n",
        "\n",
        "tokenize(\"그 영화는 아주 재미있었어요.\")"
      ],
      "execution_count": null,
      "outputs": [
        {
          "output_type": "execute_result",
          "data": {
            "text/plain": [
              "['그/Noun', '영화/Noun', '는/Josa', '아주/Noun', '재미있었어요/Adjective', './Punctuation']"
            ]
          },
          "metadata": {},
          "execution_count": 32
        }
      ]
    },
    {
      "cell_type": "code",
      "metadata": {
        "colab": {
          "base_uri": "https://localhost:8080/"
        },
        "id": "TwG6Z7fhT9Mw",
        "outputId": "f89b2f81-01e4-4cfe-e145-66cb72852b96"
      },
      "source": [
        "from tqdm import tqdm\n",
        "sentences = []\n",
        "for d in tqdm(docs):\n",
        "    tokens = tokenize(d)\n",
        "    bigram = ngrams(tokens, 2, pad_left=True, pad_right=True, left_pad_symbol=\"SS\", right_pad_symbol=\"SE\")\n",
        "    sentences += [t for t in bigram]"
      ],
      "execution_count": null,
      "outputs": [
        {
          "output_type": "stream",
          "name": "stderr",
          "text": [
            "100%|██████████| 150000/150000 [08:20<00:00, 299.70it/s]\n"
          ]
        }
      ]
    },
    {
      "cell_type": "code",
      "metadata": {
        "colab": {
          "base_uri": "https://localhost:8080/"
        },
        "id": "vQRfatnPT-BZ",
        "outputId": "2421d002-fab9-4600-a432-a6e31f2b3738"
      },
      "source": [
        "sentences[:30]"
      ],
      "execution_count": null,
      "outputs": [
        {
          "output_type": "execute_result",
          "data": {
            "text/plain": [
              "[('SS', '아/Exclamation'),\n",
              " ('아/Exclamation', '더빙/Noun'),\n",
              " ('더빙/Noun', '../Punctuation'),\n",
              " ('../Punctuation', '진짜/Noun'),\n",
              " ('진짜/Noun', '짜증나네요/Adjective'),\n",
              " ('짜증나네요/Adjective', '목소리/Noun'),\n",
              " ('목소리/Noun', 'SE'),\n",
              " ('SS', '흠/Noun'),\n",
              " ('흠/Noun', '.../Punctuation'),\n",
              " ('.../Punctuation', '포스터/Noun'),\n",
              " ('포스터/Noun', '보고/Noun'),\n",
              " ('보고/Noun', '초딩/Noun'),\n",
              " ('초딩/Noun', '영화/Noun'),\n",
              " ('영화/Noun', '줄/Noun'),\n",
              " ('줄/Noun', '..../Punctuation'),\n",
              " ('..../Punctuation', '오버/Noun'),\n",
              " ('오버/Noun', '연기/Noun'),\n",
              " ('연기/Noun', '조차/Josa'),\n",
              " ('조차/Josa', '가볍지/Adjective'),\n",
              " ('가볍지/Adjective', '않구나/Verb'),\n",
              " ('않구나/Verb', 'SE'),\n",
              " ('SS', '너/Modifier'),\n",
              " ('너/Modifier', '무재/Noun'),\n",
              " ('무재/Noun', '밓었/Noun'),\n",
              " ('밓었/Noun', '다그/Noun'),\n",
              " ('다그/Noun', '래서/Noun'),\n",
              " ('래서/Noun', '보는것을/Verb'),\n",
              " ('보는것을/Verb', '추천/Noun'),\n",
              " ('추천/Noun', '한/Josa'),\n",
              " ('한/Josa', '다/Adverb')]"
            ]
          },
          "metadata": {},
          "execution_count": 34
        }
      ]
    },
    {
      "cell_type": "code",
      "metadata": {
        "id": "5K5xB12pT_LR"
      },
      "source": [
        "cfd = ConditionalFreqDist(sentences)\n",
        "cpd = ConditionalProbDist(cfd, MLEProbDist)\n",
        "\n",
        "def korean_most_common(c, n, pos=None):\n",
        "    if pos is None:\n",
        "        return cfd[tokenize(c)[0]].most_common(n)\n",
        "    else:\n",
        "        return cfd[\"/\".join([c, pos])].most_common(n)"
      ],
      "execution_count": null,
      "outputs": []
    },
    {
      "cell_type": "code",
      "metadata": {
        "colab": {
          "base_uri": "https://localhost:8080/"
        },
        "id": "oqfF76A_UANf",
        "outputId": "37fada56-a20d-45ef-ffb2-3e8196c34c3d"
      },
      "source": [
        "korean_most_common(\"나\", 10)"
      ],
      "execution_count": null,
      "outputs": [
        {
          "output_type": "execute_result",
          "data": {
            "text/plain": [
              "[('는/Josa', 831),\n",
              " ('의/Josa', 339),\n",
              " ('만/Josa', 213),\n",
              " ('에게/Josa', 148),\n",
              " ('에겐/Josa', 84),\n",
              " ('랑/Josa', 81),\n",
              " ('한테/Josa', 50),\n",
              " ('참/Verb', 45),\n",
              " ('이/Determiner', 44),\n",
              " ('와도/Josa', 43)]"
            ]
          },
          "metadata": {},
          "execution_count": 36
        }
      ]
    },
    {
      "cell_type": "code",
      "metadata": {
        "colab": {
          "base_uri": "https://localhost:8080/"
        },
        "id": "PnOAyLkHUBNh",
        "outputId": "4dff741e-f7d3-4ff5-f061-d2578c9f4a46"
      },
      "source": [
        "korean_most_common(\"의\", 10)"
      ],
      "execution_count": null,
      "outputs": [
        {
          "output_type": "execute_result",
          "data": {
            "text/plain": [
              "[('영화/Noun', 19),\n",
              " ('연기/Noun', 14),\n",
              " ('구심/Noun', 12),\n",
              " ('모습/Noun', 9),\n",
              " ('감독/Noun', 8),\n",
              " ('매력/Noun', 7),\n",
              " ('감동/Noun', 7),\n",
              " ('흐름/Noun', 6),\n",
              " ('그/Noun', 6),\n",
              " ('이야기/Noun', 6)]"
            ]
          },
          "metadata": {},
          "execution_count": 37
        }
      ]
    },
    {
      "cell_type": "code",
      "metadata": {
        "colab": {
          "base_uri": "https://localhost:8080/"
        },
        "id": "bPE8yEUSUCEh",
        "outputId": "f5cfccf8-de7b-42e9-93ed-8335ec584253"
      },
      "source": [
        "korean_most_common(\".\", 10, \"Punctuation\")"
      ],
      "execution_count": null,
      "outputs": [
        {
          "output_type": "execute_result",
          "data": {
            "text/plain": [
              "[('SE', 26503),\n",
              " ('영화/Noun', 667),\n",
              " ('이/Noun', 565),\n",
              " ('정말/Noun', 480),\n",
              " ('그리고/Conjunction', 455),\n",
              " ('./Punctuation', 445),\n",
              " ('하지만/Conjunction', 369),\n",
              " ('이/Determiner', 352),\n",
              " ('그/Noun', 325),\n",
              " ('스토리/Noun', 317)]"
            ]
          },
          "metadata": {},
          "execution_count": 38
        }
      ]
    },
    {
      "cell_type": "code",
      "metadata": {
        "id": "7jWH5P4nUDP4"
      },
      "source": [
        "def korean_bigram_prob(c, w):\n",
        "    context = tokenize(c)[0]\n",
        "    word = tokenize(w)[0]\n",
        "    return cpd[context].prob(word)"
      ],
      "execution_count": null,
      "outputs": []
    },
    {
      "cell_type": "code",
      "metadata": {
        "colab": {
          "base_uri": "https://localhost:8080/"
        },
        "id": "B3JWwB0KUGO7",
        "outputId": "3b0f4d6c-cc8c-40a6-f0a4-07315af247fb"
      },
      "source": [
        "korean_bigram_prob(\"이\", \"영화\")"
      ],
      "execution_count": null,
      "outputs": [
        {
          "output_type": "execute_result",
          "data": {
            "text/plain": [
              "0.4010748656417948"
            ]
          },
          "metadata": {},
          "execution_count": 40
        }
      ]
    },
    {
      "cell_type": "code",
      "metadata": {
        "colab": {
          "base_uri": "https://localhost:8080/"
        },
        "id": "IcHLWJHOUHDo",
        "outputId": "fa790694-bb2b-4ace-94a4-2521c2dea70f"
      },
      "source": [
        "korean_bigram_prob(\"영화\", \"이\")"
      ],
      "execution_count": null,
      "outputs": [
        {
          "output_type": "execute_result",
          "data": {
            "text/plain": [
              "0.00015767585785521414"
            ]
          },
          "metadata": {},
          "execution_count": 41
        }
      ]
    },
    {
      "cell_type": "code",
      "metadata": {
        "id": "OVBzlgmEUH5k"
      },
      "source": [
        "def korean_generate_sentence(seed=None, debug=False):\n",
        "    if seed is not None:\n",
        "        import random\n",
        "        random.seed(seed)\n",
        "    c = \"SS\"\n",
        "    sentence = []\n",
        "    while True:\n",
        "        if c not in cpd:\n",
        "            break\n",
        "            \n",
        "        w = cpd[c].generate()\n",
        "\n",
        "        if w == \"SE\":\n",
        "            break\n",
        "\n",
        "        w2 = w.split(\"/\")[0]\n",
        "        pos = w.split(\"/\")[1]\n",
        "\n",
        "        if c == \"SS\":\n",
        "            sentence.append(w2.title())\n",
        "        elif c in [\"`\", \"\\\"\", \"'\", \"(\"]:\n",
        "            sentence.append(w2)\n",
        "        elif w2 in [\"'\", \".\", \",\", \")\", \":\", \";\", \"?\"]:\n",
        "            sentence.append(w2)\n",
        "        elif pos in [\"Josa\", \"Punctuation\", \"Suffix\"]:\n",
        "            sentence.append(w2)\n",
        "        elif w in [\"임/Noun\", \"것/Noun\", \"는걸/Noun\", \"릴때/Noun\",\n",
        "                   \"되다/Verb\", \"이다/Verb\", \"하다/Verb\", \"이다/Adjective\"]:\n",
        "            sentence.append(w2)\n",
        "        else:\n",
        "            sentence.append(\" \" + w2)\n",
        "        c = w\n",
        "\n",
        "        if debug:\n",
        "            print(w)\n",
        "\n",
        "    return \"\".join(sentence)"
      ],
      "execution_count": null,
      "outputs": []
    },
    {
      "cell_type": "code",
      "metadata": {
        "colab": {
          "base_uri": "https://localhost:8080/",
          "height": 35
        },
        "id": "5O7sunBvUJz0",
        "outputId": "2bb8604a-5945-497e-9d5a-95d94cd1b5b7"
      },
      "source": [
        "korean_generate_sentence(0)"
      ],
      "execution_count": null,
      "outputs": [
        {
          "output_type": "execute_result",
          "data": {
            "text/plain": [
              "'미키짱과 말도 전혀 빗나가지 않던 전개로 꽥꽥대는거 보니까 요^^'"
            ],
            "application/vnd.google.colaboratory.intrinsic+json": {
              "type": "string"
            }
          },
          "metadata": {},
          "execution_count": 43
        }
      ]
    },
    {
      "cell_type": "code",
      "metadata": {
        "colab": {
          "base_uri": "https://localhost:8080/",
          "height": 53
        },
        "id": "IenWNd3TUKzq",
        "outputId": "0b00d31a-6777-44d1-8c3e-ea6429c374e2"
      },
      "source": [
        "korean_generate_sentence(1)"
      ],
      "execution_count": null,
      "outputs": [
        {
          "output_type": "execute_result",
          "data": {
            "text/plain": [
              "'내용 일테인데 이 영화 최고의 암살 할려고 한 데 선배랑 김선아 연기도 크다. 배슬기 여배우도 있는 척 하는거지?'"
            ],
            "application/vnd.google.colaboratory.intrinsic+json": {
              "type": "string"
            }
          },
          "metadata": {},
          "execution_count": 44
        }
      ]
    },
    {
      "cell_type": "code",
      "metadata": {
        "colab": {
          "base_uri": "https://localhost:8080/",
          "height": 90
        },
        "id": "Nwo4d0phUMS2",
        "outputId": "1076fdb4-9f88-485b-9c77-d6aac481f29a"
      },
      "source": [
        "korean_generate_sentence(2)"
      ],
      "execution_count": null,
      "outputs": [
        {
          "output_type": "execute_result",
          "data": {
            "text/plain": [
              "'도리까지 본 영화 너무... 뭔가.. 최고네요. 하지만.. 눈물 낫다는건 또 영화에 들지 않는다. 근데 뭐야 어떻게 그렇게 착했던 윤재랑은 에바 그린 드레스 소리 듣는거임\"\"\" 에리 욧의 미모로 합성 한 가수 노래와 흥행 놓친 영화다. 사투리 연기 하나 없는 ‘ 스피드 감 넘치는 스릴 넘치는 연기를 이해 되지 못 하시는 분보다 훨 재밌구만 평점을 망처 놓은 듯하다. 영화 보는이로 하여금 불편함을 느꼇을듯'"
            ],
            "application/vnd.google.colaboratory.intrinsic+json": {
              "type": "string"
            }
          },
          "metadata": {},
          "execution_count": 45
        }
      ]
    },
    {
      "cell_type": "code",
      "metadata": {
        "colab": {
          "base_uri": "https://localhost:8080/",
          "height": 53
        },
        "id": "oeQnXiHzWoG_",
        "outputId": "e8e09ae8-a07f-4169-8dbc-72bbab16ba14"
      },
      "source": [
        "korean_generate_sentence(3)"
      ],
      "execution_count": null,
      "outputs": [
        {
          "output_type": "execute_result",
          "data": {
            "text/plain": [
              "'내 인생을 반헬싱이 너무 무섭고 재밌고, 칼 세이건으로 연탄가스 맡아서 죽을 같이 작업 하는구나 ㅋㅋㅋㅋㅋ 진짜'"
            ],
            "application/vnd.google.colaboratory.intrinsic+json": {
              "type": "string"
            }
          },
          "metadata": {},
          "execution_count": 46
        }
      ]
    },
    {
      "cell_type": "code",
      "metadata": {
        "colab": {
          "base_uri": "https://localhost:8080/",
          "height": 53
        },
        "id": "xJfH98KLWpEU",
        "outputId": "b203e62b-ed1e-4cae-fdf6-31693326e5e0"
      },
      "source": [
        "korean_generate_sentence(5)"
      ],
      "execution_count": null,
      "outputs": [
        {
          "output_type": "execute_result",
          "data": {
            "text/plain": [
              "'좋았어요... ㅎㄷㄷㄷ 시나리오나 그래픽이 대단한 심리전이 미라 파스틱 함.. 너무 무섭고 나쁜세 끼는 듯 진짜 꼭 필요가 있는지도 모르겠지만 나름 그의 복수 후!!!!!!!!!!!'"
            ],
            "application/vnd.google.colaboratory.intrinsic+json": {
              "type": "string"
            }
          },
          "metadata": {},
          "execution_count": 47
        }
      ]
    },
    {
      "cell_type": "markdown",
      "metadata": {
        "id": "loCd9YaEWrNI"
      },
      "source": [
        "확률론적 언어 모형의 활용¶\n",
        "확률론적 언어 모형은 다음과 같은 분야에 광범위하게 활용할 수 있다.\n",
        "\n",
        "- 철자 및 문법 교정(Spell Correction)\n",
        "\n",
        "- 음성 인식(Speech Recognition)\n",
        "\n",
        "- 자동 번역(Machine Translation)\n",
        "\n",
        "- 자동 요약(Summarization)\n",
        "\n",
        "- 챗봇(Question-Answering)\n",
        "\n"
      ]
    },
    {
      "cell_type": "markdown",
      "metadata": {
        "id": "xK4gBvonW3AD"
      },
      "source": [
        "### N-gram Language Model의 한계\n",
        "1. 희소 문제(sparsity problem)\n",
        "2. n을 선택하는 것은 trade-off 문제\n",
        "-  trade-off 문제로 인해 정확도를 높이려면 n은 최대 5를 넘게 잡아서는 안 된다고 권장되고 있습니다.\n",
        "\n",
        "\n",
        "### 적용 분야(domain)에 맞는 코퍼스의 수집\n",
        "\n",
        "### 인공 신경망을 이용한 언어 모델(Neural Network Based Language Model)\n"
      ]
    },
    {
      "cell_type": "markdown",
      "metadata": {
        "id": "3VYr2t-nYpqJ"
      },
      "source": [
        "# 언어 모델 평가\n",
        "\n",
        "## Perplexity\n",
        "\n",
        "- 두 개의 모델 A, B가 있을 때 이 모델의 성능은 어떻게 비교할 수 있을까요? 두 개의 모델을 오타 교정, 기계 번역 등의 평가에 투입해볼 수 있겠습니다. 그리고 두 모델이 해당 업무의 성능을 누가 더 잘했는지를 비교하면 되겠습니다.\n",
        "\n",
        "- 이러한 평가를 외부 평가(extrinsic evaluation)라고 하는데, 이러한 평가보다는 어쩌면 조금은 부정확할 수는 있어도 테스트 데이터에 대해서 빠르게 식으로 계산되는 더 간단한 평가 방법이 있습니다. 바로 모델 내에서 자신의 성능을 수치화하여 결과를 내놓는 내부 평가(Intrinsic evaluation)에 해당되는 펄플렉서티(perplexity)입니다.\n",
        "\n",
        "- 펄플렉서티(perplexity)는 언어 모델을 평가하기 위한 내부 평가 지표입니다. 보통 줄여서 PPL이 라고 표현합니다\n",
        "\n",
        "- 영어에서 'perplexed'는 '헷갈리는'과 유사한 의미를 가집니다. 그러니까 여기서 PPL은 '헷갈리는 정도'로 이해합시다. PPL를 처음 배울때 다소 낯설게 느껴질 수 있는 점이 있다면, PPL은 수치가 높으면 좋은 성능을 의미하는 것이 아니라, '낮을수록' 언어 모델의 성능이 좋다는 것을 의미한다는 점입니다.\n",
        "\n",
        "- PPL은 단어의 수로 정규화(normalization) 된 테스트 데이터에 대한 확률의 역수입니다. PPL을 최소화한다는 것은 문장의 확률을 최대화하는 것과 같습니다. 문장 $W$의 길이가 $N$이라고 하였을 때의 PPL은 다음과 같습니다.\n",
        "\n",
        "$~~~~~~~~~~~~~~~PPL(W) = P(w_1,w_2,w_3,\\cdots,w_N)^{-{\\dfrac{1}{N}}} =  \\sqrt[\\leftroot{-2}\\uproot{2}N]{{\\dfrac{1}{P(w_1,w_2,w_3,\\cdots,w_N)}}}$\n",
        "\n",
        "\n",
        "문장의 확률에 체인룰(Chain rule)을 적용하면 아래와 같다.\n",
        "$~~~~~~~~~~~~~~~\\sqrt[\\leftroot{-2}\\uproot{2}N]{{\\dfrac{1}{P(w_1,w_2,w_3,\\cdots,w_N)}}} = \\sqrt[\\leftroot{-2}\\uproot{2}N]{{\\dfrac{1}{\\Pi_{i=1}^N P(w_1,w_2,w_3,\\cdots,w_N)}}}$\n",
        "\n",
        "\n",
        "N-gram을 적용하면, ex.bigram\n",
        "\n",
        "$~~~~~~~~~~~~~~~PPL(W) =  \\sqrt[\\leftroot{-2}\\uproot{2}N]{{\\dfrac{1}{\\Pi_{i=1}^N P(w_i {\\mid} {w_{i-1}})}}}$\n",
        "\n",
        "## 분기 계수(Braching Factor)\n",
        "\n",
        "PPL은 선택할 수 있는 가능한 경우의 수를 의미하는 분기계수(branching factor)이다. PPL은 이 언어 모델이 특정 시점에서 평균적으로 몇 개의 선택지를 가지고 고민하고 있는지를 의미한다. 어떤 테스트 데이터을 주고 측정했더니 PPL이 10이 나왔다고 해보자.\n",
        "\n",
        "$~~~~~~~~~~~~~~~PPW(W) = P(w_1,w_2,w_3\\cdots,w_N)^{-\\dfrac{1}{N}} = ({{\\dfrac{1}{10}}}^N)^{-\\dfrac{1}{N}} = 10$\n",
        "\n",
        "**같은 테스트 데이터에 대해서** 두 언어 모델의 PPL을 각각 계산 후에 PPL의 값을 비교하면, 두 언어 모델 중 어떤 것이 성능이 좋은지도 판단이 가능합니다.\n",
        "\n",
        "주의할 점은 **PPL의 값이 낮다는 것은 테스트 데이터 상에서 높은 정확도를 보인다는 것**이지, 사람이 직접 느끼기에 좋은 언어 모델이라는 것을 반드시 의미하진 않는다는 점이다. 또한 언어 모델의 PPL은 테스트 데이터에 의존하므로 두 개 이상의 언어 모델을 비교할 때는 정량적으로 양이 많고, 또한 도메인에 알맞은 동일한 테스트 데이터를 사용해야 신뢰도가 높다는 것이다.\n"
      ]
    },
    {
      "cell_type": "markdown",
      "source": [
        "# 다양한 단어의 표현 방법\n",
        "## 단어의 표현 방법\n",
        "\n",
        "크게 국소 표현(Local Representation) 방법(또는 이산 표현)과 분산 표현(Distributed Representation) 방법(또는 연속 표현)으로 나뉜다.\n",
        "\n",
        "1. 국소 표현(Local Representation) 또는 이산 표현(Discrete Representation)\n",
        " - 특징 : 해당 단어 그 자체만 보고, 특정값을 매핑하여 단어를 표현하는 방법\n",
        "ex) 강아지, 고양이, 친칠라 라는 단어가 있을 때 각 단어에 1번, 2번, 3번 등과 같은 숫자를 맵핑(mapping)하여 부여한다.\n",
        " - 종류 : One-Hot Vector, N-gram, count base(Bag of Words) 등\n",
        "2. 분산 표현(Distributed Representation) 또는 연속 표현(Continuous Representation)\n",
        " - 특징 : 그 단어를 표현하고자 주변을 참고하여 단어를 표현하는 방법\n",
        "ex) 강아지라는 단어 근처에 주로 귀여운, 사랑스러운이라는 단어가 자주 등장하므로, 강아지라는 단어는 귀엽운, 사랑스러운 느낌이다라고 단어를 정의한다.\n",
        " - 종류 : prediction base(Word2Vec, FastText), count base(LSA, Glove) 등\n",
        "\n",
        "즉, 국소 표현 방법에서 단어의 의미, 느낌을 표현할 수 없지만, 분산 표현 방법은 단어의 느낌을 표현할 수 있다는 차이가 있다."
      ],
      "metadata": {
        "id": "9UZkj2annFCB"
      }
    },
    {
      "cell_type": "markdown",
      "metadata": {
        "id": "Bc5YmPE1GMg7"
      },
      "source": [
        "# 단어 표현의 카테고리화\n",
        "\n",
        "<figure>\n",
        "<img src = 'https://wikidocs.net/images/page/31767/wordrepresentation.PNG'>\n",
        "<figure>\n"
      ]
    },
    {
      "cell_type": "markdown",
      "source": [
        "\n",
        "## BOW(bag of words)\n",
        "- Bag of Words란 **단어들의 순서는 전혀 고려하지 않고, 단어들의 출현 빈도(frequency)에만 집중**하는 텍스트 데이터의 수치화 표현 방법입니다\n",
        "- Bag of words를 직역하면 단어들의 가방.\n",
        "\n",
        "\n",
        "- 갖고있는 어떤 텍스트 문서에 있는 단어들을 가방에다가 전부 넣습니다. 그러고나서 이 가방을 흔들어 단어들을 섞습니다. 만약, 해당 문서 내에서 특정 단어가 N번 등장했다면, 이 가방에는 그 특정 단어가 N개 있게됩니다. 또한 가방을 흔들어서 단어를 섞었기 때문에 더 이상 단어의 순서는 중요하지 않습니다.\n",
        "\n",
        "- BoW를 만드는 과정을 이렇게 두 가지 과정으로 생각해보겠습니다.\n",
        " - (1) 우선, 각 단어에 고유한 정수 인덱스를 부여합니다.\n",
        " - (2) 각 인덱스의 위치에 단어 토큰의 등장 횟수를 기록한 벡터를 만듭니다.\n",
        "\n",
        "한국어 예제를 통해서 BoW에 대해서 이해해보도록 하겠습니다.\n",
        "문서1 : 정부가 발표하는 물가상승률과 소비자가 느끼는 물가상승률은 다르다.\n",
        "\n",
        "위의 문서1에 대해서 BoW를 만들어보도록 하겠습니다. 아래의 코드는 입력된 문서에 대해서 단어 집합(vocaburary)을 만들어 인덱스를 할당하고, BoW를 만드는 코드입니다. 이 코드에 이번에 입력할 입력은 문서1입니다.\n",
        "\n",
        "## 장점\n",
        "- 쉽게 빠른 구축\n",
        "- 예상보다 문서의 특징을 잘 나타내어 전통적으로 여러분야에서 활용도가 높음\n",
        "\n",
        "## 단점\n",
        "- 문맥 의미(Semantic Context) 반영 문제\n",
        "- 희소 행렬 문제\n",
        "\n",
        "\n"
      ],
      "metadata": {
        "id": "gb2BS3U1nXc5"
      }
    },
    {
      "cell_type": "code",
      "metadata": {
        "colab": {
          "base_uri": "https://localhost:8080/"
        },
        "id": "uUoHwyZwWqIM",
        "outputId": "98b0727d-627d-42c0-90d5-bb1dd0d2fbb3"
      },
      "source": [
        "from konlpy.tag import Okt\n",
        "import re  \n",
        "okt=Okt()  \n",
        "\n",
        "token=re.sub(\"(\\.)\",\"\",\"정부가 발표하는 물가상승률과 소비자가 느끼는 물가상승률은 다르다.\")  \n",
        "# 정규 표현식을 통해 온점을 제거하는 정제 작업입니다.  \n",
        "token=okt.morphs(token)  \n",
        "# OKT 형태소 분석기를 통해 토큰화 작업을 수행한 뒤에, token에다가 넣습니다.  \n",
        "\n",
        "word2index={} # dict\n",
        "bow=[] #bag (공간을 미리 만들어놈.)  \n",
        "for voca in token:  \n",
        "         if voca not in word2index.keys():  #dict의 키가 없다면,\n",
        "             word2index[voca]=len(word2index)  \n",
        "# token을 읽으면서, word2index에 없는 (not in) 단어는 새로 추가하고, 이미 있는 단어는 넘깁니다.   \n",
        "             bow.insert(len(word2index)-1,1)\n",
        "# BoW 전체에 전부 기본값 1을 넣어줍니다. 단어의 개수는 최소 1개 이상이기 때문입니다.  \n",
        "         else:\n",
        "            index=word2index.get(voca)\n",
        "# 재등장하는 단어의 인덱스를 받아옵니다.\n",
        "            bow[index]=bow[index]+1\n",
        "# 재등장한 단어는 해당하는 인덱스의 위치에 1을 더해줍니다. (단어의 개수를 세는 것입니다.)  \n",
        "print(word2index)  "
      ],
      "execution_count": null,
      "outputs": [
        {
          "output_type": "stream",
          "name": "stdout",
          "text": [
            "{'정부': 0, '가': 1, '발표': 2, '하는': 3, '물가상승률': 4, '과': 5, '소비자': 6, '느끼는': 7, '은': 8, '다르다': 9}\n"
          ]
        }
      ]
    },
    {
      "cell_type": "code",
      "metadata": {
        "colab": {
          "base_uri": "https://localhost:8080/"
        },
        "id": "LALPk1URIvzJ",
        "outputId": "00f8ebd3-7b74-4f92-de19-0371c672f8e3"
      },
      "source": [
        "bow  "
      ],
      "execution_count": null,
      "outputs": [
        {
          "output_type": "execute_result",
          "data": {
            "text/plain": [
              "[1, 2, 1, 1, 2, 1, 1, 1, 1, 1]"
            ]
          },
          "metadata": {},
          "execution_count": 50
        }
      ]
    },
    {
      "cell_type": "code",
      "source": [
        "from konlpy.tag import Okt\n",
        "okt=Okt()  \n",
        "\n",
        "token=\"내꺼인듯 내꺼아닌 내꺼같은 너란 사람은 참\"\n",
        "token=okt.morphs(token) # 형태소분석\n",
        "word2index={}  # 단어에 인덱스 부여\n",
        "bow=[]    # 빈도수저장\n",
        "\n",
        "\n",
        "# 토큰하나씩 들고온다\n",
        "for voca in token:\n",
        "    # word2index 안에 해당 토큰이 없다면\n",
        "    if voca not in word2index:  \n",
        "        # 인덱스(word2index길이만큼)를 지정해주고\n",
        "        word2index[voca]=len(word2index)\n",
        "        # 단어가 등장했으니, 빈도수를 담는 리스트에 1을 넣어준다.\n",
        "        bow.insert(len(word2index)-1,1)\n",
        "    # word2index 안에 있는 토큰이라면\n",
        "    else:\n",
        "        # 해당 토큰의 인덱스를 가져와서\n",
        "        index=word2index[voca]\n",
        "        # 한 번 더나왔으니 그 토큰의 인덱스로 빈도수 리스트에 접근하여 값을 1을 더해준다\n",
        "        bow[index]=bow[index]+1"
      ],
      "metadata": {
        "id": "ryfT8MtWnv1s"
      },
      "execution_count": null,
      "outputs": []
    },
    {
      "cell_type": "code",
      "source": [
        "print(word2index)"
      ],
      "metadata": {
        "colab": {
          "base_uri": "https://localhost:8080/"
        },
        "id": "RwPYq9_-n0Co",
        "outputId": "de8c16f7-8b46-45f7-86ca-beac91572061"
      },
      "execution_count": null,
      "outputs": [
        {
          "output_type": "stream",
          "name": "stdout",
          "text": [
            "{'내꺼인듯': 0, '내꺼': 1, '아닌': 2, '같은': 3, '너': 4, '란': 5, '사람': 6, '은': 7, '참': 8}\n"
          ]
        }
      ]
    },
    {
      "cell_type": "code",
      "source": [
        "print(bow)"
      ],
      "metadata": {
        "colab": {
          "base_uri": "https://localhost:8080/"
        },
        "id": "UivsLdEfn38I",
        "outputId": "9558b576-291c-471a-b487-250c536b2003"
      },
      "execution_count": null,
      "outputs": [
        {
          "output_type": "stream",
          "name": "stdout",
          "text": [
            "[1, 2, 1, 1, 1, 1, 1, 1, 1]\n"
          ]
        }
      ]
    },
    {
      "cell_type": "markdown",
      "source": [
        "내꺼라는 단어가 두번 나와서 2라고 적혔고, 나머지는 1번 나와서 위와 같은 결과가 나왔다.\n",
        "\n",
        "즉, 각 token(중복없이)에 인덱스를 부여하고, 해당 token의 빈도수를 기록한 것을 bag에 담아놓는다. 이렇게 bow화된 bag을 이용하여 이후에 어떤 문장이 주어지면, 그 문장을 token화 한 뒤, bag에서 해당 token의 빈도수를 가져와 위 예시의 bow와 같이 단어를 정수화 된 리스트로 만들 수 있다"
      ],
      "metadata": {
        "id": "ifvYa_ocn56c"
      }
    },
    {
      "cell_type": "markdown",
      "metadata": {
        "id": "BC-Qd7iRoJ_b"
      },
      "source": [
        "# CountVectorizer 클래스로 BOW 만들기\n",
        "- 사이킷 런에서는 단어의 빈도를 Count하여 Vector로 만드는 CountVectorizer 클래스를 지원합니다. 이를 이용하면 영어에 대해서는 손쉽게 BoW를 만들 수 있습니다."
      ]
    },
    {
      "cell_type": "code",
      "metadata": {
        "colab": {
          "base_uri": "https://localhost:8080/"
        },
        "id": "9V330lrkIxBV",
        "outputId": "cb4a042c-82f0-4574-ebc8-181d85c2b282"
      },
      "source": [
        "from sklearn.feature_extraction.text import CountVectorizer\n",
        "corpus = ['you know I want your love. because I love you.']\n",
        "vector = CountVectorizer()\n",
        "print(vector.fit_transform(corpus).toarray()) # 코퍼스로부터 각 단어의 빈도 수를 기록한다.\n",
        "print(vector.vocabulary_) # 각 단어의 인덱스가 어떻게 부여되었는지를 보여준다."
      ],
      "execution_count": null,
      "outputs": [
        {
          "output_type": "stream",
          "name": "stdout",
          "text": [
            "[[1 1 2 1 2 1]]\n",
            "{'you': 4, 'know': 1, 'want': 3, 'your': 5, 'love': 2, 'because': 0}\n"
          ]
        }
      ]
    },
    {
      "cell_type": "markdown",
      "metadata": {
        "id": "2DU10n9Ooqh6"
      },
      "source": [
        "- 예제 문장에서 you와 love는 두 번씩 언급되었으므로 각각 인덱스 2와 인덱스 4에서 2의 값을 가지며, 그 외의 값에서는 1의 값을 가지는 것을 볼 수 있습니다. 또한 알파벳 I는 BoW를 만드는 과정에서 사라졌는데, 이는 CountVectorizer가 기본적으로 길이가 2이상인 문자에 대해서만 토큰으로 인식하기 때문입니다. 정제(Cleaning) 챕터에서 언급했듯이, 영어에서는 길이가 짧은 문자를 제거하는 것 또한 전처리 작업으로 고려되기도 합니다.\n",
        "\n",
        "- 주의할 것은 CountVectorizer는 단지 띄어쓰기만을 기준으로 단어를 자르는 낮은 수준의 토큰화를 진행하고 BoW를 만든다는 점입니다. 이는 영어의 경우 띄어쓰기만으로 토큰화가 수행되기 때문에 문제가 없지만 한국어에 CountVectorizer를 적용하면, 조사 등의 이유로 제대로 BoW가 만들어지지 않음을 의미합니다.\n"
      ]
    },
    {
      "cell_type": "code",
      "source": [
        "from sklearn.feature_extraction.text import CountVectorizer\n",
        "corpus = ['내꺼인듯 내꺼아닌 내꺼같은 너란 사람은 참','아니 왜 한 글 자 는 없 어 지 는 거 지']\n",
        "vector = CountVectorizer()\n",
        "\n",
        "print(vector.fit_transform(corpus).toarray()) # 코퍼스로부터 각 단어의 빈도 수를 기록한다.\n",
        "print(vector.vocabulary_) # 각 단어의 인덱스가 어떻게 부여되었는지를 보여준다. "
      ],
      "metadata": {
        "colab": {
          "base_uri": "https://localhost:8080/"
        },
        "id": "qCTxtnnYn_RL",
        "outputId": "845c618d-4e93-4db1-8850-898148e02ce9"
      },
      "execution_count": null,
      "outputs": [
        {
          "output_type": "stream",
          "name": "stdout",
          "text": [
            "[[1 1 1 1 1 0]\n",
            " [0 0 0 0 0 1]]\n",
            "{'내꺼인듯': 2, '내꺼아닌': 1, '내꺼같은': 0, '너란': 3, '사람은': 4, '아니': 5}\n"
          ]
        }
      ]
    },
    {
      "cell_type": "markdown",
      "source": [
        "하지만 결과에서 보면 내부 로직에 의해 한글자 이하는 포함시키지 않고, 띄어쓰기로 구분하여 하기 때문에 토큰화하기 때문에, 띄어쓰기를 구분자로 한 토큰화된 결과를 인풋으로 넣거나(ex. 내꺼인듯 내꺼 아닌 내꺼 같은 너란 ...), 한국어에 특화된 다른 라이브러리를 이용하면 좋을 것 같다."
      ],
      "metadata": {
        "id": "DIPXr4InoBxe"
      }
    },
    {
      "cell_type": "markdown",
      "source": [
        "\n",
        "# 불용어를 제거한 Bow 만들기\n",
        "\n",
        "- BoW를 사용한다는 것은 그 문서에서 각 단어가 얼마나 자주 등장했는지를 보겠다는 것입니다.\n",
        "\n",
        "1. 사용자가 직접 정의한 불용어 사용"
      ],
      "metadata": {
        "id": "prbgOdypn-ta"
      }
    },
    {
      "cell_type": "code",
      "metadata": {
        "colab": {
          "base_uri": "https://localhost:8080/"
        },
        "id": "GxaEm60GobGL",
        "outputId": "a68dfd32-d070-4a42-917a-e0c41a9d7cb3"
      },
      "source": [
        "from sklearn.feature_extraction.text import CountVectorizer\n",
        "\n",
        "text=[\"Family is not an important thing. It's everything.\"]\n",
        "vect = CountVectorizer(stop_words=[\"the\", \"a\", \"an\", \"is\", \"not\"])\n",
        "print(vect.fit_transform(text).toarray()) \n",
        "print(vect.vocabulary_)"
      ],
      "execution_count": null,
      "outputs": [
        {
          "output_type": "stream",
          "name": "stdout",
          "text": [
            "[[1 1 1 1 1]]\n",
            "{'family': 1, 'important': 2, 'thing': 4, 'it': 3, 'everything': 0}\n"
          ]
        }
      ]
    },
    {
      "cell_type": "markdown",
      "metadata": {
        "id": "GUzctCXNpFyd"
      },
      "source": [
        "2. CountVectorizer에서 제공하는 자체 불용어 사용"
      ]
    },
    {
      "cell_type": "code",
      "metadata": {
        "colab": {
          "base_uri": "https://localhost:8080/"
        },
        "id": "UzR66tlzpCoh",
        "outputId": "9b3e377c-e3ee-4172-80ea-981c68a029b8"
      },
      "source": [
        "from sklearn.feature_extraction.text import CountVectorizer\n",
        "\n",
        "text=[\"Family is not an important thing. It's everything.\"]\n",
        "vect = CountVectorizer(stop_words=\"english\")\n",
        "print(vect.fit_transform(text).toarray())\n",
        "print(vect.vocabulary_)"
      ],
      "execution_count": null,
      "outputs": [
        {
          "output_type": "stream",
          "name": "stdout",
          "text": [
            "[[1 1 1]]\n",
            "{'family': 0, 'important': 1, 'thing': 2}\n"
          ]
        }
      ]
    },
    {
      "cell_type": "markdown",
      "metadata": {
        "id": "UAJEih2vphH5"
      },
      "source": [
        "3. NLTK에서 지원하는 불용어 사용"
      ]
    },
    {
      "cell_type": "code",
      "metadata": {
        "colab": {
          "base_uri": "https://localhost:8080/"
        },
        "id": "saqs79b3pKc6",
        "outputId": "3f008657-b0af-42ae-b8a0-5330a1d19162"
      },
      "source": [
        "from sklearn.feature_extraction.text import CountVectorizer\n",
        "from nltk.corpus import stopwords\n",
        "\n",
        "import nltk\n",
        "nltk.download('stopwords')\n",
        "\n",
        "text=[\"Family is not an important thing. It's everything.\"]\n",
        "sw = stopwords.words(\"english\")\n",
        "vect = CountVectorizer(stop_words =sw)\n",
        "print(vect.fit_transform(text).toarray()) \n",
        "print(vect.vocabulary_)"
      ],
      "execution_count": null,
      "outputs": [
        {
          "output_type": "stream",
          "name": "stdout",
          "text": [
            "[[1 1 1 1]]\n",
            "{'family': 1, 'important': 2, 'thing': 3, 'everything': 0}\n"
          ]
        },
        {
          "output_type": "stream",
          "name": "stderr",
          "text": [
            "[nltk_data] Downloading package stopwords to /root/nltk_data...\n",
            "[nltk_data]   Unzipping corpora/stopwords.zip.\n"
          ]
        }
      ]
    },
    {
      "cell_type": "markdown",
      "source": [
        "Bow를 사용한다는 것은 그 문서에서 각 단어가 얼마나 자주 등장했는지를 보겠다는 것이다. 그리고 각 단어에 대한 빈도수를 수치화 하겠다는 것은 결국 텍스트 내에서 어떤 단어들이 중요한지를 보고싶다는 의미로 함축된다. 그렇기에 불용어와 같은 별로 의미를 갖지 않는 단어들을 제거해줘야 더 의미있는 단어들만 사용하여 정확도를 올릴 수 있다. **하지만 count 기반이다 보니 중요한 것은 빈도수가 낮거나, bag안에 없는 단어들은 그만큼 의미를 두지 않는다는 점이다**. 이후 DTM의 한계에서 더 자세히 알아 보도록하자."
      ],
      "metadata": {
        "id": "_Vb0G6zboL3H"
      }
    },
    {
      "cell_type": "markdown",
      "metadata": {
        "id": "QJC__UG_uoiw"
      },
      "source": [
        "#문서 단어 행렬(Document-Term Matrix, DTM)\n",
        "\n",
        "1. 표기법\n",
        "\n",
        "- 문서 단어 행렬(Document-Term Matrix, DTM)이란 다수의 문서에서 등장하는 각 단어들의 빈도를 행렬로 표현한 것을 말합니다. 쉽게 생각하면 각 문서에 대한 BoW를 하나의 행렬로 만든 것으로 생각할 수 있으며, BoW와 다른 표현 방법이 아니라 BoW 표현을 다수의 문서에 대해서 행렬로 표현하고 부르는 용어입니다.\n",
        "\n",
        "\n",
        "예를 들어서 이렇게 4개의 문서가 있다고 합시다.\n",
        "\n",
        "문서1 : 먹고 싶은 사과\n",
        "\n",
        "문서2 : 먹고 싶은 바나나\n",
        "\n",
        "문서3 : 길고 노란 바나나 바나나\n",
        "\n",
        "문서4 : 저는 과일이 좋아요\n",
        "\n",
        "이를 문서 단어 행렬로 표현하면 다음과 같습니다.\n",
        "\n",
        "![image.png](data:image/png;base64,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)"
      ]
    },
    {
      "cell_type": "markdown",
      "metadata": {
        "id": "jAt5dFohvCjY"
      },
      "source": [
        "각 문서에서 등장한 단어의 빈도를 행렬의 값으로 표기합니다. 문서 단어 행렬은 문서들을 서로 비교할 수 있도록 수치화할 수 있다는 점에서 의의를 갖습니다.\n",
        "\n",
        "## DTM의 한계\n",
        "\n",
        "1. 희소 표현(Sparse representation)\n",
        " - 원-핫 벡터는 단어 집합의 크기가 벡터의 차원이 되고 **대부분의 값이 0**이 된다는 특징이 있었습니다. 이 특징은 **공간적 낭비와 계산 리소스를 증가**시킬 수 있다는 점에서 원-핫 벡터의 단점이었습니다. DTM도 마찬가지입니다\n",
        "\n",
        " - 각 문서 벡터의 차원은 원-핫 벡터와 마찬가지로 전체 단어 집합의 크기를 가집니다. 만약 가지고 있는 전체 코퍼스가 방대한 데이터라면 문서 벡터의 차원은 수백만의 차원을 가질 수도 있습니다. 또한 많은 문서 벡터가 대부분의 값이 0을 가질 수도 있습니다. 당장 위에서 예로 들었던 문서 단어 행렬의 모든 행이 0이 아닌 값보다 0의 값이 더 많은 것을 볼 수 있습니다.\n",
        "\n",
        " - 원-핫 벡터나 DTM과 같은 대부분의 값이 0인 표현을 희소 벡터(sparse vector) 또는 희소 행렬(sparse matrix)라고 부르는데, **희소 벡터는 많은 양의 저장 공간과 계산을 위한 리소스를 필요로 합니다.** 이러한 이유로 전처리를 통해 단어 집합의 크기를 줄이는 일은 BoW 표현을 사용하는 모델에서 중요할 수 있습니다. 텍스트 전처리 방법을 사용하여 구두점, 빈도수가 낮은 단어, 불용어를 제거하고, 어간이나 표제어 추출을 통해 단어를 정규화하여 단어 집합의 크기를 줄일 수 있습니다.\n",
        "\n",
        "2. 단순 빈도 수 기반 접근\n",
        "\n",
        " - 영어에 대해 DTM을 만들었을 때, 불용어인 'the'는 어떤 문서이든 자주 등장할 수 밖에 없다. 그래서 유사한 문서인지 비교할 때, 단순 the가 빈도수가 높다고 유사한 문서라고 판단해선 안 된다. 불용어와 중요 단어에 대해 가중치를 줄 수 있는 방법은 없을까? 그래서 등장한 것이 TF-IDF이다.\n",
        "\n",
        " - 단어 피처에 값을 부여할 때 각 문서에서 해당 단어가 나타나는 횟수, 즉 count를 부여하는 경우를 카운트 벡터화.\n",
        "\n",
        " - 카운트 벡터화에서는 카운트 값이 높을수록 중요한 단어로 인식하여 문제가 됨.\n",
        "\n",
        "\n",
        "\n"
      ]
    },
    {
      "cell_type": "markdown",
      "metadata": {
        "id": "0dJ7FbleAxN7"
      },
      "source": [
        "## 사이킷런 CounterVectorizer 초기화 파타미터\n",
        "\n",
        "- max_df : 전체 문서에 걸쳐서 너무 높은 빈도수를 가지는 단어 치러를 제외하기 위한 파라미터, 너무 높은 빈도수를 가지는 단어는 스톱 워드와 비슷한 문법적인 특성으로 반복적인 단어일 가능성이 높기에 이를 제거하기 위해 사용됨. max_df = 100과 같이 정수 값을 가지면 전체 문서에 걸쳐 100개 이하로 나타나는 단어만 피처로 추출. mdf_df = 0.95와 같이 부동소수점(0.0 ~ 1.0)을 가지면 전체 문서에 걸쳐 빈도수 0~95%까지의 단어만 피처로 추출하고 나머지 상위 5%는 피처로 추출하지 않음.\n",
        "\n",
        "- min_df : 전체 문서에 걸쳐서 너무 낮은 빈도수를 가지는 단어 치러를 제외하기 위한 파라미터. 수백 ~ 수천 개의 전체 문서에서 특정 단어가 min_df에 설정된 값보다 적은 빈도수를 가진다면 이 단어는 크게 중요하지 않거나 필요없는(garbage)성 단어일 확률이 높습니다. min_df = 2와 같이 정수 값을 가지면 전체 문서에 걸쳐서 2번 이하로 나타나는 단어는 리처로 추출하지 않습니다. min_df = 0.002와 같이 부동소수점 값(0.0 ~ 1.0)을 가지면 전체 문서에 걸쳐서 하위 2%이하의 빈도수를 가지는 단어는 피처로 추출하지 않음.\n",
        "- max_features:  피처로 추출하는 피처의 개수를 제한하며 정수로 값을 지정. 가령 max_features = 2000으로 지정할 경우 가장 높은 빈도를 가지는 단어 순으로 정렬해 2000개까지만 피처로 추출\n",
        "\n",
        "- stop_words = 'english'로 지정하면 영어의 스톱워드로 지정된 단어는 추출에서 제외.\n",
        "\n",
        "- ngram_range : bag of words 모델의 단어 순서를 어느 정도 보강하기 위한 n-gram 범위를 설정. 튜플 형태로(범위 최솟값, 범위 최댓값)을 지정. 예를 들어 (1,1)로 지정하면 토큰화된 단어를 1개씩 피처로 추출. (1,2)로 지정하면 토큰화된 단어를 1개씩(minumum 1), 그리고 순서대로 2개씩 (maximum 2) 묶어서 피처로 추출.\n",
        "\n",
        "- analyzer : 피처 추출을 수행한 단위로 지정. 디폴트는 'word'. word가 아니라 character의 특정 범위를 피처로 만드는 특정한 경우 등을 적용할 때 사용 됨.\n",
        "\n",
        "- token_patten : 토큰화를 수행하는 정규 표현식 패턴을 지정. 디폴트 값은 '\\b\\w\\w+\\b'로, 공백 또는 개행 문자 등으로 구분된 단어 분리자(\\b) 사이의 2문자(문자 또는 숫자, 즉 영숫자) 이상의 단어(word)를 토큰으로 분리. analyzer = 'word'로 설정했을 때만 변경 가능하나 디폴트 값을 변경할 경우는 거의 발생 하지 않음. 어근 추출시 외부 함수를 사용할 경우 해당 외부 함수를 token_pattern의 인자로 사용.\n",
        "\n",
        "- lower_case : 모든 문자를 소문자로 변경할 것인지를 설정.기본 True"
      ]
    },
    {
      "cell_type": "markdown",
      "source": [
        "### CountVectorizer\n",
        "\n",
        "1. 문서를 토큰 리스트로 변환\n",
        "2. 각 문서에서 토큰의 출현 빈도를 셈\n",
        "3. 각 문서를 BOW 인코딩 벡터로 변환한다."
      ],
      "metadata": {
        "id": "ne0jzGIiqQ6q"
      }
    },
    {
      "cell_type": "code",
      "source": [
        "from sklearn.feature_extraction.text import CountVectorizer\n",
        "\n",
        "text_data=['나는 내일 공부 해야지','내일 날씨는 좋을까','내일 어디를 가지','공부 집에서 해야지']\n",
        "\n",
        "count_vectorizer=CountVectorizer()\n",
        "\n",
        "count_vectorizer.fit(text_data)\n",
        "print(count_vectorizer.vocabulary_)"
      ],
      "metadata": {
        "colab": {
          "base_uri": "https://localhost:8080/"
        },
        "id": "XKP6zESIpjsP",
        "outputId": "768be8d1-6906-4356-efd1-9dedad85607a"
      },
      "execution_count": null,
      "outputs": [
        {
          "output_type": "stream",
          "name": "stdout",
          "text": [
            "{'나는': 2, '내일': 4, '공부': 1, '해야지': 8, '날씨는': 3, '좋을까': 6, '어디를': 5, '가지': 0, '집에서': 7}\n"
          ]
        }
      ]
    },
    {
      "cell_type": "code",
      "source": [
        "sentence=[text_data[0]] # 나는 내일 공부 해야지\n",
        "print(count_vectorizer.transform(sentence).toarray())"
      ],
      "metadata": {
        "colab": {
          "base_uri": "https://localhost:8080/"
        },
        "id": "0M1hboU-pzID",
        "outputId": "398b4d24-6c32-4832-a033-5cd97d87a13e"
      },
      "execution_count": null,
      "outputs": [
        {
          "output_type": "stream",
          "name": "stdout",
          "text": [
            "[[0 1 1 0 1 0 0 0 1]]\n"
          ]
        }
      ]
    },
    {
      "cell_type": "code",
      "source": [
        "from sklearn.feature_extraction.text import CountVectorizer\n",
        "corpus = [\n",
        "    'This is the first document.',\n",
        "    'This is the second second document.',\n",
        "    'And the third one.',\n",
        "    'Is this the first document?',\n",
        "    'The last document?',\n",
        "]\n",
        "vect = CountVectorizer()\n",
        "vect.fit(corpus)\n",
        "vect.vocabulary_"
      ],
      "metadata": {
        "colab": {
          "base_uri": "https://localhost:8080/"
        },
        "id": "X6dpedRRqZRD",
        "outputId": "2359c810-0e55-4cd8-f603-1a9b7f6e1e0f"
      },
      "execution_count": null,
      "outputs": [
        {
          "output_type": "execute_result",
          "data": {
            "text/plain": [
              "{'this': 9,\n",
              " 'is': 3,\n",
              " 'the': 7,\n",
              " 'first': 2,\n",
              " 'document': 1,\n",
              " 'second': 6,\n",
              " 'and': 0,\n",
              " 'third': 8,\n",
              " 'one': 5,\n",
              " 'last': 4}"
            ]
          },
          "metadata": {},
          "execution_count": 66
        }
      ]
    },
    {
      "cell_type": "code",
      "source": [
        "vect.transform(['This is the second document.']).toarray()"
      ],
      "metadata": {
        "colab": {
          "base_uri": "https://localhost:8080/"
        },
        "id": "JlJ8IsrdqbtX",
        "outputId": "5736b1d0-e6de-47c6-caa7-35de238b33ec"
      },
      "execution_count": null,
      "outputs": [
        {
          "output_type": "execute_result",
          "data": {
            "text/plain": [
              "array([[0, 1, 0, 1, 0, 0, 1, 1, 0, 1]])"
            ]
          },
          "metadata": {},
          "execution_count": 67
        }
      ]
    },
    {
      "cell_type": "code",
      "source": [
        "vect.transform(['Something completely new.']).toarray()"
      ],
      "metadata": {
        "colab": {
          "base_uri": "https://localhost:8080/"
        },
        "id": "MXD94eE1qce1",
        "outputId": "3d771057-24db-4e16-d5c4-0815a65e4e84"
      },
      "execution_count": null,
      "outputs": [
        {
          "output_type": "execute_result",
          "data": {
            "text/plain": [
              "array([[0, 0, 0, 0, 0, 0, 0, 0, 0, 0]])"
            ]
          },
          "metadata": {},
          "execution_count": 68
        }
      ]
    },
    {
      "cell_type": "code",
      "source": [
        "vect.transform(corpus).toarray()"
      ],
      "metadata": {
        "colab": {
          "base_uri": "https://localhost:8080/"
        },
        "id": "ciAcLSpzqe3A",
        "outputId": "8e363557-57df-4140-af17-50b2b76bcb57"
      },
      "execution_count": null,
      "outputs": [
        {
          "output_type": "execute_result",
          "data": {
            "text/plain": [
              "array([[0, 1, 1, 1, 0, 0, 0, 1, 0, 1],\n",
              "       [0, 1, 0, 1, 0, 0, 2, 1, 0, 1],\n",
              "       [1, 0, 0, 0, 0, 1, 0, 1, 1, 0],\n",
              "       [0, 1, 1, 1, 0, 0, 0, 1, 0, 1],\n",
              "       [0, 1, 0, 0, 1, 0, 0, 1, 0, 0]])"
            ]
          },
          "metadata": {},
          "execution_count": 69
        }
      ]
    },
    {
      "cell_type": "markdown",
      "source": [
        "#### stopwords\n",
        "\n",
        "- Stopwords는 문서에서 단어장을 생성할 떄 무시할 수 있는 단어를 말함.\n",
        "- 보통 영어의 관사나 접속사, 한국어의 조사 등이 여기에 해당됨. stop_words 인수로 조절할 수 있다."
      ],
      "metadata": {
        "id": "fsNzZf3CqjKJ"
      }
    },
    {
      "cell_type": "code",
      "source": [
        "vect = CountVectorizer(stop_words=[\"and\", \"is\", \"the\", \"this\"]).fit(corpus)\n",
        "vect.vocabulary_"
      ],
      "metadata": {
        "colab": {
          "base_uri": "https://localhost:8080/"
        },
        "id": "yDl1qGnuqtWy",
        "outputId": "7e302a90-1444-46fa-8fcc-1aeb30f45172"
      },
      "execution_count": null,
      "outputs": [
        {
          "output_type": "execute_result",
          "data": {
            "text/plain": [
              "{'first': 1, 'document': 0, 'second': 4, 'third': 5, 'one': 3, 'last': 2}"
            ]
          },
          "metadata": {},
          "execution_count": 70
        }
      ]
    },
    {
      "cell_type": "code",
      "source": [
        "vect = CountVectorizer(stop_words=\"english\").fit(corpus)\n",
        "vect.vocabulary_"
      ],
      "metadata": {
        "colab": {
          "base_uri": "https://localhost:8080/"
        },
        "id": "Mdh6Y90cqta4",
        "outputId": "ce2edd58-e5ed-4088-aa37-592cfb2e6619"
      },
      "execution_count": null,
      "outputs": [
        {
          "output_type": "execute_result",
          "data": {
            "text/plain": [
              "{'document': 0, 'second': 1}"
            ]
          },
          "metadata": {},
          "execution_count": 71
        }
      ]
    },
    {
      "cell_type": "markdown",
      "source": [
        "#### Token\n",
        "\n",
        "- analzer, tokenizer, token_pattern 등의 인수로 사용할 토큰 생성기를 선택할 수 있음."
      ],
      "metadata": {
        "id": "Myx1j6O8qvjz"
      }
    },
    {
      "cell_type": "code",
      "source": [
        "vect = CountVectorizer(analyzer=\"char\").fit(corpus)\n",
        "vect.vocabulary_"
      ],
      "metadata": {
        "colab": {
          "base_uri": "https://localhost:8080/"
        },
        "id": "alVU6z_Uq3yo",
        "outputId": "34b7c29e-53a7-401f-8a01-cc9d42102b0d"
      },
      "execution_count": null,
      "outputs": [
        {
          "output_type": "execute_result",
          "data": {
            "text/plain": [
              "{'t': 16,\n",
              " 'h': 8,\n",
              " 'i': 9,\n",
              " 's': 15,\n",
              " ' ': 0,\n",
              " 'e': 6,\n",
              " 'f': 7,\n",
              " 'r': 14,\n",
              " 'd': 5,\n",
              " 'o': 13,\n",
              " 'c': 4,\n",
              " 'u': 17,\n",
              " 'm': 11,\n",
              " 'n': 12,\n",
              " '.': 1,\n",
              " 'a': 3,\n",
              " '?': 2,\n",
              " 'l': 10}"
            ]
          },
          "metadata": {},
          "execution_count": 72
        }
      ]
    },
    {
      "cell_type": "code",
      "source": [
        "vect = CountVectorizer(token_pattern=\"t\\w+\").fit(corpus)\n",
        "vect.vocabulary_"
      ],
      "metadata": {
        "colab": {
          "base_uri": "https://localhost:8080/"
        },
        "id": "DKzV6Movq31h",
        "outputId": "395a9d82-0ea7-4601-9937-f33167e48c1c"
      },
      "execution_count": null,
      "outputs": [
        {
          "output_type": "execute_result",
          "data": {
            "text/plain": [
              "{'this': 2, 'the': 0, 'third': 1}"
            ]
          },
          "metadata": {},
          "execution_count": 73
        }
      ]
    },
    {
      "cell_type": "code",
      "source": [
        "import nltk\n",
        "\n",
        "vect = CountVectorizer(tokenizer=nltk.word_tokenize).fit(corpus)\n",
        "vect.vocabulary_"
      ],
      "metadata": {
        "colab": {
          "base_uri": "https://localhost:8080/"
        },
        "id": "VFRqdPbVq6aR",
        "outputId": "703f2124-26b0-4c22-f878-3a6707b15ed3"
      },
      "execution_count": null,
      "outputs": [
        {
          "output_type": "execute_result",
          "data": {
            "text/plain": [
              "{'this': 11,\n",
              " 'is': 5,\n",
              " 'the': 9,\n",
              " 'first': 4,\n",
              " 'document': 3,\n",
              " '.': 0,\n",
              " 'second': 8,\n",
              " 'and': 2,\n",
              " 'third': 10,\n",
              " 'one': 7,\n",
              " '?': 1,\n",
              " 'last': 6}"
            ]
          },
          "metadata": {},
          "execution_count": 74
        }
      ]
    },
    {
      "cell_type": "markdown",
      "source": [
        "#### N-gram\n",
        "- 단어장 생성에 사용할 토큰의 크기를 결정.\n",
        "- 모노그램(Monogram)은 토큰 하나만 단어로 사용하며 바이그램(bigram)은 두 개의 연결된 토큰을 하나의 단어로 사용함."
      ],
      "metadata": {
        "id": "RLtjWN8Lq87V"
      }
    },
    {
      "cell_type": "code",
      "source": [
        "vect = CountVectorizer(ngram_range=(2, 2)).fit(corpus)\n",
        "vect.vocabulary_"
      ],
      "metadata": {
        "colab": {
          "base_uri": "https://localhost:8080/"
        },
        "id": "Hf2cmUsBq6dY",
        "outputId": "a45b6961-d204-4ba4-eb9f-e518ab9bdcf7"
      },
      "execution_count": null,
      "outputs": [
        {
          "output_type": "execute_result",
          "data": {
            "text/plain": [
              "{'this is': 12,\n",
              " 'is the': 2,\n",
              " 'the first': 7,\n",
              " 'first document': 1,\n",
              " 'the second': 9,\n",
              " 'second second': 6,\n",
              " 'second document': 5,\n",
              " 'and the': 0,\n",
              " 'the third': 10,\n",
              " 'third one': 11,\n",
              " 'is this': 3,\n",
              " 'this the': 13,\n",
              " 'the last': 8,\n",
              " 'last document': 4}"
            ]
          },
          "metadata": {},
          "execution_count": 75
        }
      ]
    },
    {
      "cell_type": "code",
      "source": [
        "vect = CountVectorizer(ngram_range=(1, 2), token_pattern=\"t\\w+\").fit(corpus)\n",
        "vect.vocabulary_"
      ],
      "metadata": {
        "colab": {
          "base_uri": "https://localhost:8080/"
        },
        "id": "9acUAue_q6g-",
        "outputId": "9ee98f40-4426-4a79-f00b-ab869bdf37ba"
      },
      "execution_count": null,
      "outputs": [
        {
          "output_type": "execute_result",
          "data": {
            "text/plain": [
              "{'this': 3, 'the': 0, 'this the': 4, 'third': 2, 'the third': 1}"
            ]
          },
          "metadata": {},
          "execution_count": 76
        }
      ]
    },
    {
      "cell_type": "markdown",
      "source": [
        "### 빈도수\n",
        "\n",
        "- max_df, min_df 인수를 사용하여 문서에서 토큰이 나타난 횟수를 기준으로 단어장을 구성할 수도 있다. 토큰의 빈도가 max_df로 지정한 값을 초과 하거나 min_df로 지정한 값보다 작은 경우에는 무시한다. 인수 값은 정수인 경우 횟수, 부동소수점인 경우 비중을 뜻한다."
      ],
      "metadata": {
        "id": "U8gwajmyrIY6"
      }
    },
    {
      "cell_type": "code",
      "source": [
        "vect = CountVectorizer(max_df=4, min_df=2).fit(corpus)\n",
        "vect.vocabulary_, vect.stop_words_"
      ],
      "metadata": {
        "colab": {
          "base_uri": "https://localhost:8080/"
        },
        "id": "MAFRLqjzq6kR",
        "outputId": "d63cb665-a421-4515-f428-719091b006c4"
      },
      "execution_count": null,
      "outputs": [
        {
          "output_type": "execute_result",
          "data": {
            "text/plain": [
              "({'this': 3, 'is': 2, 'first': 1, 'document': 0},\n",
              " {'and', 'last', 'one', 'second', 'the', 'third'})"
            ]
          },
          "metadata": {},
          "execution_count": 77
        }
      ]
    },
    {
      "cell_type": "code",
      "source": [
        "vect.transform(corpus).toarray().sum(axis=0)"
      ],
      "metadata": {
        "colab": {
          "base_uri": "https://localhost:8080/"
        },
        "id": "3fPNk2dwrLi7",
        "outputId": "eabe7b8e-4a9b-4122-8b89-4974d1ebdab1"
      },
      "execution_count": null,
      "outputs": [
        {
          "output_type": "execute_result",
          "data": {
            "text/plain": [
              "array([4, 2, 3, 3])"
            ]
          },
          "metadata": {},
          "execution_count": 78
        }
      ]
    },
    {
      "cell_type": "markdown",
      "source": [
        "### DictVectorizer\n",
        "- 문서에서 단어의 사용 빈도를 나타내는 dictionary 정보를 입력받아 BOW 인코딩한 수치 벡터로 변환"
      ],
      "metadata": {
        "id": "CXWWt56Pp7hs"
      }
    },
    {
      "cell_type": "code",
      "source": [
        "from sklearn.feature_extraction import DictVectorizer\n",
        "v = DictVectorizer(sparse=False)\n",
        "D = [{'A': 1, 'B': 2}, {'B': 3, 'C': 1}]\n",
        "X = v.fit_transform(D)\n",
        "X"
      ],
      "metadata": {
        "colab": {
          "base_uri": "https://localhost:8080/"
        },
        "id": "XKbFHNxFqFGp",
        "outputId": "ff2a412b-2b60-464f-a26c-44278d06efbd"
      },
      "execution_count": null,
      "outputs": [
        {
          "output_type": "execute_result",
          "data": {
            "text/plain": [
              "array([[1., 2., 0.],\n",
              "       [0., 3., 1.]])"
            ]
          },
          "metadata": {},
          "execution_count": 63
        }
      ]
    },
    {
      "cell_type": "code",
      "source": [
        "v.feature_names_"
      ],
      "metadata": {
        "colab": {
          "base_uri": "https://localhost:8080/"
        },
        "id": "fJnhKz4RqFKQ",
        "outputId": "dfce55ba-fead-45b4-d8e7-f0c828942dab"
      },
      "execution_count": null,
      "outputs": [
        {
          "output_type": "execute_result",
          "data": {
            "text/plain": [
              "['A', 'B', 'C']"
            ]
          },
          "metadata": {},
          "execution_count": 64
        }
      ]
    },
    {
      "cell_type": "code",
      "source": [
        "v.transform({'C':4, 'D':3})"
      ],
      "metadata": {
        "colab": {
          "base_uri": "https://localhost:8080/"
        },
        "id": "h6o2PcKgqFNT",
        "outputId": "23673194-e6eb-42f3-fc16-954fa7fc369d"
      },
      "execution_count": null,
      "outputs": [
        {
          "output_type": "execute_result",
          "data": {
            "text/plain": [
              "array([[0., 0., 4.]])"
            ]
          },
          "metadata": {},
          "execution_count": 65
        }
      ]
    },
    {
      "cell_type": "markdown",
      "metadata": {
        "id": "IDKShJStQn-l"
      },
      "source": [
        "## 희소행렬(Sparse Matrix)\n",
        "\n",
        "- 모든 문서에 포함된 모든 고유 단어를 피처로 만들어주기 때문입니다. 모든 문서의 단어를 피처로 만들어주면 수만 개에서 수십만 개의 단어가 만들어집니다. 이렇게 대규모의 행렬이 생기더라도 각 문서에 포함된 단어의 수는 제한적이기 때문에 행렬의 대부분의 값은 0으로 채워집니다. 이렇듯 대부분 값이 0으로 채워진 행렬을 희소 행렬(Sparse Matrix)이라고 합니다. \n",
        "\n",
        "![image.png](data:image/png;base64,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)"
      ]
    },
    {
      "cell_type": "markdown",
      "metadata": {
        "id": "9nmEDYzGQ4BZ"
      },
      "source": [
        "### COO 형식(Coordinate Format)\n",
        "\n",
        "- 0이 아닌 데이터만 별도의 배열에 저장하고, 그 데이터가 가리키는 행과 열의 위치를 별도의 배열에 저장하는 방식"
      ]
    },
    {
      "cell_type": "markdown",
      "metadata": {
        "id": "H1shXi9eagKx"
      },
      "source": [
        "dense = np.array([3,0,1], [0,2,0])"
      ]
    },
    {
      "cell_type": "code",
      "metadata": {
        "id": "pfT3UMSEAtGR",
        "colab": {
          "base_uri": "https://localhost:8080/"
        },
        "outputId": "93416466-dc33-417d-ef24-05347d7188ec"
      },
      "source": [
        "from scipy import sparse\n",
        "import numpy as np\n",
        "\n",
        "# 0 이 아닌 데이터 추출\n",
        "data = np.array([3,1,2])\n",
        "\n",
        "# 행 위치와 열 위치를 각각 array로 생성 \n",
        "row_pos = np.array([0,0,1])\n",
        "col_pos = np.array([0,2,1])\n",
        "\n",
        "# sparse 패키지의 coo_matrix를 이용하여 COO 형식으로 희소 행렬 생성\n",
        "sparse_coo = sparse.coo_matrix((data, (row_pos,col_pos)))\n",
        "\n",
        "print(type(sparse_coo))\n",
        "print(sparse_coo)\n",
        "dense01=sparse_coo.toarray()\n",
        "print(type(dense01),\"\\n\", dense01)"
      ],
      "execution_count": null,
      "outputs": [
        {
          "output_type": "stream",
          "name": "stdout",
          "text": [
            "<class 'scipy.sparse.coo.coo_matrix'>\n",
            "  (0, 0)\t3\n",
            "  (0, 2)\t1\n",
            "  (1, 1)\t2\n",
            "<class 'numpy.ndarray'> \n",
            " [[3 0 1]\n",
            " [0 2 0]]\n"
          ]
        }
      ]
    },
    {
      "cell_type": "markdown",
      "metadata": {
        "id": "iTLN0N-UROPj"
      },
      "source": [
        "sparse_coo는 COO 형식의 희소 행렬 객체 변수입니다. sparse_coo.toarray()를 해주면 원본 행렬이 추출됨을 알 수 있습니다."
      ]
    },
    {
      "cell_type": "markdown",
      "metadata": {
        "id": "hXDCeMKpRPhT"
      },
      "source": [
        "### CSR 형식(Compressed sparse row)\n",
        "\n",
        "- COO 형식은 행과 열의 위치를 나타내기 위해서 반복적으로 위치 데이터를 사용해야 합니다. 무슨 말인지 예를 들어 설명해보겠습니다. 아래와 같은 행렬이 있다고 가정해보겠습니다.\n",
        "\n",
        "![image.png](data:image/png;base64,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)\n",
        "\n"
      ]
    },
    {
      "cell_type": "markdown",
      "metadata": {
        "id": "Ox1s59RTRd8I"
      },
      "source": [
        "0이 아닌 값의 행과 열의 위치를 나타내는 배열을 구해보면,\n",
        "\n",
        "행 위치 배열 = [0, 0, 1, 1, 1, 1, 1, 2, 2, 3, 4, 4, 5],\n",
        "\n",
        "열 위치 배열 = [2, 5, 0, 1, 3, 4, 5, 1, 3, 0, 3, 5, 0]입니다.\n",
        "\n",
        "행 위치 배열인 [0, 0, 1, 1, 1, 1, 1, 2, 2, 3, 4, 4, 5]을 보면 순차적으로 같은 값이 반복적으로 나타남을 볼 수 있습니다. 0이 2번, 1이 5번, 2가 2번, 4가 2번 반복됩니다. 행 위치 배열이 0부터 순차적으로 증가한다는 특성을 고려해 행 위치 배열의 고유한 값의 시작 위치만 표기하는 방법으로 이런 반복을 제거할 수 있습니다. 0의 시작 인덱스는 0이고, 1의 시작 인덱스는 2이며, 2의 시작 인덱스는 7입니다. \n",
        "\n",
        "따라서 행 위치 배열인 [0, 0, 1, 1, 1, 1, 1, 2, 2, 3, 4, 4, 5]을 행 위치 배열 내 고유한 값의 시작 위치 배열인 [0, 2, 7, 9, 10, 12]로 변환하면 반복도 줄이고 메모리도 적게 사용할 수 있습니다. 마지막에는 총항목의 개수를 추가해주면 됩니다. 총항목이 13개이므로 최종 배열은 [0, 2, 7, 9, 10, 12, 13]입니다.\n",
        "\n",
        "이렇듯 COO 형식의 문제점을 보완하기 위한 방식이 CSR(Compressed Sparse Row) 형식입니다. COO 형식에 비해 메모리가 적게 들고 빠른 연산이 가능하여, 일반적으로 COO 형식보다는 CSR 형식을 많이 씁니다.\n",
        "\n",
        "예제를 통해 COO 형식과 CSR 형식을 비교해보겠습니다."
      ]
    },
    {
      "cell_type": "code",
      "metadata": {
        "id": "dFRXZjcqRdUP",
        "colab": {
          "base_uri": "https://localhost:8080/"
        },
        "outputId": "551b6649-86c8-4dff-835d-4db6b33910a0"
      },
      "source": [
        "from scipy import sparse\n",
        "\n",
        "dense2 = np.array([[0,0,1,0,0,5],\n",
        "             [1,4,0,3,2,5],\n",
        "             [0,6,0,3,0,0],\n",
        "             [2,0,0,0,0,0],\n",
        "             [0,0,0,7,0,8],\n",
        "             [1,0,0,0,0,0]])\n",
        "\n",
        "# 0 이 아닌 데이터 추출\n",
        "data2 = np.array([1, 5, 1, 4, 3, 2, 5, 6, 3, 2, 7, 8, 1])\n",
        "\n",
        "# 행 위치와 열 위치를 각각 array로 생성 \n",
        "row_pos = np.array([0, 0, 1, 1, 1, 1, 1, 2, 2, 3, 4, 4, 5])\n",
        "col_pos = np.array([2, 5, 0, 1, 3, 4, 5, 1, 3, 0, 3, 5, 0])\n",
        "\n",
        "# COO 형식으로 변환 \n",
        "sparse_coo = sparse.coo_matrix((data2, (row_pos,col_pos)))\n",
        "\n",
        "# 행 위치 배열의 고유한 값들의 시작 위치 인덱스를 배열로 생성\n",
        "row_pos_ind = np.array([0, 2, 7, 9, 10, 12, 13])\n",
        "\n",
        "# CSR 형식으로 변환 \n",
        "sparse_csr = sparse.csr_matrix((data2, col_pos, row_pos_ind))\n",
        "\n",
        "print('COO 변환된 데이터가 제대로 되었는지 다시 Dense로 출력 확인')\n",
        "print(sparse_coo.toarray())\n",
        "print('CSR 변환된 데이터가 제대로 되었는지 다시 Dense로 출력 확인')\n",
        "print(sparse_csr.toarray())"
      ],
      "execution_count": null,
      "outputs": [
        {
          "output_type": "stream",
          "name": "stdout",
          "text": [
            "COO 변환된 데이터가 제대로 되었는지 다시 Dense로 출력 확인\n",
            "[[0 0 1 0 0 5]\n",
            " [1 4 0 3 2 5]\n",
            " [0 6 0 3 0 0]\n",
            " [2 0 0 0 0 0]\n",
            " [0 0 0 7 0 8]\n",
            " [1 0 0 0 0 0]]\n",
            "CSR 변환된 데이터가 제대로 되었는지 다시 Dense로 출력 확인\n",
            "[[0 0 1 0 0 5]\n",
            " [1 4 0 3 2 5]\n",
            " [0 6 0 3 0 0]\n",
            " [2 0 0 0 0 0]\n",
            " [0 0 0 7 0 8]\n",
            " [1 0 0 0 0 0]]\n"
          ]
        }
      ]
    },
    {
      "cell_type": "code",
      "metadata": {
        "id": "QeAAtRXac_IX",
        "colab": {
          "base_uri": "https://localhost:8080/"
        },
        "outputId": "3eed9f8e-7792-4417-96a5-c2579e3d7f24"
      },
      "source": [
        "from numpy import array\n",
        "from scipy import sparse\n",
        "dense = array([[1, 0, 0, 1, 0, 0], [0, 0, 2, 0, 0, 1], [0, 0, 0, 2, 0, 0]])\n",
        "\n",
        "coo = sparse.coo_matrix(dense)\n",
        "print(coo)"
      ],
      "execution_count": null,
      "outputs": [
        {
          "output_type": "stream",
          "name": "stdout",
          "text": [
            "  (0, 0)\t1\n",
            "  (0, 3)\t1\n",
            "  (1, 2)\t2\n",
            "  (1, 5)\t1\n",
            "  (2, 3)\t2\n"
          ]
        }
      ]
    },
    {
      "cell_type": "code",
      "metadata": {
        "id": "Q1_ZOYxndMJA",
        "colab": {
          "base_uri": "https://localhost:8080/"
        },
        "outputId": "da3460c8-0a35-4f37-d172-bd9f1ee2eecf"
      },
      "source": [
        "csr = sparse.csr_matrix(dense)\n",
        "print(csr)"
      ],
      "execution_count": null,
      "outputs": [
        {
          "output_type": "stream",
          "name": "stdout",
          "text": [
            "  (0, 0)\t1\n",
            "  (0, 3)\t1\n",
            "  (1, 2)\t2\n",
            "  (1, 5)\t1\n",
            "  (2, 3)\t2\n"
          ]
        }
      ]
    },
    {
      "cell_type": "markdown",
      "metadata": {
        "id": "85zdUsDZRoHg"
      },
      "source": [
        "사이킷런의 CountVectorizer, TfidfVectorizer 클래스로 피처 벡터화된 행렬은 모두 CSR 형식입니다."
      ]
    },
    {
      "cell_type": "markdown",
      "metadata": {
        "id": "1xYzJZUMvhu_"
      },
      "source": [
        "# TF-IDF(Term Frequency-Inverse Document Frequency)\n",
        "\n",
        "- 카운트만 부여할 경우 그 문서의 특징을 나타내기보다는 언어의 특성상 문장에서 자주 사용될 수밖에 없는 단어까지 높은 값을 부여하게 됨. 이러한 문제를 보완하기 위해 TF-IDF 벡터화를 사용\n",
        "- TF-IDF는 **개별 문서에서 자주 나타나는 단어에 높은 가중치를 주되, 모든 문서에서 전반적으로 자주 나타나는 단어에 대해서는 패널티를 주는 방식으로 값을 부여**\n",
        "\n",
        "\n",
        "- TF-IDF(Term Frequency-Inverse Document Frequency)는 단어의 빈도와 역 문서 빈도(문서의 빈도에 특정 식을 취함)를 사용하여 DTM 내의** 각 단어들마다 중요한 정도를 가중치로 주는 방법**입니다. 사용 방법은 우선 DTM을 만든 후, TF-IDF 가중치를 부여합니다.\n",
        "\n",
        "- TF-IDF는 **주로 문서의 유사도를 구하는 작업**, 검색 시스템에서 검색 결과의 중요도를 정하는 작업, 문서 내에서 특정 단어의 중요도를 구하는 작업 등에 쓰일 수 있음.\n",
        "\n",
        "- 특정 단어가 다른 문서에는 나타나지 않고 특정 문서에서만 자주 사용된다면 해당 단어는 해당 문서를 잘 특징짓는 중요 단어일 가능성이 높음\n",
        "\n",
        "0 특정 단어가 매우 많은 여러 문서에서 빈번히 나타난다면 해당 단어는 개별 문서를 특징짓는 정보로서의 의미를 상실.\n",
        "\n",
        "- TF-IDF는 TF와 IDF를 곱한 값을 의미하는데 이를 식으로 표현해보겠습니다. 문서를 d, 단어를 t, 문서의 총 개수를 n이라고 표현할 때 TF, DF, IDF는 각각 다음과 같이 정의할 수 있습니다.\n",
        "\n",
        "### 1. tf(d,t) : 특정 문서 d에서의 특징 단어 t의 등장 횟수\n",
        "- TF는 앞에서 배운 DTM의 예제에서 각 단어들이 가진 값들입니다. DTM이 각 문서에서의 각 단어의 등장 빈도를 나타내는 값이었기 때문.\n",
        "\n",
        "- 문서에서 해당 단어가 얼마나 나왔는지를 나타내는 지표\n",
        "\n",
        "\n",
        "### 2. df(t) : 특정 단어 t가 등장한 문서의 수\n",
        "- 여기서 특정 단어가 각 문서, 또는 문서들에서 몇 번 등장했는지는 관심가지지 않으며 오직 특정 단어 t가 등장한 문서의 수에만 관심을 가집니다.\n",
        "- 해당 단어가 몇 개의 문서에서 나타났는지를 나타내는 지표\n",
        "\n",
        "### 3. idf(d,t) : df(t)에 반비례하는 수\n",
        "- df의 역수로서 (${\\dfrac {전체 문서수}{DF}})$\n",
        "\n",
        "- TF-IDF  = $TF_i{\\times}{log{{\\dfrac{N}{DF_i}}}}$, $TF_i$ = 개별 문서에서의 단어 $i$빈도, $DF_i$ = 단어 $i$를 가지고 있는 문서 개수, $N$ = 전체 문서 개수\n",
        "\n",
        "\n",
        "$idf(d,t) = {\\log} ({\\dfrac{n}{1+df(t)}})$\n",
        "\n",
        "\n",
        "- IDF라는 이름을 보고 DF의 역수가 아닐까 생각했다면, IDF는 DF의 역수를 취하고 싶은 것이 맞습니다. 그런데 log와 분모에 1을 더해주는 식에 의아하실 수 있습니다. log를 사용하지 않았을 때, IDF를 DF의 역수(${\\dfrac{n}{df(t)}}$라는 식)로 사용한다면 총 문서의 수 n이 커질 수록, IDF의 값은 기하급수적으로 커지게 됩니다. 그렇기 때문에 log를 사용합니다.\n",
        "\n",
        "왜 log가 필요한지 n=1,000,000일 때의 예를 들어봅시다. log의 밑은 10을 사용한다고 가정하였을 때 결과는 아래와 같습니다.\n",
        "\n",
        "$idf(d,t)=log(n/df(t)), n=1,000,000$\n",
        "\n",
        "![image.png](data:image/png;base64,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)"
      ]
    },
    {
      "cell_type": "markdown",
      "metadata": {
        "id": "O6Dwv-v61lM6"
      },
      "source": [
        "log를 사용하지 않으면 idf의 값이 어떻게 커지는지 보겠습니다.\n",
        "\n",
        "$idf(d,t) = n/df(t) , n=1,000,000\n",
        "\n",
        "![image.png](data:image/png;base64,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)"
      ]
    },
    {
      "cell_type": "markdown",
      "metadata": {
        "id": "fjERJ4GG34eq"
      },
      "source": [
        "- 또 다른 직관적인 설명은 불용어 등과 같이 자주 쓰이는 단어들은 비교적 자주 쓰이지 않는 단어들보다 최소 수십 배 자주 등장합니다. 그런데 비교적 자주 쓰이지 않는 단어들조차 희귀 단어들과 비교하면 또 최소 수백 배는 더 자주 등장하는 편입니다. 이 때문에 log를 씌워주지 않으면, 희귀 단어들에 엄청난 가중치가 부여될 수 있습니다. 로그를 씌우면 이런 격차를 줄이는 효과가 있습니다.\n",
        "\n",
        "- 또한 log 안의 식에서 분모에 1을 더해주는 이유는 첫번째 이유로는 특정 단어가 전체 문서에서 등장하지 않을 경우에 분모가 0이 되는 상황을 방지하기 위함입니다.\n",
        "\n",
        "- TF-IDF는 모든 문서에서 자주 등장하는 단어는 중요도가 낮다고 판단하며, 특정 문서에서만 자주 등장하는 단어는 중요도가 높다고 판단합니다. TF-IDF 값이 낮으면 중요도가 낮은 것이며, TF-IDF 값이 크면 중요도가 큰 것입니다. 즉, the나 a와 같이 불용어의 경우에는 모든 문서에 자주 등장하기 마련이기 때문에 자연스럽게 불용어의 TF-IDF의 값은 다른 단어의 TF-IDF에 비해서 낮아지게 됩니다.\n",
        "\n",
        "![image.png](data:image/png;base64,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)"
      ]
    },
    {
      "cell_type": "markdown",
      "metadata": {
        "id": "QeukRIpI3_lX"
      },
      "source": [
        "- 앞서 DTM을 설명하기위해 들었던 위의 예제를 가지고 TF-IDF에 대해 이해해보도록 하겠습니다. 우선 TF는 앞서 사용한 DTM을 그대로 사용하면, 그것이 각 문서에서의 각 단어의 TF가 됩니다.\n",
        "\n",
        "- 그렇다면 이제 구해야할 것은 TF와 곱해야할 값인 IDF입니다. 로그는 자연 로그를 사용하도록 하겠습니다. 자연 로그는 로그의 밑을 자연 상수 e(e=2.718281...)를 사용하는 로그를 말합니다. IDF 계산을 위해 사용하는 로그의 밑은 TF-IDF를 사용하는 사용자가 임의로 정할 수 있는데, 여기서 로그는 마치 기존의 값에 곱하여 값의 크기를 조절하는 상수의 역할을 합니다. 그런데 보통 각종 프로그래밍 언어나 프로그램에서 패키지로 지원하는 TF-IDF의 로그는 대부분 자연 로그를 사용합니다. 그렇기 때문에 저 또한 자연 로그를 사용하도록 하겠습니다. 자연 로그는 보통 log라고 표현하지 않고, ln이라고 표현합니다.\n",
        "\n",
        "![image.png](data:image/png;base64,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)"
      ]
    },
    {
      "cell_type": "markdown",
      "metadata": {
        "id": "Z8I_biW44H-7"
      },
      "source": [
        "- 문서의 총 수는 4이기 때문에 ln 안에서 분자는 늘 4으로 동일합니다. 분모의 경우에는 각 단어가 등장한 문서의 수(DF)를 의미하는데, 예를 들어서 '먹고'의 경우에는 총 2개의 문서(문서1, 문서2)에 등장했기 때문에 2라는 값을 가집니다. 각 단어에 대해서 IDF의 값을 비교해보면 문서 1개에만 등장한 단어와 문서2개에만 등장한 단어는 값의 차이를 보입니다. IDF는 여러 문서에서 등장한 단어의 가중치를 낮추는 역할을 하기 때문입니다.\n",
        "\n",
        "- 그러면 이제 TF-IDF를 계산해보도록 하겠습니다. TF는 DTM을 그대로 가져오면 각 문서에서의 각 단어의 TF를 가져오게 되기 때문에, 앞서 사용한 DTM에서 단어 별로 위의 IDF값을 그대로 곱해주면 TF-IDF가 나오게 됩니다.\n",
        "\n",
        "![image.png](data:image/png;base64,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)"
      ]
    },
    {
      "cell_type": "markdown",
      "metadata": {
        "id": "Q21LZjVL4Ru5"
      },
      "source": [
        "사실 예제 문서가 굉장히 간단하기 때문에 계산은 매우 쉽습니다. 문서3에서의 바나나만 TF 값이 2이므로 IDF에 2를 곱해주고, 나머진 TF 값이 1이므로 그대로 IDF 값을 가져오면 됩니다. 문서2에서의 바나나의 TF-IDF 가중치와 문서3에서의 바나나의 TF-IDF 가중치가 다른 것을 볼 수 있습니다. 수식적으로 말하면, TF가 각각 1과 2로 달랐기 때문인데 TF-IDF에서의 관점에서 보자면 TF-IDF는 특정 문서에서 자주 등장하는 단어는 그 문서 내에서 중요한 단어로 판단하기 때문입니다. 문서2에서는 바나나를 한 번 언급했지만, 문서3에서는 바나나를 두 번 언급했기 때문에 문서3에서의 바나나를 더욱 중요한 단어라고 판단하는 것입니다."
      ]
    },
    {
      "cell_type": "markdown",
      "metadata": {
        "id": "ROxTklbB4S_2"
      },
      "source": [
        "파이썬으로 TF-IDF 직접 구현하기\n",
        "\n"
      ]
    },
    {
      "cell_type": "code",
      "metadata": {
        "id": "AySwed1qpklY"
      },
      "source": [
        "import pandas as pd # 데이터프레임 사용을 위해\n",
        "from math import log # IDF 계산을 위해"
      ],
      "execution_count": null,
      "outputs": []
    },
    {
      "cell_type": "code",
      "metadata": {
        "colab": {
          "base_uri": "https://localhost:8080/"
        },
        "id": "SS3cqqxS4W6Z",
        "outputId": "2614d155-568a-40ac-ea44-b3a5e6e6bec7"
      },
      "source": [
        "docs = [\n",
        "  '먹고 싶은 사과',\n",
        "  '먹고 싶은 바나나',\n",
        "  '길고 노란 바나나 바나나',\n",
        "  '저는 과일이 좋아요'\n",
        "] \n",
        "vocab = list(set(w for doc in docs for w in doc.split()))\n",
        "vocab.sort()\n",
        "vocab"
      ],
      "execution_count": null,
      "outputs": [
        {
          "output_type": "execute_result",
          "data": {
            "text/plain": [
              "['과일이', '길고', '노란', '먹고', '바나나', '사과', '싶은', '저는', '좋아요']"
            ]
          },
          "metadata": {},
          "execution_count": 104
        }
      ]
    },
    {
      "cell_type": "code",
      "metadata": {
        "id": "EE_vYmSL4Xzk"
      },
      "source": [
        "#TF,IDF 그리고 TF-IDF 값을 구하는 함수\n",
        "N = len(docs) # 총 문서의 수\n",
        "\n",
        "def tf(t, d):\n",
        "    return d.count(t)\n",
        "\n",
        "def idf(t):\n",
        "    df = 0\n",
        "    for doc in docs:\n",
        "        df += t in doc\n",
        "    return log(N/(df + 1))\n",
        "\n",
        "def tfidf(t, d):\n",
        "    return tf(t,d)* idf(t)"
      ],
      "execution_count": null,
      "outputs": []
    },
    {
      "cell_type": "code",
      "metadata": {
        "colab": {
          "base_uri": "https://localhost:8080/",
          "height": 173
        },
        "id": "AyV1EWVO4dRS",
        "outputId": "f065af9b-2b89-44a3-b2f0-615fa542a1da"
      },
      "source": [
        "#TF를 구해보자. ->DTM을 데이터프레임에 저장하여 출력\n",
        "\n",
        "result = []\n",
        "for i in range(N): # 각 문서에 대해서 아래 명령을 수행\n",
        "    result.append([])\n",
        "    d = docs[i]\n",
        "    for j in range(len(vocab)):\n",
        "        t = vocab[j]        \n",
        "        result[-1].append(tf(t, d))\n",
        "\n",
        "tf_ = pd.DataFrame(result, columns = vocab)\n",
        "tf_"
      ],
      "execution_count": null,
      "outputs": [
        {
          "output_type": "execute_result",
          "data": {
            "text/html": [
              "<div>\n",
              "<style scoped>\n",
              "    .dataframe tbody tr th:only-of-type {\n",
              "        vertical-align: middle;\n",
              "    }\n",
              "\n",
              "    .dataframe tbody tr th {\n",
              "        vertical-align: top;\n",
              "    }\n",
              "\n",
              "    .dataframe thead th {\n",
              "        text-align: right;\n",
              "    }\n",
              "</style>\n",
              "<table border=\"1\" class=\"dataframe\">\n",
              "  <thead>\n",
              "    <tr style=\"text-align: right;\">\n",
              "      <th></th>\n",
              "      <th>과일이</th>\n",
              "      <th>길고</th>\n",
              "      <th>노란</th>\n",
              "      <th>먹고</th>\n",
              "      <th>바나나</th>\n",
              "      <th>사과</th>\n",
              "      <th>싶은</th>\n",
              "      <th>저는</th>\n",
              "      <th>좋아요</th>\n",
              "    </tr>\n",
              "  </thead>\n",
              "  <tbody>\n",
              "    <tr>\n",
              "      <th>0</th>\n",
              "      <td>0</td>\n",
              "      <td>0</td>\n",
              "      <td>0</td>\n",
              "      <td>1</td>\n",
              "      <td>0</td>\n",
              "      <td>1</td>\n",
              "      <td>1</td>\n",
              "      <td>0</td>\n",
              "      <td>0</td>\n",
              "    </tr>\n",
              "    <tr>\n",
              "      <th>1</th>\n",
              "      <td>0</td>\n",
              "      <td>0</td>\n",
              "      <td>0</td>\n",
              "      <td>1</td>\n",
              "      <td>1</td>\n",
              "      <td>0</td>\n",
              "      <td>1</td>\n",
              "      <td>0</td>\n",
              "      <td>0</td>\n",
              "    </tr>\n",
              "    <tr>\n",
              "      <th>2</th>\n",
              "      <td>0</td>\n",
              "      <td>1</td>\n",
              "      <td>1</td>\n",
              "      <td>0</td>\n",
              "      <td>2</td>\n",
              "      <td>0</td>\n",
              "      <td>0</td>\n",
              "      <td>0</td>\n",
              "      <td>0</td>\n",
              "    </tr>\n",
              "    <tr>\n",
              "      <th>3</th>\n",
              "      <td>1</td>\n",
              "      <td>0</td>\n",
              "      <td>0</td>\n",
              "      <td>0</td>\n",
              "      <td>0</td>\n",
              "      <td>0</td>\n",
              "      <td>0</td>\n",
              "      <td>1</td>\n",
              "      <td>1</td>\n",
              "    </tr>\n",
              "  </tbody>\n",
              "</table>\n",
              "</div>"
            ],
            "text/plain": [
              "   과일이  길고  노란  먹고  바나나  사과  싶은  저는  좋아요\n",
              "0    0   0   0   1    0   1   1   0    0\n",
              "1    0   0   0   1    1   0   1   0    0\n",
              "2    0   1   1   0    2   0   0   0    0\n",
              "3    1   0   0   0    0   0   0   1    1"
            ]
          },
          "metadata": {},
          "execution_count": 106
        }
      ]
    },
    {
      "cell_type": "code",
      "metadata": {
        "colab": {
          "base_uri": "https://localhost:8080/",
          "height": 328
        },
        "id": "f118eIvi4lcG",
        "outputId": "abba683e-ac52-413f-da45-067df305818a"
      },
      "source": [
        "#정상적인 DTM이 출력되어짐. 이제 각 단어에 대한 IDF 값을 구해보자\n",
        "\n",
        "result = []\n",
        "for j in range(len(vocab)):\n",
        "    t = vocab[j]\n",
        "    result.append(idf(t))\n",
        "\n",
        "idf_ = pd.DataFrame(result, index = vocab, columns = [\"IDF\"])\n",
        "idf_"
      ],
      "execution_count": null,
      "outputs": [
        {
          "output_type": "execute_result",
          "data": {
            "text/html": [
              "<div>\n",
              "<style scoped>\n",
              "    .dataframe tbody tr th:only-of-type {\n",
              "        vertical-align: middle;\n",
              "    }\n",
              "\n",
              "    .dataframe tbody tr th {\n",
              "        vertical-align: top;\n",
              "    }\n",
              "\n",
              "    .dataframe thead th {\n",
              "        text-align: right;\n",
              "    }\n",
              "</style>\n",
              "<table border=\"1\" class=\"dataframe\">\n",
              "  <thead>\n",
              "    <tr style=\"text-align: right;\">\n",
              "      <th></th>\n",
              "      <th>IDF</th>\n",
              "    </tr>\n",
              "  </thead>\n",
              "  <tbody>\n",
              "    <tr>\n",
              "      <th>과일이</th>\n",
              "      <td>0.693147</td>\n",
              "    </tr>\n",
              "    <tr>\n",
              "      <th>길고</th>\n",
              "      <td>0.693147</td>\n",
              "    </tr>\n",
              "    <tr>\n",
              "      <th>노란</th>\n",
              "      <td>0.693147</td>\n",
              "    </tr>\n",
              "    <tr>\n",
              "      <th>먹고</th>\n",
              "      <td>0.287682</td>\n",
              "    </tr>\n",
              "    <tr>\n",
              "      <th>바나나</th>\n",
              "      <td>0.287682</td>\n",
              "    </tr>\n",
              "    <tr>\n",
              "      <th>사과</th>\n",
              "      <td>0.693147</td>\n",
              "    </tr>\n",
              "    <tr>\n",
              "      <th>싶은</th>\n",
              "      <td>0.287682</td>\n",
              "    </tr>\n",
              "    <tr>\n",
              "      <th>저는</th>\n",
              "      <td>0.693147</td>\n",
              "    </tr>\n",
              "    <tr>\n",
              "      <th>좋아요</th>\n",
              "      <td>0.693147</td>\n",
              "    </tr>\n",
              "  </tbody>\n",
              "</table>\n",
              "</div>"
            ],
            "text/plain": [
              "          IDF\n",
              "과일이  0.693147\n",
              "길고   0.693147\n",
              "노란   0.693147\n",
              "먹고   0.287682\n",
              "바나나  0.287682\n",
              "사과   0.693147\n",
              "싶은   0.287682\n",
              "저는   0.693147\n",
              "좋아요  0.693147"
            ]
          },
          "metadata": {},
          "execution_count": 107
        }
      ]
    },
    {
      "cell_type": "code",
      "metadata": {
        "colab": {
          "base_uri": "https://localhost:8080/",
          "height": 173
        },
        "id": "mh0LIfqx4rUL",
        "outputId": "f2c3d879-4be4-44b5-88cd-ccbf828e3c25"
      },
      "source": [
        "#TF-IDF 행렬을 출력\n",
        "\n",
        "result = []\n",
        "for i in range(N):\n",
        "    result.append([])\n",
        "    d = docs[i]\n",
        "    for j in range(len(vocab)):\n",
        "        t = vocab[j]\n",
        "\n",
        "        result[-1].append(tfidf(t,d))\n",
        "\n",
        "tfidf_ = pd.DataFrame(result, columns = vocab)\n",
        "tfidf_"
      ],
      "execution_count": null,
      "outputs": [
        {
          "output_type": "execute_result",
          "data": {
            "text/html": [
              "<div>\n",
              "<style scoped>\n",
              "    .dataframe tbody tr th:only-of-type {\n",
              "        vertical-align: middle;\n",
              "    }\n",
              "\n",
              "    .dataframe tbody tr th {\n",
              "        vertical-align: top;\n",
              "    }\n",
              "\n",
              "    .dataframe thead th {\n",
              "        text-align: right;\n",
              "    }\n",
              "</style>\n",
              "<table border=\"1\" class=\"dataframe\">\n",
              "  <thead>\n",
              "    <tr style=\"text-align: right;\">\n",
              "      <th></th>\n",
              "      <th>과일이</th>\n",
              "      <th>길고</th>\n",
              "      <th>노란</th>\n",
              "      <th>먹고</th>\n",
              "      <th>바나나</th>\n",
              "      <th>사과</th>\n",
              "      <th>싶은</th>\n",
              "      <th>저는</th>\n",
              "      <th>좋아요</th>\n",
              "    </tr>\n",
              "  </thead>\n",
              "  <tbody>\n",
              "    <tr>\n",
              "      <th>0</th>\n",
              "      <td>0.000000</td>\n",
              "      <td>0.000000</td>\n",
              "      <td>0.000000</td>\n",
              "      <td>0.287682</td>\n",
              "      <td>0.000000</td>\n",
              "      <td>0.693147</td>\n",
              "      <td>0.287682</td>\n",
              "      <td>0.000000</td>\n",
              "      <td>0.000000</td>\n",
              "    </tr>\n",
              "    <tr>\n",
              "      <th>1</th>\n",
              "      <td>0.000000</td>\n",
              "      <td>0.000000</td>\n",
              "      <td>0.000000</td>\n",
              "      <td>0.287682</td>\n",
              "      <td>0.287682</td>\n",
              "      <td>0.000000</td>\n",
              "      <td>0.287682</td>\n",
              "      <td>0.000000</td>\n",
              "      <td>0.000000</td>\n",
              "    </tr>\n",
              "    <tr>\n",
              "      <th>2</th>\n",
              "      <td>0.000000</td>\n",
              "      <td>0.693147</td>\n",
              "      <td>0.693147</td>\n",
              "      <td>0.000000</td>\n",
              "      <td>0.575364</td>\n",
              "      <td>0.000000</td>\n",
              "      <td>0.000000</td>\n",
              "      <td>0.000000</td>\n",
              "      <td>0.000000</td>\n",
              "    </tr>\n",
              "    <tr>\n",
              "      <th>3</th>\n",
              "      <td>0.693147</td>\n",
              "      <td>0.000000</td>\n",
              "      <td>0.000000</td>\n",
              "      <td>0.000000</td>\n",
              "      <td>0.000000</td>\n",
              "      <td>0.000000</td>\n",
              "      <td>0.000000</td>\n",
              "      <td>0.693147</td>\n",
              "      <td>0.693147</td>\n",
              "    </tr>\n",
              "  </tbody>\n",
              "</table>\n",
              "</div>"
            ],
            "text/plain": [
              "        과일이        길고        노란  ...        싶은        저는       좋아요\n",
              "0  0.000000  0.000000  0.000000  ...  0.287682  0.000000  0.000000\n",
              "1  0.000000  0.000000  0.000000  ...  0.287682  0.000000  0.000000\n",
              "2  0.000000  0.693147  0.693147  ...  0.000000  0.000000  0.000000\n",
              "3  0.693147  0.000000  0.000000  ...  0.000000  0.693147  0.693147\n",
              "\n",
              "[4 rows x 9 columns]"
            ]
          },
          "metadata": {},
          "execution_count": 108
        }
      ]
    },
    {
      "cell_type": "markdown",
      "metadata": {
        "id": "tbKTj5Ey4zNs"
      },
      "source": [
        "지금까지 TF-IDF의 가장 기본적인 식에 대해서 학습하고, 이를 실제로 구현하는 실습을 진행해보았습니다. 그런데 사실 실제 TF-IDF 구현을 제공하고 있는 많은 패키지들은 패키지마다 식이 조금씩 다르긴 하지만, 위에서 배운 기본 식에서 조정된 식을 사용합니다. 그 이유는 위의 기본적인 식을 바탕으로 한 구현에도 여전히 문제점이 존재하기 때문입니다. 만약 전체 문서의 수 n이 4인데, df(t)의 값이 3인 경우에는 어떤 일이 벌어질까요? df(t)에 1이 더해지면서 log항의 분자와 분모의 값이 같아지게 됩니다.\n",
        "\n",
        "이는 log의 진수값이 1이 되면서 idf(d,t)의 값이 0이 됨을 의미합니다. 식으로 표현하면 idf(d,t)=log(n/(df(t)+1))=0입니다. IDF의 값이 0이라면 더 이상 가중치의 역할을 수행하지 못합니다. 그래서 실제 구현체는 idf(d,t)=log(n/(df(t)+1))+1과 같이 log항에 1을 더해줘서 log항의 값이 0이 되더라도 IDF가 최소 1이상의 값을 가지도록 합니다. 사이킷런도 이 방식을 사용합니다."
      ]
    },
    {
      "cell_type": "markdown",
      "metadata": {
        "id": "Gzhnlsq7400F"
      },
      "source": [
        "사이킷런을 이용한 DTM과 TF-IDF 실습"
      ]
    },
    {
      "cell_type": "code",
      "metadata": {
        "id": "jhx7BCqq4vig"
      },
      "source": [
        "from sklearn.feature_extraction.text import CountVectorizer\n",
        "corpus = [\n",
        "    'you know I want your love',\n",
        "    'I like you',\n",
        "    'what should I do ',    \n",
        "]\n",
        "vector = CountVectorizer()\n",
        "print(vector.fit_transform(corpus).toarray()) # 코퍼스로부터 각 단어의 빈도 수를 기록한다.\n",
        "print(vector.vocabulary_) # 각 단어의 인덱스가 어떻게 부여되었는지를 보여준다."
      ],
      "execution_count": null,
      "outputs": []
    },
    {
      "cell_type": "markdown",
      "metadata": {
        "id": "QvsH9Up247Bx"
      },
      "source": [
        "DTM이 완성되었습니다. DTM에서 각 단어의 인덱스가 어떻게 부여되었는지를 확인하기 위해, 인덱스를 확인해보았습니다. 첫번째 열의 경우에는 0의 인덱스를 가진 do입니다. do는 세번째 문서에만 등장했기 때문에, 세번째 행에서만 1의 값을 가집니다. 두번째 열의 경우에는 1의 인덱스를 가진 know입니다. know는 첫번째 문서에만 등장했기 때문에 첫번째 행에서만 1의 값을 가집니다.\n",
        "\n",
        "사이킷런은 TF-IDF를 자동 계산해주는 TfidfVectorizer를 제공합니다. 향후 실습을 하다가 혼란이 생기지 않도록 언급하자면, 사이킷런의 TF-IDF는 위에서 배웠던 보편적인 TF-IDF 식에서 좀 더 조정된 다른 식을 사용합니다. 하지만 크게 다른 식은 아니며(IDF의 로그항의 분자에 1을 더해주며, 로그항에 1을 더해주고, TF-IDF에 L2 정규화라는 방법으로 값을 조정하는 등의 차이), 여전히 TF-IDF가 가진 의도를 그대로 갖고 있으므로 사이킷런의 TF-IDF를 그대로 사용하셔도 좋습니다."
      ]
    },
    {
      "cell_type": "code",
      "metadata": {
        "id": "qovwyeEf45jB"
      },
      "source": [
        "from sklearn.feature_extraction.text import TfidfVectorizer\n",
        "corpus = [\n",
        "    'you know I want your love',\n",
        "    'I like you',\n",
        "    'what should I do ',    \n",
        "]\n",
        "tfidfv = TfidfVectorizer().fit(corpus)\n",
        "print(tfidfv.transform(corpus).toarray())\n",
        "print(tfidfv.vocabulary_)"
      ],
      "execution_count": null,
      "outputs": []
    }
  ]
}