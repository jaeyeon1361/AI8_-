{
  "nbformat": 4,
  "nbformat_minor": 0,
  "metadata": {
    "colab": {
      "provenance": []
    },
    "kernelspec": {
      "name": "python3",
      "display_name": "Python 3"
    },
    "language_info": {
      "name": "python"
    }
  },
  "cells": [
    {
      "cell_type": "code",
      "execution_count": null,
      "metadata": {
        "id": "u0DLQggbRVEv"
      },
      "outputs": [],
      "source": [
        "def add_all(*inputs):\n",
        "    s=0\n",
        "    for i in range(len(inputs)):\n",
        "        s+=inputs[i]\n",
        "    return s"
      ]
    },
    {
      "cell_type": "code",
      "source": [
        "def add_all2(*inputs):\n",
        "    return sum(inputs)"
      ],
      "metadata": {
        "id": "Agv8EojcLt9l"
      },
      "execution_count": null,
      "outputs": []
    },
    {
      "cell_type": "markdown",
      "source": [
        "- list 받는법"
      ],
      "metadata": {
        "id": "BPvRnNYyL7E0"
      }
    },
    {
      "cell_type": "code",
      "source": [
        "def add_all_3(*arg):\n",
        "    s=0\n",
        "    for i in arg:\n",
        "        for j in i:\n",
        "            s +=j\n",
        "    return s"
      ],
      "metadata": {
        "id": "vbY_U9kAL8xs"
      },
      "execution_count": null,
      "outputs": []
    },
    {
      "cell_type": "code",
      "source": [
        "add_all([1,2,3,4,5])"
      ],
      "metadata": {
        "id": "cIGWtmNeMElU"
      },
      "execution_count": null,
      "outputs": []
    },
    {
      "cell_type": "code",
      "source": [
        "add_all_3([1,2,3,4,5])"
      ],
      "metadata": {
        "id": "EjCxlDo7MGpU"
      },
      "execution_count": null,
      "outputs": []
    },
    {
      "cell_type": "code",
      "source": [
        "add_all_3(1,2,3,4,5)"
      ],
      "metadata": {
        "id": "O4Mc_U3ENNXN"
      },
      "execution_count": null,
      "outputs": []
    },
    {
      "cell_type": "code",
      "source": [
        "def add_all_4(*args):\n",
        "    temp = 0\n",
        "    for i in range(len(args)):\n",
        "        if type(args[i])==list:\n",
        "            for j in args[i]:\n",
        "                temp+=j\n",
        "        else:\n",
        "            temp+=args[i]\n",
        "    return temp"
      ],
      "metadata": {
        "id": "94v-R_GPMgL9"
      },
      "execution_count": null,
      "outputs": []
    },
    {
      "cell_type": "code",
      "source": [
        "add_all_4([1,2,3,4,5])"
      ],
      "metadata": {
        "colab": {
          "base_uri": "https://localhost:8080/"
        },
        "id": "pvIb0m_7M8G9",
        "outputId": "cb6bab3a-ef45-4fea-daf2-c93f50ab6006"
      },
      "execution_count": null,
      "outputs": [
        {
          "output_type": "execute_result",
          "data": {
            "text/plain": [
              "15"
            ]
          },
          "metadata": {},
          "execution_count": 7
        }
      ]
    },
    {
      "cell_type": "code",
      "source": [
        "add_all_4(1,2,3,4,5)"
      ],
      "metadata": {
        "colab": {
          "base_uri": "https://localhost:8080/"
        },
        "id": "mJxJOZoEM9ml",
        "outputId": "c3d51c28-e26f-44af-890b-911b6506bde1"
      },
      "execution_count": null,
      "outputs": [
        {
          "output_type": "execute_result",
          "data": {
            "text/plain": [
              "15"
            ]
          },
          "metadata": {},
          "execution_count": 8
        }
      ]
    },
    {
      "cell_type": "markdown",
      "metadata": {
        "id": "QJC__UG_uoiw"
      },
      "source": [
        "#문서 단어 행렬(Document-Term Matrix, DTM)\n",
        "\n",
        "1. 표기법\n",
        "\n",
        "- 문서 단어 행렬(Document-Term Matrix, DTM)이란 다수의 문서에서 등장하는 각 단어들의 빈도를 행렬로 표현한 것을 말합니다. 쉽게 생각하면 각 문서에 대한 BoW를 하나의 행렬로 만든 것으로 생각할 수 있으며, BoW와 다른 표현 방법이 아니라 BoW 표현을 다수의 문서에 대해서 행렬로 표현하고 부르는 용어입니다.\n",
        "\n",
        "\n",
        "예를 들어서 이렇게 4개의 문서가 있다고 합시다.\n",
        "\n",
        "문서1 : 먹고 싶은 사과\n",
        "\n",
        "문서2 : 먹고 싶은 바나나\n",
        "\n",
        "문서3 : 길고 노란 바나나 바나나\n",
        "\n",
        "문서4 : 저는 과일이 좋아요\n",
        "\n",
        "이를 문서 단어 행렬로 표현하면 다음과 같습니다.\n",
        "\n",
        "![image.png](data:image/png;base64,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)"
      ]
    },
    {
      "cell_type": "markdown",
      "metadata": {
        "id": "jAt5dFohvCjY"
      },
      "source": [
        "각 문서에서 등장한 단어의 빈도를 행렬의 값으로 표기합니다. 문서 단어 행렬은 문서들을 서로 비교할 수 있도록 수치화할 수 있다는 점에서 의의를 갖습니다.\n",
        "\n",
        "## DTM의 한계\n",
        "\n",
        "1. 희소 표현(Sparse representation)\n",
        " - 원-핫 벡터는 단어 집합의 크기가 벡터의 차원이 되고 **대부분의 값이 0**이 된다는 특징이 있었습니다. 이 특징은 **공간적 낭비와 계산 리소스를 증가**시킬 수 있다는 점에서 원-핫 벡터의 단점이었습니다. DTM도 마찬가지입니다\n",
        "\n",
        " - 각 문서 벡터의 차원은 원-핫 벡터와 마찬가지로 전체 단어 집합의 크기를 가집니다. 만약 가지고 있는 전체 코퍼스가 방대한 데이터라면 문서 벡터의 차원은 수백만의 차원을 가질 수도 있습니다. 또한 많은 문서 벡터가 대부분의 값이 0을 가질 수도 있습니다. 당장 위에서 예로 들었던 문서 단어 행렬의 모든 행이 0이 아닌 값보다 0의 값이 더 많은 것을 볼 수 있습니다.\n",
        "\n",
        " - 원-핫 벡터나 DTM과 같은 대부분의 값이 0인 표현을 희소 벡터(sparse vector) 또는 희소 행렬(sparse matrix)라고 부르는데, **희소 벡터는 많은 양의 저장 공간과 계산을 위한 리소스를 필요로 합니다.** 이러한 이유로 전처리를 통해 단어 집합의 크기를 줄이는 일은 BoW 표현을 사용하는 모델에서 중요할 수 있습니다. 텍스트 전처리 방법을 사용하여 구두점, 빈도수가 낮은 단어, 불용어를 제거하고, 어간이나 표제어 추출을 통해 단어를 정규화하여 단어 집합의 크기를 줄일 수 있습니다.\n",
        "\n",
        "2. 단순 빈도 수 기반 접근\n",
        "\n",
        " - 영어에 대해 DTM을 만들었을 때, 불용어인 'the'는 어떤 문서이든 자주 등장할 수 밖에 없다. 그래서 유사한 문서인지 비교할 때, 단순 the가 빈도수가 높다고 유사한 문서라고 판단해선 안 된다. 불용어와 중요 단어에 대해 가중치를 줄 수 있는 방법은 없을까? 그래서 등장한 것이 TF-IDF이다.\n",
        "\n",
        " - 단어 피처에 값을 부여할 때 각 문서에서 해당 단어가 나타나는 횟수, 즉 count를 부여하는 경우를 카운트 벡터화.\n",
        "\n",
        " - 카운트 벡터화에서는 카운트 값이 높을수록 중요한 단어로 인식하여 문제가 됨.\n",
        "\n",
        "\n",
        "\n"
      ]
    },
    {
      "cell_type": "markdown",
      "metadata": {
        "id": "0dJ7FbleAxN7"
      },
      "source": [
        "## 사이킷런 CounterVectorizer 초기화 파타미터\n",
        "\n",
        "- max_df : 전체 문서에 걸쳐서 너무 높은 빈도수를 가지는 단어 치러를 제외하기 위한 파라미터, 너무 높은 빈도수를 가지는 단어는 스톱 워드와 비슷한 문법적인 특성으로 반복적인 단어일 가능성이 높기에 이를 제거하기 위해 사용됨. max_df = 100과 같이 정수 값을 가지면 전체 문서에 걸쳐 100개 이하로 나타나는 단어만 피처로 추출. mdf_df = 0.95와 같이 부동소수점(0.0 ~ 1.0)을 가지면 전체 문서에 걸쳐 빈도수 0~95%까지의 단어만 피처로 추출하고 나머지 상위 5%는 피처로 추출하지 않음.\n",
        "\n",
        "- min_df : 전체 문서에 걸쳐서 너무 낮은 빈도수를 가지는 단어 치러를 제외하기 위한 파라미터. 수백 ~ 수천 개의 전체 문서에서 특정 단어가 min_df에 설정된 값보다 적은 빈도수를 가진다면 이 단어는 크게 중요하지 않거나 필요없는(garbage)성 단어일 확률이 높습니다. min_df = 2와 같이 정수 값을 가지면 전체 문서에 걸쳐서 2번 이하로 나타나는 단어는 리처로 추출하지 않습니다. min_df = 0.002와 같이 부동소수점 값(0.0 ~ 1.0)을 가지면 전체 문서에 걸쳐서 하위 2%이하의 빈도수를 가지는 단어는 피처로 추출하지 않음.\n",
        "- max_features:  피처로 추출하는 피처의 개수를 제한하며 정수로 값을 지정. 가령 max_features = 2000으로 지정할 경우 가장 높은 빈도를 가지는 단어 순으로 정렬해 2000개까지만 피처로 추출\n",
        "\n",
        "- stop_words = 'english'로 지정하면 영어의 스톱워드로 지정된 단어는 추출에서 제외.\n",
        "\n",
        "- ngram_range : bag of words 모델의 단어 순서를 어느 정도 보강하기 위한 n-gram 범위를 설정. 튜플 형태로(범위 최솟값, 범위 최댓값)을 지정. 예를 들어 (1,1)로 지정하면 토큰화된 단어를 1개씩 피처로 추출. (1,2)로 지정하면 토큰화된 단어를 1개씩(minumum 1), 그리고 순서대로 2개씩 (maximum 2) 묶어서 피처로 추출.\n",
        "\n",
        "- analyzer : 피처 추출을 수행한 단위로 지정. 디폴트는 'word'. word가 아니라 character의 특정 범위를 피처로 만드는 특정한 경우 등을 적용할 때 사용 됨.\n",
        "\n",
        "- token_patten : 토큰화를 수행하는 정규 표현식 패턴을 지정. 디폴트 값은 '\\b\\w\\w+\\b'로, 공백 또는 개행 문자 등으로 구분된 단어 분리자(\\b) 사이의 2문자(문자 또는 숫자, 즉 영숫자) 이상의 단어(word)를 토큰으로 분리. analyzer = 'word'로 설정했을 때만 변경 가능하나 디폴트 값을 변경할 경우는 거의 발생 하지 않음. 어근 추출시 외부 함수를 사용할 경우 해당 외부 함수를 token_pattern의 인자로 사용.\n",
        "\n",
        "- lower_case : 모든 문자를 소문자로 변경할 것인지를 설정.기본 True"
      ]
    },
    {
      "cell_type": "markdown",
      "metadata": {
        "id": "ne0jzGIiqQ6q"
      },
      "source": [
        "### CountVectorizer\n",
        "\n",
        "1. 문서를 토큰 리스트로 변환\n",
        "2. 각 문서에서 토큰의 출현 빈도를 셈\n",
        "3. 각 문서를 BOW 인코딩 벡터로 변환한다."
      ]
    },
    {
      "cell_type": "code",
      "execution_count": null,
      "metadata": {
        "colab": {
          "base_uri": "https://localhost:8080/"
        },
        "id": "XKP6zESIpjsP",
        "outputId": "768be8d1-6906-4356-efd1-9dedad85607a"
      },
      "outputs": [
        {
          "name": "stdout",
          "output_type": "stream",
          "text": [
            "{'나는': 2, '내일': 4, '공부': 1, '해야지': 8, '날씨는': 3, '좋을까': 6, '어디를': 5, '가지': 0, '집에서': 7}\n"
          ]
        }
      ],
      "source": [
        "from sklearn.feature_extraction.text import CountVectorizer\n",
        "\n",
        "text_data=['나는 내일 공부 해야지','내일 날씨는 좋을까','내일 어디를 가지','공부 집에서 해야지']\n",
        "\n",
        "count_vectorizer=CountVectorizer()\n",
        "\n",
        "count_vectorizer.fit(text_data)\n",
        "print(count_vectorizer.vocabulary_)"
      ]
    },
    {
      "cell_type": "code",
      "execution_count": null,
      "metadata": {
        "colab": {
          "base_uri": "https://localhost:8080/"
        },
        "id": "0M1hboU-pzID",
        "outputId": "398b4d24-6c32-4832-a033-5cd97d87a13e"
      },
      "outputs": [
        {
          "name": "stdout",
          "output_type": "stream",
          "text": [
            "[[0 1 1 0 1 0 0 0 1]]\n"
          ]
        }
      ],
      "source": [
        "sentence=[text_data[0]] # 나는 내일 공부 해야지\n",
        "print(count_vectorizer.transform(sentence).toarray())"
      ]
    },
    {
      "cell_type": "code",
      "execution_count": null,
      "metadata": {
        "colab": {
          "base_uri": "https://localhost:8080/"
        },
        "id": "X6dpedRRqZRD",
        "outputId": "2359c810-0e55-4cd8-f603-1a9b7f6e1e0f"
      },
      "outputs": [
        {
          "data": {
            "text/plain": [
              "{'this': 9,\n",
              " 'is': 3,\n",
              " 'the': 7,\n",
              " 'first': 2,\n",
              " 'document': 1,\n",
              " 'second': 6,\n",
              " 'and': 0,\n",
              " 'third': 8,\n",
              " 'one': 5,\n",
              " 'last': 4}"
            ]
          },
          "execution_count": 66,
          "metadata": {},
          "output_type": "execute_result"
        }
      ],
      "source": [
        "from sklearn.feature_extraction.text import CountVectorizer\n",
        "corpus = [\n",
        "    'This is the first document.',\n",
        "    'This is the second second document.',\n",
        "    'And the third one.',\n",
        "    'Is this the first document?',\n",
        "    'The last document?',\n",
        "]\n",
        "vect = CountVectorizer()\n",
        "vect.fit(corpus)\n",
        "vect.vocabulary_"
      ]
    },
    {
      "cell_type": "code",
      "execution_count": null,
      "metadata": {
        "colab": {
          "base_uri": "https://localhost:8080/"
        },
        "id": "JlJ8IsrdqbtX",
        "outputId": "5736b1d0-e6de-47c6-caa7-35de238b33ec"
      },
      "outputs": [
        {
          "data": {
            "text/plain": [
              "array([[0, 1, 0, 1, 0, 0, 1, 1, 0, 1]])"
            ]
          },
          "execution_count": 67,
          "metadata": {},
          "output_type": "execute_result"
        }
      ],
      "source": [
        "vect.transform(['This is the second document.']).toarray()"
      ]
    },
    {
      "cell_type": "code",
      "execution_count": null,
      "metadata": {
        "colab": {
          "base_uri": "https://localhost:8080/"
        },
        "id": "MXD94eE1qce1",
        "outputId": "3d771057-24db-4e16-d5c4-0815a65e4e84"
      },
      "outputs": [
        {
          "data": {
            "text/plain": [
              "array([[0, 0, 0, 0, 0, 0, 0, 0, 0, 0]])"
            ]
          },
          "execution_count": 68,
          "metadata": {},
          "output_type": "execute_result"
        }
      ],
      "source": [
        "vect.transform(['Something completely new.']).toarray()"
      ]
    },
    {
      "cell_type": "code",
      "execution_count": null,
      "metadata": {
        "colab": {
          "base_uri": "https://localhost:8080/"
        },
        "id": "ciAcLSpzqe3A",
        "outputId": "8e363557-57df-4140-af17-50b2b76bcb57"
      },
      "outputs": [
        {
          "data": {
            "text/plain": [
              "array([[0, 1, 1, 1, 0, 0, 0, 1, 0, 1],\n",
              "       [0, 1, 0, 1, 0, 0, 2, 1, 0, 1],\n",
              "       [1, 0, 0, 0, 0, 1, 0, 1, 1, 0],\n",
              "       [0, 1, 1, 1, 0, 0, 0, 1, 0, 1],\n",
              "       [0, 1, 0, 0, 1, 0, 0, 1, 0, 0]])"
            ]
          },
          "execution_count": 69,
          "metadata": {},
          "output_type": "execute_result"
        }
      ],
      "source": [
        "vect.transform(corpus).toarray()"
      ]
    },
    {
      "cell_type": "markdown",
      "metadata": {
        "id": "fsNzZf3CqjKJ"
      },
      "source": [
        "#### stopwords\n",
        "\n",
        "- Stopwords는 문서에서 단어장을 생성할 떄 무시할 수 있는 단어를 말함.\n",
        "- 보통 영어의 관사나 접속사, 한국어의 조사 등이 여기에 해당됨. stop_words 인수로 조절할 수 있다."
      ]
    },
    {
      "cell_type": "code",
      "execution_count": null,
      "metadata": {
        "colab": {
          "base_uri": "https://localhost:8080/"
        },
        "id": "yDl1qGnuqtWy",
        "outputId": "7e302a90-1444-46fa-8fcc-1aeb30f45172"
      },
      "outputs": [
        {
          "data": {
            "text/plain": [
              "{'first': 1, 'document': 0, 'second': 4, 'third': 5, 'one': 3, 'last': 2}"
            ]
          },
          "execution_count": 70,
          "metadata": {},
          "output_type": "execute_result"
        }
      ],
      "source": [
        "vect = CountVectorizer(stop_words=[\"and\", \"is\", \"the\", \"this\"]).fit(corpus)\n",
        "vect.vocabulary_"
      ]
    },
    {
      "cell_type": "code",
      "execution_count": null,
      "metadata": {
        "colab": {
          "base_uri": "https://localhost:8080/"
        },
        "id": "Mdh6Y90cqta4",
        "outputId": "ce2edd58-e5ed-4088-aa37-592cfb2e6619"
      },
      "outputs": [
        {
          "data": {
            "text/plain": [
              "{'document': 0, 'second': 1}"
            ]
          },
          "execution_count": 71,
          "metadata": {},
          "output_type": "execute_result"
        }
      ],
      "source": [
        "vect = CountVectorizer(stop_words=\"english\").fit(corpus)\n",
        "vect.vocabulary_"
      ]
    },
    {
      "cell_type": "markdown",
      "metadata": {
        "id": "Myx1j6O8qvjz"
      },
      "source": [
        "#### Token\n",
        "\n",
        "- analzer, tokenizer, token_pattern 등의 인수로 사용할 토큰 생성기를 선택할 수 있음."
      ]
    },
    {
      "cell_type": "code",
      "execution_count": null,
      "metadata": {
        "colab": {
          "base_uri": "https://localhost:8080/"
        },
        "id": "alVU6z_Uq3yo",
        "outputId": "34b7c29e-53a7-401f-8a01-cc9d42102b0d"
      },
      "outputs": [
        {
          "data": {
            "text/plain": [
              "{'t': 16,\n",
              " 'h': 8,\n",
              " 'i': 9,\n",
              " 's': 15,\n",
              " ' ': 0,\n",
              " 'e': 6,\n",
              " 'f': 7,\n",
              " 'r': 14,\n",
              " 'd': 5,\n",
              " 'o': 13,\n",
              " 'c': 4,\n",
              " 'u': 17,\n",
              " 'm': 11,\n",
              " 'n': 12,\n",
              " '.': 1,\n",
              " 'a': 3,\n",
              " '?': 2,\n",
              " 'l': 10}"
            ]
          },
          "execution_count": 72,
          "metadata": {},
          "output_type": "execute_result"
        }
      ],
      "source": [
        "vect = CountVectorizer(analyzer=\"char\").fit(corpus)\n",
        "vect.vocabulary_"
      ]
    },
    {
      "cell_type": "code",
      "execution_count": null,
      "metadata": {
        "colab": {
          "base_uri": "https://localhost:8080/"
        },
        "id": "DKzV6Movq31h",
        "outputId": "395a9d82-0ea7-4601-9937-f33167e48c1c"
      },
      "outputs": [
        {
          "data": {
            "text/plain": [
              "{'this': 2, 'the': 0, 'third': 1}"
            ]
          },
          "execution_count": 73,
          "metadata": {},
          "output_type": "execute_result"
        }
      ],
      "source": [
        "vect = CountVectorizer(token_pattern=\"t\\w+\").fit(corpus)\n",
        "vect.vocabulary_"
      ]
    },
    {
      "cell_type": "code",
      "execution_count": null,
      "metadata": {
        "colab": {
          "base_uri": "https://localhost:8080/"
        },
        "id": "VFRqdPbVq6aR",
        "outputId": "703f2124-26b0-4c22-f878-3a6707b15ed3"
      },
      "outputs": [
        {
          "data": {
            "text/plain": [
              "{'this': 11,\n",
              " 'is': 5,\n",
              " 'the': 9,\n",
              " 'first': 4,\n",
              " 'document': 3,\n",
              " '.': 0,\n",
              " 'second': 8,\n",
              " 'and': 2,\n",
              " 'third': 10,\n",
              " 'one': 7,\n",
              " '?': 1,\n",
              " 'last': 6}"
            ]
          },
          "execution_count": 74,
          "metadata": {},
          "output_type": "execute_result"
        }
      ],
      "source": [
        "import nltk\n",
        "\n",
        "vect = CountVectorizer(tokenizer=nltk.word_tokenize).fit(corpus)\n",
        "vect.vocabulary_"
      ]
    },
    {
      "cell_type": "markdown",
      "metadata": {
        "id": "RLtjWN8Lq87V"
      },
      "source": [
        "#### N-gram\n",
        "- 단어장 생성에 사용할 토큰의 크기를 결정.\n",
        "- 모노그램(Monogram)은 토큰 하나만 단어로 사용하며 바이그램(bigram)은 두 개의 연결된 토큰을 하나의 단어로 사용함."
      ]
    },
    {
      "cell_type": "code",
      "execution_count": null,
      "metadata": {
        "colab": {
          "base_uri": "https://localhost:8080/"
        },
        "id": "Hf2cmUsBq6dY",
        "outputId": "a45b6961-d204-4ba4-eb9f-e518ab9bdcf7"
      },
      "outputs": [
        {
          "data": {
            "text/plain": [
              "{'this is': 12,\n",
              " 'is the': 2,\n",
              " 'the first': 7,\n",
              " 'first document': 1,\n",
              " 'the second': 9,\n",
              " 'second second': 6,\n",
              " 'second document': 5,\n",
              " 'and the': 0,\n",
              " 'the third': 10,\n",
              " 'third one': 11,\n",
              " 'is this': 3,\n",
              " 'this the': 13,\n",
              " 'the last': 8,\n",
              " 'last document': 4}"
            ]
          },
          "execution_count": 75,
          "metadata": {},
          "output_type": "execute_result"
        }
      ],
      "source": [
        "vect = CountVectorizer(ngram_range=(2, 2)).fit(corpus)\n",
        "vect.vocabulary_"
      ]
    },
    {
      "cell_type": "code",
      "execution_count": null,
      "metadata": {
        "colab": {
          "base_uri": "https://localhost:8080/"
        },
        "id": "9acUAue_q6g-",
        "outputId": "9ee98f40-4426-4a79-f00b-ab869bdf37ba"
      },
      "outputs": [
        {
          "data": {
            "text/plain": [
              "{'this': 3, 'the': 0, 'this the': 4, 'third': 2, 'the third': 1}"
            ]
          },
          "execution_count": 76,
          "metadata": {},
          "output_type": "execute_result"
        }
      ],
      "source": [
        "vect = CountVectorizer(ngram_range=(1, 2), token_pattern=\"t\\w+\").fit(corpus)\n",
        "vect.vocabulary_"
      ]
    },
    {
      "cell_type": "markdown",
      "metadata": {
        "id": "U8gwajmyrIY6"
      },
      "source": [
        "### 빈도수\n",
        "\n",
        "- max_df, min_df 인수를 사용하여 문서에서 토큰이 나타난 횟수를 기준으로 단어장을 구성할 수도 있다. 토큰의 빈도가 max_df로 지정한 값을 초과 하거나 min_df로 지정한 값보다 작은 경우에는 무시한다. 인수 값은 정수인 경우 횟수, 부동소수점인 경우 비중을 뜻한다."
      ]
    },
    {
      "cell_type": "code",
      "execution_count": null,
      "metadata": {
        "colab": {
          "base_uri": "https://localhost:8080/"
        },
        "id": "MAFRLqjzq6kR",
        "outputId": "d63cb665-a421-4515-f428-719091b006c4"
      },
      "outputs": [
        {
          "data": {
            "text/plain": [
              "({'this': 3, 'is': 2, 'first': 1, 'document': 0},\n",
              " {'and', 'last', 'one', 'second', 'the', 'third'})"
            ]
          },
          "execution_count": 77,
          "metadata": {},
          "output_type": "execute_result"
        }
      ],
      "source": [
        "vect = CountVectorizer(max_df=4, min_df=2).fit(corpus)\n",
        "vect.vocabulary_, vect.stop_words_"
      ]
    },
    {
      "cell_type": "code",
      "execution_count": null,
      "metadata": {
        "colab": {
          "base_uri": "https://localhost:8080/"
        },
        "id": "3fPNk2dwrLi7",
        "outputId": "eabe7b8e-4a9b-4122-8b89-4974d1ebdab1"
      },
      "outputs": [
        {
          "data": {
            "text/plain": [
              "array([4, 2, 3, 3])"
            ]
          },
          "execution_count": 78,
          "metadata": {},
          "output_type": "execute_result"
        }
      ],
      "source": [
        "vect.transform(corpus).toarray().sum(axis=0)"
      ]
    },
    {
      "cell_type": "markdown",
      "metadata": {
        "id": "CXWWt56Pp7hs"
      },
      "source": [
        "### DictVectorizer\n",
        "- 문서에서 단어의 사용 빈도를 나타내는 dictionary 정보를 입력받아 BOW 인코딩한 수치 벡터로 변환"
      ]
    },
    {
      "cell_type": "code",
      "execution_count": null,
      "metadata": {
        "colab": {
          "base_uri": "https://localhost:8080/"
        },
        "id": "XKbFHNxFqFGp",
        "outputId": "ff2a412b-2b60-464f-a26c-44278d06efbd"
      },
      "outputs": [
        {
          "data": {
            "text/plain": [
              "array([[1., 2., 0.],\n",
              "       [0., 3., 1.]])"
            ]
          },
          "execution_count": 63,
          "metadata": {},
          "output_type": "execute_result"
        }
      ],
      "source": [
        "from sklearn.feature_extraction import DictVectorizer\n",
        "v = DictVectorizer(sparse=False)\n",
        "D = [{'A': 1, 'B': 2}, {'B': 3, 'C': 1}]\n",
        "X = v.fit_transform(D)\n",
        "X"
      ]
    },
    {
      "cell_type": "code",
      "execution_count": null,
      "metadata": {
        "colab": {
          "base_uri": "https://localhost:8080/"
        },
        "id": "fJnhKz4RqFKQ",
        "outputId": "dfce55ba-fead-45b4-d8e7-f0c828942dab"
      },
      "outputs": [
        {
          "data": {
            "text/plain": [
              "['A', 'B', 'C']"
            ]
          },
          "execution_count": 64,
          "metadata": {},
          "output_type": "execute_result"
        }
      ],
      "source": [
        "v.feature_names_"
      ]
    },
    {
      "cell_type": "code",
      "execution_count": null,
      "metadata": {
        "colab": {
          "base_uri": "https://localhost:8080/"
        },
        "id": "h6o2PcKgqFNT",
        "outputId": "23673194-e6eb-42f3-fc16-954fa7fc369d"
      },
      "outputs": [
        {
          "data": {
            "text/plain": [
              "array([[0., 0., 4.]])"
            ]
          },
          "execution_count": 65,
          "metadata": {},
          "output_type": "execute_result"
        }
      ],
      "source": [
        "v.transform({'C':4, 'D':3})"
      ]
    },
    {
      "cell_type": "markdown",
      "source": [
        "- sklearn의 countvectorizer는 각 문서에 어떤 단어가 몇 번 등장했는지를 파악할 때 사용함. 단어를 세서(count)문서를 벡터화(vectorize)한다는 의미.\n",
        "\n",
        "- 출처 : 시래블로그(https://radish-greens.tistory.com/3)"
      ],
      "metadata": {
        "id": "i0zU6JdBO1cm"
      }
    },
    {
      "cell_type": "code",
      "source": [
        "from sklearn.feature_extraction.text import CountVectorizer\n",
        "\n",
        "text = [\"누구나 한번쯤은 사랑에 웃고\", \n",
        "        \"누구나 한번쯤은 사랑에 울고\",\n",
        "        \"그것이 바로 사랑 사랑 사랑이야\"]\n",
        "        \n",
        "count_vec = CountVectorizer()\n",
        "m = count_vec.fit_transform(text)\n",
        "m.toarray()"
      ],
      "metadata": {
        "colab": {
          "base_uri": "https://localhost:8080/"
        },
        "id": "BlsMgsqYPCvj",
        "outputId": "4f8d37ae-66f0-48d5-b4c0-5f67f434dc1b"
      },
      "execution_count": null,
      "outputs": [
        {
          "output_type": "execute_result",
          "data": {
            "text/plain": [
              "array([[0, 1, 0, 0, 1, 0, 0, 1, 1],\n",
              "       [0, 1, 0, 0, 1, 0, 1, 0, 1],\n",
              "       [1, 0, 1, 2, 0, 1, 0, 0, 0]])"
            ]
          },
          "metadata": {},
          "execution_count": 14
        }
      ]
    },
    {
      "cell_type": "markdown",
      "source": [
        "- 문서-단어 행렬에서 각각의 열(column)이 의미하는 바는 vocabulary_를 통해 확인할 수 있습니다."
      ],
      "metadata": {
        "id": "t9E13MLyPFZh"
      }
    },
    {
      "cell_type": "code",
      "source": [
        "count_vec.vocabulary_"
      ],
      "metadata": {
        "colab": {
          "base_uri": "https://localhost:8080/"
        },
        "id": "9ti2epV5PC03",
        "outputId": "08bdcf6e-855d-4171-c5cd-122e5072cc62"
      },
      "execution_count": null,
      "outputs": [
        {
          "output_type": "execute_result",
          "data": {
            "text/plain": [
              "{'누구나': 1,\n",
              " '한번쯤은': 8,\n",
              " '사랑에': 4,\n",
              " '웃고': 7,\n",
              " '울고': 6,\n",
              " '그것이': 0,\n",
              " '바로': 2,\n",
              " '사랑': 3,\n",
              " '사랑이야': 5}"
            ]
          },
          "metadata": {},
          "execution_count": 15
        }
      ]
    },
    {
      "cell_type": "markdown",
      "source": [
        "예를 들어 1행은 누구나, 8행은 한점쯤은 ... 등을 나타낸다는 의미입니다. \n",
        "\n",
        " \n",
        "\n",
        "여기서 '사랑'이라는 같은 단어를 CountVectorizer는 사랑에, 사랑, 사랑이야라는 각기 다른 단어로 인식했다는 것을 알 수 있습니다. 이를 해결하는 방법은 미리 전처리를 해주든가, 아니면 내가 쓰고자 하는 토크나이저를 CountVectorizer의 초깃값으로 넣어주는 것입니다.\n",
        "\n",
        "\n",
        "\n",
        "```\n",
        "count_vec = CountVectorizer(tokenizer=mytokenizer)\n",
        "```\n",
        "\n",
        "CountVectorizer는 토크나이징+벡터화를 동시에 해줍니다. 만약 토크나이징을 먼저 한 다음 list of lists 형식의 텍스트 데이터를 넣어주고 싶다면 다음과 같이 해주면 됩니다.\n",
        "\n"
      ],
      "metadata": {
        "id": "yCOkWTCpPIWQ"
      }
    },
    {
      "cell_type": "code",
      "source": [
        "from sklearn.feature_extraction.text import CountVectorizer\n",
        "\n",
        "text = [['누구나','한번쯤','사랑', '웃고'], \n",
        "        ['누구나','한번쯤','사랑', '울고'],\n",
        "        ['그것', '바로', '사랑', '사랑', '사랑']]\n",
        "        \n",
        "count_vec = CountVectorizer(tokenizer=lambda x: x, lowercase=False)\n",
        "m = count_vec.fit_transform(text)"
      ],
      "metadata": {
        "id": "T5DNwn-5PNcJ"
      },
      "execution_count": null,
      "outputs": []
    },
    {
      "cell_type": "markdown",
      "source": [
        "tokenizer 인자에는 list를 받아서 그대로 list를 내보내는 함수를 넣어줍니다. 또한 소문자화를 하지 않도록 설정해야 에러가 나지 않습니다.\n",
        "\n",
        " \n",
        "\n",
        "그런데 저는 문서-단어 행렬을 만들어야 하는 일이 있을 때, 사이킷런의 CountVectorizer를 불러오기보다는 자체 제작한 걸 사용하곤 합니다. 그 방법에 대해 알아보겠습니다."
      ],
      "metadata": {
        "id": "H5v4MaiXPasV"
      }
    },
    {
      "cell_type": "markdown",
      "source": [
        "CountVectorzier 자체 제작하기\n",
        "\n",
        "\n",
        "사이킷런 API처럼 사용할 수 있게 myCountVectorzier 클래스를 정의했습니다. 토크나이징은 이미 되어있다고 가정합니다."
      ],
      "metadata": {
        "id": "V-fHdqxZPdT4"
      }
    },
    {
      "cell_type": "code",
      "source": [
        "import numpy as np\n",
        "\n",
        "class myCountVectorizer():\n",
        "    \n",
        "    def __init__(self):\n",
        "        self.vocabulary_ = {}\n",
        "    \n",
        "    def fit(self, docs):\n",
        "        self.vocabulary_ = {}\n",
        "        for words in docs:\n",
        "            for word in words:\n",
        "                self.vocabulary_[word] = self.vocabulary_.get(word, len(self.vocabulary_))\n",
        "        return self\n",
        "    \n",
        "    def transform(self, docs):\n",
        "        m = np.zeros((len(docs), len(self.vocabulary_)))\n",
        "        for i, words in enumerate(docs):\n",
        "            for word in words:\n",
        "                j = self.vocabulary_.get(word)\n",
        "                if j is not None:\n",
        "                    m[i, j] += 1\n",
        "        return m\n",
        "    \n",
        "    def fit_transform(self, docs):\n",
        "        self.fit(docs)\n",
        "        return self.transform(docs)"
      ],
      "metadata": {
        "id": "_FJTkxqgPNiH"
      },
      "execution_count": null,
      "outputs": []
    },
    {
      "cell_type": "markdown",
      "source": [
        "fit 단계에서 하는 일은 단어 사전을 만드는 일입니다. 단어마다 인덱스를 부여해서, 이후에 어떤 단어가 행렬의 몇 번 행을 나타내는지 알고자 할 때 사용합니다. 이 단계를 건너 뛰고 이미 만들어져 있는 단어 사전을 이용할 수도 있습니다.\n",
        "\n",
        " \n",
        "\n",
        "위 코드에서는 딕셔너리의 get 메서드를 이용했습니다. get(k, d)은 딕셔너리에 키가 있으면 해당하는 값을 반환하고, 아니면 d를 반환합니다.\n",
        "\n",
        " \n",
        "\n",
        "transform 단계에서는 본격적으로 문서-단어 행렬을 만듭니다. 사용법은 CountVectorizer와 비슷합니다."
      ],
      "metadata": {
        "id": "MbxiPR2NPhox"
      }
    },
    {
      "cell_type": "code",
      "source": [
        "count_vec = myCountVectorizer()\n",
        "m = count_vec.fit_transform(text)\n",
        "m"
      ],
      "metadata": {
        "colab": {
          "base_uri": "https://localhost:8080/"
        },
        "id": "Hjsq6hKtPC8u",
        "outputId": "0b54909a-5df7-4e36-c982-34be2361e9ca"
      },
      "execution_count": null,
      "outputs": [
        {
          "output_type": "execute_result",
          "data": {
            "text/plain": [
              "array([[1., 1., 1., 1., 0., 0., 0.],\n",
              "       [1., 1., 1., 0., 1., 0., 0.],\n",
              "       [0., 0., 3., 0., 0., 1., 1.]])"
            ]
          },
          "metadata": {},
          "execution_count": 19
        }
      ]
    },
    {
      "cell_type": "markdown",
      "metadata": {
        "id": "IDKShJStQn-l"
      },
      "source": [
        "## 희소행렬(Sparse Matrix)\n",
        "\n",
        "- 모든 문서에 포함된 모든 고유 단어를 피처로 만들어주기 때문입니다. 모든 문서의 단어를 피처로 만들어주면 수만 개에서 수십만 개의 단어가 만들어집니다. 이렇게 대규모의 행렬이 생기더라도 각 문서에 포함된 단어의 수는 제한적이기 때문에 행렬의 대부분의 값은 0으로 채워집니다. 이렇듯 대부분 값이 0으로 채워진 행렬을 희소 행렬(Sparse Matrix)이라고 합니다. \n",
        "\n",
        "![image.png](data:image/png;base64,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)"
      ]
    },
    {
      "cell_type": "markdown",
      "metadata": {
        "id": "9nmEDYzGQ4BZ"
      },
      "source": [
        "### COO 형식(Coordinate Format)\n",
        "\n",
        "- 0이 아닌 데이터만 별도의 배열에 저장하고, 그 데이터가 가리키는 행과 열의 위치를 별도의 배열에 저장하는 방식"
      ]
    },
    {
      "cell_type": "markdown",
      "metadata": {
        "id": "H1shXi9eagKx"
      },
      "source": [
        "dense = np.array([3,0,1], [0,2,0])"
      ]
    },
    {
      "cell_type": "code",
      "execution_count": null,
      "metadata": {
        "colab": {
          "base_uri": "https://localhost:8080/"
        },
        "id": "pfT3UMSEAtGR",
        "outputId": "93416466-dc33-417d-ef24-05347d7188ec"
      },
      "outputs": [
        {
          "name": "stdout",
          "output_type": "stream",
          "text": [
            "<class 'scipy.sparse.coo.coo_matrix'>\n",
            "  (0, 0)\t3\n",
            "  (0, 2)\t1\n",
            "  (1, 1)\t2\n",
            "<class 'numpy.ndarray'> \n",
            " [[3 0 1]\n",
            " [0 2 0]]\n"
          ]
        }
      ],
      "source": [
        "from scipy import sparse\n",
        "import numpy as np\n",
        "\n",
        "# 0 이 아닌 데이터 추출\n",
        "data = np.array([3,1,2])\n",
        "\n",
        "# 행 위치와 열 위치를 각각 array로 생성 \n",
        "row_pos = np.array([0,0,1])\n",
        "col_pos = np.array([0,2,1])\n",
        "\n",
        "# sparse 패키지의 coo_matrix를 이용하여 COO 형식으로 희소 행렬 생성\n",
        "sparse_coo = sparse.coo_matrix((data, (row_pos,col_pos)))\n",
        "\n",
        "print(type(sparse_coo))\n",
        "print(sparse_coo)\n",
        "dense01=sparse_coo.toarray()\n",
        "print(type(dense01),\"\\n\", dense01)"
      ]
    },
    {
      "cell_type": "markdown",
      "metadata": {
        "id": "iTLN0N-UROPj"
      },
      "source": [
        "sparse_coo는 COO 형식의 희소 행렬 객체 변수입니다. sparse_coo.toarray()를 해주면 원본 행렬이 추출됨을 알 수 있습니다."
      ]
    },
    {
      "cell_type": "markdown",
      "source": [
        "-  출처 : 시래블로그(https://radish-greens.tistory.com/1)\n",
        "\n",
        " - 파이썬의 scipy에서 행렬의 희소 표현을 지원함. 아래와 같은 행렬이 있다고 하겠다.\n",
        "\n",
        "<center>\n",
        "<img src='https://img1.daumcdn.net/thumb/R1280x0/?scode=mtistory2&fname=https%3A%2F%2Fblog.kakaocdn.net%2Fdn%2FcD8Q4D%2FbtqBL724grQ%2FQsyk3ieSi83bSmhdZDUPt0%2Fimg.png'>\n",
        "</center>\n",
        "\n",
        "위 행렬은 5개 원소 빼고는 모두 값이 0인 행렬입니다. 여기서 0이 아닌 원소에만 주목해서 보면, 각각의 원소를 3개의 리스트로 간단히 표현할 수 있습니다. 즉 각 원소의 행 인덱스를 담은 리스트, 각 원소의 열 인덱스를 담은 리스트, 그리고 원소의 값을 담은 리스트로 행렬을 온전히 표현할 수 있습니다."
      ],
      "metadata": {
        "id": "NtS9f_huP0hA"
      }
    },
    {
      "cell_type": "code",
      "source": [
        "from scipy.sparse import coo_matrix\n",
        "\n",
        "row = [0, 0, 0, 1, 2] # 행 인덱스를 담은 리스트\n",
        "col = [0, 1, 2, 2, 3] # 열 인덱스를 담은 리스트\n",
        "data = [2, 4, 2, 1, 5] # 원소 값을 담은 리스트\n",
        "\n",
        "m = coo_matrix((data, (row, col)))\n",
        "m"
      ],
      "metadata": {
        "colab": {
          "base_uri": "https://localhost:8080/"
        },
        "id": "azNZepYBQfK_",
        "outputId": "eee751e7-2a6a-4a03-a5ad-85a7d6b7ff29"
      },
      "execution_count": null,
      "outputs": [
        {
          "output_type": "execute_result",
          "data": {
            "text/plain": [
              "<3x4 sparse matrix of type '<class 'numpy.int64'>'\n",
              "\twith 5 stored elements in COOrdinate format>"
            ]
          },
          "metadata": {},
          "execution_count": 21
        }
      ]
    },
    {
      "cell_type": "markdown",
      "source": [
        "보시다시피 0이 아닌 원소 값 5개의 행 인덱스를 row에, 열 인덱스는 col에 담았습니다. 이를 scipy.sparse.coo_matrix에 넘겨주면 희소행렬이 만들어집니다. 원소 값이 0인 부분을 무시하고 나머지의 좌표와 값만 저장하는 것입니다.\n",
        "\n",
        "<center>\n",
        "<img src='https://img1.daumcdn.net/thumb/R1280x0/?scode=mtistory2&fname=https%3A%2F%2Fblog.kakaocdn.net%2Fdn%2FO7TMj%2FbtqBHy85VeB%2FQeiOhyZKGiF7RWoXkxynmK%2Fimg.png'>\n",
        "</center>"
      ],
      "metadata": {
        "id": "8C8ra95tQk0z"
      }
    },
    {
      "cell_type": "markdown",
      "source": [
        "위와 같이 희소행렬을 표현하는 방식을 coordinate format이라고 합니다. 각 원소의 좌표(coordinate)를 data와 함께 넘겨주었기 때문입니다.\n",
        "\n",
        " \n",
        "참고로 m.row, m.col, m.data를 통해 0 아닌 원소의 좌표와 값에 접근할 수 있습니다."
      ],
      "metadata": {
        "id": "g2UajAAjQwKl"
      }
    },
    {
      "cell_type": "code",
      "source": [
        "m.data"
      ],
      "metadata": {
        "colab": {
          "base_uri": "https://localhost:8080/"
        },
        "id": "YHB1XZDSQyL0",
        "outputId": "2ed92d73-1210-4c7b-e7dd-13db4870cdda"
      },
      "execution_count": null,
      "outputs": [
        {
          "output_type": "execute_result",
          "data": {
            "text/plain": [
              "array([2, 4, 2, 1, 5])"
            ]
          },
          "metadata": {},
          "execution_count": 22
        }
      ]
    },
    {
      "cell_type": "markdown",
      "source": [
        "## CSR matrix\n",
        " - coo 방식에서 행 인덱스를 나타내는 리스트는 [0, 0, 0, 1, 2]이었습니다. 이는 행렬의 첫 번째 행에 0이 아닌 원소가 3개 있다는 의미입니다. 첫 번째 행에 원소가 3개 있다는 것을 알기 위해 굳이 0을 세 번 반복할 필요는 없습니다."
      ],
      "metadata": {
        "id": "Ow-5pb1NhCJt"
      }
    },
    {
      "cell_type": "markdown",
      "source": [
        "CSR(Compressed Sparse Row) 방식에서는 이러한 반복까지 줄여줍니다. 아래 코드를 보고 이어서 설명하겠습니다."
      ],
      "metadata": {
        "id": "sSTCc5r3hGmZ"
      }
    },
    {
      "cell_type": "code",
      "source": [
        "from scipy.sparse import csr_matrix\n",
        "\n",
        "indices = [0, 1, 2, 2, 3]\n",
        "indptr = [0, 3, 4, 5]\n",
        "data = [2, 4, 2, 1, 5]\n",
        "m = csr_matrix((data, indices, indptr))\n",
        "m"
      ],
      "metadata": {
        "colab": {
          "base_uri": "https://localhost:8080/"
        },
        "id": "JO6-ps6chIOs",
        "outputId": "c4365467-3751-4bc7-eb1e-28fc683d8189"
      },
      "execution_count": null,
      "outputs": [
        {
          "output_type": "execute_result",
          "data": {
            "text/plain": [
              "<3x4 sparse matrix of type '<class 'numpy.int64'>'\n",
              "\twith 5 stored elements in Compressed Sparse Row format>"
            ]
          },
          "metadata": {},
          "execution_count": 23
        }
      ]
    },
    {
      "cell_type": "markdown",
      "source": [
        "위 코드에서 indices는 열 인덱스로서, coo 방식의 col과 같습니다. coo 방식과 다른 부분은 indptr입니다. indptr의 값은 [0, 3, 4, 5]입니다. 이를 보면 'data[0:3]가 첫 번째 행의 원소들이고, data[3:4]가 두 번째 행, data[4:5]가 세 번째 행의 원소 값이구나'라는 걸 알 수 있습니다.\n",
        "\n",
        " \n",
        "\n",
        "이 같은 방식으로 indptr은 data의 구간을 나누어서 어디부터 어디까지가 몇 번째 행인지를 알려줍니다. 이 방식대로라면 indptr은 행 개수+1의 길이를 가지게 됩니다.\n",
        "\n",
        "<center>\n",
        "<img src='https://img1.daumcdn.net/thumb/R1280x0/?scode=mtistory2&fname=https%3A%2F%2Fblog.kakaocdn.net%2Fdn%2FyXEJq%2FbtqBIIpSSZW%2FJeorqC0cxCS4qP0KfLDZV1%2Fimg.png'>"
      ],
      "metadata": {
        "id": "SpeIOsUohJhW"
      }
    },
    {
      "cell_type": "markdown",
      "source": [
        "보시면 indptr은 coo 방식의 row보다 길이가 1 짧습니다. 0이 아닌 값이 반복적으로 등장하는 행(row)이 있을 때, coo 방식은 csr보다 효율이 떨어집니다.\n",
        "\n",
        " \n",
        "\n",
        "csr은 coo 방식에서 나아가 행을 압축했지만, 열을 압축하는 방식인 csc 방식도 있고 방법은 같습니다. "
      ],
      "metadata": {
        "id": "_CKifsV5hRIL"
      }
    },
    {
      "cell_type": "markdown",
      "metadata": {
        "id": "hXDCeMKpRPhT"
      },
      "source": [
        "### CSR 형식(Compressed sparse row)\n",
        "\n",
        "- COO 형식은 행과 열의 위치를 나타내기 위해서 반복적으로 위치 데이터를 사용해야 합니다. 무슨 말인지 예를 들어 설명해보겠습니다. 아래와 같은 행렬이 있다고 가정해보겠습니다.\n",
        "\n",
        "![image.png](data:image/png;base64,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)\n",
        "\n"
      ]
    },
    {
      "cell_type": "markdown",
      "metadata": {
        "id": "Ox1s59RTRd8I"
      },
      "source": [
        "0이 아닌 값의 행과 열의 위치를 나타내는 배열을 구해보면,\n",
        "\n",
        "행 위치 배열 = [0, 0, 1, 1, 1, 1, 1, 2, 2, 3, 4, 4, 5],\n",
        "\n",
        "열 위치 배열 = [2, 5, 0, 1, 3, 4, 5, 1, 3, 0, 3, 5, 0]입니다.\n",
        "\n",
        "행 위치 배열인 [0, 0, 1, 1, 1, 1, 1, 2, 2, 3, 4, 4, 5]을 보면 순차적으로 같은 값이 반복적으로 나타남을 볼 수 있습니다. 0이 2번, 1이 5번, 2가 2번, 4가 2번 반복됩니다. 행 위치 배열이 0부터 순차적으로 증가한다는 특성을 고려해 행 위치 배열의 고유한 값의 시작 위치만 표기하는 방법으로 이런 반복을 제거할 수 있습니다. 0의 시작 인덱스는 0이고, 1의 시작 인덱스는 2이며, 2의 시작 인덱스는 7입니다. \n",
        "\n",
        "따라서 행 위치 배열인 [0, 0, 1, 1, 1, 1, 1, 2, 2, 3, 4, 4, 5]을 행 위치 배열 내 고유한 값의 시작 위치 배열인 [0, 2, 7, 9, 10, 12]로 변환하면 반복도 줄이고 메모리도 적게 사용할 수 있습니다. 마지막에는 총항목의 개수를 추가해주면 됩니다. 총항목이 13개이므로 최종 배열은 [0, 2, 7, 9, 10, 12, 13]입니다.\n",
        "\n",
        "이렇듯 COO 형식의 문제점을 보완하기 위한 방식이 CSR(Compressed Sparse Row) 형식입니다. COO 형식에 비해 메모리가 적게 들고 빠른 연산이 가능하여, 일반적으로 COO 형식보다는 CSR 형식을 많이 씁니다.\n",
        "\n",
        "예제를 통해 COO 형식과 CSR 형식을 비교해보겠습니다."
      ]
    },
    {
      "cell_type": "code",
      "execution_count": null,
      "metadata": {
        "colab": {
          "base_uri": "https://localhost:8080/"
        },
        "id": "dFRXZjcqRdUP",
        "outputId": "551b6649-86c8-4dff-835d-4db6b33910a0"
      },
      "outputs": [
        {
          "name": "stdout",
          "output_type": "stream",
          "text": [
            "COO 변환된 데이터가 제대로 되었는지 다시 Dense로 출력 확인\n",
            "[[0 0 1 0 0 5]\n",
            " [1 4 0 3 2 5]\n",
            " [0 6 0 3 0 0]\n",
            " [2 0 0 0 0 0]\n",
            " [0 0 0 7 0 8]\n",
            " [1 0 0 0 0 0]]\n",
            "CSR 변환된 데이터가 제대로 되었는지 다시 Dense로 출력 확인\n",
            "[[0 0 1 0 0 5]\n",
            " [1 4 0 3 2 5]\n",
            " [0 6 0 3 0 0]\n",
            " [2 0 0 0 0 0]\n",
            " [0 0 0 7 0 8]\n",
            " [1 0 0 0 0 0]]\n"
          ]
        }
      ],
      "source": [
        "from scipy import sparse\n",
        "\n",
        "dense2 = np.array([[0,0,1,0,0,5],\n",
        "             [1,4,0,3,2,5],\n",
        "             [0,6,0,3,0,0],\n",
        "             [2,0,0,0,0,0],\n",
        "             [0,0,0,7,0,8],\n",
        "             [1,0,0,0,0,0]])\n",
        "\n",
        "# 0 이 아닌 데이터 추출\n",
        "data2 = np.array([1, 5, 1, 4, 3, 2, 5, 6, 3, 2, 7, 8, 1])\n",
        "\n",
        "# 행 위치와 열 위치를 각각 array로 생성 \n",
        "row_pos = np.array([0, 0, 1, 1, 1, 1, 1, 2, 2, 3, 4, 4, 5])\n",
        "col_pos = np.array([2, 5, 0, 1, 3, 4, 5, 1, 3, 0, 3, 5, 0])\n",
        "\n",
        "# COO 형식으로 변환 \n",
        "sparse_coo = sparse.coo_matrix((data2, (row_pos,col_pos)))\n",
        "\n",
        "# 행 위치 배열의 고유한 값들의 시작 위치 인덱스를 배열로 생성\n",
        "row_pos_ind = np.array([0, 2, 7, 9, 10, 12, 13])\n",
        "\n",
        "# CSR 형식으로 변환 \n",
        "sparse_csr = sparse.csr_matrix((data2, col_pos, row_pos_ind))\n",
        "\n",
        "print('COO 변환된 데이터가 제대로 되었는지 다시 Dense로 출력 확인')\n",
        "print(sparse_coo.toarray())\n",
        "print('CSR 변환된 데이터가 제대로 되었는지 다시 Dense로 출력 확인')\n",
        "print(sparse_csr.toarray())"
      ]
    },
    {
      "cell_type": "code",
      "execution_count": null,
      "metadata": {
        "colab": {
          "base_uri": "https://localhost:8080/"
        },
        "id": "QeAAtRXac_IX",
        "outputId": "3eed9f8e-7792-4417-96a5-c2579e3d7f24"
      },
      "outputs": [
        {
          "name": "stdout",
          "output_type": "stream",
          "text": [
            "  (0, 0)\t1\n",
            "  (0, 3)\t1\n",
            "  (1, 2)\t2\n",
            "  (1, 5)\t1\n",
            "  (2, 3)\t2\n"
          ]
        }
      ],
      "source": [
        "from numpy import array\n",
        "from scipy import sparse\n",
        "dense = array([[1, 0, 0, 1, 0, 0], [0, 0, 2, 0, 0, 1], [0, 0, 0, 2, 0, 0]])\n",
        "\n",
        "coo = sparse.coo_matrix(dense)\n",
        "print(coo)"
      ]
    },
    {
      "cell_type": "code",
      "execution_count": null,
      "metadata": {
        "colab": {
          "base_uri": "https://localhost:8080/"
        },
        "id": "Q1_ZOYxndMJA",
        "outputId": "da3460c8-0a35-4f37-d172-bd9f1ee2eecf"
      },
      "outputs": [
        {
          "name": "stdout",
          "output_type": "stream",
          "text": [
            "  (0, 0)\t1\n",
            "  (0, 3)\t1\n",
            "  (1, 2)\t2\n",
            "  (1, 5)\t1\n",
            "  (2, 3)\t2\n"
          ]
        }
      ],
      "source": [
        "csr = sparse.csr_matrix(dense)\n",
        "print(csr)"
      ]
    },
    {
      "cell_type": "markdown",
      "metadata": {
        "id": "85zdUsDZRoHg"
      },
      "source": [
        "사이킷런의 CountVectorizer, TfidfVectorizer 클래스로 피처 벡터화된 행렬은 모두 CSR 형식입니다."
      ]
    },
    {
      "cell_type": "markdown",
      "metadata": {
        "id": "gWaSs6b84Byn"
      },
      "source": [
        "- 문서 단어 행렬을 만들어보자 (참고 : https://pbj0812.tistory.com/372)\n",
        " - *args를 이용하여 여러개의 데이터를 인풋으로 받을 수 있게 설계해보자."
      ]
    },
    {
      "cell_type": "code",
      "execution_count": null,
      "metadata": {
        "id": "kDeHaXp24Kkp"
      },
      "outputs": [],
      "source": [
        "import pandas as pd\n",
        "def doc(*args):\n",
        "    doc_list = []\n",
        "    df = pd.DataFrame()\n",
        "    for i in args:\n",
        "        # 단어 분해\n",
        "        tmp_list = i.split(' ')\n",
        "        # 리스트 결합\n",
        "        doc_list += tmp_list\n",
        "    doc_list = list(set(doc_list))\n",
        "    for i in doc_list:\n",
        "        tmp = []\n",
        "        for j in args:\n",
        "            # 단어 분해\n",
        "            tmp_list = j.split(' ')\n",
        "            # 단어 세기\n",
        "            tmp.append(tmp_list.count(i))\n",
        "        # 데이터 프레임 추가\n",
        "        df[i] = tmp\n",
        "    return df"
      ]
    },
    {
      "cell_type": "code",
      "execution_count": null,
      "metadata": {
        "id": "H5wLoDPQ78JN"
      },
      "outputs": [],
      "source": [
        "doc1  = 'I am a boy'\n",
        "doc2 = 'I am a girl'\n",
        "doc3 = 'I am a a a man'"
      ]
    },
    {
      "cell_type": "code",
      "source": [
        "result = doc(doc1, doc2, doc3)\n",
        "result"
      ],
      "metadata": {
        "colab": {
          "base_uri": "https://localhost:8080/",
          "height": 143
        },
        "id": "bleX9aF0CUQO",
        "outputId": "01bcbaf4-fd30-4bb5-e2b8-72c068ac70d9"
      },
      "execution_count": null,
      "outputs": [
        {
          "output_type": "execute_result",
          "data": {
            "text/plain": [
              "   a  I  man  am  boy  girl\n",
              "0  1  1    0   1    1     0\n",
              "1  1  1    0   1    0     1\n",
              "2  3  1    1   1    0     0"
            ],
            "text/html": [
              "\n",
              "  <div id=\"df-fb20da1c-5927-43e1-a8b5-43ec0d30ff77\">\n",
              "    <div class=\"colab-df-container\">\n",
              "      <div>\n",
              "<style scoped>\n",
              "    .dataframe tbody tr th:only-of-type {\n",
              "        vertical-align: middle;\n",
              "    }\n",
              "\n",
              "    .dataframe tbody tr th {\n",
              "        vertical-align: top;\n",
              "    }\n",
              "\n",
              "    .dataframe thead th {\n",
              "        text-align: right;\n",
              "    }\n",
              "</style>\n",
              "<table border=\"1\" class=\"dataframe\">\n",
              "  <thead>\n",
              "    <tr style=\"text-align: right;\">\n",
              "      <th></th>\n",
              "      <th>a</th>\n",
              "      <th>I</th>\n",
              "      <th>man</th>\n",
              "      <th>am</th>\n",
              "      <th>boy</th>\n",
              "      <th>girl</th>\n",
              "    </tr>\n",
              "  </thead>\n",
              "  <tbody>\n",
              "    <tr>\n",
              "      <th>0</th>\n",
              "      <td>1</td>\n",
              "      <td>1</td>\n",
              "      <td>0</td>\n",
              "      <td>1</td>\n",
              "      <td>1</td>\n",
              "      <td>0</td>\n",
              "    </tr>\n",
              "    <tr>\n",
              "      <th>1</th>\n",
              "      <td>1</td>\n",
              "      <td>1</td>\n",
              "      <td>0</td>\n",
              "      <td>1</td>\n",
              "      <td>0</td>\n",
              "      <td>1</td>\n",
              "    </tr>\n",
              "    <tr>\n",
              "      <th>2</th>\n",
              "      <td>3</td>\n",
              "      <td>1</td>\n",
              "      <td>1</td>\n",
              "      <td>1</td>\n",
              "      <td>0</td>\n",
              "      <td>0</td>\n",
              "    </tr>\n",
              "  </tbody>\n",
              "</table>\n",
              "</div>\n",
              "      <button class=\"colab-df-convert\" onclick=\"convertToInteractive('df-fb20da1c-5927-43e1-a8b5-43ec0d30ff77')\"\n",
              "              title=\"Convert this dataframe to an interactive table.\"\n",
              "              style=\"display:none;\">\n",
              "        \n",
              "  <svg xmlns=\"http://www.w3.org/2000/svg\" height=\"24px\"viewBox=\"0 0 24 24\"\n",
              "       width=\"24px\">\n",
              "    <path d=\"M0 0h24v24H0V0z\" fill=\"none\"/>\n",
              "    <path d=\"M18.56 5.44l.94 2.06.94-2.06 2.06-.94-2.06-.94-.94-2.06-.94 2.06-2.06.94zm-11 1L8.5 8.5l.94-2.06 2.06-.94-2.06-.94L8.5 2.5l-.94 2.06-2.06.94zm10 10l.94 2.06.94-2.06 2.06-.94-2.06-.94-.94-2.06-.94 2.06-2.06.94z\"/><path d=\"M17.41 7.96l-1.37-1.37c-.4-.4-.92-.59-1.43-.59-.52 0-1.04.2-1.43.59L10.3 9.45l-7.72 7.72c-.78.78-.78 2.05 0 2.83L4 21.41c.39.39.9.59 1.41.59.51 0 1.02-.2 1.41-.59l7.78-7.78 2.81-2.81c.8-.78.8-2.07 0-2.86zM5.41 20L4 18.59l7.72-7.72 1.47 1.35L5.41 20z\"/>\n",
              "  </svg>\n",
              "      </button>\n",
              "      \n",
              "  <style>\n",
              "    .colab-df-container {\n",
              "      display:flex;\n",
              "      flex-wrap:wrap;\n",
              "      gap: 12px;\n",
              "    }\n",
              "\n",
              "    .colab-df-convert {\n",
              "      background-color: #E8F0FE;\n",
              "      border: none;\n",
              "      border-radius: 50%;\n",
              "      cursor: pointer;\n",
              "      display: none;\n",
              "      fill: #1967D2;\n",
              "      height: 32px;\n",
              "      padding: 0 0 0 0;\n",
              "      width: 32px;\n",
              "    }\n",
              "\n",
              "    .colab-df-convert:hover {\n",
              "      background-color: #E2EBFA;\n",
              "      box-shadow: 0px 1px 2px rgba(60, 64, 67, 0.3), 0px 1px 3px 1px rgba(60, 64, 67, 0.15);\n",
              "      fill: #174EA6;\n",
              "    }\n",
              "\n",
              "    [theme=dark] .colab-df-convert {\n",
              "      background-color: #3B4455;\n",
              "      fill: #D2E3FC;\n",
              "    }\n",
              "\n",
              "    [theme=dark] .colab-df-convert:hover {\n",
              "      background-color: #434B5C;\n",
              "      box-shadow: 0px 1px 3px 1px rgba(0, 0, 0, 0.15);\n",
              "      filter: drop-shadow(0px 1px 2px rgba(0, 0, 0, 0.3));\n",
              "      fill: #FFFFFF;\n",
              "    }\n",
              "  </style>\n",
              "\n",
              "      <script>\n",
              "        const buttonEl =\n",
              "          document.querySelector('#df-fb20da1c-5927-43e1-a8b5-43ec0d30ff77 button.colab-df-convert');\n",
              "        buttonEl.style.display =\n",
              "          google.colab.kernel.accessAllowed ? 'block' : 'none';\n",
              "\n",
              "        async function convertToInteractive(key) {\n",
              "          const element = document.querySelector('#df-fb20da1c-5927-43e1-a8b5-43ec0d30ff77');\n",
              "          const dataTable =\n",
              "            await google.colab.kernel.invokeFunction('convertToInteractive',\n",
              "                                                     [key], {});\n",
              "          if (!dataTable) return;\n",
              "\n",
              "          const docLinkHtml = 'Like what you see? Visit the ' +\n",
              "            '<a target=\"_blank\" href=https://colab.research.google.com/notebooks/data_table.ipynb>data table notebook</a>'\n",
              "            + ' to learn more about interactive tables.';\n",
              "          element.innerHTML = '';\n",
              "          dataTable['output_type'] = 'display_data';\n",
              "          await google.colab.output.renderOutput(dataTable, element);\n",
              "          const docLink = document.createElement('div');\n",
              "          docLink.innerHTML = docLinkHtml;\n",
              "          element.appendChild(docLink);\n",
              "        }\n",
              "      </script>\n",
              "    </div>\n",
              "  </div>\n",
              "  "
            ]
          },
          "metadata": {},
          "execution_count": 4
        }
      ]
    },
    {
      "cell_type": "markdown",
      "source": [
        "### dok\n",
        "\n",
        "- dok(Dictionary of Keys)방식을 소개하겠습니다. dok는 좌표가 key이고 원소 값이 value인 딕셔너리 구조입니다. dok 방식은 희소행렬을 점진적으로 구축할 때 사용하기 좋습니다."
      ],
      "metadata": {
        "id": "mN2YrcqghYyZ"
      }
    },
    {
      "cell_type": "code",
      "source": [
        "from scipy.sparse import dok_matrix\n",
        "\n",
        "m = dok_matrix((3, 4)) # 값이 0으로 채워진 (3, 4) 크기의 행렬을 만듭니다.\n",
        "m[0, 1] = 4\n",
        "m[2, 3] = 9\n",
        "m.toarray()"
      ],
      "metadata": {
        "id": "5JAlJHuqhcaJ",
        "outputId": "37cb7ad1-ab58-4bb1-d776-1381686786ad",
        "colab": {
          "base_uri": "https://localhost:8080/"
        }
      },
      "execution_count": null,
      "outputs": [
        {
          "output_type": "execute_result",
          "data": {
            "text/plain": [
              "array([[0., 4., 0., 0.],\n",
              "       [0., 0., 0., 0.],\n",
              "       [0., 0., 0., 9.]])"
            ]
          },
          "metadata": {},
          "execution_count": 24
        }
      ]
    },
    {
      "cell_type": "markdown",
      "metadata": {
        "id": "sr56W5T1biVo"
      },
      "source": [
        "- DTM 실습\n",
        " - 우리가 다룰 데이터는 아마존에서 휴대폰(cell phone)에 대한 고객 리뷰이다. 리뷰 데이터는 csv형식으로 되어있음. CSV형식은 단순 텍스트 파일로 열과 열 사이를 콤마로 구분하는 것이다."
      ]
    },
    {
      "cell_type": "code",
      "execution_count": null,
      "metadata": {
        "colab": {
          "base_uri": "https://localhost:8080/"
        },
        "id": "MfK5k2GRb61q",
        "outputId": "21e3f52a-4300-4097-c8ae-69b183d749dd"
      },
      "outputs": [
        {
          "data": {
            "text/plain": [
              "('review.gz', <http.client.HTTPMessage at 0x7f9a588bec10>)"
            ]
          },
          "execution_count": 48,
          "metadata": {},
          "output_type": "execute_result"
        }
      ],
      "source": [
        "from urllib.request import urlretrieve\n",
        "urlretrieve('http://doc.mindscale.kr/km/unstructured/review.gz','review.gz')"
      ]
    },
    {
      "cell_type": "code",
      "execution_count": null,
      "metadata": {
        "colab": {
          "base_uri": "https://localhost:8080/",
          "height": 206
        },
        "id": "3egFhS_kb98d",
        "outputId": "84c476c7-dfe7-4c1d-bd6a-d3a0e89a0168"
      },
      "outputs": [
        {
          "data": {
            "text/html": [
              "\n",
              "  <div id=\"df-95559c9c-7636-46ad-a09a-4df462fd7185\">\n",
              "    <div class=\"colab-df-container\">\n",
              "      <div>\n",
              "<style scoped>\n",
              "    .dataframe tbody tr th:only-of-type {\n",
              "        vertical-align: middle;\n",
              "    }\n",
              "\n",
              "    .dataframe tbody tr th {\n",
              "        vertical-align: top;\n",
              "    }\n",
              "\n",
              "    .dataframe thead th {\n",
              "        text-align: right;\n",
              "    }\n",
              "</style>\n",
              "<table border=\"1\" class=\"dataframe\">\n",
              "  <thead>\n",
              "    <tr style=\"text-align: right;\">\n",
              "      <th></th>\n",
              "      <th>reviewText</th>\n",
              "      <th>overall</th>\n",
              "    </tr>\n",
              "  </thead>\n",
              "  <tbody>\n",
              "    <tr>\n",
              "      <th>0</th>\n",
              "      <td>They look good and stick good! I just don't li...</td>\n",
              "      <td>4</td>\n",
              "    </tr>\n",
              "    <tr>\n",
              "      <th>1</th>\n",
              "      <td>These stickers work like the review says they ...</td>\n",
              "      <td>5</td>\n",
              "    </tr>\n",
              "    <tr>\n",
              "      <th>2</th>\n",
              "      <td>These are awesome and make my phone look so st...</td>\n",
              "      <td>5</td>\n",
              "    </tr>\n",
              "    <tr>\n",
              "      <th>3</th>\n",
              "      <td>Item arrived in great time and was in perfect ...</td>\n",
              "      <td>4</td>\n",
              "    </tr>\n",
              "    <tr>\n",
              "      <th>4</th>\n",
              "      <td>awesome! stays on, and looks great. can be use...</td>\n",
              "      <td>5</td>\n",
              "    </tr>\n",
              "  </tbody>\n",
              "</table>\n",
              "</div>\n",
              "      <button class=\"colab-df-convert\" onclick=\"convertToInteractive('df-95559c9c-7636-46ad-a09a-4df462fd7185')\"\n",
              "              title=\"Convert this dataframe to an interactive table.\"\n",
              "              style=\"display:none;\">\n",
              "        \n",
              "  <svg xmlns=\"http://www.w3.org/2000/svg\" height=\"24px\"viewBox=\"0 0 24 24\"\n",
              "       width=\"24px\">\n",
              "    <path d=\"M0 0h24v24H0V0z\" fill=\"none\"/>\n",
              "    <path d=\"M18.56 5.44l.94 2.06.94-2.06 2.06-.94-2.06-.94-.94-2.06-.94 2.06-2.06.94zm-11 1L8.5 8.5l.94-2.06 2.06-.94-2.06-.94L8.5 2.5l-.94 2.06-2.06.94zm10 10l.94 2.06.94-2.06 2.06-.94-2.06-.94-.94-2.06-.94 2.06-2.06.94z\"/><path d=\"M17.41 7.96l-1.37-1.37c-.4-.4-.92-.59-1.43-.59-.52 0-1.04.2-1.43.59L10.3 9.45l-7.72 7.72c-.78.78-.78 2.05 0 2.83L4 21.41c.39.39.9.59 1.41.59.51 0 1.02-.2 1.41-.59l7.78-7.78 2.81-2.81c.8-.78.8-2.07 0-2.86zM5.41 20L4 18.59l7.72-7.72 1.47 1.35L5.41 20z\"/>\n",
              "  </svg>\n",
              "      </button>\n",
              "      \n",
              "  <style>\n",
              "    .colab-df-container {\n",
              "      display:flex;\n",
              "      flex-wrap:wrap;\n",
              "      gap: 12px;\n",
              "    }\n",
              "\n",
              "    .colab-df-convert {\n",
              "      background-color: #E8F0FE;\n",
              "      border: none;\n",
              "      border-radius: 50%;\n",
              "      cursor: pointer;\n",
              "      display: none;\n",
              "      fill: #1967D2;\n",
              "      height: 32px;\n",
              "      padding: 0 0 0 0;\n",
              "      width: 32px;\n",
              "    }\n",
              "\n",
              "    .colab-df-convert:hover {\n",
              "      background-color: #E2EBFA;\n",
              "      box-shadow: 0px 1px 2px rgba(60, 64, 67, 0.3), 0px 1px 3px 1px rgba(60, 64, 67, 0.15);\n",
              "      fill: #174EA6;\n",
              "    }\n",
              "\n",
              "    [theme=dark] .colab-df-convert {\n",
              "      background-color: #3B4455;\n",
              "      fill: #D2E3FC;\n",
              "    }\n",
              "\n",
              "    [theme=dark] .colab-df-convert:hover {\n",
              "      background-color: #434B5C;\n",
              "      box-shadow: 0px 1px 3px 1px rgba(0, 0, 0, 0.15);\n",
              "      filter: drop-shadow(0px 1px 2px rgba(0, 0, 0, 0.3));\n",
              "      fill: #FFFFFF;\n",
              "    }\n",
              "  </style>\n",
              "\n",
              "      <script>\n",
              "        const buttonEl =\n",
              "          document.querySelector('#df-95559c9c-7636-46ad-a09a-4df462fd7185 button.colab-df-convert');\n",
              "        buttonEl.style.display =\n",
              "          google.colab.kernel.accessAllowed ? 'block' : 'none';\n",
              "\n",
              "        async function convertToInteractive(key) {\n",
              "          const element = document.querySelector('#df-95559c9c-7636-46ad-a09a-4df462fd7185');\n",
              "          const dataTable =\n",
              "            await google.colab.kernel.invokeFunction('convertToInteractive',\n",
              "                                                     [key], {});\n",
              "          if (!dataTable) return;\n",
              "\n",
              "          const docLinkHtml = 'Like what you see? Visit the ' +\n",
              "            '<a target=\"_blank\" href=https://colab.research.google.com/notebooks/data_table.ipynb>data table notebook</a>'\n",
              "            + ' to learn more about interactive tables.';\n",
              "          element.innerHTML = '';\n",
              "          dataTable['output_type'] = 'display_data';\n",
              "          await google.colab.output.renderOutput(dataTable, element);\n",
              "          const docLink = document.createElement('div');\n",
              "          docLink.innerHTML = docLinkHtml;\n",
              "          element.appendChild(docLink);\n",
              "        }\n",
              "      </script>\n",
              "    </div>\n",
              "  </div>\n",
              "  "
            ],
            "text/plain": [
              "                                          reviewText  overall\n",
              "0  They look good and stick good! I just don't li...        4\n",
              "1  These stickers work like the review says they ...        5\n",
              "2  These are awesome and make my phone look so st...        5\n",
              "3  Item arrived in great time and was in perfect ...        4\n",
              "4  awesome! stays on, and looks great. can be use...        5"
            ]
          },
          "execution_count": 49,
          "metadata": {},
          "output_type": "execute_result"
        }
      ],
      "source": [
        "import pandas as pd\n",
        "df = pd.read_csv('review.gz')\n",
        "df.head()"
      ]
    },
    {
      "cell_type": "markdown",
      "metadata": {
        "id": "gJLv_eVucKjc"
      },
      "source": [
        "- reviewText열은 고객들의 리뷰이고, overall열은 별점.\n",
        "- 해당 텍스트를 .loc을 이용해서 봐보자"
      ]
    },
    {
      "cell_type": "code",
      "execution_count": null,
      "metadata": {
        "colab": {
          "base_uri": "https://localhost:8080/",
          "height": 35
        },
        "id": "adP7qOWPcS3m",
        "outputId": "30da4ed4-b3e5-463a-c8f0-4bfd558b7ffb"
      },
      "outputs": [
        {
          "data": {
            "application/vnd.google.colaboratory.intrinsic+json": {
              "type": "string"
            },
            "text/plain": [
              "\"They look good and stick good! I just don't like the rounded shape because I was always bumping it and Siri kept popping up and it was irritating. I just won't buy a product like this again\""
            ]
          },
          "execution_count": 50,
          "metadata": {},
          "output_type": "execute_result"
        }
      ],
      "source": [
        "df.loc[0,'reviewText'] #0행의 reviewText 열"
      ]
    },
    {
      "cell_type": "code",
      "execution_count": null,
      "metadata": {
        "colab": {
          "base_uri": "https://localhost:8080/"
        },
        "id": "w6o5YdyncS-F",
        "outputId": "15e7d894-473f-4a33-caf1-89886f946f8d"
      },
      "outputs": [
        {
          "data": {
            "text/plain": [
              "0         They look good and stick good! I just don't li...\n",
              "1         These stickers work like the review says they ...\n",
              "2         These are awesome and make my phone look so st...\n",
              "3         Item arrived in great time and was in perfect ...\n",
              "4         awesome! stays on, and looks great. can be use...\n",
              "                                ...                        \n",
              "194434    Works great just like my original one. I reall...\n",
              "194435    Great product. Great packaging. High quality a...\n",
              "194436    This is a great cable, just as good as the mor...\n",
              "194437    I really like it becasue it works well with my...\n",
              "194438    product as described, I have wasted a lot of m...\n",
              "Name: reviewText, Length: 194439, dtype: object"
            ]
          },
          "execution_count": 51,
          "metadata": {},
          "output_type": "execute_result"
        }
      ],
      "source": [
        "df['reviewText']"
      ]
    },
    {
      "cell_type": "code",
      "execution_count": null,
      "metadata": {
        "colab": {
          "base_uri": "https://localhost:8080/"
        },
        "id": "sjIsv6p1cTFI",
        "outputId": "71d4cad4-cc4e-4ad2-c5ad-d07a84f3a914"
      },
      "outputs": [
        {
          "data": {
            "text/plain": [
              "99"
            ]
          },
          "execution_count": 52,
          "metadata": {},
          "output_type": "execute_result"
        }
      ],
      "source": [
        "df['reviewText'].isna().sum()"
      ]
    },
    {
      "cell_type": "markdown",
      "metadata": {
        "id": "UjuKrCQPcjnW"
      },
      "source": [
        "- 일부 데이터는 리뷰가 없음. 없는 행을 한 번 봐보자."
      ]
    },
    {
      "cell_type": "code",
      "execution_count": null,
      "metadata": {
        "colab": {
          "base_uri": "https://localhost:8080/"
        },
        "id": "2qwxXTXvcTMZ",
        "outputId": "f202ab13-49f2-428d-871b-e6ac290f0b00"
      },
      "outputs": [
        {
          "data": {
            "text/plain": [
              "nan"
            ]
          },
          "execution_count": 53,
          "metadata": {},
          "output_type": "execute_result"
        }
      ],
      "source": [
        "df.loc[548,'reviewText']"
      ]
    },
    {
      "cell_type": "markdown",
      "metadata": {
        "id": "qng-rJBvcy4B"
      },
      "source": [
        "- nan은 문자열이 아니기 때문에 후속 처리에 문제가 생길 가능성이 높다. nan을 빈문자열 ''로 바꾸거나, 해당 리뷰의 데이터를 삭제하는 방법이 있음(list-wise delection). 여기서는 휴자의 방법을 사용하자."
      ]
    },
    {
      "cell_type": "code",
      "execution_count": null,
      "metadata": {
        "colab": {
          "base_uri": "https://localhost:8080/"
        },
        "id": "jgRm2vkscw_4",
        "outputId": "f19878f2-7817-4b46-ea16-8e4514ac6073"
      },
      "outputs": [
        {
          "data": {
            "text/plain": [
              "(194439, 2)"
            ]
          },
          "execution_count": 54,
          "metadata": {},
          "output_type": "execute_result"
        }
      ],
      "source": [
        "df.shape"
      ]
    },
    {
      "cell_type": "code",
      "execution_count": null,
      "metadata": {
        "id": "gzCzPAEZb-Ee"
      },
      "outputs": [],
      "source": [
        "#dropna 메소드를 이용해 nan이 포함된 행을 모두 삭제한다.\n",
        "df = df.dropna()"
      ]
    },
    {
      "cell_type": "code",
      "execution_count": null,
      "metadata": {
        "colab": {
          "base_uri": "https://localhost:8080/"
        },
        "id": "8bAS68rRdFhh",
        "outputId": "4104751b-fd1a-44f0-86b6-fd629b92c672"
      },
      "outputs": [
        {
          "data": {
            "text/plain": [
              "(194340, 2)"
            ]
          },
          "execution_count": 56,
          "metadata": {},
          "output_type": "execute_result"
        }
      ],
      "source": [
        "df.shape"
      ]
    },
    {
      "cell_type": "code",
      "execution_count": null,
      "metadata": {
        "colab": {
          "base_uri": "https://localhost:8080/"
        },
        "id": "5BRsr-nKdHsC",
        "outputId": "e472094d-7690-469e-cf27-b5fe09d41c47"
      },
      "outputs": [
        {
          "data": {
            "text/plain": [
              "reviewText    0\n",
              "overall       0\n",
              "dtype: int64"
            ]
          },
          "execution_count": 57,
          "metadata": {},
          "output_type": "execute_result"
        }
      ],
      "source": [
        "df.isnull().sum()"
      ]
    },
    {
      "cell_type": "markdown",
      "metadata": {
        "id": "2-XI6sWzdNcw"
      },
      "source": [
        "- 99개 행이 삭제된 것을 알 수 있음."
      ]
    },
    {
      "cell_type": "markdown",
      "metadata": {
        "id": "vgdlW7UzdayA"
      },
      "source": [
        " - DTM 만들기\n",
        "  - sklearn-learng의 CountVectorizr을 불러옴. \n",
        "  - 여러가지 옵션을 설정할 수 있는데, 여기서는 max_feature를 1000으로 설정한다. 이 옵셥은 DTM에서 포함시킬 최대(Max)의 단어(feature)수를 말한다. 즉, 빈도 순으로 최대 1000단어까지만 포함시킨다. stop_words는 분석에서 제외할 불용어를 설정하는 옵션이다. english로 설정하면 영어의 관사, 전치사 등을 자동으로 제외시킴. 한국어는 지원하지 않기 때문에 한국어를 분석할 때는 다른 방법이 필요함."
      ]
    },
    {
      "cell_type": "code",
      "execution_count": null,
      "metadata": {
        "id": "woRp-12ldR7h"
      },
      "outputs": [],
      "source": [
        "from sklearn.feature_extraction.text import CountVectorizer\n",
        "cv = CountVectorizer(max_features=1000, stop_words = 'english')"
      ]
    },
    {
      "cell_type": "code",
      "execution_count": null,
      "metadata": {
        "id": "i6c6QK4_dSC8"
      },
      "outputs": [],
      "source": [
        "#cv를 이용해서 DTM으로 변환\n",
        "tdm = cv.fit_transform(df['reviewText'])"
      ]
    },
    {
      "cell_type": "markdown",
      "metadata": {
        "id": "Lr5_0eZseTgi"
      },
      "source": [
        "- fit_transform 은 fit 과 transform 두 개의 메소드를 합친 것이다. fit은 단어 문서 행렬의형태를 정하는 메소드로, 각 열에 들어갈 단어를 결정한다. 이 정보는 cv 의 내부에 저장된다.\n",
        "- transform 은 이렇게 정해진 형태로 데이터를 변환하는 메소드이다. 실제 단어 문서 행렬은transform 에 의해 만들어진다. 다른 데이터를 리뷰 데이터와 같은 형태로 변환하고 싶다면,\n",
        "fit_transform 이 아닌 transform 을 사용한다.\n",
        "\n",
        "- 결과적으로 변환된 단어 문서 행렬은 변수 tdm 에 할당된다. tdm 변수의 형태를 확인해보자."
      ]
    },
    {
      "cell_type": "code",
      "execution_count": null,
      "metadata": {
        "colab": {
          "base_uri": "https://localhost:8080/"
        },
        "id": "_LyAWenJdSKG",
        "outputId": "816e432e-845b-40aa-c567-8d0084c8b340"
      },
      "outputs": [
        {
          "data": {
            "text/plain": [
              "(194340, 1000)"
            ]
          },
          "execution_count": 60,
          "metadata": {},
          "output_type": "execute_result"
        }
      ],
      "source": [
        "tdm.shape"
      ]
    },
    {
      "cell_type": "markdown",
      "metadata": {
        "id": "QzoNovgheZ0C"
      },
      "source": [
        "- 행의 수는 문서의 수이기 때문에 df 와 같다. 열의 수는 단어의 수이기 때문에 처음 설정한대로1000개이다. 앞에서 설명한 대로 단어 문서 행렬의 형태는 cv 내부에 저장되기 때문에 단어 목록을 보려면 cv 의 get_feature_names 메소드를 사용한다."
      ]
    },
    {
      "cell_type": "code",
      "execution_count": null,
      "metadata": {
        "colab": {
          "base_uri": "https://localhost:8080/"
        },
        "id": "vPYnnnUadSQz",
        "outputId": "53f6ef45-daaf-4484-e902-bbc9d841187d"
      },
      "outputs": [
        {
          "name": "stderr",
          "output_type": "stream",
          "text": [
            "/usr/local/lib/python3.7/dist-packages/sklearn/utils/deprecation.py:87: FutureWarning: Function get_feature_names is deprecated; get_feature_names is deprecated in 1.0 and will be removed in 1.2. Please use get_feature_names_out instead.\n",
            "  warnings.warn(msg, category=FutureWarning)\n"
          ]
        },
        {
          "data": {
            "text/plain": [
              "['10',\n",
              " '100',\n",
              " '12',\n",
              " '15',\n",
              " '1a',\n",
              " '20',\n",
              " '25',\n",
              " '30',\n",
              " '34',\n",
              " '3g',\n",
              " '40',\n",
              " '4g',\n",
              " '4s',\n",
              " '50',\n",
              " '5s',\n",
              " '8217',\n",
              " 'ability',\n",
              " 'able',\n",
              " 'absolutely',\n",
              " 'ac',\n",
              " 'access',\n",
              " 'accessories',\n",
              " 'actual',\n",
              " 'actually',\n",
              " 'adapter',\n",
              " 'adapters',\n",
              " 'add',\n",
              " 'added',\n",
              " 'addition',\n",
              " 'additional',\n",
              " 'adds',\n",
              " 'adjust',\n",
              " 'advertised',\n",
              " 'ago',\n",
              " 'air',\n",
              " 'allow',\n",
              " 'allows',\n",
              " 'amazing',\n",
              " 'amazon',\n",
              " 'amp',\n",
              " 'amps',\n",
              " 'android',\n",
              " 'angle',\n",
              " 'anker',\n",
              " 'annoying',\n",
              " 'answer',\n",
              " 'anti',\n",
              " 'anymore',\n",
              " 'apart',\n",
              " 'app',\n",
              " 'appears',\n",
              " 'apple',\n",
              " 'application',\n",
              " 'apply',\n",
              " 'apps',\n",
              " 'area',\n",
              " 'aren',\n",
              " 'arm',\n",
              " 'armor',\n",
              " 'arrived',\n",
              " 'ask',\n",
              " 'attach',\n",
              " 'attached',\n",
              " 'attractive',\n",
              " 'audio',\n",
              " 'automatically',\n",
              " 'available',\n",
              " 'average',\n",
              " 'away',\n",
              " 'awesome',\n",
              " 'background',\n",
              " 'backup',\n",
              " 'bad',\n",
              " 'bag',\n",
              " 'band',\n",
              " 'bank',\n",
              " 'barely',\n",
              " 'base',\n",
              " 'based',\n",
              " 'basic',\n",
              " 'basically',\n",
              " 'bass',\n",
              " 'batteries',\n",
              " 'battery',\n",
              " 'beat',\n",
              " 'beautiful',\n",
              " 'believe',\n",
              " 'belkin',\n",
              " 'belt',\n",
              " 'best',\n",
              " 'better',\n",
              " 'big',\n",
              " 'bigger',\n",
              " 'biggest',\n",
              " 'bit',\n",
              " 'black',\n",
              " 'blackberry',\n",
              " 'blue',\n",
              " 'bluetooth',\n",
              " 'body',\n",
              " 'bother',\n",
              " 'bought',\n",
              " 'box',\n",
              " 'brand',\n",
              " 'break',\n",
              " 'bright',\n",
              " 'broke',\n",
              " 'broken',\n",
              " 'bubble',\n",
              " 'bubbles',\n",
              " 'bucks',\n",
              " 'buds',\n",
              " 'build',\n",
              " 'built',\n",
              " 'bulk',\n",
              " 'bulky',\n",
              " 'bumper',\n",
              " 'business',\n",
              " 'button',\n",
              " 'buttons',\n",
              " 'buy',\n",
              " 'buying',\n",
              " 'cable',\n",
              " 'cables',\n",
              " 'called',\n",
              " 'calls',\n",
              " 'came',\n",
              " 'camera',\n",
              " 'capacity',\n",
              " 'car',\n",
              " 'card',\n",
              " 'cards',\n",
              " 'care',\n",
              " 'careful',\n",
              " 'carry',\n",
              " 'carrying',\n",
              " 'case',\n",
              " 'cases',\n",
              " 'cause',\n",
              " 'cell',\n",
              " 'certainly',\n",
              " 'chance',\n",
              " 'change',\n",
              " 'charge',\n",
              " 'charged',\n",
              " 'charger',\n",
              " 'chargers',\n",
              " 'charges',\n",
              " 'charging',\n",
              " 'cheap',\n",
              " 'cheaper',\n",
              " 'check',\n",
              " 'choice',\n",
              " 'clarity',\n",
              " 'clean',\n",
              " 'cleaning',\n",
              " 'clear',\n",
              " 'clearly',\n",
              " 'clip',\n",
              " 'close',\n",
              " 'cloth',\n",
              " 'color',\n",
              " 'colors',\n",
              " 'come',\n",
              " 'comes',\n",
              " 'comfortable',\n",
              " 'coming',\n",
              " 'commuter',\n",
              " 'compact',\n",
              " 'company',\n",
              " 'compared',\n",
              " 'compatible',\n",
              " 'complain',\n",
              " 'complaint',\n",
              " 'complaints',\n",
              " 'completely',\n",
              " 'compliments',\n",
              " 'computer',\n",
              " 'connect',\n",
              " 'connected',\n",
              " 'connection',\n",
              " 'connector',\n",
              " 'cons',\n",
              " 'consider',\n",
              " 'considering',\n",
              " 'constantly',\n",
              " 'construction',\n",
              " 'contact',\n",
              " 'control',\n",
              " 'controls',\n",
              " 'convenient',\n",
              " 'cool',\n",
              " 'cord',\n",
              " 'cords',\n",
              " 'corner',\n",
              " 'corners',\n",
              " 'correctly',\n",
              " 'cost',\n",
              " 'couldn',\n",
              " 'couple',\n",
              " 'course',\n",
              " 'cover',\n",
              " 'covered',\n",
              " 'covers',\n",
              " 'cracked',\n",
              " 'cradle',\n",
              " 'credit',\n",
              " 'cup',\n",
              " 'current',\n",
              " 'customer',\n",
              " 'cut',\n",
              " 'cute',\n",
              " 'cutouts',\n",
              " 'daily',\n",
              " 'damage',\n",
              " 'dark',\n",
              " 'dash',\n",
              " 'data',\n",
              " 'daughter',\n",
              " 'day',\n",
              " 'days',\n",
              " 'dead',\n",
              " 'deal',\n",
              " 'decent',\n",
              " 'decided',\n",
              " 'defender',\n",
              " 'definitely',\n",
              " 'delivery',\n",
              " 'described',\n",
              " 'description',\n",
              " 'design',\n",
              " 'designed',\n",
              " 'desk',\n",
              " 'despite',\n",
              " 'device',\n",
              " 'devices',\n",
              " 'did',\n",
              " 'didn',\n",
              " 'difference',\n",
              " 'different',\n",
              " 'difficult',\n",
              " 'directions',\n",
              " 'directly',\n",
              " 'dirt',\n",
              " 'dirty',\n",
              " 'disappointed',\n",
              " 'display',\n",
              " 'dock',\n",
              " 'does',\n",
              " 'doesn',\n",
              " 'doing',\n",
              " 'don',\n",
              " 'dont',\n",
              " 'double',\n",
              " 'drive',\n",
              " 'driving',\n",
              " 'droid',\n",
              " 'drop',\n",
              " 'dropped',\n",
              " 'dropping',\n",
              " 'drops',\n",
              " 'dual',\n",
              " 'durable',\n",
              " 'dust',\n",
              " 'ear',\n",
              " 'earbuds',\n",
              " 'earpiece',\n",
              " 'ears',\n",
              " 'ease',\n",
              " 'easier',\n",
              " 'easily',\n",
              " 'easy',\n",
              " 'edge',\n",
              " 'edges',\n",
              " 'electronics',\n",
              " 'email',\n",
              " 'end',\n",
              " 'ended',\n",
              " 'enjoy',\n",
              " 'entire',\n",
              " 'especially',\n",
              " 'eventually',\n",
              " 'everyday',\n",
              " 'evo',\n",
              " 'exactly',\n",
              " 'excellent',\n",
              " 'expect',\n",
              " 'expected',\n",
              " 'expecting',\n",
              " 'expensive',\n",
              " 'experience',\n",
              " 'extended',\n",
              " 'external',\n",
              " 'extra',\n",
              " 'extremely',\n",
              " 'face',\n",
              " 'fact',\n",
              " 'fair',\n",
              " 'fairly',\n",
              " 'fall',\n",
              " 'falling',\n",
              " 'falls',\n",
              " 'family',\n",
              " 'fan',\n",
              " 'fantastic',\n",
              " 'far',\n",
              " 'fast',\n",
              " 'faster',\n",
              " 'fault',\n",
              " 'favorite',\n",
              " 'feature',\n",
              " 'features',\n",
              " 'feel',\n",
              " 'feeling',\n",
              " 'feels',\n",
              " 'feet',\n",
              " 'fell',\n",
              " 'felt',\n",
              " 'figure',\n",
              " 'figured',\n",
              " 'film',\n",
              " 'finally',\n",
              " 'fine',\n",
              " 'finger',\n",
              " 'fingerprints',\n",
              " 'fingers',\n",
              " 'finish',\n",
              " 'fit',\n",
              " 'fits',\n",
              " 'fitting',\n",
              " 'fix',\n",
              " 'flash',\n",
              " 'flashlight',\n",
              " 'flat',\n",
              " 'flexible',\n",
              " 'flimsy',\n",
              " 'flip',\n",
              " 'forget',\n",
              " 'form',\n",
              " 'forward',\n",
              " 'free',\n",
              " 'friend',\n",
              " 'friends',\n",
              " 'fully',\n",
              " 'fun',\n",
              " 'function',\n",
              " 'functional',\n",
              " 'functionality',\n",
              " 'functions',\n",
              " 'future',\n",
              " 'galaxy',\n",
              " 'games',\n",
              " 'gave',\n",
              " 'gets',\n",
              " 'getting',\n",
              " 'gift',\n",
              " 'given',\n",
              " 'gives',\n",
              " 'giving',\n",
              " 'glad',\n",
              " 'glare',\n",
              " 'glass',\n",
              " 'glove',\n",
              " 'goes',\n",
              " 'going',\n",
              " 'gone',\n",
              " 'good',\n",
              " 'google',\n",
              " 'got',\n",
              " 'gotten',\n",
              " 'gps',\n",
              " 'great',\n",
              " 'green',\n",
              " 'grip',\n",
              " 'guess',\n",
              " 'half',\n",
              " 'hand',\n",
              " 'handle',\n",
              " 'hands',\n",
              " 'handy',\n",
              " 'happen',\n",
              " 'happy',\n",
              " 'hard',\n",
              " 'harder',\n",
              " 'hate',\n",
              " 'haven',\n",
              " 'having',\n",
              " 'hd',\n",
              " 'head',\n",
              " 'headphone',\n",
              " 'headphones',\n",
              " 'headset',\n",
              " 'headsets',\n",
              " 'hear',\n",
              " 'heard',\n",
              " 'heavy',\n",
              " 'held',\n",
              " 'help',\n",
              " 'helps',\n",
              " 'high',\n",
              " 'higher',\n",
              " 'highly',\n",
              " 'hit',\n",
              " 'hold',\n",
              " 'holder',\n",
              " 'holding',\n",
              " 'holds',\n",
              " 'hole',\n",
              " 'holes',\n",
              " 'holster',\n",
              " 'home',\n",
              " 'honest',\n",
              " 'hope',\n",
              " 'hot',\n",
              " 'hour',\n",
              " 'hours',\n",
              " 'house',\n",
              " 'htc',\n",
              " 'huge',\n",
              " 'husband',\n",
              " 'idea',\n",
              " 'ii',\n",
              " 'im',\n",
              " 'immediately',\n",
              " 'important',\n",
              " 'impossible',\n",
              " 'impressed',\n",
              " 'inch',\n",
              " 'included',\n",
              " 'includes',\n",
              " 'including',\n",
              " 'indicator',\n",
              " 'inexpensive',\n",
              " 'input',\n",
              " 'inside',\n",
              " 'install',\n",
              " 'installation',\n",
              " 'installed',\n",
              " 'instead',\n",
              " 'instructions',\n",
              " 'internet',\n",
              " 'ipad',\n",
              " 'iphone',\n",
              " 'iphones',\n",
              " 'ipod',\n",
              " 'isn',\n",
              " 'issue',\n",
              " 'issues',\n",
              " 'item',\n",
              " 'items',\n",
              " 'jabra',\n",
              " 'jack',\n",
              " 'job',\n",
              " 'juice',\n",
              " 'just',\n",
              " 'keeping',\n",
              " 'keeps',\n",
              " 'kept',\n",
              " 'key',\n",
              " 'keyboard',\n",
              " 'keys',\n",
              " 'kickstand',\n",
              " 'kids',\n",
              " 'kind',\n",
              " 'kindle',\n",
              " 'kit',\n",
              " 'knew',\n",
              " 'know',\n",
              " 'laptop',\n",
              " 'large',\n",
              " 'larger',\n",
              " 'lasted',\n",
              " 'lasts',\n",
              " 'later',\n",
              " 'layer',\n",
              " 'leather',\n",
              " 'leave',\n",
              " 'led',\n",
              " 'left',\n",
              " 'length',\n",
              " 'let',\n",
              " 'level',\n",
              " 'lg',\n",
              " 'life',\n",
              " 'light',\n",
              " 'lighter',\n",
              " 'lightning',\n",
              " 'lights',\n",
              " 'lightweight',\n",
              " 'like',\n",
              " 'liked',\n",
              " 'likely',\n",
              " 'likes',\n",
              " 'limited',\n",
              " 'line',\n",
              " 'lint',\n",
              " 'lip',\n",
              " 'listen',\n",
              " 'listening',\n",
              " 'little',\n",
              " 'live',\n",
              " 'll',\n",
              " 'lock',\n",
              " 'logo',\n",
              " 'long',\n",
              " 'longer',\n",
              " 'look',\n",
              " 'looked',\n",
              " 'looking',\n",
              " 'looks',\n",
              " 'loose',\n",
              " 'lose',\n",
              " 'lost',\n",
              " 'lot',\n",
              " 'lots',\n",
              " 'loud',\n",
              " 'love',\n",
              " 'loved',\n",
              " 'loves',\n",
              " 'low',\n",
              " 'lower',\n",
              " 'magnet',\n",
              " 'mah',\n",
              " 'mail',\n",
              " 'main',\n",
              " 'major',\n",
              " 'make',\n",
              " 'makes',\n",
              " 'making',\n",
              " 'manual',\n",
              " 'manufacturer',\n",
              " 'market',\n",
              " 'match',\n",
              " 'material',\n",
              " 'matte',\n",
              " 'matter',\n",
              " 'maybe',\n",
              " 'mean',\n",
              " 'means',\n",
              " 'memory',\n",
              " 'mentioned',\n",
              " 'metal',\n",
              " 'mic',\n",
              " 'micro',\n",
              " 'microphone',\n",
              " 'mind',\n",
              " 'mini',\n",
              " 'minimal',\n",
              " 'minor',\n",
              " 'minutes',\n",
              " 'mobile',\n",
              " 'mode',\n",
              " 'model',\n",
              " 'money',\n",
              " 'month',\n",
              " 'months',\n",
              " 'motorola',\n",
              " 'mount',\n",
              " 'mp3',\n",
              " 'multiple',\n",
              " 'music',\n",
              " 'near',\n",
              " 'nearly',\n",
              " 'need',\n",
              " 'needed',\n",
              " 'needs',\n",
              " 'negative',\n",
              " 'new',\n",
              " 'nexus',\n",
              " 'nfc',\n",
              " 'nice',\n",
              " 'nicely',\n",
              " 'night',\n",
              " 'noise',\n",
              " 'nokia',\n",
              " 'non',\n",
              " 'normal',\n",
              " 'note',\n",
              " 'notice',\n",
              " 'noticeable',\n",
              " 'noticed',\n",
              " 'number',\n",
              " 'obviously',\n",
              " 'oem',\n",
              " 'offer',\n",
              " 'offers',\n",
              " 'office',\n",
              " 'oh',\n",
              " 'ok',\n",
              " 'okay',\n",
              " 'old',\n",
              " 'older',\n",
              " 'ones',\n",
              " 'online',\n",
              " 'open',\n",
              " 'opening',\n",
              " 'opinion',\n",
              " 'option',\n",
              " 'options',\n",
              " 'order',\n",
              " 'ordered',\n",
              " 'ordering',\n",
              " 'original',\n",
              " 'otter',\n",
              " 'otterbox',\n",
              " 'outer',\n",
              " 'outlet',\n",
              " 'output',\n",
              " 'outside',\n",
              " 'overall',\n",
              " 'owned',\n",
              " 'pack',\n",
              " 'package',\n",
              " 'packaging',\n",
              " 'pad',\n",
              " 'paid',\n",
              " 'pain',\n",
              " 'pair',\n",
              " 'paired',\n",
              " 'pairing',\n",
              " 'parts',\n",
              " 'past',\n",
              " 'pay',\n",
              " 'pc',\n",
              " 'peel',\n",
              " 'pen',\n",
              " 'people',\n",
              " 'perfect',\n",
              " 'perfectly',\n",
              " 'performance',\n",
              " 'person',\n",
              " 'personally',\n",
              " 'phone',\n",
              " 'phones',\n",
              " 'photo',\n",
              " 'photos',\n",
              " 'pick',\n",
              " 'picture',\n",
              " 'pictures',\n",
              " 'piece',\n",
              " 'pieces',\n",
              " 'pin',\n",
              " 'pink',\n",
              " 'place',\n",
              " 'placed',\n",
              " 'plan',\n",
              " 'plantronics',\n",
              " 'plastic',\n",
              " 'play',\n",
              " 'player',\n",
              " 'playing',\n",
              " 'pleased',\n",
              " 'plenty',\n",
              " 'plug',\n",
              " 'plugged',\n",
              " 'plugs',\n",
              " 'plus',\n",
              " 'pocket',\n",
              " 'pockets',\n",
              " 'point',\n",
              " 'poor',\n",
              " 'pop',\n",
              " 'port',\n",
              " 'portable',\n",
              " 'ports',\n",
              " 'position',\n",
              " 'possible',\n",
              " 'pouch',\n",
              " 'power',\n",
              " 'prefer',\n",
              " 'press',\n",
              " 'pretty',\n",
              " 'previous',\n",
              " 'price',\n",
              " 'priced',\n",
              " 'pro',\n",
              " 'probably',\n",
              " 'problem',\n",
              " 'problems',\n",
              " 'process',\n",
              " 'product',\n",
              " 'products',\n",
              " 'profile',\n",
              " 'properly',\n",
              " 'pros',\n",
              " 'protect',\n",
              " 'protected',\n",
              " 'protecting',\n",
              " 'protection',\n",
              " 'protective',\n",
              " 'protector',\n",
              " 'protectors',\n",
              " 'protects',\n",
              " 'provide',\n",
              " 'provided',\n",
              " 'provides',\n",
              " 'pull',\n",
              " 'purchase',\n",
              " 'purchased',\n",
              " 'purchasing',\n",
              " 'purple',\n",
              " 'purpose',\n",
              " 'purse',\n",
              " 'push',\n",
              " 'putting',\n",
              " 'quality',\n",
              " 'quick',\n",
              " 'quickly',\n",
              " 'quite',\n",
              " 'radio',\n",
              " 'range',\n",
              " 'rate',\n",
              " 'rating',\n",
              " 'razr',\n",
              " 'read',\n",
              " 'reading',\n",
              " 'ready',\n",
              " 'real',\n",
              " 'really',\n",
              " 'reason',\n",
              " 'reasonable',\n",
              " 'receive',\n",
              " 'received',\n",
              " 'recently',\n",
              " 'reception',\n",
              " 'recharge',\n",
              " 'recommend',\n",
              " 'recommended',\n",
              " 'red',\n",
              " 'regular',\n",
              " 'remember',\n",
              " 'remove',\n",
              " 'removed',\n",
              " 'removing',\n",
              " 'replace',\n",
              " 'replaced',\n",
              " 'replacement',\n",
              " 'requires',\n",
              " 'rest',\n",
              " 'results',\n",
              " 'return',\n",
              " 'returned',\n",
              " 'review',\n",
              " 'reviews',\n",
              " 'right',\n",
              " 'road',\n",
              " 'room',\n",
              " 'rubber',\n",
              " 'rubberized',\n",
              " 'rubbery',\n",
              " 'run',\n",
              " 'running',\n",
              " 's2',\n",
              " 's3',\n",
              " 's4',\n",
              " 's5',\n",
              " 'safe',\n",
              " 'said',\n",
              " 'sample',\n",
              " 'samsung',\n",
              " 'satisfied',\n",
              " 'save',\n",
              " 'saw',\n",
              " 'say',\n",
              " 'saying',\n",
              " 'says',\n",
              " 'scratch',\n",
              " 'scratched',\n",
              " 'scratches',\n",
              " 'screen',\n",
              " 'screens',\n",
              " 'second',\n",
              " 'seconds',\n",
              " 'secure',\n",
              " 'securely',\n",
              " 'seen',\n",
              " 'seller',\n",
              " 'send',\n",
              " 'sent',\n",
              " 'separate',\n",
              " 'series',\n",
              " 'service',\n",
              " 'set',\n",
              " 'settings',\n",
              " 'shape',\n",
              " 'shell',\n",
              " 'shield',\n",
              " 'shipped',\n",
              " 'shipping',\n",
              " 'short',\n",
              " 'shows',\n",
              " 'sides',\n",
              " 'signal',\n",
              " 'silicone',\n",
              " 'sim',\n",
              " 'similar',\n",
              " 'simple',\n",
              " 'simply',\n",
              " 'single',\n",
              " 'sit',\n",
              " 'size',\n",
              " 'skin',\n",
              " 'sleek',\n",
              " 'slick',\n",
              " 'slide',\n",
              " 'slight',\n",
              " 'slightly',\n",
              " 'slim',\n",
              " 'slip',\n",
              " 'slippery',\n",
              " 'slot',\n",
              " 'slow',\n",
              " 'small',\n",
              " 'smaller',\n",
              " 'smart',\n",
              " 'smartphone',\n",
              " 'smartphones',\n",
              " 'smooth',\n",
              " 'snap',\n",
              " 'snug',\n",
              " 'soft',\n",
              " 'software',\n",
              " 'sold',\n",
              " 'solid',\n",
              " 'solution',\n",
              " 'somewhat',\n",
              " 'son',\n",
              " 'soon',\n",
              " 'sort',\n",
              " 'sound',\n",
              " 'sounds',\n",
              " 'space',\n",
              " 'spare',\n",
              " 'speaker',\n",
              " 'speakers',\n",
              " 'speed',\n",
              " 'spend',\n",
              " 'spigen',\n",
              " 'spot',\n",
              " 'sprint',\n",
              " 'stand',\n",
              " 'standard',\n",
              " 'star',\n",
              " 'stars',\n",
              " 'start',\n",
              " 'started',\n",
              " 'stay',\n",
              " 'stays',\n",
              " 'stereo',\n",
              " 'stick',\n",
              " 'sticky',\n",
              " 'stock',\n",
              " 'stop',\n",
              " 'stopped',\n",
              " 'storage',\n",
              " 'store',\n",
              " 'straight',\n",
              " 'strong',\n",
              " 'stuck',\n",
              " 'stuff',\n",
              " 'sturdy',\n",
              " 'style',\n",
              " 'stylish',\n",
              " 'stylus',\n",
              " 'suction',\n",
              " 'suggest',\n",
              " 'super',\n",
              " 'support',\n",
              " 'supposed',\n",
              " 'sure',\n",
              " 'surface',\n",
              " 'surprised',\n",
              " 'switch',\n",
              " 'sync',\n",
              " 'tab',\n",
              " 'table',\n",
              " 'tablet',\n",
              " 'tablets',\n",
              " 'takes',\n",
              " 'taking',\n",
              " 'talk',\n",
              " 'talking',\n",
              " 'tape',\n",
              " 'tech',\n",
              " 'technology',\n",
              " 'tell',\n",
              " 'tend',\n",
              " 'test',\n",
              " 'tested',\n",
              " 'testing',\n",
              " 'text',\n",
              " 'texture',\n",
              " 'thank',\n",
              " 'thanks',\n",
              " 'thicker',\n",
              " 'thickness',\n",
              " 'thing',\n",
              " 'things',\n",
              " 'think',\n",
              " 'thinking',\n",
              " 'thought',\n",
              " 'tight',\n",
              " 'time',\n",
              " 'times',\n",
              " 'tiny',\n",
              " 'tip',\n",
              " 'tips',\n",
              " 'today',\n",
              " 'told',\n",
              " 'took',\n",
              " 'total',\n",
              " 'totally',\n",
              " 'touch',\n",
              " 'tough',\n",
              " 'tpu',\n",
              " 'travel',\n",
              " 'traveling',\n",
              " 'trent',\n",
              " 'tried',\n",
              " 'trip',\n",
              " 'trouble',\n",
              " 'true',\n",
              " 'truly',\n",
              " 'try',\n",
              " 'trying',\n",
              " 'turn',\n",
              " 'turned',\n",
              " 'turns',\n",
              " 'tv',\n",
              " 'twice',\n",
              " 'type',\n",
              " 'understand',\n",
              " 'unfortunately',\n",
              " 'unit',\n",
              " 'unless',\n",
              " 'unlike',\n",
              " 'update',\n",
              " 'upgrade',\n",
              " 'usage',\n",
              " 'usb',\n",
              " 'use',\n",
              " 'used',\n",
              " 'useful',\n",
              " 'useless',\n",
              " 'user',\n",
              " 'users',\n",
              " 'uses',\n",
              " 'using',\n",
              " 'usually',\n",
              " 'value',\n",
              " 'various',\n",
              " 've',\n",
              " 'verizon',\n",
              " 'version',\n",
              " 'video',\n",
              " 'videos',\n",
              " 'view',\n",
              " 'voice',\n",
              " 'volume',\n",
              " 'wait',\n",
              " 'wall',\n",
              " 'wallet',\n",
              " 'want',\n",
              " 'wanted',\n",
              " 'warranty',\n",
              " 'wasn',\n",
              " 'waste',\n",
              " 'watch',\n",
              " 'water',\n",
              " 'waterproof',\n",
              " 'way',\n",
              " 'wear',\n",
              " 'wearing',\n",
              " 'web',\n",
              " 'week',\n",
              " 'weeks',\n",
              " 'weight',\n",
              " 'went',\n",
              " 'white',\n",
              " 'wife',\n",
              " 'wifi',\n",
              " 'window',\n",
              " 'windows',\n",
              " 'windshield',\n",
              " 'wire',\n",
              " 'wireless',\n",
              " 'wish',\n",
              " 'won',\n",
              " 'wonderful',\n",
              " 'work',\n",
              " 'worked',\n",
              " 'working',\n",
              " 'works',\n",
              " 'worry',\n",
              " 'worth',\n",
              " 'wouldn',\n",
              " 'wrong',\n",
              " 'year',\n",
              " 'years',\n",
              " 'yes']"
            ]
          },
          "execution_count": 61,
          "metadata": {},
          "output_type": "execute_result"
        }
      ],
      "source": [
        "cv.get_feature_names()"
      ]
    },
    {
      "cell_type": "markdown",
      "metadata": {
        "id": "Q3MjdASEehci"
      },
      "source": [
        "- 다른 방법을 지정해주지 않으면 CountVectorizer 는 숫자든 문자든 가리지 않고 공백만으로 단어를 구별한다. 숫자를 제거해주는 것도 가능하지만 자주 나오는 숫자들은 모델명 등 특별히 의미가있는 숫자인 경우도 있기 때문에 잘 생각해보고 결정해야 한다.\n",
        "- 이 단어 목록은 앞으로 자주 쓰게 되므로 words 라는 변수에 따로 할당을 해두도록 하자."
      ]
    },
    {
      "cell_type": "code",
      "execution_count": null,
      "metadata": {
        "id": "iIt1uCQXdSY-"
      },
      "outputs": [],
      "source": [
        "words = cv.get_feature_names()"
      ]
    },
    {
      "cell_type": "markdown",
      "metadata": {
        "id": "SWieGtYgeoLg"
      },
      "source": [
        "- tdm에서 첫 문서의 정보를 보면 Compressed Sparse Row format라는 표현이 나온다. 단어 문서 행렬을 대부분의 값이 0이다. sparse라는 단어는 '희박한'이라는 뜻으로 이렇게 대부분이 0인행렬을 가리킨다. 이런 희박 행렬을 다룰 때는 메모리를 절약하기 위해 압축된(Compressed) 형식을 사용한다. 그래서 내용을 바로 확인할 수는 없다"
      ]
    },
    {
      "cell_type": "code",
      "execution_count": null,
      "metadata": {
        "colab": {
          "base_uri": "https://localhost:8080/"
        },
        "id": "RdFh8HeUdShu",
        "outputId": "35af5536-46f3-408a-e822-b54f3f65edd2"
      },
      "outputs": [
        {
          "data": {
            "text/plain": [
              "<1x1000 sparse matrix of type '<class 'numpy.int64'>'\n",
              "\twith 11 stored elements in Compressed Sparse Row format>"
            ]
          },
          "execution_count": 63,
          "metadata": {},
          "output_type": "execute_result"
        }
      ],
      "source": [
        "tdm[0]"
      ]
    },
    {
      "cell_type": "markdown",
      "metadata": {
        "id": "5XJs5vp3esrW"
      },
      "source": [
        "- 내용을 확인하려면 압축을 풀어주어야 한다. 이렇게 보면 대부분의 값이 0인 것을 볼 수 있다"
      ]
    },
    {
      "cell_type": "code",
      "execution_count": null,
      "metadata": {
        "colab": {
          "base_uri": "https://localhost:8080/"
        },
        "id": "E8Hb8qPqdSqa",
        "outputId": "16dc1272-aad9-43e7-a9e0-609ce052bf15"
      },
      "outputs": [
        {
          "data": {
            "text/plain": [
              "array([[0, 0, 0, 0, 0, 0, 0, 0, 0, 0, 0, 0, 0, 0, 0, 0, 0, 0, 0, 0, 0, 0,\n",
              "        0, 0, 0, 0, 0, 0, 0, 0, 0, 0, 0, 0, 0, 0, 0, 0, 0, 0, 0, 0, 0, 0,\n",
              "        0, 0, 0, 0, 0, 0, 0, 0, 0, 0, 0, 0, 0, 0, 0, 0, 0, 0, 0, 0, 0, 0,\n",
              "        0, 0, 0, 0, 0, 0, 0, 0, 0, 0, 0, 0, 0, 0, 0, 0, 0, 0, 0, 0, 0, 0,\n",
              "        0, 0, 0, 0, 0, 0, 0, 0, 0, 0, 0, 0, 0, 0, 0, 0, 0, 0, 0, 0, 0, 0,\n",
              "        0, 0, 0, 0, 0, 0, 0, 0, 0, 0, 1, 0, 0, 0, 0, 0, 0, 0, 0, 0, 0, 0,\n",
              "        0, 0, 0, 0, 0, 0, 0, 0, 0, 0, 0, 0, 0, 0, 0, 0, 0, 0, 0, 0, 0, 0,\n",
              "        0, 0, 0, 0, 0, 0, 0, 0, 0, 0, 0, 0, 0, 0, 0, 0, 0, 0, 0, 0, 0, 0,\n",
              "        0, 0, 0, 0, 0, 0, 0, 0, 0, 0, 0, 0, 0, 0, 0, 0, 0, 0, 0, 0, 0, 0,\n",
              "        0, 0, 0, 0, 0, 0, 0, 0, 0, 0, 0, 0, 0, 0, 0, 0, 0, 0, 0, 0, 0, 0,\n",
              "        0, 0, 0, 0, 0, 0, 0, 0, 0, 0, 0, 0, 0, 0, 0, 0, 0, 0, 0, 0, 0, 0,\n",
              "        0, 0, 0, 0, 0, 0, 0, 0, 0, 1, 0, 0, 0, 0, 0, 0, 0, 0, 0, 0, 0, 0,\n",
              "        0, 0, 0, 0, 0, 0, 0, 0, 0, 0, 0, 0, 0, 0, 0, 0, 0, 0, 0, 0, 0, 0,\n",
              "        0, 0, 0, 0, 0, 0, 0, 0, 0, 0, 0, 0, 0, 0, 0, 0, 0, 0, 0, 0, 0, 0,\n",
              "        0, 0, 0, 0, 0, 0, 0, 0, 0, 0, 0, 0, 0, 0, 0, 0, 0, 0, 0, 0, 0, 0,\n",
              "        0, 0, 0, 0, 0, 0, 0, 0, 0, 0, 0, 0, 0, 0, 0, 0, 0, 0, 0, 0, 0, 0,\n",
              "        0, 0, 0, 0, 0, 0, 0, 0, 0, 0, 0, 0, 0, 0, 2, 0, 0, 0, 0, 0, 0, 0,\n",
              "        0, 0, 0, 0, 0, 0, 0, 0, 0, 0, 0, 0, 0, 0, 0, 0, 0, 0, 0, 0, 0, 0,\n",
              "        0, 0, 0, 0, 0, 0, 0, 0, 0, 0, 0, 0, 0, 0, 0, 0, 0, 0, 0, 0, 0, 0,\n",
              "        0, 0, 0, 0, 0, 0, 0, 0, 0, 0, 0, 0, 0, 0, 0, 0, 0, 0, 0, 0, 0, 0,\n",
              "        0, 0, 0, 0, 0, 0, 0, 0, 0, 0, 0, 0, 0, 0, 2, 0, 0, 1, 0, 0, 0, 0,\n",
              "        0, 0, 0, 0, 0, 0, 0, 0, 0, 0, 0, 0, 0, 0, 0, 0, 0, 0, 0, 0, 0, 0,\n",
              "        0, 0, 0, 0, 0, 2, 0, 0, 0, 0, 0, 0, 0, 0, 0, 0, 0, 0, 0, 0, 0, 0,\n",
              "        1, 0, 0, 0, 0, 0, 0, 0, 0, 0, 0, 0, 0, 0, 0, 0, 0, 0, 0, 0, 0, 0,\n",
              "        0, 0, 0, 0, 0, 0, 0, 0, 0, 0, 0, 0, 0, 0, 0, 0, 0, 0, 0, 0, 0, 0,\n",
              "        0, 0, 0, 0, 0, 0, 0, 0, 0, 0, 0, 0, 0, 0, 0, 0, 0, 0, 0, 0, 0, 0,\n",
              "        0, 0, 0, 0, 0, 0, 0, 0, 0, 0, 0, 0, 0, 0, 0, 0, 0, 0, 0, 0, 0, 0,\n",
              "        0, 0, 0, 0, 0, 0, 0, 0, 0, 0, 0, 0, 0, 0, 0, 0, 0, 0, 0, 0, 0, 0,\n",
              "        0, 0, 0, 0, 0, 0, 0, 0, 0, 0, 0, 0, 0, 0, 0, 0, 0, 0, 0, 0, 0, 0,\n",
              "        0, 0, 0, 0, 0, 0, 0, 0, 0, 0, 0, 0, 0, 0, 0, 0, 0, 0, 0, 0, 0, 0,\n",
              "        0, 0, 0, 0, 0, 0, 0, 0, 0, 0, 0, 0, 0, 0, 0, 0, 0, 0, 0, 0, 1, 0,\n",
              "        0, 0, 0, 0, 0, 0, 0, 0, 0, 0, 0, 0, 0, 0, 0, 0, 0, 0, 0, 0, 0, 0,\n",
              "        0, 0, 0, 0, 0, 0, 0, 0, 0, 0, 0, 0, 0, 0, 0, 0, 0, 0, 0, 0, 0, 0,\n",
              "        0, 0, 0, 0, 0, 0, 0, 0, 0, 0, 0, 0, 0, 0, 0, 0, 0, 0, 0, 0, 0, 0,\n",
              "        0, 0, 0, 0, 0, 0, 0, 0, 0, 0, 0, 0, 0, 0, 0, 0, 0, 0, 0, 0, 0, 0,\n",
              "        0, 0, 0, 0, 0, 0, 0, 0, 0, 0, 0, 0, 0, 0, 1, 0, 0, 0, 0, 0, 0, 0,\n",
              "        0, 0, 0, 0, 0, 0, 0, 0, 0, 0, 0, 0, 0, 0, 0, 0, 0, 0, 0, 0, 0, 0,\n",
              "        0, 0, 0, 0, 0, 0, 0, 0, 0, 0, 0, 0, 0, 0, 0, 0, 0, 0, 0, 0, 0, 0,\n",
              "        0, 0, 0, 0, 0, 0, 0, 0, 0, 0, 0, 0, 0, 1, 0, 0, 0, 0, 0, 0, 0, 0,\n",
              "        0, 0, 0, 0, 0, 0, 0, 0, 0, 0, 0, 0, 0, 0, 0, 0, 0, 0, 0, 0, 0, 0,\n",
              "        0, 0, 0, 0, 0, 0, 0, 0, 0, 0, 0, 0, 0, 0, 0, 0, 0, 0, 0, 0, 0, 0,\n",
              "        0, 0, 0, 0, 0, 0, 0, 0, 0, 0, 0, 0, 0, 0, 0, 0, 0, 0, 0, 0, 0, 0,\n",
              "        0, 0, 0, 0, 0, 0, 0, 0, 0, 0, 0, 0, 0, 0, 0, 0, 0, 0, 0, 0, 0, 0,\n",
              "        0, 0, 0, 0, 0, 0, 0, 0, 0, 0, 0, 0, 0, 0, 0, 0, 0, 0, 0, 0, 0, 0,\n",
              "        0, 0, 0, 0, 0, 0, 0, 0, 0, 0, 0, 0, 0, 0, 0, 0, 0, 0, 0, 1, 0, 0,\n",
              "        0, 0, 0, 0, 0, 0, 0, 0, 0, 0]])"
            ]
          },
          "execution_count": 64,
          "metadata": {},
          "output_type": "execute_result"
        }
      ],
      "source": [
        "doc = tdm[0].toarray()\n",
        "doc"
      ]
    },
    {
      "cell_type": "markdown",
      "metadata": {
        "id": "zeOgwgWYgQsq"
      },
      "source": [
        "- 이제 문서 doc 에서 출현한 단어들을 확인해보자. 여기서 list comprehension이라는 문법을 사용하겠다. 당장은 이 표현을 잘 이해하지 못하더라도 괜찮다. 아래 코드는 주석에 붙인 번호 순서대로 읽으면 된다."
      ]
    },
    {
      "cell_type": "code",
      "execution_count": null,
      "metadata": {
        "colab": {
          "base_uri": "https://localhost:8080/"
        },
        "id": "L5xQaLT4dSx7",
        "outputId": "4a51105e-6916-48b1-9c7c-6ab0064f8d95"
      },
      "outputs": [
        {
          "data": {
            "text/plain": [
              "['buy',\n",
              " 'don',\n",
              " 'good',\n",
              " 'just',\n",
              " 'kept',\n",
              " 'like',\n",
              " 'look',\n",
              " 'product',\n",
              " 'shape',\n",
              " 'stick',\n",
              " 'won']"
            ]
          },
          "execution_count": 65,
          "metadata": {},
          "output_type": "execute_result"
        }
      ],
      "source": [
        "[w # (4) 단어들의 리스트\n",
        "    for w, c # (2) 각 단어와 빈도 중에\n",
        "    in zip(words, doc.flat) # (1) 단어들과 빈도를 짝지운다.\n",
        "    if c > 0] # (3) 빈도가 0보다 큰"
      ]
    },
    {
      "cell_type": "markdown",
      "metadata": {
        "id": "Nwhml0gVgYhV"
      },
      "source": [
        "- 단어 빈도\n",
        " - 이제 전체 코퍼스에서 단어 빈도를 구해보자. 이때는 합계를 구하는 sum 메소드를 사용한다. sum 메소드에는 axis 라는 옵션을 설정할 수 있다. axis=0 이면 열별로 모든 행의 합계를 구한다. axis=1 이면 행별로 모든 열들의 합계를 구한다. 옵션을 지정하지 않으면 모든 값의 합계를 구한다.\n"
      ]
    },
    {
      "cell_type": "code",
      "execution_count": null,
      "metadata": {
        "id": "Lb7lu9TMdS52"
      },
      "outputs": [],
      "source": [
        "count = tdm.sum(axis=0)"
      ]
    },
    {
      "cell_type": "markdown",
      "metadata": {
        "id": "Dg52vbEtgjd8"
      },
      "source": [
        "- 이제 단어와 단어 빈도를 짝지어 리스트로 만들자. count 가 행렬 형태이기 때문에 .flat을 이용해 평평한 형태로 바꿔준다. 그리고 zip 을 이용해 단어와 빈도를 하나씩 짝을 짓고, 마지막으로list 를 이용해서 리스트로 변환한다."
      ]
    },
    {
      "cell_type": "code",
      "execution_count": null,
      "metadata": {
        "id": "nQAL09V-geNn"
      },
      "outputs": [],
      "source": [
        "word_count = list(zip(words, count.flat))"
      ]
    },
    {
      "cell_type": "markdown",
      "metadata": {
        "id": "Fuj6c-7Xgryt"
      },
      "source": [
        "- 내용을 확인해보면,"
      ]
    },
    {
      "cell_type": "code",
      "execution_count": null,
      "metadata": {
        "colab": {
          "base_uri": "https://localhost:8080/"
        },
        "id": "9w5sjn05geY9",
        "outputId": "52cfe961-ef86-4e50-c1d0-50e6161aed86"
      },
      "outputs": [
        {
          "data": {
            "text/plain": [
              "[('10', 7810),\n",
              " ('100', 4240),\n",
              " ('12', 2490),\n",
              " ('15', 2309),\n",
              " ('1a', 3029),\n",
              " ('20', 3685),\n",
              " ('25', 1773),\n",
              " ('30', 4659),\n",
              " ('34', 16953),\n",
              " ('3g', 2332),\n",
              " ('40', 1453),\n",
              " ('4g', 3884),\n",
              " ('4s', 5421),\n",
              " ('50', 2622),\n",
              " ('5s', 3639),\n",
              " ('8217', 4338),\n",
              " ('ability', 1922),\n",
              " ('able', 11460),\n",
              " ('absolutely', 3543),\n",
              " ('ac', 2722),\n",
              " ('access', 3859),\n",
              " ('accessories', 1624),\n",
              " ('actual', 2084),\n",
              " ('actually', 10653),\n",
              " ('adapter', 6805),\n",
              " ('adapters', 1664),\n",
              " ('add', 5374),\n",
              " ('added', 2973),\n",
              " ('addition', 1851),\n",
              " ('additional', 2032),\n",
              " ('adds', 2949),\n",
              " ('adjust', 1711),\n",
              " ('advertised', 2686),\n",
              " ('ago', 2762),\n",
              " ('air', 3562),\n",
              " ('allow', 2822),\n",
              " ('allows', 4156),\n",
              " ('amazing', 4316),\n",
              " ('amazon', 10296),\n",
              " ('amp', 2272),\n",
              " ('amps', 1494),\n",
              " ('android', 8018),\n",
              " ('angle', 1654),\n",
              " ('anker', 3457),\n",
              " ('annoying', 2886),\n",
              " ('answer', 2404),\n",
              " ('anti', 1746),\n",
              " ('anymore', 1484),\n",
              " ('apart', 2755),\n",
              " ('app', 5158),\n",
              " ('appears', 1937),\n",
              " ('apple', 10633),\n",
              " ('application', 2406),\n",
              " ('apply', 3618),\n",
              " ('apps', 4861),\n",
              " ('area', 3081),\n",
              " ('aren', 2099),\n",
              " ('arm', 2000),\n",
              " ('armor', 1966),\n",
              " ('arrived', 4472),\n",
              " ('ask', 1736),\n",
              " ('attach', 1508),\n",
              " ('attached', 2492),\n",
              " ('attractive', 1633),\n",
              " ('audio', 5147),\n",
              " ('automatically', 1475),\n",
              " ('available', 4017),\n",
              " ('average', 1768),\n",
              " ('away', 7887),\n",
              " ('awesome', 6049),\n",
              " ('background', 1407),\n",
              " ('backup', 2302),\n",
              " ('bad', 8710),\n",
              " ('bag', 3508),\n",
              " ('band', 1659),\n",
              " ('bank', 2508),\n",
              " ('barely', 2219),\n",
              " ('base', 1978),\n",
              " ('based', 2131),\n",
              " ('basic', 1825),\n",
              " ('basically', 1800),\n",
              " ('bass', 2287),\n",
              " ('batteries', 8155),\n",
              " ('battery', 59361),\n",
              " ('beat', 2232),\n",
              " ('beautiful', 2626),\n",
              " ('believe', 2851),\n",
              " ('belkin', 2223),\n",
              " ('belt', 4468),\n",
              " ('best', 15685),\n",
              " ('better', 24056),\n",
              " ('big', 10537),\n",
              " ('bigger', 2443),\n",
              " ('biggest', 1401),\n",
              " ('bit', 16009),\n",
              " ('black', 9570),\n",
              " ('blackberry', 3436),\n",
              " ('blue', 7361),\n",
              " ('bluetooth', 17248),\n",
              " ('body', 1746),\n",
              " ('bother', 1437),\n",
              " ('bought', 23622),\n",
              " ('box', 6858),\n",
              " ('brand', 4629),\n",
              " ('break', 3553),\n",
              " ('bright', 3667),\n",
              " ('broke', 4225),\n",
              " ('broken', 2121),\n",
              " ('bubble', 1764),\n",
              " ('bubbles', 6447),\n",
              " ('bucks', 1772),\n",
              " ('buds', 1666),\n",
              " ('build', 2647),\n",
              " ('built', 6304),\n",
              " ('bulk', 4932),\n",
              " ('bulky', 6514),\n",
              " ('bumper', 2856),\n",
              " ('business', 1785),\n",
              " ('button', 15114),\n",
              " ('buttons', 12285),\n",
              " ('buy', 19541),\n",
              " ('buying', 5128),\n",
              " ('cable', 21931),\n",
              " ('cables', 6404),\n",
              " ('called', 1656),\n",
              " ('calls', 6292),\n",
              " ('came', 13642),\n",
              " ('camera', 9278),\n",
              " ('capacity', 4270),\n",
              " ('car', 19262),\n",
              " ('card', 6570),\n",
              " ('cards', 3068),\n",
              " ('care', 2496),\n",
              " ('careful', 2396),\n",
              " ('carry', 5553),\n",
              " ('carrying', 2200),\n",
              " ('case', 150035),\n",
              " ('cases', 18535),\n",
              " ('cause', 2432),\n",
              " ('cell', 7956),\n",
              " ('certainly', 1978),\n",
              " ('chance', 1555),\n",
              " ('change', 4721),\n",
              " ('charge', 46277),\n",
              " ('charged', 10987),\n",
              " ('charger', 40146),\n",
              " ('chargers', 6709),\n",
              " ('charges', 9270),\n",
              " ('charging', 29122),\n",
              " ('cheap', 11443),\n",
              " ('cheaper', 2796),\n",
              " ('check', 2231),\n",
              " ('choice', 2317),\n",
              " ('clarity', 1501),\n",
              " ('clean', 4349),\n",
              " ('cleaning', 1491),\n",
              " ('clear', 11532),\n",
              " ('clearly', 1919),\n",
              " ('clip', 6822),\n",
              " ('close', 3876),\n",
              " ('cloth', 2399),\n",
              " ('color', 13494),\n",
              " ('colors', 6088),\n",
              " ('come', 10012),\n",
              " ('comes', 13092),\n",
              " ('comfortable', 5483),\n",
              " ('coming', 2536),\n",
              " ('commuter', 1809),\n",
              " ('compact', 2905),\n",
              " ('company', 3960),\n",
              " ('compared', 3563),\n",
              " ('compatible', 1667),\n",
              " ('complain', 1604),\n",
              " ('complaint', 2534),\n",
              " ('complaints', 2823),\n",
              " ('completely', 4742),\n",
              " ('compliments', 1761),\n",
              " ('computer', 3837),\n",
              " ('connect', 3735),\n",
              " ('connected', 3541),\n",
              " ('connection', 4314),\n",
              " ('connector', 3791),\n",
              " ('cons', 3091),\n",
              " ('consider', 1766),\n",
              " ('considering', 2175),\n",
              " ('constantly', 2124),\n",
              " ('construction', 1552),\n",
              " ('contact', 1933),\n",
              " ('control', 2970),\n",
              " ('controls', 2443),\n",
              " ('convenient', 2872),\n",
              " ('cool', 4550),\n",
              " ('cord', 9614),\n",
              " ('cords', 2483),\n",
              " ('corner', 2047),\n",
              " ('corners', 2564),\n",
              " ('correctly', 1584),\n",
              " ('cost', 4353),\n",
              " ('couldn', 3592),\n",
              " ('couple', 7320),\n",
              " ('course', 2787),\n",
              " ('cover', 20149),\n",
              " ('covered', 2447),\n",
              " ('covers', 5183),\n",
              " ('cracked', 1562),\n",
              " ('cradle', 1402),\n",
              " ('credit', 2127),\n",
              " ('cup', 1923),\n",
              " ('current', 2558),\n",
              " ('customer', 3933),\n",
              " ('cut', 5313),\n",
              " ('cute', 5541),\n",
              " ('cutouts', 1628),\n",
              " ('daily', 1867),\n",
              " ('damage', 2905),\n",
              " ('dark', 1668),\n",
              " ('dash', 1971),\n",
              " ('data', 3427),\n",
              " ('daughter', 2917),\n",
              " ('day', 14377),\n",
              " ('days', 9491),\n",
              " ('dead', 2136),\n",
              " ('deal', 6188),\n",
              " ('decent', 4228),\n",
              " ('decided', 3771),\n",
              " ('defender', 2898),\n",
              " ('definitely', 9278),\n",
              " ('delivery', 1399),\n",
              " ('described', 2314),\n",
              " ('description', 1798),\n",
              " ('design', 11298),\n",
              " ('designed', 3968),\n",
              " ('desk', 2309),\n",
              " ('despite', 1434),\n",
              " ('device', 27207),\n",
              " ('devices', 16678),\n",
              " ('did', 19492),\n",
              " ('didn', 14788),\n",
              " ('difference', 2944),\n",
              " ('different', 11719),\n",
              " ('difficult', 5071),\n",
              " ('directions', 1529),\n",
              " ('directly', 1846),\n",
              " ('dirt', 1602),\n",
              " ('dirty', 1831),\n",
              " ('disappointed', 3426),\n",
              " ('display', 3128),\n",
              " ('dock', 4654),\n",
              " ('does', 33617),\n",
              " ('doesn', 20980),\n",
              " ('doing', 3094),\n",
              " ('don', 32496),\n",
              " ('dont', 2816),\n",
              " ('double', 1616),\n",
              " ('drive', 1854),\n",
              " ('driving', 2707),\n",
              " ('droid', 4592),\n",
              " ('drop', 6774),\n",
              " ('dropped', 7444),\n",
              " ('dropping', 1747),\n",
              " ('drops', 3022),\n",
              " ('dual', 3463),\n",
              " ('durable', 5118),\n",
              " ('dust', 5564),\n",
              " ('ear', 13368),\n",
              " ('earbuds', 2439),\n",
              " ('earpiece', 1979),\n",
              " ('ears', 3080),\n",
              " ('ease', 1627),\n",
              " ('easier', 4983),\n",
              " ('easily', 14048),\n",
              " ('easy', 27876),\n",
              " ('edge', 3830),\n",
              " ('edges', 5104),\n",
              " ('electronics', 1441),\n",
              " ('email', 2196),\n",
              " ('end', 8570),\n",
              " ('ended', 2271),\n",
              " ('enjoy', 1643),\n",
              " ('entire', 1972),\n",
              " ('especially', 5600),\n",
              " ('eventually', 1520),\n",
              " ('everyday', 1478),\n",
              " ('evo', 2717),\n",
              " ('exactly', 6318),\n",
              " ('excellent', 7779),\n",
              " ('expect', 4126),\n",
              " ('expected', 5632),\n",
              " ('expecting', 1452),\n",
              " ('expensive', 4605),\n",
              " ('experience', 3721),\n",
              " ('extended', 3544),\n",
              " ('external', 3933),\n",
              " ('extra', 8343),\n",
              " ('extremely', 3769),\n",
              " ('face', 4051),\n",
              " ('fact', 6230),\n",
              " ('fair', 1429),\n",
              " ('fairly', 3124),\n",
              " ('fall', 4109),\n",
              " ('falling', 1542),\n",
              " ('falls', 1907),\n",
              " ('family', 2429),\n",
              " ('fan', 1661),\n",
              " ('fantastic', 2094),\n",
              " ('far', 13519),\n",
              " ('fast', 8623),\n",
              " ('faster', 2760),\n",
              " ('fault', 1422),\n",
              " ('favorite', 2721),\n",
              " ('feature', 6046),\n",
              " ('features', 4715),\n",
              " ('feel', 15543),\n",
              " ('feeling', 1948),\n",
              " ('feels', 9099),\n",
              " ('feet', 2600),\n",
              " ('fell', 1945),\n",
              " ('felt', 2300),\n",
              " ('figure', 1512),\n",
              " ('figured', 1428),\n",
              " ('film', 2569),\n",
              " ('finally', 3548),\n",
              " ('fine', 12079),\n",
              " ('finger', 2987),\n",
              " ('fingerprints', 1785),\n",
              " ('fingers', 2017),\n",
              " ('finish', 3461),\n",
              " ('fit', 28412),\n",
              " ('fits', 21295),\n",
              " ('fitting', 1487),\n",
              " ('fix', 1713),\n",
              " ('flash', 2692),\n",
              " ('flashlight', 1959),\n",
              " ('flat', 2808),\n",
              " ('flexible', 1865),\n",
              " ('flimsy', 2183),\n",
              " ('flip', 2205),\n",
              " ('forget', 1707),\n",
              " ('form', 1832),\n",
              " ('forward', 1467),\n",
              " ('free', 7379),\n",
              " ('friend', 3011),\n",
              " ('friends', 3126),\n",
              " ('fully', 5804),\n",
              " ('fun', 1613),\n",
              " ('function', 2773),\n",
              " ('functional', 1553),\n",
              " ('functionality', 1768),\n",
              " ('functions', 1741),\n",
              " ('future', 1715),\n",
              " ('galaxy', 17535),\n",
              " ('games', 1566),\n",
              " ('gave', 4546),\n",
              " ('gets', 5352),\n",
              " ('getting', 9760),\n",
              " ('gift', 2544),\n",
              " ('given', 2931),\n",
              " ('gives', 3829),\n",
              " ('giving', 2037),\n",
              " ('glad', 2725),\n",
              " ('glare', 2144),\n",
              " ('glass', 5760),\n",
              " ('glove', 1712),\n",
              " ('goes', 4360),\n",
              " ('going', 11201),\n",
              " ('gone', 1471),\n",
              " ('good', 60355),\n",
              " ('google', 3220),\n",
              " ('got', 24118),\n",
              " ('gotten', 1835),\n",
              " ('gps', 3876),\n",
              " ('great', 68898),\n",
              " ('green', 2302),\n",
              " ('grip', 5879),\n",
              " ('guess', 3746),\n",
              " ('half', 3921),\n",
              " ('hand', 7517),\n",
              " ('handle', 1502),\n",
              " ('hands', 5187),\n",
              " ('handy', 3977),\n",
              " ('happen', 1409),\n",
              " ('happy', 10130),\n",
              " ('hard', 17250),\n",
              " ('harder', 1599),\n",
              " ('hate', 1686),\n",
              " ('haven', 4881),\n",
              " ('having', 11080),\n",
              " ('hd', 2504),\n",
              " ('head', 3255),\n",
              " ('headphone', 3572),\n",
              " ('headphones', 8732),\n",
              " ('headset', 16242),\n",
              " ('headsets', 3488),\n",
              " ('hear', 5442),\n",
              " ('heard', 1538),\n",
              " ('heavy', 4717),\n",
              " ('held', 2221),\n",
              " ('help', 3763),\n",
              " ('helps', 2356),\n",
              " ('high', 7857),\n",
              " ('higher', 2416),\n",
              " ('highly', 7789),\n",
              " ('hit', 1981),\n",
              " ('hold', 10427),\n",
              " ('holder', 3451),\n",
              " ('holding', 3492),\n",
              " ('holds', 4879),\n",
              " ('hole', 2070),\n",
              " ('holes', 1749),\n",
              " ('holster', 4633),\n",
              " ('home', 7512),\n",
              " ('honest', 1932),\n",
              " ('hope', 2515),\n",
              " ('hot', 2041),\n",
              " ('hour', 2944),\n",
              " ('hours', 10486),\n",
              " ('house', 2751),\n",
              " ('htc', 6198),\n",
              " ('huge', 2972),\n",
              " ('husband', 2536),\n",
              " ('idea', 3128),\n",
              " ('ii', 1725),\n",
              " ('im', 1614),\n",
              " ('immediately', 2113),\n",
              " ('important', 2545),\n",
              " ('impossible', 1401),\n",
              " ('impressed', 2824),\n",
              " ('inch', 1580),\n",
              " ('included', 6012),\n",
              " ('includes', 1430),\n",
              " ('including', 2347),\n",
              " ('indicator', 1933),\n",
              " ('inexpensive', 2102),\n",
              " ('input', 1483),\n",
              " ('inside', 5711),\n",
              " ('install', 5335),\n",
              " ('installation', 2470),\n",
              " ('installed', 3311),\n",
              " ('instead', 5029),\n",
              " ('instructions', 4039),\n",
              " ('internet', 1711),\n",
              " ('ipad', 12701),\n",
              " ('iphone', 49758),\n",
              " ('iphones', 2300),\n",
              " ('ipod', 6109),\n",
              " ('isn', 7916),\n",
              " ('issue', 8482),\n",
              " ('issues', 7120),\n",
              " ('item', 9784),\n",
              " ('items', 2404),\n",
              " ('jabra', 3200),\n",
              " ('jack', 3504),\n",
              " ('job', 7335),\n",
              " ('juice', 2645),\n",
              " ('just', 61980),\n",
              " ('keeping', 2150),\n",
              " ('keeps', 3621),\n",
              " ('kept', 2523),\n",
              " ('key', 1543),\n",
              " ('keyboard', 2849),\n",
              " ('keys', 1663),\n",
              " ('kickstand', 2399),\n",
              " ('kids', 1601),\n",
              " ('kind', 4997),\n",
              " ('kindle', 3566),\n",
              " ('kit', 1547),\n",
              " ('knew', 1425),\n",
              " ('know', 13041),\n",
              " ('laptop', 2215),\n",
              " ('large', 4974),\n",
              " ('larger', 3400),\n",
              " ('lasted', 2019),\n",
              " ('lasts', 2004),\n",
              " ('later', 2770),\n",
              " ('layer', 1593),\n",
              " ('leather', 2924),\n",
              " ('leave', 3749),\n",
              " ('led', 4991),\n",
              " ('left', 6645),\n",
              " ('length', 2557),\n",
              " ('let', 5192),\n",
              " ('level', 2806),\n",
              " ('lg', 2890),\n",
              " ('life', 10601),\n",
              " ('light', 12651),\n",
              " ('lighter', 2065),\n",
              " ('lightning', 2482),\n",
              " ('lights', 3003),\n",
              " ('lightweight', 1936),\n",
              " ('like', 74073),\n",
              " ('liked', 4006),\n",
              " ('likely', 1963),\n",
              " ('likes', 1746),\n",
              " ('limited', 1428),\n",
              " ('line', 4871),\n",
              " ('lint', 1825),\n",
              " ('lip', 1889),\n",
              " ('listen', 2635),\n",
              " ('listening', 2444),\n",
              " ('little', 30291),\n",
              " ('live', 2095),\n",
              " ('ll', 9996),\n",
              " ('lock', 1522),\n",
              " ('logo', 1541),\n",
              " ('long', 16457),\n",
              " ('longer', 6917),\n",
              " ('look', 15844),\n",
              " ('looked', 3367),\n",
              " ('looking', 14736),\n",
              " ('looks', 19616),\n",
              " ('loose', 3403),\n",
              " ('lose', 2371),\n",
              " ('lost', 2693),\n",
              " ('lot', 14177),\n",
              " ('lots', 1785),\n",
              " ('loud', 2957),\n",
              " ('love', 29773),\n",
              " ('loved', 3952),\n",
              " ('loves', 4012),\n",
              " ('low', 5624),\n",
              " ('lower', 1874),\n",
              " ('magnet', 1671),\n",
              " ('mah', 2730),\n",
              " ('mail', 1639),\n",
              " ('main', 2174),\n",
              " ('major', 1651),\n",
              " ('make', 16985),\n",
              " ('makes', 13201),\n",
              " ('making', 3987),\n",
              " ('manual', 1696),\n",
              " ('manufacturer', 2120),\n",
              " ('market', 2802),\n",
              " ('match', 1477),\n",
              " ('material', 4943),\n",
              " ('matte', 2744),\n",
              " ('matter', 2505),\n",
              " ('maybe', 5048),\n",
              " ('mean', 1710),\n",
              " ('means', 3669),\n",
              " ('memory', 1550),\n",
              " ('mentioned', 1684),\n",
              " ('metal', 2819),\n",
              " ('mic', 2130),\n",
              " ('micro', 8203),\n",
              " ('microphone', 2194),\n",
              " ('mind', 3358),\n",
              " ('mini', 4277),\n",
              " ('minimal', 1423),\n",
              " ('minor', 2262),\n",
              " ('minutes', 4824),\n",
              " ('mobile', 5077),\n",
              " ('mode', 2726),\n",
              " ('model', 3447),\n",
              " ('money', 8311),\n",
              " ('month', 4722),\n",
              " ('months', 8384),\n",
              " ('motorola', 5048),\n",
              " ('mount', 7235),\n",
              " ('mp3', 1449),\n",
              " ('multiple', 3353),\n",
              " ('music', 10783),\n",
              " ('near', 2437),\n",
              " ('nearly', 1942),\n",
              " ('need', 21372),\n",
              " ('needed', 7501),\n",
              " ('needs', 4796),\n",
              " ('negative', 1699),\n",
              " ('new', 18643),\n",
              " ('nexus', 7166),\n",
              " ('nfc', 1487),\n",
              " ('nice', 30353),\n",
              " ('nicely', 3674),\n",
              " ('night', 3378),\n",
              " ('noise', 4429),\n",
              " ('nokia', 2975),\n",
              " ('non', 3121),\n",
              " ('normal', 2810),\n",
              " ('note', 12985),\n",
              " ('notice', 2504),\n",
              " ('noticeable', 1438),\n",
              " ('noticed', 3078),\n",
              " ('number', 2987),\n",
              " ('obviously', 1401),\n",
              " ('oem', 4043),\n",
              " ('offer', 2327),\n",
              " ('offers', 2973),\n",
              " ('office', 2106),\n",
              " ('oh', 1537),\n",
              " ('ok', 5298),\n",
              " ('okay', 2335),\n",
              " ('old', 6915),\n",
              " ('older', 1841),\n",
              " ('ones', 5789),\n",
              " ('online', 1602),\n",
              " ('open', 4837),\n",
              " ('opening', 2040),\n",
              " ('opinion', 2118),\n",
              " ('option', 2849),\n",
              " ('options', 2119),\n",
              " ('order', 6471),\n",
              " ('ordered', 8310),\n",
              " ('ordering', 1487),\n",
              " ('original', 7088),\n",
              " ('otter', 2019),\n",
              " ('otterbox', 9237),\n",
              " ('outer', 1944),\n",
              " ('outlet', 3553),\n",
              " ('output', 3488),\n",
              " ('outside', 3109),\n",
              " ('overall', 10401),\n",
              " ('owned', 2710),\n",
              " ('pack', 7808),\n",
              " ('package', 3785),\n",
              " ('packaging', 3490),\n",
              " ('pad', 1875),\n",
              " ('paid', 2995),\n",
              " ('pain', 1391),\n",
              " ('pair', 3713),\n",
              " ('paired', 1938),\n",
              " ('pairing', 2246),\n",
              " ('parts', 1682),\n",
              " ('past', 3214),\n",
              " ('pay', 4395),\n",
              " ('pc', 1575),\n",
              " ('peel', 1639),\n",
              " ('pen', 4503),\n",
              " ('people', 9760),\n",
              " ('perfect', 16004),\n",
              " ('perfectly', 13372),\n",
              " ('performance', 2513),\n",
              " ('person', 3317),\n",
              " ('personally', 1502),\n",
              " ('phone', 181717),\n",
              " ('phones', 16001),\n",
              " ('photo', 1411),\n",
              " ('photos', 1851),\n",
              " ('pick', 1890),\n",
              " ('picture', 4605),\n",
              " ('pictures', 3160),\n",
              " ('piece', 7023),\n",
              " ('pieces', 2441),\n",
              " ('pin', 1740),\n",
              " ('pink', 3415),\n",
              " ('place', 8743),\n",
              " ('placed', 2072),\n",
              " ('plan', 2687),\n",
              " ('plantronics', 2490),\n",
              " ('plastic', 15908),\n",
              " ('play', 4155),\n",
              " ('player', 2015),\n",
              " ('playing', 2071),\n",
              " ('pleased', 3759),\n",
              " ('plenty', 1788),\n",
              " ('plug', 12287),\n",
              " ('plugged', 5505),\n",
              " ('plugs', 2321),\n",
              " ('plus', 5652),\n",
              " ('pocket', 10862),\n",
              " ('pockets', 1661),\n",
              " ('point', 4643),\n",
              " ('poor', 2199),\n",
              " ('pop', 1638),\n",
              " ('port', 13223),\n",
              " ('portable', 3926),\n",
              " ('ports', 7902),\n",
              " ('position', 2010),\n",
              " ('possible', 1952),\n",
              " ('pouch', 1902),\n",
              " ('power', 25160),\n",
              " ('prefer', 2987),\n",
              " ('press', 4725),\n",
              " ('pretty', 16374),\n",
              " ('previous', 2717),\n",
              " ('price', 30192),\n",
              " ('priced', 1603),\n",
              " ('pro', 2224),\n",
              " ('probably', 7176),\n",
              " ('problem', 13703),\n",
              " ('problems', 7372),\n",
              " ('process', 1583),\n",
              " ('product', 39664),\n",
              " ('products', 6121),\n",
              " ('profile', 1480),\n",
              " ('properly', 2866),\n",
              " ('pros', 4052),\n",
              " ('protect', 9383),\n",
              " ('protected', 4164),\n",
              " ('protecting', 2122),\n",
              " ('protection', 19025),\n",
              " ('protective', 4929),\n",
              " ('protector', 25596),\n",
              " ('protectors', 9646),\n",
              " ('protects', 6028),\n",
              " ('provide', 3778),\n",
              " ('provided', 3951),\n",
              " ('provides', 4330),\n",
              " ('pull', 2682),\n",
              " ('purchase', 8366),\n",
              " ('purchased', 10711),\n",
              " ('purchasing', 1653),\n",
              " ('purple', 1585),\n",
              " ('purpose', 2197),\n",
              " ('purse', 3618),\n",
              " ('push', 3284),\n",
              " ('putting', 3128),\n",
              " ('quality', 29260),\n",
              " ('quick', 4066),\n",
              " ('quickly', 6979),\n",
              " ('quite', 8624),\n",
              " ('radio', 2331),\n",
              " ('range', 3697),\n",
              " ('rate', 2567),\n",
              " ('rating', 2471),\n",
              " ('razr', 1608),\n",
              " ('read', 5221),\n",
              " ('reading', 2195),\n",
              " ('ready', 1787),\n",
              " ('real', 4833),\n",
              " ('really', 38749),\n",
              " ('reason', 5128),\n",
              " ('reasonable', 1495),\n",
              " ('receive', 1776),\n",
              " ('received', 8865),\n",
              " ('recently', 1764),\n",
              " ('reception', 1439),\n",
              " ('recharge', 2925),\n",
              " ('recommend', 21528),\n",
              " ('recommended', 3733),\n",
              " ('red', 3575),\n",
              " ('regular', 2676),\n",
              " ('remember', 1563),\n",
              " ('remove', 6558),\n",
              " ('removed', 1889),\n",
              " ('removing', 1585),\n",
              " ('replace', 3796),\n",
              " ('replaced', 1943),\n",
              " ('replacement', 5265),\n",
              " ('requires', 1410),\n",
              " ('rest', 1578),\n",
              " ('results', 1446),\n",
              " ('return', 3008),\n",
              " ('returned', 1737),\n",
              " ('review', 12741),\n",
              " ('reviews', 6917),\n",
              " ('right', 15580),\n",
              " ('road', 2046),\n",
              " ('room', 3512),\n",
              " ('rubber', 9754),\n",
              " ('rubberized', 1558),\n",
              " ('rubbery', 1452),\n",
              " ('run', 3754),\n",
              " ('running', 3816),\n",
              " ('s2', 1505),\n",
              " ('s3', 6451),\n",
              " ('s4', 5936),\n",
              " ('s5', 1556),\n",
              " ('safe', 1728),\n",
              " ('said', 6748),\n",
              " ('sample', 2511),\n",
              " ('samsung', 16418),\n",
              " ('satisfied', 2480),\n",
              " ('save', 1879),\n",
              " ('saw', 2146),\n",
              " ('say', 12612),\n",
              " ('saying', 1550),\n",
              " ('says', 3484),\n",
              " ('scratch', 3594),\n",
              " ('scratched', 2035),\n",
              " ('scratches', 4719),\n",
              " ('screen', 62373),\n",
              " ('screens', 1636),\n",
              " ('second', 6251),\n",
              " ('seconds', 1998),\n",
              " ('secure', 2904),\n",
              " ('securely', 1903),\n",
              " ('seen', 3371),\n",
              " ('seller', 4030),\n",
              " ('send', 2290),\n",
              " ('sent', 2981),\n",
              " ('separate', 1511),\n",
              " ('series', 1717),\n",
              " ('service', 5261),\n",
              " ('set', 7857),\n",
              " ('settings', 1395),\n",
              " ('shape', 1743),\n",
              " ('shell', 3011),\n",
              " ('shield', 1481),\n",
              " ('shipped', 1966),\n",
              " ('shipping', 4305),\n",
              " ('short', 5259),\n",
              " ('shows', 2504),\n",
              " ('sides', 4559),\n",
              " ('signal', 3027),\n",
              " ('silicone', 3752),\n",
              " ('sim', 2942),\n",
              " ('similar', 3654),\n",
              " ('simple', 6039),\n",
              " ('simply', 4060),\n",
              " ('single', 2708),\n",
              " ('sit', 1506),\n",
              " ('size', 10281),\n",
              " ('skin', 2205),\n",
              " ('sleek', 2976),\n",
              " ('slick', 1433),\n",
              " ('slide', 3257),\n",
              " ('slight', 1620),\n",
              " ('slightly', 4866),\n",
              " ('slim', 6335),\n",
              " ('slip', 2741),\n",
              " ('slippery', 2520),\n",
              " ('slot', 2495),\n",
              " ('slow', 1689),\n",
              " ('small', 14979),\n",
              " ('smaller', 3441),\n",
              " ('smart', 3474),\n",
              " ('smartphone', 3889),\n",
              " ('smartphones', 1705),\n",
              " ('smooth', 4209),\n",
              " ('snap', 2711),\n",
              " ('snug', 3185),\n",
              " ('soft', 5232),\n",
              " ('software', 1993),\n",
              " ('sold', 1525),\n",
              " ('solid', 5383),\n",
              " ('solution', 2115),\n",
              " ('somewhat', 1841),\n",
              " ('son', 2078),\n",
              " ('soon', 2701),\n",
              " ('sort', 1703),\n",
              " ('sound', 18418),\n",
              " ('sounds', 2455),\n",
              " ('space', 2241),\n",
              " ('spare', 2284),\n",
              " ('speaker', 9806),\n",
              " ('speakers', 3207),\n",
              " ('speed', 2216),\n",
              " ('spend', 2082),\n",
              " ('spigen', 2185),\n",
              " ('spot', 1548),\n",
              " ('sprint', 1897),\n",
              " ('stand', 6044),\n",
              " ('standard', 4202),\n",
              " ('star', 4786),\n",
              " ('stars', 8438),\n",
              " ('start', 3466),\n",
              " ('started', 3866),\n",
              " ('stay', 4416),\n",
              " ('stays', 2589),\n",
              " ('stereo', 2448),\n",
              " ('stick', 3506),\n",
              " ('sticky', 2117),\n",
              " ('stock', 2512),\n",
              " ('stop', 1774),\n",
              " ('stopped', 1820),\n",
              " ('storage', 1569),\n",
              " ('store', 4354),\n",
              " ('straight', 1558),\n",
              " ('strong', 3375),\n",
              " ('stuck', 2007),\n",
              " ('stuff', 2417),\n",
              " ('sturdy', 5190),\n",
              " ('style', 3086),\n",
              " ('stylish', 1906),\n",
              " ('stylus', 8099),\n",
              " ('suction', 2541),\n",
              " ('suggest', 1438),\n",
              " ('super', 5444),\n",
              " ('support', 3078),\n",
              " ('supposed', 2510),\n",
              " ('sure', 12588),\n",
              " ('surface', 4344),\n",
              " ('surprised', 2307),\n",
              " ('switch', 4070),\n",
              " ('sync', 1818),\n",
              " ('tab', 1808),\n",
              " ('table', 1609),\n",
              " ('tablet', 6799),\n",
              " ('tablets', 2642),\n",
              " ('takes', 5094),\n",
              " ('taking', 3570),\n",
              " ('talk', 3194),\n",
              " ('talking', 2122),\n",
              " ('tape', 1972),\n",
              " ('tech', 2014),\n",
              " ('technology', 1557),\n",
              " ('tell', 5464),\n",
              " ('tend', 1441),\n",
              " ('test', 4057),\n",
              " ('tested', 3010),\n",
              " ('testing', 1476),\n",
              " ('text', 2358),\n",
              " ('texture', 1827),\n",
              " ('thank', 2507),\n",
              " ('thanks', 3175),\n",
              " ('thicker', 2061),\n",
              " ('thickness', 1613),\n",
              " ('thing', 17282),\n",
              " ('things', 7787),\n",
              " ('think', 13985),\n",
              " ('thinking', 1791),\n",
              " ('thought', 7441),\n",
              " ('tight', 4183),\n",
              " ('time', 37964),\n",
              " ('times', 11421),\n",
              " ('tiny', 2607),\n",
              " ('tip', 3687),\n",
              " ('tips', 1810),\n",
              " ('today', 2289),\n",
              " ('told', 1560),\n",
              " ('took', 7715),\n",
              " ('total', 1596),\n",
              " ('totally', 2093),\n",
              " ('touch', 9621),\n",
              " ('tough', 1693),\n",
              " ('tpu', 2953),\n",
              " ('travel', 3802),\n",
              " ('traveling', 1604),\n",
              " ('trent', 2156),\n",
              " ('tried', 10599),\n",
              " ('trip', 1913),\n",
              " ('trouble', 2037),\n",
              " ('true', 2139),\n",
              " ('truly', 1455),\n",
              " ('try', 7873),\n",
              " ('trying', 4339),\n",
              " ('turn', 6330),\n",
              " ('turned', 2751),\n",
              " ('turns', 1958),\n",
              " ('tv', 1455),\n",
              " ('twice', 2610),\n",
              " ('type', 4646),\n",
              " ('understand', 1731),\n",
              " ('unfortunately', 2509),\n",
              " ('unit', 11473),\n",
              " ('unless', 3004),\n",
              " ('unlike', 2226),\n",
              " ('update', 6981),\n",
              " ('upgrade', 1489),\n",
              " ('usage', 2142),\n",
              " ('usb', 29523),\n",
              " ('use', 63229),\n",
              " ('used', 25647),\n",
              " ('useful', 3394),\n",
              " ('useless', 1528),\n",
              " ('user', 3467),\n",
              " ('users', 1661),\n",
              " ('uses', 3580),\n",
              " ('using', 24870),\n",
              " ('usually', 3481),\n",
              " ('value', 3210),\n",
              " ('various', 1627),\n",
              " ('ve', 27333),\n",
              " ('verizon', 3732),\n",
              " ('version', 4418),\n",
              " ('video', 3770),\n",
              " ('videos', 1969),\n",
              " ('view', 1682),\n",
              " ('voice', 5639),\n",
              " ('volume', 11126),\n",
              " ('wait', 2144),\n",
              " ('wall', 6787),\n",
              " ('wallet', 2445),\n",
              " ('want', 16988),\n",
              " ('wanted', 7347),\n",
              " ('warranty', 2403),\n",
              " ('wasn', 5019),\n",
              " ('waste', 1951),\n",
              " ('watch', 2951),\n",
              " ('water', 3855),\n",
              " ('waterproof', 1399),\n",
              " ('way', 18516),\n",
              " ('wear', 4289),\n",
              " ('wearing', 1716),\n",
              " ('web', 1585),\n",
              " ('week', 5022),\n",
              " ('weeks', 5455),\n",
              " ('weight', 4751),\n",
              " ('went', 5862),\n",
              " ('white', 7684),\n",
              " ('wife', 6375),\n",
              " ('wifi', 2118),\n",
              " ('window', 1428),\n",
              " ('windows', 2038),\n",
              " ('windshield', 1884),\n",
              " ('wire', 1612),\n",
              " ('wireless', 4521),\n",
              " ('wish', 6088),\n",
              " ('won', 7686),\n",
              " ('wonderful', 1711),\n",
              " ('work', 28979),\n",
              " ('worked', 9529),\n",
              " ('working', 6259),\n",
              " ('works', 33669),\n",
              " ('worry', 2759),\n",
              " ('worth', 9556),\n",
              " ('wouldn', 4446),\n",
              " ('wrong', 4069),\n",
              " ('year', 5375),\n",
              " ('years', 4820),\n",
              " ('yes', 3467)]"
            ]
          },
          "execution_count": 68,
          "metadata": {},
          "output_type": "execute_result"
        }
      ],
      "source": [
        "word_count"
      ]
    },
    {
      "cell_type": "markdown",
      "metadata": {
        "id": "UXmSI2h8gvU4"
      },
      "source": [
        "- 빈도순 정렬\n",
        " - 먼저 operator 모듈을 임포트한다."
      ]
    },
    {
      "cell_type": "code",
      "execution_count": null,
      "metadata": {
        "id": "rsnlsofIgefk"
      },
      "outputs": [],
      "source": [
        "import operator\n",
        "# 정렬해보면, \n",
        "word_order = sorted(\n",
        "    word_count,\n",
        "    key = operator.itemgetter(1), #0이면 단어순, 1이면 빈도순\n",
        "    reverse = True                # 내림차순(역순)으로 정렬한다.\n",
        ")"
      ]
    },
    {
      "cell_type": "markdown",
      "metadata": {
        "id": "zlSDSAzJhiGc"
      },
      "source": [
        "- 가장 많이 사용된 10개 단어를 확인한다."
      ]
    },
    {
      "cell_type": "code",
      "execution_count": null,
      "metadata": {
        "colab": {
          "base_uri": "https://localhost:8080/"
        },
        "id": "bNB_fdedgemE",
        "outputId": "ff0af42b-d83b-4551-ffb0-59896128954e"
      },
      "outputs": [
        {
          "data": {
            "text/plain": [
              "[('phone', 181717),\n",
              " ('case', 150035),\n",
              " ('like', 74073),\n",
              " ('great', 68898),\n",
              " ('use', 63229),\n",
              " ('screen', 62373),\n",
              " ('just', 61980),\n",
              " ('good', 60355),\n",
              " ('battery', 59361),\n",
              " ('iphone', 49758)]"
            ]
          },
          "execution_count": 70,
          "metadata": {},
          "output_type": "execute_result"
        }
      ],
      "source": [
        "word_order[:10]"
      ]
    },
    {
      "cell_type": "markdown",
      "metadata": {
        "id": "vQZ7HS37hp-B"
      },
      "source": [
        "- wordcloud\n",
        " - 먼저 윈도에서는 Unofficial Windows Binaries for Python Extension Packages에서wordcloud-1.3.3-cpXX-cpXXm-win_amdXX.whl를 자신의 Python 버전과 운영체제 bit에맞게 다운로드한 후, 다운로드 폴더에서 명령창을 열어 아래 명령을 입력한다.\n",
        "\n",
        "\n",
        "\n",
        "```\n",
        "pip install wordcloud-1.3.3-cpXX-cpXXm-win_amdXX.whl\n",
        "```\n",
        "\n"
      ]
    },
    {
      "cell_type": "code",
      "execution_count": null,
      "metadata": {
        "colab": {
          "base_uri": "https://localhost:8080/"
        },
        "id": "RHW-kJJ6getC",
        "outputId": "f5a7e242-20fb-402b-b603-a88afb1738e3"
      },
      "outputs": [
        {
          "name": "stdout",
          "output_type": "stream",
          "text": [
            "Looking in indexes: https://pypi.org/simple, https://us-python.pkg.dev/colab-wheels/public/simple/\n",
            "Requirement already satisfied: wordcloud in /usr/local/lib/python3.7/dist-packages (1.8.2.2)\n",
            "Requirement already satisfied: numpy>=1.6.1 in /usr/local/lib/python3.7/dist-packages (from wordcloud) (1.21.6)\n",
            "Requirement already satisfied: matplotlib in /usr/local/lib/python3.7/dist-packages (from wordcloud) (3.2.2)\n",
            "Requirement already satisfied: pillow in /usr/local/lib/python3.7/dist-packages (from wordcloud) (7.1.2)\n",
            "Requirement already satisfied: python-dateutil>=2.1 in /usr/local/lib/python3.7/dist-packages (from matplotlib->wordcloud) (2.8.2)\n",
            "Requirement already satisfied: pyparsing!=2.0.4,!=2.1.2,!=2.1.6,>=2.0.1 in /usr/local/lib/python3.7/dist-packages (from matplotlib->wordcloud) (3.0.9)\n",
            "Requirement already satisfied: cycler>=0.10 in /usr/local/lib/python3.7/dist-packages (from matplotlib->wordcloud) (0.11.0)\n",
            "Requirement already satisfied: kiwisolver>=1.0.1 in /usr/local/lib/python3.7/dist-packages (from matplotlib->wordcloud) (1.4.4)\n",
            "Requirement already satisfied: typing-extensions in /usr/local/lib/python3.7/dist-packages (from kiwisolver>=1.0.1->matplotlib->wordcloud) (4.1.1)\n",
            "Requirement already satisfied: six>=1.5 in /usr/local/lib/python3.7/dist-packages (from python-dateutil>=2.1->matplotlib->wordcloud) (1.15.0)\n"
          ]
        }
      ],
      "source": [
        "!pip install wordcloud"
      ]
    },
    {
      "cell_type": "code",
      "execution_count": null,
      "metadata": {
        "colab": {
          "base_uri": "https://localhost:8080/",
          "height": 317
        },
        "id": "M9HVuPQ4ge0P",
        "outputId": "169c63eb-64e8-46e1-9661-3f59c4252e4b"
      },
      "outputs": [
        {
          "data": {
            "image/png": "[encoded data removed]",
            "text/plain": [
              "<PIL.Image.Image image mode=RGB size=400x300 at 0x7F9A58E88050>"
            ]
          },
          "execution_count": 84,
          "metadata": {},
          "output_type": "execute_result"
        }
      ],
      "source": [
        "from wordcloud import WordCloud\n",
        "%matplotlib inline\n",
        "#배경색 흰색, 가로 400픽셀, 세로 300픽셀의 그림을 설정.\n",
        "wc = WordCloud(background_color='white', width=400, height=300)\n",
        "#word_count를 위의 설정의 그림으로 변환하여 cloud 변수에 할당한다.\n",
        "cloud = wc.fit_words(dict(word_count))\n",
        "#dict으로 처리한 이유 : https://stackoverflow.com/questions/38465478/wordcloud-from-data-frame-with-frequency-python\n",
        "#cloud 변수의 그림을 노트북에 붙여 넣으려면 아래와 같이 함.\n",
        "cloud.to_image()"
      ]
    },
    {
      "cell_type": "markdown",
      "metadata": {
        "id": "1xYzJZUMvhu_"
      },
      "source": [
        "# TF-IDF(Term Frequency-Inverse Document Frequency)\n",
        "\n",
        "- 카운트만 부여할 경우 그 문서의 특징을 나타내기보다는 언어의 특성상 문장에서 자주 사용될 수밖에 없는 단어까지 높은 값을 부여하게 됨. 이러한 문제를 보완하기 위해 TF-IDF 벡터화를 사용\n",
        "- TF-IDF는 **개별 문서에서 자주 나타나는 단어에 높은 가중치를 주되, 모든 문서에서 전반적으로 자주 나타나는 단어에 대해서는 패널티를 주는 방식으로 값을 부여**\n",
        "\n",
        "\n",
        "- TF-IDF(Term Frequency-Inverse Document Frequency)는 단어의 빈도와 역 문서 빈도(문서의 빈도에 특정 식을 취함)를 사용하여 DTM 내의** 각 단어들마다 중요한 정도를 가중치로 주는 방법**입니다. 사용 방법은 우선 DTM을 만든 후, TF-IDF 가중치를 부여합니다.\n",
        "\n",
        "- TF-IDF는 **주로 문서의 유사도를 구하는 작업**, 검색 시스템에서 검색 결과의 중요도를 정하는 작업, 문서 내에서 특정 단어의 중요도를 구하는 작업 등에 쓰일 수 있음.\n",
        "\n",
        "- 특정 단어가 다른 문서에는 나타나지 않고 특정 문서에서만 자주 사용된다면 해당 단어는 해당 문서를 잘 특징짓는 중요 단어일 가능성이 높음\n",
        "\n",
        "0 특정 단어가 매우 많은 여러 문서에서 빈번히 나타난다면 해당 단어는 개별 문서를 특징짓는 정보로서의 의미를 상실.\n",
        "\n",
        "- TF-IDF는 TF와 IDF를 곱한 값을 의미하는데 이를 식으로 표현해보겠습니다. 문서를 d, 단어를 t, 문서의 총 개수를 n이라고 표현할 때 TF, DF, IDF는 각각 다음과 같이 정의할 수 있습니다.\n",
        "\n",
        "### 1. tf(d,t) : 특정 문서 d에서의 특징 단어 t의 등장 횟수\n",
        "- TF는 앞에서 배운 DTM의 예제에서 각 단어들이 가진 값들입니다. DTM이 각 문서에서의 각 단어의 등장 빈도를 나타내는 값이었기 때문.\n",
        "\n",
        "- 문서에서 해당 단어가 얼마나 나왔는지를 나타내는 지표\n",
        "\n",
        "\n",
        "### 2. df(t) : 특정 단어 t가 등장한 문서의 수\n",
        "- 여기서 특정 단어가 각 문서, 또는 문서들에서 몇 번 등장했는지는 관심가지지 않으며 오직 특정 단어 t가 등장한 문서의 수에만 관심을 가집니다.\n",
        "- 해당 단어가 몇 개의 문서에서 나타났는지를 나타내는 지표\n",
        "\n",
        "### 3. idf(d,t) : df(t)에 반비례하는 수\n",
        "- df의 역수로서 (${\\dfrac {전체 문서수}{DF}})$\n",
        "\n",
        "- TF-IDF  = $TF_i{\\times}{log{{\\dfrac{N}{DF_i}}}}$, $TF_i$ = 개별 문서에서의 단어 $i$빈도, $DF_i$ = 단어 $i$를 가지고 있는 문서 개수, $N$ = 전체 문서 개수\n",
        "\n",
        "\n",
        "$idf(d,t) = {\\log} ({\\dfrac{n}{1+df(t)}})$\n",
        "\n",
        "\n",
        "- IDF라는 이름을 보고 DF의 역수가 아닐까 생각했다면, IDF는 DF의 역수를 취하고 싶은 것이 맞습니다. 그런데 log와 분모에 1을 더해주는 식에 의아하실 수 있습니다. log를 사용하지 않았을 때, IDF를 DF의 역수(${\\dfrac{n}{df(t)}}$라는 식)로 사용한다면 총 문서의 수 n이 커질 수록, IDF의 값은 기하급수적으로 커지게 됩니다. 그렇기 때문에 log를 사용합니다.\n",
        "\n",
        "왜 log가 필요한지 n=1,000,000일 때의 예를 들어봅시다. log의 밑은 10을 사용한다고 가정하였을 때 결과는 아래와 같습니다.\n",
        "\n",
        "$idf(d,t)=log(n/df(t)), n=1,000,000$\n",
        "\n",
        "![image.png](data:image/png;base64,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)"
      ]
    },
    {
      "cell_type": "markdown",
      "metadata": {
        "id": "O6Dwv-v61lM6"
      },
      "source": [
        "log를 사용하지 않으면 idf의 값이 어떻게 커지는지 보겠습니다.\n",
        "\n",
        "$idf(d,t) = n/df(t) , n=1,000,000\n",
        "\n",
        "![image.png](data:image/png;base64,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)"
      ]
    },
    {
      "cell_type": "markdown",
      "metadata": {
        "id": "fjERJ4GG34eq"
      },
      "source": [
        "- 또 다른 직관적인 설명은 불용어 등과 같이 자주 쓰이는 단어들은 비교적 자주 쓰이지 않는 단어들보다 최소 수십 배 자주 등장합니다. 그런데 비교적 자주 쓰이지 않는 단어들조차 희귀 단어들과 비교하면 또 최소 수백 배는 더 자주 등장하는 편입니다. 이 때문에 log를 씌워주지 않으면, 희귀 단어들에 엄청난 가중치가 부여될 수 있습니다. 로그를 씌우면 이런 격차를 줄이는 효과가 있습니다.\n",
        "\n",
        "- 또한 log 안의 식에서 분모에 1을 더해주는 이유는 첫번째 이유로는 특정 단어가 전체 문서에서 등장하지 않을 경우에 분모가 0이 되는 상황을 방지하기 위함입니다.\n",
        "\n",
        "- TF-IDF는 모든 문서에서 자주 등장하는 단어는 중요도가 낮다고 판단하며, 특정 문서에서만 자주 등장하는 단어는 중요도가 높다고 판단합니다. TF-IDF 값이 낮으면 중요도가 낮은 것이며, TF-IDF 값이 크면 중요도가 큰 것입니다. 즉, the나 a와 같이 불용어의 경우에는 모든 문서에 자주 등장하기 마련이기 때문에 자연스럽게 불용어의 TF-IDF의 값은 다른 단어의 TF-IDF에 비해서 낮아지게 됩니다.\n",
        "\n",
        "![image.png](data:image/png;base64,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)"
      ]
    },
    {
      "cell_type": "markdown",
      "metadata": {
        "id": "QeukRIpI3_lX"
      },
      "source": [
        "- 앞서 DTM을 설명하기위해 들었던 위의 예제를 가지고 TF-IDF에 대해 이해해보도록 하겠습니다. 우선 TF는 앞서 사용한 DTM을 그대로 사용하면, 그것이 각 문서에서의 각 단어의 TF가 됩니다.\n",
        "\n",
        "- 그렇다면 이제 구해야할 것은 TF와 곱해야할 값인 IDF입니다. 로그는 자연 로그를 사용하도록 하겠습니다. 자연 로그는 로그의 밑을 자연 상수 e(e=2.718281...)를 사용하는 로그를 말합니다. IDF 계산을 위해 사용하는 로그의 밑은 TF-IDF를 사용하는 사용자가 임의로 정할 수 있는데, 여기서 로그는 마치 기존의 값에 곱하여 값의 크기를 조절하는 상수의 역할을 합니다. 그런데 보통 각종 프로그래밍 언어나 프로그램에서 패키지로 지원하는 TF-IDF의 로그는 대부분 자연 로그를 사용합니다. 그렇기 때문에 저 또한 자연 로그를 사용하도록 하겠습니다. 자연 로그는 보통 log라고 표현하지 않고, ln이라고 표현합니다.\n",
        "\n",
        "![image.png](data:image/png;base64,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)"
      ]
    },
    {
      "cell_type": "markdown",
      "metadata": {
        "id": "Z8I_biW44H-7"
      },
      "source": [
        "- 문서의 총 수는 4이기 때문에 ln 안에서 분자는 늘 4으로 동일합니다. 분모의 경우에는 각 단어가 등장한 문서의 수(DF)를 의미하는데, 예를 들어서 '먹고'의 경우에는 총 2개의 문서(문서1, 문서2)에 등장했기 때문에 2라는 값을 가집니다. 각 단어에 대해서 IDF의 값을 비교해보면 문서 1개에만 등장한 단어와 문서2개에만 등장한 단어는 값의 차이를 보입니다. IDF는 여러 문서에서 등장한 단어의 가중치를 낮추는 역할을 하기 때문입니다.\n",
        "\n",
        "- 그러면 이제 TF-IDF를 계산해보도록 하겠습니다. TF는 DTM을 그대로 가져오면 각 문서에서의 각 단어의 TF를 가져오게 되기 때문에, 앞서 사용한 DTM에서 단어 별로 위의 IDF값을 그대로 곱해주면 TF-IDF가 나오게 됩니다.\n",
        "\n",
        "![image.png](data:image/png;base64,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)"
      ]
    },
    {
      "cell_type": "markdown",
      "metadata": {
        "id": "Q21LZjVL4Ru5"
      },
      "source": [
        "사실 예제 문서가 굉장히 간단하기 때문에 계산은 매우 쉽습니다. 문서3에서의 바나나만 TF 값이 2이므로 IDF에 2를 곱해주고, 나머진 TF 값이 1이므로 그대로 IDF 값을 가져오면 됩니다. 문서2에서의 바나나의 TF-IDF 가중치와 문서3에서의 바나나의 TF-IDF 가중치가 다른 것을 볼 수 있습니다. 수식적으로 말하면, TF가 각각 1과 2로 달랐기 때문인데 TF-IDF에서의 관점에서 보자면 TF-IDF는 특정 문서에서 자주 등장하는 단어는 그 문서 내에서 중요한 단어로 판단하기 때문입니다. 문서2에서는 바나나를 한 번 언급했지만, 문서3에서는 바나나를 두 번 언급했기 때문에 문서3에서의 바나나를 더욱 중요한 단어라고 판단하는 것입니다."
      ]
    },
    {
      "cell_type": "markdown",
      "metadata": {
        "id": "ROxTklbB4S_2"
      },
      "source": [
        "파이썬으로 TF-IDF 직접 구현하기\n",
        "\n"
      ]
    },
    {
      "cell_type": "code",
      "execution_count": null,
      "metadata": {
        "id": "AySwed1qpklY"
      },
      "outputs": [],
      "source": [
        "import pandas as pd # 데이터프레임 사용을 위해\n",
        "from math import log # IDF 계산을 위해"
      ]
    },
    {
      "cell_type": "code",
      "execution_count": null,
      "metadata": {
        "colab": {
          "base_uri": "https://localhost:8080/"
        },
        "id": "SS3cqqxS4W6Z",
        "outputId": "2614d155-568a-40ac-ea44-b3a5e6e6bec7"
      },
      "outputs": [
        {
          "data": {
            "text/plain": [
              "['과일이', '길고', '노란', '먹고', '바나나', '사과', '싶은', '저는', '좋아요']"
            ]
          },
          "execution_count": 104,
          "metadata": {},
          "output_type": "execute_result"
        }
      ],
      "source": [
        "docs = [\n",
        "  '먹고 싶은 사과',\n",
        "  '먹고 싶은 바나나',\n",
        "  '길고 노란 바나나 바나나',\n",
        "  '저는 과일이 좋아요'\n",
        "] \n",
        "vocab = list(set(w for doc in docs for w in doc.split()))\n",
        "vocab.sort()\n",
        "vocab"
      ]
    },
    {
      "cell_type": "code",
      "execution_count": null,
      "metadata": {
        "id": "EE_vYmSL4Xzk"
      },
      "outputs": [],
      "source": [
        "#TF,IDF 그리고 TF-IDF 값을 구하는 함수\n",
        "N = len(docs) # 총 문서의 수\n",
        "\n",
        "def tf(t, d):\n",
        "    return d.count(t)\n",
        "\n",
        "def idf(t):\n",
        "    df = 0\n",
        "    for doc in docs:\n",
        "        df += t in doc\n",
        "    return log(N/(df + 1))\n",
        "\n",
        "def tfidf(t, d):\n",
        "    return tf(t,d)* idf(t)"
      ]
    },
    {
      "cell_type": "code",
      "execution_count": null,
      "metadata": {
        "colab": {
          "base_uri": "https://localhost:8080/",
          "height": 173
        },
        "id": "AyV1EWVO4dRS",
        "outputId": "f065af9b-2b89-44a3-b2f0-615fa542a1da"
      },
      "outputs": [
        {
          "data": {
            "text/html": [
              "<div>\n",
              "<style scoped>\n",
              "    .dataframe tbody tr th:only-of-type {\n",
              "        vertical-align: middle;\n",
              "    }\n",
              "\n",
              "    .dataframe tbody tr th {\n",
              "        vertical-align: top;\n",
              "    }\n",
              "\n",
              "    .dataframe thead th {\n",
              "        text-align: right;\n",
              "    }\n",
              "</style>\n",
              "<table border=\"1\" class=\"dataframe\">\n",
              "  <thead>\n",
              "    <tr style=\"text-align: right;\">\n",
              "      <th></th>\n",
              "      <th>과일이</th>\n",
              "      <th>길고</th>\n",
              "      <th>노란</th>\n",
              "      <th>먹고</th>\n",
              "      <th>바나나</th>\n",
              "      <th>사과</th>\n",
              "      <th>싶은</th>\n",
              "      <th>저는</th>\n",
              "      <th>좋아요</th>\n",
              "    </tr>\n",
              "  </thead>\n",
              "  <tbody>\n",
              "    <tr>\n",
              "      <th>0</th>\n",
              "      <td>0</td>\n",
              "      <td>0</td>\n",
              "      <td>0</td>\n",
              "      <td>1</td>\n",
              "      <td>0</td>\n",
              "      <td>1</td>\n",
              "      <td>1</td>\n",
              "      <td>0</td>\n",
              "      <td>0</td>\n",
              "    </tr>\n",
              "    <tr>\n",
              "      <th>1</th>\n",
              "      <td>0</td>\n",
              "      <td>0</td>\n",
              "      <td>0</td>\n",
              "      <td>1</td>\n",
              "      <td>1</td>\n",
              "      <td>0</td>\n",
              "      <td>1</td>\n",
              "      <td>0</td>\n",
              "      <td>0</td>\n",
              "    </tr>\n",
              "    <tr>\n",
              "      <th>2</th>\n",
              "      <td>0</td>\n",
              "      <td>1</td>\n",
              "      <td>1</td>\n",
              "      <td>0</td>\n",
              "      <td>2</td>\n",
              "      <td>0</td>\n",
              "      <td>0</td>\n",
              "      <td>0</td>\n",
              "      <td>0</td>\n",
              "    </tr>\n",
              "    <tr>\n",
              "      <th>3</th>\n",
              "      <td>1</td>\n",
              "      <td>0</td>\n",
              "      <td>0</td>\n",
              "      <td>0</td>\n",
              "      <td>0</td>\n",
              "      <td>0</td>\n",
              "      <td>0</td>\n",
              "      <td>1</td>\n",
              "      <td>1</td>\n",
              "    </tr>\n",
              "  </tbody>\n",
              "</table>\n",
              "</div>"
            ],
            "text/plain": [
              "   과일이  길고  노란  먹고  바나나  사과  싶은  저는  좋아요\n",
              "0    0   0   0   1    0   1   1   0    0\n",
              "1    0   0   0   1    1   0   1   0    0\n",
              "2    0   1   1   0    2   0   0   0    0\n",
              "3    1   0   0   0    0   0   0   1    1"
            ]
          },
          "execution_count": 106,
          "metadata": {},
          "output_type": "execute_result"
        }
      ],
      "source": [
        "#TF를 구해보자. ->DTM을 데이터프레임에 저장하여 출력\n",
        "\n",
        "result = []\n",
        "for i in range(N): # 각 문서에 대해서 아래 명령을 수행\n",
        "    result.append([])\n",
        "    d = docs[i]\n",
        "    for j in range(len(vocab)):\n",
        "        t = vocab[j]        \n",
        "        result[-1].append(tf(t, d))\n",
        "\n",
        "tf_ = pd.DataFrame(result, columns = vocab)\n",
        "tf_"
      ]
    },
    {
      "cell_type": "code",
      "execution_count": null,
      "metadata": {
        "colab": {
          "base_uri": "https://localhost:8080/",
          "height": 328
        },
        "id": "f118eIvi4lcG",
        "outputId": "abba683e-ac52-413f-da45-067df305818a"
      },
      "outputs": [
        {
          "data": {
            "text/html": [
              "<div>\n",
              "<style scoped>\n",
              "    .dataframe tbody tr th:only-of-type {\n",
              "        vertical-align: middle;\n",
              "    }\n",
              "\n",
              "    .dataframe tbody tr th {\n",
              "        vertical-align: top;\n",
              "    }\n",
              "\n",
              "    .dataframe thead th {\n",
              "        text-align: right;\n",
              "    }\n",
              "</style>\n",
              "<table border=\"1\" class=\"dataframe\">\n",
              "  <thead>\n",
              "    <tr style=\"text-align: right;\">\n",
              "      <th></th>\n",
              "      <th>IDF</th>\n",
              "    </tr>\n",
              "  </thead>\n",
              "  <tbody>\n",
              "    <tr>\n",
              "      <th>과일이</th>\n",
              "      <td>0.693147</td>\n",
              "    </tr>\n",
              "    <tr>\n",
              "      <th>길고</th>\n",
              "      <td>0.693147</td>\n",
              "    </tr>\n",
              "    <tr>\n",
              "      <th>노란</th>\n",
              "      <td>0.693147</td>\n",
              "    </tr>\n",
              "    <tr>\n",
              "      <th>먹고</th>\n",
              "      <td>0.287682</td>\n",
              "    </tr>\n",
              "    <tr>\n",
              "      <th>바나나</th>\n",
              "      <td>0.287682</td>\n",
              "    </tr>\n",
              "    <tr>\n",
              "      <th>사과</th>\n",
              "      <td>0.693147</td>\n",
              "    </tr>\n",
              "    <tr>\n",
              "      <th>싶은</th>\n",
              "      <td>0.287682</td>\n",
              "    </tr>\n",
              "    <tr>\n",
              "      <th>저는</th>\n",
              "      <td>0.693147</td>\n",
              "    </tr>\n",
              "    <tr>\n",
              "      <th>좋아요</th>\n",
              "      <td>0.693147</td>\n",
              "    </tr>\n",
              "  </tbody>\n",
              "</table>\n",
              "</div>"
            ],
            "text/plain": [
              "          IDF\n",
              "과일이  0.693147\n",
              "길고   0.693147\n",
              "노란   0.693147\n",
              "먹고   0.287682\n",
              "바나나  0.287682\n",
              "사과   0.693147\n",
              "싶은   0.287682\n",
              "저는   0.693147\n",
              "좋아요  0.693147"
            ]
          },
          "execution_count": 107,
          "metadata": {},
          "output_type": "execute_result"
        }
      ],
      "source": [
        "#정상적인 DTM이 출력되어짐. 이제 각 단어에 대한 IDF 값을 구해보자\n",
        "\n",
        "result = []\n",
        "for j in range(len(vocab)):\n",
        "    t = vocab[j]\n",
        "    result.append(idf(t))\n",
        "\n",
        "idf_ = pd.DataFrame(result, index = vocab, columns = [\"IDF\"])\n",
        "idf_"
      ]
    },
    {
      "cell_type": "code",
      "execution_count": null,
      "metadata": {
        "colab": {
          "base_uri": "https://localhost:8080/",
          "height": 173
        },
        "id": "mh0LIfqx4rUL",
        "outputId": "f2c3d879-4be4-44b5-88cd-ccbf828e3c25"
      },
      "outputs": [
        {
          "data": {
            "text/html": [
              "<div>\n",
              "<style scoped>\n",
              "    .dataframe tbody tr th:only-of-type {\n",
              "        vertical-align: middle;\n",
              "    }\n",
              "\n",
              "    .dataframe tbody tr th {\n",
              "        vertical-align: top;\n",
              "    }\n",
              "\n",
              "    .dataframe thead th {\n",
              "        text-align: right;\n",
              "    }\n",
              "</style>\n",
              "<table border=\"1\" class=\"dataframe\">\n",
              "  <thead>\n",
              "    <tr style=\"text-align: right;\">\n",
              "      <th></th>\n",
              "      <th>과일이</th>\n",
              "      <th>길고</th>\n",
              "      <th>노란</th>\n",
              "      <th>먹고</th>\n",
              "      <th>바나나</th>\n",
              "      <th>사과</th>\n",
              "      <th>싶은</th>\n",
              "      <th>저는</th>\n",
              "      <th>좋아요</th>\n",
              "    </tr>\n",
              "  </thead>\n",
              "  <tbody>\n",
              "    <tr>\n",
              "      <th>0</th>\n",
              "      <td>0.000000</td>\n",
              "      <td>0.000000</td>\n",
              "      <td>0.000000</td>\n",
              "      <td>0.287682</td>\n",
              "      <td>0.000000</td>\n",
              "      <td>0.693147</td>\n",
              "      <td>0.287682</td>\n",
              "      <td>0.000000</td>\n",
              "      <td>0.000000</td>\n",
              "    </tr>\n",
              "    <tr>\n",
              "      <th>1</th>\n",
              "      <td>0.000000</td>\n",
              "      <td>0.000000</td>\n",
              "      <td>0.000000</td>\n",
              "      <td>0.287682</td>\n",
              "      <td>0.287682</td>\n",
              "      <td>0.000000</td>\n",
              "      <td>0.287682</td>\n",
              "      <td>0.000000</td>\n",
              "      <td>0.000000</td>\n",
              "    </tr>\n",
              "    <tr>\n",
              "      <th>2</th>\n",
              "      <td>0.000000</td>\n",
              "      <td>0.693147</td>\n",
              "      <td>0.693147</td>\n",
              "      <td>0.000000</td>\n",
              "      <td>0.575364</td>\n",
              "      <td>0.000000</td>\n",
              "      <td>0.000000</td>\n",
              "      <td>0.000000</td>\n",
              "      <td>0.000000</td>\n",
              "    </tr>\n",
              "    <tr>\n",
              "      <th>3</th>\n",
              "      <td>0.693147</td>\n",
              "      <td>0.000000</td>\n",
              "      <td>0.000000</td>\n",
              "      <td>0.000000</td>\n",
              "      <td>0.000000</td>\n",
              "      <td>0.000000</td>\n",
              "      <td>0.000000</td>\n",
              "      <td>0.693147</td>\n",
              "      <td>0.693147</td>\n",
              "    </tr>\n",
              "  </tbody>\n",
              "</table>\n",
              "</div>"
            ],
            "text/plain": [
              "        과일이        길고        노란  ...        싶은        저는       좋아요\n",
              "0  0.000000  0.000000  0.000000  ...  0.287682  0.000000  0.000000\n",
              "1  0.000000  0.000000  0.000000  ...  0.287682  0.000000  0.000000\n",
              "2  0.000000  0.693147  0.693147  ...  0.000000  0.000000  0.000000\n",
              "3  0.693147  0.000000  0.000000  ...  0.000000  0.693147  0.693147\n",
              "\n",
              "[4 rows x 9 columns]"
            ]
          },
          "execution_count": 108,
          "metadata": {},
          "output_type": "execute_result"
        }
      ],
      "source": [
        "#TF-IDF 행렬을 출력\n",
        "\n",
        "result = []\n",
        "for i in range(N):\n",
        "    result.append([])\n",
        "    d = docs[i]\n",
        "    for j in range(len(vocab)):\n",
        "        t = vocab[j]\n",
        "\n",
        "        result[-1].append(tfidf(t,d))\n",
        "\n",
        "tfidf_ = pd.DataFrame(result, columns = vocab)\n",
        "tfidf_"
      ]
    },
    {
      "cell_type": "markdown",
      "metadata": {
        "id": "tbKTj5Ey4zNs"
      },
      "source": [
        "지금까지 TF-IDF의 가장 기본적인 식에 대해서 학습하고, 이를 실제로 구현하는 실습을 진행해보았습니다. 그런데 사실 실제 TF-IDF 구현을 제공하고 있는 많은 패키지들은 패키지마다 식이 조금씩 다르긴 하지만, 위에서 배운 기본 식에서 조정된 식을 사용합니다. 그 이유는 위의 기본적인 식을 바탕으로 한 구현에도 여전히 문제점이 존재하기 때문입니다. 만약 전체 문서의 수 n이 4인데, df(t)의 값이 3인 경우에는 어떤 일이 벌어질까요? df(t)에 1이 더해지면서 log항의 분자와 분모의 값이 같아지게 됩니다.\n",
        "\n",
        "이는 log의 진수값이 1이 되면서 idf(d,t)의 값이 0이 됨을 의미합니다. 식으로 표현하면 idf(d,t)=log(n/(df(t)+1))=0입니다. IDF의 값이 0이라면 더 이상 가중치의 역할을 수행하지 못합니다. 그래서 실제 구현체는 idf(d,t)=log(n/(df(t)+1))+1과 같이 log항에 1을 더해줘서 log항의 값이 0이 되더라도 IDF가 최소 1이상의 값을 가지도록 합니다. 사이킷런도 이 방식을 사용합니다."
      ]
    },
    {
      "cell_type": "markdown",
      "metadata": {
        "id": "Gzhnlsq7400F"
      },
      "source": [
        "사이킷런을 이용한 DTM과 TF-IDF 실습"
      ]
    },
    {
      "cell_type": "code",
      "execution_count": null,
      "metadata": {
        "id": "jhx7BCqq4vig"
      },
      "outputs": [],
      "source": [
        "from sklearn.feature_extraction.text import CountVectorizer\n",
        "corpus = [\n",
        "    'you know I want your love',\n",
        "    'I like you',\n",
        "    'what should I do ',    \n",
        "]\n",
        "vector = CountVectorizer()\n",
        "print(vector.fit_transform(corpus).toarray()) # 코퍼스로부터 각 단어의 빈도 수를 기록한다.\n",
        "print(vector.vocabulary_) # 각 단어의 인덱스가 어떻게 부여되었는지를 보여준다."
      ]
    },
    {
      "cell_type": "markdown",
      "metadata": {
        "id": "QvsH9Up247Bx"
      },
      "source": [
        "DTM이 완성되었습니다. DTM에서 각 단어의 인덱스가 어떻게 부여되었는지를 확인하기 위해, 인덱스를 확인해보았습니다. 첫번째 열의 경우에는 0의 인덱스를 가진 do입니다. do는 세번째 문서에만 등장했기 때문에, 세번째 행에서만 1의 값을 가집니다. 두번째 열의 경우에는 1의 인덱스를 가진 know입니다. know는 첫번째 문서에만 등장했기 때문에 첫번째 행에서만 1의 값을 가집니다.\n",
        "\n",
        "사이킷런은 TF-IDF를 자동 계산해주는 TfidfVectorizer를 제공합니다. 향후 실습을 하다가 혼란이 생기지 않도록 언급하자면, 사이킷런의 TF-IDF는 위에서 배웠던 보편적인 TF-IDF 식에서 좀 더 조정된 다른 식을 사용합니다. 하지만 크게 다른 식은 아니며(IDF의 로그항의 분자에 1을 더해주며, 로그항에 1을 더해주고, TF-IDF에 L2 정규화라는 방법으로 값을 조정하는 등의 차이), 여전히 TF-IDF가 가진 의도를 그대로 갖고 있으므로 사이킷런의 TF-IDF를 그대로 사용하셔도 좋습니다."
      ]
    },
    {
      "cell_type": "code",
      "execution_count": null,
      "metadata": {
        "id": "qovwyeEf45jB"
      },
      "outputs": [],
      "source": [
        "from sklearn.feature_extraction.text import TfidfVectorizer\n",
        "corpus = [\n",
        "    'you know I want your love',\n",
        "    'I like you',\n",
        "    'what should I do ',    \n",
        "]\n",
        "tfidfv = TfidfVectorizer().fit(corpus)\n",
        "print(tfidfv.transform(corpus).toarray())\n",
        "print(tfidfv.vocabulary_)"
      ]
    },
    {
      "cell_type": "markdown",
      "source": [
        "- 함수를 이용하여 TF-IDF 구현"
      ],
      "metadata": {
        "id": "6JDs9Cg3ChAH"
      }
    },
    {
      "cell_type": "code",
      "source": [
        "import pandas as pd\n",
        "from math import log"
      ],
      "metadata": {
        "id": "BahpMUVNCeQS"
      },
      "execution_count": null,
      "outputs": []
    },
    {
      "cell_type": "code",
      "source": [
        "doc1  = 'I am a boy'\n",
        "doc2 = 'I am a girl'\n",
        "doc3 = 'I am a a a man'"
      ],
      "metadata": {
        "id": "XKjgFyljClSL"
      },
      "execution_count": null,
      "outputs": []
    },
    {
      "cell_type": "code",
      "source": [
        "def doc(*args):\n",
        "    doc_list = []\n",
        "    tf = pd.DataFrame()\n",
        "    idf = pd.DataFrame()\n",
        "    tf_idf = pd.DataFrame()\n",
        "    \n",
        "    # 단어 리스트 생성\n",
        "    for i in args:\n",
        "        # 단어 분해\n",
        "        tmp_list = i.split(' ')\n",
        "        # 리스트 결합\n",
        "        doc_list += tmp_list\n",
        "    doc_list = list(set(doc_list))\n",
        "    \n",
        "    # DF\n",
        "    df = []\n",
        "    for i in doc_list:\n",
        "        tmp = 0\n",
        "        for j in args:\n",
        "            # 단어 분해\n",
        "            tmp_list = list(set(j.split(' ')))\n",
        "            if i in tmp_list:\n",
        "                tmp += 1\n",
        "        df.append(tmp)\n",
        "        \n",
        "    # TF(DTM), IDF, TF-IDF\n",
        "    for i in range(len(doc_list)):\n",
        "        tmp = []\n",
        "        tmp2 = []\n",
        "        tmp3 = []\n",
        "        for j in args:\n",
        "            # 단어 분해\n",
        "            tmp_list = j.split(' ')\n",
        "            # 단어 세기\n",
        "            tmp.append(tmp_list.count(doc_list[i]))\n",
        "            tmp2.append(log(len(args) / (df[i] + 1)))\n",
        "            tmp3.append((tmp_list.count(doc_list[i])) * (log(len(args) / (df[i] + 1))))\n",
        "        # 데이터 프레임 추가\n",
        "        tf[doc_list[i]] = tmp\n",
        "        idf[doc_list[i]] = tmp2\n",
        "        tf_idf[doc_list[i]] = tmp3\n",
        "    return tf, df, idf, tf_idf"
      ],
      "metadata": {
        "id": "0yPxmBdQCnSu"
      },
      "execution_count": null,
      "outputs": []
    },
    {
      "cell_type": "code",
      "source": [
        "tf, df, idf, tf_idf = doc(doc1, doc2, doc3)"
      ],
      "metadata": {
        "id": "eDF0qeouCoPc"
      },
      "execution_count": null,
      "outputs": []
    },
    {
      "cell_type": "code",
      "source": [
        "tf"
      ],
      "metadata": {
        "colab": {
          "base_uri": "https://localhost:8080/",
          "height": 143
        },
        "id": "-X97dF9QCp7B",
        "outputId": "6a168502-4516-4903-a439-8a5b116d01a1"
      },
      "execution_count": null,
      "outputs": [
        {
          "output_type": "execute_result",
          "data": {
            "text/plain": [
              "   a  I  man  am  boy  girl\n",
              "0  1  1    0   1    1     0\n",
              "1  1  1    0   1    0     1\n",
              "2  3  1    1   1    0     0"
            ],
            "text/html": [
              "\n",
              "  <div id=\"df-8204f231-7e14-434e-94ed-81409358e5b6\">\n",
              "    <div class=\"colab-df-container\">\n",
              "      <div>\n",
              "<style scoped>\n",
              "    .dataframe tbody tr th:only-of-type {\n",
              "        vertical-align: middle;\n",
              "    }\n",
              "\n",
              "    .dataframe tbody tr th {\n",
              "        vertical-align: top;\n",
              "    }\n",
              "\n",
              "    .dataframe thead th {\n",
              "        text-align: right;\n",
              "    }\n",
              "</style>\n",
              "<table border=\"1\" class=\"dataframe\">\n",
              "  <thead>\n",
              "    <tr style=\"text-align: right;\">\n",
              "      <th></th>\n",
              "      <th>a</th>\n",
              "      <th>I</th>\n",
              "      <th>man</th>\n",
              "      <th>am</th>\n",
              "      <th>boy</th>\n",
              "      <th>girl</th>\n",
              "    </tr>\n",
              "  </thead>\n",
              "  <tbody>\n",
              "    <tr>\n",
              "      <th>0</th>\n",
              "      <td>1</td>\n",
              "      <td>1</td>\n",
              "      <td>0</td>\n",
              "      <td>1</td>\n",
              "      <td>1</td>\n",
              "      <td>0</td>\n",
              "    </tr>\n",
              "    <tr>\n",
              "      <th>1</th>\n",
              "      <td>1</td>\n",
              "      <td>1</td>\n",
              "      <td>0</td>\n",
              "      <td>1</td>\n",
              "      <td>0</td>\n",
              "      <td>1</td>\n",
              "    </tr>\n",
              "    <tr>\n",
              "      <th>2</th>\n",
              "      <td>3</td>\n",
              "      <td>1</td>\n",
              "      <td>1</td>\n",
              "      <td>1</td>\n",
              "      <td>0</td>\n",
              "      <td>0</td>\n",
              "    </tr>\n",
              "  </tbody>\n",
              "</table>\n",
              "</div>\n",
              "      <button class=\"colab-df-convert\" onclick=\"convertToInteractive('df-8204f231-7e14-434e-94ed-81409358e5b6')\"\n",
              "              title=\"Convert this dataframe to an interactive table.\"\n",
              "              style=\"display:none;\">\n",
              "        \n",
              "  <svg xmlns=\"http://www.w3.org/2000/svg\" height=\"24px\"viewBox=\"0 0 24 24\"\n",
              "       width=\"24px\">\n",
              "    <path d=\"M0 0h24v24H0V0z\" fill=\"none\"/>\n",
              "    <path d=\"M18.56 5.44l.94 2.06.94-2.06 2.06-.94-2.06-.94-.94-2.06-.94 2.06-2.06.94zm-11 1L8.5 8.5l.94-2.06 2.06-.94-2.06-.94L8.5 2.5l-.94 2.06-2.06.94zm10 10l.94 2.06.94-2.06 2.06-.94-2.06-.94-.94-2.06-.94 2.06-2.06.94z\"/><path d=\"M17.41 7.96l-1.37-1.37c-.4-.4-.92-.59-1.43-.59-.52 0-1.04.2-1.43.59L10.3 9.45l-7.72 7.72c-.78.78-.78 2.05 0 2.83L4 21.41c.39.39.9.59 1.41.59.51 0 1.02-.2 1.41-.59l7.78-7.78 2.81-2.81c.8-.78.8-2.07 0-2.86zM5.41 20L4 18.59l7.72-7.72 1.47 1.35L5.41 20z\"/>\n",
              "  </svg>\n",
              "      </button>\n",
              "      \n",
              "  <style>\n",
              "    .colab-df-container {\n",
              "      display:flex;\n",
              "      flex-wrap:wrap;\n",
              "      gap: 12px;\n",
              "    }\n",
              "\n",
              "    .colab-df-convert {\n",
              "      background-color: #E8F0FE;\n",
              "      border: none;\n",
              "      border-radius: 50%;\n",
              "      cursor: pointer;\n",
              "      display: none;\n",
              "      fill: #1967D2;\n",
              "      height: 32px;\n",
              "      padding: 0 0 0 0;\n",
              "      width: 32px;\n",
              "    }\n",
              "\n",
              "    .colab-df-convert:hover {\n",
              "      background-color: #E2EBFA;\n",
              "      box-shadow: 0px 1px 2px rgba(60, 64, 67, 0.3), 0px 1px 3px 1px rgba(60, 64, 67, 0.15);\n",
              "      fill: #174EA6;\n",
              "    }\n",
              "\n",
              "    [theme=dark] .colab-df-convert {\n",
              "      background-color: #3B4455;\n",
              "      fill: #D2E3FC;\n",
              "    }\n",
              "\n",
              "    [theme=dark] .colab-df-convert:hover {\n",
              "      background-color: #434B5C;\n",
              "      box-shadow: 0px 1px 3px 1px rgba(0, 0, 0, 0.15);\n",
              "      filter: drop-shadow(0px 1px 2px rgba(0, 0, 0, 0.3));\n",
              "      fill: #FFFFFF;\n",
              "    }\n",
              "  </style>\n",
              "\n",
              "      <script>\n",
              "        const buttonEl =\n",
              "          document.querySelector('#df-8204f231-7e14-434e-94ed-81409358e5b6 button.colab-df-convert');\n",
              "        buttonEl.style.display =\n",
              "          google.colab.kernel.accessAllowed ? 'block' : 'none';\n",
              "\n",
              "        async function convertToInteractive(key) {\n",
              "          const element = document.querySelector('#df-8204f231-7e14-434e-94ed-81409358e5b6');\n",
              "          const dataTable =\n",
              "            await google.colab.kernel.invokeFunction('convertToInteractive',\n",
              "                                                     [key], {});\n",
              "          if (!dataTable) return;\n",
              "\n",
              "          const docLinkHtml = 'Like what you see? Visit the ' +\n",
              "            '<a target=\"_blank\" href=https://colab.research.google.com/notebooks/data_table.ipynb>data table notebook</a>'\n",
              "            + ' to learn more about interactive tables.';\n",
              "          element.innerHTML = '';\n",
              "          dataTable['output_type'] = 'display_data';\n",
              "          await google.colab.output.renderOutput(dataTable, element);\n",
              "          const docLink = document.createElement('div');\n",
              "          docLink.innerHTML = docLinkHtml;\n",
              "          element.appendChild(docLink);\n",
              "        }\n",
              "      </script>\n",
              "    </div>\n",
              "  </div>\n",
              "  "
            ]
          },
          "metadata": {},
          "execution_count": 9
        }
      ]
    },
    {
      "cell_type": "code",
      "source": [
        "df"
      ],
      "metadata": {
        "colab": {
          "base_uri": "https://localhost:8080/"
        },
        "id": "Xkv9vqnfCq1p",
        "outputId": "10690b35-2df8-4f3d-fd4d-73f74db6b305"
      },
      "execution_count": null,
      "outputs": [
        {
          "output_type": "execute_result",
          "data": {
            "text/plain": [
              "[3, 3, 1, 3, 1, 1]"
            ]
          },
          "metadata": {},
          "execution_count": 10
        }
      ]
    },
    {
      "cell_type": "code",
      "source": [
        "idf"
      ],
      "metadata": {
        "colab": {
          "base_uri": "https://localhost:8080/",
          "height": 143
        },
        "id": "cEIMlBcRCsFs",
        "outputId": "522e874e-05f7-4d7a-ca6d-d4341d993773"
      },
      "execution_count": null,
      "outputs": [
        {
          "output_type": "execute_result",
          "data": {
            "text/plain": [
              "          a         I       man        am       boy      girl\n",
              "0 -0.287682 -0.287682  0.405465 -0.287682  0.405465  0.405465\n",
              "1 -0.287682 -0.287682  0.405465 -0.287682  0.405465  0.405465\n",
              "2 -0.287682 -0.287682  0.405465 -0.287682  0.405465  0.405465"
            ],
            "text/html": [
              "\n",
              "  <div id=\"df-8a9b57ad-7d03-4b86-b233-f54207b603d6\">\n",
              "    <div class=\"colab-df-container\">\n",
              "      <div>\n",
              "<style scoped>\n",
              "    .dataframe tbody tr th:only-of-type {\n",
              "        vertical-align: middle;\n",
              "    }\n",
              "\n",
              "    .dataframe tbody tr th {\n",
              "        vertical-align: top;\n",
              "    }\n",
              "\n",
              "    .dataframe thead th {\n",
              "        text-align: right;\n",
              "    }\n",
              "</style>\n",
              "<table border=\"1\" class=\"dataframe\">\n",
              "  <thead>\n",
              "    <tr style=\"text-align: right;\">\n",
              "      <th></th>\n",
              "      <th>a</th>\n",
              "      <th>I</th>\n",
              "      <th>man</th>\n",
              "      <th>am</th>\n",
              "      <th>boy</th>\n",
              "      <th>girl</th>\n",
              "    </tr>\n",
              "  </thead>\n",
              "  <tbody>\n",
              "    <tr>\n",
              "      <th>0</th>\n",
              "      <td>-0.287682</td>\n",
              "      <td>-0.287682</td>\n",
              "      <td>0.405465</td>\n",
              "      <td>-0.287682</td>\n",
              "      <td>0.405465</td>\n",
              "      <td>0.405465</td>\n",
              "    </tr>\n",
              "    <tr>\n",
              "      <th>1</th>\n",
              "      <td>-0.287682</td>\n",
              "      <td>-0.287682</td>\n",
              "      <td>0.405465</td>\n",
              "      <td>-0.287682</td>\n",
              "      <td>0.405465</td>\n",
              "      <td>0.405465</td>\n",
              "    </tr>\n",
              "    <tr>\n",
              "      <th>2</th>\n",
              "      <td>-0.287682</td>\n",
              "      <td>-0.287682</td>\n",
              "      <td>0.405465</td>\n",
              "      <td>-0.287682</td>\n",
              "      <td>0.405465</td>\n",
              "      <td>0.405465</td>\n",
              "    </tr>\n",
              "  </tbody>\n",
              "</table>\n",
              "</div>\n",
              "      <button class=\"colab-df-convert\" onclick=\"convertToInteractive('df-8a9b57ad-7d03-4b86-b233-f54207b603d6')\"\n",
              "              title=\"Convert this dataframe to an interactive table.\"\n",
              "              style=\"display:none;\">\n",
              "        \n",
              "  <svg xmlns=\"http://www.w3.org/2000/svg\" height=\"24px\"viewBox=\"0 0 24 24\"\n",
              "       width=\"24px\">\n",
              "    <path d=\"M0 0h24v24H0V0z\" fill=\"none\"/>\n",
              "    <path d=\"M18.56 5.44l.94 2.06.94-2.06 2.06-.94-2.06-.94-.94-2.06-.94 2.06-2.06.94zm-11 1L8.5 8.5l.94-2.06 2.06-.94-2.06-.94L8.5 2.5l-.94 2.06-2.06.94zm10 10l.94 2.06.94-2.06 2.06-.94-2.06-.94-.94-2.06-.94 2.06-2.06.94z\"/><path d=\"M17.41 7.96l-1.37-1.37c-.4-.4-.92-.59-1.43-.59-.52 0-1.04.2-1.43.59L10.3 9.45l-7.72 7.72c-.78.78-.78 2.05 0 2.83L4 21.41c.39.39.9.59 1.41.59.51 0 1.02-.2 1.41-.59l7.78-7.78 2.81-2.81c.8-.78.8-2.07 0-2.86zM5.41 20L4 18.59l7.72-7.72 1.47 1.35L5.41 20z\"/>\n",
              "  </svg>\n",
              "      </button>\n",
              "      \n",
              "  <style>\n",
              "    .colab-df-container {\n",
              "      display:flex;\n",
              "      flex-wrap:wrap;\n",
              "      gap: 12px;\n",
              "    }\n",
              "\n",
              "    .colab-df-convert {\n",
              "      background-color: #E8F0FE;\n",
              "      border: none;\n",
              "      border-radius: 50%;\n",
              "      cursor: pointer;\n",
              "      display: none;\n",
              "      fill: #1967D2;\n",
              "      height: 32px;\n",
              "      padding: 0 0 0 0;\n",
              "      width: 32px;\n",
              "    }\n",
              "\n",
              "    .colab-df-convert:hover {\n",
              "      background-color: #E2EBFA;\n",
              "      box-shadow: 0px 1px 2px rgba(60, 64, 67, 0.3), 0px 1px 3px 1px rgba(60, 64, 67, 0.15);\n",
              "      fill: #174EA6;\n",
              "    }\n",
              "\n",
              "    [theme=dark] .colab-df-convert {\n",
              "      background-color: #3B4455;\n",
              "      fill: #D2E3FC;\n",
              "    }\n",
              "\n",
              "    [theme=dark] .colab-df-convert:hover {\n",
              "      background-color: #434B5C;\n",
              "      box-shadow: 0px 1px 3px 1px rgba(0, 0, 0, 0.15);\n",
              "      filter: drop-shadow(0px 1px 2px rgba(0, 0, 0, 0.3));\n",
              "      fill: #FFFFFF;\n",
              "    }\n",
              "  </style>\n",
              "\n",
              "      <script>\n",
              "        const buttonEl =\n",
              "          document.querySelector('#df-8a9b57ad-7d03-4b86-b233-f54207b603d6 button.colab-df-convert');\n",
              "        buttonEl.style.display =\n",
              "          google.colab.kernel.accessAllowed ? 'block' : 'none';\n",
              "\n",
              "        async function convertToInteractive(key) {\n",
              "          const element = document.querySelector('#df-8a9b57ad-7d03-4b86-b233-f54207b603d6');\n",
              "          const dataTable =\n",
              "            await google.colab.kernel.invokeFunction('convertToInteractive',\n",
              "                                                     [key], {});\n",
              "          if (!dataTable) return;\n",
              "\n",
              "          const docLinkHtml = 'Like what you see? Visit the ' +\n",
              "            '<a target=\"_blank\" href=https://colab.research.google.com/notebooks/data_table.ipynb>data table notebook</a>'\n",
              "            + ' to learn more about interactive tables.';\n",
              "          element.innerHTML = '';\n",
              "          dataTable['output_type'] = 'display_data';\n",
              "          await google.colab.output.renderOutput(dataTable, element);\n",
              "          const docLink = document.createElement('div');\n",
              "          docLink.innerHTML = docLinkHtml;\n",
              "          element.appendChild(docLink);\n",
              "        }\n",
              "      </script>\n",
              "    </div>\n",
              "  </div>\n",
              "  "
            ]
          },
          "metadata": {},
          "execution_count": 12
        }
      ]
    },
    {
      "cell_type": "code",
      "source": [
        "tf-idf"
      ],
      "metadata": {
        "colab": {
          "base_uri": "https://localhost:8080/",
          "height": 143
        },
        "id": "zxIxMvxDCuq6",
        "outputId": "9e9e9083-9a06-4e47-bfe7-df7177da9784"
      },
      "execution_count": null,
      "outputs": [
        {
          "output_type": "execute_result",
          "data": {
            "text/plain": [
              "          a         I       man        am       boy      girl\n",
              "0  1.287682  1.287682 -0.405465  1.287682  0.594535 -0.405465\n",
              "1  1.287682  1.287682 -0.405465  1.287682 -0.405465  0.594535\n",
              "2  3.287682  1.287682  0.594535  1.287682 -0.405465 -0.405465"
            ],
            "text/html": [
              "\n",
              "  <div id=\"df-7296272e-1764-4fee-a173-f37cff4ba821\">\n",
              "    <div class=\"colab-df-container\">\n",
              "      <div>\n",
              "<style scoped>\n",
              "    .dataframe tbody tr th:only-of-type {\n",
              "        vertical-align: middle;\n",
              "    }\n",
              "\n",
              "    .dataframe tbody tr th {\n",
              "        vertical-align: top;\n",
              "    }\n",
              "\n",
              "    .dataframe thead th {\n",
              "        text-align: right;\n",
              "    }\n",
              "</style>\n",
              "<table border=\"1\" class=\"dataframe\">\n",
              "  <thead>\n",
              "    <tr style=\"text-align: right;\">\n",
              "      <th></th>\n",
              "      <th>a</th>\n",
              "      <th>I</th>\n",
              "      <th>man</th>\n",
              "      <th>am</th>\n",
              "      <th>boy</th>\n",
              "      <th>girl</th>\n",
              "    </tr>\n",
              "  </thead>\n",
              "  <tbody>\n",
              "    <tr>\n",
              "      <th>0</th>\n",
              "      <td>1.287682</td>\n",
              "      <td>1.287682</td>\n",
              "      <td>-0.405465</td>\n",
              "      <td>1.287682</td>\n",
              "      <td>0.594535</td>\n",
              "      <td>-0.405465</td>\n",
              "    </tr>\n",
              "    <tr>\n",
              "      <th>1</th>\n",
              "      <td>1.287682</td>\n",
              "      <td>1.287682</td>\n",
              "      <td>-0.405465</td>\n",
              "      <td>1.287682</td>\n",
              "      <td>-0.405465</td>\n",
              "      <td>0.594535</td>\n",
              "    </tr>\n",
              "    <tr>\n",
              "      <th>2</th>\n",
              "      <td>3.287682</td>\n",
              "      <td>1.287682</td>\n",
              "      <td>0.594535</td>\n",
              "      <td>1.287682</td>\n",
              "      <td>-0.405465</td>\n",
              "      <td>-0.405465</td>\n",
              "    </tr>\n",
              "  </tbody>\n",
              "</table>\n",
              "</div>\n",
              "      <button class=\"colab-df-convert\" onclick=\"convertToInteractive('df-7296272e-1764-4fee-a173-f37cff4ba821')\"\n",
              "              title=\"Convert this dataframe to an interactive table.\"\n",
              "              style=\"display:none;\">\n",
              "        \n",
              "  <svg xmlns=\"http://www.w3.org/2000/svg\" height=\"24px\"viewBox=\"0 0 24 24\"\n",
              "       width=\"24px\">\n",
              "    <path d=\"M0 0h24v24H0V0z\" fill=\"none\"/>\n",
              "    <path d=\"M18.56 5.44l.94 2.06.94-2.06 2.06-.94-2.06-.94-.94-2.06-.94 2.06-2.06.94zm-11 1L8.5 8.5l.94-2.06 2.06-.94-2.06-.94L8.5 2.5l-.94 2.06-2.06.94zm10 10l.94 2.06.94-2.06 2.06-.94-2.06-.94-.94-2.06-.94 2.06-2.06.94z\"/><path d=\"M17.41 7.96l-1.37-1.37c-.4-.4-.92-.59-1.43-.59-.52 0-1.04.2-1.43.59L10.3 9.45l-7.72 7.72c-.78.78-.78 2.05 0 2.83L4 21.41c.39.39.9.59 1.41.59.51 0 1.02-.2 1.41-.59l7.78-7.78 2.81-2.81c.8-.78.8-2.07 0-2.86zM5.41 20L4 18.59l7.72-7.72 1.47 1.35L5.41 20z\"/>\n",
              "  </svg>\n",
              "      </button>\n",
              "      \n",
              "  <style>\n",
              "    .colab-df-container {\n",
              "      display:flex;\n",
              "      flex-wrap:wrap;\n",
              "      gap: 12px;\n",
              "    }\n",
              "\n",
              "    .colab-df-convert {\n",
              "      background-color: #E8F0FE;\n",
              "      border: none;\n",
              "      border-radius: 50%;\n",
              "      cursor: pointer;\n",
              "      display: none;\n",
              "      fill: #1967D2;\n",
              "      height: 32px;\n",
              "      padding: 0 0 0 0;\n",
              "      width: 32px;\n",
              "    }\n",
              "\n",
              "    .colab-df-convert:hover {\n",
              "      background-color: #E2EBFA;\n",
              "      box-shadow: 0px 1px 2px rgba(60, 64, 67, 0.3), 0px 1px 3px 1px rgba(60, 64, 67, 0.15);\n",
              "      fill: #174EA6;\n",
              "    }\n",
              "\n",
              "    [theme=dark] .colab-df-convert {\n",
              "      background-color: #3B4455;\n",
              "      fill: #D2E3FC;\n",
              "    }\n",
              "\n",
              "    [theme=dark] .colab-df-convert:hover {\n",
              "      background-color: #434B5C;\n",
              "      box-shadow: 0px 1px 3px 1px rgba(0, 0, 0, 0.15);\n",
              "      filter: drop-shadow(0px 1px 2px rgba(0, 0, 0, 0.3));\n",
              "      fill: #FFFFFF;\n",
              "    }\n",
              "  </style>\n",
              "\n",
              "      <script>\n",
              "        const buttonEl =\n",
              "          document.querySelector('#df-7296272e-1764-4fee-a173-f37cff4ba821 button.colab-df-convert');\n",
              "        buttonEl.style.display =\n",
              "          google.colab.kernel.accessAllowed ? 'block' : 'none';\n",
              "\n",
              "        async function convertToInteractive(key) {\n",
              "          const element = document.querySelector('#df-7296272e-1764-4fee-a173-f37cff4ba821');\n",
              "          const dataTable =\n",
              "            await google.colab.kernel.invokeFunction('convertToInteractive',\n",
              "                                                     [key], {});\n",
              "          if (!dataTable) return;\n",
              "\n",
              "          const docLinkHtml = 'Like what you see? Visit the ' +\n",
              "            '<a target=\"_blank\" href=https://colab.research.google.com/notebooks/data_table.ipynb>data table notebook</a>'\n",
              "            + ' to learn more about interactive tables.';\n",
              "          element.innerHTML = '';\n",
              "          dataTable['output_type'] = 'display_data';\n",
              "          await google.colab.output.renderOutput(dataTable, element);\n",
              "          const docLink = document.createElement('div');\n",
              "          docLink.innerHTML = docLinkHtml;\n",
              "          element.appendChild(docLink);\n",
              "        }\n",
              "      </script>\n",
              "    </div>\n",
              "  </div>\n",
              "  "
            ]
          },
          "metadata": {},
          "execution_count": 13
        }
      ]
    },
    {
      "cell_type": "markdown",
      "metadata": {
        "id": "R4xH_31iez6P"
      },
      "source": [
        "#  실습 : 20 Newsgroup 분류하기\n",
        "\n",
        "188846개의 뉴스 20개의 뉴스 카테고리로 분류하기.\n",
        "\n",
        "1. 텍스트 정규화\n",
        "2. 피처 벡터화\n",
        "3. 머신러닝 학습/예측/평가\n",
        "4. Pipeline 적용\n",
        "5. GridSearch 최적화"
      ]
    },
    {
      "cell_type": "code",
      "execution_count": null,
      "metadata": {
        "id": "XyPA1h_-fmAL"
      },
      "outputs": [],
      "source": [
        "from sklearn.datasets import fetch_20newsgroups\n",
        "\n",
        "news_data = fetch_20newsgroups(subset = 'all', random_state = 42)"
      ]
    },
    {
      "cell_type": "code",
      "execution_count": null,
      "metadata": {
        "id": "w8hkat9-fwm1"
      },
      "outputs": [],
      "source": [
        "print(news_data.keys())"
      ]
    },
    {
      "cell_type": "code",
      "execution_count": null,
      "metadata": {
        "id": "VQlsRCBkfwpP"
      },
      "outputs": [],
      "source": [
        "import pandas as pd\n",
        "\n",
        "print('target 클래스의 값과 분포도 \\n',pd.Series(news_data.target).value_counts().sort_index())\n",
        "print('target 클래스의 이름들 \\n',news_data.target_names)"
      ]
    },
    {
      "cell_type": "code",
      "execution_count": null,
      "metadata": {
        "id": "4PB7Pk3gmPmE"
      },
      "outputs": [],
      "source": [
        "print(news_data.data[0])"
      ]
    },
    {
      "cell_type": "code",
      "execution_count": null,
      "metadata": {
        "id": "y7dsnel5mQja"
      },
      "outputs": [],
      "source": [
        "from sklearn.datasets import fetch_20newsgroups\n",
        "\n",
        "# subset='train'으로 학습용(Train) 데이터만 추출, remove=('headers', 'footers', 'quotes')로 내용만 추출\n",
        "train_news= fetch_20newsgroups(subset='train', remove=('headers', 'footers', 'quotes'), random_state=156)\n",
        "X_train = train_news.data\n",
        "y_train = train_news.target\n",
        "print(type(X_train))\n",
        "\n",
        "# subset='test'으로 테스트(Test) 데이터만 추출, remove=('headers', 'footers', 'quotes')로 내용만 추출\n",
        "test_news= fetch_20newsgroups(subset='test',remove=('headers', 'footers','quotes'),random_state=156)\n",
        "X_test = test_news.data\n",
        "y_test = test_news.target\n",
        "print('학습 데이터 크기 {0} , 테스트 데이터 크기 {1}'.format(len(train_news.data) , len(test_news.data)))"
      ]
    },
    {
      "cell_type": "markdown",
      "metadata": {
        "id": "UPNX3cgZmTLk"
      },
      "source": [
        "Count 피처 벡터화 변환과 머신러닝 모델 학습/예측/평가\n",
        "\n",
        "**주의 : 학습 데이터에 대해 fit()된 CountVectorizer 를 이용해서 테스트 데이터를 피처 벡터화 해야함.\n",
        "테스트 데이터에서 다시 CountVecotrizer의 fit_trainform()을 수행하거나 fit()을 수행 하면 안됨.\n",
        "이는 이렇게 테스트 데이터에서 fit()을 수행하게 되면 기존 학습된 모델에서 가지는 feature의 갯수가 달라지기 때문."
      ]
    },
    {
      "cell_type": "code",
      "execution_count": null,
      "metadata": {
        "id": "LSyZNW2ImQmK"
      },
      "outputs": [],
      "source": [
        "from sklearn.feature_extraction.text import CountVectorizer\n",
        "\n",
        "# Count Vectorization으로 feature extraction 변환 수행. \n",
        "cnt_vect = CountVectorizer()\n",
        "cnt_vect.fit(X_train , y_train) #cnt_ect.fit_transform(X_train,y_train)\n",
        "X_train_cnt_vect = cnt_vect.transform(X_train)\n",
        "\n",
        "# 학습 데이터로 fit( )된 CountVectorizer를 이용하여 테스트 데이터를 feature extraction 변환 수행. \n",
        "X_test_cnt_vect = cnt_vect.transform(X_test)\n",
        "\n",
        "print('학습 데이터 Text의 CountVectorizer Shape:',X_train_cnt_vect.shape)"
      ]
    },
    {
      "cell_type": "code",
      "execution_count": null,
      "metadata": {
        "id": "FYB3rasBmQom"
      },
      "outputs": [],
      "source": [
        "from sklearn.linear_model import LogisticRegression\n",
        "from sklearn.metrics import accuracy_score\n",
        "\n",
        "# LogisticRegression을 이용하여 학습/예측/평가 수행. \n",
        "lr_clf = LogisticRegression()\n",
        "lr_clf.fit(X_train_cnt_vect , y_train)\n",
        "pred = lr_clf.predict(X_test_cnt_vect)\n",
        "print('CountVectorized Logistic Regression 의 예측 정확도는 {0:.3f}'.format(accuracy_score(y_test,pred)))"
      ]
    },
    {
      "cell_type": "code",
      "execution_count": null,
      "metadata": {
        "id": "_kvF4-D5mQrC"
      },
      "outputs": [],
      "source": [
        "from sklearn.feature_extraction.text import TfidfVectorizer\n",
        "\n",
        "# TF-IDF Vectorization 적용하여 학습 데이터셋과 테스트 데이터 셋 변환. \n",
        "tfidf_vect = TfidfVectorizer()\n",
        "tfidf_vect.fit(X_train)\n",
        "X_train_tfidf_vect = tfidf_vect.transform(X_train)\n",
        "X_test_tfidf_vect = tfidf_vect.transform(X_test)\n",
        "\n",
        "# LogisticRegression을 이용하여 학습/예측/평가 수행. \n",
        "lr_clf = LogisticRegression()\n",
        "lr_clf.fit(X_train_tfidf_vect , y_train)\n",
        "pred = lr_clf.predict(X_test_tfidf_vect)\n",
        "print('TF-IDF Logistic Regression 의 예측 정확도는 {0:.3f}'.format(accuracy_score(y_test ,pred)))"
      ]
    },
    {
      "cell_type": "code",
      "execution_count": null,
      "metadata": {
        "id": "KUQoDvnNmQtb"
      },
      "outputs": [],
      "source": [
        "# stop words 필터링을 추가하고 ngram을 기본(1,1)에서 (1,2)로 변경하여 Feature Vectorization 적용.\n",
        "tfidf_vect = TfidfVectorizer(stop_words='english', ngram_range=(1,2), max_df=300 )\n",
        "tfidf_vect.fit(X_train)\n",
        "X_train_tfidf_vect = tfidf_vect.transform(X_train)\n",
        "X_test_tfidf_vect = tfidf_vect.transform(X_test)\n",
        "\n",
        "lr_clf = LogisticRegression()\n",
        "lr_clf.fit(X_train_tfidf_vect , y_train)\n",
        "pred = lr_clf.predict(X_test_tfidf_vect)\n",
        "print('TF-IDF Vectorized Logistic Regression 의 예측 정확도는 {0:.3f}'.format(accuracy_score(y_test ,pred)))"
      ]
    },
    {
      "cell_type": "code",
      "execution_count": null,
      "metadata": {
        "id": "DGyGKFEgmYxz"
      },
      "outputs": [],
      "source": [
        "from sklearn.model_selection import GridSearchCV\n",
        "\n",
        "# 최적 C 값 도출 튜닝 수행. CV는 3 Fold셋으로 설정. \n",
        "params = { 'C':[0.01, 0.1, 1, 5, 10]}\n",
        "grid_cv_lr = GridSearchCV(lr_clf ,param_grid=params , cv=3 , scoring='accuracy' , verbose=1 )\n",
        "grid_cv_lr.fit(X_train_tfidf_vect , y_train)\n",
        "print('Logistic Regression best C parameter :',grid_cv_lr.best_params_ )\n",
        "\n",
        "# 최적 C 값으로 학습된 grid_cv로 예측 수행하고 정확도 평가. \n",
        "pred = grid_cv_lr.predict(X_test_tfidf_vect)\n",
        "print('TF-IDF Vectorized Logistic Regression 의 예측 정확도는 {0:.3f}'.format(accuracy_score(y_test ,pred)))"
      ]
    },
    {
      "cell_type": "markdown",
      "metadata": {
        "id": "f0t9wthdmbi5"
      },
      "source": [
        "사이킷런 파이프라인(Pipeline) 사용 및 GridSearchCV와의 결합"
      ]
    },
    {
      "cell_type": "code",
      "execution_count": null,
      "metadata": {
        "id": "d0bK3jz8mY0-"
      },
      "outputs": [],
      "source": [
        "from sklearn.pipeline import Pipeline\n",
        "\n",
        "# TfidfVectorizer 객체를 tfidf_vect 객체명으로, LogisticRegression객체를 lr_clf 객체명으로 생성하는 Pipeline생성\n",
        "pipeline = Pipeline([\n",
        "    ('tfidf_vect', TfidfVectorizer(stop_words='english', ngram_range=(1,2), max_df=300)),\n",
        "    ('lr_clf', LogisticRegression(C=10))\n",
        "])\n",
        "\n",
        "# 별도의 TfidfVectorizer객체의 fit_transform( )과 LogisticRegression의 fit(), predict( )가 필요 없음. \n",
        "# pipeline의 fit( ) 과 predict( ) 만으로 한꺼번에 Feature Vectorization과 ML 학습/예측이 가능. \n",
        "pipeline.fit(X_train, y_train)\n",
        "pred = pipeline.predict(X_test)\n",
        "print('Pipeline을 통한 Logistic Regression 의 예측 정확도는 {0:.3f}'.format(accuracy_score(y_test ,pred)))"
      ]
    },
    {
      "cell_type": "code",
      "execution_count": null,
      "metadata": {
        "id": "cELgGrhZmY3X"
      },
      "outputs": [],
      "source": [
        "from sklearn.pipeline import Pipeline\n",
        "\n",
        "pipeline = Pipeline([\n",
        "    ('tfidf_vect', TfidfVectorizer(stop_words='english')),\n",
        "    ('lr_clf', LogisticRegression())\n",
        "])\n",
        "\n",
        "# Pipeline에 기술된 각각의 객체 변수에 언더바(_)2개를 연달아 붙여 GridSearchCV에 사용될 \n",
        "# 파라미터/하이퍼 파라미터 이름과 값을 설정. . \n",
        "params = { 'tfidf_vect__ngram_range': [(1,1), (1,2), (1,3)],\n",
        "           'tfidf_vect__max_df': [100, 300, 700],\n",
        "           'lr_clf__C': [1,5,10]\n",
        "}\n",
        "\n",
        "# GridSearchCV의 생성자에 Estimator가 아닌 Pipeline 객체 입력\n",
        "grid_cv_pipe = GridSearchCV(pipeline, param_grid=params, cv=3 , scoring='accuracy',verbose=1)\n",
        "grid_cv_pipe.fit(X_train , y_train)\n",
        "print(grid_cv_pipe.best_params_ , grid_cv_pipe.best_score_)\n",
        "\n",
        "pred = grid_cv_pipe.predict(X_test)\n",
        "print('Pipeline을 통한 Logistic Regression 의 예측 정확도는 {0:.3f}'.format(accuracy_score(y_test ,pred)))"
      ]
    }
  ]
}