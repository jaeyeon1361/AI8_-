{
 "cells": [
  {
   "cell_type": "code",
   "execution_count": 1,
   "id": "250b788a",
   "metadata": {},
   "outputs": [],
   "source": [
    "# 판다스의 자료구조 : 시리즈, 데이터프레임\n",
    "import pandas as pd"
   ]
  },
  {
   "cell_type": "code",
   "execution_count": 4,
   "id": "c96fd1da",
   "metadata": {},
   "outputs": [
    {
     "name": "stdout",
     "output_type": "stream",
     "text": [
      "a    1\n",
      "b    2\n",
      "c    3\n",
      "dtype: int64\n",
      "<class 'pandas.core.series.Series'>\n"
     ]
    }
   ],
   "source": [
    "# 시리즈 생성  Series(딕셔너리 또는 리스트, index=[ ])\n",
    "sr = pd.Series({'a':1, 'b':2, 'c':3})\n",
    "print(sr)\n",
    "\n",
    "print(type(sr))"
   ]
  },
  {
   "cell_type": "code",
   "execution_count": 6,
   "id": "fc4cf26f",
   "metadata": {},
   "outputs": [
    {
     "name": "stdout",
     "output_type": "stream",
     "text": [
      "Index(['a', 'b', 'c'], dtype='object')\n",
      "[1 2 3]\n"
     ]
    }
   ],
   "source": [
    "# 시리즈의 인덱스, 값\n",
    "print(sr.index)\n",
    "print(sr.values)"
   ]
  },
  {
   "cell_type": "code",
   "execution_count": 10,
   "id": "af163509",
   "metadata": {},
   "outputs": [
    {
     "name": "stdout",
     "output_type": "stream",
     "text": [
      "1 1\n",
      "\n",
      "a    1\n",
      "b    2\n",
      "c    3\n",
      "dtype: int64\n",
      "\n",
      "a    1\n",
      "b    2\n",
      "dtype: int64\n"
     ]
    }
   ],
   "source": [
    "# 시리즈를 접근하는 방법 : sr[index], sr[숫자인덱스]\n",
    "print(sr['a'], sr[0])\n",
    "print()\n",
    "print(sr['a':'c'])  # 인덱스명으로 접근시 end도 포함\n",
    "print()\n",
    "print(sr[0:2])   # 숫자 인덱스로 접근하면 end는 미포함"
   ]
  },
  {
   "cell_type": "code",
   "execution_count": 11,
   "id": "f9682cc6",
   "metadata": {},
   "outputs": [
    {
     "data": {
      "text/plain": [
       "이름              영인\n",
       "생년월일    2000-06-30\n",
       "성별               남\n",
       "학생여부          True\n",
       "dtype: object"
      ]
     },
     "execution_count": 11,
     "metadata": {},
     "output_type": "execute_result"
    }
   ],
   "source": [
    "# 리스트 또는 튜플을 시리즈로 만들면서 인덱스명 부여\n",
    "list_data = [ '영인', '2000-06-30', '남', True]\n",
    "sr1 = pd.Series(list_data, index=['이름', '생년월일','성별', '학생여부'])\n",
    "sr1"
   ]
  },
  {
   "cell_type": "code",
   "execution_count": 13,
   "id": "7e7219b0",
   "metadata": {},
   "outputs": [
    {
     "data": {
      "text/plain": [
       "이름              영인\n",
       "생년월일    2000-06-30\n",
       "dtype: object"
      ]
     },
     "execution_count": 13,
     "metadata": {},
     "output_type": "execute_result"
    }
   ],
   "source": [
    "sr1[ ['이름', '생년월일'] ]"
   ]
  },
  {
   "cell_type": "code",
   "execution_count": 22,
   "id": "bd119968",
   "metadata": {},
   "outputs": [
    {
     "name": "stdout",
     "output_type": "stream",
     "text": [
      "object\n",
      "<class 'str'>\n"
     ]
    }
   ],
   "source": [
    "print(sr1.dtype)  # 시리즈에 저장된 데이터 타입 숫자 ->int64 문자 -> object\n",
    "print(type(sr1['이름']))"
   ]
  },
  {
   "cell_type": "code",
   "execution_count": 23,
   "id": "64773928",
   "metadata": {},
   "outputs": [
    {
     "name": "stdout",
     "output_type": "stream",
     "text": [
      "int64\n",
      "<class 'numpy.int64'>\n"
     ]
    }
   ],
   "source": [
    "print(sr.dtype)  # 시리즈에 저장된 데이터 타입 숫자 ->int64 문자 -> object\n",
    "print(type(sr['a']))"
   ]
  },
  {
   "cell_type": "code",
   "execution_count": 25,
   "id": "a535a776",
   "metadata": {},
   "outputs": [
    {
     "data": {
      "text/html": [
       "<div>\n",
       "<style scoped>\n",
       "    .dataframe tbody tr th:only-of-type {\n",
       "        vertical-align: middle;\n",
       "    }\n",
       "\n",
       "    .dataframe tbody tr th {\n",
       "        vertical-align: top;\n",
       "    }\n",
       "\n",
       "    .dataframe thead th {\n",
       "        text-align: right;\n",
       "    }\n",
       "</style>\n",
       "<table border=\"1\" class=\"dataframe\">\n",
       "  <thead>\n",
       "    <tr style=\"text-align: right;\">\n",
       "      <th></th>\n",
       "      <th>a</th>\n",
       "      <th>b</th>\n",
       "      <th>c</th>\n",
       "    </tr>\n",
       "  </thead>\n",
       "  <tbody>\n",
       "    <tr>\n",
       "      <th>0</th>\n",
       "      <td>1</td>\n",
       "      <td>4</td>\n",
       "      <td>7</td>\n",
       "    </tr>\n",
       "    <tr>\n",
       "      <th>1</th>\n",
       "      <td>2</td>\n",
       "      <td>5</td>\n",
       "      <td>8</td>\n",
       "    </tr>\n",
       "    <tr>\n",
       "      <th>2</th>\n",
       "      <td>3</td>\n",
       "      <td>6</td>\n",
       "      <td>9</td>\n",
       "    </tr>\n",
       "  </tbody>\n",
       "</table>\n",
       "</div>"
      ],
      "text/plain": [
       "   a  b  c\n",
       "0  1  4  7\n",
       "1  2  5  8\n",
       "2  3  6  9"
      ]
     },
     "execution_count": 25,
     "metadata": {},
     "output_type": "execute_result"
    }
   ],
   "source": [
    "#  데이터프레임 : 시리즈가 여러개 묶여서 됨\n",
    "# 딕셔너리로 데이터프레임 생성 -> 키가 컬럼으로 됨\n",
    "dict_data = {'a':[1,2,3], 'b':[4,5,6], 'c':[7,8,9]}\n",
    "df = pd.DataFrame(dict_data)\n",
    "df"
   ]
  },
  {
   "cell_type": "code",
   "execution_count": 29,
   "id": "5f6460b6",
   "metadata": {},
   "outputs": [
    {
     "name": "stdout",
     "output_type": "stream",
     "text": [
      "<class 'pandas.core.frame.DataFrame'>\n",
      "a    int64\n",
      "b    int64\n",
      "c    int64\n",
      "dtype: object\n",
      "RangeIndex(start=0, stop=3, step=1)\n",
      "[[1 4 7]\n",
      " [2 5 8]\n",
      " [3 6 9]]\n"
     ]
    }
   ],
   "source": [
    "print(type(df))\n",
    "print(df.dtypes)  #  각 컬럼의 데이터 타입\n",
    "print(df.index)   # 데이터프레임의 인덱스 출력\n",
    "print(df.values)  # 각 인덱스의 값 : 2차원 리스트"
   ]
  },
  {
   "cell_type": "code",
   "execution_count": 30,
   "id": "20c6b061",
   "metadata": {},
   "outputs": [
    {
     "data": {
      "text/html": [
       "<div>\n",
       "<style scoped>\n",
       "    .dataframe tbody tr th:only-of-type {\n",
       "        vertical-align: middle;\n",
       "    }\n",
       "\n",
       "    .dataframe tbody tr th {\n",
       "        vertical-align: top;\n",
       "    }\n",
       "\n",
       "    .dataframe thead th {\n",
       "        text-align: right;\n",
       "    }\n",
       "</style>\n",
       "<table border=\"1\" class=\"dataframe\">\n",
       "  <thead>\n",
       "    <tr style=\"text-align: right;\">\n",
       "      <th></th>\n",
       "      <th>나이</th>\n",
       "      <th>성별</th>\n",
       "      <th>학교</th>\n",
       "    </tr>\n",
       "  </thead>\n",
       "  <tbody>\n",
       "    <tr>\n",
       "      <th>준서</th>\n",
       "      <td>15</td>\n",
       "      <td>남</td>\n",
       "      <td>덕영중</td>\n",
       "    </tr>\n",
       "    <tr>\n",
       "      <th>예은</th>\n",
       "      <td>17</td>\n",
       "      <td>여</td>\n",
       "      <td>수리중</td>\n",
       "    </tr>\n",
       "  </tbody>\n",
       "</table>\n",
       "</div>"
      ],
      "text/plain": [
       "    나이 성별   학교\n",
       "준서  15  남  덕영중\n",
       "예은  17  여  수리중"
      ]
     },
     "execution_count": 30,
     "metadata": {},
     "output_type": "execute_result"
    }
   ],
   "source": [
    "#  2차원 리스트로 인덱스명과 컬럼명을 부여하면서 데이터프레임 생성\n",
    "data = [[15,'남', '덕영중'], [17,'여', '수리중']]\n",
    "df = pd.DataFrame(data, index=['준서', '예은'],\n",
    "                 columns=['나이','성별','학교'])\n",
    "df"
   ]
  },
  {
   "cell_type": "code",
   "execution_count": 36,
   "id": "085d01a1",
   "metadata": {},
   "outputs": [
    {
     "name": "stdout",
     "output_type": "stream",
     "text": [
      "나이     int64\n",
      "성별    object\n",
      "학교    object\n",
      "dtype: object\n",
      "\n",
      "Index(['학생1', '학생2'], dtype='object')\n",
      "\n",
      "Index(['나이', '성별', '학교'], dtype='object')\n",
      "     나이 성별   학교\n",
      "학생1  15  남  덕영중\n",
      "학생2  17  여  수리중\n",
      "\n",
      "     연령 남녀   소속\n",
      "학생1  15  남  덕영중\n",
      "학생2  17  여  수리중\n"
     ]
    }
   ],
   "source": [
    "print(df.dtypes)\n",
    "print()\n",
    "print(df.index)\n",
    "print()\n",
    "print(df.columns)\n",
    "\n",
    "# 인덱스명을 변경 : 객체.index = [ 인덱스명, .. ], 기존의정보 수정\n",
    "# 컬럼명을 변경 : 객체.columns = [ 컬럼명 , .. ], 기존의 정보 수정\n",
    "# 준서, 예은 -> 학생1, 학생2\n",
    "df.index = ['학생1','학생2']\n",
    "print(df)\n",
    "print()\n",
    "df.columns = [ '연령','남녀', '소속']\n",
    "print(df)"
   ]
  },
  {
   "cell_type": "code",
   "execution_count": 38,
   "id": "97f152ea",
   "metadata": {},
   "outputs": [
    {
     "data": {
      "text/html": [
       "<div>\n",
       "<style scoped>\n",
       "    .dataframe tbody tr th:only-of-type {\n",
       "        vertical-align: middle;\n",
       "    }\n",
       "\n",
       "    .dataframe tbody tr th {\n",
       "        vertical-align: top;\n",
       "    }\n",
       "\n",
       "    .dataframe thead th {\n",
       "        text-align: right;\n",
       "    }\n",
       "</style>\n",
       "<table border=\"1\" class=\"dataframe\">\n",
       "  <thead>\n",
       "    <tr style=\"text-align: right;\">\n",
       "      <th></th>\n",
       "      <th>연령</th>\n",
       "      <th>남녀</th>\n",
       "      <th>소속</th>\n",
       "    </tr>\n",
       "  </thead>\n",
       "  <tbody>\n",
       "    <tr>\n",
       "      <th>학생1</th>\n",
       "      <td>15</td>\n",
       "      <td>남</td>\n",
       "      <td>덕영중</td>\n",
       "    </tr>\n",
       "    <tr>\n",
       "      <th>학생2</th>\n",
       "      <td>17</td>\n",
       "      <td>여</td>\n",
       "      <td>수리중</td>\n",
       "    </tr>\n",
       "  </tbody>\n",
       "</table>\n",
       "</div>"
      ],
      "text/plain": [
       "     연령 남녀   소속\n",
       "학생1  15  남  덕영중\n",
       "학생2  17  여  수리중"
      ]
     },
     "execution_count": 38,
     "metadata": {},
     "output_type": "execute_result"
    }
   ],
   "source": [
    "df"
   ]
  },
  {
   "cell_type": "code",
   "execution_count": 40,
   "id": "26c38bd8",
   "metadata": {},
   "outputs": [],
   "source": [
    "# 인덱스명과 컬럼명을 일부만 수정하고자 할 경우 : \n",
    "# object.rename(index={old:new, ...}, inplace=True) -> 기존의 정보 변경\n",
    "# object.rename(columns={old:new, ...})\n",
    "# 남녀를 성별로, 학생1을 준서로 수정\n",
    "df.rename(index={'학생1':'준서'}, columns={'남녀':'성별'}, inplace=True)\n",
    "df_copy = df.rename(index={'학생1':'준서'}, columns={'남녀':'성별'})"
   ]
  },
  {
   "cell_type": "code",
   "execution_count": 41,
   "id": "5ac52baf",
   "metadata": {},
   "outputs": [
    {
     "data": {
      "text/html": [
       "<div>\n",
       "<style scoped>\n",
       "    .dataframe tbody tr th:only-of-type {\n",
       "        vertical-align: middle;\n",
       "    }\n",
       "\n",
       "    .dataframe tbody tr th {\n",
       "        vertical-align: top;\n",
       "    }\n",
       "\n",
       "    .dataframe thead th {\n",
       "        text-align: right;\n",
       "    }\n",
       "</style>\n",
       "<table border=\"1\" class=\"dataframe\">\n",
       "  <thead>\n",
       "    <tr style=\"text-align: right;\">\n",
       "      <th></th>\n",
       "      <th>연령</th>\n",
       "      <th>성별</th>\n",
       "      <th>소속</th>\n",
       "    </tr>\n",
       "  </thead>\n",
       "  <tbody>\n",
       "    <tr>\n",
       "      <th>준서</th>\n",
       "      <td>15</td>\n",
       "      <td>남</td>\n",
       "      <td>덕영중</td>\n",
       "    </tr>\n",
       "    <tr>\n",
       "      <th>학생2</th>\n",
       "      <td>17</td>\n",
       "      <td>여</td>\n",
       "      <td>수리중</td>\n",
       "    </tr>\n",
       "  </tbody>\n",
       "</table>\n",
       "</div>"
      ],
      "text/plain": [
       "     연령 성별   소속\n",
       "준서   15  남  덕영중\n",
       "학생2  17  여  수리중"
      ]
     },
     "execution_count": 41,
     "metadata": {},
     "output_type": "execute_result"
    }
   ],
   "source": [
    "df"
   ]
  },
  {
   "cell_type": "code",
   "execution_count": 42,
   "id": "d973ac79",
   "metadata": {},
   "outputs": [],
   "source": [
    "exam_data = {'수학' : [ 90, 80, 70], '영어' : [ 98, 89, 95],\n",
    "             '음악' : [ 85, 95, 100], '체육' : [ 100, 90, 90]}"
   ]
  },
  {
   "cell_type": "code",
   "execution_count": 43,
   "id": "5c202650",
   "metadata": {},
   "outputs": [
    {
     "name": "stdout",
     "output_type": "stream",
     "text": [
      "    수학  영어   음악   체육\n",
      "서준  90  98   85  100\n",
      "우현  80  89   95   90\n",
      "인아  70  95  100   90\n"
     ]
    }
   ],
   "source": [
    "# 서준, 우현, 인아 로 인덱스 설정 하면서 exam_data를 이용하여 df 을 생성 \n",
    "df = pd.DataFrame(exam_data, index=['서준', '우현', '인아'])\n",
    "print(df)"
   ]
  },
  {
   "cell_type": "code",
   "execution_count": 50,
   "id": "c3b21db1",
   "metadata": {},
   "outputs": [
    {
     "name": "stdout",
     "output_type": "stream",
     "text": [
      "    수학  영어   음악  체육\n",
      "인아  70  95  100  90\n",
      "\n",
      "    영어   음악   체육\n",
      "서준  98   85  100\n",
      "우현  89   95   90\n",
      "인아  95  100   90\n"
     ]
    }
   ],
   "source": [
    "# 행의 자료를 삭제 : 객체.drop(행인덱스 또는 배열, axis=0)\n",
    "# 열(컬럼)의 자료를 삭제 : 객체.drop(열인덱스 또는 배열, axis=1)\n",
    "# 서준와 우현의 자료를 삭제  \n",
    "print(df.drop(['서준','우현'], axis=0))\n",
    "print()\n",
    "print(df.drop('수학', axis=1))"
   ]
  },
  {
   "cell_type": "code",
   "execution_count": 56,
   "id": "55bf64e5",
   "metadata": {},
   "outputs": [
    {
     "name": "stdout",
     "output_type": "stream",
     "text": [
      "     0   1    2\n",
      "0   90  80   70\n",
      "1   98  89   95\n",
      "2   85  95  100\n",
      "3  100  90   90\n",
      "\n",
      "      0   1    2\n",
      "서준   90  80   70\n",
      "준서   98  89   95\n",
      "인아   85  95  100\n",
      "연아  100  90   90\n",
      "     국어  영어   수학\n",
      "서준   90  80   70\n",
      "준서   98  89   95\n",
      "인아   85  95  100\n",
      "연아  100  90   90\n",
      "\n",
      "     국어  영어   체육\n",
      "서준   90  80   70\n",
      "준서   98  89   95\n",
      "인아   85  95  100\n",
      "연아  100  90   90\n",
      "\n",
      "     국어   체육\n",
      "서준   90   70\n",
      "준서   98   95\n",
      "인아   85  100\n",
      "연아  100   90\n",
      "\n",
      "     국어  영어   체육\n",
      "준서   98  89   95\n",
      "인아   85  95  100\n",
      "연아  100  90   90\n"
     ]
    }
   ],
   "source": [
    "exam_data = [ [ 90, 80, 70], [ 98, 89, 95],\n",
    "             [ 85, 95, 100],  [ 100, 90, 90]]\n",
    "# exam_data 를 데이터 프레임으로 생성 \n",
    "df = pd.DataFrame(exam_data)\n",
    "print(df)\n",
    "print()\n",
    "# 인덱스명 추가 서준,준서,인아,연아\n",
    "df.index = ['서준','준서','인아','연아']\n",
    "print(df)\n",
    "# 컬럼명 추가 : 국어, 영어, 수학,\n",
    "df.columns = ['국어', '영어', '수학']\n",
    "print(df)\n",
    "# 수학 컬럼을 체육 수정해서 기존 자료에 반영\n",
    "df.rename(columns={'수학':'체육'}, inplace=True)\n",
    "print()\n",
    "print(df)\n",
    "print()\n",
    "# 영어 컬럼 자료 삭제 : 기존 자료에 반영하지 않음 , 결과만 확인\n",
    "print(df.drop('영어',axis=1))\n",
    "print()\n",
    "# 서준자료 삭제 : 기존 자료에 반영하지 않음, 결과만 확인\n",
    "print(df.drop('서준',axis=0))"
   ]
  },
  {
   "cell_type": "code",
   "execution_count": 59,
   "id": "6993bc01",
   "metadata": {},
   "outputs": [
    {
     "data": {
      "text/html": [
       "<div>\n",
       "<style scoped>\n",
       "    .dataframe tbody tr th:only-of-type {\n",
       "        vertical-align: middle;\n",
       "    }\n",
       "\n",
       "    .dataframe tbody tr th {\n",
       "        vertical-align: top;\n",
       "    }\n",
       "\n",
       "    .dataframe thead th {\n",
       "        text-align: right;\n",
       "    }\n",
       "</style>\n",
       "<table border=\"1\" class=\"dataframe\">\n",
       "  <thead>\n",
       "    <tr style=\"text-align: right;\">\n",
       "      <th></th>\n",
       "      <th>국어</th>\n",
       "      <th>영어</th>\n",
       "      <th>체육</th>\n",
       "    </tr>\n",
       "  </thead>\n",
       "  <tbody>\n",
       "    <tr>\n",
       "      <th>서준</th>\n",
       "      <td>90</td>\n",
       "      <td>80</td>\n",
       "      <td>70</td>\n",
       "    </tr>\n",
       "    <tr>\n",
       "      <th>준서</th>\n",
       "      <td>98</td>\n",
       "      <td>89</td>\n",
       "      <td>95</td>\n",
       "    </tr>\n",
       "    <tr>\n",
       "      <th>인아</th>\n",
       "      <td>85</td>\n",
       "      <td>95</td>\n",
       "      <td>100</td>\n",
       "    </tr>\n",
       "  </tbody>\n",
       "</table>\n",
       "</div>"
      ],
      "text/plain": [
       "    국어  영어   체육\n",
       "서준  90  80   70\n",
       "준서  98  89   95\n",
       "인아  85  95  100"
      ]
     },
     "execution_count": 59,
     "metadata": {},
     "output_type": "execute_result"
    }
   ],
   "source": [
    "df_copy = df\n",
    "df_copy.drop('연아',axis=0, inplace=True)\n",
    "df_copy\n",
    "             "
   ]
  },
  {
   "cell_type": "code",
   "execution_count": 61,
   "id": "7bd393ca",
   "metadata": {},
   "outputs": [
    {
     "name": "stdout",
     "output_type": "stream",
     "text": [
      "     0   1    2\n",
      "0   90  80   70\n",
      "1   98  89   95\n",
      "2   85  95  100\n",
      "3  100  90   90\n",
      "\n",
      "      0   1    2\n",
      "서준   90  80   70\n",
      "준서   98  89   95\n",
      "인아   85  95  100\n",
      "연아  100  90   90\n"
     ]
    }
   ],
   "source": [
    "exam_data = [ [ 90, 80, 70], [ 98, 89, 95],\n",
    "             [ 85, 95, 100],  [ 100, 90, 90]]\n",
    "# exam_data 를 데이터 프레임으로 생성 \n",
    "df = pd.DataFrame(exam_data)\n",
    "print(df)\n",
    "print()\n",
    "# 인덱스명 추가 서준,준서,인아,연아\n",
    "df.index = ['서준','준서','인아','연아']\n",
    "print(df)\n",
    "# 컬럼명 추가 : 국어, 영어, 수학,\n",
    "df.columns = ['국어', '영어', '수학']"
   ]
  },
  {
   "cell_type": "code",
   "execution_count": 64,
   "id": "5f8c30da",
   "metadata": {},
   "outputs": [
    {
     "name": "stdout",
     "output_type": "stream",
     "text": [
      "    국어  영어   수학\n",
      "서준  90  80   70\n",
      "준서  98  89   95\n",
      "인아  85  95  100\n",
      "\n",
      "     국어  영어   수학\n",
      "서준   90  80   70\n",
      "준서   98  89   95\n",
      "인아   85  95  100\n",
      "연아  100  90   90\n"
     ]
    }
   ],
   "source": [
    "df_copy_1 = df.copy()\n",
    "df_copy_1.drop('연아',axis=0, inplace=True)\n",
    "print(df_copy_1)\n",
    "print()\n",
    "print(df)"
   ]
  }
 ],
 "metadata": {
  "kernelspec": {
   "display_name": "Python 3 (ipykernel)",
   "language": "python",
   "name": "python3"
  },
  "language_info": {
   "codemirror_mode": {
    "name": "ipython",
    "version": 3
   },
   "file_extension": ".py",
   "mimetype": "text/x-python",
   "name": "python",
   "nbconvert_exporter": "python",
   "pygments_lexer": "ipython3",
   "version": "3.9.12"
  }
 },
 "nbformat": 4,
 "nbformat_minor": 5
}
