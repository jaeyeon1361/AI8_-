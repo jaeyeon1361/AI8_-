{
 "cells": [
  {
   "cell_type": "code",
   "execution_count": 1,
   "id": "f50fcf5f",
   "metadata": {},
   "outputs": [],
   "source": [
    "# 판다스의 자료구조 : 시리즈, 데이터프레임\n",
    "import pandas as pd"
   ]
  },
  {
   "cell_type": "code",
   "execution_count": 4,
   "id": "c13b2dbd",
   "metadata": {},
   "outputs": [
    {
     "name": "stdout",
     "output_type": "stream",
     "text": [
      "a    1\n",
      "b    2\n",
      "c    3\n",
      "dtype: int64\n",
      "<class 'pandas.core.series.Series'>\n"
     ]
    }
   ],
   "source": [
    "# 시리즈 생성  Series(딕셔너리 또는 리스트, index=[ ])\n",
    "sr = pd.Series({'a':1, 'b':2, 'c':3})\n",
    "print(sr)\n",
    "\n",
    "print(type(sr))"
   ]
  },
  {
   "cell_type": "code",
   "execution_count": 6,
   "id": "bff1063f",
   "metadata": {},
   "outputs": [
    {
     "name": "stdout",
     "output_type": "stream",
     "text": [
      "Index(['a', 'b', 'c'], dtype='object')\n",
      "[1 2 3]\n"
     ]
    }
   ],
   "source": [
    "# 시리즈의 인덱스, 값\n",
    "print(sr.index)\n",
    "print(sr.values)"
   ]
  },
  {
   "cell_type": "code",
   "execution_count": 10,
   "id": "4d1441b1",
   "metadata": {},
   "outputs": [
    {
     "name": "stdout",
     "output_type": "stream",
     "text": [
      "1 1\n",
      "\n",
      "a    1\n",
      "b    2\n",
      "c    3\n",
      "dtype: int64\n",
      "\n",
      "a    1\n",
      "b    2\n",
      "dtype: int64\n"
     ]
    }
   ],
   "source": [
    "# 시리즈를 접근하는 방법 : sr[index], sr[숫자인덱스]\n",
    "print(sr['a'], sr[0])\n",
    "print()\n",
    "print(sr['a':'c'])  # 인덱스명으로 접근시 end도 포함\n",
    "print()\n",
    "print(sr[0:2])   # 숫자 인덱스로 접근하면 end는 미포함"
   ]
  },
  {
   "cell_type": "code",
   "execution_count": 11,
   "id": "40bb7fca",
   "metadata": {},
   "outputs": [
    {
     "data": {
      "text/plain": [
       "이름              영인\n",
       "생년월일    2000-06-30\n",
       "성별               남\n",
       "학생여부          True\n",
       "dtype: object"
      ]
     },
     "execution_count": 11,
     "metadata": {},
     "output_type": "execute_result"
    }
   ],
   "source": [
    "# 리스트 또는 튜플을 시리즈로 만들면서 인덱스명 부여\n",
    "list_data = [ '영인', '2000-06-30', '남', True]\n",
    "sr1 = pd.Series(list_data, index=['이름', '생년월일','성별', '학생여부'])\n",
    "sr1"
   ]
  },
  {
   "cell_type": "code",
   "execution_count": 13,
   "id": "f7dc0ab5",
   "metadata": {},
   "outputs": [
    {
     "data": {
      "text/plain": [
       "이름              영인\n",
       "생년월일    2000-06-30\n",
       "dtype: object"
      ]
     },
     "execution_count": 13,
     "metadata": {},
     "output_type": "execute_result"
    }
   ],
   "source": [
    "sr1[ ['이름', '생년월일'] ]"
   ]
  },
  {
   "cell_type": "code",
   "execution_count": 22,
   "id": "fa32b5d1",
   "metadata": {},
   "outputs": [
    {
     "name": "stdout",
     "output_type": "stream",
     "text": [
      "object\n",
      "<class 'str'>\n"
     ]
    }
   ],
   "source": [
    "print(sr1.dtype)  # 시리즈에 저장된 데이터 타입 숫자 ->int64 문자 -> object\n",
    "print(type(sr1['이름']))"
   ]
  },
  {
   "cell_type": "code",
   "execution_count": 23,
   "id": "e2c92260",
   "metadata": {},
   "outputs": [
    {
     "name": "stdout",
     "output_type": "stream",
     "text": [
      "int64\n",
      "<class 'numpy.int64'>\n"
     ]
    }
   ],
   "source": [
    "print(sr.dtype)  # 시리즈에 저장된 데이터 타입 숫자 ->int64 문자 -> object\n",
    "print(type(sr['a']))"
   ]
  },
  {
   "cell_type": "code",
   "execution_count": null,
   "id": "042a966d",
   "metadata": {},
   "outputs": [],
   "source": [
    "#  데이터프레임 : 시리즈가 여러개 묶여서 됨\n"
   ]
  },
  {
   "cell_type": "code",
   "execution_count": null,
   "id": "da72219d",
   "metadata": {},
   "outputs": [],
   "source": []
  },
  {
   "cell_type": "code",
   "execution_count": null,
   "id": "6a96c0ab",
   "metadata": {},
   "outputs": [],
   "source": []
  },
  {
   "cell_type": "code",
   "execution_count": null,
   "id": "ef6e910e",
   "metadata": {},
   "outputs": [],
   "source": []
  },
  {
   "cell_type": "code",
   "execution_count": null,
   "id": "123d7161",
   "metadata": {},
   "outputs": [],
   "source": []
  }
 ],
 "metadata": {
  "kernelspec": {
   "display_name": "Python 3 (ipykernel)",
   "language": "python",
   "name": "python3"
  },
  "language_info": {
   "codemirror_mode": {
    "name": "ipython",
    "version": 3
   },
   "file_extension": ".py",
   "mimetype": "text/x-python",
   "name": "python",
   "nbconvert_exporter": "python",
   "pygments_lexer": "ipython3",
   "version": "3.9.12"
  }
 },
 "nbformat": 4,
 "nbformat_minor": 5
}
