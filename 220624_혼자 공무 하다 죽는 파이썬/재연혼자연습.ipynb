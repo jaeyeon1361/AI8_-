{
 "cells": [
  {
   "cell_type": "code",
   "execution_count": null,
   "id": "d6247f07",
   "metadata": {
    "scrolled": true
   },
   "outputs": [],
   "source": [
    "input_data = input(\"몇 inch 인지 적으세요 = \")\n",
    "\n",
    "inch = int(input_data)\n",
    "cm = inch * 2.54\n",
    "\n",
    "print(inch, \"inch는 cm 단위로 환산 시\", cm, \"cm 입니다\")\n",
    "# inch * 2.54"
   ]
  },
  {
   "cell_type": "code",
   "execution_count": 2,
   "id": "520c82f2",
   "metadata": {},
   "outputs": [
    {
     "name": "stdout",
     "output_type": "stream",
     "text": [
      "10\n",
      "<class 'str'>\n"
     ]
    }
   ],
   "source": [
    "string_a = \"{}\".format(10)\n",
    "\n",
    "print(string_a)\n",
    "\n",
    "print(type(string_a))"
   ]
  },
  {
   "cell_type": "code",
   "execution_count": 4,
   "id": "16797cee",
   "metadata": {},
   "outputs": [
    {
     "name": "stdout",
     "output_type": "stream",
     "text": [
      "hello world python\n",
      "HELLO WORLD PYTHON\n"
     ]
    }
   ],
   "source": [
    "a = \"HELLO WORLD PYTHON\"\n",
    "print(a.lower())\n",
    "\n",
    "b = \"hello World Python\"\n",
    "print(b.upper())"
   ]
  },
  {
   "cell_type": "code",
   "execution_count": 6,
   "id": "03560f69",
   "metadata": {},
   "outputs": [
    {
     "name": "stdout",
     "output_type": "stream",
     "text": [
      "정수 입력 = 3\n",
      "양수 입니다\n"
     ]
    }
   ],
   "source": [
    "number = input(\"정수 입력 = \")\n",
    "number = int(number)\n",
    "\n",
    "if number > 0 :\n",
    "    print (\"양수 입니다\")\n",
    "\n",
    "if number < 0 :\n",
    "    print (\"음수 입니다\")\n",
    "\n",
    "if number == 0 :\n",
    "    print (\"0 입니다\")"
   ]
  },
  {
   "cell_type": "code",
   "execution_count": 11,
   "id": "b5acc3de",
   "metadata": {},
   "outputs": [
    {
     "name": "stdout",
     "output_type": "stream",
     "text": [
      "2022-06-25 19:26:13.582982\n",
      "2022 년\n",
      "6 월\n",
      "25 일\n",
      "19 시\n",
      "26 분\n",
      "13 초\n",
      "2022년, 6월, 25일, 19시, 26분, 13초\n"
     ]
    }
   ],
   "source": [
    "import datetime\n",
    "\n",
    "now = datetime.datetime.now()\n",
    "print(now)\n",
    "\n",
    "print(now.year, \"년\")\n",
    "print(now.month, \"월\")\n",
    "print(now.day, \"일\")\n",
    "print(now.hour, \"시\")\n",
    "print(now.minute, \"분\")\n",
    "print(now.second, \"초\")\n",
    "\n",
    "print(\"{}년, {}월, {}일, {}시, {}분, {}초\".format(now.year, now.month, now.day, now.hour, now.minute, now.second))\n"
   ]
  },
  {
   "cell_type": "code",
   "execution_count": 15,
   "id": "3bc8087f",
   "metadata": {},
   "outputs": [
    {
     "name": "stdout",
     "output_type": "stream",
     "text": [
      "여름입니다.\n",
      "6월달로 계절은 여름입니다.\n"
     ]
    }
   ],
   "source": [
    "import datetime\n",
    "now = datetime.datetime.now()\n",
    "\n",
    "if 3 <= now.month <= 5 :\n",
    "    print(\"봄입니다.\")\n",
    "if 6 <= now.month <= 9 :\n",
    "    print(\"여름입니다.\")\n",
    "'if 10 <= now.month <= 12 :\n",
    "    print(\"가을입니다.\")\n",
    "if 1 <= now.month <= 2 :\n",
    "    print(\"겨울입니다.\")\n",
    "    \n",
    "print(\"{}월달로 계절은 여름입니다.\".format(now.month))"
   ]
  },
  {
   "cell_type": "code",
   "execution_count": 17,
   "id": "e78695d4",
   "metadata": {},
   "outputs": [
    {
     "name": "stdout",
     "output_type": "stream",
     "text": [
      "숫자를 입력하세요 = 3\n",
      "홀수입니다.\n",
      "입력하신 3의 뒷자리는 \n"
     ]
    }
   ],
   "source": [
    "input_data = input(\"숫자를 입력하세요 = \")\n",
    "last_chr = input_data[-1]\n",
    "\n",
    "if last_chr in \"02468\" :\n",
    "    print(\"짝수입니다.\")\n",
    "\n",
    "if last_chr in \"135679\" :\n",
    "    print(\"홀수입니다.\")\n",
    "\n",
    "print(\"입력하신 {}의 뒷자리는 {}입니다\".format(last_chr, ))"
   ]
  },
  {
   "cell_type": "code",
   "execution_count": 21,
   "id": "c08700ac",
   "metadata": {},
   "outputs": [
    {
     "name": "stdout",
     "output_type": "stream",
     "text": [
      "현재는 여름입니다.\n"
     ]
    }
   ],
   "source": [
    "import datetime\n",
    "\n",
    "now = datetime.datetime.now()\n",
    "month = now.month\n",
    "\n",
    "if 3 <= month <= 5 :\n",
    "    print(\"현재는 봄입니다.\")\n",
    "elif 6 <= month <= 8 :\n",
    "    print(\"현재는 여름입니다.\")\n",
    "elif 9 <= month <= 11 :\n",
    "    print(\"현재는 가을입니다.\")\n",
    "else :\n",
    "    print(\"현재는 겨울입니다.\")"
   ]
  },
  {
   "cell_type": "code",
   "execution_count": null,
   "id": "d0020008",
   "metadata": {},
   "outputs": [],
   "source": []
  },
  {
   "cell_type": "code",
   "execution_count": null,
   "id": "f8dae31e",
   "metadata": {},
   "outputs": [],
   "source": []
  }
 ],
 "metadata": {
  "kernelspec": {
   "display_name": "Python 3 (ipykernel)",
   "language": "python",
   "name": "python3"
  },
  "language_info": {
   "codemirror_mode": {
    "name": "ipython",
    "version": 3
   },
   "file_extension": ".py",
   "mimetype": "text/x-python",
   "name": "python",
   "nbconvert_exporter": "python",
   "pygments_lexer": "ipython3",
   "version": "3.9.12"
  }
 },
 "nbformat": 4,
 "nbformat_minor": 5
}
