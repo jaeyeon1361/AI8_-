{
 "cells": [
  {
   "cell_type": "code",
   "execution_count": null,
   "id": "96e1cfc5",
   "metadata": {},
   "outputs": [],
   "source": [
    "# 3 + 4 -> 7 계산기 프로그램 작성\n",
    "# 반복해서 작성\n",
    "# 처음 문자에 'q'가 입력되면 프로그램 종료\n",
    "# 1. 문자열 입력 -> 리스트에 저장\n",
    "# 2. 리스트에 처음 자료를 가져 옴\n",
    "# 3. 리스트의 처음 자료가 'q'이면 반복 종료\n",
    "# 4. 계속 입력 -> 리스트에 저장\n",
    "input_data= input(\"계산식을 입력하시오 = (ex: 10 + 20 )\").split()\n",
    "list_a = [1, 2, 3, 4, 5, 6, 7, 8, 9, 10]\n",
    "list_b = [1, 2, 3, 4, 5, 6, 7, 8, 9, 10]\n",
    "for a in list_a :\n",
    "    print(\"{}단\".format(a))\n"
   ]
  },
  {
   "cell_type": "code",
   "execution_count": null,
   "id": "27eaa7df",
   "metadata": {},
   "outputs": [],
   "source": [
    "list_dan = [2, 3, 4, 5, 6, 7, 8, 9]\n",
    "list_num = [1, 2, 3, 4, 5, 6 ,7 ,8 , 9]\n",
    "\n",
    "# 단을 반복해서 리스트에서 가져옴\n",
    "for dan in list_dan :\n",
    "    print(\"{}단\".format(dan))\n",
    "    카운트변수 = 0\n",
    "    for num in list_num : \n",
    "        카운트변수 += 1\n",
    "        if 카운트변수 < 3: # 3개의 공백\n",
    "            print(\"{} * {} = {}\".format(dan, num, dan * num), end='\\t') \n",
    "        # 만약 공백이 3개가 되면 \\t를 해라\n",
    "        else :\n",
    "            print(\"{} * {} = {}\".format(dan, num, dan * num))\n",
    "            카운트변수 = 0\n",
    "    print()\n",
    "            "
   ]
  },
  {
   "cell_type": "code",
   "execution_count": null,
   "id": "809cd135",
   "metadata": {},
   "outputs": [],
   "source": [
    "for items in input data:\n",
    "    if items == 'q' :\n",
    "        print(\"End\")\n",
    "        break\n",
    "        "
   ]
  }
 ],
 "metadata": {
  "kernelspec": {
   "display_name": "Python 3 (ipykernel)",
   "language": "python",
   "name": "python3"
  },
  "language_info": {
   "codemirror_mode": {
    "name": "ipython",
    "version": 3
   },
   "file_extension": ".py",
   "mimetype": "text/x-python",
   "name": "python",
   "nbconvert_exporter": "python",
   "pygments_lexer": "ipython3",
   "version": "3.9.12"
  }
 },
 "nbformat": 4,
 "nbformat_minor": 5
}
