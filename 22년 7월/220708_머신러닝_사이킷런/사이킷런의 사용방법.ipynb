{
 "cells": [
  {
   "cell_type": "code",
   "execution_count": 23,
   "id": "81769bb0",
   "metadata": {},
   "outputs": [],
   "source": [
    "bream_length = [25.4, 26.3, 26.5, 29.0, 29.0, 29.7, 29.7, 30.0, 30.0, 30.7, 31.0, 31.0, \n",
    "                31.5, 32.0, 32.0, 32.0, 33.0, 33.0, 33.5, 33.5, 34.0, 34.0, 34.5, 35.0, \n",
    "                35.0, 35.0, 35.0, 36.0, 36.0, 37.0, 38.5, 38.5, 39.5, 41.0, 41.0]\n",
    "bream_weight = [242.0, 290.0, 340.0, 363.0, 430.0, 450.0, 500.0, 390.0, 450.0, 500.0, 475.0, 500.0, \n",
    "                500.0, 340.0, 600.0, 600.0, 700.0, 700.0, 610.0, 650.0, 575.0, 685.0, 620.0, 680.0, \n",
    "                700.0, 725.0, 720.0, 714.0, 850.0, 1000.0, 920.0, 955.0, 925.0, 975.0, 950.0]"
   ]
  },
  {
   "cell_type": "code",
   "execution_count": 24,
   "id": "36558fa4",
   "metadata": {},
   "outputs": [],
   "source": [
    "import pandas as pd\n",
    "import matplotlib.pyplot as plt"
   ]
  },
  {
   "cell_type": "code",
   "execution_count": 25,
   "id": "264a9377",
   "metadata": {
    "scrolled": false
   },
   "outputs": [
    {
     "data": {
      "text/plain": [
       "Text(0, 0.5, 'weight')"
      ]
     },
     "execution_count": 25,
     "metadata": {},
     "output_type": "execute_result"
    },
    {
     "data": {
      "image/png": "[encoded data removed]",
      "text/plain": [
       "<Figure size 432x288 with 1 Axes>"
      ]
     },
     "metadata": {
      "needs_background": "light"
     },
     "output_type": "display_data"
    }
   ],
   "source": [
    "# 산점도\n",
    "plt.scatter(bream_length, bream_weight)\n",
    "plt.xlabel('length')\n",
    "plt.ylabel('weight')"
   ]
  },
  {
   "cell_type": "code",
   "execution_count": 26,
   "id": "d92e739a",
   "metadata": {},
   "outputs": [],
   "source": [
    "smelt_length = [9.8, 10.5, 10.6, 11.0, 11.2, 11.3, 11.8, 11.8, 12.0, 12.2, 12.4, 13.0, 14.3, 15.0]\n",
    "smelt_weight = [6.7, 7.5, 7.0, 9.7, 9.8, 8.7, 10.0, 9.9, 9.8, 12.2, 13.4, 12.2, 19.7, 19.9]"
   ]
  },
  {
   "cell_type": "code",
   "execution_count": 27,
   "id": "8f48dafb",
   "metadata": {},
   "outputs": [
    {
     "data": {
      "image/png": "[encoded data removed]",
      "text/plain": [
       "<Figure size 432x288 with 1 Axes>"
      ]
     },
     "metadata": {
      "needs_background": "light"
     },
     "output_type": "display_data"
    }
   ],
   "source": [
    "plt.scatter(bream_length, bream_weight)\n",
    "plt.scatter(smelt_length, smelt_weight)\n",
    "plt.xlabel('lenght')\n",
    "plt.ylabel('weight')\n",
    "plt.show()"
   ]
  },
  {
   "cell_type": "code",
   "execution_count": 28,
   "id": "6629f314",
   "metadata": {},
   "outputs": [],
   "source": [
    "length = bream_length + smelt_length\n",
    "weight = bream_weight + smelt_weight"
   ]
  },
  {
   "cell_type": "code",
   "execution_count": 29,
   "id": "cfc26fb3",
   "metadata": {},
   "outputs": [],
   "source": [
    "fish_data = [[1, w] for l, w in zip(length, weight)]"
   ]
  },
  {
   "cell_type": "code",
   "execution_count": 30,
   "id": "c0871457",
   "metadata": {
    "scrolled": true
   },
   "outputs": [
    {
     "data": {
      "text/plain": [
       "[[1, 242.0],\n",
       " [1, 290.0],\n",
       " [1, 340.0],\n",
       " [1, 363.0],\n",
       " [1, 430.0],\n",
       " [1, 450.0],\n",
       " [1, 500.0],\n",
       " [1, 390.0],\n",
       " [1, 450.0],\n",
       " [1, 500.0],\n",
       " [1, 475.0],\n",
       " [1, 500.0],\n",
       " [1, 500.0],\n",
       " [1, 340.0],\n",
       " [1, 600.0],\n",
       " [1, 600.0],\n",
       " [1, 700.0],\n",
       " [1, 700.0],\n",
       " [1, 610.0],\n",
       " [1, 650.0],\n",
       " [1, 575.0],\n",
       " [1, 685.0],\n",
       " [1, 620.0],\n",
       " [1, 680.0],\n",
       " [1, 700.0],\n",
       " [1, 725.0],\n",
       " [1, 720.0],\n",
       " [1, 714.0],\n",
       " [1, 850.0],\n",
       " [1, 1000.0],\n",
       " [1, 920.0],\n",
       " [1, 955.0],\n",
       " [1, 925.0],\n",
       " [1, 975.0],\n",
       " [1, 950.0],\n",
       " [1, 6.7],\n",
       " [1, 7.5],\n",
       " [1, 7.0],\n",
       " [1, 9.7],\n",
       " [1, 9.8],\n",
       " [1, 8.7],\n",
       " [1, 10.0],\n",
       " [1, 9.9],\n",
       " [1, 9.8],\n",
       " [1, 12.2],\n",
       " [1, 13.4],\n",
       " [1, 12.2],\n",
       " [1, 19.7],\n",
       " [1, 19.9]]"
      ]
     },
     "metadata": {},
     "output_type": "display_data"
    }
   ],
   "source": [
    "display(fish_data)"
   ]
  },
  {
   "cell_type": "code",
   "execution_count": 31,
   "id": "0cddd113",
   "metadata": {},
   "outputs": [
    {
     "name": "stdout",
     "output_type": "stream",
     "text": [
      "[1, 1, 1, 1, 1, 1, 1, 1, 1, 1, 1, 1, 1, 1, 1, 1, 1, 1, 1, 1, 1, 1, 1, 1, 1, 1, 1, 1, 1, 1, 1, 1, 1, 1, 1, 0, 0, 0, 0, 0, 0, 0, 0, 0, 0, 0, 0, 0, 0]\n"
     ]
    }
   ],
   "source": [
    "fish_target = [1]*35 + [0]*14\n",
    "print(fish_target)"
   ]
  },
  {
   "cell_type": "code",
   "execution_count": 32,
   "id": "9ddd859e",
   "metadata": {},
   "outputs": [],
   "source": [
    "# 해당 특정 클래스에서 한개의 모델을 가져옴\n",
    "# KNe 모듈은 거리에 따라 다름\n",
    "from sklearn.neighbors import KNeighborsClassifier"
   ]
  },
  {
   "cell_type": "code",
   "execution_count": 33,
   "id": "7735dead",
   "metadata": {},
   "outputs": [],
   "source": [
    "# 객체화\n",
    "kn = KNeighborsClassifier()"
   ]
  },
  {
   "cell_type": "code",
   "execution_count": 34,
   "id": "d1ae160a",
   "metadata": {},
   "outputs": [
    {
     "data": {
      "text/plain": [
       "1.0"
      ]
     },
     "execution_count": 34,
     "metadata": {},
     "output_type": "execute_result"
    }
   ],
   "source": [
    "# fit 는 학습을 진행하라는 내용 _ 1.0 = 100%\n",
    "kn.fit(fish_data, fish_target)\n",
    "kn.score(fish_data, fish_target)"
   ]
  },
  {
   "cell_type": "code",
   "execution_count": 35,
   "id": "afd6c74e",
   "metadata": {},
   "outputs": [],
   "source": [
    "# 위 모듈에 새로운 내용이 추가되면, x와 x2가 있다면, 가까운곳에 존속이됌\n",
    "# KNeighborsClassifier "
   ]
  },
  {
   "cell_type": "code",
   "execution_count": 36,
   "id": "701da7d0",
   "metadata": {},
   "outputs": [
    {
     "data": {
      "text/plain": [
       "array([1])"
      ]
     },
     "execution_count": 36,
     "metadata": {},
     "output_type": "execute_result"
    }
   ],
   "source": [
    "kn.predict([[30, 600]])\n",
    "# 길이가 30 무게가 600g 이면 도미라고 생각을 함,"
   ]
  },
  {
   "cell_type": "code",
   "execution_count": 38,
   "id": "9e4759e3",
   "metadata": {},
   "outputs": [
    {
     "data": {
      "text/plain": [
       "0.7142857142857143"
      ]
     },
     "execution_count": 38,
     "metadata": {},
     "output_type": "execute_result"
    }
   ],
   "source": [
    "kn49 = KNeighborsClassifier(n_neighbors=49)\n",
    "kn49.fit(fish_data, fish_target)\n",
    "kn49.score(fish_data, fish_target)\n",
    "# 도미의 객체가 더 많아서 71% 확률로 도미임"
   ]
  },
  {
   "cell_type": "code",
   "execution_count": null,
   "id": "94461fa8",
   "metadata": {},
   "outputs": [],
   "source": []
  },
  {
   "cell_type": "code",
   "execution_count": null,
   "id": "3d5035d7",
   "metadata": {},
   "outputs": [],
   "source": []
  },
  {
   "cell_type": "code",
   "execution_count": null,
   "id": "184e3ad2",
   "metadata": {},
   "outputs": [],
   "source": []
  },
  {
   "cell_type": "code",
   "execution_count": null,
   "id": "04c05851",
   "metadata": {},
   "outputs": [],
   "source": []
  }
 ],
 "metadata": {
  "kernelspec": {
   "display_name": "Python 3 (ipykernel)",
   "language": "python",
   "name": "python3"
  },
  "language_info": {
   "codemirror_mode": {
    "name": "ipython",
    "version": 3
   },
   "file_extension": ".py",
   "mimetype": "text/x-python",
   "name": "python",
   "nbconvert_exporter": "python",
   "pygments_lexer": "ipython3",
   "version": "3.9.12"
  }
 },
 "nbformat": 4,
 "nbformat_minor": 5
}
