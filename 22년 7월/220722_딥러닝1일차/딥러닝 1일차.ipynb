{
 "cells": [
  {
   "cell_type": "code",
   "execution_count": 7,
   "id": "5c3bd3ff",
   "metadata": {},
   "outputs": [],
   "source": [
    "from tensorflow.keras.models import Sequential\n",
    "from tensorflow.keras.layers import Dense\n",
    "import numpy as np\n",
    "import pandas as pd\n",
    "import seaborn as sns"
   ]
  },
  {
   "cell_type": "code",
   "execution_count": 9,
   "id": "fbf78671",
   "metadata": {},
   "outputs": [
    {
     "name": "stdout",
     "output_type": "stream",
     "text": [
      "[[ 1.    2.88  2.16 ...  0.   60.    0.  ]\n",
      " [ 2.    3.4   1.88 ...  0.   51.    0.  ]\n",
      " [ 2.    2.76  2.08 ...  0.   59.    0.  ]\n",
      " ...\n",
      " [ 2.    3.04  2.08 ...  0.   52.    0.  ]\n",
      " [ 2.    1.96  1.68 ...  0.   79.    0.  ]\n",
      " [ 2.    4.72  3.56 ...  0.   51.    0.  ]]\n"
     ]
    }
   ],
   "source": [
    "data_set = np.loadtxt(\"./ThoraricSurgery3.csv\", delimiter=\",\")\n",
    "print(data_set)"
   ]
  },
  {
   "cell_type": "code",
   "execution_count": 11,
   "id": "946af70d",
   "metadata": {},
   "outputs": [],
   "source": [
    "X = data_set[:,0:16]\n",
    "y = data_set[:,16]"
   ]
  },
  {
   "cell_type": "code",
   "execution_count": 13,
   "id": "fff3e13b",
   "metadata": {},
   "outputs": [],
   "source": [
    "model = Sequential()\n",
    "model.add(Dense(30, input_dim=16, activation='relu'))\n",
    "# 입력값, 가중치의 값\n",
    "# danse layer\n",
    "model.add(Dense(1, activation='sigmoid'))\n",
    "# 출력값"
   ]
  },
  {
   "cell_type": "code",
   "execution_count": 17,
   "id": "b2d933b0",
   "metadata": {},
   "outputs": [
    {
     "name": "stdout",
     "output_type": "stream",
     "text": [
      "Epoch 1/5\n",
      "30/30 [==============================] - 1s 1ms/step - loss: 2.7091 - accuracy: 0.8468\n",
      "Epoch 2/5\n",
      "30/30 [==============================] - 0s 1ms/step - loss: 0.9379 - accuracy: 0.8213\n",
      "Epoch 3/5\n",
      "30/30 [==============================] - 0s 1ms/step - loss: 0.4501 - accuracy: 0.8426\n",
      "Epoch 4/5\n",
      "30/30 [==============================] - 0s 1ms/step - loss: 0.4563 - accuracy: 0.8404\n",
      "Epoch 5/5\n",
      "30/30 [==============================] - 0s 1ms/step - loss: 0.4321 - accuracy: 0.8426\n"
     ]
    },
    {
     "data": {
      "text/plain": [
       "<keras.callbacks.History at 0x183dc56a6a0>"
      ]
     },
     "execution_count": 17,
     "metadata": {},
     "output_type": "execute_result"
    }
   ],
   "source": [
    "model.compile(loss='binary_crossentropy', optimizer='adam', metrics=['accuracy'])\n",
    "# 이진분류로 \n",
    "model.fit(X, y, epochs=5, batch_size=16)"
   ]
  },
  {
   "cell_type": "code",
   "execution_count": null,
   "id": "8c88d073",
   "metadata": {},
   "outputs": [],
   "source": []
  },
  {
   "cell_type": "code",
   "execution_count": null,
   "id": "8ea42d4c",
   "metadata": {},
   "outputs": [],
   "source": []
  },
  {
   "cell_type": "code",
   "execution_count": null,
   "id": "923a41c2",
   "metadata": {},
   "outputs": [],
   "source": []
  },
  {
   "cell_type": "code",
   "execution_count": null,
   "id": "5dcbbd58",
   "metadata": {},
   "outputs": [],
   "source": []
  }
 ],
 "metadata": {
  "kernelspec": {
   "display_name": "Python 3 (ipykernel)",
   "language": "python",
   "name": "python3"
  },
  "language_info": {
   "codemirror_mode": {
    "name": "ipython",
    "version": 3
   },
   "file_extension": ".py",
   "mimetype": "text/x-python",
   "name": "python",
   "nbconvert_exporter": "python",
   "pygments_lexer": "ipython3",
   "version": "3.9.12"
  }
 },
 "nbformat": 4,
 "nbformat_minor": 5
}
