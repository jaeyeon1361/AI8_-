{
 "cells": [
  {
   "cell_type": "code",
   "execution_count": 3,
   "id": "e671335e",
   "metadata": {},
   "outputs": [],
   "source": [
    "# numpy : 배열을 처맇기 쉽게 제공하는 모듈\n",
    "import numpy as np"
   ]
  },
  {
   "cell_type": "code",
   "execution_count": 4,
   "id": "cb5f2805",
   "metadata": {},
   "outputs": [
    {
     "name": "stdout",
     "output_type": "stream",
     "text": [
      "<class 'list'> [0, 1, 2, 3, 4, 5, 6, 7, 8, 9, 10, 11, 12, 13, 14]\n"
     ]
    }
   ],
   "source": [
    "list_a = list(range(15))\n",
    "print(type(list_a), list_a)"
   ]
  },
  {
   "cell_type": "code",
   "execution_count": 5,
   "id": "be7be395",
   "metadata": {},
   "outputs": [
    {
     "name": "stdout",
     "output_type": "stream",
     "text": [
      "<class 'numpy.ndarray'> [ 0  1  2  3  4  5  6  7  8  9 10 11 12 13 14]\n"
     ]
    }
   ],
   "source": [
    "arr = np.arange(15) # np.arange(start, stop, step)\n",
    "print(type(arr), arr)"
   ]
  },
  {
   "cell_type": "code",
   "execution_count": 11,
   "id": "32364961",
   "metadata": {},
   "outputs": [
    {
     "name": "stdout",
     "output_type": "stream",
     "text": [
      "2\n",
      "(3, 5)\n",
      "15\n",
      "int32 4\n",
      "[[ 0  1  2  3  4]\n",
      " [ 5  6  7  8  9]\n",
      " [10 11 12 13 14]]\n"
     ]
    },
    {
     "data": {
      "text/plain": [
       "array([ 0,  1,  2,  3,  4,  5,  6,  7,  8,  9, 10, 11, 12, 13, 14])"
      ]
     },
     "execution_count": 11,
     "metadata": {},
     "output_type": "execute_result"
    }
   ],
   "source": [
    "# 차원변경(array, reshape(행, 열))\n",
    "arr = arr.reshape(3, 5)\n",
    "print(arr.ndim) #차원출력\n",
    "print(arr.shape) # 배열의 형태 3, 5\n",
    "print(arr.size) # 배열의 전체 데이터개수\n",
    "print(arr.dtype.name, arr.dtype.itemsize) # 데이터 타입의 이름, 저장 사이즈\n",
    "print(arr)             # arr은 인덱스가 없을 뿐, 그래서 판다스를 이용해서 \n",
    "                      # 칼럼과 인덱스를 설정해줘야함\n",
    "arr.reshape(arr.size) # 평탄화"
   ]
  },
  {
   "cell_type": "code",
   "execution_count": 8,
   "id": "1cf61f6f",
   "metadata": {},
   "outputs": [
    {
     "name": "stdout",
     "output_type": "stream",
     "text": [
      "    0   1   2   3   4\n",
      "0   0   1   2   3   4\n",
      "1   5   6   7   8   9\n",
      "2  10  11  12  13  14\n"
     ]
    }
   ],
   "source": [
    "import pandas as pd\n",
    "df = pd.DataFrame(arr)\n",
    "print(df)"
   ]
  },
  {
   "cell_type": "code",
   "execution_count": 15,
   "id": "85ffa725",
   "metadata": {},
   "outputs": [
    {
     "name": "stdout",
     "output_type": "stream",
     "text": [
      "[ 0  1  2  3  4  5  6  7  8  9 10 11 12 13 14]\n",
      "\n",
      "[[1 2 3]\n",
      " [4 5 6]]\n"
     ]
    }
   ],
   "source": [
    "# 리스트를 array로 변경\n",
    "arr_list = np.array(list_a)\n",
    "print(arr_list)\n",
    "\n",
    "\n",
    "print()\n",
    "two_list =  np.array( [[1,2,3], [4,5,6]])\n",
    "print(two_list)"
   ]
  },
  {
   "cell_type": "code",
   "execution_count": 16,
   "id": "c04bf191",
   "metadata": {},
   "outputs": [
    {
     "name": "stdout",
     "output_type": "stream",
     "text": [
      "1 (15,) 15 int32\n",
      "2 (2, 3) 6 int32\n"
     ]
    }
   ],
   "source": [
    "# 각 array의 차원, 배열 형식, 전체 사이즈, 데잍타입 출력\n",
    "print(arr_list.ndim, arr_list.shape, arr_list.size, arr_list.dtype)\n",
    "print(two_list.ndim, two_list.shape, two_list.size, two_list.dtype)"
   ]
  },
  {
   "cell_type": "code",
   "execution_count": 22,
   "id": "33d05874",
   "metadata": {},
   "outputs": [
    {
     "name": "stdout",
     "output_type": "stream",
     "text": [
      "[[1. 0. 3. 0.]\n",
      " [3. 0. 3. 0.]\n",
      " [3. 0. 3. 0.]]\n",
      "[[0. 0. 0.]\n",
      " [0. 0. 0.]]\n"
     ]
    }
   ],
   "source": [
    "# array 생성\n",
    "a = np.empty((3, 4))  # 메모리의 공간만 할당, 값은 초기화 시키지 않음\n",
    "print(a)\n",
    "\n",
    "# 초기 값을 0으로 부여하면서 배열 생성\n",
    "a = np.zeros((2, 3))\n",
    "print(a)"
   ]
  },
  {
   "cell_type": "code",
   "execution_count": 23,
   "id": "0a50ff45",
   "metadata": {},
   "outputs": [
    {
     "name": "stdout",
     "output_type": "stream",
     "text": [
      "[[0 0 0]\n",
      " [0 0 0]]\n"
     ]
    }
   ],
   "source": [
    "# 초기 값을 0으로 부여하면서 배열 생성 => 기본적으로는 float\n",
    "a = np.zeros((2, 3), dtype= 'i') # 데이터타입을 int 로.. / 소수점 없애줌\n",
    "print(a)"
   ]
  },
  {
   "cell_type": "code",
   "execution_count": 24,
   "id": "2ed296e0",
   "metadata": {},
   "outputs": [
    {
     "name": "stdout",
     "output_type": "stream",
     "text": [
      "[['' '' '']\n",
      " ['' '' '']]\n"
     ]
    }
   ],
   "source": [
    "a = np.zeros((2, 3), dtype= 'U4') # U가 들어가면 데이터타입임\n",
    "print(a)"
   ]
  },
  {
   "cell_type": "code",
   "execution_count": 25,
   "id": "1e7a4a0b",
   "metadata": {},
   "outputs": [
    {
     "name": "stdout",
     "output_type": "stream",
     "text": [
      "[[0. 0. 0.]\n",
      " [0. 0. 0.]]\n"
     ]
    }
   ],
   "source": [
    "a = np.zeros((2, 3), dtype= 'f') # 데이터타입을 float으로\n",
    "print(a)"
   ]
  },
  {
   "cell_type": "code",
   "execution_count": 27,
   "id": "f57fe584",
   "metadata": {},
   "outputs": [
    {
     "name": "stdout",
     "output_type": "stream",
     "text": [
      "[[0 0 0]\n",
      " [0 0 0]] 8\n"
     ]
    }
   ],
   "source": [
    "a = np.zeros((2, 3), dtype= 'i8') # 데이터타입을 float으로\n",
    "print(a, a.dtype.itemsize)"
   ]
  },
  {
   "cell_type": "code",
   "execution_count": 28,
   "id": "4f4c7ad5",
   "metadata": {},
   "outputs": [
    {
     "name": "stdout",
     "output_type": "stream",
     "text": [
      "[[1. 1. 1.]\n",
      " [1. 1. 1.]]\n"
     ]
    }
   ],
   "source": [
    "# 데이터 초기 값을 1로 주면서 배열 생성\n",
    "a = np.ones((2, 3))\n",
    "print(a)"
   ]
  },
  {
   "cell_type": "code",
   "execution_count": null,
   "id": "ed4f8eff",
   "metadata": {},
   "outputs": [],
   "source": [
    "b = np.zeros_like"
   ]
  },
  {
   "cell_type": "code",
   "execution_count": 29,
   "id": "0b5e3377",
   "metadata": {},
   "outputs": [],
   "source": [
    "# array 연산\n",
    "x1 = np.array([1.0, 2.0, 3.0])\n",
    "y1 = np.array([5.0, 10.0, 15.0])\n",
    "x2 = np.array([[1.0, 2.0],[ 3.0, 4.0]]) \n",
    "y2 = np.array([[5.0,10.0],[15.0,20.0]]) \n",
    "z1 = np.array([-1.0, -2.0])\n",
    "z2 = np.array([[5.0],[10.0],[15.0]])"
   ]
  },
  {
   "cell_type": "code",
   "execution_count": 30,
   "id": "155f7821",
   "metadata": {},
   "outputs": [
    {
     "name": "stdout",
     "output_type": "stream",
     "text": [
      "[ 6. 12. 18.]\n",
      "[[ 5. 20.]\n",
      " [45. 80.]]\n"
     ]
    }
   ],
   "source": [
    "# array basic 연산\n",
    "print(x1 + y1)\n",
    "print(x2 * y2)"
   ]
  },
  {
   "cell_type": "code",
   "execution_count": 33,
   "id": "1e21d61b",
   "metadata": {},
   "outputs": [
    {
     "name": "stdout",
     "output_type": "stream",
     "text": [
      "[[ 4.  3.]\n",
      " [ 9.  8.]\n",
      " [14. 13.]]\n",
      "[1. 4. 9.]\n",
      "[False  True  True]\n"
     ]
    }
   ],
   "source": [
    "# array broadcast 연산\n",
    "print(z1 + z2)\n",
    "print(x1 ** 2)\n",
    "print(x1 >= 2) # x1이 2보다 높은 값만 출력"
   ]
  },
  {
   "cell_type": "code",
   "execution_count": 36,
   "id": "b662178a",
   "metadata": {},
   "outputs": [
    {
     "name": "stdout",
     "output_type": "stream",
     "text": [
      "[1. 2. 3. 4.]\n"
     ]
    },
    {
     "data": {
      "text/plain": [
       "array([[1., 2.],\n",
       "       [3., 4.]])"
      ]
     },
     "execution_count": 36,
     "metadata": {},
     "output_type": "execute_result"
    }
   ],
   "source": [
    "# shape\n",
    "# x2 = np.array([[1.0, 2.0], [3.0, 4.0]])\n",
    "x2.reshape(x2.size)\n",
    "x2.flatten # 1차원으로 평탄화 \n",
    "print(x2.flatten())\n",
    "\n",
    "x2.flatten().reshape(2,2)"
   ]
  },
  {
   "cell_type": "code",
   "execution_count": 37,
   "id": "1bfbfada",
   "metadata": {},
   "outputs": [
    {
     "name": "stdout",
     "output_type": "stream",
     "text": [
      "[ 0  1  4  9 16 25 36 49 64 81]\n"
     ]
    }
   ],
   "source": [
    "# indexing, slicing, iterating\n",
    "a = np.arange(10) ** 2\n",
    "print(a)"
   ]
  },
  {
   "cell_type": "code",
   "execution_count": 38,
   "id": "03986580",
   "metadata": {},
   "outputs": [
    {
     "name": "stdout",
     "output_type": "stream",
     "text": [
      "4\n",
      "[ 4  9 16]\n"
     ]
    }
   ],
   "source": [
    "# 2번쨰 자료 출력\n",
    "print(a[2])\n",
    "# 2번째에서 4번쨰까지만 출력\n",
    "print(a[ 2 :5]) # start : stop 에서 stop 포함 x"
   ]
  },
  {
   "cell_type": "code",
   "execution_count": 39,
   "id": "b88344cb",
   "metadata": {},
   "outputs": [
    {
     "name": "stdout",
     "output_type": "stream",
     "text": [
      "[ 0  4 16 36 64]\n"
     ]
    }
   ],
   "source": [
    "# 처음부터 끝까지 2칸씩 증가시키면서 출력\n",
    "print(a[ : : 2])"
   ]
  },
  {
   "cell_type": "code",
   "execution_count": 40,
   "id": "52d8b69d",
   "metadata": {},
   "outputs": [
    {
     "name": "stdout",
     "output_type": "stream",
     "text": [
      "[  0   1  -4   9 -16  25  36  49  64  81]\n"
     ]
    }
   ],
   "source": [
    "a[0 : 6 : 2] = -a[0 : 6: 2]\n",
    "print(a)"
   ]
  },
  {
   "cell_type": "code",
   "execution_count": 41,
   "id": "22693d63",
   "metadata": {},
   "outputs": [
    {
     "name": "stdout",
     "output_type": "stream",
     "text": [
      "[ 81  64  49  36  25 -16   9  -4   1   0]\n"
     ]
    }
   ],
   "source": [
    "# 뒤에서 부터 출력\n",
    "print(a[ : : -1 ])"
   ]
  },
  {
   "cell_type": "code",
   "execution_count": 43,
   "id": "b01b7172",
   "metadata": {},
   "outputs": [
    {
     "name": "stdout",
     "output_type": "stream",
     "text": [
      "0 1 -4 9 -16 25 36 49 64 81 "
     ]
    }
   ],
   "source": [
    "# for 를 사용하여 값을 출력\n",
    "for i in a :\n",
    "    print(i, end= ' ' ) # 출력하고 넘어강"
   ]
  },
  {
   "cell_type": "code",
   "execution_count": 44,
   "id": "b36d003f",
   "metadata": {},
   "outputs": [
    {
     "name": "stdout",
     "output_type": "stream",
     "text": [
      "[[ 1  2  3  4  5]\n",
      " [ 6  7  8  9 10]\n",
      " [11 12 13 14 15]\n",
      " [16 17 18 19 20]]\n"
     ]
    }
   ],
   "source": [
    "# 배열을 검색\n",
    "a = np.arange(1, 21).reshape(4,5) # np 배열을 4행 5열로 만들겠따\n",
    "print(a)"
   ]
  },
  {
   "cell_type": "code",
   "execution_count": 45,
   "id": "f0ac3cde",
   "metadata": {},
   "outputs": [
    {
     "name": "stdout",
     "output_type": "stream",
     "text": [
      "7\n"
     ]
    }
   ],
   "source": [
    "# 배열의 각 원소 검색 : array([행, 열])\n",
    "print(a[1,1]) # 1행 1열"
   ]
  },
  {
   "cell_type": "code",
   "execution_count": 48,
   "id": "c293245f",
   "metadata": {},
   "outputs": [
    {
     "name": "stdout",
     "output_type": "stream",
     "text": [
      "7\n",
      "[2 7]\n",
      "20\n",
      "[ 6  7  8  9 10]\n"
     ]
    }
   ],
   "source": [
    "print(a[1, 1]) # 1행 1열의 수\n",
    "print(a[0:2, 1]) # 0행, 1행의 1열만 검색\n",
    "print(a[-1 , -1]) # 마지막 행과 마지막 열 검색\n",
    "print(a[1, ]) # 1행의 모든 열의 자료검색\n"
   ]
  },
  {
   "cell_type": "code",
   "execution_count": 52,
   "id": "099ea74d",
   "metadata": {},
   "outputs": [
    {
     "name": "stdout",
     "output_type": "stream",
     "text": [
      "[[0 1]\n",
      " [2 3]\n",
      " [4 5]]\n"
     ]
    }
   ],
   "source": [
    "# np.ndarray(shape, buffer=)\n",
    "a = np.ndarray((3,2), buffer=np.arange(6), dtype=int)\n",
    "print(a)"
   ]
  },
  {
   "cell_type": "code",
   "execution_count": 53,
   "id": "c4d01687",
   "metadata": {},
   "outputs": [
    {
     "name": "stdout",
     "output_type": "stream",
     "text": [
      "[2 0 1 1]\n",
      "[1 3 0]\n"
     ]
    }
   ],
   "source": [
    "a = np.array([[0.1, 0.8, 0.2, 0.4],[0.3, 0.2, 0.5, 0.6], [0.9, 0.5, 0.3, 0.5]])\n",
    "print(np.argmax(a, axis=0)) # axis = 0 > x축으로 감\n",
    "print(np.argmax(a, axis=1)) # axis = 1 > y축으로 감"
   ]
  },
  {
   "cell_type": "code",
   "execution_count": 54,
   "id": "2fa82fda",
   "metadata": {},
   "outputs": [
    {
     "name": "stdout",
     "output_type": "stream",
     "text": [
      "[[0.1 0.8 0.2 0.4]\n",
      " [0.3 0.2 0.5 0.6]\n",
      " [0.9 0.5 0.3 0.5]]\n"
     ]
    }
   ],
   "source": [
    "print(a)"
   ]
  },
  {
   "cell_type": "code",
   "execution_count": 55,
   "id": "35d48599",
   "metadata": {},
   "outputs": [
    {
     "name": "stdout",
     "output_type": "stream",
     "text": [
      "26\n",
      "-24 23 4.8076923076923075 10.734628476137871 115.23224852071006\n",
      "5.0 0.0 23.0\n"
     ]
    }
   ],
   "source": [
    "x = np.array([18,   5,  10,  23,  19,  -8,  10,   0,   0,   5,   2,  15,   8,\n",
    "              2,   5,   4,  15,  -1,   4,  -7, -24,   7,   9,  -6,  23, -13])\n",
    "print(len(x))\n",
    "print(x.min(), x.max(), x.mean(), x.std(), x.var())\n",
    "print(np.median(x), np.percentile(x, 25), np.percentile(x, 100))"
   ]
  },
  {
   "cell_type": "code",
   "execution_count": 58,
   "id": "1687f82f",
   "metadata": {},
   "outputs": [
    {
     "data": {
      "text/plain": [
       "array([3, 7, 1, 9, 4, 9, 6, 1, 9, 5])"
      ]
     },
     "execution_count": 58,
     "metadata": {},
     "output_type": "execute_result"
    }
   ],
   "source": [
    "# 난수 생성\n",
    "# rand : 0 부터 1사이의 균일분포(정규분포=그래프를 그렸을때 그래프가 원만하게 올라갔다가 내려오는 그래프)로 난수 생성\n",
    "# randn : 기댓값이 0이고 표준편차가 1인 가우시간 표준 정규 분포를 따르는 난수 생성\n",
    "# randint : 균일 분포의 정수 난수\n",
    "np.random.rand(10)\n",
    "np.random.randn(10)\n",
    "np.random.randint(10, size=10)      # 10에서까지의 숫자 중에 차례대로 10개로"
   ]
  },
  {
   "cell_type": "code",
   "execution_count": 59,
   "id": "3ae5d081",
   "metadata": {},
   "outputs": [
    {
     "data": {
      "text/plain": [
       "array([[0, 4, 1, 5, 1],\n",
       "       [5, 4, 3, 2, 2]])"
      ]
     },
     "execution_count": 59,
     "metadata": {},
     "output_type": "execute_result"
    }
   ],
   "source": [
    "np.random.randint(10, size=(2,5))"
   ]
  },
  {
   "cell_type": "code",
   "execution_count": 62,
   "id": "a2f8b04c",
   "metadata": {},
   "outputs": [
    {
     "name": "stdout",
     "output_type": "stream",
     "text": [
      "[[19 14 10 11 19]\n",
      " [10 11 18 19 10]]\n"
     ]
    }
   ],
   "source": [
    "np.random.seed(10) # seed를 넣는 난수초기화, 순간 동일한 난수만 나옴\n",
    "print(np.random.randint(10, 20, size=(2,5)))"
   ]
  },
  {
   "cell_type": "code",
   "execution_count": 63,
   "id": "72c5ccee",
   "metadata": {},
   "outputs": [
    {
     "name": "stdout",
     "output_type": "stream",
     "text": [
      "[0 1 2 3 4 5 6 7 8 9]\n"
     ]
    }
   ],
   "source": [
    "x = np.arange(10) # 0~9까지의 정수 발생, 1차원 배열\n",
    "print(x)"
   ]
  },
  {
   "cell_type": "code",
   "execution_count": 66,
   "id": "7e44b5ce",
   "metadata": {},
   "outputs": [
    {
     "name": "stdout",
     "output_type": "stream",
     "text": [
      "[0 1 5 8 9 4 7 6 3 2]\n"
     ]
    }
   ],
   "source": [
    "# 자료의 위치를 바꿈 -> 계속 위치가 바뀜\n",
    "np.random.shuffle(x)\n",
    "print(x)"
   ]
  },
  {
   "cell_type": "code",
   "execution_count": 69,
   "id": "76aba5d5",
   "metadata": {},
   "outputs": [
    {
     "data": {
      "text/plain": [
       "array([3, 4, 2, 1, 0])"
      ]
     },
     "execution_count": 69,
     "metadata": {},
     "output_type": "execute_result"
    }
   ],
   "source": [
    "# 샘플링 함수 : choice 함수\n",
    "# np.random.choice(data 또는 숫자(정수), size=None, replace=True, p=None) -> None은 안써도됌\n",
    "np.random.choice(5, size=5, replace=False) # data= np.arange(5), size=5 \n",
    "# = shuffle 과 동일"
   ]
  },
  {
   "cell_type": "code",
   "execution_count": 70,
   "id": "0c4646a9",
   "metadata": {},
   "outputs": [
    {
     "data": {
      "text/plain": [
       "array([2, 4, 1])"
      ]
     },
     "execution_count": 70,
     "metadata": {},
     "output_type": "execute_result"
    }
   ],
   "source": [
    "np.random.choice(5, 3, replace=False) # 5개중 3개만 선택"
   ]
  },
  {
   "cell_type": "code",
   "execution_count": 71,
   "id": "ec4392eb",
   "metadata": {},
   "outputs": [
    {
     "data": {
      "text/plain": [
       "array([3, 4, 1, 4, 2, 0, 0, 4, 4, 0])"
      ]
     },
     "execution_count": 71,
     "metadata": {},
     "output_type": "execute_result"
    }
   ],
   "source": [
    "np.random.choice(5, 10) # 반복 허용 replace=True 가 기본값"
   ]
  },
  {
   "cell_type": "code",
   "execution_count": 80,
   "id": "2ee3b96a",
   "metadata": {},
   "outputs": [
    {
     "data": {
      "text/plain": [
       "array([3, 3, 0, 3, 3, 2, 3, 3, 2, 0])"
      ]
     },
     "execution_count": 80,
     "metadata": {},
     "output_type": "execute_result"
    }
   ],
   "source": [
    "np.random.choice(5, 10, p= [0.1, 0, 0.2, 0.5, 0.2])\n",
    "# "
   ]
  },
  {
   "cell_type": "code",
   "execution_count": 81,
   "id": "86dbaf47",
   "metadata": {},
   "outputs": [
    {
     "ename": "SyntaxError",
     "evalue": "unmatched ')' (3831310007.py, line 8)",
     "output_type": "error",
     "traceback": [
      "\u001b[1;36m  Input \u001b[1;32mIn [81]\u001b[1;36m\u001b[0m\n\u001b[1;33m    print(x[x%3==0])& (x %4 ==1))\u001b[0m\n\u001b[1;37m                                ^\u001b[0m\n\u001b[1;31mSyntaxError\u001b[0m\u001b[1;31m:\u001b[0m unmatched ')'\n"
     ]
    }
   ],
   "source": [
    "# 1 부터 20까지의 수를 가진 array 생성\n",
    "# 배열에서 3의 배수를 검색\n",
    "# 4를 나누면 1이남는 수 ㄱㅁ색\n",
    "# 3을 나누면 나누어지고 4로 나누면 1이 남는 수 검색\n",
    "x = np.arrange(1, 21)\n",
    "print(x[x%3 ==0])\n",
    "print(x[x%4==1])\n",
    "print(x[x%3==0])& (x %4 ==1))\n",
    "            \n",
    "print(x[])"
   ]
  },
  {
   "cell_type": "code",
   "execution_count": null,
   "id": "f097ee7f",
   "metadata": {},
   "outputs": [],
   "source": []
  }
 ],
 "metadata": {
  "kernelspec": {
   "display_name": "Python 3 (ipykernel)",
   "language": "python",
   "name": "python3"
  },
  "language_info": {
   "codemirror_mode": {
    "name": "ipython",
    "version": 3
   },
   "file_extension": ".py",
   "mimetype": "text/x-python",
   "name": "python",
   "nbconvert_exporter": "python",
   "pygments_lexer": "ipython3",
   "version": "3.9.12"
  }
 },
 "nbformat": 4,
 "nbformat_minor": 5
}
