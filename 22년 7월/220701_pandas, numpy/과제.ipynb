{
 "cells": [
  {
   "cell_type": "code",
   "execution_count": 1,
   "id": "d85afb33",
   "metadata": {},
   "outputs": [],
   "source": [
    "# seaborn에서 titanic 데이터 로드 후 데이터 프레임 생성\n",
    "# titanic 컬럼별 개수 확인\n",
    "# titanic 전체 기본정보 확인\n",
    "# titanic 통계정보 확인\n",
    "# 컬럼별 개수가 300미만인 컬럼과 데이터타입이 숫자 제외하고 나머지 컬럼만 추출하여 데이터 프레임 생성(df)\n",
    "# df의 기본정보\n",
    "# df 처음 5개의 정보만 출력\n",
    "# df의 age와 fare 컬럼에서 200번쨰 부터 400번쨰자료까지만 추출하여 df_1 에 저장\n",
    "# df_1의 age 칼럼을 index 컬럼으로"
   ]
  },
  {
   "cell_type": "code",
   "execution_count": 2,
   "id": "d2b2ba75",
   "metadata": {},
   "outputs": [],
   "source": [
    "import pandas as pd\n",
    "import numpy as np\n",
    "import seaborn as sns"
   ]
  },
  {
   "cell_type": "code",
   "execution_count": 8,
   "id": "7e690ad3",
   "metadata": {},
   "outputs": [
    {
     "name": "stdout",
     "output_type": "stream",
     "text": [
      "<class 'pandas.core.frame.DataFrame'>\n",
      "RangeIndex: 891 entries, 0 to 890\n",
      "Data columns (total 15 columns):\n",
      " #   Column       Non-Null Count  Dtype   \n",
      "---  ------       --------------  -----   \n",
      " 0   survived     891 non-null    int64   \n",
      " 1   pclass       891 non-null    int64   \n",
      " 2   sex          891 non-null    object  \n",
      " 3   age          714 non-null    float64 \n",
      " 4   sibsp        891 non-null    int64   \n",
      " 5   parch        891 non-null    int64   \n",
      " 6   fare         891 non-null    float64 \n",
      " 7   embarked     889 non-null    object  \n",
      " 8   class        891 non-null    category\n",
      " 9   who          891 non-null    object  \n",
      " 10  adult_male   891 non-null    bool    \n",
      " 11  deck         203 non-null    category\n",
      " 12  embark_town  889 non-null    object  \n",
      " 13  alive        891 non-null    object  \n",
      " 14  alone        891 non-null    bool    \n",
      "dtypes: bool(2), category(2), float64(2), int64(4), object(5)\n",
      "memory usage: 80.7+ KB\n"
     ]
    }
   ],
   "source": [
    "# seaborn에서 titanic 데이터 로드 후 데이터 프레임 생성 및 기본정보 확인\n",
    "df_titanic = sns.load_dataset('titanic')\n",
    "df_titanic.info()"
   ]
  },
  {
   "cell_type": "code",
   "execution_count": 5,
   "id": "a1c239bc",
   "metadata": {},
   "outputs": [
    {
     "data": {
      "text/plain": [
       "survived       891\n",
       "pclass         891\n",
       "sex            891\n",
       "age            714\n",
       "sibsp          891\n",
       "parch          891\n",
       "fare           891\n",
       "embarked       889\n",
       "class          891\n",
       "who            891\n",
       "adult_male     891\n",
       "deck           203\n",
       "embark_town    889\n",
       "alive          891\n",
       "alone          891\n",
       "dtype: int64"
      ]
     },
     "execution_count": 5,
     "metadata": {},
     "output_type": "execute_result"
    }
   ],
   "source": [
    "# titanic 컬럼별 개수 확인\n",
    "df_titanic.count()"
   ]
  },
  {
   "cell_type": "code",
   "execution_count": 9,
   "id": "7f0498c1",
   "metadata": {
    "scrolled": true
   },
   "outputs": [
    {
     "data": {
      "text/html": [
       "<div>\n",
       "<style scoped>\n",
       "    .dataframe tbody tr th:only-of-type {\n",
       "        vertical-align: middle;\n",
       "    }\n",
       "\n",
       "    .dataframe tbody tr th {\n",
       "        vertical-align: top;\n",
       "    }\n",
       "\n",
       "    .dataframe thead th {\n",
       "        text-align: right;\n",
       "    }\n",
       "</style>\n",
       "<table border=\"1\" class=\"dataframe\">\n",
       "  <thead>\n",
       "    <tr style=\"text-align: right;\">\n",
       "      <th></th>\n",
       "      <th>survived</th>\n",
       "      <th>pclass</th>\n",
       "      <th>age</th>\n",
       "      <th>sibsp</th>\n",
       "      <th>parch</th>\n",
       "      <th>fare</th>\n",
       "    </tr>\n",
       "  </thead>\n",
       "  <tbody>\n",
       "    <tr>\n",
       "      <th>count</th>\n",
       "      <td>891.000000</td>\n",
       "      <td>891.000000</td>\n",
       "      <td>714.000000</td>\n",
       "      <td>891.000000</td>\n",
       "      <td>891.000000</td>\n",
       "      <td>891.000000</td>\n",
       "    </tr>\n",
       "    <tr>\n",
       "      <th>mean</th>\n",
       "      <td>0.383838</td>\n",
       "      <td>2.308642</td>\n",
       "      <td>29.699118</td>\n",
       "      <td>0.523008</td>\n",
       "      <td>0.381594</td>\n",
       "      <td>32.204208</td>\n",
       "    </tr>\n",
       "    <tr>\n",
       "      <th>std</th>\n",
       "      <td>0.486592</td>\n",
       "      <td>0.836071</td>\n",
       "      <td>14.526497</td>\n",
       "      <td>1.102743</td>\n",
       "      <td>0.806057</td>\n",
       "      <td>49.693429</td>\n",
       "    </tr>\n",
       "    <tr>\n",
       "      <th>min</th>\n",
       "      <td>0.000000</td>\n",
       "      <td>1.000000</td>\n",
       "      <td>0.420000</td>\n",
       "      <td>0.000000</td>\n",
       "      <td>0.000000</td>\n",
       "      <td>0.000000</td>\n",
       "    </tr>\n",
       "    <tr>\n",
       "      <th>25%</th>\n",
       "      <td>0.000000</td>\n",
       "      <td>2.000000</td>\n",
       "      <td>20.125000</td>\n",
       "      <td>0.000000</td>\n",
       "      <td>0.000000</td>\n",
       "      <td>7.910400</td>\n",
       "    </tr>\n",
       "    <tr>\n",
       "      <th>50%</th>\n",
       "      <td>0.000000</td>\n",
       "      <td>3.000000</td>\n",
       "      <td>28.000000</td>\n",
       "      <td>0.000000</td>\n",
       "      <td>0.000000</td>\n",
       "      <td>14.454200</td>\n",
       "    </tr>\n",
       "    <tr>\n",
       "      <th>75%</th>\n",
       "      <td>1.000000</td>\n",
       "      <td>3.000000</td>\n",
       "      <td>38.000000</td>\n",
       "      <td>1.000000</td>\n",
       "      <td>0.000000</td>\n",
       "      <td>31.000000</td>\n",
       "    </tr>\n",
       "    <tr>\n",
       "      <th>max</th>\n",
       "      <td>1.000000</td>\n",
       "      <td>3.000000</td>\n",
       "      <td>80.000000</td>\n",
       "      <td>8.000000</td>\n",
       "      <td>6.000000</td>\n",
       "      <td>512.329200</td>\n",
       "    </tr>\n",
       "  </tbody>\n",
       "</table>\n",
       "</div>"
      ],
      "text/plain": [
       "         survived      pclass         age       sibsp       parch        fare\n",
       "count  891.000000  891.000000  714.000000  891.000000  891.000000  891.000000\n",
       "mean     0.383838    2.308642   29.699118    0.523008    0.381594   32.204208\n",
       "std      0.486592    0.836071   14.526497    1.102743    0.806057   49.693429\n",
       "min      0.000000    1.000000    0.420000    0.000000    0.000000    0.000000\n",
       "25%      0.000000    2.000000   20.125000    0.000000    0.000000    7.910400\n",
       "50%      0.000000    3.000000   28.000000    0.000000    0.000000   14.454200\n",
       "75%      1.000000    3.000000   38.000000    1.000000    0.000000   31.000000\n",
       "max      1.000000    3.000000   80.000000    8.000000    6.000000  512.329200"
      ]
     },
     "execution_count": 9,
     "metadata": {},
     "output_type": "execute_result"
    }
   ],
   "source": [
    "# titanic 통계정보 확인\n",
    "df_titanic.describe()"
   ]
  },
  {
   "cell_type": "code",
   "execution_count": 53,
   "id": "a65a9944",
   "metadata": {},
   "outputs": [
    {
     "name": "stdout",
     "output_type": "stream",
     "text": [
      "     survived  pclass     sex   age  sibsp  parch     fare embarked   class  \\\n",
      "0           0       3    male  22.0      1      0   7.2500        S   Third   \n",
      "1           1       1  female  38.0      1      0  71.2833        C   First   \n",
      "2           1       3  female  26.0      0      0   7.9250        S   Third   \n",
      "3           1       1  female  35.0      1      0  53.1000        S   First   \n",
      "4           0       3    male  35.0      0      0   8.0500        S   Third   \n",
      "..        ...     ...     ...   ...    ...    ...      ...      ...     ...   \n",
      "886         0       2    male  27.0      0      0  13.0000        S  Second   \n",
      "887         1       1  female  19.0      0      0  30.0000        S   First   \n",
      "888         0       3  female   NaN      1      2  23.4500        S   Third   \n",
      "889         1       1    male  26.0      0      0  30.0000        C   First   \n",
      "890         0       3    male  32.0      0      0   7.7500        Q   Third   \n",
      "\n",
      "       who  adult_male  embark_town alive  alone  \n",
      "0      man        True  Southampton    no  False  \n",
      "1    woman       False    Cherbourg   yes  False  \n",
      "2    woman       False  Southampton   yes   True  \n",
      "3    woman       False  Southampton   yes  False  \n",
      "4      man        True  Southampton    no   True  \n",
      "..     ...         ...          ...   ...    ...  \n",
      "886    man        True  Southampton    no   True  \n",
      "887  woman       False  Southampton   yes   True  \n",
      "888  woman       False  Southampton    no  False  \n",
      "889    man        True    Cherbourg   yes   True  \n",
      "890    man        True   Queenstown    no   True  \n",
      "\n",
      "[891 rows x 14 columns]\n",
      "     survived  pclass     sex   age  sibsp  parch     fare embarked   class  \\\n",
      "0           0       3    male  22.0      1      0   7.2500        S   Third   \n",
      "1           1       1  female  38.0      1      0  71.2833        C   First   \n",
      "2           1       3  female  26.0      0      0   7.9250        S   Third   \n",
      "3           1       1  female  35.0      1      0  53.1000        S   First   \n",
      "4           0       3    male  35.0      0      0   8.0500        S   Third   \n",
      "..        ...     ...     ...   ...    ...    ...      ...      ...     ...   \n",
      "886         0       2    male  27.0      0      0  13.0000        S  Second   \n",
      "887         1       1  female  19.0      0      0  30.0000        S   First   \n",
      "888         0       3  female   NaN      1      2  23.4500        S   Third   \n",
      "889         1       1    male  26.0      0      0  30.0000        C   First   \n",
      "890         0       3    male  32.0      0      0   7.7500        Q   Third   \n",
      "\n",
      "       who  adult_male  embark_town alive  alone  \n",
      "0      man        True  Southampton    no  False  \n",
      "1    woman       False    Cherbourg   yes  False  \n",
      "2    woman       False  Southampton   yes   True  \n",
      "3    woman       False  Southampton   yes  False  \n",
      "4      man        True  Southampton    no   True  \n",
      "..     ...         ...          ...   ...    ...  \n",
      "886    man        True  Southampton    no   True  \n",
      "887  woman       False  Southampton   yes   True  \n",
      "888  woman       False  Southampton    no  False  \n",
      "889    man        True    Cherbourg   yes   True  \n",
      "890    man        True   Queenstown    no   True  \n",
      "\n",
      "[891 rows x 14 columns]\n"
     ]
    }
   ],
   "source": [
    "# 컬럼별 개수가 300미만인 컬럼과 데이터타입이 숫자 제외하고 나머지 컬럼만 추출하여 데이터 프레임 생성(df)\n",
    "cnt = df_titanic.count()\n",
    "col_list = cnt[ cnt > 300].index\n",
    "df = df_titanic.loc[ : ,col_list]\n",
    "print(df)\n",
    "dtype_list = df.dtypes\n",
    "print(df)"
   ]
  },
  {
   "cell_type": "code",
   "execution_count": 64,
   "id": "246e9f8c",
   "metadata": {},
   "outputs": [
    {
     "name": "stdout",
     "output_type": "stream",
     "text": [
      "     survived  pclass   age  sibsp  parch     fare\n",
      "0           0       3  22.0      1      0   7.2500\n",
      "1           1       1  38.0      1      0  71.2833\n",
      "2           1       3  26.0      0      0   7.9250\n",
      "3           1       1  35.0      1      0  53.1000\n",
      "4           0       3  35.0      0      0   8.0500\n",
      "..        ...     ...   ...    ...    ...      ...\n",
      "886         0       2  27.0      0      0  13.0000\n",
      "887         1       1  19.0      0      0  30.0000\n",
      "888         0       3   NaN      1      2  23.4500\n",
      "889         1       1  26.0      0      0  30.0000\n",
      "890         0       3  32.0      0      0   7.7500\n",
      "\n",
      "[891 rows x 6 columns]\n"
     ]
    }
   ],
   "source": [
    "df = df.loc[ : , (dtype_list == 'int64') | (dtype_list == 'float64')]\n",
    "print(df)"
   ]
  },
  {
   "cell_type": "code",
   "execution_count": 65,
   "id": "8b91cc2b",
   "metadata": {},
   "outputs": [
    {
     "name": "stdout",
     "output_type": "stream",
     "text": [
      "<class 'pandas.core.frame.DataFrame'>\n",
      "RangeIndex: 891 entries, 0 to 890\n",
      "Data columns (total 6 columns):\n",
      " #   Column    Non-Null Count  Dtype  \n",
      "---  ------    --------------  -----  \n",
      " 0   survived  891 non-null    int64  \n",
      " 1   pclass    891 non-null    int64  \n",
      " 2   age       714 non-null    float64\n",
      " 3   sibsp     891 non-null    int64  \n",
      " 4   parch     891 non-null    int64  \n",
      " 5   fare      891 non-null    float64\n",
      "dtypes: float64(2), int64(4)\n",
      "memory usage: 41.9 KB\n"
     ]
    }
   ],
   "source": [
    "# df의 기본정보\n",
    "df.info()"
   ]
  },
  {
   "cell_type": "code",
   "execution_count": 66,
   "id": "ad28a0c8",
   "metadata": {},
   "outputs": [
    {
     "name": "stdout",
     "output_type": "stream",
     "text": [
      "   survived  pclass   age  sibsp  parch     fare\n",
      "0         0       3  22.0      1      0   7.2500\n",
      "1         1       1  38.0      1      0  71.2833\n",
      "2         1       3  26.0      0      0   7.9250\n",
      "3         1       1  35.0      1      0  53.1000\n",
      "4         0       3  35.0      0      0   8.0500\n"
     ]
    }
   ],
   "source": [
    "# df 처음 5개의 정보만 출력\n",
    "print(df.head())"
   ]
  },
  {
   "cell_type": "code",
   "execution_count": 77,
   "id": "a7e5370c",
   "metadata": {},
   "outputs": [
    {
     "name": "stdout",
     "output_type": "stream",
     "text": [
      "      age     fare\n",
      "200  28.0   9.5000\n",
      "201   NaN  69.5500\n",
      "202  34.0   6.4958\n",
      "203  45.5   7.2250\n",
      "204  18.0   8.0500\n",
      "..    ...      ...\n",
      "396  31.0   7.8542\n",
      "397  46.0  26.0000\n",
      "398  23.0  10.5000\n",
      "399  28.0  12.6500\n",
      "400  39.0   7.9250\n",
      "\n",
      "[201 rows x 2 columns]\n"
     ]
    }
   ],
   "source": [
    "# df의 age와 fare 컬럼에서 200번쨰 부터 400번쨰자료까지만 추출하여 df_1 에 저장\n",
    "df_1 = df.loc[200 : 400 , ['age', 'fare']]\n",
    "print(df_1)"
   ]
  },
  {
   "cell_type": "code",
   "execution_count": 82,
   "id": "9a70e3d3",
   "metadata": {},
   "outputs": [
    {
     "name": "stdout",
     "output_type": "stream",
     "text": [
      "      age     fare\n",
      "200  28.0   9.5000\n",
      "201   NaN  69.5500\n",
      "202  34.0   6.4958\n",
      "203  45.5   7.2250\n",
      "204  18.0   8.0500\n",
      "..    ...      ...\n",
      "396  31.0   7.8542\n",
      "397  46.0  26.0000\n",
      "398  23.0  10.5000\n",
      "399  28.0  12.6500\n",
      "400  39.0   7.9250\n",
      "\n",
      "[201 rows x 2 columns]\n"
     ]
    }
   ],
   "source": [
    "# df_1의 age 칼럼을 index 컬럼으로\n",
    "df_1.set_index = ['age', 'fare']\n",
    "print(df_1)"
   ]
  },
  {
   "cell_type": "code",
   "execution_count": null,
   "id": "43240ab9",
   "metadata": {},
   "outputs": [],
   "source": []
  }
 ],
 "metadata": {
  "kernelspec": {
   "display_name": "Python 3 (ipykernel)",
   "language": "python",
   "name": "python3"
  },
  "language_info": {
   "codemirror_mode": {
    "name": "ipython",
    "version": 3
   },
   "file_extension": ".py",
   "mimetype": "text/x-python",
   "name": "python",
   "nbconvert_exporter": "python",
   "pygments_lexer": "ipython3",
   "version": "3.9.12"
  }
 },
 "nbformat": 4,
 "nbformat_minor": 5
}
