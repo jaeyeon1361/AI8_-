{
 "cells": [
  {
   "cell_type": "code",
   "execution_count": 1,
   "id": "8fb29a17",
   "metadata": {},
   "outputs": [
    {
     "name": "stdout",
     "output_type": "stream",
     "text": [
      "\n",
      " 원문 :\n",
      " 해보지 않으면 해낼 수 없다\n",
      "\n",
      " 토큰화 :\n",
      " ['해보지', '않으면', '해낼', '수', '없다']\n"
     ]
    }
   ],
   "source": [
    "from tensorflow.keras.preprocessing.text import text_to_word_sequence, Tokenizer\n",
    "from tensorflow.keras.utils import to_categorical\n",
    "from tensorflow.keras.layers import Dense, Flatten, Embedding\n",
    "from tensorflow.keras.models import Sequential        \n",
    "from tensorflow.keras.preprocessing.sequence import pad_sequences\n",
    "\n",
    "text = '해보지 않으면 해낼 수 없다'\n",
    "\n",
    "result = text_to_word_sequence(text)\n",
    "print(\"\\n 원문 :\\n\", text)\n",
    "print(\"\\n 토큰화 :\\n\", result)"
   ]
  },
  {
   "cell_type": "code",
   "execution_count": 2,
   "id": "5bbcc15c",
   "metadata": {},
   "outputs": [],
   "source": [
    "docs = ['먼저 텍스트의 각 단어를 나누어 토큰화합니다.',\n",
    "       '텍스트의 단어로 토큰화해야 딥러닝에서 인식됩니다.',\n",
    "       '토큰화한 결과는 딥러닝에서 사용할 수 있습니다.']"
   ]
  },
  {
   "cell_type": "code",
   "execution_count": 3,
   "id": "73a06b66",
   "metadata": {},
   "outputs": [
    {
     "name": "stdout",
     "output_type": "stream",
     "text": [
      "\n",
      " 단어 카운트 :\n",
      " OrderedDict([('먼저', 1), ('텍스트의', 2), ('각', 1), ('단어를', 1), ('나누어', 1), ('토큰화합니다', 1), ('단어로', 1), ('토큰화해야', 1), ('딥러닝에서', 2), ('인식됩니다', 1), ('토큰화한', 1), ('결과는', 1), ('사용할', 1), ('수', 1), ('있습니다', 1)])\n"
     ]
    }
   ],
   "source": [
    "# 토큰화 함수 지정 후 단어의 빈도수를 계산진행 \n",
    "token = Tokenizer()\n",
    "token.fit_on_texts(docs)\n",
    "print(\"\\n 단어 카운트 :\\n\", token.word_counts)"
   ]
  },
  {
   "cell_type": "code",
   "execution_count": 4,
   "id": "a1063d72",
   "metadata": {},
   "outputs": [
    {
     "name": "stdout",
     "output_type": "stream",
     "text": [
      "\n",
      " 문장 카운트 :\n",
      " 3\n"
     ]
    }
   ],
   "source": [
    "print(\"\\n 문장 카운트 :\\n\", token.document_count)"
   ]
  },
  {
   "cell_type": "code",
   "execution_count": 5,
   "id": "f94a6bf7",
   "metadata": {},
   "outputs": [
    {
     "name": "stdout",
     "output_type": "stream",
     "text": [
      "각 단어가 몇 개의 문장에 포함되어 있는가: defaultdict(<class 'int'>, {'먼저': 1, '각': 1, '단어를': 1, '나누어': 1, '토큰화합니다': 1, '텍스트의': 2, '토큰화해야': 1, '인식됩니다': 1, '단어로': 1, '딥러닝에서': 2, '사용할': 1, '수': 1, '토큰화한': 1, '결과는': 1, '있습니다': 1})\n"
     ]
    }
   ],
   "source": [
    "print(\"각 단어가 몇 개의 문장에 포함되어 있는가:\", token.word_docs)"
   ]
  },
  {
   "cell_type": "code",
   "execution_count": 6,
   "id": "2d9e093c",
   "metadata": {},
   "outputs": [
    {
     "data": {
      "text/plain": [
       "'각 단어에 매겨진 인덱스 값: '"
      ]
     },
     "metadata": {},
     "output_type": "display_data"
    },
    {
     "data": {
      "text/plain": [
       "{'텍스트의': 1,\n",
       " '딥러닝에서': 2,\n",
       " '먼저': 3,\n",
       " '각': 4,\n",
       " '단어를': 5,\n",
       " '나누어': 6,\n",
       " '토큰화합니다': 7,\n",
       " '단어로': 8,\n",
       " '토큰화해야': 9,\n",
       " '인식됩니다': 10,\n",
       " '토큰화한': 11,\n",
       " '결과는': 12,\n",
       " '사용할': 13,\n",
       " '수': 14,\n",
       " '있습니다': 15}"
      ]
     },
     "metadata": {},
     "output_type": "display_data"
    }
   ],
   "source": [
    "display(\"각 단어에 매겨진 인덱스 값: \", token.word_index)"
   ]
  },
  {
   "cell_type": "code",
   "execution_count": 7,
   "id": "37162b48",
   "metadata": {},
   "outputs": [
    {
     "name": "stdout",
     "output_type": "stream",
     "text": [
      "{'오랫동안': 1, '꿈꾸는': 2, '이는': 3, '그': 4, '꿈을': 5, '닮아간다': 6}\n"
     ]
    }
   ],
   "source": [
    "# 단어의 원-핫 인코딩 _ 단어를 모두 0으로 바꾸고 원하는 단어만 1로 바꾸어 줌\n",
    "text = \"오랫동안 꿈꾸는 이는 그 꿈을 닮아간다\"\n",
    "\n",
    "token = Tokenizer()\n",
    "token.fit_on_texts([text])\n",
    "print(token.word_index)"
   ]
  },
  {
   "cell_type": "code",
   "execution_count": 8,
   "id": "8a612cd3",
   "metadata": {},
   "outputs": [
    {
     "name": "stdout",
     "output_type": "stream",
     "text": [
      "[[1, 2, 3, 4, 5, 6]]\n"
     ]
    }
   ],
   "source": [
    "x = token.texts_to_sequences([text])\n",
    "print(x)"
   ]
  },
  {
   "cell_type": "code",
   "execution_count": 9,
   "id": "6e20c825",
   "metadata": {},
   "outputs": [
    {
     "name": "stdout",
     "output_type": "stream",
     "text": [
      "[[[0. 1. 0. 0. 0. 0. 0.]\n",
      "  [0. 0. 1. 0. 0. 0. 0.]\n",
      "  [0. 0. 0. 1. 0. 0. 0.]\n",
      "  [0. 0. 0. 0. 1. 0. 0.]\n",
      "  [0. 0. 0. 0. 0. 1. 0.]\n",
      "  [0. 0. 0. 0. 0. 0. 1.]]]\n"
     ]
    }
   ],
   "source": [
    "# 위 text를 벡터화 진행 (자세한건 책 참고 247p)\n",
    "word_size = len(token.word_index) + 1\n",
    "x = to_categorical(x, num_classes=word_size)\n",
    "\n",
    "print(x)"
   ]
  },
  {
   "cell_type": "code",
   "execution_count": 10,
   "id": "f3e8e367",
   "metadata": {},
   "outputs": [],
   "source": [
    "#[[[0. 1. 0. 0. 0. 0. 0.] 오랫동안\n",
    "#  [0. 0. 1. 0. 0. 0. 0.] 꿈꾸는\n",
    "#  [0. 0. 0. 1. 0. 0. 0.] 이는\n",
    "#  [0. 0. 0. 0. 1. 0. 0.] 그\n",
    "#  [0. 0. 0. 0. 0. 1. 0.] 꿈을\n",
    "#  [0. 0. 0. 0. 0. 0. 1.]]] 닮아간다"
   ]
  },
  {
   "cell_type": "code",
   "execution_count": 11,
   "id": "da8c6a90",
   "metadata": {},
   "outputs": [],
   "source": [
    "# 단어 임배딩(word embedding)\n",
    "\n",
    "\n",
    "model = Sequential()\n",
    "# 입력될 총 단어수, 출력되는 벡터 크기\n",
    "model.add(Embedding(16,4))"
   ]
  },
  {
   "cell_type": "code",
   "execution_count": 28,
   "id": "2f17d067",
   "metadata": {},
   "outputs": [],
   "source": [
    "from numpy import array\n",
    "docs = [\"너무 재밌네요\",\"최고예요\",\"참 잘 만든 영화예요\",\"추천하고 싶은 영화입니다\",\n",
    "        \"한번 더 보고싶네요\",\"글쎄요\",\"별로예요\",\"생각보다 지루하네요\",\"연기가 어색해요\",\"재미없어요\"]\n",
    "\n",
    "classes = array([1,1,1,1,1,0,0,0,0,0])"
   ]
  },
  {
   "cell_type": "code",
   "execution_count": 29,
   "id": "f0d570f3",
   "metadata": {},
   "outputs": [
    {
     "name": "stdout",
     "output_type": "stream",
     "text": [
      "{'너무': 1, '재밌네요': 2, '최고예요': 3, '참': 4, '잘': 5, '만든': 6, '영화예요': 7, '추천하고': 8, '싶은': 9, '영화입니다': 10, '한번': 11, '더': 12, '보고싶네요': 13, '글쎄요': 14, '별로예요': 15, '생각보다': 16, '지루하네요': 17, '연기가': 18, '어색해요': 19, '재미없어요': 20}\n"
     ]
    }
   ],
   "source": [
    "token = Tokenizer()\n",
    "token.fit_on_texts(docs)\n",
    "print(token.word_index)"
   ]
  },
  {
   "cell_type": "code",
   "execution_count": 30,
   "id": "8eddf764",
   "metadata": {},
   "outputs": [
    {
     "name": "stdout",
     "output_type": "stream",
     "text": [
      "리뷰텍스트의 토큰화 결과 : [[1, 2], [3], [4, 5, 6, 7], [8, 9, 10], [11, 12, 13], [14], [15], [16, 17], [18, 19], [20]]\n"
     ]
    }
   ],
   "source": [
    "x = token.texts_to_sequences(docs)\n",
    "print(\"리뷰텍스트의 토큰화 결과 :\", x)"
   ]
  },
  {
   "cell_type": "code",
   "execution_count": 31,
   "id": "3706bf4f",
   "metadata": {},
   "outputs": [
    {
     "name": "stdout",
     "output_type": "stream",
     "text": [
      "\n",
      "패딩 결과:\n",
      " [[ 0  0  1  2]\n",
      " [ 0  0  0  3]\n",
      " [ 4  5  6  7]\n",
      " [ 0  8  9 10]\n",
      " [ 0 11 12 13]\n",
      " [ 0  0  0 14]\n",
      " [ 0  0  0 15]\n",
      " [ 0  0 16 17]\n",
      " [ 0  0 18 19]\n",
      " [ 0  0  0 20]]\n"
     ]
    }
   ],
   "source": [
    "padded_x = pad_sequences(x, 4)  \n",
    "print(\"\\n패딩 결과:\\n\", padded_x)"
   ]
  },
  {
   "cell_type": "code",
   "execution_count": 32,
   "id": "8503c527",
   "metadata": {},
   "outputs": [],
   "source": [
    "word_size = len(token.word_index) + 1"
   ]
  },
  {
   "cell_type": "code",
   "execution_count": 33,
   "id": "87f95d2b",
   "metadata": {},
   "outputs": [
    {
     "name": "stdout",
     "output_type": "stream",
     "text": [
      "Model: \"sequential_5\"\n",
      "_________________________________________________________________\n",
      " Layer (type)                Output Shape              Param #   \n",
      "=================================================================\n",
      " embedding_6 (Embedding)     (None, 4, 8)              168       \n",
      "                                                                 \n",
      " flatten_4 (Flatten)         (None, 32)                0         \n",
      "                                                                 \n",
      " dense_4 (Dense)             (None, 1)                 33        \n",
      "                                                                 \n",
      "=================================================================\n",
      "Total params: 201\n",
      "Trainable params: 201\n",
      "Non-trainable params: 0\n",
      "_________________________________________________________________\n"
     ]
    }
   ],
   "source": [
    "# 임베딩에 입력될 단어의 수를 지정합니다.\n",
    "word_size = len(token.word_index) +1\n",
    "\n",
    "# 단어 임베딩을 포함하여 딥러닝 모델을 만들고 결과를 출력합니다.\n",
    "model = Sequential()\n",
    "model.add(Embedding(word_size, 8, input_length=4))\n",
    "model.add(Flatten())\n",
    "model.add(Dense(1, activation='sigmoid'))\n",
    "model.summary()"
   ]
  },
  {
   "cell_type": "code",
   "execution_count": 34,
   "id": "16e33fe1",
   "metadata": {},
   "outputs": [
    {
     "name": "stdout",
     "output_type": "stream",
     "text": [
      "Epoch 1/20\n",
      "1/1 [==============================] - 1s 691ms/step - loss: 0.7053 - accuracy: 0.3000\n",
      "Epoch 2/20\n",
      "1/1 [==============================] - 0s 3ms/step - loss: 0.7027 - accuracy: 0.3000\n",
      "Epoch 3/20\n",
      "1/1 [==============================] - 0s 5ms/step - loss: 0.7001 - accuracy: 0.4000\n",
      "Epoch 4/20\n",
      "1/1 [==============================] - 0s 4ms/step - loss: 0.6975 - accuracy: 0.4000\n",
      "Epoch 5/20\n",
      "1/1 [==============================] - 0s 4ms/step - loss: 0.6950 - accuracy: 0.4000\n",
      "Epoch 6/20\n",
      "1/1 [==============================] - 0s 3ms/step - loss: 0.6924 - accuracy: 0.4000\n",
      "Epoch 7/20\n",
      "1/1 [==============================] - 0s 7ms/step - loss: 0.6899 - accuracy: 0.4000\n",
      "Epoch 8/20\n",
      "1/1 [==============================] - 0s 5ms/step - loss: 0.6874 - accuracy: 0.4000\n",
      "Epoch 9/20\n",
      "1/1 [==============================] - 0s 7ms/step - loss: 0.6849 - accuracy: 0.7000\n",
      "Epoch 10/20\n",
      "1/1 [==============================] - 0s 5ms/step - loss: 0.6823 - accuracy: 0.8000\n",
      "Epoch 11/20\n",
      "1/1 [==============================] - 0s 6ms/step - loss: 0.6798 - accuracy: 0.8000\n",
      "Epoch 12/20\n",
      "1/1 [==============================] - 0s 3ms/step - loss: 0.6773 - accuracy: 0.9000\n",
      "Epoch 13/20\n",
      "1/1 [==============================] - 0s 6ms/step - loss: 0.6748 - accuracy: 0.9000\n",
      "Epoch 14/20\n",
      "1/1 [==============================] - 0s 6ms/step - loss: 0.6723 - accuracy: 0.9000\n",
      "Epoch 15/20\n",
      "1/1 [==============================] - 0s 8ms/step - loss: 0.6698 - accuracy: 0.9000\n",
      "Epoch 16/20\n",
      "1/1 [==============================] - 0s 5ms/step - loss: 0.6673 - accuracy: 0.9000\n",
      "Epoch 17/20\n",
      "1/1 [==============================] - 0s 8ms/step - loss: 0.6648 - accuracy: 1.0000\n",
      "Epoch 18/20\n",
      "1/1 [==============================] - 0s 6ms/step - loss: 0.6623 - accuracy: 0.9000\n",
      "Epoch 19/20\n",
      "1/1 [==============================] - 0s 7ms/step - loss: 0.6598 - accuracy: 0.9000\n",
      "Epoch 20/20\n",
      "1/1 [==============================] - 0s 4ms/step - loss: 0.6573 - accuracy: 0.9000\n",
      "1/1 [==============================] - 0s 167ms/step - loss: 0.6548 - accuracy: 0.9000\n",
      "Accuracy: 0.9000\n"
     ]
    }
   ],
   "source": [
    "model.compile(optimizer='adam', loss='binary_crossentropy', metrics=['accuracy'])\n",
    "model.fit(padded_x, classes, epochs=20)\n",
    "print(\"Accuracy: %.4f\" % (model.evaluate(padded_x, classes)[1]))"
   ]
  },
  {
   "cell_type": "code",
   "execution_count": null,
   "id": "c1b15f3b",
   "metadata": {},
   "outputs": [],
   "source": []
  }
 ],
 "metadata": {
  "kernelspec": {
   "display_name": "Python 3 (ipykernel)",
   "language": "python",
   "name": "python3"
  },
  "language_info": {
   "codemirror_mode": {
    "name": "ipython",
    "version": 3
   },
   "file_extension": ".py",
   "mimetype": "text/x-python",
   "name": "python",
   "nbconvert_exporter": "python",
   "pygments_lexer": "ipython3",
   "version": "3.9.12"
  }
 },
 "nbformat": 4,
 "nbformat_minor": 5
}
