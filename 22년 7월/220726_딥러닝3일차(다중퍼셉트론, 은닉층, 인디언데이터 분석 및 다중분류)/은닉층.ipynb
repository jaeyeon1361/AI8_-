{
 "cells": [
  {
   "cell_type": "code",
   "execution_count": 1,
   "id": "59710984",
   "metadata": {},
   "outputs": [],
   "source": [
    "## 모두의 딥러닝 134p ~ 부터 쭉 봐보기\n",
    "\n",
    "from tensorflow.keras.models import Sequential\n",
    "from tensorflow.keras.layers import Dense\n",
    "import numpy as np"
   ]
  },
  {
   "cell_type": "code",
   "execution_count": 5,
   "id": "69dfab72",
   "metadata": {},
   "outputs": [],
   "source": [
    "Data_set = np.loadtxt(\"./ThoraricSurgery3.csv\", delimiter=\",\")\n",
    "X = Data_set[:,0:16]\n",
    "y = Data_set[:,16]"
   ]
  },
  {
   "cell_type": "code",
   "execution_count": 6,
   "id": "d94b671c",
   "metadata": {},
   "outputs": [],
   "source": [
    "model = Sequential()\n",
    "## 은닉층\n",
    "model.add(Dense(30, input_dim=16, activation='relu'))\n",
    "\n",
    "## 출력층\n",
    "model.add(Dense(1, activation='sigmoid'))"
   ]
  },
  {
   "cell_type": "code",
   "execution_count": 7,
   "id": "b4ced197",
   "metadata": {},
   "outputs": [
    {
     "name": "stdout",
     "output_type": "stream",
     "text": [
      "Epoch 1/5\n",
      "30/30 [==============================] - 1s 1ms/step - loss: 22.6683 - accuracy: 0.1489 \n",
      "Epoch 2/5\n",
      "30/30 [==============================] - 0s 1ms/step - loss: 9.7940 - accuracy: 0.1489\n",
      "Epoch 3/5\n",
      "30/30 [==============================] - 0s 1ms/step - loss: 0.9988 - accuracy: 0.6447\n",
      "Epoch 4/5\n",
      "30/30 [==============================] - 0s 1ms/step - loss: 0.5870 - accuracy: 0.8489\n",
      "Epoch 5/5\n",
      "30/30 [==============================] - 0s 1ms/step - loss: 0.5256 - accuracy: 0.8319\n"
     ]
    }
   ],
   "source": [
    "model.compile(loss='binary_crossentropy', optimizer='adam', metrics=['accuracy']) # 모델 자체를 준비\n",
    "history = model.fit(X, y, epochs=5, batch_size=16)"
   ]
  },
  {
   "cell_type": "code",
   "execution_count": null,
   "id": "4dc8114b",
   "metadata": {},
   "outputs": [],
   "source": []
  }
 ],
 "metadata": {
  "kernelspec": {
   "display_name": "Python 3 (ipykernel)",
   "language": "python",
   "name": "python3"
  },
  "language_info": {
   "codemirror_mode": {
    "name": "ipython",
    "version": 3
   },
   "file_extension": ".py",
   "mimetype": "text/x-python",
   "name": "python",
   "nbconvert_exporter": "python",
   "pygments_lexer": "ipython3",
   "version": "3.9.12"
  }
 },
 "nbformat": 4,
 "nbformat_minor": 5
}
