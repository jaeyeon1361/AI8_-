{
 "cells": [
  {
   "cell_type": "code",
   "execution_count": 1,
   "id": "caf3615c",
   "metadata": {
    "scrolled": true
   },
   "outputs": [
    {
     "name": "stdout",
     "output_type": "stream",
     "text": [
      "['False', 'None', 'True', '__peg_parser__', 'and', 'as', 'assert', 'async', 'await', 'break', 'class', 'continue', 'def', 'del', 'elif', 'else', 'except', 'finally', 'for', 'from', 'global', 'if', 'import', 'in', 'is', 'lambda', 'nonlocal', 'not', 'or', 'pass', 'raise', 'return', 'try', 'while', 'with', 'yield']\n"
     ]
    }
   ],
   "source": [
    "# 키워드 확인\n",
    "import keyword\n",
    "print(keyword.kwlist)"
   ]
  },
  {
   "cell_type": "markdown",
   "id": "4d63f08f",
   "metadata": {},
   "source": [
    "문서작성\n",
    "안녕하세요 문서작성중입니다"
   ]
  },
  {
   "cell_type": "code",
   "execution_count": 3,
   "id": "27953016",
   "metadata": {},
   "outputs": [
    {
     "name": "stdout",
     "output_type": "stream",
     "text": [
      "테스트\n"
     ]
    }
   ],
   "source": [
    "print(\"테스트\") # 문장 테스트"
   ]
  },
  {
   "cell_type": "code",
   "execution_count": 5,
   "id": "91d4db21",
   "metadata": {},
   "outputs": [
    {
     "name": "stdout",
     "output_type": "stream",
     "text": [
      "테스트 10 20 + 30 =  50\n"
     ]
    }
   ],
   "source": [
    "print(\"테스트\", 10, '20 + 30 = ', 20 + 30)"
   ]
  },
  {
   "cell_type": "code",
   "execution_count": 1,
   "id": "3e3ca6da",
   "metadata": {},
   "outputs": [
    {
     "name": "stdout",
     "output_type": "stream",
     "text": [
      "테스트 10 20 + 30 =  50aaaaaabcd\n"
     ]
    }
   ],
   "source": [
    "print(\"테스트\", 10, '20 + 30 = ', 20 + 30, end='aaaaa')\n",
    "print('abcd')"
   ]
  },
  {
   "cell_type": "code",
   "execution_count": null,
   "id": "eff44ec9",
   "metadata": {},
   "outputs": [],
   "source": [
    "# 키워드 import keyword -> keyword.kwlist에서 확인\n",
    "# 식별자 : 문자 시작, _ 가능, 숫자 시작 안됨, 키워드 안됨\n",
    "# 식별자 작성 규칙 : 캐멀(클래스), 스네이크(변수, 함수),함수는 ())"
   ]
  }
 ],
 "metadata": {
  "kernelspec": {
   "display_name": "Python 3 (ipykernel)",
   "language": "python",
   "name": "python3"
  },
  "language_info": {
   "codemirror_mode": {
    "name": "ipython",
    "version": 3
   },
   "file_extension": ".py",
   "mimetype": "text/x-python",
   "name": "python",
   "nbconvert_exporter": "python",
   "pygments_lexer": "ipython3",
   "version": "3.9.12"
  }
 },
 "nbformat": 4,
 "nbformat_minor": 5
}
