{
 "cells": [
  {
   "cell_type": "code",
   "execution_count": 1,
   "id": "48ae1ef5",
   "metadata": {},
   "outputs": [],
   "source": [
    "import cv2\n",
    "import numpy as np\n",
    "import sys\n",
    "import matplotlib.pyplot as plt"
   ]
  },
  {
   "cell_type": "code",
   "execution_count": 6,
   "id": "dd8f8f46",
   "metadata": {},
   "outputs": [],
   "source": [
    "img=cv2.imread('./fig/lenna.bmp',cv2.IMREAD_COLOR)\n",
    "if img is None:\n",
    "    print('image read failed')\n",
    "    sys.exit()\n",
    "    \n",
    "cv2.namedWindow('image')\n",
    "cv2.imshow('image',img)\n",
    "\n",
    "cv2.waitKey()\n",
    "cv2.destroyAllWindows()"
   ]
  },
  {
   "cell_type": "code",
   "execution_count": 7,
   "id": "2c4a26ac",
   "metadata": {},
   "outputs": [],
   "source": [
    "import glob"
   ]
  },
  {
   "cell_type": "code",
   "execution_count": null,
   "id": "dac2960b",
   "metadata": {},
   "outputs": [],
   "source": [
    "img_list=glob.glob('../Ch_2/fig/images/*.*')\n",
    "cv2.namedWindow('scene',cv2.WINDOW_NORMAL)\n",
    "cv2.setWindowProperty('scene',cv2.WND_PROP_FULLSCREEN,cv2.WINDOW_FULLSCREEN)\n",
    "\n",
    "\n"
   ]
  },
  {
   "cell_type": "code",
   "execution_count": 2,
   "id": "4ff8d0b3",
   "metadata": {},
   "outputs": [
    {
     "ename": "NameError",
     "evalue": "name 'out' is not defined",
     "output_type": "error",
     "traceback": [
      "\u001b[1;31m---------------------------------------------------------------------------\u001b[0m",
      "\u001b[1;31mNameError\u001b[0m                                 Traceback (most recent call last)",
      "Input \u001b[1;32mIn [2]\u001b[0m, in \u001b[0;36m<cell line: 28>\u001b[1;34m()\u001b[0m\n\u001b[0;32m     26\u001b[0m     \u001b[38;5;28;01mif\u001b[39;00m cv2\u001b[38;5;241m.\u001b[39mwaitKey(\u001b[38;5;241m20\u001b[39m)\u001b[38;5;241m==\u001b[39m\u001b[38;5;241m27\u001b[39m:\n\u001b[0;32m     27\u001b[0m         \u001b[38;5;28;01mbreak\u001b[39;00m\n\u001b[1;32m---> 28\u001b[0m \u001b[43mout\u001b[49m\u001b[38;5;241m.\u001b[39mrelease()\n\u001b[0;32m     29\u001b[0m cap\u001b[38;5;241m.\u001b[39mrelease()\n\u001b[0;32m     30\u001b[0m cv2\u001b[38;5;241m.\u001b[39mdestroyAllWindows()\n",
      "\u001b[1;31mNameError\u001b[0m: name 'out' is not defined"
     ]
    }
   ],
   "source": [
    "cap=cv2.VideoCapture(0)\n",
    "if not cap.isOpened():\n",
    "    print('video open failed')\n",
    "    sys.exit()\n",
    "\n",
    "w=int(cap.get(cv2.CAP_PROP_FRAME_WIDTH))\n",
    "h=int(cap.get(cv2.CAP_PROP_FRAME_HEIGHT))\n",
    "fps=int(cap.get(cv2.CAP_PROP_FPS)*0.8)\n",
    "foucc=cv2.VideoWriter_fourcc(*'DIVX')\n",
    "\n",
    "    \n",
    "    \n",
    "while True:\n",
    "    ret,frame=cap.read()\n",
    "    if not ret:\n",
    "        print('frame read failed')\n",
    "        break\n",
    "        \n",
    "    edge=cv2.Canny(frame,50,150)\n",
    "    flip=cv2.flip(frame,1)\n",
    "    cv2.imshow('image',frame)\n",
    "    cv2.imshow('edge',edge)\n",
    "    cv2.imshow('flip',flip)\n",
    "#     out.write('outvideo',flip)\n",
    "    \n",
    "    if cv2.waitKey(20)==27:\n",
    "        break\n",
    "# out.release()\n",
    "cap.release()\n",
    "cv2.destroyAllWindows()"
   ]
  },
  {
   "cell_type": "code",
   "execution_count": 8,
   "id": "404d3b3f",
   "metadata": {},
   "outputs": [],
   "source": [
    "def call_mouse(event,x,y,flags,param):\n",
    "    global oldx,oldy\n",
    "    \n",
    "    if event==cv2.EVENT_LBUTTONDOWN:\n",
    "        oldx,oldy=x,y\n",
    "        \n",
    "    elif event==cv2.EVENT_MOUSEMOVE:\n",
    "        if flags==cv2.EVENT_FLAG_LBUTTON:\n",
    "            cv2.line(img,(oldx,oldy),(x,y),(0,0,0),10,cv2.LINE_AA)\n",
    "            cv2.imshow('image',img)\n",
    "            oldx,oldy=x,y\n",
    "            \n",
    "oldx = oldy = -1            \n",
    "img=np.full((600,1200,3),(255,255,255),np.uint8)\n",
    "cv2.namedWindow('image')\n",
    "cv2.setMouseCallback('image',call_mouse,img)\n",
    "cv2.imshow('image',img)\n",
    "\n",
    "\n",
    "cv2.waitKey()\n",
    "cv2.destroyAllWindows()"
   ]
  },
  {
   "cell_type": "code",
   "execution_count": null,
   "id": "9f2b63d9",
   "metadata": {},
   "outputs": [],
   "source": [
    "def call_trackbar(pos):\n",
    "    img[:]=np.round(img1*(pos/255),0).astype(np.uint8)"
   ]
  },
  {
   "cell_type": "code",
   "execution_count": 2,
   "id": "58e16264",
   "metadata": {},
   "outputs": [],
   "source": [
    "src1=cv2.imread('./fig/lenna256.bmp',0)\n",
    "src2=np.zeros((256,256),np.uint8)\n",
    "cv2.circle(src2,(128,128),100,200,-1)\n",
    "cv2.circle(src2,(128,128),50,50,-1)\n",
    "\n",
    "dst1=cv2.add(src1,src2)\n",
    "dst2=cv2.subtract(src1,src2)\n",
    "dst3=cv2.addWeighted(src1,0.5,src2,0.5,0)\n",
    "dst4=cv2.absdiff(src1,src2)\n",
    "\n",
    "cv2.imshow('src1',src1)\n",
    "cv2.imshow('src2',src2)\n",
    "cv2.imshow('dst1',dst1)\n",
    "cv2.imshow('dst2',dst2)\n",
    "cv2.imshow('dst3',dst3)\n",
    "cv2.imshow('dst4',dst4)\n",
    "\n",
    "cv2.waitKey()\n",
    "cv2.destroyAllWindows()"
   ]
  },
  {
   "cell_type": "code",
   "execution_count": 2,
   "id": "299057d9",
   "metadata": {},
   "outputs": [],
   "source": [
    "import matplotlib.pyplot as plt"
   ]
  },
  {
   "cell_type": "code",
   "execution_count": 6,
   "id": "7d3508ce",
   "metadata": {},
   "outputs": [
    {
     "data": {
      "image/png": "[encoded data removed]",
      "text/plain": [
       "<Figure size 432x288 with 1 Axes>"
      ]
     },
     "metadata": {
      "needs_background": "light"
     },
     "output_type": "display_data"
    }
   ],
   "source": [
    "img=cv2.imread('./fig/lenna.bmp',1)\n",
    "# calcHist(images, channels, mask, histSize, ranges[, hist[, accumulate]]) -> hist\n",
    "\n",
    "hist_b=cv2.calcHist([img],[0],None,[256],[0,256])\n",
    "hist_g=cv2.calcHist([img],[1],None,[256],[0,256])\n",
    "hist_r=cv2.calcHist([img],[2],None,[256],[0,256])\n",
    "\n",
    "plt.plot(hist_b,color='b')\n",
    "plt.plot(hist_g,color='g')\n",
    "plt.plot(hist_r,color='r')\n",
    "plt.show()\n",
    "cv2.namedWindow('image')\n",
    "cv2.imshow('image',img)\n",
    "\n",
    "cv2.waitKey()\n",
    "cv2.destroyAllWindows()"
   ]
  },
  {
   "cell_type": "code",
   "execution_count": 16,
   "id": "8fa3649b",
   "metadata": {},
   "outputs": [
    {
     "data": {
      "image/png": "[encoded data removed]",
      "text/plain": [
       "<Figure size 432x288 with 1 Axes>"
      ]
     },
     "metadata": {
      "needs_background": "light"
     },
     "output_type": "display_data"
    }
   ],
   "source": [
    "src=cv2.imread('./fig1/manjang.jpg',cv2.IMREAD_REDUCED_GRAYSCALE_2)\n",
    "# minMaxLoc(src[, mask]) -> minVal, maxVal, minLoc, maxLoc\n",
    "# minVal, maxVal, minLoc, maxLoc=cv2.minMaxLoc(src)\n",
    "# print(minVal,maxVal)\n",
    "\n",
    "# dst_norm=np.clip((src-minVal)*255./(maxVal-minVal),0,255).astype(np.uint8)\n",
    "# normalize(src, dst[, alpha[, beta[, norm_type[, dtype[, mask]]]]]) -> dst\n",
    "dst_norm=cv2.normalize(src,None,0,255,cv2.NORM_MINMAX,-1)\n",
    "dst_equal=cv2.equalizeHist(src)\n",
    "\n",
    "cv2.imshow('image',src)\n",
    "cv2.imshow('dst_norm',dst_norm)\n",
    "cv2.imshow('dst_equal',dst_equal)\n",
    "hist=cv2.calcHist([src],[0],None,[256],[0,256])\n",
    "hist_norm=cv2.calcHist([dst_norm],[0],None,[256],[0,256])\n",
    "hist_eq=cv2.calcHist([dst_equal],[0],None,[256],[0,256])\n",
    "plt.plot(hist)\n",
    "plt.plot(hist_norm,color='r')\n",
    "plt.plot(hist_eq,color='b')\n",
    "plt.show()\n",
    "\n",
    "\n",
    "cv2.waitKey()\n",
    "cv2.destroyAllWindows()"
   ]
  },
  {
   "cell_type": "code",
   "execution_count": 18,
   "id": "186eaaad",
   "metadata": {},
   "outputs": [],
   "source": [
    "src=cv2.imread('./fig1/spring_in_park.jpg',cv2.IMREAD_REDUCED_COLOR_2)\n",
    "\n",
    "src_hsv=cv2.cvtColor(src,cv2.COLOR_BGR2HSV)\n",
    "h,s,v=cv2.split(src_hsv)\n",
    "\n",
    "v_norm=cv2.normalize(v,None,0,255,cv2.NORM_MINMAX,-1)\n",
    "v_equal=cv2.equalizeHist(v)\n",
    "\n",
    "dst_norm=cv2.merge((h,s,v_norm))\n",
    "dst_equal=cv2.merge((h,s,v_equal))\n",
    "\n",
    "dst_norm=cv2.cvtColor(dst_norm,cv2.COLOR_HSV2BGR)\n",
    "dst_equal=cv2.cvtColor(dst_equal,cv2.COLOR_HSV2BGR)\n",
    "\n",
    "cv2.imshow('src',src)\n",
    "cv2.imshow('dst_norm',dst_norm)\n",
    "cv2.imshow('dst_equal',dst_equal)\n",
    "\n",
    "# hist=cv2.calcHist([src],[0],None,[256],[0,256])\n",
    "# hist_norm=cv2.calcHist([dst_norm],[0],None,[256],[0,256])\n",
    "# hist_eq=cv2.calcHist([dst_equal],[0],None,[256],[0,256])\n",
    "# plt.plot(hist)\n",
    "# plt.plot(hist_norm,color='r')\n",
    "# plt.plot(hist_eq,color='b')\n",
    "# plt.show()\n",
    "\n",
    "\n",
    "cv2.waitKey()\n",
    "cv2.destroyAllWindows()"
   ]
  },
  {
   "cell_type": "code",
   "execution_count": 26,
   "id": "8c58ded9",
   "metadata": {},
   "outputs": [],
   "source": [
    "src=cv2.imread('./fig1/palette.png')\n",
    "\n",
    "# inRange(src, lowerb, upperb[, dst]) -> dst\n",
    "src_hsv=cv2.cvtColor(src,cv2.COLOR_BGR2HSV)\n",
    "\n",
    "\n",
    "dst1=cv2.inRange(src,(0,120,0),(100,255,100))\n",
    "dst2=cv2.inRange(src_hsv,(50,75,0),(70,255,255))\n",
    "\n",
    "dst=cv2.copyTo(src,dst2)\n",
    "\n",
    "cv2.imshow('src',src)\n",
    "cv2.imshow('dst1',dst)\n",
    "\n",
    "\n",
    "cv2.waitKey()\n",
    "cv2.destroyAllWindows()"
   ]
  },
  {
   "cell_type": "code",
   "execution_count": 42,
   "id": "abd3ba7d",
   "metadata": {},
   "outputs": [
    {
     "ename": "error",
     "evalue": "OpenCV(4.6.0) D:\\a\\opencv-python\\opencv-python\\opencv\\modules\\highgui\\src\\window.cpp:862: error: (-215:Assertion failed) trackbar in function 'cv::getTrackbarPos'\n",
     "output_type": "error",
     "traceback": [
      "\u001b[1;31m---------------------------------------------------------------------------\u001b[0m",
      "\u001b[1;31merror\u001b[0m                                     Traceback (most recent call last)",
      "Input \u001b[1;32mIn [42]\u001b[0m, in \u001b[0;36mcall_track\u001b[1;34m(pos)\u001b[0m\n\u001b[0;32m      1\u001b[0m \u001b[38;5;28;01mdef\u001b[39;00m \u001b[38;5;21mcall_track\u001b[39m(pos):\n\u001b[0;32m      2\u001b[0m     hmin\u001b[38;5;241m=\u001b[39mcv2\u001b[38;5;241m.\u001b[39mgetTrackbarPos(\u001b[38;5;124m'\u001b[39m\u001b[38;5;124mh_min\u001b[39m\u001b[38;5;124m'\u001b[39m,\u001b[38;5;124m'\u001b[39m\u001b[38;5;124mdst\u001b[39m\u001b[38;5;124m'\u001b[39m)\n\u001b[1;32m----> 3\u001b[0m     hmax\u001b[38;5;241m=\u001b[39m\u001b[43mcv2\u001b[49m\u001b[38;5;241;43m.\u001b[39;49m\u001b[43mgetTrackbarPos\u001b[49m\u001b[43m(\u001b[49m\u001b[38;5;124;43m'\u001b[39;49m\u001b[38;5;124;43mh_max\u001b[39;49m\u001b[38;5;124;43m'\u001b[39;49m\u001b[43m,\u001b[49m\u001b[38;5;124;43m'\u001b[39;49m\u001b[38;5;124;43mdst\u001b[39;49m\u001b[38;5;124;43m'\u001b[39;49m\u001b[43m)\u001b[49m\n\u001b[0;32m      4\u001b[0m     s\u001b[38;5;241m=\u001b[39mcv2\u001b[38;5;241m.\u001b[39mgetTrackbarPos(\u001b[38;5;124m'\u001b[39m\u001b[38;5;124ms\u001b[39m\u001b[38;5;124m'\u001b[39m,\u001b[38;5;124m'\u001b[39m\u001b[38;5;124mdst\u001b[39m\u001b[38;5;124m'\u001b[39m)\n\u001b[0;32m      5\u001b[0m     dst1\u001b[38;5;241m=\u001b[39mcv2\u001b[38;5;241m.\u001b[39minRange((src),(hmin,\u001b[38;5;241m0\u001b[39m,\u001b[38;5;241m0\u001b[39m),(hmax,s,\u001b[38;5;241m255\u001b[39m))\n",
      "\u001b[1;31merror\u001b[0m: OpenCV(4.6.0) D:\\a\\opencv-python\\opencv-python\\opencv\\modules\\highgui\\src\\window.cpp:862: error: (-215:Assertion failed) trackbar in function 'cv::getTrackbarPos'\n"
     ]
    },
    {
     "ename": "error",
     "evalue": "OpenCV(4.6.0) D:\\a\\opencv-python\\opencv-python\\opencv\\modules\\highgui\\src\\window.cpp:862: error: (-215:Assertion failed) trackbar in function 'cv::getTrackbarPos'\n",
     "output_type": "error",
     "traceback": [
      "\u001b[1;31m---------------------------------------------------------------------------\u001b[0m",
      "\u001b[1;31merror\u001b[0m                                     Traceback (most recent call last)",
      "Input \u001b[1;32mIn [42]\u001b[0m, in \u001b[0;36mcall_track\u001b[1;34m(pos)\u001b[0m\n\u001b[0;32m      2\u001b[0m     hmin\u001b[38;5;241m=\u001b[39mcv2\u001b[38;5;241m.\u001b[39mgetTrackbarPos(\u001b[38;5;124m'\u001b[39m\u001b[38;5;124mh_min\u001b[39m\u001b[38;5;124m'\u001b[39m,\u001b[38;5;124m'\u001b[39m\u001b[38;5;124mdst\u001b[39m\u001b[38;5;124m'\u001b[39m)\n\u001b[0;32m      3\u001b[0m     hmax\u001b[38;5;241m=\u001b[39mcv2\u001b[38;5;241m.\u001b[39mgetTrackbarPos(\u001b[38;5;124m'\u001b[39m\u001b[38;5;124mh_max\u001b[39m\u001b[38;5;124m'\u001b[39m,\u001b[38;5;124m'\u001b[39m\u001b[38;5;124mdst\u001b[39m\u001b[38;5;124m'\u001b[39m)\n\u001b[1;32m----> 4\u001b[0m     s\u001b[38;5;241m=\u001b[39m\u001b[43mcv2\u001b[49m\u001b[38;5;241;43m.\u001b[39;49m\u001b[43mgetTrackbarPos\u001b[49m\u001b[43m(\u001b[49m\u001b[38;5;124;43m'\u001b[39;49m\u001b[38;5;124;43ms\u001b[39;49m\u001b[38;5;124;43m'\u001b[39;49m\u001b[43m,\u001b[49m\u001b[38;5;124;43m'\u001b[39;49m\u001b[38;5;124;43mdst\u001b[39;49m\u001b[38;5;124;43m'\u001b[39;49m\u001b[43m)\u001b[49m\n\u001b[0;32m      5\u001b[0m     dst1\u001b[38;5;241m=\u001b[39mcv2\u001b[38;5;241m.\u001b[39minRange((src),(hmin,\u001b[38;5;241m0\u001b[39m,\u001b[38;5;241m0\u001b[39m),(hmax,s,\u001b[38;5;241m255\u001b[39m))\n\u001b[0;32m      6\u001b[0m \u001b[38;5;66;03m#     rev,mask=cv2.threshold(dst1,200,255,cv2.THRESH_BINARY_INV)\u001b[39;00m\n\u001b[0;32m      7\u001b[0m \u001b[38;5;66;03m#     dst2=cv2.cvtColor(dst1,cv2.COLOR_HSV2BGR)\u001b[39;00m\n\u001b[0;32m      8\u001b[0m \u001b[38;5;66;03m#     dst_g=cv2.cvtColor(dst1,cv2.COLOR_BGR2GRAY)\u001b[39;00m\n\u001b[0;32m      9\u001b[0m \u001b[38;5;66;03m#     dst=cv2.bitwise_not(dst_g)\u001b[39;00m\n\u001b[0;32m     10\u001b[0m \u001b[38;5;66;03m#     copy1=cv2.copyTo(src,dst,dst3)\u001b[39;00m\n\u001b[0;32m     11\u001b[0m \u001b[38;5;66;03m#     cv2.imshow('copy1',copy1)\u001b[39;00m\n",
      "\u001b[1;31merror\u001b[0m: OpenCV(4.6.0) D:\\a\\opencv-python\\opencv-python\\opencv\\modules\\highgui\\src\\window.cpp:862: error: (-215:Assertion failed) trackbar in function 'cv::getTrackbarPos'\n"
     ]
    }
   ],
   "source": [
    "def call_track(pos):\n",
    "    hmin=cv2.getTrackbarPos('h_min','dst')\n",
    "    hmax=cv2.getTrackbarPos('h_max','dst')\n",
    "    s=cv2.getTrackbarPos('s','dst')\n",
    "    dst1=cv2.inRange((src),(hmin,0,0),(hmax,s,255))\n",
    "#     rev,mask=cv2.threshold(dst1,200,255,cv2.THRESH_BINARY_INV)\n",
    "#     dst2=cv2.cvtColor(dst1,cv2.COLOR_HSV2BGR)\n",
    "#     dst_g=cv2.cvtColor(dst1,cv2.COLOR_BGR2GRAY)\n",
    "#     dst=cv2.bitwise_not(dst_g)\n",
    "#     copy1=cv2.copyTo(src,dst,dst3)\n",
    "#     cv2.imshow('copy1',copy1)\n",
    "\n",
    "    copy1=cv2.copyTo(src,dst1,dst_resize)\n",
    "    cv2.imshow('copy1',copy1)\n",
    "    cv2.imshow('dst',dst1)\n",
    "    \n",
    "\n",
    "src=cv2.imread('./fig1/chromakey.png')\n",
    "dst3=cv2.imread('./fig1/autumn.jpg')\n",
    "dst_resize=cv2.resize(dst3,(1280,746))\n",
    "\n",
    "# copy1=cv2.copyTo(src,dst,dst1)\n",
    "# cv2.imshow('src',src)\n",
    "# cv2.imshow('copy1',copy1)\n",
    "cv2.namedWindow('dst')\n",
    "cv2.createTrackbar('h_min','dst',40,179,call_track)\n",
    "cv2.createTrackbar('h_max','dst',90,179,call_track)\n",
    "cv2.createTrackbar('s','dst',0,255,call_track)\n",
    "\n",
    "\n",
    "\n",
    "cv2.waitKey()\n",
    "cv2.destroyAllWindows()"
   ]
  },
  {
   "cell_type": "code",
   "execution_count": null,
   "id": "b6952bbc",
   "metadata": {},
   "outputs": [],
   "source": [
    "사진 사이즈"
   ]
  },
  {
   "cell_type": "code",
   "execution_count": 32,
   "id": "a3715566",
   "metadata": {},
   "outputs": [
    {
     "name": "stdout",
     "output_type": "stream",
     "text": [
      "(746, 1280, 3)\n",
      "(3024, 4032, 3)\n",
      "(1280, 746, 3)\n"
     ]
    }
   ],
   "source": [
    "src=cv2.imread('./fig1/chromakey.png')\n",
    "dst3=cv2.imread('./fig1/autumn.jpg')\n",
    "dst_resize=cv2.resize(dst3,(746, 1280))\n",
    "print(src.shape)\n",
    "print(dst3.shape)\n",
    "print(dst_resize.shape)"
   ]
  }
 ],
 "metadata": {
  "kernelspec": {
   "display_name": "Python 3 (ipykernel)",
   "language": "python",
   "name": "python3"
  },
  "language_info": {
   "codemirror_mode": {
    "name": "ipython",
    "version": 3
   },
   "file_extension": ".py",
   "mimetype": "text/x-python",
   "name": "python",
   "nbconvert_exporter": "python",
   "pygments_lexer": "ipython3",
   "version": "3.9.12"
  }
 },
 "nbformat": 4,
 "nbformat_minor": 5
}
