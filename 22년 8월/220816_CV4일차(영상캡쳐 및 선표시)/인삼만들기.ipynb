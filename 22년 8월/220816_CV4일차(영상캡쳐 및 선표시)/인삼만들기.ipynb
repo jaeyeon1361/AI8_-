{
 "cells": [
  {
   "cell_type": "code",
   "execution_count": 1,
   "id": "3f3c0224",
   "metadata": {},
   "outputs": [],
   "source": [
    "import cv2\n",
    "import numpy as np\n",
    "import sys\n",
    "import matplotlib.pyplot as plt"
   ]
  },
  {
   "cell_type": "code",
   "execution_count": 2,
   "id": "8e76ed12",
   "metadata": {},
   "outputs": [],
   "source": [
    "img = cv2.imread('./fig/fig/PD_MRI.jpeg')"
   ]
  },
  {
   "cell_type": "code",
   "execution_count": 3,
   "id": "3ab198cb",
   "metadata": {},
   "outputs": [],
   "source": [
    "import glob"
   ]
  },
  {
   "cell_type": "code",
   "execution_count": 4,
   "id": "713a3d82",
   "metadata": {},
   "outputs": [],
   "source": [
    "img = np.full((600, 1200,3), (255, 255,255), np.uint8)\n",
    "\n",
    "\n",
    "## 직선귿기\n",
    "## line(img, pt1, pt2, color[, thickness[, lineType[, shift]]]) -> img\n",
    "# img : 그림을 그릴 영상\n",
    "# pt1, pt2 : 직선의 시작점과 끝점\n",
    "# color : 직선의 색\n",
    "# thinkness : 선두께, 기본은 1\n",
    "# linetype\n",
    "cv2.line(img, (100,100),(300,100), (0,0,255), 5, cv2.LINE_8)\n",
    "cv2.line(img,(300, 100), (200, 300), (0,0,255), 10, cv2.LINE_4)\n",
    "# 방향표시\n",
    "cv2.arrowedLine(img, (400, 100), (400,300), (255,0,0), 10, cv2.LINE_AA)\n",
    "\n",
    "# 네모\n",
    "# rectangle(img, pt1, pt2, color[, thickness[, lineType[, shift]]]) -> im\n",
    "cv2.rectangle(img, (100,400), (400,500), (0,0,255), 5)\n",
    "cv2.rectangle(img, (120,420,260,60),(0,255,0), -1 )\n",
    "\n",
    "\n",
    "cv2.circle(img, (700,300), 100, (0,0,255), 10, cv2.LINE_AA)\n",
    "# ellipse(img, center, axes, angle, startAngle, endAngle, color[, thickness[, lineType[, shift]]]) -> img\n",
    "cv2.ellipse(img, (700,300),(50,100), 20, 0, 270, (0,255,255), 10, cv2.LINE_AA)\n",
    "\n",
    "text = 'Open cv' + cv2.__version__\n",
    "# putText(img, text, org, fontFace, fontScale, color[, thickness[, lineType[, bottomLeftOrigin]]]) -> img\n",
    "cv2.putText(img, text, (700,500), cv2.FONT_HERSHEY_COMPLEX, 1, (128,128,128), 1, cv2.LINE_AA)\n",
    "\n",
    "cv2.imshow('image', img)\n",
    "\n",
    "cv2.waitKey()\n",
    "cv2.destroyAllWindows()"
   ]
  },
  {
   "cell_type": "code",
   "execution_count": 120,
   "id": "8dbdec0b",
   "metadata": {},
   "outputs": [],
   "source": [
    "# 인삼..만들기?\n",
    "\n",
    "img = np.full((600, 1200,3), (255, 255,255), np.uint8)\n",
    "\n",
    "cv2.circle(img, (130,200), 80, (0,0,255), 5, cv2.LINE_AA)\n",
    "cv2.line(img, (300, 100),(300, 300), (0,0,255), 5, cv2.LINE_8)\n",
    "cv2.line(img, (100, 300),(100, 400), (0,0,255), 5, cv2.LINE_8)\n",
    "cv2.line(img, (300, 400),(100, 400), (0,0,255), 5, cv2.LINE_8)\n",
    "\n",
    "cv2.line(img, (350, 200),(500, 100), (0,0,255), 5, cv2.LINE_8)\n",
    "cv2.line(img, (400, 155),(500, 200), (0,0,255), 5, cv2.LINE_8)\n",
    "cv2.line(img, (600, 50),(600, 250), (0,0,255), 5, cv2.LINE_8)\n",
    "cv2.line(img, (600, 150),(700, 150), (0,0,255), 5, cv2.LINE_8)\n",
    "cv2.rectangle(img, (650,300), (400,400), (0,0,255), 5)\n",
    "\n",
    "\n",
    "\n",
    "\n",
    "text = 'Ginseung' \n",
    "# putText(img, text, org, fontFace, fontScale, color[, thickness[, lineType[, bottomLeftOrigin]]]) -> img\n",
    "cv2.putText(img, text, (700,500), cv2.FONT_HERSHEY_COMPLEX, 1, (128,128,128), 1, cv2.LINE_AA)\n",
    "\n",
    "cv2.imshow('image', img)\n",
    "\n",
    "cv2.waitKey()\n",
    "cv2.destroyAllWindows()"
   ]
  },
  {
   "cell_type": "code",
   "execution_count": 9,
   "id": "0c95ca61",
   "metadata": {},
   "outputs": [],
   "source": []
  },
  {
   "cell_type": "code",
   "execution_count": null,
   "id": "fc41ddba",
   "metadata": {},
   "outputs": [],
   "source": []
  }
 ],
 "metadata": {
  "kernelspec": {
   "display_name": "Python 3 (ipykernel)",
   "language": "python",
   "name": "python3"
  },
  "language_info": {
   "codemirror_mode": {
    "name": "ipython",
    "version": 3
   },
   "file_extension": ".py",
   "mimetype": "text/x-python",
   "name": "python",
   "nbconvert_exporter": "python",
   "pygments_lexer": "ipython3",
   "version": "3.9.12"
  }
 },
 "nbformat": 4,
 "nbformat_minor": 5
}
