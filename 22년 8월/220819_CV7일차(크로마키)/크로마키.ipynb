{
 "cells": [
  {
   "cell_type": "code",
   "execution_count": 1,
   "id": "9500015b",
   "metadata": {},
   "outputs": [],
   "source": [
    "import sys\n",
    "import cv2\n",
    "import matplotlib.pyplot as plt\n",
    "import numpy as np"
   ]
  },
  {
   "cell_type": "code",
   "execution_count": 3,
   "id": "bee86d57",
   "metadata": {},
   "outputs": [],
   "source": [
    "img = cv2.imread('./fig/fig/lenna.bmp')\n",
    "\n",
    "if img is None : \n",
    "    print('img not read')\n",
    "    sys.exit()\n",
    "    \n",
    "cv2.namedWindow('img', cv2.WINDOW_NORMAL)\n",
    "\n",
    "cv2.imshow('img', img)\n",
    "\n",
    "cv2.waitKey()\n",
    "cv2.destroyAllWindows()"
   ]
  },
  {
   "cell_type": "code",
   "execution_count": 2,
   "id": "f1e615bb",
   "metadata": {},
   "outputs": [],
   "source": [
    "import glob"
   ]
  },
  {
   "cell_type": "code",
   "execution_count": 6,
   "id": "5be2d50c",
   "metadata": {},
   "outputs": [],
   "source": [
    "img_list = glob.glob('./fig/images/*.*')\n",
    "\n",
    "cv2.namedWindow('scene', cv2.WINDOW_NORMAL)\n",
    "cv2.setWindowProperty('scene', cv2.WND_PROP_FULLSCREEN, cv2.WINDOW_FULLSCREEN)\n",
    "\n",
    "\n",
    "idx = 0\n",
    "\n",
    "while True :\n",
    "    img = cv2.imread(img_list[idx])\n",
    "    \n",
    "    cv2.imshow('secne', img)\n",
    "    \n",
    "    if cv2.waitKey(3000) == 27 : \n",
    "        break\n",
    "        \n",
    "    idx += 1\n",
    "    \n",
    "    if idx>= len(img_list) : \n",
    "        idx = 0\n",
    "        \n",
    "cv2.destroyAllWindows()"
   ]
  },
  {
   "cell_type": "code",
   "execution_count": 7,
   "id": "57bf7629",
   "metadata": {},
   "outputs": [],
   "source": [
    "cap = cv2.VideoCapture(0)\n",
    "\n",
    "if not cap.isOpened() : \n",
    "    print('video open failed')\n",
    "    sys.exit()\n",
    "    \n",
    "w = int(cap.get(cv2.CAP_PROP_FRAME_WIDTH))   \n",
    "h = int(cap.get(cv2.CAP_PROP_FRAME_HEIGHT)) \n",
    "fps = int(cap.get(cv2.CAP_PROP_FPS)) \n",
    "fourcc = cv2.VideoWriter_fourcc(*'DIVX') \n",
    "    \n",
    "    \n",
    "    \n",
    "    \n",
    "while True :\n",
    "    ret, frame = cap.read()\n",
    "    \n",
    "    if not ret : \n",
    "        print('frame read failed')\n",
    "        break\n",
    "        \n",
    "    edge = cv2.Canny(frame, 50, 150)\n",
    "    flip = cv2.flip(frame, 1)\n",
    "    \n",
    "    \n",
    "    cv2.imshow('edge', edge)\n",
    "    cv2.imshow('flip', flip)\n",
    "    \n",
    "    if cv2.waitKey(30) == 27 :\n",
    "        break\n",
    "        \n",
    "        \n",
    "cap.release()\n",
    "cv2.destroyAllWindows()"
   ]
  },
  {
   "cell_type": "code",
   "execution_count": 8,
   "id": "5e0c428d",
   "metadata": {},
   "outputs": [],
   "source": [
    "## 마우스로 그리는 손글씨\n",
    "def call_mouse(event, x, y, flags, param) : \n",
    "    global oldx, oldy\n",
    "    \n",
    "    if event == cv2.EVENT_LBUTTONDOWN:\n",
    "        oldx, oldy = x, y\n",
    "        \n",
    "    elif event == cv2.EVENT_MOUSEMOVE :\n",
    "        if flags == cv2.EVENT_FLAG_LBUTTON : \n",
    "            cv2.line(img, (oldx, oldy), (x,y), (0,0,255), 10, cv2.LINE_AA)\n",
    "            cv2.imshow('img', img)\n",
    "            oldx, oldy = x,y\n",
    "            \n",
    "img = np.ones((600, 1200), np.uint8)*255\n",
    "\n",
    "cv2.imshow('img', img)\n",
    "cv2.setMouseCallback('img', call_mouse, img)\n",
    "\n",
    "cv2.waitKey()\n",
    "cv2.destroyAllWindows()"
   ]
  },
  {
   "cell_type": "code",
   "execution_count": 3,
   "id": "655eda18",
   "metadata": {},
   "outputs": [],
   "source": [
    "def call_trackbar(pos) : \n",
    "    img[:] = np.round(img1*(pos/255),0).astype(np.uint8)\n",
    "    cv2.imshow('img', img)\n",
    "\n",
    "\n",
    "img = cv2.imread('./fig/fig/lenna.bmp', 0)\n",
    "\n",
    "img1 = img.copy()\n",
    "\n",
    "cv2.imshow('img', img)\n",
    "cv2.createTrackbar('Level', 'img', 0, 255, call_trackbar)\n",
    "\n",
    "cv2.waitKey()\n",
    "cv2.destroyAllWindows()"
   ]
  },
  {
   "cell_type": "code",
   "execution_count": 4,
   "id": "928b2a44",
   "metadata": {},
   "outputs": [],
   "source": [
    "src1 = cv2.imread('./fig/fig/lenna256.bmp', 0)\n",
    "src2 = np.zeros((256, 256), np.uint8)\n",
    "cv2.circle(src2,(128,128), 100, 200, -1)\n",
    "cv2.circle(src2,(128,128), 50, 50, -1)\n",
    "\n",
    "dst1 = cv2.add(src1, src2)\n",
    "dst2 = cv2.subtract(src1, src2)\n",
    "dst3 = cv2.addWeighted(src1, 0.5, src2, 0.5, 0)\n",
    "dst4 = cv2.absdiff(src1, src2)\n",
    "\n",
    "\n",
    "cv2.imshow('src1', src1)\n",
    "cv2.imshow('src2', src2)\n",
    "cv2.imshow('add', dst1)\n",
    "cv2.imshow('subtrack', dst2)\n",
    "cv2.imshow('addweight', dst3)\n",
    "cv2.imshow('abs', dst4)\n",
    "\n",
    "cv2.waitKey()\n",
    "cv2.destroyAllWindows()"
   ]
  },
  {
   "cell_type": "code",
   "execution_count": 3,
   "id": "36e133fd",
   "metadata": {},
   "outputs": [],
   "source": [
    "img = cv2.imread('./fig/fig/puppy.bmp')\n",
    "\n",
    "b,g,r = cv2.split(img)\n",
    "\n",
    "cv2.imshow('img', img)\n",
    "cv2.imshow('b', b)\n",
    "cv2.imshow('g', g)\n",
    "cv2.imshow('r', r)\n",
    "\n",
    "cv2.waitKey()\n",
    "cv2.destroyAllWindows()"
   ]
  },
  {
   "cell_type": "markdown",
   "id": "a5cee868",
   "metadata": {},
   "source": [
    "영상 히스토그램"
   ]
  },
  {
   "cell_type": "code",
   "execution_count": 5,
   "id": "446a8154",
   "metadata": {},
   "outputs": [
    {
     "ename": "error",
     "evalue": "OpenCV(4.6.0) D:\\a\\opencv-python\\opencv-python\\opencv\\modules\\imgproc\\src\\histogram.cpp:160: error: (-215:Assertion failed) j < nimages in function 'cv::histPrepareImages'\n",
     "output_type": "error",
     "traceback": [
      "\u001b[1;31m---------------------------------------------------------------------------\u001b[0m",
      "\u001b[1;31merror\u001b[0m                                     Traceback (most recent call last)",
      "Input \u001b[1;32mIn [5]\u001b[0m, in \u001b[0;36m<cell line: 5>\u001b[1;34m()\u001b[0m\n\u001b[0;32m      3\u001b[0m \u001b[38;5;66;03m# calcHist(images, channels, mask, histSize, ranges[, hist[, accumulate]]) -> hist\u001b[39;00m\n\u001b[0;32m      4\u001b[0m hist_b \u001b[38;5;241m=\u001b[39m cv2\u001b[38;5;241m.\u001b[39mcalcHist([img], [\u001b[38;5;241m0\u001b[39m], \u001b[38;5;28;01mNone\u001b[39;00m, [\u001b[38;5;241m256\u001b[39m],[\u001b[38;5;241m0\u001b[39m, \u001b[38;5;241m256\u001b[39m])\n\u001b[1;32m----> 5\u001b[0m hist_g \u001b[38;5;241m=\u001b[39m \u001b[43mcv2\u001b[49m\u001b[38;5;241;43m.\u001b[39;49m\u001b[43mcalcHist\u001b[49m\u001b[43m(\u001b[49m\u001b[43m[\u001b[49m\u001b[43mimg\u001b[49m\u001b[43m]\u001b[49m\u001b[43m,\u001b[49m\u001b[43m \u001b[49m\u001b[43m[\u001b[49m\u001b[38;5;241;43m1\u001b[39;49m\u001b[43m]\u001b[49m\u001b[43m,\u001b[49m\u001b[43m \u001b[49m\u001b[38;5;28;43;01mNone\u001b[39;49;00m\u001b[43m,\u001b[49m\u001b[43m \u001b[49m\u001b[43m[\u001b[49m\u001b[38;5;241;43m256\u001b[39;49m\u001b[43m]\u001b[49m\u001b[43m,\u001b[49m\u001b[43m[\u001b[49m\u001b[38;5;241;43m0\u001b[39;49m\u001b[43m,\u001b[49m\u001b[43m \u001b[49m\u001b[38;5;241;43m256\u001b[39;49m\u001b[43m]\u001b[49m\u001b[43m)\u001b[49m\n\u001b[0;32m      6\u001b[0m hist_r \u001b[38;5;241m=\u001b[39m cv2\u001b[38;5;241m.\u001b[39mcalcHist([img], [\u001b[38;5;241m2\u001b[39m], \u001b[38;5;28;01mNone\u001b[39;00m, [\u001b[38;5;241m256\u001b[39m],[\u001b[38;5;241m0\u001b[39m, \u001b[38;5;241m256\u001b[39m])\n\u001b[0;32m      8\u001b[0m plt\u001b[38;5;241m.\u001b[39mplot(hist_b, color \u001b[38;5;241m=\u001b[39m \u001b[38;5;124m'\u001b[39m\u001b[38;5;124mb\u001b[39m\u001b[38;5;124m'\u001b[39m)\n",
      "\u001b[1;31merror\u001b[0m: OpenCV(4.6.0) D:\\a\\opencv-python\\opencv-python\\opencv\\modules\\imgproc\\src\\histogram.cpp:160: error: (-215:Assertion failed) j < nimages in function 'cv::histPrepareImages'\n"
     ]
    }
   ],
   "source": [
    "img = cv2.imread('./fig/fig/lenna.bmp', 0 )\n",
    "\n",
    "# calcHist(images, channels, mask, histSize, ranges[, hist[, accumulate]]) -> hist\n",
    "hist_b = cv2.calcHist([img], [0], None, [256],[0, 256])\n",
    "hist_g = cv2.calcHist([img], [1], None, [256],[0, 256])\n",
    "hist_r = cv2.calcHist([img], [2], None, [256],[0, 256])\n",
    "\n",
    "plt.plot(hist_b, color = 'b')\n",
    "plt.plot(hist_g, color = 'g')\n",
    "plt.plot(hist_r, color = 'r')\n",
    "plt.plot(hist)\n",
    "plt.show()\n",
    "\n",
    "cv2.imshow('img', img)\n",
    "\n",
    "cv2.waitKey()\n",
    "cv2.destroyAllWindows()"
   ]
  },
  {
   "cell_type": "code",
   "execution_count": 1,
   "id": "f007c9d5",
   "metadata": {},
   "outputs": [
    {
     "ename": "NameError",
     "evalue": "name 'cv2' is not defined",
     "output_type": "error",
     "traceback": [
      "\u001b[1;31m---------------------------------------------------------------------------\u001b[0m",
      "\u001b[1;31mNameError\u001b[0m                                 Traceback (most recent call last)",
      "Input \u001b[1;32mIn [1]\u001b[0m, in \u001b[0;36m<cell line: 1>\u001b[1;34m()\u001b[0m\n\u001b[1;32m----> 1\u001b[0m src  \u001b[38;5;241m=\u001b[39m \u001b[43mcv2\u001b[49m\u001b[38;5;241m.\u001b[39mimread(\u001b[38;5;124m'\u001b[39m\u001b[38;5;124m./fig/fig/puppy_shrink.png\u001b[39m\u001b[38;5;124m'\u001b[39m, \u001b[38;5;241m0\u001b[39m)\n\u001b[0;32m      3\u001b[0m \u001b[38;5;66;03m# minMaxLoc(src[, mask]) -> minVal, maxVal, minLoc, maxLoc\u001b[39;00m\n\u001b[0;32m      4\u001b[0m minVal, maxVal, minLoc, maxLoc \u001b[38;5;241m=\u001b[39m cv2\u001b[38;5;241m.\u001b[39mminMaxLoc(src)\n",
      "\u001b[1;31mNameError\u001b[0m: name 'cv2' is not defined"
     ]
    }
   ],
   "source": [
    "src  = cv2.imread('./fig/fig/puppy_shrink.png', 0)\n",
    "\n",
    "# minMaxLoc(src[, mask]) -> minVal, maxVal, minLoc, maxLoc\n",
    "minVal, maxVal, minLoc, maxLoc = cv2.minMaxLoc(src)\n",
    "print(minVal, maxVal)\n",
    "\n",
    "dst_norm = np.clip((src -minVal)*255./(maxVal-minVal), 0, 255).astype(np.uint8)\n",
    "\n",
    "# normalize(src, dst[, alpha[, beta[, norm_type[, dtype[, mask]]]]]) -> dst\n",
    "dst_norm = cv2.normalize(src, None,0, 255, cv2.NORM_MINMAX, -1)\n",
    "# equalizeHist(src[, dst]) -> dst\n",
    "dst_equal = cv2.equalizeHist(src)\n",
    "\n",
    "# calcHist(images, channels, mask, histSize, ranges[, hist[, accumulate]]) -> hist\n",
    "hist = cv2.calcHist([src], [0], None, [256], [0, 256])\n",
    "hist_norm = cv2.calcHist([dst_norm], [0], None, [256], [0, 256])\n",
    "hist_equal = cv2.calcHist([dst_equal], [0], None, [256], [0, 256])\n",
    "\n",
    "# 기본 이미지는 한쪽으로 쏠려있어서 평탄화 작업 해야함\n",
    "cv2.imshow('src', src)\n",
    "cv2.imshow('dst_norm', dst_norm)\n",
    "\n",
    "plt.plot(hist, color = 'b')\n",
    "plt.plot(hist_norm, color = 'r')\n",
    "plt.plot(hist_equal, color = 'g')\n",
    "plt.show()\n",
    "\n",
    "cv2.waitKey()\n",
    "cv2.destroyAllWindows()"
   ]
  },
  {
   "cell_type": "code",
   "execution_count": 16,
   "id": "f348a955",
   "metadata": {},
   "outputs": [],
   "source": [
    "src = cv2.imread('./fig/fig/spring_in_park.jpg', cv2.IMREAD_REDUCED_COLOR_2)\n",
    "\n",
    "src_hsv = cv2.cvtColor(src, cv2.COLOR_BGR2HSV)\n",
    "h, s, v = cv2.split(src_hsv)\n",
    "\n",
    "# normalize(src, dst[, alpha[, beta[, norm_type[, dtype[, mask]]]]]) -> dst\n",
    "v_norm = cv2.normalize(v, None, 0, 255, cv2.NORM_MINMAX, -1)\n",
    "v_equal = cv2.equalizeHist(v)\n",
    "\n",
    "dst_norm = cv2.merge((h, s, v_norm))\n",
    "dst_equal = cv2.merge((h, s, v_equal))\n",
    "\n",
    "dst_norm = cv2.cvtColor(dst_norm, cv2.COLOR_HSV2BGR)\n",
    "dst_equal = cv2.cvtColor(dst_equal, cv2.COLOR_HSV2BGR)\n",
    "\n",
    "\n",
    "\n",
    "cv2.imshow('src', src)\n",
    "cv2.imshow('dst_norm', dst_norm)\n",
    "cv2.imshow('dst_equal', dst_equal)\n",
    "\n",
    "\n",
    "\n",
    "# cv2.imshow('h', h)\n",
    "# cv2.imshow('s', s)\n",
    "# cv2.imshow('v', v) # 이놈거지고함\n",
    "\n",
    "cv2.waitKey()\n",
    "cv2.destroyAllWindows()"
   ]
  },
  {
   "cell_type": "code",
   "execution_count": 7,
   "id": "3a4a72ca",
   "metadata": {},
   "outputs": [],
   "source": [
    "# 근처에 있는 값들을 추출해냄 \n",
    "src = cv2.imread('./fig/fig/palette.png')\n",
    "# inRange(src, lowerb, upperb[, dst]) -> dst\n",
    "\n",
    "src_hsv = cv2.cvtColor(src, cv2.COLOR_BGR2HSV)\n",
    "\n",
    "dst1 = cv2.inRange(src,(0,100,0), (100,255,100))\n",
    "dst2 = cv2.inRange(src_hsv,(0,150,0), (70,255,255))\n",
    "\n",
    "dst1 = cv2.copyTo(src, dst2)\n",
    "\n",
    "cv2.imshow('src', src)\n",
    "cv2.imshow('dst1', dst1)\n",
    "cv2.imshow('dst2', dst2)\n",
    "\n",
    "cv2.waitKey()\n",
    "cv2.destroyAllWindows()"
   ]
  },
  {
   "cell_type": "code",
   "execution_count": 3,
   "id": "4b87928e",
   "metadata": {},
   "outputs": [
    {
     "ename": "error",
     "evalue": "OpenCV(4.6.0) D:\\a\\opencv-python\\opencv-python\\opencv\\modules\\highgui\\src\\window_w32.cpp:2363: error: (-27:Null pointer) NULL window: 'dst1' in function 'icvCreateTrackbar'\n",
     "output_type": "error",
     "traceback": [
      "\u001b[1;31m---------------------------------------------------------------------------\u001b[0m",
      "\u001b[1;31merror\u001b[0m                                     Traceback (most recent call last)",
      "Input \u001b[1;32mIn [3]\u001b[0m, in \u001b[0;36m<cell line: 13>\u001b[1;34m()\u001b[0m\n\u001b[0;32m     10\u001b[0m src \u001b[38;5;241m=\u001b[39m cv2\u001b[38;5;241m.\u001b[39mimread(\u001b[38;5;124m'\u001b[39m\u001b[38;5;124m./fig/fig/palette.png\u001b[39m\u001b[38;5;124m'\u001b[39m)\n\u001b[0;32m     12\u001b[0m cv2\u001b[38;5;241m.\u001b[39mimshow(\u001b[38;5;124m'\u001b[39m\u001b[38;5;124msrc\u001b[39m\u001b[38;5;124m'\u001b[39m, src)\n\u001b[1;32m---> 13\u001b[0m \u001b[43mcv2\u001b[49m\u001b[38;5;241;43m.\u001b[39;49m\u001b[43mcreateTrackbar\u001b[49m\u001b[43m(\u001b[49m\u001b[38;5;124;43m'\u001b[39;49m\u001b[38;5;124;43mh_min\u001b[39;49m\u001b[38;5;124;43m'\u001b[39;49m\u001b[43m,\u001b[49m\u001b[43m \u001b[49m\u001b[38;5;124;43m'\u001b[39;49m\u001b[38;5;124;43mdst1\u001b[39;49m\u001b[38;5;124;43m'\u001b[39;49m\u001b[43m,\u001b[49m\u001b[43m \u001b[49m\u001b[38;5;241;43m50\u001b[39;49m\u001b[43m,\u001b[49m\u001b[43m \u001b[49m\u001b[38;5;241;43m179\u001b[39;49m\u001b[43m,\u001b[49m\u001b[43m \u001b[49m\u001b[43mcall_track\u001b[49m\u001b[43m)\u001b[49m\n\u001b[0;32m     14\u001b[0m cv2\u001b[38;5;241m.\u001b[39mcreateTrackbar(\u001b[38;5;124m'\u001b[39m\u001b[38;5;124mh_max\u001b[39m\u001b[38;5;124m'\u001b[39m, \u001b[38;5;124m'\u001b[39m\u001b[38;5;124mdst1\u001b[39m\u001b[38;5;124m'\u001b[39m, \u001b[38;5;241m100\u001b[39m, \u001b[38;5;241m179\u001b[39m, call_track)\n\u001b[0;32m     16\u001b[0m cv2\u001b[38;5;241m.\u001b[39mwaitKey()\n",
      "\u001b[1;31merror\u001b[0m: OpenCV(4.6.0) D:\\a\\opencv-python\\opencv-python\\opencv\\modules\\highgui\\src\\window_w32.cpp:2363: error: (-27:Null pointer) NULL window: 'dst1' in function 'icvCreateTrackbar'\n"
     ]
    }
   ],
   "source": [
    "def call_track(pos) : \n",
    "    h_min = cv2.getTrackbarPos('h_min', 'dst')\n",
    "    h_max = cv2.getTrackbarPos('h_max', 'dst')\n",
    "    \n",
    "    dst1 = cv2.inRange(src, (hmin, 150, 0), (hmax,255,255))\n",
    "    dst = cv2.bitwise_not(dst1)\n",
    "                      \n",
    "    cv2.imshow('dst', dst)\n",
    "\n",
    "src = cv2.imread('./fig/fig/palette.png')\n",
    "\n",
    "cv2.imshow('src', src)\n",
    "cv2.createTrackbar('h_min', 'dst1', 50, 179, call_track)\n",
    "cv2.createTrackbar('h_max', 'dst1', 100, 179, call_track)\n",
    "                      \n",
    "cv2.waitKey()\n",
    "cv2.destroyAllWindows()"
   ]
  },
  {
   "cell_type": "code",
   "execution_count": null,
   "id": "5a6575bf",
   "metadata": {},
   "outputs": [],
   "source": [
    "img = cv2.imread('./fig/fig/chromakey.png')\n",
    "\n",
    "if img is None : \n",
    "    print('image read failed')\n",
    "    sys.exit()\n",
    "\n",
    "src = cv2.imread('./fig/fig/autumn.jpg')\n",
    "\n",
    "if src is None : \n",
    "    print('image read failed')\n",
    "    sys.exit()\n",
    "\n",
    "\n",
    "cv2.namedWindow('img', cv2.WINDOW_NORMAL)\n",
    "cv2.resizeWindow('img', 640,480)\n",
    "\n",
    "cv2.imshow('img', img)\n",
    "cv2.imshow('src', src)\n",
    "\n",
    "cv2.waitKey()\n",
    "cv2.destroyAllWindows()\n"
   ]
  },
  {
   "cell_type": "code",
   "execution_count": null,
   "id": "f2a73bc1",
   "metadata": {},
   "outputs": [],
   "source": [
    "hsv = cv2.cvtColor(frame1, cv2.COLOR_BGR2HSV)\n",
    "mask = cv2.inRange(hsv, (50, 150, 0), (70, 255, 255))\n",
    "cv2.copyTo(frame2, mask, frame1)"
   ]
  }
 ],
 "metadata": {
  "kernelspec": {
   "display_name": "Python 3 (ipykernel)",
   "language": "python",
   "name": "python3"
  },
  "language_info": {
   "codemirror_mode": {
    "name": "ipython",
    "version": 3
   },
   "file_extension": ".py",
   "mimetype": "text/x-python",
   "name": "python",
   "nbconvert_exporter": "python",
   "pygments_lexer": "ipython3",
   "version": "3.9.12"
  }
 },
 "nbformat": 4,
 "nbformat_minor": 5
}
