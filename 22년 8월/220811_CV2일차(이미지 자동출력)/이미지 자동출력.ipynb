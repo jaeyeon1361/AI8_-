{
 "cells": [
  {
   "cell_type": "code",
   "execution_count": 3,
   "id": "c19ed9f6",
   "metadata": {},
   "outputs": [
    {
     "name": "stdout",
     "output_type": "stream",
     "text": [
      "Collecting opencv-python\n",
      "  Downloading opencv_python-4.6.0.66-cp36-abi3-win_amd64.whl (35.6 MB)\n",
      "Requirement already satisfied: numpy>=1.17.3 in c:\\users\\admin\\anaconda3\\lib\\site-packages (from opencv-python) (1.21.5)\n",
      "Installing collected packages: opencv-python\n",
      "Successfully installed opencv-python-4.6.0.66\n"
     ]
    }
   ],
   "source": [
    "! pip install opencv-python"
   ]
  },
  {
   "cell_type": "code",
   "execution_count": 1,
   "id": "0cabd762",
   "metadata": {},
   "outputs": [
    {
     "data": {
      "text/plain": [
       "'4.6.0'"
      ]
     },
     "execution_count": 1,
     "metadata": {},
     "output_type": "execute_result"
    }
   ],
   "source": [
    "import numpy as np\n",
    "import cv2\n",
    "import sys\n",
    "\n",
    "cv2.__version__"
   ]
  },
  {
   "cell_type": "code",
   "execution_count": 2,
   "id": "7d750a4e",
   "metadata": {},
   "outputs": [],
   "source": [
    "img = cv2.imread('./fig/puppy.bmp', cv2.IMREAD_GRAYSCALE)\n",
    "\n",
    "if img is None : \n",
    "    print('image read failed')\n",
    "    sys.exit()\n",
    "    \n",
    "cv2.namedWindow('image', cv2.WINDOW_NORMAL)\n",
    "cv2.imshow('image', img)\n",
    "\n",
    "\n",
    "# sec 단위 설정 가능함\n",
    "while True : \n",
    "    key = cv2.waitKey()\n",
    "    if key == 27 or key == 113 :\n",
    "        break\n",
    "\n",
    "cv2.destroyAllWindows()"
   ]
  },
  {
   "cell_type": "code",
   "execution_count": 4,
   "id": "115ef232",
   "metadata": {},
   "outputs": [],
   "source": [
    "import os"
   ]
  },
  {
   "cell_type": "code",
   "execution_count": 12,
   "id": "8d5fcb13",
   "metadata": {},
   "outputs": [
    {
     "name": "stdout",
     "output_type": "stream",
     "text": [
      "['./fig/images/autumn_forest_park_128379_1920x1080.jpg', './fig/images/boat_mountains_lake_135258_1920x1080.jpg', './fig/images/forest_fog_trees_128751_1920x1080.jpg', './fig/images/pier_dock_sea_dusk_shore_118549_1920x1080.jpg', './fig/images/road_marking_evening_clouds_horizon_120298_1920x1080.jpg']\n"
     ]
    },
    {
     "data": {
      "text/plain": [
       "'./fig/images/boat_mountains_lake_135258_1920x1080.jpg'"
      ]
     },
     "execution_count": 12,
     "metadata": {},
     "output_type": "execute_result"
    }
   ],
   "source": [
    "# 이미지를 list로 가져온다음에 차례대로 나오도록 display\n",
    "img_list = os.listdir('./fig/images/')\n",
    "\n",
    "img_files = []\n",
    "for i in img_list :\n",
    "    img_path = './fig/images/' + i\n",
    "    img_files.append(img_path)\n",
    "\n",
    "# 창을 띄울 시 전체화면 설정\n",
    "cv2.namedWindow('image', cv2.WINDOW_NORMAL)\n",
    "cv2.setWindowProperty('image', cv2.WND_PROP_FULLSCREEN, cv2.WINDOW_FULLSCREEN)\n",
    "    \n",
    "# 반복을 위한 while 문    \n",
    "idx = 0 \n",
    "while True :\n",
    "    img = cv2.imread(img_files[idx])\n",
    "    \n",
    "    if img is None : \n",
    "        print('image read failed')\n",
    "        break\n",
    "        \n",
    "    cv2.imshow('image',img)\n",
    "    \n",
    "    if cv2.waitKey(3000) == 27:\n",
    "        break\n",
    "        \n",
    "    idx += 1\n",
    "    \n",
    "    # 만약 5번 반복이 끝나면 0으로 돌아가서 다시 반복 시작\n",
    "    if idx >= len(img_files) :\n",
    "        idx = 0\n",
    "    \n",
    "    \n",
    "cv2.destroyAllWindows()\n",
    "    \n",
    "print(img_files)\n",
    "img_files[1]"
   ]
  },
  {
   "cell_type": "code",
   "execution_count": 35,
   "id": "c43030d1",
   "metadata": {},
   "outputs": [
    {
     "name": "stdout",
     "output_type": "stream",
     "text": [
      "['./soi/img_resize.png', './soi/img_resize1.png', './soi/img_resize2.png', './soi/img_resize3.png', './soi/img_resize4.png', './soi/img_resize5.png', './soi/img_resize6.png', './soi/img_resize7.png', './soi/img_resize8.png', './soi/img_resize9.png']\n"
     ]
    },
    {
     "data": {
      "text/plain": [
       "'./soi/img_resize1.png'"
      ]
     },
     "execution_count": 35,
     "metadata": {},
     "output_type": "execute_result"
    }
   ],
   "source": [
    "## 연습 = 소이사진\n",
    "img_list = os.listdir('./soi/')\n",
    "\n",
    "img_files = []\n",
    "for i in img_list :\n",
    "    img_path = './soi/' + i\n",
    "    img_files.append(img_path)\n",
    "\n",
    "cv2.namedWindow('image', cv2.WINDOW_NORMAL)\n",
    "cv2.setWindowProperty('image', cv2.WND_PROP_FULLSCREEN, cv2.WINDOW_FULLSCREEN)\n",
    "    \n",
    "idx = 0 \n",
    "while True :\n",
    "    img = cv2.imread(img_files[idx])\n",
    "    \n",
    "    if img is None : \n",
    "        print('image read failed')\n",
    "        break\n",
    "        \n",
    "    cv2.imshow('image',img)\n",
    "    \n",
    "    if cv2.waitKey(3000) == 27:\n",
    "        break\n",
    "        \n",
    "    idx += 1\n",
    "    \n",
    "    \n",
    "    if idx >= len(img_files) :\n",
    "        idx = 0\n",
    "    \n",
    "    \n",
    "cv2.destroyAllWindows()\n",
    "    \n",
    "print(img_files)\n",
    "img_files[1]"
   ]
  },
  {
   "cell_type": "code",
   "execution_count": 19,
   "id": "ee8986e5",
   "metadata": {},
   "outputs": [],
   "source": [
    "import glob"
   ]
  },
  {
   "cell_type": "code",
   "execution_count": 20,
   "id": "a67a3267",
   "metadata": {},
   "outputs": [
    {
     "name": "stdout",
     "output_type": "stream",
     "text": [
      "['./fig/my_images\\\\pexels-darwis-alwan-1808329.jpg', './fig/my_images\\\\pexels-james-wheeler-1542495.jpg', './fig/my_images\\\\pexels-mike-145685.jpg', './fig/my_images\\\\pexels-pixabay-46164.jpg']\n"
     ]
    }
   ],
   "source": [
    "# 이미지 한거번에 불러오기\n",
    "img_list = glob.glob('./fig/my_images/*.*')\n",
    "print(img_list)"
   ]
  },
  {
   "cell_type": "code",
   "execution_count": 26,
   "id": "f57f045e",
   "metadata": {},
   "outputs": [
    {
     "name": "stdout",
     "output_type": "stream",
     "text": [
      "<class 'numpy.ndarray'>\n",
      "img1 shape (480, 640, 3)\n",
      "img2 shape (480, 640)\n",
      "data type uint8\n",
      "480 640\n"
     ]
    }
   ],
   "source": [
    "img1 = cv2.imread('./fig/fig/cat.bmp')\n",
    "img2 = cv2.imread('./fig/fig/cat.bmp', cv2.IMREAD_GRAYSCALE)\n",
    "\n",
    "print(type(img1))\n",
    "print('img1 shape', img1.shape)\n",
    "print('img2 shape', img2.shape)\n",
    "print('data type', img1.dtype)\n",
    "\n",
    "# \n",
    "h, w = img1.shape[:2]\n",
    "print(h, w)\n",
    "\n",
    "if img1 is None or img2 is None :\n",
    "    print('image read failed')\n",
    "    sys.exit()\n",
    "    \n",
    "cv2.imshow('image1', img1)\n",
    "cv2.imshow('image2', img2)\n",
    "\n",
    "cv2.waitKey()\n",
    "cv2.destroyAllWindows()"
   ]
  },
  {
   "cell_type": "code",
   "execution_count": 40,
   "id": "fe24165f",
   "metadata": {},
   "outputs": [
    {
     "name": "stdout",
     "output_type": "stream",
     "text": [
      "[ 62 103 155]\n"
     ]
    }
   ],
   "source": [
    "img = cv2.imread('./fig/fig/cat.bmp')\n",
    "\n",
    "# 가로와 세로 값이고, 접근해서 값을 도출\n",
    "h, w = img.shape[:2]\n",
    "\n",
    "p1 = img[240, 320]  # or p1 = img[h//2, w//2]\n",
    "\n",
    "# 이미지의 센터값만 \n",
    "img[10:200, 20:100] = (0, 0, 255)\n",
    "\n",
    "print(p1)\n",
    "\n",
    "cv2.imshow('image2', img)\n",
    "\n",
    "cv2.waitKey()\n",
    "cv2.destroyAllWindows()"
   ]
  },
  {
   "cell_type": "code",
   "execution_count": 72,
   "id": "92d53639",
   "metadata": {},
   "outputs": [],
   "source": [
    "# 글자 관련, 흑백 \n",
    "img1 = np.zeros((400, 600, 3), dtype = np.uint8)\n",
    "img2 = np.ones((600, 1200), dtype = np.uint8) * 255\n",
    "img3 = np.full((600, 1200, 3), (255,0,255), np.uint8)\n",
    "\n",
    "\n",
    "\n",
    "cv2.imshow('img1', img1)\n",
    "cv2.imshow('img2', img2)\n",
    "cv2.imshow('img3', img3)\n",
    "\n",
    "cv2.waitKey()\n",
    "cv2.destroyAllWindows()"
   ]
  },
  {
   "cell_type": "code",
   "execution_count": 76,
   "id": "a2758c94",
   "metadata": {},
   "outputs": [],
   "source": [
    "img = cv2.imread('./fig/fig/puppy.bmp')\n",
    "\n",
    "img1 = img\n",
    "img2 = img.copy()\n",
    "\n",
    "img[200:300, 240:400] = (0, 0, 255)\n",
    "\n",
    "cv2.imshow('img', img)\n",
    "cv2.imshow('img1', img1)\n",
    "cv2.imshow('img2', img2)\n",
    "\n",
    "cv2.waitKey()\n",
    "cv2.destroyAllWindows()"
   ]
  },
  {
   "cell_type": "code",
   "execution_count": 59,
   "id": "d0af5829",
   "metadata": {},
   "outputs": [],
   "source": [
    "img = cv2.imread('./fig/fig/puppy.bmp')\n",
    "\n",
    "img1 = img[200:400, 300:500]\n",
    "img2 = img[200:400, 300:500].copy()\n",
    "\n",
    "cv2.circle(img1, (100,100), 50, (0, 0, 255), -1)\n",
    "cv2.circle(img2, (100,100), 50, (255, 0, 0), -1)\n",
    "\n",
    "cv2.imshow('img', img)\n",
    "cv2.imshow('img1', img1)\n",
    "cv2.imshow('img2', img2)\n",
    "\n",
    "\n",
    "\n",
    "cv2.waitKey()\n",
    "cv2.destroyAllWindows()"
   ]
  },
  {
   "cell_type": "code",
   "execution_count": 96,
   "id": "36636e4b",
   "metadata": {},
   "outputs": [],
   "source": [
    "img = cv2.imread('./fig/fig/cat.bmp')\n",
    "\n",
    "img[180:240, 280:400] = (0, 0, 0)\n",
    "\n",
    "cv2.imshow('img', img)\n",
    "\n",
    "cv2.waitKey()\n",
    "cv2.destroyAllWindows()"
   ]
  },
  {
   "cell_type": "code",
   "execution_count": 159,
   "id": "6fb7fe1a",
   "metadata": {},
   "outputs": [
    {
     "name": "stdout",
     "output_type": "stream",
     "text": [
      "(720, 960, 3)\n"
     ]
    }
   ],
   "source": [
    "img = cv2.imread('./KakaoTalk_20220811_152315560_05.jpg')\n",
    "print(img.shape)\n",
    "\n",
    "img[150:220, 300:500] = (255, 255, 255)\n",
    "    \n",
    "cv2.imshow('img', img)\n",
    "\n",
    "cv2.waitKey()\n",
    "cv2.destroyAllWindows()"
   ]
  },
  {
   "cell_type": "code",
   "execution_count": null,
   "id": "a7af5cd6",
   "metadata": {},
   "outputs": [],
   "source": []
  }
 ],
 "metadata": {
  "kernelspec": {
   "display_name": "Python 3 (ipykernel)",
   "language": "python",
   "name": "python3"
  },
  "language_info": {
   "codemirror_mode": {
    "name": "ipython",
    "version": 3
   },
   "file_extension": ".py",
   "mimetype": "text/x-python",
   "name": "python",
   "nbconvert_exporter": "python",
   "pygments_lexer": "ipython3",
   "version": "3.9.12"
  }
 },
 "nbformat": 4,
 "nbformat_minor": 5
}
