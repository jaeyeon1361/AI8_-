{
  "nbformat": 4,
  "nbformat_minor": 0,
  "metadata": {
    "colab": {
      "name": "순환신경망(RNN) IMDB리뷰 분류.ipynb",
      "provenance": [],
      "collapsed_sections": []
    },
    "kernelspec": {
      "name": "python3",
      "display_name": "Python 3"
    },
    "language_info": {
      "name": "python"
    },
    "accelerator": "GPU",
    "gpuClass": "standard"
  },
  "cells": [
    {
      "cell_type": "code",
      "execution_count": 1,
      "metadata": {
        "colab": {
          "base_uri": "https://localhost:8080/"
        },
        "id": "QOOreXxIFP4F",
        "outputId": "73584000-8228-4f85-9919-e05fae34fefb"
      },
      "outputs": [
        {
          "output_type": "stream",
          "name": "stdout",
          "text": [
            "Downloading data from https://storage.googleapis.com/tensorflow/tf-keras-datasets/imdb.npz\n",
            "17465344/17464789 [==============================] - 0s 0us/step\n",
            "17473536/17464789 [==============================] - 0s 0us/step\n"
          ]
        }
      ],
      "source": [
        "from tensorflow.keras.datasets import imdb\n",
        "(train_input, train_target), (test_input, test_target) = imdb.load_data(num_words=500)"
      ]
    },
    {
      "cell_type": "code",
      "source": [
        "print(train_input.shape, test_input.shape)"
      ],
      "metadata": {
        "colab": {
          "base_uri": "https://localhost:8080/"
        },
        "id": "yVloQT0Cl6it",
        "outputId": "7e1c9a4b-5164-46c5-d741-c49a314602cb"
      },
      "execution_count": 2,
      "outputs": [
        {
          "output_type": "stream",
          "name": "stdout",
          "text": [
            "(25000,) (25000,)\n"
          ]
        }
      ]
    },
    {
      "cell_type": "code",
      "source": [
        "print(len(train_input[0]))\n",
        "print(len(train_input[1]))"
      ],
      "metadata": {
        "colab": {
          "base_uri": "https://localhost:8080/"
        },
        "id": "RDiEdReZUnvc",
        "outputId": "03d4bcc2-861b-434a-ac24-7757b68637c8"
      },
      "execution_count": 3,
      "outputs": [
        {
          "output_type": "stream",
          "name": "stdout",
          "text": [
            "218\n",
            "189\n"
          ]
        }
      ]
    },
    {
      "cell_type": "code",
      "source": [
        "print(train_input[0])"
      ],
      "metadata": {
        "colab": {
          "base_uri": "https://localhost:8080/"
        },
        "id": "CMQPvGxZUujA",
        "outputId": "9b78855a-8cd0-495f-99a1-7bc132b92aac"
      },
      "execution_count": 4,
      "outputs": [
        {
          "output_type": "stream",
          "name": "stdout",
          "text": [
            "[1, 14, 22, 16, 43, 2, 2, 2, 2, 65, 458, 2, 66, 2, 4, 173, 36, 256, 5, 25, 100, 43, 2, 112, 50, 2, 2, 9, 35, 480, 284, 5, 150, 4, 172, 112, 167, 2, 336, 385, 39, 4, 172, 2, 2, 17, 2, 38, 13, 447, 4, 192, 50, 16, 6, 147, 2, 19, 14, 22, 4, 2, 2, 469, 4, 22, 71, 87, 12, 16, 43, 2, 38, 76, 15, 13, 2, 4, 22, 17, 2, 17, 12, 16, 2, 18, 2, 5, 62, 386, 12, 8, 316, 8, 106, 5, 4, 2, 2, 16, 480, 66, 2, 33, 4, 130, 12, 16, 38, 2, 5, 25, 124, 51, 36, 135, 48, 25, 2, 33, 6, 22, 12, 215, 28, 77, 52, 5, 14, 407, 16, 82, 2, 8, 4, 107, 117, 2, 15, 256, 4, 2, 7, 2, 5, 2, 36, 71, 43, 2, 476, 26, 400, 317, 46, 7, 4, 2, 2, 13, 104, 88, 4, 381, 15, 297, 98, 32, 2, 56, 26, 141, 6, 194, 2, 18, 4, 226, 22, 21, 134, 476, 26, 480, 5, 144, 30, 2, 18, 51, 36, 28, 224, 92, 25, 104, 4, 226, 65, 16, 38, 2, 88, 12, 16, 283, 5, 16, 2, 113, 103, 32, 15, 16, 2, 19, 178, 32]\n"
          ]
        }
      ]
    },
    {
      "cell_type": "code",
      "source": [
        "print(train_input[:20])"
      ],
      "metadata": {
        "colab": {
          "base_uri": "https://localhost:8080/"
        },
        "id": "1bkl1jfCU8AI",
        "outputId": "b9df41e1-4df0-4a11-8cfa-a84bc1ce2fab"
      },
      "execution_count": 5,
      "outputs": [
        {
          "output_type": "stream",
          "name": "stdout",
          "text": [
            "[list([1, 14, 22, 16, 43, 2, 2, 2, 2, 65, 458, 2, 66, 2, 4, 173, 36, 256, 5, 25, 100, 43, 2, 112, 50, 2, 2, 9, 35, 480, 284, 5, 150, 4, 172, 112, 167, 2, 336, 385, 39, 4, 172, 2, 2, 17, 2, 38, 13, 447, 4, 192, 50, 16, 6, 147, 2, 19, 14, 22, 4, 2, 2, 469, 4, 22, 71, 87, 12, 16, 43, 2, 38, 76, 15, 13, 2, 4, 22, 17, 2, 17, 12, 16, 2, 18, 2, 5, 62, 386, 12, 8, 316, 8, 106, 5, 4, 2, 2, 16, 480, 66, 2, 33, 4, 130, 12, 16, 38, 2, 5, 25, 124, 51, 36, 135, 48, 25, 2, 33, 6, 22, 12, 215, 28, 77, 52, 5, 14, 407, 16, 82, 2, 8, 4, 107, 117, 2, 15, 256, 4, 2, 7, 2, 5, 2, 36, 71, 43, 2, 476, 26, 400, 317, 46, 7, 4, 2, 2, 13, 104, 88, 4, 381, 15, 297, 98, 32, 2, 56, 26, 141, 6, 194, 2, 18, 4, 226, 22, 21, 134, 476, 26, 480, 5, 144, 30, 2, 18, 51, 36, 28, 224, 92, 25, 104, 4, 226, 65, 16, 38, 2, 88, 12, 16, 283, 5, 16, 2, 113, 103, 32, 15, 16, 2, 19, 178, 32])\n",
            " list([1, 194, 2, 194, 2, 78, 228, 5, 6, 2, 2, 2, 134, 26, 4, 2, 8, 118, 2, 14, 394, 20, 13, 119, 2, 189, 102, 5, 207, 110, 2, 21, 14, 69, 188, 8, 30, 23, 7, 4, 249, 126, 93, 4, 114, 9, 2, 2, 5, 2, 4, 116, 9, 35, 2, 4, 229, 9, 340, 2, 4, 118, 9, 4, 130, 2, 19, 4, 2, 5, 89, 29, 2, 46, 37, 4, 455, 9, 45, 43, 38, 2, 2, 398, 4, 2, 26, 2, 5, 163, 11, 2, 2, 4, 2, 9, 194, 2, 7, 2, 2, 349, 2, 148, 2, 2, 2, 15, 123, 125, 68, 2, 2, 15, 349, 165, 2, 98, 5, 4, 228, 9, 43, 2, 2, 15, 299, 120, 5, 120, 174, 11, 220, 175, 136, 50, 9, 2, 228, 2, 5, 2, 2, 245, 2, 5, 4, 2, 131, 152, 491, 18, 2, 32, 2, 2, 14, 9, 6, 371, 78, 22, 2, 64, 2, 9, 8, 168, 145, 23, 4, 2, 15, 16, 4, 2, 5, 28, 6, 52, 154, 462, 33, 89, 78, 285, 16, 145, 95])\n",
            " list([1, 14, 47, 8, 30, 31, 7, 4, 249, 108, 7, 4, 2, 54, 61, 369, 13, 71, 149, 14, 22, 112, 4, 2, 311, 12, 16, 2, 33, 75, 43, 2, 296, 4, 86, 320, 35, 2, 19, 263, 2, 2, 4, 2, 33, 89, 78, 12, 66, 16, 4, 360, 7, 4, 58, 316, 334, 11, 4, 2, 43, 2, 2, 8, 257, 85, 2, 42, 2, 2, 83, 68, 2, 15, 36, 165, 2, 278, 36, 69, 2, 2, 8, 106, 14, 2, 2, 18, 6, 22, 12, 215, 28, 2, 40, 6, 87, 326, 23, 2, 21, 23, 22, 12, 272, 40, 57, 31, 11, 4, 22, 47, 6, 2, 51, 9, 170, 23, 2, 116, 2, 2, 13, 191, 79, 2, 89, 2, 14, 9, 8, 106, 2, 2, 35, 2, 6, 227, 7, 129, 113])\n",
            " list([1, 4, 2, 2, 33, 2, 4, 2, 432, 111, 153, 103, 4, 2, 13, 70, 131, 67, 11, 61, 2, 2, 35, 2, 2, 61, 2, 452, 2, 4, 2, 7, 2, 59, 166, 4, 105, 216, 2, 41, 2, 9, 15, 7, 35, 2, 2, 31, 8, 4, 2, 23, 4, 2, 2, 6, 2, 42, 38, 39, 121, 59, 456, 10, 10, 7, 265, 12, 2, 111, 153, 159, 59, 16, 2, 21, 25, 2, 482, 39, 4, 96, 59, 2, 12, 4, 172, 65, 9, 2, 11, 2, 4, 2, 5, 2, 7, 2, 17, 13, 2, 12, 19, 6, 464, 31, 314, 11, 2, 6, 2, 2, 11, 8, 202, 27, 310, 4, 2, 2, 8, 2, 58, 10, 10, 2, 2, 180, 40, 14, 413, 173, 7, 263, 112, 37, 152, 377, 4, 2, 263, 2, 2, 178, 54, 75, 71, 476, 36, 413, 263, 2, 182, 5, 17, 75, 2, 2, 36, 279, 131, 2, 17, 2, 42, 17, 35, 2, 2, 192, 5, 2, 2, 19, 2, 217, 2, 2, 2, 2, 2, 5, 2, 10, 10, 61, 403, 9, 2, 40, 61, 2, 5, 27, 2, 159, 90, 263, 2, 2, 309, 8, 178, 5, 82, 2, 4, 65, 15, 2, 145, 143, 2, 12, 2, 2, 2, 2, 2, 15, 2, 4, 2, 2, 7, 2, 94, 2, 2, 2, 11, 2, 4, 2, 7, 2, 246, 2, 9, 2, 11, 2, 14, 9, 51, 408, 12, 94, 318, 2, 12, 47, 6, 2, 2, 5, 2, 2, 19, 49, 7, 4, 2, 2, 2, 25, 80, 126, 2, 10, 10, 2, 2, 2, 27, 2, 11, 2, 2, 159, 27, 341, 29, 2, 19, 2, 173, 7, 90, 2, 8, 30, 11, 4, 2, 86, 2, 8, 2, 46, 11, 2, 21, 29, 9, 2, 23, 4, 2, 2, 2, 6, 2, 2, 2, 10, 10, 246, 50, 9, 6, 2, 2, 2, 90, 29, 2, 8, 124, 4, 2, 4, 2, 496, 27, 2, 2, 2, 121, 127, 2, 130, 5, 29, 494, 8, 124, 4, 2, 496, 4, 341, 7, 27, 2, 10, 10, 29, 9, 2, 8, 97, 6, 236, 2, 2, 8, 4, 2, 7, 31, 7, 2, 91, 2, 2, 70, 4, 2, 30, 2, 42, 9, 12, 32, 11, 2, 10, 10, 11, 14, 65, 44, 2, 75, 2, 2, 2, 2, 2, 4, 2, 7, 154, 5, 4, 2, 53, 2, 2, 7, 2, 2, 11, 399, 38, 75, 257, 2, 19, 2, 17, 29, 456, 4, 65, 7, 27, 205, 113, 10, 10, 2, 4, 2, 2, 9, 242, 4, 91, 2, 2, 5, 2, 307, 22, 7, 2, 126, 93, 40, 2, 13, 188, 2, 2, 19, 4, 2, 7, 2, 2, 23, 53, 2, 21, 82, 40, 2, 13, 2, 14, 280, 13, 219, 4, 2, 431, 2, 2, 4, 2, 2, 2, 7, 2, 5, 94, 40, 25, 238, 60, 2, 4, 2, 2, 2, 7, 4, 2, 132, 8, 67, 6, 22, 15, 9, 283, 8, 2, 14, 31, 9, 242, 2, 48, 25, 279, 2, 23, 12, 2, 195, 25, 238, 60, 2, 2, 4, 2, 7, 2, 5, 4, 2, 154, 2, 7, 2, 50, 26, 49, 2, 15, 2, 30, 2, 21, 64, 2])\n",
            " list([1, 249, 2, 7, 61, 113, 10, 10, 13, 2, 14, 20, 56, 33, 2, 18, 457, 88, 13, 2, 2, 45, 2, 13, 70, 79, 49, 2, 2, 13, 16, 355, 340, 355, 2, 96, 143, 4, 22, 32, 289, 7, 61, 369, 71, 2, 5, 13, 16, 131, 2, 249, 114, 249, 229, 249, 20, 13, 28, 126, 110, 13, 473, 8, 2, 61, 419, 56, 429, 6, 2, 18, 35, 2, 95, 474, 2, 5, 25, 124, 138, 88, 12, 421, 2, 52, 2, 2, 61, 419, 11, 13, 2, 15, 2, 20, 11, 4, 2, 5, 296, 12, 2, 5, 15, 421, 128, 74, 233, 334, 207, 126, 224, 12, 2, 298, 2, 2, 7, 2, 5, 2, 2, 43, 8, 79, 120, 15, 2, 13, 2, 25, 2, 18, 165, 170, 143, 19, 14, 5, 2, 6, 226, 251, 7, 61, 113])\n",
            " list([1, 2, 128, 74, 12, 2, 163, 15, 4, 2, 2, 2, 2, 32, 85, 156, 45, 40, 148, 139, 121, 2, 2, 10, 10, 2, 173, 4, 2, 2, 16, 2, 8, 4, 226, 65, 12, 43, 127, 24, 2, 10, 10])\n",
            " list([1, 2, 365, 2, 5, 2, 354, 11, 14, 2, 2, 7, 2, 2, 2, 356, 44, 4, 2, 2, 2, 5, 200, 4, 2, 11, 2, 2, 2, 2, 2, 5, 2, 26, 6, 2, 2, 17, 369, 37, 215, 2, 143, 2, 5, 2, 8, 2, 15, 36, 119, 257, 85, 52, 486, 9, 6, 2, 2, 63, 271, 6, 196, 96, 2, 2, 4, 2, 7, 4, 2, 2, 2, 63, 47, 77, 2, 180, 6, 227, 11, 94, 2, 2, 13, 423, 4, 168, 7, 4, 22, 5, 89, 2, 71, 270, 56, 5, 13, 197, 12, 161, 2, 99, 76, 23, 2, 7, 419, 2, 40, 91, 85, 108, 7, 4, 2, 5, 2, 81, 55, 52, 2])\n",
            " list([1, 4, 2, 2, 4, 65, 7, 4, 2, 2, 2, 2, 2, 2, 2, 2, 2, 2, 2, 2, 2, 2, 4, 2, 2, 2, 37, 9, 150, 4, 2, 2, 11, 2, 4, 2, 2, 313, 6, 176, 2, 9, 2, 138, 9, 2, 19, 4, 96, 183, 26, 4, 192, 15, 27, 2, 2, 2, 2, 2, 84, 11, 4, 2, 152, 339, 2, 42, 2, 2, 2, 345, 2, 2, 142, 43, 218, 208, 54, 29, 2, 2, 46, 4, 2, 183, 80, 115, 30, 4, 172, 174, 10, 10, 2, 398, 2, 2, 2, 34, 2, 2, 2, 2, 17, 4, 2, 2, 2, 64, 85, 22, 2, 2, 38, 230, 9, 4, 2, 2, 251, 2, 2, 195, 301, 14, 16, 31, 7, 4, 2, 8, 2, 2, 33, 4, 2, 103, 465, 2, 42, 2, 45, 446, 11, 2, 19, 184, 76, 32, 4, 2, 207, 110, 13, 197, 4, 2, 16, 2, 2, 2, 2, 13, 258, 4, 2, 66, 338, 55, 2, 4, 2, 2, 65, 2, 8, 2, 61, 2, 42, 2, 61, 2, 120, 45, 2, 6, 320, 2, 99, 196, 2, 2, 2, 4, 225, 4, 373, 2, 33, 4, 130, 63, 69, 72, 2, 46, 2, 225, 14, 66, 194, 2, 2, 56, 8, 2, 2, 6, 2, 155, 11, 4, 2, 2, 45, 2, 2, 8, 30, 6, 117, 430, 19, 6, 2, 9, 15, 66, 424, 8, 2, 178, 9, 15, 66, 424, 8, 2, 178, 9, 15, 66, 142, 15, 9, 424, 8, 28, 178, 2, 44, 12, 17, 4, 130, 2, 2, 9, 6, 2, 267, 185, 430, 4, 118, 2, 277, 15, 4, 2, 100, 216, 56, 19, 4, 357, 114, 2, 367, 45, 115, 93, 2, 121, 4, 2, 79, 32, 68, 278, 39, 8, 2, 162, 2, 237, 2, 7, 98, 306, 8, 157, 2, 2, 11, 6, 2, 13, 2, 15, 2, 76, 42, 138, 36, 2, 77, 2, 159, 150, 4, 229, 497, 8, 2, 11, 175, 251, 453, 19, 2, 189, 12, 43, 127, 6, 394, 292, 7, 2, 4, 107, 8, 4, 2, 15, 2, 2, 9, 2, 42, 2, 6, 66, 78, 22, 15, 13, 244, 2, 8, 135, 233, 52, 44, 10, 10, 466, 112, 398, 2, 34, 4, 2, 2, 2, 2, 225, 57, 2, 133, 225, 6, 227, 7, 2, 2, 6, 171, 139, 7, 2, 2, 56, 11, 6, 2, 21, 164, 25, 426, 81, 33, 344, 2, 19, 6, 2, 7, 2, 2, 6, 2, 4, 22, 9, 2, 2, 237, 45, 188, 6, 55, 2, 2, 2, 2, 225, 2, 2, 42, 2, 225, 6, 2, 2, 2, 2, 21, 4, 2, 9, 364, 23, 4, 2, 2, 225, 24, 76, 133, 18, 4, 189, 2, 10, 10, 2, 11, 2, 11, 2, 14, 47, 15, 2, 364, 352, 168, 44, 12, 45, 24, 2, 93, 21, 247, 2, 4, 116, 34, 35, 2, 8, 72, 177, 9, 164, 8, 2, 344, 44, 13, 191, 135, 13, 126, 421, 233, 18, 259, 10, 10, 4, 2, 2, 4, 2, 2, 7, 112, 199, 2, 357, 39, 63, 12, 115, 2, 2, 8, 15, 35, 2, 2, 65, 57, 2, 6, 2, 277, 2, 37, 25, 92, 202, 6, 2, 44, 25, 28, 6, 22, 15, 122, 24, 2, 72, 33, 32])\n",
            " list([1, 43, 188, 46, 5, 2, 264, 51, 6, 2, 2, 14, 9, 2, 81, 25, 2, 46, 7, 6, 20, 2, 11, 141, 2, 5, 2, 2, 102, 28, 413, 38, 120, 2, 15, 4, 2, 7, 2, 142, 371, 318, 5, 2, 2, 2, 2, 2, 122, 14, 8, 72, 54, 12, 86, 385, 46, 5, 14, 20, 9, 399, 8, 72, 150, 13, 161, 124, 6, 155, 44, 14, 159, 170, 83, 12, 5, 51, 6, 2, 48, 25, 2, 4, 2, 25, 238, 79, 4, 2, 15, 14, 9, 31, 7, 148, 2, 102, 44, 35, 480, 2, 2, 19, 120, 4, 350, 228, 5, 269, 8, 28, 178, 2, 2, 7, 51, 6, 87, 65, 12, 9, 2, 21, 95, 24, 2, 178, 11, 2, 14, 9, 24, 15, 20, 4, 84, 376, 4, 65, 14, 127, 141, 6, 52, 292, 7, 2, 175, 2, 7, 68, 2, 137, 75, 2, 68, 182, 5, 235, 175, 333, 19, 98, 50, 9, 38, 76, 2, 4, 2, 15, 166, 285, 36, 140, 143, 38, 76, 53, 2, 2, 4, 2, 16, 82, 6, 87, 2, 44, 2, 2, 5, 2, 4, 2, 11, 35, 2, 96, 21, 14, 22, 9, 76, 53, 7, 6, 406, 65, 13, 43, 219, 12, 2, 21, 13, 80, 140, 5, 135, 15, 14, 9, 31, 7, 4, 118, 2, 13, 28, 126, 110])\n",
            " list([1, 14, 20, 47, 111, 439, 2, 19, 12, 15, 166, 12, 216, 125, 40, 6, 364, 352, 2, 2, 39, 294, 11, 22, 396, 13, 28, 8, 202, 12, 2, 23, 94, 2, 151, 111, 211, 469, 4, 20, 13, 258, 2, 2, 2, 12, 16, 38, 78, 33, 211, 15, 12, 16, 2, 63, 93, 12, 6, 253, 106, 10, 10, 48, 335, 267, 18, 6, 364, 2, 2, 20, 19, 6, 2, 7, 2, 189, 5, 6, 2, 7, 2, 2, 95, 2, 6, 2, 7, 2, 2, 49, 369, 120, 5, 28, 49, 253, 10, 10, 13, 2, 19, 85, 2, 15, 4, 481, 9, 55, 78, 2, 9, 375, 8, 2, 8, 2, 76, 7, 4, 58, 5, 4, 2, 9, 243, 7, 43, 50])\n",
            " list([1, 2, 189, 438, 47, 110, 142, 7, 6, 2, 120, 4, 236, 378, 7, 153, 19, 87, 108, 141, 17, 2, 5, 2, 2, 2, 23, 8, 4, 136, 2, 2, 4, 2, 43, 2, 21, 2, 419, 5, 2, 120, 91, 2, 189, 2, 5, 9, 2, 31, 7, 4, 118, 2, 189, 108, 126, 93, 2, 16, 2, 324, 23, 6, 364, 352, 21, 14, 9, 93, 56, 18, 11, 230, 53, 2, 74, 31, 34, 4, 2, 7, 4, 22, 5, 14, 11, 471, 9, 2, 34, 4, 321, 487, 5, 116, 15, 2, 4, 22, 9, 6, 2, 4, 114, 2, 23, 107, 293, 2, 2, 5, 328, 2, 4, 2, 109, 9, 6, 132, 2, 2, 2, 8, 2, 18, 2, 29, 9, 276, 11, 6, 2, 19, 289, 409, 4, 2, 2, 2, 2, 2, 2, 2, 5, 27, 2, 2, 2, 103, 6, 346, 137, 11, 4, 2, 295, 36, 2, 2, 6, 2, 273, 11, 4, 2, 15, 2, 35, 154, 2, 103, 2, 173, 7, 12, 36, 2, 2, 94, 2, 2, 5, 2, 36, 203, 30, 2, 8, 361, 12, 8, 2, 143, 4, 2, 2, 10, 10, 328, 2, 9, 6, 55, 221, 2, 5, 146, 165, 179, 2, 15, 50, 2, 53, 108, 448, 23, 12, 17, 225, 38, 76, 2, 18, 183, 8, 81, 19, 12, 45, 2, 8, 135, 15, 2, 166, 4, 118, 7, 45, 2, 17, 466, 45, 2, 4, 22, 115, 165, 2, 2, 5, 2, 8, 2, 73, 469, 167, 2, 2, 2, 6, 87, 2, 18, 4, 22, 4, 192, 15, 91, 7, 12, 304, 273, 2, 4, 2, 2, 2, 2, 15, 4, 22, 2, 55, 2, 5, 14, 2, 2, 4, 2, 326, 7, 4, 2, 2, 8, 361, 2, 8, 2, 46, 7, 4, 2, 45, 55, 2, 8, 79, 496, 98, 45, 400, 301, 15, 4, 2, 9, 4, 155, 15, 66, 2, 84, 5, 14, 22, 2, 15, 17, 4, 167, 2, 15, 75, 70, 115, 66, 30, 252, 7, 2, 51, 9, 2, 4, 2, 5, 14, 2, 8, 2, 15, 2, 165, 127, 2, 8, 30, 179, 2, 4, 22, 9, 2, 18, 6, 176, 7, 2, 2, 4, 2, 114, 4, 105, 26, 32, 55, 221, 11, 68, 205, 96, 5, 4, 192, 15, 4, 274, 410, 220, 304, 23, 94, 205, 109, 9, 55, 73, 224, 259, 2, 15, 4, 22, 2, 2, 34, 4, 130, 2, 30, 2, 345, 17, 4, 277, 199, 166, 281, 5, 2, 8, 30, 179, 2, 444, 2, 9, 6, 371, 87, 189, 22, 5, 31, 7, 4, 118, 7, 4, 2, 2, 2, 2])\n",
            " list([1, 54, 13, 2, 14, 20, 13, 69, 55, 364, 2, 21, 54, 13, 219, 12, 13, 2, 15, 4, 20, 16, 329, 6, 176, 329, 74, 51, 13, 2, 4, 156, 71, 78, 4, 2, 322, 16, 31, 7, 4, 249, 4, 65, 16, 38, 379, 12, 100, 157, 18, 6, 2, 20, 2, 18, 4, 2, 21, 14, 31, 9, 24, 6, 212, 12, 9, 6, 2, 2, 7, 2, 4, 425, 9, 73, 2, 2, 18, 31, 155, 36, 100, 2, 379, 20, 103, 351, 2, 13, 202, 12, 2, 5, 6, 320, 46, 7, 457])\n",
            " list([1, 13, 119, 2, 189, 2, 13, 92, 459, 48, 4, 116, 9, 2, 2, 42, 2, 4, 2, 168, 2, 13, 423, 14, 20, 2, 18, 4, 2, 2, 32, 4, 96, 39, 4, 454, 7, 4, 22, 8, 4, 55, 130, 168, 13, 92, 359, 6, 158, 2, 2, 42, 6, 2, 19, 194, 2, 2, 6, 114, 8, 72, 21, 465, 2, 304, 4, 51, 9, 14, 20, 44, 155, 8, 6, 226, 162, 2, 2, 51, 9, 14, 20, 44, 10, 10, 14, 218, 2, 2, 42, 2, 21, 48, 25, 28, 35, 2, 5, 6, 320, 8, 2, 5, 42, 25, 181, 8, 130, 56, 2, 2, 5, 2, 2, 14, 2])\n",
            " list([1, 259, 37, 100, 169, 2, 2, 11, 14, 418, 7, 2, 2, 8, 28, 68, 419, 2, 75, 28, 4, 2, 2, 2, 173, 58, 2, 322, 19, 2, 32, 120, 41, 2, 2, 2, 39, 2, 2, 34, 35, 2, 492, 150, 59, 9, 2, 2, 2, 32, 120, 4, 2, 2, 4, 2, 38, 2, 2, 2, 8, 2, 2, 2, 41, 2, 11, 2, 2, 75, 28, 4, 2, 37, 2, 46, 34, 2, 6, 2, 37, 43, 2, 8, 30, 27, 2, 442, 2, 19, 90, 88, 29, 385, 99, 2, 5, 2, 34, 2, 27, 2, 2, 260, 383, 19, 41, 2, 5, 95, 2, 41, 56, 75, 28, 4, 2, 37, 9, 2, 2, 34, 27, 2, 5, 37, 266, 344, 5, 2, 27, 2, 25, 67, 45, 32, 2, 2, 2, 4, 64, 2, 2, 11, 14, 2, 2, 7, 2, 9, 54, 4, 2, 2, 27, 2, 2, 45, 6, 52, 155, 14, 2, 16, 324, 23, 374, 88, 2, 51, 6, 437, 7, 2, 22, 12, 62, 30, 48, 15, 232, 37, 2, 2, 2, 8, 30, 2, 11, 14, 2, 9, 66, 2, 57, 2, 91, 84, 104, 2, 26, 2, 75, 219, 14, 2, 20, 95, 276, 23, 2, 255, 4, 2, 449, 61, 2, 12, 16, 6, 2, 17, 8, 63, 31, 16, 433, 51, 9, 170, 23, 11, 2, 134, 2, 2, 2, 2])\n",
            " list([1, 2, 20, 33, 118, 481, 302, 26, 184, 52, 2, 2, 2, 2, 13, 2, 45, 6, 2, 10, 10, 25, 276, 49, 2, 2, 11, 129, 2, 8, 2, 25, 39, 2, 2, 2, 25, 2, 2, 2, 5, 2, 46, 2, 2, 25, 2, 30, 2, 2, 10, 10, 25, 2, 34, 4, 2, 54, 2, 2, 2, 25, 79, 72, 202, 72, 6, 2, 2, 10, 10, 2, 75, 359, 2, 2, 4, 2, 32, 75, 28, 9, 14, 2, 10, 10, 2, 2, 9, 4, 2, 2, 10, 10, 2, 2, 70, 2, 4, 2, 2, 2, 175, 2, 11, 4, 2, 2, 2])\n",
            " list([1, 6, 2, 437, 7, 58, 43, 2, 11, 6, 171, 2, 2, 2, 2, 2, 2, 6, 2, 2, 2, 2, 2, 2, 2, 2, 5, 236, 21, 24, 222, 6, 2, 2, 40, 109, 19, 2, 8, 2, 2, 2, 5, 2, 11, 6, 2, 5, 25, 80, 28, 14, 2, 2, 18, 6, 20, 13, 66, 188, 6, 462, 46, 7, 4, 2, 445, 40, 2, 2, 2, 4, 114, 16, 2, 200, 2, 5, 2, 2, 89, 111, 2, 26, 2, 8, 97, 6, 2, 2, 2, 2, 23, 6, 2, 2, 2, 470, 21, 161, 36, 413, 2, 143, 2, 2, 14, 16, 398, 18, 2, 2, 12, 299, 40, 6, 374, 2, 13, 122, 358, 4, 2, 2, 2, 11, 4, 2, 151])\n",
            " list([1, 2, 2, 11, 4, 2, 9, 4, 2, 4, 2, 9, 17, 2, 17, 27, 2, 495, 5, 53, 2, 2, 5, 2, 2, 89, 100, 12, 30, 101, 128, 4, 498, 9, 484, 480, 5, 4, 2, 63, 9, 2, 111, 211, 103, 14, 2, 24, 252, 48, 14, 16, 4, 86, 58, 13, 2, 12, 5, 2, 11, 72, 4, 91, 2, 2, 2, 7, 101, 20, 2, 2, 4, 2, 485, 11, 14, 20, 9, 484, 2, 5, 4, 430, 2, 9, 82, 6, 87, 217, 2, 29, 456, 23, 27, 205, 4, 114, 9, 356, 2, 13, 2, 202, 12, 245, 21, 4, 130, 9, 66, 87, 13, 2, 14, 17, 31, 7, 2, 289, 118, 19, 2, 5, 2, 245, 82, 25, 203, 181, 8, 2, 46, 2, 2, 2, 54, 12, 266, 46, 2, 375, 291, 13, 440, 48, 25, 40, 2, 2, 14, 31, 46, 17, 12, 2, 2, 11, 4, 2, 358, 2, 6])\n",
            " list([1, 33, 4, 2, 7, 4, 2, 194, 2, 2, 2, 11, 2, 2, 2, 2, 5, 4, 2, 2, 2, 13, 2, 23, 35, 2, 2, 148, 2, 2, 2, 2, 451, 37, 2, 4, 123, 103, 153, 7, 2, 2, 2, 2, 141, 17, 2, 2, 2, 2, 2, 13, 197, 36, 71, 112, 2, 5, 301, 38, 2, 2, 320, 2, 2, 16, 95, 2, 83, 4, 2, 19, 49, 2, 46, 12, 69, 2, 35, 2, 284, 2, 56, 73, 422, 21, 488, 2, 69, 2, 11, 2, 17, 6, 430, 5, 2, 2, 2, 4, 2, 2, 2, 4, 2, 29, 2, 8, 27, 239, 17, 2, 2, 2, 4, 2, 2, 109, 284, 2, 2, 301, 11, 6, 2, 2, 2, 2, 4, 2, 15, 29, 16, 2, 54, 29, 2, 2, 69, 2, 4, 217, 21, 2, 57, 2, 284, 100, 28, 256, 15, 217, 17, 73, 17, 2, 2, 10, 10, 2, 16, 2, 5, 2, 2, 123, 8, 2, 2, 82, 270, 11, 2, 4, 2, 2, 2, 7, 2, 23, 2, 69, 77, 2, 34, 4, 2, 2, 2, 7, 2, 11, 2, 6, 273, 446, 2, 121, 35, 2, 2, 2, 2, 23, 287, 18, 4, 2, 2, 98, 2, 2, 2, 2, 27, 86, 2, 217, 237, 2, 11, 2, 2, 2, 2, 2, 2, 2, 2, 2, 2, 2, 2, 2, 2, 2, 2, 308, 2, 5, 2, 2, 4, 2, 2, 2, 2, 120, 14, 2, 7, 2, 16, 4, 2, 2, 2, 2, 4, 2, 2, 2, 37, 2, 98, 32, 17, 2, 27, 2, 33, 24, 112, 2, 8, 485, 27, 349, 56, 4, 2, 8, 2, 4, 2, 11, 2, 93, 90, 2, 5, 2, 151, 29, 16, 327, 8, 2, 2, 29, 197, 16, 27, 2, 492, 95, 50, 16, 126, 38, 2, 2, 2, 2, 2, 5, 2, 2, 2, 488, 2, 2, 16, 40, 6, 2, 154, 2, 454, 257, 123, 34, 2, 8, 4, 370, 5, 2, 98, 34, 2, 2, 2, 2, 29, 447, 112, 2, 38, 76, 29, 385, 8, 2, 309, 17, 2, 2, 27, 369, 71, 4, 2, 231, 2, 2, 4, 2, 2, 2, 37, 435, 23, 8, 2, 129, 2, 5, 4, 2, 2, 2, 2, 2, 2, 38, 147, 2, 2, 11, 4, 123, 160, 213, 94, 2, 2, 2, 82, 2, 51, 16, 2, 23, 4, 2, 17, 2, 2, 2, 8, 4, 2, 2, 343, 17, 2, 228, 23, 2, 2, 257, 2, 2, 19, 90, 2, 2, 7, 440, 2, 64, 8, 30, 2, 34, 6, 2, 56, 2, 39, 2, 4, 321, 2, 2, 16, 2, 34, 2, 2, 5, 2, 2, 10, 10, 151, 115, 179, 2, 2, 2, 11, 4, 2, 2, 2, 2, 16, 2, 195, 8, 2, 18, 6, 2, 7, 2, 2, 11, 2, 2, 5, 2, 2, 4, 2, 19, 6, 2, 310, 7, 15, 154, 2, 2, 2, 36, 95, 2, 35, 436, 2, 7, 154, 2, 2, 51, 334, 2, 2, 2, 10, 10, 4, 123, 2, 2, 213, 289, 153, 303, 54, 2, 2, 7, 2, 247, 74, 2, 4, 217, 7, 2, 4, 2, 43, 387, 90, 30, 2, 2, 54, 2, 2, 317, 4, 109, 7, 2, 2, 27, 273, 17, 2, 2, 160, 2, 7, 212, 10, 10, 4, 236, 2, 11, 2, 219, 4, 2, 2, 2, 34, 2, 18, 2, 4, 2, 2, 149, 98, 140, 19, 87, 2, 17, 122, 2, 10, 10, 2, 28, 77, 171, 5, 230, 200, 2, 23, 2, 2, 2, 32, 88, 7, 94, 38, 446, 2, 2, 14, 9, 2, 18, 31, 155, 4, 123, 16, 24, 2, 44, 2, 48, 6, 428, 132, 2, 56, 9, 38, 355, 138, 127, 2, 2, 2, 22, 2, 2, 8, 2, 131, 79, 2, 23, 2, 12, 2, 2, 2, 17, 35, 2, 5, 2, 107, 2, 12, 16, 2, 39, 2, 2, 205, 2, 49, 105, 71, 448, 23, 147, 84, 4, 2, 2, 66, 122, 2, 8, 27, 349, 17, 2, 13, 193, 4, 2, 15, 48, 25, 26, 170, 8, 276, 479, 23, 2, 79, 12, 208, 2, 4, 2, 57, 2, 89, 2, 12, 238, 306, 8, 2, 2, 9, 2, 2, 2, 16, 199, 163, 5, 2, 5, 2, 219, 14, 2, 2, 18, 2, 2, 2, 2, 13, 135, 58, 8, 2, 14, 2, 17, 2, 62, 135, 2, 28, 57, 2, 11, 14, 2])\n",
            " list([1, 13, 28, 64, 69, 4, 2, 7, 319, 14, 20, 280, 54, 13, 16, 247, 185, 38, 76, 7, 4, 20, 9, 2, 11, 269, 8, 377, 12, 190, 13, 70, 135, 12, 16, 24, 17, 163, 17, 6, 20, 446, 455, 2, 144, 28, 77, 5, 4, 91, 2, 183, 39, 14, 20, 26, 4, 2, 5, 4, 136, 19, 4, 2, 378, 2, 44, 338, 2, 85, 74, 15, 4, 20, 9, 66, 43, 139, 7, 117, 2, 5, 194, 2, 2, 187, 5, 84, 116, 2, 5, 2, 17, 84, 144, 81, 11, 6, 20, 7, 14, 2, 190, 43, 260, 6, 55, 2, 2, 5, 6, 2, 2, 2, 81, 24, 6, 52, 212, 97, 2, 14, 20, 9, 424, 8, 30, 6, 2, 20, 164, 8, 30, 2, 2, 190, 25, 144, 131, 97, 2, 15, 26, 163, 5, 24, 353, 8, 2, 6, 2, 2, 2, 83, 6, 368, 2, 20, 382, 6, 346, 62, 28, 77, 478, 17, 4, 2, 2, 4, 2, 378, 2, 2, 5, 6, 132, 2, 269, 8, 2, 180, 6, 2, 2, 16, 165, 184, 52, 4, 2, 410, 2, 40, 6, 2, 2, 21, 57, 36, 2, 93, 6, 368, 20, 5, 6, 247, 2, 31, 33, 15])\n",
            " list([1, 2, 26, 9, 6, 2, 2, 2, 44, 6, 255, 2, 2, 2, 2, 2, 2, 9, 2, 2, 103, 2, 59, 9, 2, 75, 95, 67, 4, 2, 11, 2, 2, 4, 2, 15, 30, 124, 15, 29, 16, 2, 99, 2, 5, 15, 27, 322, 2, 90, 29, 9, 2, 29, 70, 2, 8, 2, 21, 24, 17, 309, 2, 2, 153, 121, 75, 67, 2, 2, 2, 2, 2, 2, 8, 2, 39, 2, 5, 2, 6, 185, 132, 2, 2, 2, 37, 12, 2, 46, 9, 4, 2, 7, 41, 336, 4, 22, 9, 6, 117, 23, 4, 2, 499, 4, 65, 271, 32, 4, 2, 25, 2, 12, 8, 21, 12, 9, 38, 2, 256, 34, 35, 2, 177, 262, 2, 5, 2, 15, 25, 191, 339, 21, 79, 2, 56, 11, 4, 253, 2, 47, 2, 77, 110, 23, 268, 8, 128, 2, 5, 59, 5, 2, 26, 2, 34, 6, 2, 2, 7, 109, 156, 11, 2, 2, 6, 2, 5, 2, 2, 15, 80, 2, 5, 2, 25])]\n"
          ]
        }
      ]
    },
    {
      "cell_type": "code",
      "source": [
        "from sklearn.model_selection import train_test_split\n",
        "train_input, val_input, train_target, val_target = train_test_split(train_input, train_target, test_size=0.2, random_state=42)"
      ],
      "metadata": {
        "id": "_wNdRtROVU8H"
      },
      "execution_count": 6,
      "outputs": []
    },
    {
      "cell_type": "code",
      "source": [
        "import numpy as np\n",
        "lengths = np.array([len(x) for x in train_input])\n",
        "print(np.mean(lengths), np.median(lengths))"
      ],
      "metadata": {
        "colab": {
          "base_uri": "https://localhost:8080/"
        },
        "id": "5ZwNDAi_VuGs",
        "outputId": "1539dd70-c2e5-4325-b7f5-4a50a1e3f1fb"
      },
      "execution_count": 7,
      "outputs": [
        {
          "output_type": "stream",
          "name": "stdout",
          "text": [
            "239.00925 178.0\n"
          ]
        }
      ]
    },
    {
      "cell_type": "code",
      "source": [
        "import matplotlib.pyplot as plt\n",
        "plt.hist(lengths)\n",
        "plt.xlabel('length')\n",
        "plt.ylabel('frequency')\n",
        "plt.show()"
      ],
      "metadata": {
        "colab": {
          "base_uri": "https://localhost:8080/",
          "height": 279
        },
        "id": "InEif4GwWE6f",
        "outputId": "630e69ef-44c9-4cce-8f19-671a311acf43"
      },
      "execution_count": 8,
      "outputs": [
        {
          "output_type": "display_data",
          "data": {
            "text/plain": [
              "<Figure size 432x288 with 1 Axes>"
            ],
            "image/png": "[encoded data removed]"
          },
          "metadata": {
            "needs_background": "light"
          }
        }
      ]
    },
    {
      "cell_type": "code",
      "source": [
        "from tensorflow.keras.preprocessing.sequence import pad_sequences\n",
        "train_seq = pad_sequences(train_input, maxlen=100)\n",
        "print(train_seq.shape)"
      ],
      "metadata": {
        "colab": {
          "base_uri": "https://localhost:8080/"
        },
        "id": "JVsPnLyBWTxZ",
        "outputId": "86c192d1-b2d7-47c5-f09e-2a1bd268d01e"
      },
      "execution_count": 9,
      "outputs": [
        {
          "output_type": "stream",
          "name": "stdout",
          "text": [
            "(20000, 100)\n"
          ]
        }
      ]
    },
    {
      "cell_type": "code",
      "source": [
        "print(train_seq[0])"
      ],
      "metadata": {
        "colab": {
          "base_uri": "https://localhost:8080/"
        },
        "id": "0p57gW9gWvaQ",
        "outputId": "5ac33cdd-7904-48b6-cbbe-02f7a21ac77f"
      },
      "execution_count": 10,
      "outputs": [
        {
          "output_type": "stream",
          "name": "stdout",
          "text": [
            "[ 10   4  20   9   2 364 352   5  45   6   2   2  33 269   8   2 142   2\n",
            "   5   2  17  73  17 204   5   2  19  55   2   2  92  66 104  14  20  93\n",
            "  76   2 151  33   4  58  12 188   2 151  12 215  69 224 142  73 237   6\n",
            "   2   7   2   2 188   2 103  14  31  10  10 451   7   2   5   2  80  91\n",
            "   2  30   2  34  14  20 151  50  26 131  49   2  84  46  50  37  80  79\n",
            "   6   2  46   7  14  20  10  10 470 158]\n"
          ]
        }
      ]
    },
    {
      "cell_type": "code",
      "source": [
        "print(train_input[0][-10:])"
      ],
      "metadata": {
        "colab": {
          "base_uri": "https://localhost:8080/"
        },
        "id": "Mu35_MspWzkb",
        "outputId": "c3de4dc7-6067-49ab-9b23-e71cd5fd8f80"
      },
      "execution_count": 11,
      "outputs": [
        {
          "output_type": "stream",
          "name": "stdout",
          "text": [
            "[6, 2, 46, 7, 14, 20, 10, 10, 470, 158]\n"
          ]
        }
      ]
    },
    {
      "cell_type": "code",
      "source": [
        "print(train_seq[5])"
      ],
      "metadata": {
        "colab": {
          "base_uri": "https://localhost:8080/"
        },
        "id": "-aAGwyBzW7Ol",
        "outputId": "c4586937-a72a-42c0-8313-3310b094944f"
      },
      "execution_count": 12,
      "outputs": [
        {
          "output_type": "stream",
          "name": "stdout",
          "text": [
            "[  0   0   0   0   1   2 195  19  49   2   2 190   4   2 352   2 183  10\n",
            "  10  13  82  79   4   2  36  71 269   8   2  25  19  49   7   4   2   2\n",
            "   2   2   2  10  10  48  25  40   2  11   2   2  40   2   2   5   4   2\n",
            "   2  95  14 238  56 129   2  10  10  21   2  94 364 352   2   2  11 190\n",
            "  24 484   2   7  94 205 405  10  10  87   2  34  49   2   7   2   2   2\n",
            "   2   2 290   2  46  48  64  18   4   2]\n"
          ]
        }
      ]
    },
    {
      "cell_type": "code",
      "source": [
        "val_seq = pad_sequences(val_input, maxlen=100)"
      ],
      "metadata": {
        "id": "ueDm4AOEXANo"
      },
      "execution_count": 13,
      "outputs": []
    },
    {
      "cell_type": "code",
      "source": [
        "from tensorflow import keras"
      ],
      "metadata": {
        "id": "4Vb-MqlQXTZB"
      },
      "execution_count": 14,
      "outputs": []
    },
    {
      "cell_type": "code",
      "source": [
        "ohe_model = keras.Sequential()\n",
        "ohe_model.add(keras.layers.SimpleRNN(8, input_shape=(100, 500)))\n",
        "ohe_model.add(keras.layers.Dense(1, activation='sigmoid'))"
      ],
      "metadata": {
        "id": "dIQj6S91XpIb"
      },
      "execution_count": 15,
      "outputs": []
    },
    {
      "cell_type": "code",
      "source": [
        "train_ohe = keras.utils.to_categorical(train_seq)\n",
        "print(train_ohe.shape)"
      ],
      "metadata": {
        "colab": {
          "base_uri": "https://localhost:8080/"
        },
        "id": "u5NMwM2FX-6w",
        "outputId": "5d92a7d4-0ca4-4691-a8b7-43585d578b88"
      },
      "execution_count": 16,
      "outputs": [
        {
          "output_type": "stream",
          "name": "stdout",
          "text": [
            "(20000, 100, 500)\n"
          ]
        }
      ]
    },
    {
      "cell_type": "code",
      "source": [
        "print(train_ohe[0][0][:12])"
      ],
      "metadata": {
        "colab": {
          "base_uri": "https://localhost:8080/"
        },
        "id": "VVZzyyCfYIuL",
        "outputId": "3d9a62f7-dd1c-4b2a-e928-5acbc8bd4402"
      },
      "execution_count": 17,
      "outputs": [
        {
          "output_type": "stream",
          "name": "stdout",
          "text": [
            "[0. 0. 0. 0. 0. 0. 0. 0. 0. 0. 1. 0.]\n"
          ]
        }
      ]
    },
    {
      "cell_type": "code",
      "source": [
        "print(np.sum(train_ohe[0][0]))"
      ],
      "metadata": {
        "colab": {
          "base_uri": "https://localhost:8080/"
        },
        "id": "h7CDjyqsYQZI",
        "outputId": "3ac0c35e-b111-42db-dc48-9cc86b7bbc8d"
      },
      "execution_count": 18,
      "outputs": [
        {
          "output_type": "stream",
          "name": "stdout",
          "text": [
            "1.0\n"
          ]
        }
      ]
    },
    {
      "cell_type": "code",
      "source": [
        "val_ohe = keras.utils.to_categorical(val_seq)"
      ],
      "metadata": {
        "id": "-262Wnk4YVgH"
      },
      "execution_count": 19,
      "outputs": []
    },
    {
      "cell_type": "code",
      "source": [
        "rmsprop = keras.optimizers.RMSprop(learning_rate=1e-4)\n",
        "ohe_model.compile(optimizer=rmsprop, loss='binary_crossentropy', metrics=['accuracy'])\n",
        "cp = keras.callbacks.ModelCheckpoint('best-simplernn-model.h5', save_best_only=True)\n",
        "esp = keras.callbacks.EarlyStopping(patience=3, restore_best_weights=True)\n",
        "history = ohe_model.fit(train_ohe, train_target, epochs=100, batch_size=64, validation_data=(val_ohe, val_target),callbacks=[cp, esp])"
      ],
      "metadata": {
        "colab": {
          "base_uri": "https://localhost:8080/"
        },
        "id": "CSSjXLW8Ybrq",
        "outputId": "846e4556-acbc-4977-dd69-13e8c9cdecd6"
      },
      "execution_count": 20,
      "outputs": [
        {
          "output_type": "stream",
          "name": "stdout",
          "text": [
            "Epoch 1/100\n",
            "313/313 [==============================] - 47s 139ms/step - loss: 0.7031 - accuracy: 0.5045 - val_loss: 0.6998 - val_accuracy: 0.5074\n",
            "Epoch 2/100\n",
            "313/313 [==============================] - 26s 83ms/step - loss: 0.6966 - accuracy: 0.5138 - val_loss: 0.6959 - val_accuracy: 0.5154\n",
            "Epoch 3/100\n",
            "313/313 [==============================] - 25s 80ms/step - loss: 0.6922 - accuracy: 0.5253 - val_loss: 0.6927 - val_accuracy: 0.5242\n",
            "Epoch 4/100\n",
            "313/313 [==============================] - 26s 82ms/step - loss: 0.6884 - accuracy: 0.5380 - val_loss: 0.6892 - val_accuracy: 0.5378\n",
            "Epoch 5/100\n",
            "313/313 [==============================] - 26s 82ms/step - loss: 0.6842 - accuracy: 0.5537 - val_loss: 0.6849 - val_accuracy: 0.5532\n",
            "Epoch 6/100\n",
            "313/313 [==============================] - 25s 79ms/step - loss: 0.6778 - accuracy: 0.5741 - val_loss: 0.6744 - val_accuracy: 0.5882\n",
            "Epoch 7/100\n",
            "313/313 [==============================] - 25s 80ms/step - loss: 0.6497 - accuracy: 0.6321 - val_loss: 0.6369 - val_accuracy: 0.6572\n",
            "Epoch 8/100\n",
            "313/313 [==============================] - 24s 78ms/step - loss: 0.6225 - accuracy: 0.6722 - val_loss: 0.6227 - val_accuracy: 0.6756\n",
            "Epoch 9/100\n",
            "313/313 [==============================] - 24s 78ms/step - loss: 0.6021 - accuracy: 0.6975 - val_loss: 0.5986 - val_accuracy: 0.7010\n",
            "Epoch 10/100\n",
            "313/313 [==============================] - 25s 79ms/step - loss: 0.5827 - accuracy: 0.7170 - val_loss: 0.5856 - val_accuracy: 0.7028\n",
            "Epoch 11/100\n",
            "313/313 [==============================] - 25s 80ms/step - loss: 0.5659 - accuracy: 0.7322 - val_loss: 0.5655 - val_accuracy: 0.7240\n",
            "Epoch 12/100\n",
            "313/313 [==============================] - 25s 80ms/step - loss: 0.5495 - accuracy: 0.7423 - val_loss: 0.5511 - val_accuracy: 0.7356\n",
            "Epoch 13/100\n",
            "313/313 [==============================] - 25s 81ms/step - loss: 0.5350 - accuracy: 0.7534 - val_loss: 0.5385 - val_accuracy: 0.7442\n",
            "Epoch 14/100\n",
            "313/313 [==============================] - 25s 80ms/step - loss: 0.5220 - accuracy: 0.7599 - val_loss: 0.5273 - val_accuracy: 0.7516\n",
            "Epoch 15/100\n",
            "313/313 [==============================] - 25s 78ms/step - loss: 0.5108 - accuracy: 0.7675 - val_loss: 0.5200 - val_accuracy: 0.7532\n",
            "Epoch 16/100\n",
            "313/313 [==============================] - 24s 78ms/step - loss: 0.5009 - accuracy: 0.7739 - val_loss: 0.5105 - val_accuracy: 0.7584\n",
            "Epoch 17/100\n",
            "313/313 [==============================] - 25s 79ms/step - loss: 0.4917 - accuracy: 0.7775 - val_loss: 0.4996 - val_accuracy: 0.7696\n",
            "Epoch 18/100\n",
            "313/313 [==============================] - 25s 81ms/step - loss: 0.4830 - accuracy: 0.7831 - val_loss: 0.4950 - val_accuracy: 0.7722\n",
            "Epoch 19/100\n",
            "313/313 [==============================] - 25s 78ms/step - loss: 0.4758 - accuracy: 0.7862 - val_loss: 0.4907 - val_accuracy: 0.7776\n",
            "Epoch 20/100\n",
            "313/313 [==============================] - 25s 79ms/step - loss: 0.4685 - accuracy: 0.7918 - val_loss: 0.4810 - val_accuracy: 0.7772\n",
            "Epoch 21/100\n",
            "313/313 [==============================] - 25s 79ms/step - loss: 0.4626 - accuracy: 0.7936 - val_loss: 0.4764 - val_accuracy: 0.7812\n",
            "Epoch 22/100\n",
            "313/313 [==============================] - 25s 79ms/step - loss: 0.4575 - accuracy: 0.7958 - val_loss: 0.4733 - val_accuracy: 0.7794\n",
            "Epoch 23/100\n",
            "313/313 [==============================] - 25s 81ms/step - loss: 0.4520 - accuracy: 0.7980 - val_loss: 0.4677 - val_accuracy: 0.7872\n",
            "Epoch 24/100\n",
            "313/313 [==============================] - 25s 79ms/step - loss: 0.4464 - accuracy: 0.8013 - val_loss: 0.4698 - val_accuracy: 0.7866\n",
            "Epoch 25/100\n",
            "313/313 [==============================] - 24s 78ms/step - loss: 0.4433 - accuracy: 0.8019 - val_loss: 0.4621 - val_accuracy: 0.7858\n",
            "Epoch 26/100\n",
            "313/313 [==============================] - 24s 78ms/step - loss: 0.4385 - accuracy: 0.8049 - val_loss: 0.4593 - val_accuracy: 0.7908\n",
            "Epoch 27/100\n",
            "313/313 [==============================] - 24s 78ms/step - loss: 0.4352 - accuracy: 0.8066 - val_loss: 0.4567 - val_accuracy: 0.7910\n",
            "Epoch 28/100\n",
            "313/313 [==============================] - 25s 79ms/step - loss: 0.4324 - accuracy: 0.8080 - val_loss: 0.4550 - val_accuracy: 0.7920\n",
            "Epoch 29/100\n",
            "313/313 [==============================] - 24s 78ms/step - loss: 0.4298 - accuracy: 0.8099 - val_loss: 0.4581 - val_accuracy: 0.7944\n",
            "Epoch 30/100\n",
            "313/313 [==============================] - 25s 79ms/step - loss: 0.4272 - accuracy: 0.8105 - val_loss: 0.4522 - val_accuracy: 0.7914\n",
            "Epoch 31/100\n",
            "313/313 [==============================] - 24s 77ms/step - loss: 0.4253 - accuracy: 0.8113 - val_loss: 0.4537 - val_accuracy: 0.7894\n",
            "Epoch 32/100\n",
            "313/313 [==============================] - 24s 78ms/step - loss: 0.4228 - accuracy: 0.8124 - val_loss: 0.4553 - val_accuracy: 0.7958\n",
            "Epoch 33/100\n",
            "313/313 [==============================] - 24s 78ms/step - loss: 0.4208 - accuracy: 0.8141 - val_loss: 0.4513 - val_accuracy: 0.7960\n",
            "Epoch 34/100\n",
            "313/313 [==============================] - 25s 80ms/step - loss: 0.4194 - accuracy: 0.8147 - val_loss: 0.4494 - val_accuracy: 0.7944\n",
            "Epoch 35/100\n",
            "313/313 [==============================] - 24s 78ms/step - loss: 0.4176 - accuracy: 0.8163 - val_loss: 0.4499 - val_accuracy: 0.7966\n",
            "Epoch 36/100\n",
            "313/313 [==============================] - 24s 78ms/step - loss: 0.4161 - accuracy: 0.8164 - val_loss: 0.4482 - val_accuracy: 0.7966\n",
            "Epoch 37/100\n",
            "313/313 [==============================] - 25s 79ms/step - loss: 0.4139 - accuracy: 0.8166 - val_loss: 0.4476 - val_accuracy: 0.7910\n",
            "Epoch 38/100\n",
            "313/313 [==============================] - 24s 77ms/step - loss: 0.4126 - accuracy: 0.8179 - val_loss: 0.4465 - val_accuracy: 0.7996\n",
            "Epoch 39/100\n",
            "313/313 [==============================] - 25s 79ms/step - loss: 0.4114 - accuracy: 0.8180 - val_loss: 0.4460 - val_accuracy: 0.7970\n",
            "Epoch 40/100\n",
            "313/313 [==============================] - 24s 77ms/step - loss: 0.4106 - accuracy: 0.8183 - val_loss: 0.4502 - val_accuracy: 0.7978\n",
            "Epoch 41/100\n",
            "313/313 [==============================] - 25s 78ms/step - loss: 0.4091 - accuracy: 0.8191 - val_loss: 0.4565 - val_accuracy: 0.7930\n",
            "Epoch 42/100\n",
            "313/313 [==============================] - 25s 80ms/step - loss: 0.4081 - accuracy: 0.8196 - val_loss: 0.4488 - val_accuracy: 0.7984\n"
          ]
        }
      ]
    },
    {
      "cell_type": "code",
      "source": [
        "plt.plot(history.history['loss'])\n",
        "plt.plot(history.history['val_loss'])\n",
        "plt.xlabel('epcoh')\n",
        "plt.ylabel('loss')\n",
        "plt.legend(['train', 'val'])\n",
        "plt.show()"
      ],
      "metadata": {
        "colab": {
          "base_uri": "https://localhost:8080/",
          "height": 279
        },
        "id": "lrcSc2Z3ZEVl",
        "outputId": "ca6d35ba-014c-47d4-91be-d2063a8b42d7"
      },
      "execution_count": 21,
      "outputs": [
        {
          "output_type": "display_data",
          "data": {
            "text/plain": [
              "<Figure size 432x288 with 1 Axes>"
            ],
            "image/png": "[encoded data removed]"
          },
          "metadata": {
            "needs_background": "light"
          }
        }
      ]
    },
    {
      "cell_type": "code",
      "source": [
        "model_emb = keras.Sequential()\n",
        "model_emb.add(keras.layers.Embedding(500, 16, input_length=100))\n",
        "model_emb.add(keras.layers.SimpleRNN(8))\n",
        "model_emb.add(keras.layers.Dense(1, activation='sigmoid'))"
      ],
      "metadata": {
        "id": "YGu7mq93auU_"
      },
      "execution_count": 22,
      "outputs": []
    },
    {
      "cell_type": "code",
      "source": [
        "rmsprop = keras.optimizers.RMSprop(learning_rate=1e-4)\n",
        "model_emb.compile(optimizer=rmsprop, loss='binary_crossentropy', metrics=['accuracy'])\n",
        "cp = keras.callbacks.ModelCheckpoint('best-embedding-model.h5', save_best_only=True)\n",
        "esp = keras.callbacks.EarlyStopping(patience=3, restore_best_weights=True)\n",
        "history = model_emb.fit(train_seq, train_target, epochs=100, batch_size=64, validation_data=(val_seq, val_target),callbacks=[cp, esp])"
      ],
      "metadata": {
        "colab": {
          "base_uri": "https://localhost:8080/"
        },
        "id": "t-2e3ZpCdWuL",
        "outputId": "eed22973-4e76-4109-fd5f-676723c621fe"
      },
      "execution_count": 23,
      "outputs": [
        {
          "output_type": "stream",
          "name": "stdout",
          "text": [
            "Epoch 1/100\n",
            "313/313 [==============================] - 32s 100ms/step - loss: 0.6838 - accuracy: 0.5566 - val_loss: 0.6651 - val_accuracy: 0.6106\n",
            "Epoch 2/100\n",
            "313/313 [==============================] - 30s 95ms/step - loss: 0.6424 - accuracy: 0.6611 - val_loss: 0.6296 - val_accuracy: 0.6832\n",
            "Epoch 3/100\n",
            "313/313 [==============================] - 30s 96ms/step - loss: 0.6087 - accuracy: 0.7094 - val_loss: 0.6048 - val_accuracy: 0.7064\n",
            "Epoch 4/100\n",
            "313/313 [==============================] - 30s 95ms/step - loss: 0.5845 - accuracy: 0.7368 - val_loss: 0.5879 - val_accuracy: 0.7210\n",
            "Epoch 5/100\n",
            "313/313 [==============================] - 29s 94ms/step - loss: 0.5644 - accuracy: 0.7509 - val_loss: 0.5683 - val_accuracy: 0.7482\n",
            "Epoch 6/100\n",
            "313/313 [==============================] - 30s 95ms/step - loss: 0.5474 - accuracy: 0.7639 - val_loss: 0.5527 - val_accuracy: 0.7546\n",
            "Epoch 7/100\n",
            "313/313 [==============================] - 30s 95ms/step - loss: 0.5322 - accuracy: 0.7749 - val_loss: 0.5422 - val_accuracy: 0.7520\n",
            "Epoch 8/100\n",
            "313/313 [==============================] - 29s 94ms/step - loss: 0.5177 - accuracy: 0.7829 - val_loss: 0.5274 - val_accuracy: 0.7670\n",
            "Epoch 9/100\n",
            "313/313 [==============================] - 30s 94ms/step - loss: 0.5044 - accuracy: 0.7897 - val_loss: 0.5174 - val_accuracy: 0.7740\n",
            "Epoch 10/100\n",
            "313/313 [==============================] - 30s 95ms/step - loss: 0.4929 - accuracy: 0.7921 - val_loss: 0.5091 - val_accuracy: 0.7764\n",
            "Epoch 11/100\n",
            "313/313 [==============================] - 29s 92ms/step - loss: 0.4825 - accuracy: 0.7958 - val_loss: 0.5035 - val_accuracy: 0.7766\n",
            "Epoch 12/100\n",
            "313/313 [==============================] - 29s 93ms/step - loss: 0.4723 - accuracy: 0.8007 - val_loss: 0.5007 - val_accuracy: 0.7696\n",
            "Epoch 13/100\n",
            "313/313 [==============================] - 29s 94ms/step - loss: 0.4642 - accuracy: 0.8028 - val_loss: 0.4890 - val_accuracy: 0.7780\n",
            "Epoch 14/100\n",
            "313/313 [==============================] - 29s 94ms/step - loss: 0.4569 - accuracy: 0.8050 - val_loss: 0.4852 - val_accuracy: 0.7814\n",
            "Epoch 15/100\n",
            "313/313 [==============================] - 31s 98ms/step - loss: 0.4510 - accuracy: 0.8071 - val_loss: 0.4807 - val_accuracy: 0.7834\n",
            "Epoch 16/100\n",
            "313/313 [==============================] - 29s 93ms/step - loss: 0.4455 - accuracy: 0.8080 - val_loss: 0.4768 - val_accuracy: 0.7804\n",
            "Epoch 17/100\n",
            "313/313 [==============================] - 29s 94ms/step - loss: 0.4400 - accuracy: 0.8109 - val_loss: 0.4801 - val_accuracy: 0.7790\n",
            "Epoch 18/100\n",
            "313/313 [==============================] - 29s 94ms/step - loss: 0.4348 - accuracy: 0.8130 - val_loss: 0.4768 - val_accuracy: 0.7866\n",
            "Epoch 19/100\n",
            "313/313 [==============================] - 29s 94ms/step - loss: 0.4306 - accuracy: 0.8155 - val_loss: 0.4740 - val_accuracy: 0.7844\n",
            "Epoch 20/100\n",
            "313/313 [==============================] - 29s 92ms/step - loss: 0.4267 - accuracy: 0.8146 - val_loss: 0.4727 - val_accuracy: 0.7836\n",
            "Epoch 21/100\n",
            "313/313 [==============================] - 29s 92ms/step - loss: 0.4227 - accuracy: 0.8170 - val_loss: 0.4684 - val_accuracy: 0.7838\n",
            "Epoch 22/100\n",
            "313/313 [==============================] - 28s 91ms/step - loss: 0.4194 - accuracy: 0.8199 - val_loss: 0.4715 - val_accuracy: 0.7808\n",
            "Epoch 23/100\n",
            "313/313 [==============================] - 29s 92ms/step - loss: 0.4164 - accuracy: 0.8210 - val_loss: 0.4660 - val_accuracy: 0.7880\n",
            "Epoch 24/100\n",
            "313/313 [==============================] - 30s 97ms/step - loss: 0.4128 - accuracy: 0.8229 - val_loss: 0.4646 - val_accuracy: 0.7896\n",
            "Epoch 25/100\n",
            "313/313 [==============================] - 29s 91ms/step - loss: 0.4104 - accuracy: 0.8235 - val_loss: 0.4653 - val_accuracy: 0.7882\n",
            "Epoch 26/100\n",
            "313/313 [==============================] - 29s 92ms/step - loss: 0.4074 - accuracy: 0.8244 - val_loss: 0.4643 - val_accuracy: 0.7870\n",
            "Epoch 27/100\n",
            "313/313 [==============================] - 29s 92ms/step - loss: 0.4050 - accuracy: 0.8263 - val_loss: 0.4677 - val_accuracy: 0.7858\n",
            "Epoch 28/100\n",
            "313/313 [==============================] - 29s 93ms/step - loss: 0.4029 - accuracy: 0.8266 - val_loss: 0.4617 - val_accuracy: 0.7896\n",
            "Epoch 29/100\n",
            "313/313 [==============================] - 29s 93ms/step - loss: 0.4004 - accuracy: 0.8291 - val_loss: 0.4642 - val_accuracy: 0.7886\n",
            "Epoch 30/100\n",
            "313/313 [==============================] - 29s 93ms/step - loss: 0.3982 - accuracy: 0.8278 - val_loss: 0.4622 - val_accuracy: 0.7892\n",
            "Epoch 31/100\n",
            "313/313 [==============================] - 29s 92ms/step - loss: 0.3958 - accuracy: 0.8310 - val_loss: 0.4631 - val_accuracy: 0.7908\n"
          ]
        }
      ]
    },
    {
      "cell_type": "code",
      "source": [
        "plt.plot(history.history['loss'])\n",
        "plt.plot(history.history['val_loss'])\n",
        "plt.xlabel('epcoh')\n",
        "plt.ylabel('loss')\n",
        "plt.legend(['train', 'val'])\n",
        "plt.show()"
      ],
      "metadata": {
        "colab": {
          "base_uri": "https://localhost:8080/",
          "height": 279
        },
        "id": "H8JxTEHge-0-",
        "outputId": "2c260dfb-67fc-4712-87f5-88104ad1cc76"
      },
      "execution_count": 24,
      "outputs": [
        {
          "output_type": "display_data",
          "data": {
            "text/plain": [
              "<Figure size 432x288 with 1 Axes>"
            ],
            "image/png": "[encoded data removed]"
          },
          "metadata": {
            "needs_background": "light"
          }
        }
      ]
    },
    {
      "cell_type": "markdown",
      "source": [
        ""
      ],
      "metadata": {
        "id": "LzNXAjSxfFq1"
      }
    }
  ]
}