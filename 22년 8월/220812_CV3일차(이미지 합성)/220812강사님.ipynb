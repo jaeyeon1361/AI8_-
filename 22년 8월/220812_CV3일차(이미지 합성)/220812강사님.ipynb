{
 "cells": [
  {
   "cell_type": "code",
   "execution_count": 1,
   "id": "f0a485c7",
   "metadata": {},
   "outputs": [],
   "source": [
    "import cv2\n",
    "import numpy as np\n",
    "import sys"
   ]
  },
  {
   "cell_type": "code",
   "execution_count": 15,
   "id": "a192d4cb",
   "metadata": {},
   "outputs": [
    {
     "name": "stdout",
     "output_type": "stream",
     "text": [
      "<class 'numpy.ndarray'>\n",
      "image1 shape (480, 640, 3)\n",
      "image2 shape (480, 640)\n",
      "data type uint8\n",
      "480 640\n"
     ]
    }
   ],
   "source": [
    "img1 = cv2.imread('./fig/cat.bmp')\n",
    "img2 = cv2.imread('./fig/cat.bmp', cv2.IMREAD_GRAYSCALE)\n",
    "\n",
    "print(type(img1))\n",
    "print('image1 shape', img1.shape)\n",
    "print('image2 shape', img2.shape)\n",
    "print('data type', img1.dtype)\n",
    "\n",
    "\n",
    "h, w = img1.shape[:2]\n",
    "print(h, w)\n",
    "# if img1 is None or img2 is None:\n",
    "#     print('image read failed')\n",
    "#     sys.exit()\n",
    "    \n",
    "    \n",
    "# cv2.imshow('image1', img1)\n",
    "# cv2.imshow('image2', img2)\n",
    "\n",
    "\n",
    "# cv2.waitKey()\n",
    "# cv2.destroyAllWindows()"
   ]
  },
  {
   "cell_type": "code",
   "execution_count": null,
   "id": "364e6f22",
   "metadata": {},
   "outputs": [],
   "source": [
    "cv2.waitKey()\n",
    "cv2.destroyAllWindows()"
   ]
  },
  {
   "cell_type": "code",
   "execution_count": 23,
   "id": "4a6f6abf",
   "metadata": {},
   "outputs": [
    {
     "name": "stdout",
     "output_type": "stream",
     "text": [
      "[ 62 103 155]\n"
     ]
    }
   ],
   "source": [
    "img = cv2.imread('./fig/cat.bmp')\n",
    "\n",
    "h, w = img.shape[:2]\n",
    "\n",
    "p1 = img[h//2, w//2]\n",
    "\n",
    "img[10:200, 20:100] = (0, 0, 255)\n",
    "\n",
    "print(p1)\n",
    "\n",
    "cv2.imshow('image', img)\n",
    "\n",
    "\n",
    "cv2.waitKey()\n",
    "cv2.destroyAllWindows()"
   ]
  },
  {
   "cell_type": "code",
   "execution_count": 37,
   "id": "b963828e",
   "metadata": {},
   "outputs": [],
   "source": [
    "\n",
    "img1 = np.zeros((400, 600, 3), np.uint8)\n",
    "img2 = np.ones((600, 1200), np.uint8)*255\n",
    "img3 = np.full((600, 1200, 3), (255, 255, 0), np.uint8)\n",
    "\n",
    "\n",
    "# img2 = np.ones((400, 600))\n",
    "\n",
    "\n",
    "cv2.imshow('img1', img1)\n",
    "cv2.imshow('img2', img2)\n",
    "cv2.imshow('img3', img3)\n",
    "\n",
    "\n",
    "\n",
    "cv2.waitKey()\n",
    "cv2.destroyAllWindows()"
   ]
  },
  {
   "cell_type": "code",
   "execution_count": 41,
   "id": "81ffc0bc",
   "metadata": {},
   "outputs": [],
   "source": [
    "img = cv2.imread('./fig/puppy.bmp')\n",
    "\n",
    "img1 = img\n",
    "img2 = img.copy()\n",
    "\n",
    "img[200:300, 240:400] = (0, 0, 255)\n",
    "\n",
    "\n",
    "cv2.imshow('img', img)\n",
    "cv2.imshow('img1', img1)\n",
    "cv2.imshow('img2', img2)\n",
    "\n",
    "\n",
    "cv2.waitKey()\n",
    "cv2.destroyAllWindows()"
   ]
  },
  {
   "cell_type": "code",
   "execution_count": 46,
   "id": "4e3af4c6",
   "metadata": {},
   "outputs": [],
   "source": [
    "img = cv2.imread('./fig/puppy.bmp')\n",
    "\n",
    "img1 = img[200:400, 300:500]\n",
    "img2 = img[200:400, 300:500].copy()\n",
    "\n",
    "# circle(img, center, radius, color[, thickness[, lineType[, shift]]]) -> img\n",
    "cv2.circle(img1, (100, 100), 50, (0, 0, 255), -1)\n",
    "cv2.circle(img2, (100, 100), 50, (255, 0, 0), -1)\n",
    "\n",
    "\n",
    "cv2.imshow('img', img)\n",
    "cv2.imshow('img1', img1)\n",
    "cv2.imshow('img2', img2)\n",
    "\n",
    "\n",
    "\n",
    "cv2.waitKey()\n",
    "cv2.destroyAllWindows()"
   ]
  },
  {
   "cell_type": "code",
   "execution_count": 10,
   "id": "6d20e48e",
   "metadata": {},
   "outputs": [],
   "source": [
    "src = cv2.imread('./fig/airplane.bmp')\n",
    "mask = cv2.imread('./fig/mask_plane.bmp', 0)\n",
    "dst = cv2.imread('./fig/field.bmp')\n",
    "\n",
    "if src is None or mask is None or dst is None:\n",
    "    print('image read failed')\n",
    "    sys.exit()\n",
    "\n",
    "# copyTo(src, mask[, dst]) -> dst    \n",
    "# dst = cv2.copyTo(src, mask) \n",
    "cv2.copyTo(src, mask, dst)  \n",
    "\n",
    "# dst[mask > 0] = (0, 0, 255)\n",
    "dst[mask > 0] = src[mask > 0]\n",
    "\n",
    "cv2.imshow('src', src)\n",
    "cv2.imshow('mask', mask)\n",
    "cv2.imshow('dst', dst)\n",
    "\n",
    "cv2.waitKey()\n",
    "cv2.destroyAllWindows()"
   ]
  },
  {
   "cell_type": "code",
   "execution_count": 32,
   "id": "25fb783c",
   "metadata": {},
   "outputs": [],
   "source": [
    "src = cv2.imread('./fig/cow.png')\n",
    "dst = cv2.imread('./fig/green.png')\n",
    "\n",
    "src_gray = cv2.cvtColor(src, cv2.COLOR_BGR2GRAY)\n",
    "# threshold(src, thresh, maxval, type[, dst]) -> retval, dst\n",
    "retval, mask = cv2.threshold(src_gray, 240, 255, cv2.THRESH_BINARY_INV)\n",
    "\n",
    "h, w = src.shape[:2]\n",
    "dst_resize = dst[400:400+h, 300:300+w]\n",
    "\n",
    "# copyTo(src, mask[, dst]) -> dst\n",
    "cv2.copyTo(src, mask, dst_resize)\n",
    "\n",
    "\n",
    "cv2.imshow('src', src)\n",
    "# cv2.imshow('src_gray', src_gray)\n",
    "cv2.imshow('src_mask', mask)\n",
    "cv2.imshow('dst', dst)\n",
    "cv2.imshow('dst_resize', dst_resize)\n",
    "\n",
    "\n",
    "cv2.waitKey()\n",
    "cv2.destroyAllWindows()"
   ]
  },
  {
   "cell_type": "code",
   "execution_count": null,
   "id": "5af216b7",
   "metadata": {},
   "outputs": [],
   "source": [
    "src = cv2.imread('./fig/puppy.bmp')\n",
    "sunglass = cv2.imread('./fig/imgbin_sunglasses_1.png', cv2.IMREAD_UNCHANGED)\n",
    "\n",
    "h, w = src.shape[:2]\n",
    "\n",
    "sunglass = cv2.resize(sunglass, (300, 150))\n",
    "\n",
    "crop = src[120:120+150, 220:220+300]\n",
    "\n",
    "mask = sunglass[:, :, -1]\n",
    "glass = sunglass[:, :, 0:3]\n",
    "# print(src.shape)\n",
    "# print(sunglass.shape)\n",
    "\n",
    "# cv2.copyTo(glass, mask, crop)\n",
    "crop[ mask > 0] = (0, 0, 255)\n",
    "\n",
    "cv2.imshow('src', src)\n",
    "cv2.imshow('glass', glass)\n",
    "cv2.imshow('mask', mask)\n",
    "cv2.imshow('crop', crop)\n",
    "\n",
    "\n",
    "\n",
    "cv2.waitKey()\n",
    "cv2.destroyAllWindows()"
   ]
  },
  {
   "cell_type": "code",
   "execution_count": null,
   "id": "aca5513b",
   "metadata": {},
   "outputs": [],
   "source": []
  },
  {
   "cell_type": "code",
   "execution_count": null,
   "id": "734a2d5a",
   "metadata": {},
   "outputs": [],
   "source": []
  }
 ],
 "metadata": {
  "kernelspec": {
   "display_name": "Python 3 (ipykernel)",
   "language": "python",
   "name": "python3"
  },
  "language_info": {
   "codemirror_mode": {
    "name": "ipython",
    "version": 3
   },
   "file_extension": ".py",
   "mimetype": "text/x-python",
   "name": "python",
   "nbconvert_exporter": "python",
   "pygments_lexer": "ipython3",
   "version": "3.9.12"
  }
 },
 "nbformat": 4,
 "nbformat_minor": 5
}
