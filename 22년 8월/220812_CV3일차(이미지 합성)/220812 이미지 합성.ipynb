{
 "cells": [
  {
   "cell_type": "code",
   "execution_count": 4,
   "id": "0cabd762",
   "metadata": {},
   "outputs": [
    {
     "data": {
      "text/plain": [
       "'4.6.0'"
      ]
     },
     "execution_count": 4,
     "metadata": {},
     "output_type": "execute_result"
    }
   ],
   "source": [
    "import numpy as np\n",
    "import cv2\n",
    "import sys\n",
    "\n",
    "cv2.__version__"
   ]
  },
  {
   "cell_type": "code",
   "execution_count": 2,
   "id": "7d750a4e",
   "metadata": {},
   "outputs": [],
   "source": [
    "img = cv2.imread('./fig/puppy.bmp', cv2.IMREAD_GRAYSCALE)\n",
    "\n",
    "if img is None : \n",
    "    print('image read failed')\n",
    "    sys.exit()\n",
    "    \n",
    "cv2.namedWindow('image', cv2.WINDOW_NORMAL)\n",
    "cv2.imshow('image', img)\n",
    "\n",
    "\n",
    "# sec 단위 설정 가능함\n",
    "while True : \n",
    "    key = cv2.waitKey()\n",
    "    if key == 27 or key == 113 :\n",
    "        break\n",
    "\n",
    "cv2.destroyAllWindows()"
   ]
  },
  {
   "cell_type": "code",
   "execution_count": 5,
   "id": "ee8986e5",
   "metadata": {},
   "outputs": [],
   "source": [
    "import glob"
   ]
  },
  {
   "cell_type": "code",
   "execution_count": 6,
   "id": "a7af5cd6",
   "metadata": {},
   "outputs": [],
   "source": [
    "img_files = glob.glob('./fig/images/*.*')\n",
    "\n",
    "cv2.namedWindow('scene',)\n",
    "\n",
    "\n",
    "idx = 0\n",
    "while True :\n",
    "    img = cv2.imread(img_files[idx])\n",
    "    \n",
    "    if img is None :\n",
    "        print('image read failed')\n",
    "        break\n",
    "        \n",
    "    cv2.imshow('scene', img)\n",
    "    \n",
    "    if cv2.waitKey(3000) == 27:\n",
    "        break\n",
    "        \n",
    "    idx += 1\n",
    "    \n",
    "    if idx >= len(img_files):\n",
    "        idx=0\n",
    "        \n",
    "cv2.destroyAllWindows()"
   ]
  },
  {
   "cell_type": "code",
   "execution_count": 7,
   "id": "039c8b0c",
   "metadata": {},
   "outputs": [],
   "source": [
    "img = cv2.imread('./fig/fig/cat.bmp')\n",
    "\n",
    "img1 = img\n",
    "# 데이터카피\n",
    "img2 = img.copy()\n",
    "\n",
    "cv2.circle(img, (100,100),50,(0,0,255), 6, cv2.LINE_AA)\n",
    "\n",
    "cv2.imshow('img', img)\n",
    "cv2.imshow('img1', img1)\n",
    "cv2.imshow('img2', img2)\n",
    "\n",
    "\n",
    "cv2.waitKey()\n",
    "cv2.destroyAllWindows()"
   ]
  },
  {
   "cell_type": "code",
   "execution_count": 8,
   "id": "ca64ed4e",
   "metadata": {},
   "outputs": [],
   "source": [
    "## 합성의 기본 (mask 연산)\n",
    "src = cv2.imread('./fig/fig/airplane.bmp')\n",
    "mask = cv2.imread('./fig/fig/mask_plane.bmp', 0) # 그레이로 엶\n",
    "dst = cv2.imread('./fig/fig/field.bmp') # 배경\n",
    "\n",
    "if src is None or mask is None or dst is None : \n",
    "    print('image read failed')\n",
    "    sys.exit()\n",
    "    \n",
    "cv2.imshow('src', src)\n",
    "cv2.imshow('mask', mask)\n",
    "cv2.imshow('dst', dst)\n",
    "\n",
    "cv2.waitKey()\n",
    "cv2.destroyAllWindows()"
   ]
  },
  {
   "cell_type": "code",
   "execution_count": 13,
   "id": "25260f19",
   "metadata": {},
   "outputs": [],
   "source": [
    "## src를 dst로 옮김\n",
    "src = cv2.imread('./fig/fig/airplane.bmp')\n",
    "mask = cv2.imread('./fig/fig/mask_plane.bmp', 0) # 그레이로 엶\n",
    "dst = cv2.imread('./fig/fig/field.bmp') # 배경\n",
    "\n",
    "if src is None or mask is None or dst is None : \n",
    "    print('image read failed')\n",
    "    sys.exit()\n",
    "    \n",
    "# cv2.copyTo(src, mask, dst)\n",
    "dst = cv2.copyTo(src, mask)\n",
    "\n",
    "dst[mask > 0] = (0,)\n",
    "\n",
    "    \n",
    "cv2.imshow('src', src)\n",
    "cv2.imshow('mask', mask)\n",
    "cv2.imshow('dst', dst)\n",
    "\n",
    "cv2.waitKey()\n",
    "cv2.destroyAllWindows()"
   ]
  },
  {
   "cell_type": "code",
   "execution_count": 20,
   "id": "1d33325c",
   "metadata": {},
   "outputs": [
    {
     "ename": "error",
     "evalue": "OpenCV(4.6.0) D:\\a\\opencv-python\\opencv-python\\opencv\\modules\\core\\src\\copy.cpp:442: error: (-215:Assertion failed) size() == mask.size() in function 'cv::Mat::copyTo'\n",
     "output_type": "error",
     "traceback": [
      "\u001b[1;31m---------------------------------------------------------------------------\u001b[0m",
      "\u001b[1;31merror\u001b[0m                                     Traceback (most recent call last)",
      "Input \u001b[1;32mIn [20]\u001b[0m, in \u001b[0;36m<cell line: 10>\u001b[1;34m()\u001b[0m\n\u001b[0;32m      7\u001b[0m     \u001b[38;5;28mprint\u001b[39m(\u001b[38;5;124m'\u001b[39m\u001b[38;5;124mimage read failed\u001b[39m\u001b[38;5;124m'\u001b[39m)\n\u001b[0;32m      8\u001b[0m     sys\u001b[38;5;241m.\u001b[39mexit()\n\u001b[1;32m---> 10\u001b[0m \u001b[43mcv2\u001b[49m\u001b[38;5;241;43m.\u001b[39;49m\u001b[43mcopyTo\u001b[49m\u001b[43m(\u001b[49m\u001b[43msrc\u001b[49m\u001b[43m,\u001b[49m\u001b[43m \u001b[49m\u001b[43mdst_resize\u001b[49m\u001b[43m)\u001b[49m\n\u001b[0;32m     13\u001b[0m cv2\u001b[38;5;241m.\u001b[39mimshow(\u001b[38;5;124m'\u001b[39m\u001b[38;5;124msrc\u001b[39m\u001b[38;5;124m'\u001b[39m, src)\n\u001b[0;32m     14\u001b[0m cv2\u001b[38;5;241m.\u001b[39mimshow(\u001b[38;5;124m'\u001b[39m\u001b[38;5;124mdst\u001b[39m\u001b[38;5;124m'\u001b[39m, dst)\n",
      "\u001b[1;31merror\u001b[0m: OpenCV(4.6.0) D:\\a\\opencv-python\\opencv-python\\opencv\\modules\\core\\src\\copy.cpp:442: error: (-215:Assertion failed) size() == mask.size() in function 'cv::Mat::copyTo'\n"
     ]
    }
   ],
   "source": [
    "src = cv2.imread('./fig/fig/cow.png')\n",
    "dst = cv2.imread('./fig/fig/green.png')\n",
    "h, w = img.shape[:2]\n",
    "dst_resize = cv2.resize(dst, (w, h))\n",
    "\n",
    "if src is None or dst is None : \n",
    "    print('image read failed')\n",
    "    sys.exit()\n",
    "\n",
    "retval, mask = cv2.threshold(src_gray, 240,255, cv2.THRESH_BINARY_INV)\n",
    "    \n",
    "    \n",
    "cv2.imshow('src', src)\n",
    "cv2.imshow('dst', dst)\n",
    "cv2.imshow('dst_resize', dst_resize)\n",
    "\n",
    "cv2.waitKey()\n",
    "cv2.destroyAllWindows()"
   ]
  },
  {
   "cell_type": "code",
   "execution_count": 21,
   "id": "4d1e83f2",
   "metadata": {},
   "outputs": [],
   "source": [
    "src = cv2.imread('./fig/fig/cow.png')\n",
    "dst = cv2.imread('./fig/fig/green.png')\n",
    "\n",
    "src_gray = cv2.cvtColor(src, cv2.COLOR_BGR2GRAY)\n",
    "retval, mask = cv2.threshold(src_gray, 240,255, cv2.THRESH_BINARY_INV)\n",
    "\n",
    "dst_resize = cv2.resize(dst, (w, h))\n",
    "\n",
    "h ,w = src.shape[:2]\n",
    "dst_size = dst[400:400+h, 300:300+w]\n",
    "\n",
    "cv2.copyTo\n",
    "\n",
    "\n",
    "\n",
    "if src is None or dst is None : \n",
    "    print('image read failed')\n",
    "    sys.exit()\n",
    "\n",
    "    \n",
    "    \n",
    "cv2.imshow('src', src)\n",
    "cv2.imshow('src_mask', mask)\n",
    "cv2.imshow('dst', dst)\n",
    "cv2.imshow('dst_resize', dst_resize)\n",
    "\n",
    "cv2.waitKey()\n",
    "cv2.destroyAllWindows()"
   ]
  },
  {
   "cell_type": "code",
   "execution_count": 71,
   "id": "faecb04c",
   "metadata": {},
   "outputs": [
    {
     "ename": "IndexError",
     "evalue": "boolean index did not match indexed array along dimension 0; dimension is 150 but corresponding boolean dimension is 160",
     "output_type": "error",
     "traceback": [
      "\u001b[1;31m---------------------------------------------------------------------------\u001b[0m",
      "\u001b[1;31mIndexError\u001b[0m                                Traceback (most recent call last)",
      "Input \u001b[1;32mIn [71]\u001b[0m, in \u001b[0;36m<cell line: 14>\u001b[1;34m()\u001b[0m\n\u001b[0;32m     11\u001b[0m crop \u001b[38;5;241m=\u001b[39m src[\u001b[38;5;241m120\u001b[39m:\u001b[38;5;241m120\u001b[39m\u001b[38;5;241m+\u001b[39m\u001b[38;5;241m150\u001b[39m, \u001b[38;5;241m220\u001b[39m:\u001b[38;5;241m220\u001b[39m\u001b[38;5;241m+\u001b[39m\u001b[38;5;241m300\u001b[39m]\n\u001b[0;32m     13\u001b[0m \u001b[38;5;66;03m# 색변환\u001b[39;00m\n\u001b[1;32m---> 14\u001b[0m crop[ mask \u001b[38;5;241m>\u001b[39m \u001b[38;5;241m0\u001b[39m] \u001b[38;5;241m=\u001b[39m (\u001b[38;5;241m0\u001b[39m, \u001b[38;5;241m0\u001b[39m, \u001b[38;5;241m255\u001b[39m)\n\u001b[0;32m     16\u001b[0m mask \u001b[38;5;241m=\u001b[39m sunglass[:, :, \u001b[38;5;241m-\u001b[39m\u001b[38;5;241m1\u001b[39m]\n\u001b[0;32m     17\u001b[0m glass \u001b[38;5;241m=\u001b[39m sunglass[:,:, \u001b[38;5;241m0\u001b[39m:\u001b[38;5;241m3\u001b[39m]\n",
      "\u001b[1;31mIndexError\u001b[0m: boolean index did not match indexed array along dimension 0; dimension is 150 but corresponding boolean dimension is 160"
     ]
    }
   ],
   "source": [
    "## 알파채널\n",
    "src = cv2.imread('./fig/fig/puppy.bmp')\n",
    "sunglass = cv2.imread('./fig/fig/imgbin_sunglasses_1.png', cv2.IMREAD_UNCHANGED)\n",
    "\n",
    "# 개의 사진의 크기를 가져옴\n",
    "h, w = src.shape[:2]\n",
    "\n",
    "sunglass = cv2.resize(sunglass, (300, 150))\n",
    "\n",
    "# 강아지쪽에 씌울 범위를 짜름\n",
    "crop = src[120:120+150, 220:220+300]\n",
    "\n",
    "# 색변환\n",
    "crop[ mask > 0] = (0, 0, 255)\n",
    "\n",
    "mask = sunglass[:, :, -1]\n",
    "glass = sunglass[:,:, 0:3]\n",
    "\n",
    "cv2.copyTo(glass, mask, crop)\n",
    "\n",
    "cv2.imshow('src', src)\n",
    "cv2.imshow('sunglass', sunglass)\n",
    "cv2.imshow('mask', mask) # mask의 1로 된 부분만 나타내라\n",
    "cv2.imshow('crop', crop)\n",
    "\n",
    "cv2.waitKey()\n",
    "cv2.destroyAllWindows()"
   ]
  },
  {
   "cell_type": "code",
   "execution_count": 122,
   "id": "bb7ffc4b",
   "metadata": {},
   "outputs": [],
   "source": [
    "## 알파채널 응용\n",
    "src = cv2.imread('./KakaoTalk_20220622_112053368.jpg') # 소스 사진 준비\n",
    "hat = cv2.imread('./fig/fig/imgbin_hat.png', cv2.IMREAD_UNCHANGED) # 알파채널 응용할 사진 준비\n",
    "src_resize = cv2.resize(src, (480*2, 320*2), interpolation = cv2.INTER_AREA) # 소스 사진 변경\n",
    "hat_resize = cv2.resize(hat, (480//2, 320//2), interpolation = cv2.INTER_AREA) # 알차패널 응용할 사진 크기 변경\n",
    "\n",
    "\n",
    "h, w = src.shape[:2]\n",
    "\n",
    "# 합성할려고 준비해놓은 것, -1을 하면 하얀색으로 압성이 되고 \n",
    "mask = hat_resize[:, :, -1]\n",
    "# 합성\n",
    "glass = hat_resize[:,:, 0:3]\n",
    "\n",
    "# 합성하고 싶은 범위를 짜름(임의로 숫자로 맞추어야함, 크기 설정한건 x, y 반대임!!!)\n",
    "crop = src_resize[230:230+160, 150:150+240]\n",
    "\n",
    "# 원본사진(src_risize) 에서 glass의 mask를 통해서 원하는 부분만 자르고, crop 을 하여 원하는 위치에 합성을 진행 \n",
    "cv2.copyTo(glass, mask, crop)\n",
    "\n",
    "cv2.imshow('src_size', src_resize)\n",
    "# cv2.imshow('hat_size', hat_resize)\n",
    "cv2.imshow('mask', mask) # mask의 1로 된 부분만 나타내라\n",
    "cv2.imshow('crop', crop)\n",
    "cv2.imshow('glass', glass)\n",
    "\n",
    "\n",
    "cv2.waitKey()\n",
    "cv2.destroyAllWindows()"
   ]
  },
  {
   "cell_type": "code",
   "execution_count": null,
   "id": "caf22d97",
   "metadata": {},
   "outputs": [],
   "source": []
  }
 ],
 "metadata": {
  "kernelspec": {
   "display_name": "Python 3 (ipykernel)",
   "language": "python",
   "name": "python3"
  },
  "language_info": {
   "codemirror_mode": {
    "name": "ipython",
    "version": 3
   },
   "file_extension": ".py",
   "mimetype": "text/x-python",
   "name": "python",
   "nbconvert_exporter": "python",
   "pygments_lexer": "ipython3",
   "version": "3.9.12"
  }
 },
 "nbformat": 4,
 "nbformat_minor": 5
}
