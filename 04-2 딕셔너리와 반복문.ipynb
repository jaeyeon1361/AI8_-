{
 "cells": [
  {
   "cell_type": "code",
   "execution_count": 5,
   "id": "cd6cafa1",
   "metadata": {},
   "outputs": [
    {
     "name": "stdout",
     "output_type": "stream",
     "text": [
      "{'name': '홍길동', 'age': 30}\n",
      "<class 'dict'>\n"
     ]
    }
   ],
   "source": [
    "# 04-2 딕셔너리와 반복문\n",
    "# 딕셔너리 : {키 : 값, ...}  / 리스트 [값...]\n",
    "dict_a = {'name' : '홍길동', 'age' : 30}\n",
    "print(dict_a)\n",
    "print(type(dict_a))                # 변수 값을 정해주는 것이 한글이면 따옴표 무조건!!!!"
   ]
  },
  {
   "cell_type": "code",
   "execution_count": 7,
   "id": "b0a8ecec",
   "metadata": {},
   "outputs": [
    {
     "name": "stdout",
     "output_type": "stream",
     "text": [
      "{'name': '홍길동', 'age': 30, 'title': '딕셔너리'}\n",
      "{'age': 30, 'title': '딕셔너리'}\n"
     ]
    }
   ],
   "source": [
    "# 딕셔너리 값 추가 및 제거\n",
    "dict_a['title'] = '딕셔너리'       # 추가\n",
    "print(dict_a)\n",
    "del dict_a['name']                # 제거(name 딕셔너리제거)\n",
    "print(dict_a)"
   ]
  },
  {
   "cell_type": "code",
   "execution_count": null,
   "id": "7efc94ea",
   "metadata": {},
   "outputs": [],
   "source": [
    "list_a = []\n",
    "list_a.append()\n",
    "dict_c = {}\n",
    "dict_c['키'] = 값"
   ]
  },
  {
   "cell_type": "code",
   "execution_count": 11,
   "id": "4364b0bf",
   "metadata": {},
   "outputs": [
    {
     "ename": "IndentationError",
     "evalue": "expected an indented block (3291972222.py, line 7)",
     "output_type": "error",
     "traceback": [
      "\u001b[1;36m  Input \u001b[1;32mIn [11]\u001b[1;36m\u001b[0m\n\u001b[1;33m    score = input(\"점수를 입력하세요 = \")\u001b[0m\n\u001b[1;37m    ^\u001b[0m\n\u001b[1;31mIndentationError\u001b[0m\u001b[1;31m:\u001b[0m expected an indented block\n"
     ]
    }
   ],
   "source": [
    "# 키보드에 이름과 성적을 입력 받아 이름을 키로 성적을 값으로 딕셔너리에 저장된 자료를 출력\n",
    "# 이름에 q가 입력되면 프로그램 종료\n",
    "name = input(\"이름을 입력하세요 = \")\n",
    "\n",
    "while True :\n",
    "    if name == 'q' : \n",
    "    score = input(\"점수를 입력하세요 = \")\n",
    "    else :\n",
    "    break\n"
   ]
  },
  {
   "cell_type": "code",
   "execution_count": 4,
   "id": "655d3ff9",
   "metadata": {},
   "outputs": [
    {
     "name": "stdout",
     "output_type": "stream",
     "text": [
      "이름 입력 : 송재연\n",
      "정수 입력 : 80\n",
      "이름 입력 : 왕희창\n",
      "정수 입력 : 80\n",
      "이름 입력 : 정희운\n",
      "정수 입력 : 80\n",
      "이름 입력 : q\n",
      "입력종료\n",
      "{'송재연': 80, '왕희창': 80, '정희운': 80}\n"
     ]
    }
   ],
   "source": [
    "# 강사님\n",
    "score_dict = {}\n",
    "while True :\n",
    "    name = input(\"이름 입력 : \")\n",
    "    if name == 'q' :\n",
    "        print(\"입력종료\")\n",
    "        break\n",
    "    score = int(input(\"정수 입력 : \"))\n",
    "    score_dict[name] = score    # 키 와 값을 추가 해줌 {'키' = '값'}\n",
    "\n",
    "print(score_dict) # 만약 이름을 쳤는데, q가 입력되면 종료가 되고, 그게 아니면 반복해라"
   ]
  },
  {
   "cell_type": "code",
   "execution_count": 8,
   "id": "3eb9af74",
   "metadata": {},
   "outputs": [
    {
     "name": "stdout",
     "output_type": "stream",
     "text": [
      "True\n",
      "False\n"
     ]
    }
   ],
   "source": [
    "# 키가 존재하는지 확인 : key in 딕셔너리\n",
    "print('a' in  score_dict)\n",
    "print('name' in  score_dict)"
   ]
  },
  {
   "cell_type": "code",
   "execution_count": 13,
   "id": "1389b119",
   "metadata": {},
   "outputs": [
    {
     "name": "stdout",
     "output_type": "stream",
     "text": [
      "검색하고자 하는 이름 입력 : 송재연\n",
      "송재연의 성적은 80점 입니다.\n"
     ]
    }
   ],
   "source": [
    "# 키의 값이 있는지 확인하는 함수 : 딕셔너리.get('키') -> 값변환\n",
    "serch_name = input(\"검색하고자 하는 이름 입력 : \")\n",
    "value = score_dict.get(serch_name) # 여기가 추가됐음\n",
    "if value :                         # 이미 검색을 했을때 존재해서 옆에처럼 쓸 수 있음\n",
    "    print(\"{}의 성적은 {}점 입니다.\".format(serch_name, score_dict[serch_name]))\n",
    "else : \n",
    "    print(\"{}의 성적은 존재하지 않습니다\".format(serch_name))"
   ]
  },
  {
   "cell_type": "code",
   "execution_count": 6,
   "id": "410d6cbc",
   "metadata": {},
   "outputs": [
    {
     "name": "stdout",
     "output_type": "stream",
     "text": [
      "검색하고자 하는 이름 입력 : 송재연\n",
      "송재연의 성적은 80점 입니다.\n"
     ]
    }
   ],
   "source": [
    "serch_name = input(\"검색하고자 하는 이름 입력 : \")\n",
    "if serch_name in score_dict :\n",
    "    print(\"{}의 성적은 {}점 입니다.\".format(serch_name, score_dict[serch_name]))\n",
    "else : \n",
    "    print(\"{}의 성적은 존재하지 않습니다\".format(serch_name))"
   ]
  },
  {
   "cell_type": "code",
   "execution_count": 14,
   "id": "c4cf7308",
   "metadata": {},
   "outputs": [
    {
     "ename": "SyntaxError",
     "evalue": "EOL while scanning string literal (2668184602.py, line 7)",
     "output_type": "error",
     "traceback": [
      "\u001b[1;36m  Input \u001b[1;32mIn [14]\u001b[1;36m\u001b[0m\n\u001b[1;33m    print(f'{[serch_name]}은 존재하지 않습니다.)\u001b[0m\n\u001b[1;37m                                       ^\u001b[0m\n\u001b[1;31mSyntaxError\u001b[0m\u001b[1;31m:\u001b[0m EOL while scanning string literal\n"
     ]
    }
   ],
   "source": [
    "# 검색하고자 하는 이름을 입력 받아 자료에 존재하면 이름과 성적 출력\n",
    "# 존재하지 않으면 존재하지 않는 이름 출력\n",
    "serch_name = input(\"검색하고자 하는 이름 입력 : \")\n",
    "if serch_name in score_dict :\n",
    "    print(f'{[serch_name]}의 성적은 {[score_dict]}입니다.')\n",
    "else : \n",
    "    print(f'{[serch_name]}은 존재하지 않습니다.)"
   ]
  },
  {
   "cell_type": "code",
   "execution_count": 16,
   "id": "a9253801",
   "metadata": {},
   "outputs": [
    {
     "name": "stdout",
     "output_type": "stream",
     "text": [
      "송재연 : 80\n",
      "왕희창 : 80\n",
      "정희운 : 80\n"
     ]
    }
   ],
   "source": [
    "# for 반복문과 같이 사용 : for key in dict :\n",
    "# for 문을 이용하여 dict 에 자료 출력\n",
    "for key in score_dict : \n",
    "    print(f\"{key} : {score_dict[key]}\")"
   ]
  },
  {
   "cell_type": "code",
   "execution_count": 20,
   "id": "b2899a18",
   "metadata": {},
   "outputs": [
    {
     "name": "stdout",
     "output_type": "stream",
     "text": [
      "송재연 : 80\n",
      "왕희창 : 80\n",
      "정희운 : 80\n"
     ]
    },
    {
     "data": {
      "text/plain": [
       "dict_values([80, 80, 80])"
      ]
     },
     "execution_count": 20,
     "metadata": {},
     "output_type": "execute_result"
    }
   ],
   "source": [
    "# 딕셔너리와 키와 값을 동시에 가져오는 함수 : 딕셔너리.items()\n",
    "for key, value in score_dict.items() :\n",
    "    print(f\"{key} : {value}\")\n",
    "score_dict.keys()\n",
    "score_dict.values()"
   ]
  },
  {
   "cell_type": "code",
   "execution_count": null,
   "id": "440aa1dc",
   "metadata": {},
   "outputs": [],
   "source": [
    "# 이름과 국어, 영어, 수학 성적을 입력 받아 딕셔너리에 저장한 후\n",
    "# 학생별로 성적의 총합, 평균을 출력\n",
    "# 전체 학생의 인원 수, 전체 과목별 평균을 구하시오\n",
    "name = input(\"이름을 입력하세요 = \") \n",
    "students = {'name' : '송재연'} \n",
    "list_a = [\"국어\", \"영어\", \"수학\"]\n",
    "for i in list_a :\n",
    "    language = int(input(\"국어 성적을 입력하세요 = \"))\n",
    "    english = int(input(\"영어 성적을 입력하세요 = \"))\n",
    "    math = int(input(\"수학 성적을 입력하세요 = \"))\n",
    "    print(\"당신의 평균 점수는 {}입니다.\".format(language + english + math %% 3 ))"
   ]
  },
  {
   "cell_type": "code",
   "execution_count": null,
   "id": "d6a6c323",
   "metadata": {},
   "outputs": [],
   "source": [
    "# 이름과 국어, 영어, 수학 성적을 입력 받아 딕셔너리에 저장한 후 학생별로 성적의 총합, 평균을 출력\n",
    "students = {}\n",
    "while True :\n",
    "    name = input(\"이름 입력 : \")\n",
    "    if name == 'q' :\n",
    "        print(\"입력 종료\")\n",
    "        break\n",
    "    scores = input(\"국어 영어 수학 성적 입력\").split()\n",
    "    if len(scores) !=3 :\n",
    "        continue\n",
    "    score_list = []\n",
    "    for score in scores : \n",
    "        score_list.append(int(score))\n",
    "    students[name] : score_list\n",
    "students \n"
   ]
  },
  {
   "cell_type": "code",
   "execution_count": null,
   "id": "b97bf381",
   "metadata": {},
   "outputs": [],
   "source": [
    "# 이름과 국어, 영어, 수학 성적을 입력 받아 딕셔너리에 저장한 후\n",
    "# srudents -> 이름, 국어, 영어, 수학 성적 , 이름을 키로 \n",
    "students = {}\n",
    "while True:\n",
    "    name = input('이름 입력 :')\n",
    "    if name == 'q':\n",
    "        print(\"입력 종료 \")\n",
    "        break\n",
    "    scores = input(\" 국어 영어 수학 성적 입력 (ex : 90 80 90)\").split()\n",
    "    if len(scores) !=3 :\n",
    "        continue\n",
    "    score_list = []\n",
    "    for score in scores:\n",
    "        score_list.append(int(score))\n",
    "    students[name] = score_list\n",
    "students    "
   ]
  },
  {
   "cell_type": "code",
   "execution_count": null,
   "id": "bd442765",
   "metadata": {},
   "outputs": [],
   "source": [
    "# 학생별로 성적의 총합, 평균을 출력\n",
    " # 1. 딕셔너리의 자료를 가져와서 총합 평균 출력\n",
    "print(\"{:6}{:6}{:6}\".format('이름','총점','평균'))\n",
    "\n",
    "for key, scores in students.items():\n",
    "    total = 0  # 학생의 총점을 초기화\n",
    "    for score in scores:   # 리스트의 각 점수를 가져 옴\n",
    "        total += score   # 누적 합 구함\n",
    "    print(\"{:6}{:6d}\\t{:6.2f}\".format(key,total, total/len(scores)))\n",
    "                                    \n",
    "# 전체 학생의 인원수, 과목별 평균을 구하세요\n",
    "scores = students.values()\n",
    "tot_score = [0,0,0]\n",
    "for score in scores:\n",
    "    idx = 0\n",
    "    for sub_score in score:   # 각 과목별 평균을 구하기 위해 \n",
    "        tot_score[idx] += sub_score\n",
    "        idx += 1\n",
    "\n",
    "# 각 과목별 평균 \n",
    "print(\"학생수 : {}\".format(len(students))) # 전체 학생수 : len(딕셔너리)\n",
    "for tot in tot_score:\n",
    "    print(\"{:3.2f}\".format(tot/3), end='\\t')"
   ]
  },
  {
   "cell_type": "code",
   "execution_count": null,
   "id": "2393a031",
   "metadata": {},
   "outputs": [
    {
     "name": "stdout",
     "output_type": "stream",
     "text": [
      "5의 배수가 아닙니다.\n",
      "5의 배수를 입력하세요. = 10\n",
      "10는 5의 배수입니다.\n"
     ]
    }
   ],
   "source": [
    "# 0 부터 100까지의 수 중에서 5의 배수만 출력\n",
    "for i in range(0, 101) : \n",
    "    if i * 5 :\n",
    "        i = input(\"5의 배수를 입력하세요. = \")\n",
    "        print(f'{i}는 5의 배수입니다.')\n",
    "    else : \n",
    "        print(\"5의 배수가 아닙니다.\")\n",
    "        "
   ]
  },
  {
   "cell_type": "code",
   "execution_count": null,
   "id": "5a4911be",
   "metadata": {},
   "outputs": [],
   "source": [
    "# 1. 키보드에서 이름을 입력 받아 'q'가 입력되면 입력 종료\n",
    "# 국어 영어 점수를 입력 받아 저장\n",
    "# 2. 입력받은 점수가 2 가 아니거나 숫자가 아니면 다시 입력\n",
    "\n",
    "while True :\n",
    "    name : input(\"이름 입력 : \")\n",
    "    if name == 'q' :\n",
    "        print(\"입력 종료\")\n",
    "        break\n",
    "        \n",
    "    scores = input(\"국어 영어 성적 입력\").split()\n",
    "    score_list = []\n",
    "        if score.isnumeric() : \n",
    "            score_list.append(int(score))\n",
    "        else :\n",
    "            break\n",
    "        \n",
    "        if len(score_list) != 2:\n",
    "            continue\n",
    "            \n",
    "        students[name] = score_list\n",
    "\n",
    "students"
   ]
  },
  {
   "cell_type": "code",
   "execution_count": null,
   "id": "4c92c84d",
   "metadata": {},
   "outputs": [],
   "source": [
    "# 입력 종료 후 검색 하고자 하는 이름을 입력 받아 검색 된 이름의 성적과 총점 평균\n",
    "# 3. 총 입력된 학생의 인원 수 출력\n",
    "# 4. 전체 학생의 성적의 합계를 기존의 자료에 추가\n",
    "# 5. 최고점을 받은 학생의 정보 출력"
   ]
  },
  {
   "cell_type": "code",
   "execution_count": 3,
   "id": "ea17202b",
   "metadata": {},
   "outputs": [
    {
     "name": "stdout",
     "output_type": "stream",
     "text": [
      "이름 입력 : q\n"
     ]
    },
    {
     "ename": "NameError",
     "evalue": "name 'name' is not defined",
     "output_type": "error",
     "traceback": [
      "\u001b[1;31m---------------------------------------------------------------------------\u001b[0m",
      "\u001b[1;31mNameError\u001b[0m                                 Traceback (most recent call last)",
      "Input \u001b[1;32mIn [3]\u001b[0m, in \u001b[0;36m<cell line: 1>\u001b[1;34m()\u001b[0m\n\u001b[0;32m      1\u001b[0m \u001b[38;5;28;01mwhile\u001b[39;00m \u001b[38;5;28;01mTrue\u001b[39;00m :\n\u001b[0;32m      2\u001b[0m     name : \u001b[38;5;28minput\u001b[39m(\u001b[38;5;124m\"\u001b[39m\u001b[38;5;124m이름 입력 : \u001b[39m\u001b[38;5;124m\"\u001b[39m)\n\u001b[1;32m----> 3\u001b[0m     \u001b[38;5;28;01mif\u001b[39;00m \u001b[43mname\u001b[49m \u001b[38;5;241m==\u001b[39m \u001b[38;5;124m'\u001b[39m\u001b[38;5;124mq\u001b[39m\u001b[38;5;124m'\u001b[39m :\n\u001b[0;32m      4\u001b[0m         \u001b[38;5;28mprint\u001b[39m(\u001b[38;5;124m\"\u001b[39m\u001b[38;5;124m입력 종료\u001b[39m\u001b[38;5;124m\"\u001b[39m)\n\u001b[0;32m      5\u001b[0m         \u001b[38;5;28;01mbreak\u001b[39;00m\n",
      "\u001b[1;31mNameError\u001b[0m: name 'name' is not defined"
     ]
    }
   ],
   "source": [
    "while True :\n",
    "    name : input(\"이름 입력 : \")\n",
    "    if name == 'q' :\n",
    "        print(\"입력 종료\")\n",
    "        break\n",
    "    scores = input(\"국어 성적을 입력하세요 : \")\n",
    "    if score.isnumeric() :\n",
    "        score_list.append(int(score))\n",
    "    else :\n",
    "        break"
   ]
  },
  {
   "cell_type": "code",
   "execution_count": 7,
   "id": "9143d8a5",
   "metadata": {},
   "outputs": [
    {
     "name": "stdout",
     "output_type": "stream",
     "text": [
      "0\n",
      "1\n",
      "2\n",
      "3\n",
      "4\n",
      "\n",
      "4\n",
      "3\n",
      "2\n",
      "1\n",
      "0\n",
      "==========\n",
      "5\n",
      "4\n",
      "3\n",
      "2\n",
      "1\n"
     ]
    }
   ],
   "source": [
    "for i in range(5) :\n",
    "    print(i)\n",
    "print()\n",
    "for i in reversed(range(5)) :\n",
    "    print(i)\n",
    "print(\"=\" * 10)    \n",
    "list_a = [1, 2, 3, 4, 5]\n",
    "for i in reversed(list_a) :\n",
    "    print(i)"
   ]
  },
  {
   "cell_type": "code",
   "execution_count": 11,
   "id": "5a4fc696",
   "metadata": {},
   "outputs": [
    {
     "name": "stdout",
     "output_type": "stream",
     "text": [
      "[1, 1]\n"
     ]
    }
   ],
   "source": [
    "list_test = [1, 2, 1, 2]\n",
    "value = 2\n",
    "while value in list_test :\n",
    "    list_test.remove(value)\n",
    "print(list_test)"
   ]
  },
  {
   "cell_type": "code",
   "execution_count": null,
   "id": "244c6af2",
   "metadata": {},
   "outputs": [],
   "source": [
    "list_news = '세종시장직 인수위원회가 운영 실적이 저조하거나 여건 변화에 따라 필요성이 없어진 각종 위원회를 통폐합한다고 밝혔습니다.\n",
    "\n",
    "인수위 재정예산TF의 세종시 각종 위원회 설치 근거와 구성, 운영 실적 등에 대한 전수 조사 결과 현재 운영 중인 위원회는 243개, 위원 수는 4,875명으로 지난해 지급된 수당만 13억여원으로 나타났습니다.\n",
    "\n",
    "인수위는 지난 1년간 회의를 한 차례도 개최하지 않거나 운영 실적이 저조한 '식물위원회'가 다수라면서 조례와 법령 개정을 통해 일괄 정비할 계획입니다.\n",
    "\n",
    "또한, 세종시 지방보조금 사업에 대한 현황도 조사해 내역을 투명하게 공개하겠다고 말했습니다.\n",
    "\n",
    "지난해 기준 대전광역시 위원회 224개, 위원수 3,178명과 충남도 211개 위원회, 3,242명입니다.\n",
    "'"
   ]
  },
  {
   "cell_type": "code",
   "execution_count": 14,
   "id": "cbe656d4",
   "metadata": {},
   "outputs": [
    {
     "name": "stdout",
     "output_type": "stream",
     "text": [
      "[1, 1]\n"
     ]
    }
   ],
   "source": [
    "list_news = list(list_news)\n",
    "value : '\\n'\n",
    "while value in list_news :\n",
    "    if value.(value)\n",
    "print(list_test)       "
   ]
  },
  {
   "cell_type": "code",
   "execution_count": null,
   "id": "ab00ce6a",
   "metadata": {},
   "outputs": [],
   "source": [
    "# python 의 데이터 타입 : 문자 숫자 불링ㄴ\n",
    "# 자료의 집합 list ->[] dict ->{}\n",
    "# list[위치인덱스], dict{키}\n",
    "# list.append() / dict[키] = 값\n",
    "# list(위치인덱스)  = 값 / dict[키] = 값\n",
    "# list.pop(), list.remove(값), del list[위치 인덱스] / del dict[키]\n",
    "\n",
    "# 반복문 for 문\n",
    "# for value in list : -> 리스트의 각 요소가 vlaue로 저장됨\n",
    "# for key in dict : -> 딕셔너리의 키가 key로 저장 됨\n",
    "\n",
    "# for idx, value in eumerate(리스트) -> 위치(idx)와 값(value)이 저장됨\n",
    "# for key, value in dict.itmes() -> 키(key)와 값(value)이 저장됨\n",
    "\n",
    "# dict.get(키) -> 값이 반환됨\n",
    "\n",
    "# 반복문 while True 조건인 경우 실행\n",
    "while True :\n",
    "    input_char = input(\"자료 입력 : q 또는 Q를 입력시 종료\")\n",
    "    if input_char in ['q', 'Q'] :\n",
    "        break\n",
    "# 반복문 탈출 명령어 -> break\n",
    "# 반복문 조건식으로 이동 -> continue"
   ]
  },
  {
   "cell_type": "code",
   "execution_count": 15,
   "id": "8adeb012",
   "metadata": {},
   "outputs": [
    {
     "name": "stdout",
     "output_type": "stream",
     "text": [
      "1부터 10가지의 합은55\n"
     ]
    }
   ],
   "source": [
    "# 반복문에서 누적합 등을 구하고자 할 경우\n",
    "# 초기화는 반복문 시작 전에\n",
    "tot = 0\n",
    "for i in range(11) : \n",
    "    tot += i\n",
    "print(\"1부터 10가지의 합은{}\".format(tot))"
   ]
  },
  {
   "cell_type": "code",
   "execution_count": 18,
   "id": "e9a2e883",
   "metadata": {},
   "outputs": [
    {
     "name": "stdout",
     "output_type": "stream",
     "text": [
      "16984158번 실행\n"
     ]
    }
   ],
   "source": [
    "# time 모듈과 반복문\n",
    "import time\n",
    "\n",
    "cnt = 0\n",
    "t_time = time.time() + 3\n",
    "while time.time() < t_time : # 잠깐 멈췄다가 실행함\n",
    "    cnt += 1\n",
    "print(\"3초 동안{}번 실행\".format(cnt))"
   ]
  },
  {
   "cell_type": "code",
   "execution_count": 22,
   "id": "e476fd6a",
   "metadata": {},
   "outputs": [
    {
     "name": "stdout",
     "output_type": "stream",
     "text": [
      "10\n",
      "40\n",
      "80\n"
     ]
    }
   ],
   "source": [
    "# 문자열 리스트, 딕셔더리와 관련된 기본 함수\n",
    "# min(), max(), sum()\n",
    "list_a = [10, 30, 40]\n",
    "print(min(list_a))\n",
    "print(max(list_a))\n",
    "print(sum(list_a))"
   ]
  },
  {
   "cell_type": "code",
   "execution_count": 24,
   "id": "a49d1463",
   "metadata": {},
   "outputs": [
    {
     "name": "stdout",
     "output_type": "stream",
     "text": [
      "abcd\n",
      "test\n"
     ]
    }
   ],
   "source": [
    "list_str = ['abcd', 'test', 'key']\n",
    "print(min(list_str))\n",
    "print(max(list_str))\n",
    "# print(sum(list_str)) # 문자열이라 더하기 안됭"
   ]
  },
  {
   "cell_type": "code",
   "execution_count": 25,
   "id": "129359f4",
   "metadata": {},
   "outputs": [
    {
     "name": "stdout",
     "output_type": "stream",
     "text": [
      "[0, 4, 16, 36, 64, 100, 144, 196, 256, 324]\n"
     ]
    }
   ],
   "source": [
    "# 반복문을 사용한 리스트 생성\n",
    "array = []\n",
    "# 반복문을 사용하여 리스트에 데이터 추가\n",
    "for i in range(0, 20, 2) :\n",
    "    array.append(i * i)\n",
    "print(array)"
   ]
  },
  {
   "cell_type": "code",
   "execution_count": 27,
   "id": "9c11b2d4",
   "metadata": {},
   "outputs": [
    {
     "name": "stdout",
     "output_type": "stream",
     "text": [
      "[0, 4, 16, 36, 64, 100, 144, 196, 256, 324]\n"
     ]
    }
   ],
   "source": [
    "# 리스트 내포 : 리스트 선언 안에 for 문장 사용\n",
    "# [ 표현식 for 반복자 in 반복 할 수 있는 자료]\n",
    "array_1 = [ i*i for i in range(0, 20, 2)]\n",
    "print(array_1)"
   ]
  },
  {
   "cell_type": "code",
   "execution_count": 28,
   "id": "5f93384c",
   "metadata": {},
   "outputs": [
    {
     "name": "stdout",
     "output_type": "stream",
     "text": [
      "[0, 4, 16, 36, 64, 100, 144, 196, 256, 324]\n"
     ]
    }
   ],
   "source": [
    "array_1 = [ i*i \n",
    "           for i in range(0, 20)\n",
    "          if i %2 == 0]\n",
    "print(array_1)"
   ]
  },
  {
   "cell_type": "code",
   "execution_count": 33,
   "id": "c21aaed7",
   "metadata": {},
   "outputs": [
    {
     "name": "stdout",
     "output_type": "stream",
     "text": [
      "정수 입력22\n"
     ]
    },
    {
     "ename": "AttributeError",
     "evalue": "'str' object has no attribute 'fomat'",
     "output_type": "error",
     "traceback": [
      "\u001b[1;31m---------------------------------------------------------------------------\u001b[0m",
      "\u001b[1;31mAttributeError\u001b[0m                            Traceback (most recent call last)",
      "Input \u001b[1;32mIn [33]\u001b[0m, in \u001b[0;36m<cell line: 3>\u001b[1;34m()\u001b[0m\n\u001b[0;32m      2\u001b[0m number \u001b[38;5;241m=\u001b[39m \u001b[38;5;28mint\u001b[39m(\u001b[38;5;28minput\u001b[39m(\u001b[38;5;124m\"\u001b[39m\u001b[38;5;124m정수 입력\u001b[39m\u001b[38;5;124m\"\u001b[39m))\n\u001b[0;32m      3\u001b[0m \u001b[38;5;28;01mif\u001b[39;00m number \u001b[38;5;241m%\u001b[39m \u001b[38;5;241m2\u001b[39m \u001b[38;5;241m==\u001b[39m \u001b[38;5;241m0\u001b[39m :\n\u001b[1;32m----> 4\u001b[0m     \u001b[38;5;28mprint\u001b[39m(\u001b[38;5;124;43m\"\u001b[39;49m\u001b[38;5;124;43m입력한 문자열은 \u001b[39;49m\u001b[38;5;132;43;01m{}\u001b[39;49;00m\u001b[38;5;124;43m입니다./n\u001b[39;49m\u001b[38;5;124;43m\"\u001b[39;49m\u001b[43m \u001b[49m\n\u001b[0;32m      5\u001b[0m \u001b[43m        \u001b[49m\u001b[38;5;124;43m\"\u001b[39;49m\u001b[38;5;132;43;01m{}\u001b[39;49;00m\u001b[38;5;124;43m는 짝수입니다.\u001b[39;49m\u001b[38;5;124;43m\"\u001b[39;49m\n\u001b[0;32m      6\u001b[0m \u001b[43m        \u001b[49m\u001b[38;5;241;43m.\u001b[39;49m\u001b[43mfomat\u001b[49m(number, number))\n",
      "\u001b[1;31mAttributeError\u001b[0m: 'str' object has no attribute 'fomat'"
     ]
    }
   ],
   "source": [
    "# 문장이 길어질때 () 하나의 문장으로 인식\n",
    "number = int(input(\"정수 입력\"))\n",
    "if number % 2 == 0 :\n",
    "    print(\"입력한 문자열은 {}입니다./n\" \n",
    "        \"{}는 짝수입니다.\"\n",
    "        .fomat(number, number))\n",
    "    "
   ]
  },
  {
   "cell_type": "code",
   "execution_count": 36,
   "id": "630f9c3d",
   "metadata": {},
   "outputs": [
    {
     "name": "stdout",
     "output_type": "stream",
     "text": [
      "['abcd', 'test', 'key']\n"
     ]
    }
   ],
   "source": [
    "# 문자열 .split() => space로 분리\n",
    "# 리스트를 하나의 문자열로 전환\n",
    "print(list_str)\n",
    "\n",
    "# 리스트를 하나의 문자열로 연결 문자를 ''\n",
    "join_str = '::'.join(list_str)"
   ]
  },
  {
   "cell_type": "code",
   "execution_count": 37,
   "id": "e8667c6d",
   "metadata": {},
   "outputs": [
    {
     "data": {
      "text/plain": [
       "['abcd', 'test', 'key']"
      ]
     },
     "execution_count": 37,
     "metadata": {},
     "output_type": "execute_result"
    }
   ],
   "source": [
    "split_list = join_str.split('::')\n",
    "split_list"
   ]
  },
  {
   "cell_type": "code",
   "execution_count": null,
   "id": "0d99f6db",
   "metadata": {},
   "outputs": [],
   "source": []
  }
 ],
 "metadata": {
  "kernelspec": {
   "display_name": "Python 3 (ipykernel)",
   "language": "python",
   "name": "python3"
  },
  "language_info": {
   "codemirror_mode": {
    "name": "ipython",
    "version": 3
   },
   "file_extension": ".py",
   "mimetype": "text/x-python",
   "name": "python",
   "nbconvert_exporter": "python",
   "pygments_lexer": "ipython3",
   "version": "3.9.12"
  }
 },
 "nbformat": 4,
 "nbformat_minor": 5
}
