{
 "cells": [
  {
   "cell_type": "code",
   "execution_count": 7,
   "id": "96e1cfc5",
   "metadata": {},
   "outputs": [
    {
     "name": "stdout",
     "output_type": "stream",
     "text": [
      "['오전에 50p 나감', 'test', 1, '문자열', True, False]\n"
     ]
    }
   ],
   "source": [
    "# 리스트 내용 바꿈 / 제로 인덱스 적용\n",
    "list_a = [12, \"test\", True, 345, \"Python Programing\"]\n",
    "list_a[0] = \"오전에 50p 나감\"\n",
    "print(list_a)"
   ]
  },
  {
   "cell_type": "code",
   "execution_count": 8,
   "id": "a481f2f5",
   "metadata": {},
   "outputs": [
    {
     "name": "stdout",
     "output_type": "stream",
     "text": [
      "<class 'list'>\n",
      "test\n",
      "False\n"
     ]
    }
   ],
   "source": [
    "# 리스트의 요소 접근 방법 : 리스트[인덱스]\n",
    "print(type(list_a))\n",
    "print(list_a[1]) # test\n",
    "print(list_a[-1]) # False"
   ]
  },
  {
   "cell_type": "code",
   "execution_count": 3,
   "id": "d703bce4",
   "metadata": {},
   "outputs": [
    {
     "name": "stdout",
     "output_type": "stream",
     "text": [
      "Python Programing\n",
      "Python\n"
     ]
    }
   ],
   "source": [
    "# Python Programing의 자료에서 Python만 출력\n",
    "list_a = [12, \"test\", True, 345, \"Python Programing\"]\n",
    "print(list_a[-1]) # Python Programing\n",
    "print(list_a[-1].split()[0]) # Python, Programing중에서 0의 요소"
   ]
  },
  {
   "cell_type": "code",
   "execution_count": 2,
   "id": "2b85697c",
   "metadata": {},
   "outputs": [
    {
     "name": "stdout",
     "output_type": "stream",
     "text": [
      "a, b, c\n"
     ]
    }
   ],
   "source": [
    "list_a = [[1, 2, 3], ['a, b, c'], [4, 5, 6]]\n",
    "# 'a' 추출\n",
    "print(list_a[1][0])"
   ]
  },
  {
   "cell_type": "code",
   "execution_count": 3,
   "id": "4b443d6c",
   "metadata": {},
   "outputs": [
    {
     "data": {
      "text/plain": [
       "'e'"
      ]
     },
     "execution_count": 3,
     "metadata": {},
     "output_type": "execute_result"
    }
   ],
   "source": [
    "list_a = [12, \"test\", True, 345, \"Python Programing\"]\n",
    "list_a[1][1] # list의 두번째 'test'문장에서 'e'추출"
   ]
  },
  {
   "cell_type": "code",
   "execution_count": 12,
   "id": "b867bbd9",
   "metadata": {},
   "outputs": [
    {
     "name": "stdout",
     "output_type": "stream",
     "text": [
      "\n",
      "[1, 2, 3, 4, 5, 6]\n",
      "[1, 2, 3, 'a']\n",
      "[1, 2, 3, 'a', [4, 5, 6]]\n",
      "\n",
      "[4, 'test', 5, 6]\n",
      "[1, 2, 3, 'a', [4, 'test', 5, 6], 4, 'test', 5, 6]\n",
      "\n",
      "[1, 2, 3, 'a', [4, 'test', 5, 6], 4, 'test', 5, 6]\n"
     ]
    }
   ],
   "source": [
    "# 리스트의 연산에는 + / *\n",
    "list_a = [1, 2, 3]\n",
    "list_b = [4, 5, 6]\n",
    "print()\n",
    "print(list_a + list_b) # 기존 자료 영향X\n",
    "# 리스트에 요소 추가하기 : \n",
    "# append()\n",
    "# list.append(요소) _ 제일 마지막에 추가\n",
    "list_a.append('a')\n",
    "print(list_a)\n",
    "\n",
    "list_a.append(list_b)\n",
    "print(list_a) # [1, 2, 3, 'a', [4, 5, 6]]\n",
    "print()\n",
    "# insert()\n",
    "# list.insert(위치, 요소)\n",
    "list_b.insert(1, 'test')\n",
    "print(list_b) # [4, 'test', 5, 6]\n",
    "print(list_a + list_b)\n",
    "print()\n",
    "\n",
    "# extend()\n",
    "# list.extend(list, list)\n",
    "list_a.extend(list_b)\n",
    "print(list_a)"
   ]
  },
  {
   "cell_type": "code",
   "execution_count": 13,
   "id": "0b0c8386",
   "metadata": {},
   "outputs": [
    {
     "data": {
      "text/plain": [
       "['a', [1, 2, 3]]"
      ]
     },
     "execution_count": 13,
     "metadata": {},
     "output_type": "execute_result"
    }
   ],
   "source": [
    "list_c = []\n",
    "list_c.append('a')\n",
    "list_c.append([1, 2, 3])\n",
    "list_c"
   ]
  },
  {
   "cell_type": "code",
   "execution_count": 18,
   "id": "cd65123c",
   "metadata": {},
   "outputs": [
    {
     "name": "stdout",
     "output_type": "stream",
     "text": [
      "자료를 입력하세요 = ㅇ안\n",
      "자료를 입력하세요 = 녕\n",
      "자료를 입력하세요 = 하\n",
      "자료를 입력하세요 = 세\n",
      "자료를 입력하세요 = 요\n",
      "입력한 자료 =  ['ㅇ안', '녕', '하', '세', '요']\n",
      "수정할 자료 = 파이썬\n",
      "수정한 자료 =  ['ㅇ안', '녕', '파이썬', '세', '요']\n"
     ]
    }
   ],
   "source": [
    "# 5개의 자료를 입력받아 공백으로 분리 해서 list로 만든 후 \n",
    "# 리스트의 내용을 출력\n",
    "# 다시 문자를 입력받아 2번째 자료를 수정하세요\n",
    "input_list = []\n",
    "\n",
    "a = input('자료를 입력하세요 = ')\n",
    "input_list.append(a)\n",
    "b = input('자료를 입력하세요 = ')\n",
    "input_list.append(b)\n",
    "c = input('자료를 입력하세요 = ')\n",
    "input_list.append(c)\n",
    "d = input('자료를 입력하세요 = ')\n",
    "input_list.append(d)\n",
    "e = input('자료를 입력하세요 = ')\n",
    "input_list.append(e)\n",
    "\n",
    "print(\"입력한 자료 = \", input_list)\n",
    "\n",
    "input_list[2] = input(\"수정할 자료 = \")\n",
    "print(\"수정한 자료 = \", input_list)"
   ]
  },
  {
   "cell_type": "code",
   "execution_count": 20,
   "id": "0bcbc44b",
   "metadata": {},
   "outputs": [
    {
     "name": "stdout",
     "output_type": "stream",
     "text": [
      "['파이썬', '세', '요']\n",
      "['파이썬', '세']\n"
     ]
    }
   ],
   "source": [
    "# 리스트에서 리스트 요소 제거 : del 리스트명[인덱스 번호]\n",
    "del input_list[0]\n",
    "print(input_list)\n",
    "# 마지막 요소 제거 : list.pop()\n",
    "input_list.pop()\n",
    "print(input_list)"
   ]
  },
  {
   "cell_type": "code",
   "execution_count": 25,
   "id": "38553fa4",
   "metadata": {},
   "outputs": [
    {
     "name": "stdout",
     "output_type": "stream",
     "text": [
      "[3, 4, 5]\n"
     ]
    }
   ],
   "source": [
    "# 리스트의 인덱스 슬라이싱 : 리스트명 [ start : stop : step] \n",
    "list_a = [1, 2, 3, 4, 5, 6, 7, 8, 9]\n",
    "print(list_a[2 : 5: 1]) # 2번째 요소에서 5번째 요소까지 1씩 증가\n"
   ]
  },
  {
   "cell_type": "code",
   "execution_count": 27,
   "id": "5c9601b3",
   "metadata": {},
   "outputs": [
    {
     "name": "stdout",
     "output_type": "stream",
     "text": [
      "[1, 3, 4, 5]\n",
      "[]\n"
     ]
    }
   ],
   "source": [
    "# 리스트의 자료 제거 : del 리스트명[인덱스], 리스트명.pop([위치])\n",
    "# 리스트의 값으로 제거 : 리스트명.remove(값)\n",
    "list_r = [1, 2, 3, 4, 5]\n",
    "list_r.remove(2)\n",
    "print(list_r) # [1, 3, 4, 5]\n",
    "\n",
    "# 리스트 내용 모두 제거 : 리스트명.clear()\n",
    "list_r.clear()\n",
    "print(list_r) # []"
   ]
  },
  {
   "cell_type": "code",
   "execution_count": 29,
   "id": "67c4c80b",
   "metadata": {},
   "outputs": [
    {
     "name": "stdout",
     "output_type": "stream",
     "text": [
      "[12, 32, 34, 56, 78]\n"
     ]
    }
   ],
   "source": [
    "# 정렬 : list.sort()\n",
    "list_a = [34, 56, 12, 78, 32]\n",
    "list_a.sort()\n",
    "print(list_a)"
   ]
  },
  {
   "cell_type": "code",
   "execution_count": 30,
   "id": "8e0cb0d1",
   "metadata": {},
   "outputs": [
    {
     "name": "stdout",
     "output_type": "stream",
     "text": [
      "[78, 56, 34, 32, 12]\n"
     ]
    }
   ],
   "source": [
    "# 역정렬 : list.sort(reverse=True)\n",
    "list_a = [34, 56, 12, 78, 32]\n",
    "list_a.sort(reverse=True)\n",
    "print(list_a)"
   ]
  },
  {
   "cell_type": "code",
   "execution_count": 31,
   "id": "3e68f996",
   "metadata": {},
   "outputs": [
    {
     "data": {
      "text/plain": [
       "False"
      ]
     },
     "execution_count": 31,
     "metadata": {},
     "output_type": "execute_result"
    }
   ],
   "source": [
    "# 값 in list _ list안에 있냐?\n",
    "20 in list_a # Fasle"
   ]
  },
  {
   "cell_type": "code",
   "execution_count": 32,
   "id": "801d75e9",
   "metadata": {},
   "outputs": [
    {
     "data": {
      "text/plain": [
       "True"
      ]
     },
     "execution_count": 32,
     "metadata": {},
     "output_type": "execute_result"
    }
   ],
   "source": [
    "# 값 in list _ list안에 없냐?\n",
    "20 not in list_a"
   ]
  },
  {
   "cell_type": "code",
   "execution_count": 35,
   "id": "67579f36",
   "metadata": {},
   "outputs": [
    {
     "name": "stdout",
     "output_type": "stream",
     "text": [
      "h e l l o   f o r \n"
     ]
    }
   ],
   "source": [
    "# for 반복문 : 리스트와 함께 사용\n",
    "# for 반복자 in 반복할 수 있는 모든 자료 :\n",
    "# 반복자 = 변수\n",
    "\n",
    "for char in 'hello for' :\n",
    "    print(char, end=' ')\n",
    "print()"
   ]
  },
  {
   "cell_type": "code",
   "execution_count": 39,
   "id": "04b98d9f",
   "metadata": {},
   "outputs": [
    {
     "name": "stdout",
     "output_type": "stream",
     "text": [
      "34\n",
      "56\n",
      "12\n",
      "78\n",
      "32\n"
     ]
    }
   ],
   "source": [
    "for value in list_a:\n",
    "    print(value)"
   ]
  },
  {
   "cell_type": "code",
   "execution_count": 41,
   "id": "f8565e3a",
   "metadata": {},
   "outputs": [
    {
     "name": "stdout",
     "output_type": "stream",
     "text": [
      "1회 : 34\n",
      "2회 : 56\n",
      "3회 : 12\n",
      "4회 : 78\n",
      "5회 : 32\n",
      "end\n"
     ]
    }
   ],
   "source": [
    "cnt = 0\n",
    "for items in list_a:\n",
    "    cnt += 1\n",
    "    print('{}회 : {}'.format(cnt, items))\n",
    "print('end')"
   ]
  },
  {
   "cell_type": "code",
   "execution_count": 42,
   "id": "03f8f34d",
   "metadata": {},
   "outputs": [
    {
     "name": "stdout",
     "output_type": "stream",
     "text": [
      "1\t2\t3\t\n",
      "4\t5\t6\t\n",
      "7\t8\t9\t10\t\n"
     ]
    }
   ],
   "source": [
    "list_array = [ [1, 2, 3], [4, 5, 6], [7, 8, 9, 10]]\n",
    "for items in list_array:\n",
    "    for items in items:\n",
    "        print(items, end='\\t')\n",
    "    print()"
   ]
  },
  {
   "cell_type": "code",
   "execution_count": 48,
   "id": "2d9576a2",
   "metadata": {},
   "outputs": [
    {
     "name": "stdout",
     "output_type": "stream",
     "text": [
      "2단\n",
      "2단\n",
      "2단\n",
      "2단\n",
      "2단\n",
      "2단\n",
      "2단\n",
      "2단\n",
      "2단\n",
      "3단\n",
      "3단\n",
      "3단\n",
      "3단\n",
      "3단\n",
      "3단\n",
      "3단\n",
      "3단\n",
      "3단\n",
      "4단\n",
      "4단\n",
      "4단\n",
      "4단\n",
      "4단\n",
      "4단\n",
      "4단\n",
      "4단\n",
      "4단\n",
      "5단\n",
      "5단\n",
      "5단\n",
      "5단\n",
      "5단\n",
      "5단\n",
      "5단\n",
      "5단\n",
      "5단\n",
      "6단\n",
      "6단\n",
      "6단\n",
      "6단\n",
      "6단\n",
      "6단\n",
      "6단\n",
      "6단\n",
      "6단\n",
      "7단\n",
      "7단\n",
      "7단\n",
      "7단\n",
      "7단\n",
      "7단\n",
      "7단\n",
      "7단\n",
      "7단\n",
      "8단\n",
      "8단\n",
      "8단\n",
      "8단\n",
      "8단\n",
      "8단\n",
      "8단\n",
      "8단\n",
      "8단\n",
      "9단\n",
      "9단\n",
      "9단\n",
      "9단\n",
      "9단\n",
      "9단\n",
      "9단\n",
      "9단\n",
      "9단\n"
     ]
    }
   ],
   "source": [
    "# 구구단 출력\n",
    "list_dan = [2, 3, 4, 5 ,6 ,7 ,8 ,9]\n",
    "list_num = [1, 2, 3, 4, 5 ,6 ,7 ,8 ,9]\n",
    "for dan in list_dan :\n",
    "    for num in list_num :\n",
    "        print(\"{:}단\".format(dan))"
   ]
  },
  {
   "cell_type": "code",
   "execution_count": 51,
   "id": "39789755",
   "metadata": {},
   "outputs": [
    {
     "name": "stdout",
     "output_type": "stream",
     "text": [
      "2 * 1 = 2\n",
      "2 * 2 = 4\n",
      "2 * 3 = 6\n",
      "2 * 4 = 8\n",
      "2 * 5 = 10\n",
      "2 * 6 = 12\n",
      "2 * 7 = 14\n",
      "2 * 8 = 16\n",
      "2 * 9 = 18\n",
      "----------\n",
      "3 * 1 = 3\n",
      "3 * 2 = 6\n",
      "3 * 3 = 9\n",
      "3 * 4 = 12\n",
      "3 * 5 = 15\n",
      "3 * 6 = 18\n",
      "3 * 7 = 21\n",
      "3 * 8 = 24\n",
      "3 * 9 = 27\n",
      "----------\n",
      "4 * 1 = 4\n",
      "4 * 2 = 8\n",
      "4 * 3 = 12\n",
      "4 * 4 = 16\n",
      "4 * 5 = 20\n",
      "4 * 6 = 24\n",
      "4 * 7 = 28\n",
      "4 * 8 = 32\n",
      "4 * 9 = 36\n",
      "----------\n",
      "5 * 1 = 5\n",
      "5 * 2 = 10\n",
      "5 * 3 = 15\n",
      "5 * 4 = 20\n",
      "5 * 5 = 25\n",
      "5 * 6 = 30\n",
      "5 * 7 = 35\n",
      "5 * 8 = 40\n",
      "5 * 9 = 45\n",
      "----------\n",
      "6 * 1 = 6\n",
      "6 * 2 = 12\n",
      "6 * 3 = 18\n",
      "6 * 4 = 24\n",
      "6 * 5 = 30\n",
      "6 * 6 = 36\n",
      "6 * 7 = 42\n",
      "6 * 8 = 48\n",
      "6 * 9 = 54\n",
      "----------\n",
      "7 * 1 = 7\n",
      "7 * 2 = 14\n",
      "7 * 3 = 21\n",
      "7 * 4 = 28\n",
      "7 * 5 = 35\n",
      "7 * 6 = 42\n",
      "7 * 7 = 49\n",
      "7 * 8 = 56\n",
      "7 * 9 = 63\n",
      "----------\n",
      "8 * 1 = 8\n",
      "8 * 2 = 16\n",
      "8 * 3 = 24\n",
      "8 * 4 = 32\n",
      "8 * 5 = 40\n",
      "8 * 6 = 48\n",
      "8 * 7 = 56\n",
      "8 * 8 = 64\n",
      "8 * 9 = 72\n",
      "----------\n",
      "9 * 1 = 9\n",
      "9 * 2 = 18\n",
      "9 * 3 = 27\n",
      "9 * 4 = 36\n",
      "9 * 5 = 45\n",
      "9 * 6 = 54\n",
      "9 * 7 = 63\n",
      "9 * 8 = 72\n",
      "9 * 9 = 81\n",
      "----------\n"
     ]
    }
   ],
   "source": [
    "for x in range(1,10): \n",
    "    for y in range(1,10):\n",
    "        print(x, '*', y, '=', x * y)\n",
    "        if(y == 9):\n",
    "            print('end')"
   ]
  },
  {
   "cell_type": "code",
   "execution_count": 59,
   "id": "e78aae91",
   "metadata": {},
   "outputs": [
    {
     "name": "stdout",
     "output_type": "stream",
     "text": [
      "2단\n",
      "2 * 1 = 2\t2 * 2 = 4\t2 * 3 = 6\n",
      "2 * 4 = 8\t2 * 5 = 10\t2 * 6 = 12\n",
      "2 * 7 = 14\t2 * 8 = 16\t2 * 9 = 18\n",
      "\n",
      "3단\n",
      "3 * 1 = 3\t3 * 2 = 6\t3 * 3 = 9\n",
      "3 * 4 = 12\t3 * 5 = 15\t3 * 6 = 18\n",
      "3 * 7 = 21\t3 * 8 = 24\t3 * 9 = 27\n",
      "\n",
      "4단\n",
      "4 * 1 = 4\t4 * 2 = 8\t4 * 3 = 12\n",
      "4 * 4 = 16\t4 * 5 = 20\t4 * 6 = 24\n",
      "4 * 7 = 28\t4 * 8 = 32\t4 * 9 = 36\n",
      "\n",
      "5단\n",
      "5 * 1 = 5\t5 * 2 = 10\t5 * 3 = 15\n",
      "5 * 4 = 20\t5 * 5 = 25\t5 * 6 = 30\n",
      "5 * 7 = 35\t5 * 8 = 40\t5 * 9 = 45\n",
      "\n",
      "6단\n",
      "6 * 1 = 6\t6 * 2 = 12\t6 * 3 = 18\n",
      "6 * 4 = 24\t6 * 5 = 30\t6 * 6 = 36\n",
      "6 * 7 = 42\t6 * 8 = 48\t6 * 9 = 54\n",
      "\n",
      "7단\n",
      "7 * 1 = 7\t7 * 2 = 14\t7 * 3 = 21\n",
      "7 * 4 = 28\t7 * 5 = 35\t7 * 6 = 42\n",
      "7 * 7 = 49\t7 * 8 = 56\t7 * 9 = 63\n",
      "\n",
      "8단\n",
      "8 * 1 = 8\t8 * 2 = 16\t8 * 3 = 24\n",
      "8 * 4 = 32\t8 * 5 = 40\t8 * 6 = 48\n",
      "8 * 7 = 56\t8 * 8 = 64\t8 * 9 = 72\n",
      "\n",
      "9단\n",
      "9 * 1 = 9\t9 * 2 = 18\t9 * 3 = 27\n",
      "9 * 4 = 36\t9 * 5 = 45\t9 * 6 = 54\n",
      "9 * 7 = 63\t9 * 8 = 72\t9 * 9 = 81\n",
      "\n"
     ]
    }
   ],
   "source": [
    "list_dan = [2, 3, 4, 5, 6, 7, 8, 9]\n",
    "list_num = [1, 2, 3, 4, 5, 6 ,7 ,8 , 9]\n",
    "\n",
    "# 단을 반복해서 리스트에서 가져옴\n",
    "for dan in list_dan :\n",
    "    print(\"{}단\".format(dan))\n",
    "    카운트변수 = 0\n",
    "    for num in list_num : \n",
    "        카운트변수 += 1\n",
    "        if 카운트변수 < 3: # 3개의 공백\n",
    "            print(\"{} * {} = {}\".format(dan, num, dan * num), end='\\t') \n",
    "        # 만약 공백이 3개가 되면 \\t를 해라\n",
    "        else :\n",
    "            print(\"{} * {} = {}\".format(dan, num, dan * num))\n",
    "            카운트변수 = 0\n",
    "    print()\n",
    "            "
   ]
  },
  {
   "cell_type": "code",
   "execution_count": 61,
   "id": "7c761cd2",
   "metadata": {},
   "outputs": [
    {
     "name": "stdout",
     "output_type": "stream",
     "text": [
      "test\n"
     ]
    }
   ],
   "source": [
    "while True :\n",
    "    print('test')\n",
    "    if True:\n",
    "        break\n",
    "# 무한적 반복문 True면 멈춰라"
   ]
  },
  {
   "cell_type": "code",
   "execution_count": 62,
   "id": "91c4ad00",
   "metadata": {},
   "outputs": [
    {
     "name": "stdout",
     "output_type": "stream",
     "text": [
      "계산식 : 3 + 4\n",
      "계산식 : ㅂ\n",
      "계산식 : q\n"
     ]
    }
   ],
   "source": [
    "while True :\n",
    "    input_data = input(\"계산식 : \").split()\n",
    "    if input_data[0] == 'q' :\n",
    "        break"
   ]
  },
  {
   "cell_type": "code",
   "execution_count": null,
   "id": "fd3e4bf2",
   "metadata": {},
   "outputs": [],
   "source": []
  }
 ],
 "metadata": {
  "kernelspec": {
   "display_name": "Python 3 (ipykernel)",
   "language": "python",
   "name": "python3"
  },
  "language_info": {
   "codemirror_mode": {
    "name": "ipython",
    "version": 3
   },
   "file_extension": ".py",
   "mimetype": "text/x-python",
   "name": "python",
   "nbconvert_exporter": "python",
   "pygments_lexer": "ipython3",
   "version": "3.9.12"
  }
 },
 "nbformat": 4,
 "nbformat_minor": 5
}
