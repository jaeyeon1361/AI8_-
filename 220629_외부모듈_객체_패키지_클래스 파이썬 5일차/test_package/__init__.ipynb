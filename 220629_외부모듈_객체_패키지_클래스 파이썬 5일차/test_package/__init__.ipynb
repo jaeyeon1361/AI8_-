{
 "cells": [
  {
   "cell_type": "code",
   "execution_count": 1,
   "id": "872e5aaf",
   "metadata": {},
   "outputs": [
    {
     "name": "stdout",
     "output_type": "stream",
     "text": [
      "모든 모듈 정의\n"
     ]
    }
   ],
   "source": [
    "# from 패키지명 + import + 로 실행해서 모든 모듈을 가져오고자 할 경우\n",
    "# 읽어 올 모듈명을 리스트로 정의\n",
    "__all__ = ['a_1', 'b_1']\n",
    "\n",
    "print(\"모든 모듈 정의\")"
   ]
  },
  {
   "cell_type": "code",
   "execution_count": null,
   "id": "ce19c089",
   "metadata": {},
   "outputs": [],
   "source": []
  }
 ],
 "metadata": {
  "kernelspec": {
   "display_name": "Python 3 (ipykernel)",
   "language": "python",
   "name": "python3"
  },
  "language_info": {
   "codemirror_mode": {
    "name": "ipython",
    "version": 3
   },
   "file_extension": ".py",
   "mimetype": "text/x-python",
   "name": "python",
   "nbconvert_exporter": "python",
   "pygments_lexer": "ipython3",
   "version": "3.9.12"
  }
 },
 "nbformat": 4,
 "nbformat_minor": 5
}
