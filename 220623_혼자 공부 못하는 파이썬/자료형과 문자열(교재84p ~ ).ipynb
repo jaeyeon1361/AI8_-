{
 "cells": [
  {
   "cell_type": "markdown",
   "id": "8d472e62",
   "metadata": {},
   "source": [
    "# 자료형과 문자열"
   ]
  },
  {
   "cell_type": "code",
   "execution_count": 2,
   "id": "4eb02f9e",
   "metadata": {},
   "outputs": [
    {
     "name": "stdout",
     "output_type": "stream",
     "text": [
      "문자열의 데이터 타입 :  <class 'str'>\n"
     ]
    }
   ],
   "source": [
    "# python의 자료형은 : 문자열, 숫자, 불 타입으로 세가지만 존재\n",
    "print('문자열의 데이터 타입 : ',type('문자열'))"
   ]
  },
  {
   "cell_type": "code",
   "execution_count": 4,
   "id": "23d50123",
   "metadata": {},
   "outputs": [
    {
     "name": "stdout",
     "output_type": "stream",
     "text": [
      "숫자열의 데이터 타입 :  <class 'int'>\n"
     ]
    }
   ],
   "source": [
    "print('숫자열의 데이터 타입 : ',type(10))"
   ]
  },
  {
   "cell_type": "code",
   "execution_count": 5,
   "id": "cd425307",
   "metadata": {},
   "outputs": [
    {
     "name": "stdout",
     "output_type": "stream",
     "text": [
      "불리언(bollion) 데이터 타입 :  <class 'bool'>\n"
     ]
    }
   ],
   "source": [
    "print('불리언(bollion) 데이터 타입 : ',type(True))"
   ]
  },
  {
   "cell_type": "code",
   "execution_count": 6,
   "id": "8bb48c98",
   "metadata": {},
   "outputs": [
    {
     "name": "stdout",
     "output_type": "stream",
     "text": [
      "소수점의 데이터 타입 :  <class 'float'>\n"
     ]
    }
   ],
   "source": [
    "print('소수점의 데이터 타입 : ',type(3.4))"
   ]
  },
  {
   "cell_type": "code",
   "execution_count": 9,
   "id": "a9e6e438",
   "metadata": {},
   "outputs": [
    {
     "name": "stdout",
     "output_type": "stream",
     "text": [
      "\"안녕하세요!!\"\n"
     ]
    }
   ],
   "source": [
    "print('\"안녕하세요!!\"') # 문자열은 \"\", ''"
   ]
  },
  {
   "cell_type": "code",
   "execution_count": 12,
   "id": "d8c60610",
   "metadata": {},
   "outputs": [
    {
     "name": "stdout",
     "output_type": "stream",
     "text": [
      "이름\t나이\t지역\n",
      "송재연\t29\t중랑구\n",
      "송채은\t28\t일때문에성남\n"
     ]
    }
   ],
   "source": [
    "# 이스케이프 문자를 활용하여 문자열 만들기 : \\\" -> 일반문자\"\n",
    "# \\t : 탭, \\n : 엔터\n",
    "print(\"이름\\t나이\\t지역\")\n",
    "print(\"송재연\\t29\\t중랑구\")\n",
    "print(\"송채은\\t28\\t일때문에성남\")"
   ]
  },
  {
   "cell_type": "markdown",
   "id": "fcd75605",
   "metadata": {},
   "source": [
    "해당문제는 90p에 있음 "
   ]
  },
  {
   "cell_type": "code",
   "execution_count": 14,
   "id": "052e91d0",
   "metadata": {},
   "outputs": [
    {
     "name": "stdout",
     "output_type": "stream",
     "text": [
      "1라인\n",
      "2라인\n",
      "\n",
      "1라인\n",
      "2라인\n"
     ]
    }
   ],
   "source": [
    "# 여러라인의문자를 출력하기\n",
    "print(\"1라인\\n2라인\")\n",
    "print()\n",
    "print('''1라인\n",
    "2라인''')"
   ]
  },
  {
   "cell_type": "code",
   "execution_count": 16,
   "id": "190ec06e",
   "metadata": {},
   "outputs": [
    {
     "name": "stdout",
     "output_type": "stream",
     "text": [
      "\"안녕하세요!! \"      \n"
     ]
    }
   ],
   "source": [
    "# 명령어가 1라인 이상으로 길어질때 \\(역슬래시 이용)\n",
    "print(\"\\\"안녕하세요!! \\\"      \\\n",
    "\")"
   ]
  },
  {
   "cell_type": "code",
   "execution_count": 17,
   "id": "b12167f3",
   "metadata": {},
   "outputs": [
    {
     "name": "stdout",
     "output_type": "stream",
     "text": [
      "aaa 10\n"
     ]
    }
   ],
   "source": [
    "print(\"aaa\",\n",
    "     10)"
   ]
  },
  {
   "cell_type": "markdown",
   "id": "e8147ba6",
   "metadata": {},
   "source": [
    "알아서 들여쓰기 됨"
   ]
  },
  {
   "cell_type": "code",
   "execution_count": null,
   "id": "4cdebd19",
   "metadata": {},
   "outputs": [],
   "source": [
    "# 문자열 연산자, 문자열 자르기, 문자열 길이 구하기"
   ]
  }
 ],
 "metadata": {
  "kernelspec": {
   "display_name": "Python 3 (ipykernel)",
   "language": "python",
   "name": "python3"
  },
  "language_info": {
   "codemirror_mode": {
    "name": "ipython",
    "version": 3
   },
   "file_extension": ".py",
   "mimetype": "text/x-python",
   "name": "python",
   "nbconvert_exporter": "python",
   "pygments_lexer": "ipython3",
   "version": "3.9.12"
  }
 },
 "nbformat": 4,
 "nbformat_minor": 5
}
