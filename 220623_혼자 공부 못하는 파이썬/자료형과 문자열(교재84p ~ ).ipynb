{
 "cells": [
  {
   "cell_type": "markdown",
   "id": "8d472e62",
   "metadata": {},
   "source": [
    "# 자료형과 문자열"
   ]
  },
  {
   "cell_type": "code",
   "execution_count": 2,
   "id": "4eb02f9e",
   "metadata": {},
   "outputs": [
    {
     "name": "stdout",
     "output_type": "stream",
     "text": [
      "문자열의 데이터 타입 :  <class 'str'>\n"
     ]
    }
   ],
   "source": [
    "# python의 자료형은 : 문자열, 숫자, 불 타입으로 세가지만 존재\n",
    "print('문자열의 데이터 타입 : ',type('문자열'))"
   ]
  },
  {
   "cell_type": "code",
   "execution_count": 4,
   "id": "23d50123",
   "metadata": {},
   "outputs": [
    {
     "name": "stdout",
     "output_type": "stream",
     "text": [
      "숫자열의 데이터 타입 :  <class 'int'>\n"
     ]
    }
   ],
   "source": [
    "print('숫자열의 데이터 타입 : ',type(10))"
   ]
  },
  {
   "cell_type": "code",
   "execution_count": 5,
   "id": "cd425307",
   "metadata": {},
   "outputs": [
    {
     "name": "stdout",
     "output_type": "stream",
     "text": [
      "불리언(bollion) 데이터 타입 :  <class 'bool'>\n"
     ]
    }
   ],
   "source": [
    "print('불리언(bollion) 데이터 타입 : ',type(True))"
   ]
  },
  {
   "cell_type": "code",
   "execution_count": 6,
   "id": "8bb48c98",
   "metadata": {},
   "outputs": [
    {
     "name": "stdout",
     "output_type": "stream",
     "text": [
      "소수점의 데이터 타입 :  <class 'float'>\n"
     ]
    }
   ],
   "source": [
    "print('소수점의 데이터 타입 : ',type(3.4))"
   ]
  },
  {
   "cell_type": "code",
   "execution_count": 9,
   "id": "a9e6e438",
   "metadata": {},
   "outputs": [
    {
     "name": "stdout",
     "output_type": "stream",
     "text": [
      "\"안녕하세요!!\"\n"
     ]
    }
   ],
   "source": [
    "print('\"안녕하세요!!\"') # 문자열은 \"\", ''"
   ]
  },
  {
   "cell_type": "code",
   "execution_count": 12,
   "id": "d8c60610",
   "metadata": {},
   "outputs": [
    {
     "name": "stdout",
     "output_type": "stream",
     "text": [
      "이름\t나이\t지역\n",
      "송재연\t29\t중랑구\n",
      "송채은\t28\t일때문에성남\n"
     ]
    }
   ],
   "source": [
    "# 이스케이프 문자를 활용하여 문자열 만들기 : \\\" -> 일반문자\"\n",
    "# \\t : 탭, \\n : 엔터\n",
    "print(\"이름\\t나이\\t지역\")\n",
    "print(\"송재연\\t29\\t중랑구\")\n",
    "print(\"송채은\\t28\\t일때문에성남\")"
   ]
  },
  {
   "cell_type": "markdown",
   "id": "fcd75605",
   "metadata": {},
   "source": [
    "해당문제는 90p에 있음 "
   ]
  },
  {
   "cell_type": "code",
   "execution_count": 14,
   "id": "052e91d0",
   "metadata": {},
   "outputs": [
    {
     "name": "stdout",
     "output_type": "stream",
     "text": [
      "1라인\n",
      "2라인\n",
      "\n",
      "1라인\n",
      "2라인\n"
     ]
    }
   ],
   "source": [
    "# 여러라인의문자를 출력하기\n",
    "print(\"1라인\\n2라인\")\n",
    "print()\n",
    "print('''1라인\n",
    "2라인''')"
   ]
  },
  {
   "cell_type": "code",
   "execution_count": 16,
   "id": "190ec06e",
   "metadata": {},
   "outputs": [
    {
     "name": "stdout",
     "output_type": "stream",
     "text": [
      "\"안녕하세요!! \"      \n"
     ]
    }
   ],
   "source": [
    "# 명령어가 1라인 이상으로 길어질때 \\(역슬래시 이용)\n",
    "print(\"\\\"안녕하세요!! \\\"      \\\n",
    "\")"
   ]
  },
  {
   "cell_type": "code",
   "execution_count": 17,
   "id": "b12167f3",
   "metadata": {},
   "outputs": [
    {
     "name": "stdout",
     "output_type": "stream",
     "text": [
      "aaa 10\n"
     ]
    }
   ],
   "source": [
    "print(\"aaa\",\n",
    "     10)"
   ]
  },
  {
   "cell_type": "markdown",
   "id": "e8147ba6",
   "metadata": {},
   "source": [
    "알아서 들여쓰기 됨"
   ]
  },
  {
   "cell_type": "code",
   "execution_count": 1,
   "id": "4cdebd19",
   "metadata": {},
   "outputs": [],
   "source": [
    "# 문자열 연산자, 문자열 자르기, 문자열 길이 구하기\n",
    "# 문자열 + 문자열 = 이어 붙히기\n",
    "# 문자열 * 3 = 반복"
   ]
  },
  {
   "cell_type": "code",
   "execution_count": 2,
   "id": "d257ae10",
   "metadata": {},
   "outputs": [
    {
     "name": "stdout",
     "output_type": "stream",
     "text": [
      "안녕하세요안녕하세요안녕하세요\n"
     ]
    }
   ],
   "source": [
    "print(\"안녕하세요\" * 3)"
   ]
  },
  {
   "cell_type": "markdown",
   "id": "2b516386",
   "metadata": {},
   "source": [
    "교재94p"
   ]
  },
  {
   "cell_type": "code",
   "execution_count": 6,
   "id": "fc2c42a0",
   "metadata": {},
   "outputs": [
    {
     "name": "stdout",
     "output_type": "stream",
     "text": [
      "5\n",
      "안 요\n",
      "안녕\n",
      "녕하\n",
      "세요\n"
     ]
    }
   ],
   "source": [
    "# 문자열 자르기 : 문자열[시작인덱스 : 마지막 인덱스]\n",
    "#-> 시작은 포함,마지막은 포함하지않음\n",
    "hello = '안녕하세요'\n",
    "\n",
    "# 전체 문자열의 길이 구하는 함수 : len(hello)\n",
    "print(len(hello))\n",
    "# 처음 문자와 마지막 문자 출력\n",
    "print(hello[0], hello[-1])\n",
    "\n",
    "# 처음부터 두 글자만 출력\n",
    "print(hello[:2])\n",
    "\n",
    "# 두번째 문자와 세번째 출력\n",
    "print(hello[1:3])\n",
    "\n",
    "# 세번째 문자 부터 끝까지\n",
    "print(hello[3:])"
   ]
  },
  {
   "cell_type": "code",
   "execution_count": 11,
   "id": "96066519",
   "metadata": {},
   "outputs": [
    {
     "name": "stdout",
     "output_type": "stream",
     "text": [
      "5 요\n"
     ]
    }
   ],
   "source": [
    "# 문자열의길이를 구해서 마지막 문자 출력\n",
    "print(len(hello), hello[-1])"
   ]
  },
  {
   "cell_type": "code",
   "execution_count": 14,
   "id": "9ed730d5",
   "metadata": {},
   "outputs": [
    {
     "name": "stdout",
     "output_type": "stream",
     "text": [
      "1\n",
      "1\n",
      "3안녕하세요\n"
     ]
    },
    {
     "ename": "TypeError",
     "evalue": "unsupported operand type(s) for +: 'int' and 'str'",
     "output_type": "error",
     "traceback": [
      "\u001b[1;31m---------------------------------------------------------------------------\u001b[0m",
      "\u001b[1;31mTypeError\u001b[0m                                 Traceback (most recent call last)",
      "Input \u001b[1;32mIn [14]\u001b[0m, in \u001b[0;36m<cell line: 5>\u001b[1;34m()\u001b[0m\n\u001b[0;32m      3\u001b[0m \u001b[38;5;28mprint\u001b[39m(\u001b[38;5;241m3\u001b[39m \u001b[38;5;241m%\u001b[39m \u001b[38;5;241m2\u001b[39m)\n\u001b[0;32m      4\u001b[0m \u001b[38;5;28mprint\u001b[39m(\u001b[38;5;124m'\u001b[39m\u001b[38;5;124m3\u001b[39m\u001b[38;5;124m'\u001b[39m \u001b[38;5;241m+\u001b[39m \u001b[38;5;124m\"\u001b[39m\u001b[38;5;124m안녕하세요\u001b[39m\u001b[38;5;124m\"\u001b[39m) \u001b[38;5;66;03m# 이건됨\u001b[39;00m\n\u001b[1;32m----> 5\u001b[0m \u001b[38;5;28mprint\u001b[39m(\u001b[38;5;241;43m3\u001b[39;49m\u001b[43m \u001b[49m\u001b[38;5;241;43m+\u001b[39;49m\u001b[43m \u001b[49m\u001b[38;5;124;43m\"\u001b[39;49m\u001b[38;5;124;43m안녕하세요\u001b[39;49m\u001b[38;5;124;43m\"\u001b[39;49m)\n",
      "\u001b[1;31mTypeError\u001b[0m: unsupported operand type(s) for +: 'int' and 'str'"
     ]
    }
   ],
   "source": [
    "# // : 몫 , % : 나머지\n",
    "print(3 // 2)\n",
    "print(3 % 2)\n",
    "print('3' + \"안녕하세요\") # 이건됨\n",
    "print(3 + \"안녕하세요\") # 이건안됨"
   ]
  },
  {
   "cell_type": "code",
   "execution_count": 17,
   "id": "ee7f6a1a",
   "metadata": {},
   "outputs": [
    {
     "data": {
      "text/plain": [
       "20"
      ]
     },
     "execution_count": 17,
     "metadata": {},
     "output_type": "execute_result"
    }
   ],
   "source": [
    "# 변수의 활용\n",
    "var_a = 10\n",
    "var_a\n",
    "var_b = 20\n",
    "var_b"
   ]
  },
  {
   "cell_type": "code",
   "execution_count": 18,
   "id": "a5ec6a7b",
   "metadata": {},
   "outputs": [
    {
     "data": {
      "text/plain": [
       "30"
      ]
     },
     "execution_count": 18,
     "metadata": {},
     "output_type": "execute_result"
    }
   ],
   "source": [
    "var_a + var_b"
   ]
  },
  {
   "cell_type": "code",
   "execution_count": 19,
   "id": "d718d796",
   "metadata": {},
   "outputs": [
    {
     "data": {
      "text/plain": [
       "'안녕하세요'"
      ]
     },
     "execution_count": 19,
     "metadata": {},
     "output_type": "execute_result"
    }
   ],
   "source": [
    "hello"
   ]
  },
  {
   "cell_type": "code",
   "execution_count": 20,
   "id": "caf76da8",
   "metadata": {},
   "outputs": [
    {
     "data": {
      "text/plain": [
       "'str variable'"
      ]
     },
     "execution_count": 20,
     "metadata": {},
     "output_type": "execute_result"
    }
   ],
   "source": [
    "var_a = 'str variable'\n",
    "var_a"
   ]
  },
  {
   "cell_type": "markdown",
   "id": "ceca72e4",
   "metadata": {},
   "source": [
    "최신화 된다고 생각하면 될 듯 "
   ]
  },
  {
   "cell_type": "code",
   "execution_count": 21,
   "id": "d85176bf",
   "metadata": {},
   "outputs": [],
   "source": [
    "# 변수 선언과 할당\n",
    "pi = 3.14159265 # 원주율\n",
    "r = 10 # 반지름"
   ]
  },
  {
   "cell_type": "code",
   "execution_count": 24,
   "id": "c0b898e9",
   "metadata": {},
   "outputs": [
    {
     "name": "stdout",
     "output_type": "stream",
     "text": [
      "원주율 = 3.14159265\n",
      "반지름 = 10\n",
      "원의 둘레 = 62.831853\n",
      "원의 넓이 = 314.159265\n"
     ]
    }
   ],
   "source": [
    "print(\"원주율 =\", pi)\n",
    "print(\"반지름 =\", r)\n",
    "print(\"원의 둘레 =\", 2*pi*r)\n",
    "print(\"원의 넓이 =\", pi*r*r)"
   ]
  },
  {
   "cell_type": "markdown",
   "id": "33d649b8",
   "metadata": {},
   "source": [
    "교재 115p"
   ]
  },
  {
   "cell_type": "code",
   "execution_count": 30,
   "id": "33ec87f0",
   "metadata": {},
   "outputs": [
    {
     "name": "stdout",
     "output_type": "stream",
     "text": [
      "20\n",
      "200\n",
      "13.333333333333334\n",
      "test!!\n",
      "test!!test!!test!!\n"
     ]
    }
   ],
   "source": [
    "# 복합 대입 연산자 : 변수 사칙연산 = 값\n",
    "a = 10\n",
    "a += 10\n",
    "print(a) # a = 20\n",
    "a *= 10\n",
    "print(a) # a = 200\n",
    "a /= 15\n",
    "print(a)\n",
    "\n",
    "# 문자열 복합 연산자\n",
    "a_str = 'test'\n",
    "a_str += '!!'\n",
    "print(a_str)\n",
    "a_str *= 3\n",
    "print(a_str)"
   ]
  },
  {
   "cell_type": "markdown",
   "id": "f2433e79",
   "metadata": {},
   "source": [
    "교재 117p"
   ]
  },
  {
   "cell_type": "code",
   "execution_count": 37,
   "id": "cd70dff6",
   "metadata": {},
   "outputs": [
    {
     "name": "stdout",
     "output_type": "stream",
     "text": [
      "문자입력\n",
      "집을 가고싶은 나\n"
     ]
    },
    {
     "data": {
      "text/plain": [
       "'집을 가고싶은 나'"
      ]
     },
     "execution_count": 37,
     "metadata": {},
     "output_type": "execute_result"
    }
   ],
   "source": [
    "# input() -> 사용자가 입력하는 함수\n",
    "input_str = input(\"문자입력\\n\")\n",
    "input_str"
   ]
  },
  {
   "cell_type": "code",
   "execution_count": 38,
   "id": "f2bf4f42",
   "metadata": {},
   "outputs": [
    {
     "data": {
      "text/plain": [
       "'집을 가고싶은 나'"
      ]
     },
     "execution_count": 38,
     "metadata": {},
     "output_type": "execute_result"
    }
   ],
   "source": [
    "input_str"
   ]
  },
  {
   "cell_type": "code",
   "execution_count": 53,
   "id": "a459de79",
   "metadata": {},
   "outputs": [
    {
     "name": "stdout",
     "output_type": "stream",
     "text": [
      "숫자 입력 :123\n"
     ]
    },
    {
     "data": {
      "text/plain": [
       "str"
      ]
     },
     "execution_count": 53,
     "metadata": {},
     "output_type": "execute_result"
    }
   ],
   "source": [
    "# 숫자를 입력해서 변수에 저장 후 변수의 데이터 타입을 확인\n",
    "input_data = input(\"숫자 입력 :\")\n",
    "type(input_data)"
   ]
  },
  {
   "cell_type": "code",
   "execution_count": null,
   "id": "76aa31fc",
   "metadata": {},
   "outputs": [],
   "source": [
    "# 데잍 타입 변경 : 문자를 숫자로 -> int(), float()\n",
    "# 숫자를 문자로 -> str()\n",
    "input_data = int(input_data)\n",
    "type(input_data)"
   ]
  },
  {
   "cell_type": "code",
   "execution_count": 3,
   "id": "406e6c42",
   "metadata": {},
   "outputs": [
    {
     "name": "stdout",
     "output_type": "stream",
     "text": [
      "첫 숫자를 입력하세요 : 22\n",
      "두번째 숫자를 입력하세요 : 33\n",
      "22 + 33 = 55\n",
      "22 * 33 = 726\n"
     ]
    }
   ],
   "source": [
    "# 두 수를 입력 받아 두 수의 합과 곱을 구하세요\n",
    "# 1. 숫자 두 개를 입력 받음, 입력 받은 두 수를 int로 형 변환\n",
    "input_a = int(input(\"첫 숫자를 입력하세요 : \"))\n",
    "input_b = int(input(\"두번째 숫자를 입력하세요 : \"))\n",
    "# 3. 두 수의 합과 곱을 구함\n",
    "print(input_a, \"+\", input_b, \"=\", input_a + input_b)\n",
    "print(input_a, \"*\", input_b, \"=\", input_a * input_b)"
   ]
  },
  {
   "cell_type": "code",
   "execution_count": 1,
   "id": "b6094b0f",
   "metadata": {},
   "outputs": [
    {
     "name": "stdout",
     "output_type": "stream",
     "text": [
      "아메리카노의 가격1500\n",
      "헤이즐넛의 가격2000\n",
      "카페라떼의 가격2500\n",
      "1500 + 2000 + 2500 = 6000\n"
     ]
    }
   ],
   "source": [
    "# 커피의 세 종류의 값을 설정 후 지불해야할 가격, 입력 받은 두 수를 int로 변환 하고\n",
    "input_a = int(input(\"아메리카노의 가격\"))\n",
    "input_b = int(input(\"헤이즐넛의 가격\"))\n",
    "input_c = int(input(\"카페라떼의 가격\"))\n",
    "print(input_a, \"+\", input_b, \"+\", input_c, \"=\", input_a + input_b + input_c)"
   ]
  },
  {
   "cell_type": "code",
   "execution_count": 4,
   "id": "eeb8fd79",
   "metadata": {},
   "outputs": [
    {
     "name": "stdout",
     "output_type": "stream",
     "text": [
      "1500 + 2000 = 3500\n"
     ]
    }
   ],
   "source": [
    "# 숫자와 문자열의 다양한 기능\n",
    "# 문자열.format()\n",
    "\"{}{}\".format(10, 'str')\n",
    "print(\"{} + {} = {}\".format(input_a, input_b, input_a + input_b))"
   ]
  },
  {
   "cell_type": "code",
   "execution_count": 6,
   "id": "5d14ac7a",
   "metadata": {},
   "outputs": [
    {
     "data": {
      "text/plain": [
       "'3.45 소수 float 34'"
      ]
     },
     "execution_count": 6,
     "metadata": {},
     "output_type": "execute_result"
    }
   ],
   "source": [
    "\"{} 소수 {} {}\".format(3.45, 'float', 34, 56)"
   ]
  },
  {
   "cell_type": "code",
   "execution_count": 9,
   "id": "d62ceee7",
   "metadata": {},
   "outputs": [
    {
     "name": "stdout",
     "output_type": "stream",
     "text": [
      "17\n",
      "17\n",
      "   17\n",
      "00017\n"
     ]
    }
   ],
   "source": [
    "# 정수 출력에서 format() 함수활용\n",
    "print(\"{}\".format(17))\n",
    "print(\"{:d}\".format(17)) # d\n",
    "print(\"{:5d}\".format(17))\n",
    "print(\"{:05d}\".format(17))\n",
    "print(\"{:5d}\".format(17))"
   ]
  },
  {
   "cell_type": "code",
   "execution_count": 15,
   "id": "2198a5d0",
   "metadata": {
    "scrolled": true
   },
   "outputs": [
    {
     "name": "stdout",
     "output_type": "stream",
     "text": [
      "+17\n",
      "-17\n",
      "-1   17\n",
      "17.22\n",
      " 17.000000\n",
      "52\n",
      "52.12\n"
     ]
    }
   ],
   "source": [
    "# 기호와 함께 출력하면서 format() 함수활용\n",
    "print(\"+{}\".format(17))\n",
    "print(\"-{:d}\".format(17)) # d\n",
    "print(\"-1{:5d}\".format(17))\n",
    "\n",
    "print(\"{:5.2f}\".format(17.222255)) # X, 정수f = 소숫점 어디까지 표현\n",
    "print(\"{:10f}\".format(17)) # 실수표현\n",
    "\n",
    "print(\"{:g}\".format(52.0)) # 의미없는 소수점 미만 자료 버리기\n",
    "print(\"{:g}\".format(52.120)) # 의미없는 소수점 미만 자료 버리기\n"
   ]
  },
  {
   "cell_type": "code",
   "execution_count": 31,
   "id": "1df9b92a",
   "metadata": {},
   "outputs": [
    {
     "name": "stdout",
     "output_type": "stream",
     "text": [
      "숫자를 입력하시오 =10\n",
      "숫자를 입력하시오 =20\n",
      "입력 받은 두 수는 10과20이고, 답은 30이다\n"
     ]
    }
   ],
   "source": [
    "# 두 개의 숫자를 입력 받아 두 수의 합과 곱, 차, 나머지 값을 다음의 형식으로 출력하시오\n",
    "# 1. 입력 받은 두 수는 10, 20\n",
    "input_a = int(input(\"숫자를 입력하시오 =\"))\n",
    "input_b = int(input(\"숫자를 입력하시오 =\"))\n",
    "# 2. 입력 받은 두 수 10과 20의 합은 30\n",
    "prt_str = \"입력 받은 두 수\"\n",
    "print(\"{}는 {}과{}이고, 답은 {}이다\".format(prt_str, input_a, input_b, input_a + input_b))"
   ]
  },
  {
   "cell_type": "code",
   "execution_count": 37,
   "id": "7140a9fb",
   "metadata": {},
   "outputs": [
    {
     "name": "stdout",
     "output_type": "stream",
     "text": [
      "입력 받은 두 수는 10과 20이고, 곱은 200이다\n",
      "입력 받은 두 수는 10과 20이고, 차는 -10이다\n",
      "입력 받은 두 수는 10과 20이고, 나머지는 10이다\n"
     ]
    }
   ],
   "source": [
    "# 3. 입력 받은 두 수 10과 20의 곱은 200\n",
    "print(\"{}는 {}과 {}이고, 곱은 {}이다\".format(prt_str, input_a, input_b, input_a * input_b))\n",
    "# 4. 입력 받은 두 수 10과 20의 차는 -10\n",
    "print(\"{}는 {}과 {}이고, 차는 {}이다\".format(prt_str, input_a, input_b, input_a - input_b))\n",
    "# 5. 입력 받은 두 수 10과 20의 나눈 나머지는 10\n",
    "print(\"{}는 {}과 {}이고, 나머지는 {}이다\".format(prt_str, input_a, input_b, input_a % input_b))"
   ]
  },
  {
   "cell_type": "code",
   "execution_count": null,
   "id": "31799bef",
   "metadata": {},
   "outputs": [],
   "source": []
  }
 ],
 "metadata": {
  "kernelspec": {
   "display_name": "Python 3 (ipykernel)",
   "language": "python",
   "name": "python3"
  },
  "language_info": {
   "codemirror_mode": {
    "name": "ipython",
    "version": 3
   },
   "file_extension": ".py",
   "mimetype": "text/x-python",
   "name": "python",
   "nbconvert_exporter": "python",
   "pygments_lexer": "ipython3",
   "version": "3.9.12"
  }
 },
 "nbformat": 4,
 "nbformat_minor": 5
}
