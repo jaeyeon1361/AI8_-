{
 "cells": [
  {
   "cell_type": "code",
   "execution_count": 1,
   "id": "4592b5eb",
   "metadata": {},
   "outputs": [
    {
     "name": "stdout",
     "output_type": "stream",
     "text": [
      "reversed nums : <list_reverseiterator object at 0x0000020C047C8820>\n"
     ]
    }
   ],
   "source": [
    "# 제너레이터 함수\n",
    "\n",
    "nums = [1, 2, 3, 4, 5, 6]\n",
    "\n",
    "r_nums = reversed(nums)\n",
    "print(\"reversed nums :\", r_nums)"
   ]
  },
  {
   "cell_type": "code",
   "execution_count": 57,
   "id": "bfc1ffd9",
   "metadata": {},
   "outputs": [
    {
     "name": "stdout",
     "output_type": "stream",
     "text": [
      "main start\n",
      "First\n",
      "1\n",
      "main 111 start\n",
      "Second\n",
      "2\n",
      "main 222 start\n",
      "Third\n"
     ]
    },
    {
     "ename": "StopIteration",
     "evalue": "",
     "output_type": "error",
     "traceback": [
      "\u001b[1;31m---------------------------------------------------------------------------\u001b[0m",
      "\u001b[1;31mStopIteration\u001b[0m                             Traceback (most recent call last)",
      "Input \u001b[1;32mIn [57]\u001b[0m, in \u001b[0;36m<cell line: 21>\u001b[1;34m()\u001b[0m\n\u001b[0;32m     18\u001b[0m \u001b[38;5;28mprint\u001b[39m(a)\n\u001b[0;32m     20\u001b[0m \u001b[38;5;28mprint\u001b[39m(\u001b[38;5;124m\"\u001b[39m\u001b[38;5;124mmain 222 start\u001b[39m\u001b[38;5;124m\"\u001b[39m)\n\u001b[1;32m---> 21\u001b[0m a \u001b[38;5;241m=\u001b[39m \u001b[38;5;28;43mnext\u001b[39;49m\u001b[43m(\u001b[49m\u001b[43mo_func\u001b[49m\u001b[43m)\u001b[49m\n\u001b[0;32m     22\u001b[0m \u001b[38;5;28mprint\u001b[39m(a)\n",
      "\u001b[1;31mStopIteration\u001b[0m: "
     ]
    }
   ],
   "source": [
    "# 제너레이터 함수 작성 : 함수 내부에 yield 키워드를 사용\n",
    "def gen_test():\n",
    "    print('First')\n",
    "    yield 1 # 리턴값 1\n",
    "    \n",
    "    print('Second')\n",
    "    yield 2 # 리턴값 2\n",
    "    \n",
    "    print('Third')\n",
    "\n",
    "o_func = gen_test()\n",
    "print(\"main start\")\n",
    "a = next(o_func)\n",
    "print(a)\n",
    "\n",
    "print(\"main 111 start\")\n",
    "a = next(o_func)\n",
    "print(a)\n",
    "\n",
    "print(\"main 222 start\")\n",
    "a = next(o_func)\n",
    "print(a)"
   ]
  },
  {
   "cell_type": "code",
   "execution_count": 7,
   "id": "727fccb9",
   "metadata": {},
   "outputs": [
    {
     "ename": "StopIteration",
     "evalue": "",
     "output_type": "error",
     "traceback": [
      "\u001b[1;31m---------------------------------------------------------------------------\u001b[0m",
      "\u001b[1;31mStopIteration\u001b[0m                             Traceback (most recent call last)",
      "Input \u001b[1;32mIn [7]\u001b[0m, in \u001b[0;36m<cell line: 1>\u001b[1;34m()\u001b[0m\n\u001b[1;32m----> 1\u001b[0m \u001b[38;5;28mprint\u001b[39m(\u001b[38;5;28;43mnext\u001b[39;49m\u001b[43m(\u001b[49m\u001b[43mr_nums\u001b[49m\u001b[43m)\u001b[49m)\n",
      "\u001b[1;31mStopIteration\u001b[0m: "
     ]
    }
   ],
   "source": [
    "print(next(r_nums)) # 데이터가 없어서 에러 발생, "
   ]
  },
  {
   "cell_type": "code",
   "execution_count": 9,
   "id": "9851f0f0",
   "metadata": {},
   "outputs": [],
   "source": [
    "# 함수\n",
    "# 함수를 호출하기 전에 함수는 선언이 되어있어야함. \n",
    "# 아래에 함수 정의를 해놨으니 아래서 부터 함수 적용\n",
    "# 함수 만들기\n",
    "# def 함수명() :\n",
    "def print_3_times():\n",
    "    print(\"Hello\")\n",
    "    print(\"Hello\")\n",
    "    print(\"Hello\")\n",
    "\n",
    "#  매개변수가 있는 함수 정의 -> 변수를 몇번 진행하겠따\n",
    "def print_n_times(value, n) :\n",
    "    for i in range(n) :\n",
    "        print(value)"
   ]
  },
  {
   "cell_type": "code",
   "execution_count": 10,
   "id": "6ad5aea8",
   "metadata": {},
   "outputs": [
    {
     "name": "stdout",
     "output_type": "stream",
     "text": [
      "test\n",
      "test\n",
      "test\n"
     ]
    }
   ],
   "source": [
    "print_n_times('test', 3)"
   ]
  },
  {
   "cell_type": "code",
   "execution_count": null,
   "id": "573ed446",
   "metadata": {},
   "outputs": [],
   "source": [
    "# 가변 매개변수 : 함수명(매개변수, ... ,*가변 매개변수 = 값)\n",
    "# 가변 매개변수는 기본적으로 n = 식으로"
   ]
  },
  {
   "cell_type": "code",
   "execution_count": 11,
   "id": "8eaee3ad",
   "metadata": {},
   "outputs": [
    {
     "name": "stdout",
     "output_type": "stream",
     "text": [
      "test\n",
      "hello\n",
      "python\n",
      "\n",
      "test\n",
      "hello\n",
      "python\n",
      "\n"
     ]
    }
   ],
   "source": [
    "def print_n_var_times(n, *values) :\n",
    "    for i in range(n) :\n",
    "        for value in values :\n",
    "            print(value)\n",
    "        print()\n",
    "print_n_var_times(2, 'test', 'hello', 'python')"
   ]
  },
  {
   "cell_type": "code",
   "execution_count": 14,
   "id": "d0a1369a",
   "metadata": {},
   "outputs": [
    {
     "ename": "SyntaxError",
     "evalue": "EOL while scanning string literal (1852581931.py, line 6)",
     "output_type": "error",
     "traceback": [
      "\u001b[1;36m  Input \u001b[1;32mIn [14]\u001b[1;36m\u001b[0m\n\u001b[1;33m    print_n_times('hello, n=3)\u001b[0m\n\u001b[1;37m                              ^\u001b[0m\n\u001b[1;31mSyntaxError\u001b[0m\u001b[1;31m:\u001b[0m EOL while scanning string literal\n"
     ]
    }
   ],
   "source": [
    "def print_n_times(value, n=2) :\n",
    "    for i in range(n) :\n",
    "        print(value)\n",
    "    print()\n",
    "print_n_times('test')\n",
    "print_n_times('hello, n=3)\n"
   ]
  },
  {
   "cell_type": "code",
   "execution_count": 15,
   "id": "e0969517",
   "metadata": {},
   "outputs": [],
   "source": [
    "# 기본 매개변수와 가변 매개변수가 같이 오는 경우 : 가변, 기본 순서로 "
   ]
  },
  {
   "cell_type": "code",
   "execution_count": 19,
   "id": "aeaa75bd",
   "metadata": {},
   "outputs": [
    {
     "name": "stdout",
     "output_type": "stream",
     "text": [
      "test\n",
      "hello\n",
      "python\n",
      "\n",
      "test\n",
      "hello\n",
      "python\n",
      "\n"
     ]
    }
   ],
   "source": [
    "def print_n_var_times(n=2, *values) :\n",
    "    for i in range(n) :\n",
    "        for value in values :\n",
    "            print(value)\n",
    "        print()\n",
    "print_n_var_times(2, 'test', 'hello', 'python')"
   ]
  },
  {
   "cell_type": "code",
   "execution_count": null,
   "id": "96a9bfbb",
   "metadata": {},
   "outputs": [],
   "source": [
    "# 선언했던 가변 변수 2를 없애면 에러 발생함\n",
    "print_n_var_times(2, 'test', 'hello', 'python')"
   ]
  },
  {
   "cell_type": "code",
   "execution_count": 23,
   "id": "4514d7dc",
   "metadata": {},
   "outputs": [
    {
     "name": "stdout",
     "output_type": "stream",
     "text": [
      "60\n",
      "40\n",
      "220\n",
      "320\n"
     ]
    }
   ],
   "source": [
    "# 일반 매개변수, 가변 매개변수, 키워드 매개변수 순서\n",
    "def test_func(a, b=10, c=20) :\n",
    "    print(a+b+c)\n",
    "    \n",
    "test_func(a=10, b=20, c=30) # 60\n",
    "test_func(10) # 10 + 10 + 20 = 40\n",
    "test_func(c=100, b=20, a=100) # 선언 한 것은 순서 상관이 없음\n",
    "test_func(a=10, c=300) # b가 선언되지 않았으니 제외하고 계산됨"
   ]
  },
  {
   "cell_type": "code",
   "execution_count": 27,
   "id": "b031950a",
   "metadata": {},
   "outputs": [
    {
     "name": "stdout",
     "output_type": "stream",
     "text": [
      "60 130\n"
     ]
    }
   ],
   "source": [
    "def test_func(a, b=10, c=20) :\n",
    "    return(a+b+c) # return은 함수 호출한 곳으로 값을 돌려줌\n",
    "a = test_func(a=10, b=20, c=30)\n",
    "b = test_func(100)\n",
    "print(a, b)"
   ]
  },
  {
   "cell_type": "code",
   "execution_count": 29,
   "id": "4ee67538",
   "metadata": {},
   "outputs": [],
   "source": [
    "# def는 함수를 만들어 놓은 것 함수는 정의만 \n",
    "def test_f() :\n",
    "    print(atest) # error 발생하지 않음"
   ]
  },
  {
   "cell_type": "code",
   "execution_count": 30,
   "id": "889cfe9d",
   "metadata": {},
   "outputs": [
    {
     "ename": "NameError",
     "evalue": "name 'atest' is not defined",
     "output_type": "error",
     "traceback": [
      "\u001b[1;31m---------------------------------------------------------------------------\u001b[0m",
      "\u001b[1;31mNameError\u001b[0m                                 Traceback (most recent call last)",
      "Input \u001b[1;32mIn [30]\u001b[0m, in \u001b[0;36m<cell line: 1>\u001b[1;34m()\u001b[0m\n\u001b[1;32m----> 1\u001b[0m \u001b[43mtest_f\u001b[49m\u001b[43m(\u001b[49m\u001b[43m)\u001b[49m\n",
      "Input \u001b[1;32mIn [29]\u001b[0m, in \u001b[0;36mtest_f\u001b[1;34m()\u001b[0m\n\u001b[0;32m      2\u001b[0m \u001b[38;5;28;01mdef\u001b[39;00m \u001b[38;5;21mtest_f\u001b[39m() :\n\u001b[1;32m----> 3\u001b[0m     \u001b[38;5;28mprint\u001b[39m(\u001b[43matest\u001b[49m)\n",
      "\u001b[1;31mNameError\u001b[0m: name 'atest' is not defined"
     ]
    }
   ],
   "source": [
    "test_f() # error가 발생함, 함수는 선언할땐 아무런 영향이 없음"
   ]
  },
  {
   "cell_type": "code",
   "execution_count": 31,
   "id": "8be0ded2",
   "metadata": {},
   "outputs": [
    {
     "name": "stdout",
     "output_type": "stream",
     "text": [
      "test\n"
     ]
    }
   ],
   "source": [
    "atest = 'test'\n",
    "test_f()"
   ]
  },
  {
   "cell_type": "code",
   "execution_count": null,
   "id": "cf1ef52c",
   "metadata": {},
   "outputs": [],
   "source": [
    "# local 변수, global 변수"
   ]
  },
  {
   "cell_type": "code",
   "execution_count": null,
   "id": "77475353",
   "metadata": {},
   "outputs": [],
   "source": [
    "def test_f() :\n",
    "    print(atest)\n",
    "    func_val = 'func var'"
   ]
  },
  {
   "cell_type": "code",
   "execution_count": 32,
   "id": "0f64d84f",
   "metadata": {},
   "outputs": [
    {
     "name": "stdout",
     "output_type": "stream",
     "text": [
      "test\n"
     ]
    },
    {
     "ename": "NameError",
     "evalue": "name 'func_val' is not defined",
     "output_type": "error",
     "traceback": [
      "\u001b[1;31m---------------------------------------------------------------------------\u001b[0m",
      "\u001b[1;31mNameError\u001b[0m                                 Traceback (most recent call last)",
      "Input \u001b[1;32mIn [32]\u001b[0m, in \u001b[0;36m<cell line: 3>\u001b[1;34m()\u001b[0m\n\u001b[0;32m      1\u001b[0m atest \u001b[38;5;241m=\u001b[39m \u001b[38;5;124m'\u001b[39m\u001b[38;5;124mtest\u001b[39m\u001b[38;5;124m'\u001b[39m\n\u001b[0;32m      2\u001b[0m test_f()\n\u001b[1;32m----> 3\u001b[0m \u001b[43mfunc_val\u001b[49m\n",
      "\u001b[1;31mNameError\u001b[0m: name 'func_val' is not defined"
     ]
    }
   ],
   "source": [
    "atest = 'test'\n",
    "test_f()\n",
    "func_val"
   ]
  },
  {
   "cell_type": "code",
   "execution_count": null,
   "id": "5d18fe21",
   "metadata": {},
   "outputs": [],
   "source": [
    "# start, stop, step 을 이용한 합을 구하는 함수 작성\n",
    "def sum_func(start =0, stop =100, step =1 ) :\n",
    "    total == 0\n",
    "    for i in range(start, stop+1, step) :\n",
    "        total += i\n",
    "    return total"
   ]
  },
  {
   "cell_type": "code",
   "execution_count": null,
   "id": "7f8b5066",
   "metadata": {},
   "outputs": [],
   "source": [
    "# sum_func()는 위 함수의 return값 \n",
    "print(\"0 부터 100까지 합을 구함 :\", sum_func()) \n",
    "print(\"0 부터 100까지 짝수의 합을 구함 :\", sum_func(step=2))\n",
    "print(\"0 부터 100까지 홀수의 합을 구함 :\", sum_func(start=1, step=2))\n",
    "print(\"0 부터 50까지 홀수의 합을 구함:\", sum_func(start=1, stop=50, step=2))"
   ]
  },
  {
   "cell_type": "code",
   "execution_count": 36,
   "id": "09fe93f8",
   "metadata": {},
   "outputs": [],
   "source": [
    "def add_func(a, b) :\n",
    "    return a + b \n",
    "def sub_func(a, b) :\n",
    "    return a - b \n",
    "def mul_func(a, b) :\n",
    "    return a * b \n",
    "def div_func(a, b) :\n",
    "    return a % b"
   ]
  },
  {
   "cell_type": "code",
   "execution_count": null,
   "id": "1aaa60ba",
   "metadata": {},
   "outputs": [],
   "source": [
    "func_list = {'+' : 'add_func', '-' : 'sub_func', \n",
    "             '*' : 'mul_func', '/' : 'div_func'}"
   ]
  },
  {
   "cell_type": "code",
   "execution_count": 40,
   "id": "fee0dd8f",
   "metadata": {},
   "outputs": [
    {
     "ename": "SyntaxError",
     "evalue": "invalid syntax (1599639340.py, line 3)",
     "output_type": "error",
     "traceback": [
      "\u001b[1;36m  Input \u001b[1;32mIn [40]\u001b[1;36m\u001b[0m\n\u001b[1;33m    for input_data in == \"+\" :\u001b[0m\n\u001b[1;37m                      ^\u001b[0m\n\u001b[1;31mSyntaxError\u001b[0m\u001b[1;31m:\u001b[0m invalid syntax\n"
     ]
    }
   ],
   "source": [
    "input_data = input(\"숫자를 입력하세요 = \")\n",
    "\n",
    "for input_data in \"+\" :\n",
    "    (add_func)\n",
    "for input_data in \"-\" :\n",
    "    print(sub_func)\n",
    "for input_data in \"*\" :\n",
    "    print(mul_func)\n",
    "for input_data in \"%\" :\n",
    "    print(div_func)\n",
    "    "
   ]
  },
  {
   "cell_type": "code",
   "execution_count": null,
   "id": "292b3110",
   "metadata": {},
   "outputs": [],
   "source": [
    "while True:\n",
    "    input_data = input(\"계산식 : \").split()\n",
    "    if input_data[0] == 'q':\n",
    "        print('program end !!')\n",
    "        break\n",
    "    # 입력 받은 자료가 숫자가 아니면 재 입력        \n",
    "    if len(input_data) !=3 or not input_data[0].isnumeric() or \\\n",
    "       not input_data[2].isnumeric() :  \n",
    "        print(\"계산식을 다시 입력 (ex: 3 + 4 형식으로)\")\n",
    "        continue\n",
    "    \n",
    "    if not input_data[1] in '+-*/':\n",
    "        print(\"부호 오류입니다\")\n",
    "        continue\n",
    "        \n",
    "    if input_data[1] == '+':\n",
    "        result = int(input_data[0]) + int(input_data[2])\n",
    "    elif input_data[1] == '-':\n",
    "        result = int(input_data[0]) - int(input_data[2])\n",
    "    elif input_data[1] == '*':\n",
    "        result = int(input_data[0]) * int(input_data[2])\n",
    "    else:\n",
    "        result = int(input_data[0]) / int(input_data[2])    \n",
    "    \n",
    "    print(f\"{input_data[0]} {input_data[1]} {input_data[2]} = {result}\")"
   ]
  },
  {
   "cell_type": "code",
   "execution_count": 8,
   "id": "8d38baf2",
   "metadata": {},
   "outputs": [],
   "source": [
    "# 함수의 활용 : 자기 함수 호출 -> 재귀 함수 (내꺼 부르고 다음꺼 부르고 반복)\n",
    "# factorial 함수 정의\n",
    "def fac_func(n) :\n",
    "    if n == 0 :\n",
    "        return 1\n",
    "    else :\n",
    "        return n * fac_func(n-1)"
   ]
  },
  {
   "cell_type": "code",
   "execution_count": 10,
   "id": "52950afa",
   "metadata": {},
   "outputs": [
    {
     "ename": "NameError",
     "evalue": "name 'fac_fucn' is not defined",
     "output_type": "error",
     "traceback": [
      "\u001b[1;31m---------------------------------------------------------------------------\u001b[0m",
      "\u001b[1;31mNameError\u001b[0m                                 Traceback (most recent call last)",
      "Input \u001b[1;32mIn [10]\u001b[0m, in \u001b[0;36m<cell line: 1>\u001b[1;34m()\u001b[0m\n\u001b[1;32m----> 1\u001b[0m \u001b[38;5;28mprint\u001b[39m(\u001b[43mfac_fucn\u001b[49m(\u001b[38;5;241m14\u001b[39m))\n",
      "\u001b[1;31mNameError\u001b[0m: name 'fac_fucn' is not defined"
     ]
    }
   ],
   "source": [
    "print(fac_fucn(14))"
   ]
  },
  {
   "cell_type": "code",
   "execution_count": 16,
   "id": "43eddfaf",
   "metadata": {},
   "outputs": [],
   "source": [
    "# 피보나치를 구하는 함수 작성 : fibo(n) = fibo(n-1) + fibo(n-2)\n",
    "# n==1 or n==2 면 1이다\n",
    "def fibo(n):\n",
    "    global cnt\n",
    "    cnt += 1\n",
    "    if n == 1 or n == 2 :\n",
    "        return 1\n",
    "    else: \n",
    "        return fibo(n-1) + fibo(n-2)"
   ]
  },
  {
   "cell_type": "code",
   "execution_count": 17,
   "id": "ae1db8ef",
   "metadata": {},
   "outputs": [
    {
     "data": {
      "text/plain": [
       "55"
      ]
     },
     "execution_count": 17,
     "metadata": {},
     "output_type": "execute_result"
    }
   ],
   "source": [
    "cnt = 0\n",
    "fibo(10)"
   ]
  },
  {
   "cell_type": "code",
   "execution_count": 18,
   "id": "080469c8",
   "metadata": {},
   "outputs": [],
   "source": [
    "# 메모화 : 메모 변수를 생성\n",
    "dict_mem = {1:1, 2:1}\n",
    "\n",
    "def fibo_mem(n) :\n",
    "    global cnt\n",
    "    cnt += 1\n",
    "    if n in dict_mem :\n",
    "        return dict_mem[n]\n",
    "    else : \n",
    "        output = fibo_mem(n-1) + fibo_mem(n-2)\n",
    "        dict_mem[n] = output\n",
    "        return output"
   ]
  },
  {
   "cell_type": "code",
   "execution_count": 20,
   "id": "06c12a9f",
   "metadata": {},
   "outputs": [
    {
     "data": {
      "text/plain": [
       "12586269025"
      ]
     },
     "execution_count": 20,
     "metadata": {},
     "output_type": "execute_result"
    }
   ],
   "source": [
    "fibo_mem(50)"
   ]
  },
  {
   "cell_type": "code",
   "execution_count": null,
   "id": "ab0890f7",
   "metadata": {},
   "outputs": [],
   "source": [
    "# 위에랑 같음 \n",
    "def fibo_mem(n) :\n",
    "    global cnt\n",
    "    cnt += 1\n",
    "    if n in dict_mem :\n",
    "        return dict_mem[n]\n",
    "    \n",
    "    output = fibo_mem(n-1) + fibo_mem(n-2)\n",
    "    dict_mem[n] = output\n",
    "    \n",
    "    return output"
   ]
  },
  {
   "cell_type": "code",
   "execution_count": 21,
   "id": "d10ee579",
   "metadata": {},
   "outputs": [
    {
     "name": "stdout",
     "output_type": "stream",
     "text": [
      "10\n"
     ]
    }
   ],
   "source": [
    "# 함수 고급 : tuple -> (), lamda 함수\n",
    "(a, b) = (10, 20)\n",
    "print(a)"
   ]
  },
  {
   "cell_type": "code",
   "execution_count": 22,
   "id": "d466ebeb",
   "metadata": {},
   "outputs": [
    {
     "name": "stdout",
     "output_type": "stream",
     "text": [
      "20\n"
     ]
    }
   ],
   "source": [
    "b, a = a, b\n",
    "print(a)"
   ]
  },
  {
   "cell_type": "code",
   "execution_count": 23,
   "id": "12a40090",
   "metadata": {},
   "outputs": [
    {
     "name": "stdout",
     "output_type": "stream",
     "text": [
      "10 20\n"
     ]
    }
   ],
   "source": [
    "def test() :\n",
    "    return (10, 20)\n",
    "a, b = test()\n",
    "print(a, b)"
   ]
  },
  {
   "cell_type": "code",
   "execution_count": 25,
   "id": "8fa4e492",
   "metadata": {},
   "outputs": [
    {
     "name": "stdout",
     "output_type": "stream",
     "text": [
      "0번째의 값 1\n",
      "1번째의 값 2\n",
      "2번째의 값 3\n",
      "3번째의 값 4\n"
     ]
    }
   ],
   "source": [
    "# tuple -> a_tuple(10, 20, 30) -> 자료의 수정 불가\n",
    "for i, value in enumerate([1,2,3,4]) :\n",
    "    print(\"{}번째의 값 {}\".format(i, value))"
   ]
  },
  {
   "cell_type": "code",
   "execution_count": 26,
   "id": "424d2ce7",
   "metadata": {},
   "outputs": [
    {
     "name": "stdout",
     "output_type": "stream",
     "text": [
      "tuple의 값 10\n",
      "tuple의 값 20\n",
      "tuple의 값 30\n"
     ]
    }
   ],
   "source": [
    "a_tuple = (10, 20, 30)\n",
    "for value in a_tuple : \n",
    "    print (\"tuple의 값\", value)"
   ]
  },
  {
   "cell_type": "code",
   "execution_count": null,
   "id": "4e5268cb",
   "metadata": {},
   "outputs": [],
   "source": [
    "a_tuple = (10, 20, 30)\n",
    "for value in a_tuple : \n",
    "    print (\"tuple의 값\", value)\n",
    "a_tuple[0] = 10 # 하면 error 뜸, tuple의 자료는 수정불가 / 순서는 바뀌어도 됨"
   ]
  },
  {
   "cell_type": "code",
   "execution_count": 29,
   "id": "fbb110ff",
   "metadata": {},
   "outputs": [],
   "source": [
    "# 람다 : lambda\n",
    "# 함수의 매개변수로 함수명 전달하기\n",
    "def call_5_times(func) :\n",
    "    for i in range(5) :\n",
    "        func()\n",
    "def print_hello() :\n",
    "    print(\"Hello\")"
   ]
  },
  {
   "cell_type": "code",
   "execution_count": 31,
   "id": "f3c95b23",
   "metadata": {},
   "outputs": [
    {
     "ename": "NameError",
     "evalue": "name 'call_times' is not defined",
     "output_type": "error",
     "traceback": [
      "\u001b[1;31m---------------------------------------------------------------------------\u001b[0m",
      "\u001b[1;31mNameError\u001b[0m                                 Traceback (most recent call last)",
      "Input \u001b[1;32mIn [31]\u001b[0m, in \u001b[0;36m<cell line: 1>\u001b[1;34m()\u001b[0m\n\u001b[1;32m----> 1\u001b[0m \u001b[43mcall_times\u001b[49m(print_hello)\n",
      "\u001b[1;31mNameError\u001b[0m: name 'call_times' is not defined"
     ]
    }
   ],
   "source": [
    "call_times(print_hello)"
   ]
  },
  {
   "cell_type": "code",
   "execution_count": 32,
   "id": "ca220e8f",
   "metadata": {},
   "outputs": [],
   "source": [
    "def power(item) :\n",
    "    return item * item\n",
    "def under_3(item) :\n",
    "    return item < 3"
   ]
  },
  {
   "cell_type": "code",
   "execution_count": 34,
   "id": "f8fe4b1d",
   "metadata": {},
   "outputs": [
    {
     "data": {
      "text/plain": [
       "[1, 4, 9, 16, 25]"
      ]
     },
     "execution_count": 34,
     "metadata": {},
     "output_type": "execute_result"
    }
   ],
   "source": [
    "# map(함수명, 리스트) -> list의 각각의 값을 함수에 ㅈㄱ용 \n",
    "input_list = [1,2,3,4,5]\n",
    "\n",
    "output = map(power, input_list)\n",
    "list(output)"
   ]
  },
  {
   "cell_type": "code",
   "execution_count": 40,
   "id": "eb8d935c",
   "metadata": {},
   "outputs": [
    {
     "data": {
      "text/plain": [
       "[1, 2]"
      ]
     },
     "execution_count": 40,
     "metadata": {},
     "output_type": "execute_result"
    }
   ],
   "source": [
    "# fillter(함수명, 리스트) -> 함수의 리턴값이 True인 자료만 추출 / 함수에 조건식으로 return\n",
    "\n",
    "list(list(filter(under_3, input_list)))"
   ]
  },
  {
   "cell_type": "code",
   "execution_count": 43,
   "id": "15821f45",
   "metadata": {},
   "outputs": [],
   "source": [
    "# lambda 매개변수 : 리턴 값 -> 간략하게 쓸려고 할떄 쓰임\n",
    "power = lambda x: x * x\n",
    "under_3 = lambda x: x < 3 "
   ]
  },
  {
   "cell_type": "code",
   "execution_count": 44,
   "id": "efc5a19a",
   "metadata": {},
   "outputs": [
    {
     "name": "stdout",
     "output_type": "stream",
     "text": [
      "[1, 4, 9, 16, 25]\n",
      "[1, 2]\n"
     ]
    }
   ],
   "source": [
    "input_list = [1,2,3,4,5]\n",
    "\n",
    "output = map(power, input_list)\n",
    "print(list(output))\n",
    "print(list(list(filter(under_3, input_list))))"
   ]
  },
  {
   "cell_type": "code",
   "execution_count": 49,
   "id": "1a3fbb01",
   "metadata": {
    "scrolled": true
   },
   "outputs": [
    {
     "name": "stderr",
     "output_type": "stream",
     "text": [
      "하위 디렉터리 또는 파일 dataset이(가) 이미 있습니다.\n"
     ]
    }
   ],
   "source": [
    "# 파일처리 : open(), file.write(), file.close(), file.read()\n",
    "# 현재 경로에서 새로운 디렉토리 dataset을 생성\n",
    "# dataset 안에 새로운 파일 test.txt 파일을 생성\n",
    "# test.txt 파일에 'hello python programing'을 작성 후 파일 close() # 현재 디렉토리에 폴더가 생성됨\n",
    "! mkdir dataset "
   ]
  },
  {
   "cell_type": "code",
   "execution_count": 50,
   "id": "14a62f5c",
   "metadata": {},
   "outputs": [],
   "source": [
    "file = open('./dataset/test.txt', 'w')\n",
    "file.write('hello python programing')\n",
    "file.close()"
   ]
  },
  {
   "cell_type": "code",
   "execution_count": 54,
   "id": "81e731c9",
   "metadata": {},
   "outputs": [
    {
     "name": "stdout",
     "output_type": "stream",
     "text": [
      "hello python programing\n"
     ]
    },
    {
     "data": {
      "text/plain": [
       "<function TextIOWrapper.close()>"
      ]
     },
     "execution_count": 54,
     "metadata": {},
     "output_type": "execute_result"
    }
   ],
   "source": [
    "file = open('./dataset/test.txt', 'r+')\n",
    "contents = file.read()\n",
    "print(contents)\n",
    "file.write('\\nhello python programing read')\n",
    "file.close"
   ]
  },
  {
   "cell_type": "code",
   "execution_count": null,
   "id": "681cf9c2",
   "metadata": {},
   "outputs": [],
   "source": [
    "#file open with 와 같이 사용 -> with 종료시 자동으로 파일 close 됨\n",
    "with open('./dataset/test.txt', 'r+') as file :\n",
    "    contents = file.read()\n",
    "print(contents)\n",
    "file.write('test') # error 발생 / 자동으로 파일이 닫혀서"
   ]
  },
  {
   "cell_type": "code",
   "execution_count": 55,
   "id": "10d3a58b",
   "metadata": {},
   "outputs": [
    {
     "data": {
      "text/plain": [
       "'C:\\\\Users\\\\admin\\\\Desktop\\\\영우디지털글로벌\\\\6월\\\\220628_함수_파이썬 4일차'"
      ]
     },
     "execution_count": 55,
     "metadata": {},
     "output_type": "execute_result"
    }
   ],
   "source": [
    "import os\n",
    "os.getcwd() # 현재 디렉토리의 전체 Full 경로 보여줌"
   ]
  },
  {
   "cell_type": "code",
   "execution_count": 4,
   "id": "5ae402c5",
   "metadata": {},
   "outputs": [
    {
     "name": "stdout",
     "output_type": "stream",
     "text": [
      "{'제목': '혼자 공부하는 파이썬', '가격': 18000}\n",
      "{'제목': '혼자 공부하는 파이썬 2', '가격': 26000}\n"
     ]
    }
   ],
   "source": [
    "books = [{\"제목\" : '혼자 공부하는 파이썬', \"가격\" : 18000},\n",
    "        {\"제목\" : '혼자 공부하는 파이썬 2', \"가격\" : 26000},\n",
    "        {\"제목\" : '혼자 공부하는 자바', \"가격\" : 24000}]\n",
    "# 가격이 가장 저렴한 책의 정보 출력\n",
    "print(min(books, key=lambda book: book['가격']))\n",
    "# 가격이 가장 비싼 책의 정보 출력\n",
    "print(max(books, key=lambda book: book['가격']))"
   ]
  },
  {
   "cell_type": "code",
   "execution_count": 5,
   "id": "44a54ae4",
   "metadata": {},
   "outputs": [
    {
     "data": {
      "text/plain": [
       "{'제목': '혼자 공부하는 파이썬', '가격': 18000}"
      ]
     },
     "execution_count": 5,
     "metadata": {},
     "output_type": "execute_result"
    }
   ],
   "source": [
    "def 가격추출함수(book) :\n",
    "    return book ['가격']\n",
    "min(books, key=가격추출함수)"
   ]
  },
  {
   "cell_type": "code",
   "execution_count": 6,
   "id": "78ff2b17",
   "metadata": {},
   "outputs": [
    {
     "name": "stdout",
     "output_type": "stream",
     "text": [
      "{'제목': '혼자 공부하는 파이썬', '가격': 18000}\n",
      "{'제목': '혼자 공부하는 자바', '가격': 24000}\n",
      "{'제목': '혼자 공부하는 파이썬 2', '가격': 26000}\n"
     ]
    }
   ],
   "source": [
    "books.sort(key=lambda book: book['가격'])\n",
    "for book  in books :\n",
    "    print(book)"
   ]
  },
  {
   "cell_type": "code",
   "execution_count": 7,
   "id": "f773bf45",
   "metadata": {},
   "outputs": [
    {
     "data": {
      "text/plain": [
       "[1, 100, 3, 4, 5]"
      ]
     },
     "execution_count": 7,
     "metadata": {},
     "output_type": "execute_result"
    }
   ],
   "source": [
    "a = [1,2,3,4,5]\n",
    "b=a\n",
    "b[1]=100\n",
    "a"
   ]
  },
  {
   "cell_type": "code",
   "execution_count": 8,
   "id": "86529c1c",
   "metadata": {},
   "outputs": [
    {
     "name": "stdout",
     "output_type": "stream",
     "text": [
      "a :  [1, 100, 3, 4, 5]\n",
      "c :  [1, 300, 3, 4, 5]\n"
     ]
    }
   ],
   "source": [
    "c = a.copy()\n",
    "c[1] = 300\n",
    "print(\"a : \", a)\n",
    "print(\"c : \", c)"
   ]
  },
  {
   "cell_type": "code",
   "execution_count": 11,
   "id": "7d11a564",
   "metadata": {},
   "outputs": [
    {
     "name": "stdout",
     "output_type": "stream",
     "text": [
      "정수입력 : ㅁㄴㅇ\n",
      "정수가 입력되지 않음\n"
     ]
    }
   ],
   "source": [
    "# 예외처리\n",
    "# 실행오류 : try ~ except else ~ finally\n",
    "# 실행 오류가 발생할 수 있는 코드 작성\n",
    "try : \n",
    "    input_num = int(input(\"정수입력 : \"))\n",
    "    \n",
    "    print(\"원의 반지름 : \", input_num)\n",
    "    print(\"원의 둘레 :\", input_num * 2 * 3.14)\n",
    "except : \n",
    "    print(\"정수가 입력되지 않음\")"
   ]
  },
  {
   "cell_type": "code",
   "execution_count": 14,
   "id": "51207c06",
   "metadata": {},
   "outputs": [
    {
     "name": "stdout",
     "output_type": "stream",
     "text": [
      "정수입력 : 123\n",
      "원의 반지름 :  123\n",
      "원의 둘레 : 772.44\n",
      "progaraming end\n"
     ]
    }
   ],
   "source": [
    "# 실행 오류가 발생할 수 있는 코드 작성\n",
    "#try :\n",
    "#    예외 발생 코드\n",
    "#except : \n",
    "#    예외 발생시 코드\n",
    "#else : \n",
    "#    정상 작동시 실행 코드\n",
    "\n",
    "try : \n",
    "    input_num = int(input(\"정수입력 : \"))\n",
    "except :   \n",
    "    print(\"정수가 입력되지 않음\")\n",
    "else : \n",
    "    print(\"원의 반지름 : \", input_num)\n",
    "    print(\"원의 둘레 :\", input_num * 2 * 3.14)\n",
    "finally :\n",
    "    print(\"progaraming end\") # 무조건 실행"
   ]
  },
  {
   "cell_type": "code",
   "execution_count": 17,
   "id": "40d73359",
   "metadata": {},
   "outputs": [
    {
     "name": "stdout",
     "output_type": "stream",
     "text": [
      "입력 자료 검증\n",
      "try end !!\n"
     ]
    },
    {
     "ename": "NameError",
     "evalue": "name 'file' is not defined",
     "output_type": "error",
     "traceback": [
      "\u001b[1;31m---------------------------------------------------------------------------\u001b[0m",
      "\u001b[1;31mNameError\u001b[0m                                 Traceback (most recent call last)",
      "Input \u001b[1;32mIn [17]\u001b[0m, in \u001b[0;36m<cell line: 2>\u001b[1;34m()\u001b[0m\n\u001b[0;32m      9\u001b[0m \u001b[38;5;28;01mfinally\u001b[39;00m :\n\u001b[0;32m     10\u001b[0m     \u001b[38;5;28mprint\u001b[39m(\u001b[38;5;124m\"\u001b[39m\u001b[38;5;124mtry end !!\u001b[39m\u001b[38;5;124m\"\u001b[39m)\n\u001b[1;32m---> 11\u001b[0m     \u001b[43mfile\u001b[49m\u001b[38;5;241m.\u001b[39mclose()\n",
      "\u001b[1;31mNameError\u001b[0m: name 'file' is not defined"
     ]
    }
   ],
   "source": [
    "# file 처리시 예외 처리 응용\n",
    "try : \n",
    "    file = opne('./dataset/try.txt', 'w')\n",
    "    input_data = input(\"이름 성적 입력\").split()\n",
    "    score=int(input_data[1])\n",
    "    file.write(\"input_data\" + str(score))\n",
    "except :\n",
    "    print(\"입력 자료 검증\")\n",
    "finally :\n",
    "    print(\"try end !!\")\n",
    "    file.close()\n",
    "\n",
    "# file.write(\"\\nend\\n\")"
   ]
  },
  {
   "cell_type": "code",
   "execution_count": 21,
   "id": "467efcce",
   "metadata": {},
   "outputs": [
    {
     "name": "stdout",
     "output_type": "stream",
     "text": [
      "try 구문 실행\n",
      "try end !!\n"
     ]
    }
   ],
   "source": [
    "def test_func() :\n",
    "    try : \n",
    "        print(\"try 구문 실행\")\n",
    "        return\n",
    "    except :\n",
    "        print(\"except 수문 실행\")\n",
    "    else : \n",
    "        print(\"else 구문실행\")\n",
    "    finally :\n",
    "        print(\"try end !!\")\n",
    "\n",
    "test_func()\n",
    "\n",
    "# file.write(\"\\nend\\n\")"
   ]
  }
 ],
 "metadata": {
  "kernelspec": {
   "display_name": "Python 3 (ipykernel)",
   "language": "python",
   "name": "python3"
  },
  "language_info": {
   "codemirror_mode": {
    "name": "ipython",
    "version": 3
   },
   "file_extension": ".py",
   "mimetype": "text/x-python",
   "name": "python",
   "nbconvert_exporter": "python",
   "pygments_lexer": "ipython3",
   "version": "3.9.12"
  }
 },
 "nbformat": 4,
 "nbformat_minor": 5
}
