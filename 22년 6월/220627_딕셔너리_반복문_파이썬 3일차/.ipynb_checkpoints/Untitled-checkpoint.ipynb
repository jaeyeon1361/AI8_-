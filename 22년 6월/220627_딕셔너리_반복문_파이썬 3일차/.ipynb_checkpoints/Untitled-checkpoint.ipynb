{
 "cells": [
  {
   "cell_type": "code",
   "execution_count": 2,
   "id": "12c2584b",
   "metadata": {},
   "outputs": [
    {
     "name": "stdout",
     "output_type": "stream",
     "text": [
      "{'name': '어벤져스 엔드게임', 'type': '히어로 무비'}\n"
     ]
    }
   ],
   "source": [
    "dict_a = {\n",
    "    \"name\" : \"어벤져스 엔드게임\",\n",
    "    \"type\" : \"히어로 무비\"\n",
    "}\n",
    "print(dict_a)"
   ]
  },
  {
   "cell_type": "code",
   "execution_count": null,
   "id": "f2c7991b",
   "metadata": {},
   "outputs": [],
   "source": [
    "ditc_b = {\n",
    "    \"director\" : [\"안소니 루소, 조 루소]\n",
    "}"
   ]
  }
 ],
 "metadata": {
  "kernelspec": {
   "display_name": "Python 3 (ipykernel)",
   "language": "python",
   "name": "python3"
  },
  "language_info": {
   "codemirror_mode": {
    "name": "ipython",
    "version": 3
   },
   "file_extension": ".py",
   "mimetype": "text/x-python",
   "name": "python",
   "nbconvert_exporter": "python",
   "pygments_lexer": "ipython3",
   "version": "3.9.12"
  }
 },
 "nbformat": 4,
 "nbformat_minor": 5
}
