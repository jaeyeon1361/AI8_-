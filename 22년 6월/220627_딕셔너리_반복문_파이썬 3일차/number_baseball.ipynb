{
 "cells": [
  {
   "cell_type": "code",
   "execution_count": null,
   "id": "2c3f5dc9",
   "metadata": {},
   "outputs": [],
   "source": []
  },
  {
   "cell_type": "code",
   "execution_count": 24,
   "id": "deaf9c5f",
   "metadata": {
    "scrolled": true
   },
   "outputs": [
    {
     "name": "stdout",
     "output_type": "stream",
     "text": [
      "숫자야구 시작!\n",
      "난이도를 선택하세요(easy=1,normal=2,hard=3): 3\n",
      "주의! 숫자 4자리를 초과한 경우 앞에 4자리만 인식합니다.\n",
      "4자리 서로 다른 숫자를 입력하세요: 123\n",
      "오류! 겹치지 않는 4자리 숫자를 입력하세요\n",
      "4자리 서로 다른 숫자를 입력하세요: 1234\n",
      "1S 1B 입니다\n",
      "남은 기회는 6회 입니다.\n",
      "4자리 서로 다른 숫자를 입력하세요: 5678\n",
      "0S 2B 입니다\n",
      "남은 기회는 5회 입니다.\n",
      "4자리 서로 다른 숫자를 입력하세요: 1537\n",
      "3S 0B 입니다\n",
      "남은 기회는 4회 입니다.\n",
      "4자리 서로 다른 숫자를 입력하세요: 1547\n",
      "1547정답입니다!\n",
      "게임 종료!\n"
     ]
    }
   ],
   "source": [
    "print(\"숫자야구 시작!\")\n",
    "\n",
    "#랜덤 4자리 숫자 만들기\n",
    "\n",
    "import random            \n",
    "\n",
    "num = \"\"\n",
    "\n",
    "while True :\n",
    "    asd = str(random.random())\n",
    "    if len(num) >= 4 :                 #4자리가 될때까지만 반복\n",
    "        break\n",
    "    else :\n",
    "        if asd[2] in num :\n",
    "            continue\n",
    "        else:\n",
    "            num += asd[2]\n",
    "\n",
    "input_num = \"1111\"\n",
    "\n",
    "\n",
    "\n",
    "input_num1= input(\"난이도를 선택하세요(easy=1,normal=2,hard=3): \")\n",
    "if input_num1 == \"3\" :\n",
    "    cnt = 6\n",
    "elif input_num1 == \"2\" :\n",
    "    cnt = 10\n",
    "else :\n",
    "    cnt = 15\n",
    "# 사용자에게 숫자를 입력받아 비교하여 결과출력\n",
    "print(\"주의! 숫자 4자리를 초과한 경우 앞에 4자리만 인식합니다.\")\n",
    "\n",
    "while input_num[0:4] != num :               #정답이 될때까지 반복\n",
    "    for a in [0,1,2,3]:                     #입력한 숫자내부 중복확인\n",
    "        if cnt == 0 :\n",
    "            print(f\"게임 실패 정답은 {num}입니다.\")\n",
    "            input_num = num\n",
    "            break\n",
    "        else:\n",
    "            input_num = input(\"4자리 서로 다른 숫자를 입력하세요: \")\n",
    "            if input_num.find(input_num[a]) != input_num.rfind(input_num[a]) or len(input_num)<4:\n",
    "                print(\"오류! 겹치지 않는 4자리 숫자를 입력하세요\")\n",
    "                continue\n",
    "            else:\n",
    "                if input_num[0:4] == num :      #정답인경우 종료\n",
    "                    print(f\"{num}정답입니다!\")\n",
    "                    print(\"게임 종료!\")\n",
    "                    break\n",
    "                else :\n",
    "                    strike = 0\n",
    "                    ball = 0\n",
    "\n",
    "                    for i in [0,1,2,3]:                  #입력한 숫자와 정답을\n",
    "                        if input_num[i] == num[i] :      #비교하여 SB계산 후 출력\n",
    "                            strike += 1\n",
    "                        elif input_num[i] in num :\n",
    "                            ball += 1\n",
    "                    cnt -= 1\n",
    "                    print(f\"{strike}S {ball}B 입니다\")\n",
    "                    print(f\"남은 기회는 {cnt}회 입니다.\")\n",
    "                    continue\n",
    "\n",
    "    \n",
    "    \n",
    "\n"
   ]
  },
  {
   "cell_type": "code",
   "execution_count": null,
   "id": "c5d50c2d",
   "metadata": {},
   "outputs": [],
   "source": []
  }
 ],
 "metadata": {
  "kernelspec": {
   "display_name": "Python 3 (ipykernel)",
   "language": "python",
   "name": "python3"
  },
  "language_info": {
   "codemirror_mode": {
    "name": "ipython",
    "version": 3
   },
   "file_extension": ".py",
   "mimetype": "text/x-python",
   "name": "python",
   "nbconvert_exporter": "python",
   "pygments_lexer": "ipython3",
   "version": "3.9.12"
  }
 },
 "nbformat": 4,
 "nbformat_minor": 5
}
