{
 "cells": [
  {
   "cell_type": "code",
   "execution_count": 2,
   "id": "7b805a23",
   "metadata": {},
   "outputs": [
    {
     "name": "stdout",
     "output_type": "stream",
     "text": [
      "['False', 'None', 'True', '__peg_parser__', 'and', 'as', 'assert', 'async', 'await', 'break', 'class', 'continue', 'def', 'del', 'elif', 'else', 'except', 'finally', 'for', 'from', 'global', 'if', 'import', 'in', 'is', 'lambda', 'nonlocal', 'not', 'or', 'pass', 'raise', 'return', 'try', 'while', 'with', 'yield']\n"
     ]
    }
   ],
   "source": [
    "# 키워드 확인\n",
    "import keyword\n",
    "\n",
    "print(keyword.kwlist)"
   ]
  },
  {
   "cell_type": "code",
   "execution_count": 14,
   "id": "b773ea14",
   "metadata": {},
   "outputs": [
    {
     "name": "stdout",
     "output_type": "stream",
     "text": [
      "테스트\n"
     ]
    }
   ],
   "source": [
    "print(\"테스트\")  # 하나의 문자열 출력"
   ]
  },
  {
   "cell_type": "code",
   "execution_count": 15,
   "id": "2c534da5",
   "metadata": {},
   "outputs": [
    {
     "name": "stdout",
     "output_type": "stream",
     "text": [
      "test 10 20 + 30 =  50\n"
     ]
    }
   ],
   "source": [
    "print(\"test\", 10, '20 + 30 = ', 20 +30)"
   ]
  },
  {
   "cell_type": "code",
   "execution_count": 17,
   "id": "084d43c1",
   "metadata": {},
   "outputs": [
    {
     "name": "stdout",
     "output_type": "stream",
     "text": [
      "test\t10\t20 + 30 = \t50\n",
      "abcd\n"
     ]
    }
   ],
   "source": [
    "print(\"test\", 10, '20 + 30 = ', 20 +30, sep='\\t')\n",
    "print('abcd')"
   ]
  },
  {
   "cell_type": "code",
   "execution_count": 18,
   "id": "1e39635b",
   "metadata": {},
   "outputs": [
    {
     "name": "stdout",
     "output_type": "stream",
     "text": [
      "test\t10\t20 + 30 = \t50#### abcd\n"
     ]
    }
   ],
   "source": [
    "print(\"test\", 10, '20 + 30 = ', 20 +30, sep='\\t', end='#### ')\n",
    "print('abcd')"
   ]
  },
  {
   "cell_type": "code",
   "execution_count": 19,
   "id": "bd05c695",
   "metadata": {},
   "outputs": [
    {
     "name": "stdout",
     "output_type": "stream",
     "text": [
      "test 10 20 + 30 =  50\n",
      "테스트\n"
     ]
    }
   ],
   "source": [
    "print(\"test\", 10, '20 + 30 = ', 20 +30)\n",
    "print(\"테스트\") "
   ]
  },
  {
   "cell_type": "code",
   "execution_count": 21,
   "id": "aec4f9c6",
   "metadata": {},
   "outputs": [
    {
     "name": "stdout",
     "output_type": "stream",
     "text": [
      "\n"
     ]
    }
   ],
   "source": [
    "# 키워드 import keyword -> keyword.keylist 에서 확인\n",
    "# 식별자 : 문자 시작, _ 가능, 숫자 시작 안됨, 공백 안됨 , 키워드 안됨\n",
    "# 식별자를 작성 규칙 : 캐멀(클래스), 스네이크(변수, 함수), 함수는 ()"
   ]
  },
  {
   "cell_type": "markdown",
   "id": "969c1aff",
   "metadata": {},
   "source": [
    "## chapter 02 자료형\n",
    "### 01 . 자료형과 문자열"
   ]
  },
  {
   "cell_type": "code",
   "execution_count": 25,
   "id": "041c743e",
   "metadata": {},
   "outputs": [
    {
     "name": "stdout",
     "output_type": "stream",
     "text": [
      "문자열의 데이터 타입 :  <class 'str'>\n",
      "숫자의 데이터 타입 :  <class 'int'> <class 'float'>\n",
      "불리언의 데이터 타입 :  <class 'bool'>\n"
     ]
    }
   ],
   "source": [
    "# python의 자료형은 : 문자열, 숫자, 불 타입으로 세가지만 존재\n",
    "print('문자열의 데이터 타입 : ', type('문자열'))\n",
    "print('숫자의 데이터 타입 : ', type(10), type(10.4))\n",
    "print('불리언의 데이터 타입 : ', type(True))"
   ]
  },
  {
   "cell_type": "code",
   "execution_count": 26,
   "id": "8da55fdf",
   "metadata": {},
   "outputs": [
    {
     "name": "stdout",
     "output_type": "stream",
     "text": [
      "\" 안녕하세요 !! \" \n"
     ]
    }
   ],
   "source": [
    "print('\" 안녕하세요 !! \" ')  # 문자열은 \" \" 또는 ' '"
   ]
  },
  {
   "cell_type": "code",
   "execution_count": 28,
   "id": "6cf8e85a",
   "metadata": {},
   "outputs": [
    {
     "name": "stdout",
     "output_type": "stream",
     "text": [
      "\" 안녕하세요 !! \" \n",
      "\\ \\ \\ \n"
     ]
    }
   ],
   "source": [
    "#  이스케이프 문자를 활용하여 문자열 만들기  : \\\" -> 일반 문자 \"\n",
    "# \\t : 탭, \\n : 뉴라인\n",
    "print(\"\\\" 안녕하세요 !! \\\" \")\n",
    "print(\"\\\\ \\\\ \\\\ \")"
   ]
  },
  {
   "cell_type": "code",
   "execution_count": 32,
   "id": "cb367adc",
   "metadata": {},
   "outputs": [
    {
     "name": "stdout",
     "output_type": "stream",
     "text": [
      "1라인\n",
      "2라인\n",
      "\n",
      "1라인\n",
      "2라인\n"
     ]
    }
   ],
   "source": [
    "# 여러 라인의 문자를 출력하기\n",
    "print(\"1라인\\n2라인\")\n",
    "print()\n",
    "print('''\\\n",
    "1라인\n",
    "2라인''')"
   ]
  },
  {
   "cell_type": "code",
   "execution_count": 37,
   "id": "c2eded33",
   "metadata": {},
   "outputs": [
    {
     "name": "stdout",
     "output_type": "stream",
     "text": [
      " 안녕하세요 !!       \n"
     ]
    }
   ],
   "source": [
    "#  명령어가 1라인 이상으로 길어질 때 \\\n",
    "print(\" 안녕하세요 !! \\\n",
    "      \")"
   ]
  },
  {
   "cell_type": "code",
   "execution_count": 39,
   "id": "74f7e107",
   "metadata": {},
   "outputs": [
    {
     "name": "stdout",
     "output_type": "stream",
     "text": [
      "aaa 10\n"
     ]
    }
   ],
   "source": [
    "print(\"aaa\", \\\n",
    "     10)"
   ]
  },
  {
   "cell_type": "code",
   "execution_count": null,
   "id": "e6afa667",
   "metadata": {},
   "outputs": [],
   "source": [
    "# 문자열 연산자, 문자열 자르기, 문자열 길이 구하기"
   ]
  }
 ],
 "metadata": {
  "kernelspec": {
   "display_name": "Python 3 (ipykernel)",
   "language": "python",
   "name": "python3"
  },
  "language_info": {
   "codemirror_mode": {
    "name": "ipython",
    "version": 3
   },
   "file_extension": ".py",
   "mimetype": "text/x-python",
   "name": "python",
   "nbconvert_exporter": "python",
   "pygments_lexer": "ipython3",
   "version": "3.9.12"
  }
 },
 "nbformat": 4,
 "nbformat_minor": 5
}
