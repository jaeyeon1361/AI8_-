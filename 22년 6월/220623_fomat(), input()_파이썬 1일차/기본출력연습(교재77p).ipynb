{
 "cells": [
  {
   "cell_type": "code",
   "execution_count": 1,
   "id": "54a08cc0",
   "metadata": {},
   "outputs": [
    {
     "name": "stdout",
     "output_type": "stream",
     "text": [
      "# 하나만 출력합니다\n",
      "Hello python Programming !\n",
      "\n"
     ]
    }
   ],
   "source": [
    "    print('# 하나만 출력합니다')\n",
    "    print(\"Hello python Programming !\")\n",
    "    print()"
   ]
  },
  {
   "cell_type": "code",
   "execution_count": 2,
   "id": "127d749c",
   "metadata": {},
   "outputs": [
    {
     "name": "stdout",
     "output_type": "stream",
     "text": [
      "# 여러 개를 출력합니다\n",
      "10 20 30 40 50\n",
      "안녕하세요 저의 이름은 송재연입니다!\n",
      "\n"
     ]
    }
   ],
   "source": [
    "# 여러개를 출력합니다\n",
    "print(\"# 여러 개를 출력합니다\")\n",
    "print(10, 20, 30, 40, 50)\n",
    "print(\"안녕하세요\", \"저의\", \"이름은\", \"송재연입니다!\")\n",
    "print()"
   ]
  },
  {
   "cell_type": "code",
   "execution_count": 4,
   "id": "0175062f",
   "metadata": {},
   "outputs": [
    {
     "name": "stdout",
     "output_type": "stream",
     "text": [
      "# 아무것도 출력하지 않습니다.\n",
      "--- 확인 전용선---\n",
      "\n",
      "\n",
      "--- 확인 전용선---\n"
     ]
    }
   ],
   "source": [
    "# 아무것도 입력하지 않으면 단순하게 줄바꿈합니다.\n",
    "print(\"# 아무것도 출력하지 않습니다.\")\n",
    "print(\"--- 확인 전용선---\")\n",
    "print()\n",
    "print()\n",
    "print(\"--- 확인 전용선---\")"
   ]
  },
  {
   "cell_type": "code",
   "execution_count": null,
   "id": "f7b47df3",
   "metadata": {},
   "outputs": [],
   "source": []
  }
 ],
 "metadata": {
  "kernelspec": {
   "display_name": "Python 3 (ipykernel)",
   "language": "python",
   "name": "python3"
  },
  "language_info": {
   "codemirror_mode": {
    "name": "ipython",
    "version": 3
   },
   "file_extension": ".py",
   "mimetype": "text/x-python",
   "name": "python",
   "nbconvert_exporter": "python",
   "pygments_lexer": "ipython3",
   "version": "3.9.12"
  }
 },
 "nbformat": 4,
 "nbformat_minor": 5
}
