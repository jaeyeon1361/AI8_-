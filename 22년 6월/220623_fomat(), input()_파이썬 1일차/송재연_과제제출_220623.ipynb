{
 "cells": [
  {
   "cell_type": "code",
   "execution_count": 1,
   "id": "aca78f33",
   "metadata": {},
   "outputs": [
    {
     "name": "stdout",
     "output_type": "stream",
     "text": [
      "이름\t나이\t지역\n",
      "송재연\t29\t중랑구\n",
      "여동생\t28\t일때문에성남\n"
     ]
    }
   ],
   "source": [
    "# 이스케이프 문자를 활용하여 문자열 만들기 : \\\" -> 일반문자\"\n",
    "# \\t : 탭, \\n : 엔터\n",
    "print(\"이름\\t나이\\t지역\")\n",
    "print(\"송재연\\t29\\t중랑구\")\n",
    "print(\"여동생\\t28\\t일때문에성남\")"
   ]
  },
  {
   "cell_type": "code",
   "execution_count": 1,
   "id": "ed94842d",
   "metadata": {},
   "outputs": [
    {
     "name": "stdout",
     "output_type": "stream",
     "text": [
      "지금 현재 심정을 나타내시오\n",
      "5일만에 파이썬을 끝낸다 했는데 하루만에 130p를 해 충격이다\n"
     ]
    },
    {
     "data": {
      "text/plain": [
       "'5일만에 파이썬을 끝낸다 했는데 하루만에 130p를 해 충격이다'"
      ]
     },
     "execution_count": 1,
     "metadata": {},
     "output_type": "execute_result"
    }
   ],
   "source": [
    "# input() -> 사용자가 입력하는 함수\n",
    "input_str = input(\"지금 현재 심정을 나타내시오\\n\")\n",
    "input_str"
   ]
  },
  {
   "cell_type": "code",
   "execution_count": 3,
   "id": "74fce249",
   "metadata": {},
   "outputs": [
    {
     "name": "stdout",
     "output_type": "stream",
     "text": [
      "아메리카노의 가격1500\n",
      "헤이즐넛의 가격2000\n",
      "카페라떼의 가격3000\n",
      "1500 + 2000 + 3000 = 6500\n"
     ]
    }
   ],
   "source": [
    "# 커피의 세 종류의 값을 설정 후 지불해야할 가격, 입력 받은 두 수를 int로 변환 하고\n",
    "# 커피 값의 총 가격을 구하시오\n",
    "input_a = int(input(\"아메리카노의 가격\"))\n",
    "input_b = int(input(\"헤이즐넛의 가격\"))\n",
    "input_c = int(input(\"카페라떼의 가격\"))\n",
    "print(input_a, \"+\", input_b, \"+\", input_c, \"=\", input_a + input_b + input_c)"
   ]
  },
  {
   "cell_type": "code",
   "execution_count": 7,
   "id": "1e008355",
   "metadata": {},
   "outputs": [
    {
     "name": "stdout",
     "output_type": "stream",
     "text": [
      "커피의 가격은 1500, 2000, 3000 으로, 총 6500이다\n"
     ]
    }
   ],
   "source": [
    "# 위 예제를 통해서 .format()를 이용해서 합을 구해보시오\n",
    "input_d = \"커피의 가격은\"\n",
    "print(\"{} {}, {}, {} 으로, 총 {}이다\".format(input_d, input_a, input_b, input_c, input_a + input_b + input_c))"
   ]
  },
  {
   "cell_type": "code",
   "execution_count": 11,
   "id": "0a701752",
   "metadata": {},
   "outputs": [
    {
     "name": "stdout",
     "output_type": "stream",
     "text": [
      "커피의 가격은 1500원 2000원으로, 총 3500원이다\n"
     ]
    }
   ],
   "source": [
    "# 위 예제를 통해서 아메리카노와 헤이즐 넛만 먹었을 경우를 .format()을 이용해 얼마인지 구하시오\n",
    "print(\"{} {}원 {}원으로, 총 {}원이다\".format(input_d, input_a, input_b, input_a + input_b))"
   ]
  },
  {
   "cell_type": "code",
   "execution_count": null,
   "id": "bace2b2e",
   "metadata": {},
   "outputs": [],
   "source": []
  }
 ],
 "metadata": {
  "kernelspec": {
   "display_name": "Python 3 (ipykernel)",
   "language": "python",
   "name": "python3"
  },
  "language_info": {
   "codemirror_mode": {
    "name": "ipython",
    "version": 3
   },
   "file_extension": ".py",
   "mimetype": "text/x-python",
   "name": "python",
   "nbconvert_exporter": "python",
   "pygments_lexer": "ipython3",
   "version": "3.9.12"
  }
 },
 "nbformat": 4,
 "nbformat_minor": 5
}
