{
 "cells": [
  {
   "cell_type": "code",
   "execution_count": 127,
   "id": "69d3c29c",
   "metadata": {},
   "outputs": [
    {
     "data": {
      "text/plain": [
       "False"
      ]
     },
     "execution_count": 127,
     "metadata": {},
     "output_type": "execute_result"
    }
   ],
   "source": [
    "# 174p 확인문제 1번\n",
    "False\n",
    "True\n",
    "False\n",
    "True\n",
    "True\n",
    "False"
   ]
  },
  {
   "cell_type": "code",
   "execution_count": 7,
   "id": "1a25fb8c",
   "metadata": {},
   "outputs": [],
   "source": [
    "# 174p 확인문제 2번\n",
    "x = 2\n",
    "\n",
    "if x > 4 :\n",
    "     print(\"참입니다.\")"
   ]
  },
  {
   "cell_type": "code",
   "execution_count": 8,
   "id": "aff8d05d",
   "metadata": {},
   "outputs": [],
   "source": [
    "x = 1\n",
    "\n",
    "if x > 4 :\n",
    "     print(\"참입니다.\")"
   ]
  },
  {
   "cell_type": "code",
   "execution_count": 9,
   "id": "30af6cc9",
   "metadata": {},
   "outputs": [
    {
     "name": "stdout",
     "output_type": "stream",
     "text": [
      "참입니다.\n"
     ]
    }
   ],
   "source": [
    "x = 10\n",
    "\n",
    "if x > 4 :\n",
    "     print(\"참입니다.\") # 이므로 답은 3번"
   ]
  },
  {
   "cell_type": "code",
   "execution_count": 26,
   "id": "fd79c45f",
   "metadata": {},
   "outputs": [
    {
     "name": "stdout",
     "output_type": "stream",
     "text": [
      "숫자를 입력하시오 = 3\n",
      "잘 못 된 숫자를 입력하였습니다.\n",
      "잘 못 된 숫자를 입력하였습니다.\n",
      "불입니다.\n"
     ]
    }
   ],
   "source": [
    "input_data = input(\"숫자를 입력하시오 = \")\n",
    "a = 2\n",
    "b = 1\n",
    "c = 10\n",
    "\n",
    "if a > 4 :\n",
    "    print(\"참입니다.\")\n",
    "else : \n",
    "    print(\"잘 못 된 숫자를 입력하였습니다.\")\n",
    "if b > 4 :        \n",
    "    print(\"참입니다.\")\n",
    "else : \n",
    "    print(\"잘 못 된 숫자를 입력하였습니다.\")\n",
    "if c > 4 :\n",
    "    print(\"불입니다.\") # 이므로 답은 3번        \n",
    "else : \n",
    "    print(\"잘 못 된 숫자를 입력하였습니다.\")\n"
   ]
  },
  {
   "cell_type": "code",
   "execution_count": 12,
   "id": "43930138",
   "metadata": {},
   "outputs": [
    {
     "name": "stdout",
     "output_type": "stream",
     "text": [
      "숫자를 입력하시오 = 2\n",
      "불입니다\n"
     ]
    }
   ],
   "source": [
    "input_data = (input(\"숫자를 입력하시오 = \"))\n",
    "\n",
    "if input_data == 1 == 2 == 10 :\n",
    "    print(\"참입니다.\")\n",
    "else : \n",
    "    print(\"불입니다\")"
   ]
  },
  {
   "cell_type": "code",
   "execution_count": null,
   "id": "5b61fc16",
   "metadata": {},
   "outputs": [],
   "source": [
    "# 175p 확인문제 3번\n",
    "# 3-1\n",
    "치킨과 햄버거를 두개를 선택하였으니 or 이다\n",
    "# 3-2\n",
    "=> 조건이 두개 이므로 and\n",
    "# 3-3\n",
    "5 <= 65 이"
   ]
  },
  {
   "cell_type": "code",
   "execution_count": 18,
   "id": "0193b5bf",
   "metadata": {},
   "outputs": [
    {
     "name": "stdout",
     "output_type": "stream",
     "text": [
      "> 1번째 숫자 : 100\n",
      "> 1번째 숫자 : 10\n",
      "\n",
      "처음 입력했단100.0가 10.0보다 더 큽니다.\n"
     ]
    }
   ],
   "source": [
    "# 175p 확인문제 4번\n",
    "a = float(input(\"> 1번째 숫자 : \"))\n",
    "b = float(input(\"> 2번째 숫자 : \"))\n",
    "print()\n",
    "\n",
    "if a > b :\n",
    "    print(\"처음 입력했단{}가 {}보다 더 큽니다.\".format(a, b))\n",
    "if a < b :\n",
    "    print(\"두 번째로 입력했던 {}가 {}보다 더 큽니다.\".format(a, b))\n",
    "\n",
    "# 입력받은 실행결과가 100.0 과 10.0 이므로 아래 처럼 클래스가 float인 것을 확인"
   ]
  },
  {
   "cell_type": "code",
   "execution_count": 19,
   "id": "de0670f1",
   "metadata": {},
   "outputs": [
    {
     "name": "stdout",
     "output_type": "stream",
     "text": [
      "<class 'float'>\n"
     ]
    }
   ],
   "source": [
    "a = 100.0\n",
    "print(type(a))"
   ]
  },
  {
   "cell_type": "code",
   "execution_count": 13,
   "id": "14641aa4",
   "metadata": {},
   "outputs": [
    {
     "name": "stdout",
     "output_type": "stream",
     "text": [
      "12\n"
     ]
    }
   ],
   "source": [
    "# 186p 확인문제 1번\n",
    "x = 2\n",
    "y = 10\n",
    "\n",
    "if x > 4 :\n",
    "    if y > 2:\n",
    "        print(x * y)\n",
    "else :\n",
    "    print(x + y) # if 조건문에 있는 것이 충족되면 곱하고, 아니면 더해라"
   ]
  },
  {
   "cell_type": "code",
   "execution_count": 14,
   "id": "4a65f80e",
   "metadata": {},
   "outputs": [
    {
     "name": "stdout",
     "output_type": "stream",
     "text": [
      "5\n"
     ]
    }
   ],
   "source": [
    "x = 1\n",
    "y = 4\n",
    "\n",
    "if x > 4 :\n",
    "    if y > 2 :\n",
    "        print(x * y)\n",
    "else : \n",
    "    print(x + y)"
   ]
  },
  {
   "cell_type": "code",
   "execution_count": 1,
   "id": "c7c95b10",
   "metadata": {},
   "outputs": [],
   "source": [
    "x = 10\n",
    "y = 2\n",
    "\n",
    "if x > 4 :\n",
    "    if y > 2 :\n",
    "        print(x * y)\n",
    "else : \n",
    "    print(x + y) # 만약 y 의 부등호가 >=, <= 였으면 답은 20이 나올 것 "
   ]
  },
  {
   "cell_type": "code",
   "execution_count": 2,
   "id": "1469b299",
   "metadata": {},
   "outputs": [
    {
     "name": "stdout",
     "output_type": "stream",
     "text": [
      "20\n"
     ]
    }
   ],
   "source": [
    "x = 10\n",
    "y = 2\n",
    "\n",
    "if x > 4 :\n",
    "    if y >= 2 :\n",
    "        print(x * y)\n",
    "else : \n",
    "    print(x + y) # 만약 y 의 부등호가 >=, <= 였으면 답은 20이 나올 것 "
   ]
  },
  {
   "cell_type": "code",
   "execution_count": null,
   "id": "ab894ea0",
   "metadata": {},
   "outputs": [],
   "source": [
    "# 186p 확인문제 2번\n",
    "x = int(input(\"정수를 입력하세요. = \"))\n",
    "\n",
    "if x in range(11, 19) :\n",
    "    print(\"조건에 맞습니다.\")\n",
    "else :\n",
    "    print(\"조건에 맞지 않습니다.\")"
   ]
  },
  {
   "cell_type": "code",
   "execution_count": 9,
   "id": "7ed0285e",
   "metadata": {},
   "outputs": [
    {
     "name": "stdout",
     "output_type": "stream",
     "text": [
      "본인이 태어난 해를 입력해 주세요3\n",
      "돼지 띠 입니다.\n"
     ]
    }
   ],
   "source": [
    "str_input = input(\"본인이 태어난 해를 입력해 주세요\")\n",
    "birth_year = int(str_input) % 12\n",
    "\n",
    "if birth_year == 0 :\n",
    "    print(\"원숭이 띠 입니다.\")\n",
    "elif birth_year == 1 :\n",
    "    print(\"닭 띠 입니다.\")\n",
    "elif birth_year == 2 :\n",
    "    print(\"개 띠 입니다.\")    \n",
    "elif birth_year == 3 :\n",
    "    print(\"돼지 띠 입니다.\")    \n",
    "elif birth_year == 4 :\n",
    "    print(\"쥐 띠 입니다.\")    \n",
    "elif birth_year == 5 :\n",
    "    print(\"소 띠 입니다.\")    \n",
    "elif birth_year == 6 :\n",
    "    print(\"범 띠 입니다.\")    \n",
    "elif birth_year == 7 :\n",
    "    print(\"토끼 띠 입니다.\")    \n",
    "elif birth_year == 8 :\n",
    "    print(\"용 띠 입니다.\")    \n",
    "elif birth_year == 9 :\n",
    "    print(\"뱀 띠 입니다.\")    \n",
    "elif birth_year == 10 :\n",
    "    print(\"말 띠 입니다.\")     \n",
    "elif birth_year == 11:\n",
    "    print(\"양 띠 입니다.\")    "
   ]
  },
  {
   "cell_type": "code",
   "execution_count": 13,
   "id": "eab9e334",
   "metadata": {},
   "outputs": [
    {
     "name": "stdout",
     "output_type": "stream",
     "text": [
      "물어보고 싶은 걸 물어봐요 => 몇 시야\n",
      "지금 시간은 22 시 23 분 이야.\n"
     ]
    }
   ],
   "source": [
    "# 188p 도전문제\n",
    "import datetime\n",
    "input_data = input(\"물어보고 싶은 걸 물어봐요 => \")\n",
    "now = datetime.datetime.now()\n",
    "\n",
    "if \"안녕\" in input_data :\n",
    "    print(\" > 안녕\")\n",
    "\n",
    "elif \"몇 시\" in input_data :  \n",
    "    print(f\"지금 시간은 {now.hour} 시 {now.minute} 분 이야.\")  \n",
    "else : \n",
    "    print(\"현재 구현이 안됐습니다.\")\n"
   ]
  },
  {
   "cell_type": "code",
   "execution_count": 5,
   "id": "9e8fb4aa",
   "metadata": {},
   "outputs": [
    {
     "name": "stdout",
     "output_type": "stream",
     "text": [
      "정수를 입력하세요. = 273\n",
      "273는 2으로 나누어 떨어지는 숫자가 아닙니다.\n",
      "273는 3으로 나누어 떨어집니다.\n",
      "273는 3으로 나누어 떨어지는 숫자가 아닙니다.\n",
      "273는 2으로 나누어 떨어지는 숫자가 아닙니다.\n",
      "\n"
     ]
    }
   ],
   "source": [
    "# 189p 도전문제 2번\n",
    "input_data = int(input(\"정수를 입력하세요. = \"))\n",
    "\n",
    "if input_data % 2 == 0 :\n",
    "    print(f'{input_data}는 2으로 나누어 떨어집니다.')\n",
    "else :\n",
    "    print(f'{input_data}는 2으로 나누어 떨어지는 숫자가 아닙니다.')\n",
    "        \n",
    "if input_data % 3 == 0 :\n",
    "    print(f'{input_data}는 3으로 나누어 떨어집니다.')\n",
    "else :\n",
    "    print(f'{input_data}는 3으로 나누어 떨어지는 숫자가 아닙니다.')    \n",
    "    \n",
    "if input_data % 4 == 0 :\n",
    "    print(f'{input_data}는 3으로 나누어 떨어집니다.')\n",
    "else :\n",
    "    print(f'{input_data}는 3으로 나누어 떨어지는 숫자가 아닙니다.')    \n",
    "    \n",
    "if input_data % 5 == 0 :\n",
    "    print(f'{input_data}는 2으로 나누어 떨어집니다.')\n",
    "else :\n",
    "    print(f'{input_data}는 2으로 나누어 떨어지는 숫자가 아닙니다.')    \n",
    "print()\n",
    "    "
   ]
  },
  {
   "cell_type": "code",
   "execution_count": 19,
   "id": "77d13322",
   "metadata": {},
   "outputs": [
    {
     "name": "stdout",
     "output_type": "stream",
     "text": [
      "[0, 1, 2, 3, 4, 5, 6, 7]\n"
     ]
    }
   ],
   "source": [
    "# 213p 확인문제 1번\n",
    "list_a = [0, 1, 2, 3, 4, 5, 6, 7]\n",
    "print(list_a)"
   ]
  },
  {
   "cell_type": "code",
   "execution_count": 20,
   "id": "d379f02c",
   "metadata": {},
   "outputs": [
    {
     "name": "stdout",
     "output_type": "stream",
     "text": [
      "[0, 1, 2, 3, 4, 5, 6, 7, 0, 1, 2, 3, 4, 5, 6, 7]\n"
     ]
    }
   ],
   "source": [
    "list_a = [0, 1, 2, 3 ,4 ,5, 6, 7]\n",
    "\n",
    "list_a.extend(list_a)\n",
    "print(list_a)"
   ]
  },
  {
   "cell_type": "code",
   "execution_count": 21,
   "id": "2196b1c7",
   "metadata": {},
   "outputs": [
    {
     "name": "stdout",
     "output_type": "stream",
     "text": [
      "[0, 1, 2, 3, 4, 5, 6, 7, 10]\n"
     ]
    }
   ],
   "source": [
    "list_a = [0, 1, 2, 3 ,4 ,5, 6, 7]\n",
    "\n",
    "list_a.append(10)\n",
    "print(list_a)"
   ]
  },
  {
   "cell_type": "code",
   "execution_count": 22,
   "id": "22c80c87",
   "metadata": {},
   "outputs": [
    {
     "name": "stdout",
     "output_type": "stream",
     "text": [
      "[0, 1, 2, 0, 3, 4, 5, 6, 7]\n"
     ]
    }
   ],
   "source": [
    "list_a = [0, 1, 2, 3 ,4 ,5, 6, 7]\n",
    "\n",
    "list_a.insert(3, 0)\n",
    "print(list_a)"
   ]
  },
  {
   "cell_type": "code",
   "execution_count": 23,
   "id": "cf2c4fa3",
   "metadata": {},
   "outputs": [
    {
     "name": "stdout",
     "output_type": "stream",
     "text": [
      "[0, 1, 2, 4, 5, 6, 7]\n"
     ]
    }
   ],
   "source": [
    "list_a = [0, 1, 2, 3 ,4 ,5, 6, 7]\n",
    "\n",
    "list_a.remove(3)\n",
    "print(list_a)"
   ]
  },
  {
   "cell_type": "code",
   "execution_count": 24,
   "id": "21adba3e",
   "metadata": {},
   "outputs": [
    {
     "name": "stdout",
     "output_type": "stream",
     "text": [
      "[0, 1, 2, 4, 5, 6, 7]\n"
     ]
    }
   ],
   "source": [
    "list_a = [0, 1, 2, 3 ,4 ,5, 6, 7]\n",
    "\n",
    "list_a.pop(3)\n",
    "print(list_a)"
   ]
  },
  {
   "cell_type": "code",
   "execution_count": 27,
   "id": "9846e068",
   "metadata": {},
   "outputs": [
    {
     "name": "stdout",
     "output_type": "stream",
     "text": [
      "[]\n"
     ]
    }
   ],
   "source": [
    "list_a = [0, 1, 2, 3 ,4 ,5, 6, 7]\n",
    "\n",
    "list_a.clear()\n",
    "print(list_a)"
   ]
  },
  {
   "cell_type": "code",
   "execution_count": 31,
   "id": "ee8734ad",
   "metadata": {},
   "outputs": [
    {
     "name": "stdout",
     "output_type": "stream",
     "text": [
      " - 100 이상의 수 :  273\n",
      " - 100 이상의 수 :  103\n",
      " - 100 이상의 수 :  800\n"
     ]
    }
   ],
   "source": [
    "# 214p 확인문제 2번\n",
    "list_a  = [273, 103, 5, 32, 65, 9, 72, 800, 99]\n",
    "\n",
    "for number in list_a :\n",
    "    if number >= 100 :\n",
    "        print(\" - 100 이상의 수 : \", number)"
   ]
  },
  {
   "cell_type": "code",
   "execution_count": 131,
   "id": "9de0479f",
   "metadata": {},
   "outputs": [
    {
     "name": "stdout",
     "output_type": "stream",
     "text": [
      "273 는 홀수입니다.\n",
      "103 는 홀수입니다.\n",
      "5 는 홀수입니다.\n",
      "32 는 짝수입니다.\n",
      "65 는 홀수입니다.\n",
      "9 는 홀수입니다.\n",
      "72 는 짝수입니다.\n",
      "800 는 짝수입니다.\n",
      "99 는 홀수입니다.\n"
     ]
    }
   ],
   "source": [
    "# 214p 확인문제 3번\n",
    "list_a  = [273, 103, 5, 32, 65, 9, 72, 800, 99]\n",
    "\n",
    "for number in list_a : \n",
    "    if number % 2 == 1 :\n",
    "        print(number, \"는 홀수입니다.\")\n",
    "    else :\n",
    "        print(number, \"는 짝수입니다.\")"
   ]
  },
  {
   "cell_type": "code",
   "execution_count": 132,
   "id": "f2649caa",
   "metadata": {},
   "outputs": [
    {
     "name": "stdout",
     "output_type": "stream",
     "text": [
      "273 는 3 자릿수입니다.\n",
      "103 는 3 자릿수입니다.\n",
      "5 는 1 자릿수입니다.\n",
      "32 는 2 자릿수입니다.\n",
      "65 는 2 자릿수입니다.\n",
      "9 는 1 자릿수입니다.\n",
      "72 는 2 자릿수입니다.\n",
      "800 는 3 자릿수입니다.\n",
      "99 는 2 자릿수입니다.\n"
     ]
    }
   ],
   "source": [
    "list_a  = [273, 103, 5, 32, 65, 9, 72, 800, 99]\n",
    "\n",
    "for number in list_a : \n",
    "    print(number, \"는\", len(str(number)), \"자릿수입니다.\")"
   ]
  },
  {
   "cell_type": "code",
   "execution_count": 133,
   "id": "f3b1d441",
   "metadata": {},
   "outputs": [
    {
     "name": "stdout",
     "output_type": "stream",
     "text": [
      "[[1, 4, 7], [2, 5, 8], [3, 6, 9]]\n"
     ]
    }
   ],
   "source": [
    " # 215p 확인문제 4번\n",
    "numbers = [1, 2, 3, 4, 5, 6, 7, 8, 9]\n",
    "output = [[], [], []]\n",
    "\n",
    "for number in numbers :\n",
    "    output[(number + 2) %  3].append(number)\n",
    "    \n",
    "print(output)"
   ]
  },
  {
   "cell_type": "code",
   "execution_count": 136,
   "id": "ca1f5fca",
   "metadata": {},
   "outputs": [
    {
     "name": "stdout",
     "output_type": "stream",
     "text": [
      "i = 0, j = 1\n",
      "i = 1, j = 3\n",
      "i = 2, j = 5\n",
      "i = 3, j = 7\n",
      "[1, 4, 3, 16, 5, 36, 7, 64, 9]\n"
     ]
    }
   ],
   "source": [
    " # 215p 확인문제 5번\n",
    "numbers = [1, 2, 3, 4, 5, 6, 7 ,8 ,9]\n",
    "\n",
    "for i in range(0, len(numbers) // 2) :\n",
    "    j = (i * 2) +1\n",
    "    print(f'i = {i}, j = {j}')\n",
    "    numbers[j] = numbers[j] ** 2\n",
    "    \n",
    "print(numbers)"
   ]
  },
  {
   "cell_type": "code",
   "execution_count": null,
   "id": "2183dd12",
   "metadata": {},
   "outputs": [],
   "source": []
  }
 ],
 "metadata": {
  "kernelspec": {
   "display_name": "Python 3 (ipykernel)",
   "language": "python",
   "name": "python3"
  },
  "language_info": {
   "codemirror_mode": {
    "name": "ipython",
    "version": 3
   },
   "file_extension": ".py",
   "mimetype": "text/x-python",
   "name": "python",
   "nbconvert_exporter": "python",
   "pygments_lexer": "ipython3",
   "version": "3.9.12"
  }
 },
 "nbformat": 4,
 "nbformat_minor": 5
}
