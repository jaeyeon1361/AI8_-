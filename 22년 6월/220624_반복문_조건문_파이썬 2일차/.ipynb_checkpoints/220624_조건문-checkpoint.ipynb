{
 "cells": [
  {
   "cell_type": "code",
   "execution_count": null,
   "id": "8b1d8cda",
   "metadata": {},
   "outputs": [],
   "source": [
    "# 문자열 관련 함수"
   ]
  },
  {
   "cell_type": "code",
   "execution_count": 1,
   "id": "97657409",
   "metadata": {},
   "outputs": [
    {
     "data": {
      "text/plain": [
       "int"
      ]
     },
     "execution_count": 1,
     "metadata": {},
     "output_type": "execute_result"
    }
   ],
   "source": [
    "type(123)"
   ]
  },
  {
   "cell_type": "code",
   "execution_count": 3,
   "id": "028855a2",
   "metadata": {},
   "outputs": [
    {
     "data": {
      "text/plain": [
       "float"
      ]
     },
     "execution_count": 3,
     "metadata": {},
     "output_type": "execute_result"
    }
   ],
   "source": [
    "type(1.23)"
   ]
  },
  {
   "cell_type": "code",
   "execution_count": 4,
   "id": "d2b217e1",
   "metadata": {},
   "outputs": [
    {
     "data": {
      "text/plain": [
       "str"
      ]
     },
     "execution_count": 4,
     "metadata": {},
     "output_type": "execute_result"
    }
   ],
   "source": [
    "type(\"안녕하세요\")"
   ]
  },
  {
   "cell_type": "code",
   "execution_count": 4,
   "id": "e4b8c05e",
   "metadata": {},
   "outputs": [
    {
     "name": "stdout",
     "output_type": "stream",
     "text": [
      "HELLO PYTHON PROGRAMING !!!\n",
      "hello python programing !!!\n"
     ]
    }
   ],
   "source": [
    "# upper() / lower()\n",
    "# 변수를 지정해주고, 해당 변수를 대문자나 소문자로 바꿔줌 _ 교재141p\n",
    "a = \"Hello python Programing !!!\"\n",
    "print(a.upper())\n",
    "print(a.lower())"
   ]
  },
  {
   "cell_type": "code",
   "execution_count": 6,
   "id": "ad8ea3a2",
   "metadata": {
    "scrolled": true
   },
   "outputs": [
    {
     "name": "stdout",
     "output_type": "stream",
     "text": [
      "lstrip() -> /Hello World Python !!/\n",
      "strip() -> /Hello World Python !!/\n",
      "rstrip() -> /Hello World Python !!/\n"
     ]
    }
   ],
   "source": [
    "# 문자열.strip() : 양쪽 문자열의 공백제거\n",
    "# 문자열.lstrip() : 왼쪽 문자열의 공백제거\n",
    "# 문자열.rstrip() : 왼쪽 문자열의 공백제거\n",
    "a_str = \"  Hello World Python !!  \"\n",
    "print(\"lstrip() -> /{}/\".format(a_str.strip()))\n",
    "print(\"strip() -> /{}/\".format(a_str.strip()))\n",
    "print(\"rstrip() -> /{}/\".format(a_str.strip()))"
   ]
  },
  {
   "cell_type": "code",
   "execution_count": 7,
   "id": "02dbd392",
   "metadata": {},
   "outputs": [],
   "source": [
    "a_str = 'abcd 12341234'\n",
    "print = a_str.isalnum() # False\n",
    "b_str = 'abcd12341234'\n",
    "print = b_str.isalnum() # True"
   ]
  },
  {
   "cell_type": "code",
   "execution_count": 12,
   "id": "07fe5977",
   "metadata": {},
   "outputs": [
    {
     "data": {
      "text/plain": [
       "'Python'"
      ]
     },
     "execution_count": 12,
     "metadata": {},
     "output_type": "execute_result"
    }
   ],
   "source": [
    "# find(), rfind() 위치반환\n",
    "a_str = \"Hello Python Programing\"\n",
    "# Python만 출력\n",
    "a_str[ a_str.find(' ')+1 : a_str.rfind(' ')]"
   ]
  },
  {
   "cell_type": "code",
   "execution_count": 10,
   "id": "7438a947",
   "metadata": {},
   "outputs": [
    {
     "data": {
      "text/plain": [
       "False"
      ]
     },
     "execution_count": 10,
     "metadata": {},
     "output_type": "execute_result"
    }
   ],
   "source": [
    "a = \"123 4\"\n",
    "a.isalpha()"
   ]
  },
  {
   "cell_type": "code",
   "execution_count": 1,
   "id": "60a6a42d",
   "metadata": {},
   "outputs": [
    {
     "name": "stdout",
     "output_type": "stream",
     "text": [
      "True\n"
     ]
    }
   ],
   "source": [
    "print(\"안녕\" in \"안녕하세요\")"
   ]
  },
  {
   "cell_type": "code",
   "execution_count": 8,
   "id": "e46e92ee",
   "metadata": {},
   "outputs": [
    {
     "data": {
      "text/plain": [
       "['hello', 'hello', 'Python']"
      ]
     },
     "execution_count": 8,
     "metadata": {},
     "output_type": "execute_result"
    }
   ],
   "source": [
    "# split() _ 분리하고자 하는 문자, 공백은 생략가능\n",
    "a_str = \"hello hello Python \"\n",
    "a_str.split() # list랑 같음"
   ]
  },
  {
   "cell_type": "code",
   "execution_count": 3,
   "id": "108684cd",
   "metadata": {},
   "outputs": [
    {
     "data": {
      "text/plain": [
       "['안녕하세요', '저는', '송재연', '입니다']"
      ]
     },
     "execution_count": 3,
     "metadata": {},
     "output_type": "execute_result"
    }
   ],
   "source": [
    "b_str = \"안녕하세요 저는 송재연 입니다\"\n",
    "b_str.split()"
   ]
  },
  {
   "cell_type": "code",
   "execution_count": 4,
   "id": "fde75367",
   "metadata": {},
   "outputs": [
    {
     "data": {
      "text/plain": [
       "'안녕하세요'"
      ]
     },
     "execution_count": 4,
     "metadata": {},
     "output_type": "execute_result"
    }
   ],
   "source": [
    "b_str.split()[0]"
   ]
  },
  {
   "cell_type": "code",
   "execution_count": 5,
   "id": "d3cf8d0e",
   "metadata": {},
   "outputs": [
    {
     "data": {
      "text/plain": [
       "'저는'"
      ]
     },
     "execution_count": 5,
     "metadata": {},
     "output_type": "execute_result"
    }
   ],
   "source": [
    "b_str.split()[1]"
   ]
  },
  {
   "cell_type": "code",
   "execution_count": 6,
   "id": "a5dda00e",
   "metadata": {},
   "outputs": [
    {
     "data": {
      "text/plain": [
       "'송재연'"
      ]
     },
     "execution_count": 6,
     "metadata": {},
     "output_type": "execute_result"
    }
   ],
   "source": [
    "b_str.split()[2]"
   ]
  },
  {
   "cell_type": "code",
   "execution_count": 7,
   "id": "04fcd112",
   "metadata": {},
   "outputs": [
    {
     "data": {
      "text/plain": [
       "'입니다'"
      ]
     },
     "execution_count": 7,
     "metadata": {},
     "output_type": "execute_result"
    }
   ],
   "source": [
    "b_str.split()[3]"
   ]
  },
  {
   "cell_type": "code",
   "execution_count": 10,
   "id": "5361e74a",
   "metadata": {},
   "outputs": [
    {
     "data": {
      "text/plain": [
       "' 3 + 4 = 7'"
      ]
     },
     "execution_count": 10,
     "metadata": {},
     "output_type": "execute_result"
    }
   ],
   "source": [
    "\" 3 + 4 = {}\".format(3+4)"
   ]
  },
  {
   "cell_type": "code",
   "execution_count": 15,
   "id": "32928d15",
   "metadata": {},
   "outputs": [
    {
     "data": {
      "text/plain": [
       "'3 + 4 = 7'"
      ]
     },
     "execution_count": 15,
     "metadata": {},
     "output_type": "execute_result"
    }
   ],
   "source": [
    "## f'문자열{}문자열'\n",
    "f'3 + 4 = {3+4}'"
   ]
  },
  {
   "cell_type": "code",
   "execution_count": 18,
   "id": "7a9fcfea",
   "metadata": {},
   "outputs": [
    {
     "name": "stdout",
     "output_type": "stream",
     "text": [
      "True 출력\n"
     ]
    }
   ],
   "source": [
    "## 불 자료형과 if 조건문\n",
    "# True, False, and, or, not, ==, !=, >, <, >=, <=\n",
    "# if 표현식 : \n",
    "if True :\n",
    "    print(\"True 출력\") # 실행\n",
    "    \n",
    "if False : \n",
    "    print(\"False 출력\") # 실행 안됨"
   ]
  },
  {
   "cell_type": "code",
   "execution_count": 2,
   "id": "ff1e6eb2",
   "metadata": {},
   "outputs": [
    {
     "name": "stdout",
     "output_type": "stream",
     "text": [
      "숫자를 입력하시오 = 싫어요\n",
      "왜 말 안들으세요\n"
     ]
    }
   ],
   "source": [
    "# 키보드에서 자료를 입력 받아 숫자이면 '입력 받은 자료는 숫자'\n",
    "# 문자이면 '입력 받은 자료는 문자 출력'\n",
    "a_str = input(\"숫자를 입력하시오 = \")\n",
    "if a_str.isnumeric() :\n",
    "    print(\"잘 하셨습니다\")\n",
    "# 숫자 입력하면 \"잘 하셨습니다\" 출력\n",
    "if not a_str.isnumeric() :\n",
    "    print(\"왜 말 안들으세요?\")\n",
    "# 문자 입력하면 \"왜 말 안들으세요?\" 출력\n",
    "# isnumeric 숫자인지 아닌지"
   ]
  },
  {
   "cell_type": "code",
   "execution_count": 1,
   "id": "c21f7750",
   "metadata": {},
   "outputs": [
    {
     "name": "stdout",
     "output_type": "stream",
     "text": [
      "자료 입력 = 123\n",
      "입력 받은 자료는 숫자123\n"
     ]
    }
   ],
   "source": [
    "# [강사님]\n",
    "input_data = input(\"자료 입력 = \")\n",
    "if input_data.isnumeric() :\n",
    "    print('입력 받은 자료는 숫자{}'.format(input_data))\n",
    "if not input_data.isnumeric() :\n",
    "    print('입력 받은 자료는 문자{}'.format(input_data))"
   ]
  },
  {
   "cell_type": "code",
   "execution_count": 8,
   "id": "6c91d26f",
   "metadata": {},
   "outputs": [
    {
     "name": "stdout",
     "output_type": "stream",
     "text": [
      "2022년 6월 24일 10시 44분 0초\n"
     ]
    }
   ],
   "source": [
    "# 165p _ 날짜 / 시간 활용하기 : datetime 모듈 소스에 삽입\n",
    "# import 모듈명\n",
    "import datetime\n",
    "\n",
    "now = datetime.datetime.now()\n",
    "print(\"{}년 {}월 {}일 {}시 {}분 {}초\".format(now.year, now.month, now.day, now.hour, now.minute, now.second\n",
    "                                          ))"
   ]
  },
  {
   "cell_type": "code",
   "execution_count": 9,
   "id": "3cfe9f1c",
   "metadata": {},
   "outputs": [
    {
     "name": "stdout",
     "output_type": "stream",
     "text": [
      "현재 시간은 10시로 오전입니다\n"
     ]
    }
   ],
   "source": [
    "if now.hour < 12 :\n",
    "    print('현재 시간은 {}시로 오전입니다'.format(now.hour))"
   ]
  },
  {
   "cell_type": "code",
   "execution_count": 15,
   "id": "61c6e2d6",
   "metadata": {},
   "outputs": [
    {
     "name": "stdout",
     "output_type": "stream",
     "text": [
      "오늘 몇월이에요?3\n"
     ]
    },
    {
     "ename": "NameError",
     "evalue": "name 'datetime' is not defined",
     "output_type": "error",
     "traceback": [
      "\u001b[1;31m---------------------------------------------------------------------------\u001b[0m",
      "\u001b[1;31mNameError\u001b[0m                                 Traceback (most recent call last)",
      "Input \u001b[1;32mIn [15]\u001b[0m, in \u001b[0;36m<cell line: 3>\u001b[1;34m()\u001b[0m\n\u001b[0;32m      1\u001b[0m \u001b[38;5;66;03m# 3월~5월은 봄, 6~8월은 여름, 9~11월은 가을, 12~2월은 겨울\u001b[39;00m\n\u001b[0;32m      2\u001b[0m a \u001b[38;5;241m=\u001b[39m \u001b[38;5;28minput\u001b[39m(\u001b[38;5;124m\"\u001b[39m\u001b[38;5;124m오늘 몇월이에요?\u001b[39m\u001b[38;5;124m\"\u001b[39m)\n\u001b[1;32m----> 3\u001b[0m now \u001b[38;5;241m=\u001b[39m \u001b[43mdatetime\u001b[49m\u001b[38;5;241m.\u001b[39mdatetime\u001b[38;5;241m.\u001b[39mnow()\n\u001b[0;32m      4\u001b[0m \u001b[38;5;28;01mif\u001b[39;00m \u001b[38;5;241m3\u001b[39m \u001b[38;5;241m<\u001b[39m\u001b[38;5;241m=\u001b[39m now\u001b[38;5;241m.\u001b[39mmonth \u001b[38;5;241m<\u001b[39m\u001b[38;5;241m=\u001b[39m \u001b[38;5;241m5\u001b[39m :\n\u001b[0;32m      5\u001b[0m     \u001b[38;5;28mprint\u001b[39m(\u001b[38;5;124m\"\u001b[39m\u001b[38;5;132;01m{}\u001b[39;00m\u001b[38;5;124m월은 봄입니다\u001b[39m\u001b[38;5;124m\"\u001b[39m\u001b[38;5;241m.\u001b[39mformat(now\u001b[38;5;241m.\u001b[39mmonth))\n",
      "\u001b[1;31mNameError\u001b[0m: name 'datetime' is not defined"
     ]
    }
   ],
   "source": [
    "# 3월~5월은 봄, 6~8월은 여름, 9~11월은 가을, 12~2월은 겨울\n",
    "a = input(\"오늘 몇월이에요?\")\n",
    "now = datetime.datetime.now()\n",
    "if 3 <= now.month <= 5 :\n",
    "    print(\"{}월은 봄입니다\".format(now.month))"
   ]
  },
  {
   "cell_type": "code",
   "execution_count": 13,
   "id": "6bfa79e7",
   "metadata": {},
   "outputs": [
    {
     "ename": "NameError",
     "evalue": "name 'now' is not defined",
     "output_type": "error",
     "traceback": [
      "\u001b[1;31m---------------------------------------------------------------------------\u001b[0m",
      "\u001b[1;31mNameError\u001b[0m                                 Traceback (most recent call last)",
      "Input \u001b[1;32mIn [13]\u001b[0m, in \u001b[0;36m<cell line: 1>\u001b[1;34m()\u001b[0m\n\u001b[1;32m----> 1\u001b[0m \u001b[38;5;28;01mif\u001b[39;00m \u001b[38;5;241m3\u001b[39m \u001b[38;5;241m<\u001b[39m\u001b[38;5;241m=\u001b[39m \u001b[43mnow\u001b[49m\u001b[38;5;241m.\u001b[39mmonth() \u001b[38;5;241m<\u001b[39m\u001b[38;5;241m=\u001b[39m \u001b[38;5;241m5\u001b[39m :\n\u001b[0;32m      2\u001b[0m     \u001b[38;5;28mprint\u001b[39m(\u001b[38;5;124m\"\u001b[39m\u001b[38;5;132;01m{}\u001b[39;00m\u001b[38;5;124m월은 봄입니다\u001b[39m\u001b[38;5;124m\"\u001b[39m\u001b[38;5;241m.\u001b[39mformat(now\u001b[38;5;241m.\u001b[39mmonth))\n",
      "\u001b[1;31mNameError\u001b[0m: name 'now' is not defined"
     ]
    }
   ],
   "source": [
    "if 3 <= now.month() <= 5 :\n",
    "    print(\"{}월은 봄입니다\".format(now.month))"
   ]
  },
  {
   "cell_type": "code",
   "execution_count": 18,
   "id": "505dcca9",
   "metadata": {},
   "outputs": [
    {
     "ename": "SyntaxError",
     "evalue": "invalid syntax (914873685.py, line 4)",
     "output_type": "error",
     "traceback": [
      "\u001b[1;36m  Input \u001b[1;32mIn [18]\u001b[1;36m\u001b[0m\n\u001b[1;33m    if last_num == 0 or last_num == 2 or last_num == 4 or last_num == 6 or last_num == 8 or last_num\u001b[0m\n\u001b[1;37m                                                                                                    ^\u001b[0m\n\u001b[1;31mSyntaxError\u001b[0m\u001b[1;31m:\u001b[0m invalid syntax\n"
     ]
    }
   ],
   "source": [
    "# 정수를 입력 받아 입력된 숫자가 짝수인지 홀수인지 출력\n",
    "a_data = int(input(\"정수를 입력하시오 = \"))\n",
    "last_num = int(input_num[-1])\n",
    "if last_num == 0 or last_num == 2 or last_num == 4 or last_num == 6 or last_num == 8 or last_num\n",
    "    print(\"{}\".format(2))\n",
    "# 1. 입력된 마지막 문자를 숫자로 변경 후 0, 2, 4, 8 이면 짝수\n",
    "# 2. 입력된 마지막 문자를 숫자로 변경 후 1, 3, 5, 7, 9 이면 홀수\n",
    "# 입력된 문자를 숫자로 변경 후 2나눈 나머지 값이 0이면 짝수, 1이면 홀수\n"
   ]
  },
  {
   "cell_type": "code",
   "execution_count": 11,
   "id": "c27fc697",
   "metadata": {},
   "outputs": [
    {
     "name": "stdout",
     "output_type": "stream",
     "text": [
      "정수를 입력하시오0\n"
     ]
    },
    {
     "ename": "TypeError",
     "evalue": "'int' object is not subscriptable",
     "output_type": "error",
     "traceback": [
      "\u001b[1;31m---------------------------------------------------------------------------\u001b[0m",
      "\u001b[1;31mTypeError\u001b[0m                                 Traceback (most recent call last)",
      "Input \u001b[1;32mIn [11]\u001b[0m, in \u001b[0;36m<cell line: 2>\u001b[1;34m()\u001b[0m\n\u001b[0;32m      1\u001b[0m input_num \u001b[38;5;241m=\u001b[39m \u001b[38;5;28mint\u001b[39m(\u001b[38;5;28minput\u001b[39m(\u001b[38;5;124m\"\u001b[39m\u001b[38;5;124m정수를 입력하시오\u001b[39m\u001b[38;5;124m\"\u001b[39m))\n\u001b[1;32m----> 2\u001b[0m last_char \u001b[38;5;241m=\u001b[39m \u001b[43minput_num\u001b[49m\u001b[43m[\u001b[49m\u001b[38;5;241;43m-\u001b[39;49m\u001b[38;5;241;43m1\u001b[39;49m\u001b[43m]\u001b[49m\n\u001b[0;32m      3\u001b[0m \u001b[38;5;28;01mif\u001b[39;00m last_char \u001b[38;5;129;01min\u001b[39;00m \u001b[38;5;124m'\u001b[39m\u001b[38;5;124m02468\u001b[39m\u001b[38;5;124m'\u001b[39m : \n\u001b[0;32m      4\u001b[0m     \u001b[38;5;28mprint\u001b[39m(\u001b[38;5;124m\"\u001b[39m\u001b[38;5;132;01m{}\u001b[39;00m\u001b[38;5;124m입력한 숫자 \u001b[39m\u001b[38;5;132;01m{}\u001b[39;00m\u001b[38;5;124m은 짝수 입니다.\u001b[39m\u001b[38;5;124m\"\u001b[39m\u001b[38;5;241m.\u001b[39mformat(input_num, last_char))\n",
      "\u001b[1;31mTypeError\u001b[0m: 'int' object is not subscriptable"
     ]
    }
   ],
   "source": [
    "input_num = int(input(\"정수를 입력하시오\"))\n",
    "last_char = input_num[-1]\n",
    "if last_char in '02468' : \n",
    "    print(\"{}입력한 숫자 {}은 짝수 입니다.\".format(input_num, last_char))"
   ]
  },
  {
   "cell_type": "code",
   "execution_count": null,
   "id": "bc6d6fb4",
   "metadata": {},
   "outputs": [],
   "source": [
    "input_num = input(\"정수를 입력하시오\")\n",
    "    "
   ]
  },
  {
   "cell_type": "code",
   "execution_count": 1,
   "id": "c5796f9c",
   "metadata": {},
   "outputs": [],
   "source": [
    "num = 0 \n",
    "if num : \n",
    "    print(\"{}은 0이 아닙니다\".format(num))"
   ]
  },
  {
   "cell_type": "code",
   "execution_count": 10,
   "id": "50de5672",
   "metadata": {},
   "outputs": [
    {
     "name": "stdout",
     "output_type": "stream",
     "text": [
      "정수입력 = 3\n",
      "입력한 숫자 3는 홀수입니다.\n"
     ]
    }
   ],
   "source": [
    "input_num = input(\"정수입력 = \")\n",
    "input_num = int(input_num)\n",
    "if input_num % 2 == 0 :\n",
    "    print(\"입력한 숫자 {}는 짝수입니다.\".format(input_num))\n",
    "else :\n",
    "    print(\"입력한 숫자 {}는 홀수입니다.\".format(input_num))"
   ]
  },
  {
   "cell_type": "code",
   "execution_count": 2,
   "id": "d8016d2d",
   "metadata": {},
   "outputs": [
    {
     "ename": "NameError",
     "evalue": "name 'datetime' is not defined",
     "output_type": "error",
     "traceback": [
      "\u001b[1;31m---------------------------------------------------------------------------\u001b[0m",
      "\u001b[1;31mNameError\u001b[0m                                 Traceback (most recent call last)",
      "Input \u001b[1;32mIn [2]\u001b[0m, in \u001b[0;36m<cell line: 1>\u001b[1;34m()\u001b[0m\n\u001b[1;32m----> 1\u001b[0m now \u001b[38;5;241m=\u001b[39m \u001b[43mdatetime\u001b[49m\u001b[38;5;241m.\u001b[39mdatetime\u001b[38;5;241m.\u001b[39mnow()\n",
      "\u001b[1;31mNameError\u001b[0m: name 'datetime' is not defined"
     ]
    }
   ],
   "source": [
    "now = datetime.datetime.now()"
   ]
  },
  {
   "cell_type": "code",
   "execution_count": 3,
   "id": "dde1984a",
   "metadata": {},
   "outputs": [
    {
     "name": "stdout",
     "output_type": "stream",
     "text": [
      "숫자를 입력하세요 = 2\n",
      "2는 짝수입니다.\n"
     ]
    }
   ],
   "source": [
    "# 자료를 입력받아 정수이면 짝수인지 확인하고 짝수 출력\n",
    "input_data = int(input(\"숫자를 입력하세요 = \"))\n",
    "if input_data : \n",
    "    print(\"{}는 짝수입니다.\".format(input_data))\n",
    "else :\n",
    "    print(\"{}는 홀수입니다.\".format(input_data))\n",
    "# 정수가 아니면 마지막 문자 출력"
   ]
  },
  {
   "cell_type": "code",
   "execution_count": 7,
   "id": "3bc417a5",
   "metadata": {},
   "outputs": [
    {
     "name": "stdout",
     "output_type": "stream",
     "text": [
      "자료를 입력하세요 = 55\n",
      "입력받은 55는 홀수입니다.\n"
     ]
    }
   ],
   "source": [
    "# [강사님]\n",
    "input_str = input(\"자료를 입력하세요 = \")\n",
    "# 자료입력\n",
    "# 정수인지 확인 후 짝수 홀수 check, 아니면 마지막 문자 출력\n",
    "if input_str.isdecimal() : \n",
    "    if input_str[-1] in '02468' :\n",
    "        print(\"입력받은 {}는 짝수입니다.\".format(input_str))\n",
    "    else :\n",
    "        print(\"입력받은 {}는 홀수입니다.\".format(input_str))\n",
    "else :\n",
    "    print(\"입력 받은 {}의 마지막 문자는 {}\".format(input_str, input_str[-1]))\n",
    "# 정수가 아니면 마지막 문자 출력"
   ]
  },
  {
   "cell_type": "code",
   "execution_count": null,
   "id": "dc715fb1",
   "metadata": {},
   "outputs": [],
   "source": []
  }
 ],
 "metadata": {
  "kernelspec": {
   "display_name": "Python 3 (ipykernel)",
   "language": "python",
   "name": "python3"
  },
  "language_info": {
   "codemirror_mode": {
    "name": "ipython",
    "version": 3
   },
   "file_extension": ".py",
   "mimetype": "text/x-python",
   "name": "python",
   "nbconvert_exporter": "python",
   "pygments_lexer": "ipython3",
   "version": "3.9.12"
  }
 },
 "nbformat": 4,
 "nbformat_minor": 5
}
