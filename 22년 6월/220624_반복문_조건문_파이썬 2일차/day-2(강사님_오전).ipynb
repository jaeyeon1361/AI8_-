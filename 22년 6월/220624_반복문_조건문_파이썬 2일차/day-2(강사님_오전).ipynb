{
 "cells": [
  {
   "cell_type": "code",
   "execution_count": 1,
   "id": "7fc93cd3",
   "metadata": {},
   "outputs": [
    {
     "name": "stdout",
     "output_type": "stream",
     "text": [
      " HELLO PYTHON PROGRAMMING !!\n",
      " hello python programming !!\n"
     ]
    }
   ],
   "source": [
    "# 문자열 관련 함수 : 문자열오브젝트.upper(), 오브젝트.lower()\n",
    "a_str = \" Hello Python programming !!\"\n",
    "print(a_str.upper())\n",
    "print(a_str.lower())"
   ]
  },
  {
   "cell_type": "code",
   "execution_count": 2,
   "id": "8162faab",
   "metadata": {},
   "outputs": [
    {
     "data": {
      "text/plain": [
       "' HELLO PYTHON PROGRAMMING !!'"
      ]
     },
     "execution_count": 2,
     "metadata": {},
     "output_type": "execute_result"
    }
   ],
   "source": [
    "a_str_upper = a_str.upper()\n",
    "a_str_upper"
   ]
  },
  {
   "cell_type": "code",
   "execution_count": 8,
   "id": "6fcf0eab",
   "metadata": {},
   "outputs": [
    {
     "name": "stdout",
     "output_type": "stream",
     "text": [
      "strip() -> /Hello Python programming !!/\n",
      "lsrip() -> /Hello Python programming !!  /\n",
      "rsrip() -> /  Hello Python programming !!/\n"
     ]
    }
   ],
   "source": [
    "# 문자열의 공백 제거 : 문자열.strip() -> 양쪽의 공백 제거\n",
    "#   문자열.lstrip() ->  왼쪽의 공백 제거\n",
    "#   문자열.rstrip() ->  오른쪽의 공백 제거\n",
    "a_str = \"  Hello Python programming !!  \"\n",
    "print(\"strip() -> /{}/\".format(a_str.strip()))\n",
    "print(\"lsrip() -> /{}/\".format(a_str.lstrip()))\n",
    "print(\"rsrip() -> /{}/\".format(a_str.rstrip()))"
   ]
  },
  {
   "cell_type": "code",
   "execution_count": 11,
   "id": "ee210c91",
   "metadata": {},
   "outputs": [
    {
     "name": "stdout",
     "output_type": "stream",
     "text": [
      "False\n"
     ]
    },
    {
     "data": {
      "text/plain": [
       "True"
      ]
     },
     "execution_count": 11,
     "metadata": {},
     "output_type": "execute_result"
    }
   ],
   "source": [
    "print(a_str.isalnum())  # False\n",
    "\n",
    "b_str = 'abcd1232cdcd'\n",
    "b_str.isalnum()  # True"
   ]
  },
  {
   "cell_type": "code",
   "execution_count": 14,
   "id": "fbd507a0",
   "metadata": {},
   "outputs": [
    {
     "data": {
      "text/plain": [
       "'Python'"
      ]
     },
     "execution_count": 14,
     "metadata": {},
     "output_type": "execute_result"
    }
   ],
   "source": [
    "# find(), rfind() -> 위치 반환\n",
    "a_str = \"Hello Python programming!!\"\n",
    "# Python 만 출력\n",
    "a_str[ a_str.find(' ')+1 : a_str.rfind(' ')]\n"
   ]
  },
  {
   "cell_type": "code",
   "execution_count": 24,
   "id": "f932a7fa",
   "metadata": {},
   "outputs": [
    {
     "data": {
      "text/plain": [
       "'Python'"
      ]
     },
     "execution_count": 24,
     "metadata": {},
     "output_type": "execute_result"
    }
   ],
   "source": [
    "b_str = \"Hello Python programming !!\"\n",
    "b_str[ b_str.find(' ')+1 : b_str.rfind(' ')]\\\n",
    "[ : b_str[ b_str.find(' ')+1 : b_str.rfind(' ')].rfind(' ')]"
   ]
  },
  {
   "cell_type": "code",
   "execution_count": 27,
   "id": "5caab79c",
   "metadata": {},
   "outputs": [
    {
     "data": {
      "text/plain": [
       "'Python'"
      ]
     },
     "execution_count": 27,
     "metadata": {},
     "output_type": "execute_result"
    }
   ],
   "source": [
    "b_str[ b_str.find(' ')+1 : b_str.find(' ',b_str.find(' ')+1) ]"
   ]
  },
  {
   "cell_type": "code",
   "execution_count": 34,
   "id": "48f5670f",
   "metadata": {},
   "outputs": [
    {
     "data": {
      "text/plain": [
       "'PYTHON'"
      ]
     },
     "execution_count": 34,
     "metadata": {},
     "output_type": "execute_result"
    }
   ],
   "source": [
    "s_idx = b_str.find(' ')+1\n",
    "e_idx = b_str.find(' ', s_idx)\n",
    "b_str[s_idx : e_idx].upper()"
   ]
  },
  {
   "cell_type": "code",
   "execution_count": 33,
   "id": "ddd976e1",
   "metadata": {},
   "outputs": [
    {
     "name": "stdout",
     "output_type": "stream",
     "text": [
      "True\n",
      "False\n"
     ]
    }
   ],
   "source": [
    "a_str = \"hello hello python\"\n",
    "# 문자가 해당 문자열에 있는지 확인 : 문자 in 문자열\n",
    "print('hello' in a_str ) # True\n",
    "print('lo1' in a_str)  # False"
   ]
  },
  {
   "cell_type": "code",
   "execution_count": 38,
   "id": "6acfa2eb",
   "metadata": {},
   "outputs": [
    {
     "data": {
      "text/plain": [
       "['hello', 'hello', 'python']"
      ]
     },
     "execution_count": 38,
     "metadata": {},
     "output_type": "execute_result"
    }
   ],
   "source": [
    "a_str = \"hello hello python\"\n",
    "# 문자열.split('분리하고자 하는 문자') 공백은 생략 가능\n",
    "a_str.split()"
   ]
  },
  {
   "cell_type": "code",
   "execution_count": 49,
   "id": "2f8940cb",
   "metadata": {},
   "outputs": [
    {
     "data": {
      "text/plain": [
       "['Hello', 'Python', 'programming', '!!']"
      ]
     },
     "execution_count": 49,
     "metadata": {},
     "output_type": "execute_result"
    }
   ],
   "source": [
    "s_str = b_str.split()\n",
    "s_str"
   ]
  },
  {
   "cell_type": "code",
   "execution_count": 50,
   "id": "cbebc48d",
   "metadata": {},
   "outputs": [
    {
     "data": {
      "text/plain": [
       "['Hello', 'PYTHON', 'programming', '!!']"
      ]
     },
     "execution_count": 50,
     "metadata": {},
     "output_type": "execute_result"
    }
   ],
   "source": [
    "s_str[1] = s_str[1].upper()\n",
    "s_str"
   ]
  },
  {
   "cell_type": "code",
   "execution_count": 51,
   "id": "9467c7d2",
   "metadata": {},
   "outputs": [
    {
     "data": {
      "text/plain": [
       "' 3 + 4 = 7'"
      ]
     },
     "execution_count": 51,
     "metadata": {},
     "output_type": "execute_result"
    }
   ],
   "source": [
    "\" 3 + 4 = {}\".format(3+4)"
   ]
  },
  {
   "cell_type": "code",
   "execution_count": 52,
   "id": "7e87ae15",
   "metadata": {},
   "outputs": [
    {
     "data": {
      "text/plain": [
       "'3 + 4 = 7'"
      ]
     },
     "execution_count": 52,
     "metadata": {},
     "output_type": "execute_result"
    }
   ],
   "source": [
    "# 3.6 버전 이후부터 가능 : f'문자열{표현식}문자열'\n",
    "f'3 + 4 = {3+4}'"
   ]
  },
  {
   "cell_type": "markdown",
   "id": "f18d0140",
   "metadata": {},
   "source": [
    "# chap 3.조건문"
   ]
  },
  {
   "cell_type": "markdown",
   "id": "ea3a7508",
   "metadata": {},
   "source": [
    "## 1.  불 자료형과 if 조건문"
   ]
  },
  {
   "cell_type": "code",
   "execution_count": 53,
   "id": "ede0ae79",
   "metadata": {},
   "outputs": [
    {
     "name": "stdout",
     "output_type": "stream",
     "text": [
      "True 출력\n"
     ]
    }
   ],
   "source": [
    "# True, False, and, or, not , ==, !=, >, <, >=, <=\n",
    "# if 표현식 :\n",
    "#   들여쓰기 \n",
    "if True:\n",
    "    print(\"True 출력\")   # 실행\n",
    "    \n",
    "if False:\n",
    "    print(\"False 출력\")  # 실행 안됨\n"
   ]
  },
  {
   "cell_type": "code",
   "execution_count": 60,
   "id": "f64b1bd7",
   "metadata": {},
   "outputs": [
    {
     "name": "stdout",
     "output_type": "stream",
     "text": [
      "자료 입력 :12.34\n",
      "입력 받은 자료는 문자 12.34\n"
     ]
    }
   ],
   "source": [
    "# 키보드에서 자료를 입력 받아 숫자이면 '입력 받은 자료는 숫자'\n",
    "# 문자이면 '입력 받은 자료는 문자' 출력\n",
    "# 1. 자료 입력 받음\n",
    "input_data = input(\"자료 입력 :\")\n",
    "# 2. 숫자이면 '입력 받은 자료는 숫자' 출력\n",
    "if input_data.isnumeric() :\n",
    "    print('입력 받은 자료는 숫자 {}'.format(input_data) )\n",
    "# 3. 문자이면 '입력 받은 자료는 문자' 출력\n",
    "if not input_data.isnumeric() :\n",
    "    print('입력 받은 자료는 문자 {}'.format(input_data) )"
   ]
  },
  {
   "cell_type": "code",
   "execution_count": 64,
   "id": "8d0fa204",
   "metadata": {},
   "outputs": [
    {
     "name": "stdout",
     "output_type": "stream",
     "text": [
      "2022년 6월 24일 10시 42분 32초\n"
     ]
    }
   ],
   "source": [
    "# 날짜 / 시간 활용하기 : datetime 모듈 소스에 삽입\n",
    "# import 모듈명\n",
    "import datetime\n",
    "\n",
    "now = datetime.datetime.now()\n",
    "print(\"{}년 {}월 {}일 {}시 {}분 {}초\".format(now.year, now.month,\n",
    "                                       now.day, now.hour, now.minute,\n",
    "                                       now.second))"
   ]
  },
  {
   "cell_type": "code",
   "execution_count": 66,
   "id": "8cd9a647",
   "metadata": {},
   "outputs": [
    {
     "name": "stdout",
     "output_type": "stream",
     "text": [
      "현재 시각은 10시로 오전 입니다\n"
     ]
    }
   ],
   "source": [
    "if now.hour < 12:\n",
    "    print('현재 시각은 {}시로 오전 입니다'.format(now.hour))"
   ]
  },
  {
   "cell_type": "code",
   "execution_count": 67,
   "id": "6878870a",
   "metadata": {},
   "outputs": [
    {
     "name": "stdout",
     "output_type": "stream",
     "text": [
      "6월은 여름입니다\n"
     ]
    }
   ],
   "source": [
    "# 3월에서 5월은 봄, 6 ~ 8월은 여름, 9 ~11월은 가을, 1,2,12월은 겨울\n",
    "if 3 <= now.month <= 5 :\n",
    "    print(\"{}월은 봄입니다\".format(now.month))\n",
    "if 6 <= now.month <= 8 :\n",
    "    print(\"{}월은 여름입니다\".format(now.month))\n",
    "if 9 <= now.month <= 11 :\n",
    "    print(\"{}월은 가을입니다\".format(now.month))\n",
    "if 1 <= now.month <= 2 or now.month == 12 :\n",
    "    print(\"{}월은 겨울입니다\".format(now.month))    "
   ]
  },
  {
   "cell_type": "code",
   "execution_count": 76,
   "id": "161c6874",
   "metadata": {},
   "outputs": [
    {
     "name": "stdout",
     "output_type": "stream",
     "text": [
      "정수 입력 : 123\n",
      "입력한 숫자 123는 홀수입니다\n"
     ]
    }
   ],
   "source": [
    "# 정수를 입력 받아 입력된 숫자가 짝수인지 홀수인지 출력\n",
    "input_num = input(\"정수 입력 : \")\n",
    "\n",
    "# 1. 입력된 마지막 문자를 숫자로 변경 후 0, 2, 4, 6, 8 이면 짝수\n",
    "#                   1, 3, 5, 7, 9 이면 홀수\n",
    "last_num = int(input_num[-1])\n",
    "if last_num == 0 or last_num ==2 or last_num == 4 or last_num == 6 \\\n",
    " or last_num == 8:\n",
    "    print(f\"입력한 숫자 {input_num}는 짝수입니다\")\n",
    "\n",
    "if last_num == 1 or last_num ==3 or last_num == 5 or last_num == 7 \\\n",
    " or last_num == 9:\n",
    "    print(f\"입력한 숫자 {input_num}는 홀수입니다\")"
   ]
  },
  {
   "cell_type": "code",
   "execution_count": 77,
   "id": "eb1e0e2e",
   "metadata": {},
   "outputs": [
    {
     "name": "stdout",
     "output_type": "stream",
     "text": [
      "입력한 숫자 123는 홀수입니다\n"
     ]
    }
   ],
   "source": [
    "# 문자열의 경우 in 연산자를 사용 if '문자' in '문자열' :\n",
    "last_char = input_num[-1]\n",
    "if last_char in '02468':\n",
    "    print(f\"입력한 숫자 {input_num}는 짝수입니다\")\n",
    "\n",
    "if last_char in '13579':\n",
    "    print(f\"입력한 숫자 {input_num}는 홀수입니다\")"
   ]
  },
  {
   "cell_type": "code",
   "execution_count": 75,
   "id": "c70d921e",
   "metadata": {},
   "outputs": [
    {
     "name": "stdout",
     "output_type": "stream",
     "text": [
      "입력한 숫자 2334는 짝수입니다\n"
     ]
    }
   ],
   "source": [
    "# 2. 입력된 문자를 숫자로 변경 후 2나눈 나머지 값이 0면 짝수, 1이면 홀수\n",
    "input_num = input(\"정수 입력 : \")\n",
    "input_num = int(input_num)\n",
    "if input_num % 2 == 0:\n",
    "    print(f\"입력한 숫자 {input_num}는 짝수입니다\")\n",
    "    \n",
    "if input_num % 2 == 1:\n",
    "    print(f\"입력한 숫자 {input_num}는 홀수입니다\")\n",
    "    "
   ]
  },
  {
   "cell_type": "code",
   "execution_count": 79,
   "id": "d7449b42",
   "metadata": {},
   "outputs": [
    {
     "name": "stdout",
     "output_type": "stream",
     "text": [
      "1은 0이 아닙니다\n"
     ]
    }
   ],
   "source": [
    "num = 1\n",
    "if num:\n",
    "    print(\"{}은 0이 아닙니다\".format(num))"
   ]
  },
  {
   "cell_type": "code",
   "execution_count": 81,
   "id": "5d5075eb",
   "metadata": {},
   "outputs": [
    {
     "name": "stdout",
     "output_type": "stream",
     "text": [
      "abcd\n"
     ]
    }
   ],
   "source": [
    "char = 'abcd'\n",
    "if char:\n",
    "    print(char)"
   ]
  },
  {
   "cell_type": "markdown",
   "id": "72e4d6a4",
   "metadata": {},
   "source": [
    "## 2. if~else, elif 구문"
   ]
  },
  {
   "cell_type": "code",
   "execution_count": 83,
   "id": "224f4734",
   "metadata": {},
   "outputs": [
    {
     "name": "stdout",
     "output_type": "stream",
     "text": [
      "정수 입력 : 11\n",
      "입력한 숫자 11는 홀수입니다\n"
     ]
    }
   ],
   "source": [
    "input_num = input(\"정수 입력 : \")\n",
    "input_num = int(input_num)\n",
    "if input_num % 2 == 0:\n",
    "    print(f\"입력한 숫자 {input_num}는 짝수입니다\")\n",
    "else:\n",
    "    print(f\"입력한 숫자 {input_num}는 홀수입니다\")\n",
    "    "
   ]
  },
  {
   "cell_type": "code",
   "execution_count": 84,
   "id": "581b586a",
   "metadata": {},
   "outputs": [
    {
     "name": "stdout",
     "output_type": "stream",
     "text": [
      "6월은 여름입니다\n"
     ]
    }
   ],
   "source": [
    "# 3월에서 5월은 봄, 6 ~ 8월은 여름, 9 ~11월은 가을, 1,2,12월은 겨울\n",
    "if 3 <= now.month <= 5 :\n",
    "    print(\"{}월은 봄입니다\".format(now.month))\n",
    "elif 6 <= now.month <= 8 :\n",
    "    print(\"{}월은 여름입니다\".format(now.month))\n",
    "elif 9 <= now.month <= 11 :\n",
    "    print(\"{}월은 가을입니다\".format(now.month))\n",
    "else :\n",
    "    print(\"{}월은 겨울입니다\".format(now.month)) "
   ]
  },
  {
   "cell_type": "code",
   "execution_count": 87,
   "id": "c0da7fa1",
   "metadata": {},
   "outputs": [
    {
     "name": "stdout",
     "output_type": "stream",
     "text": [
      "자료 입력 : abcd test\n",
      "입력 받은 abcd test의 마지막 문자는 t\n"
     ]
    }
   ],
   "source": [
    "# 키보드에서 자료를 입력받아 정수이면 짝수인지 확인하고 짝수 출력\n",
    "# 정수가 아니면 마지막 문자출력 \n",
    "\n",
    "# 1. 키보드에서 자료 입력 받음\n",
    "input_str = input(\"자료 입력 : \")\n",
    "# 2. 정수인지 확인 -> 정수이면 짝수 홀수 check\n",
    "#    아니면 마지막 글자 출력\n",
    "if input_str.isdecimal():\n",
    "    if input_str[-1] in '02468':\n",
    "        print(\"입력 받은 {}는 짝수입니다\".format(input_str))\n",
    "    else:\n",
    "        print(\"입력 받은 {}는 홀수입니다\".format(input_str))\n",
    "else:\n",
    "    print(\"입력 받은 {}의 마지막 문자는 {}\".format(input_str,input_str[-1]))"
   ]
  },
  {
   "cell_type": "code",
   "execution_count": 89,
   "id": "21432968",
   "metadata": {},
   "outputs": [],
   "source": [
    "a = 10\n",
    "if a :\n",
    "    pass\n",
    "    # 아직 구현 안 됨\n"
   ]
  },
  {
   "cell_type": "markdown",
   "id": "c4ee9e16",
   "metadata": {},
   "source": [
    "# chap4. 반복문\n",
    "## 1. 리스트와 반복문"
   ]
  },
  {
   "cell_type": "code",
   "execution_count": 92,
   "id": "71c56bb0",
   "metadata": {},
   "outputs": [
    {
     "data": {
      "text/plain": [
       "[12, 'test', True, 345, 'python programming']"
      ]
     },
     "execution_count": 92,
     "metadata": {},
     "output_type": "execute_result"
    }
   ],
   "source": [
    "# 리스트 선언하기  : [ 요소, ... ]\n",
    "list_a = [12,'test', True, 345, 'python programming']\n",
    "list_a"
   ]
  },
  {
   "cell_type": "code",
   "execution_count": 100,
   "id": "d53e00f7",
   "metadata": {},
   "outputs": [
    {
     "name": "stdout",
     "output_type": "stream",
     "text": [
      "<class 'list'>\n",
      "test\n",
      "['test', True]\n",
      "python programming\n",
      "python\n",
      "python\n"
     ]
    }
   ],
   "source": [
    "# 리스트의 요소 접근하는 방법 : 리스트[인덱스]\n",
    "print(type(list_a))\n",
    "print(list_a[1])  # test\n",
    "print(list_a[1:3]) # test, True\n",
    "\n",
    "print(list_a[-1]) # 'python programming'\n",
    "\n",
    "# python programming의 자료에서 python만 출력\n",
    "print(list_a[-1].split()[0])  # ['python', 'programming']\n",
    "print(list_a[-1][ : list_a[-1].find(' ')])"
   ]
  },
  {
   "cell_type": "code",
   "execution_count": 106,
   "id": "9f18b0ee",
   "metadata": {},
   "outputs": [
    {
     "data": {
      "text/plain": [
       "'python'"
      ]
     },
     "execution_count": 106,
     "metadata": {},
     "output_type": "execute_result"
    }
   ],
   "source": [
    "list_a[-1].split(' ')[0]"
   ]
  },
  {
   "cell_type": "code",
   "execution_count": 107,
   "id": "07cae672",
   "metadata": {},
   "outputs": [
    {
     "data": {
      "text/plain": [
       "'a'"
      ]
     },
     "execution_count": 107,
     "metadata": {},
     "output_type": "execute_result"
    }
   ],
   "source": [
    "list_b = [[1,2,3], ['a','b','c'], [4,5,6]]\n",
    "# 'a' 추출\n",
    "list_b[1][0]"
   ]
  },
  {
   "cell_type": "code",
   "execution_count": 108,
   "id": "4ef065ba",
   "metadata": {},
   "outputs": [
    {
     "data": {
      "text/plain": [
       "'e'"
      ]
     },
     "execution_count": 108,
     "metadata": {},
     "output_type": "execute_result"
    }
   ],
   "source": [
    "list_a = [12,'test', True, 345, 'python programming']\n",
    "list_a[1][1] # test의 'e' 추출"
   ]
  },
  {
   "cell_type": "code",
   "execution_count": 112,
   "id": "79cc61ad",
   "metadata": {},
   "outputs": [
    {
     "ename": "IndexError",
     "evalue": "list index out of range",
     "output_type": "error",
     "traceback": [
      "\u001b[1;31m---------------------------------------------------------------------------\u001b[0m",
      "\u001b[1;31mIndexError\u001b[0m                                Traceback (most recent call last)",
      "Input \u001b[1;32mIn [112]\u001b[0m, in \u001b[0;36m<cell line: 1>\u001b[1;34m()\u001b[0m\n\u001b[1;32m----> 1\u001b[0m \u001b[43mlist_a\u001b[49m\u001b[43m[\u001b[49m\u001b[38;5;28;43mlen\u001b[39;49m\u001b[43m(\u001b[49m\u001b[43mlist_a\u001b[49m\u001b[43m)\u001b[49m\u001b[43m \u001b[49m\u001b[43m]\u001b[49m\n",
      "\u001b[1;31mIndexError\u001b[0m: list index out of range"
     ]
    }
   ],
   "source": [
    "list_a[len(list_a) ]   "
   ]
  },
  {
   "cell_type": "code",
   "execution_count": null,
   "id": "b67584b4",
   "metadata": {},
   "outputs": [],
   "source": []
  },
  {
   "cell_type": "code",
   "execution_count": null,
   "id": "757c5b52",
   "metadata": {},
   "outputs": [],
   "source": []
  },
  {
   "cell_type": "code",
   "execution_count": null,
   "id": "183b0f30",
   "metadata": {},
   "outputs": [],
   "source": []
  }
 ],
 "metadata": {
  "kernelspec": {
   "display_name": "Python 3 (ipykernel)",
   "language": "python",
   "name": "python3"
  },
  "language_info": {
   "codemirror_mode": {
    "name": "ipython",
    "version": 3
   },
   "file_extension": ".py",
   "mimetype": "text/x-python",
   "name": "python",
   "nbconvert_exporter": "python",
   "pygments_lexer": "ipython3",
   "version": "3.9.12"
  }
 },
 "nbformat": 4,
 "nbformat_minor": 5
}
