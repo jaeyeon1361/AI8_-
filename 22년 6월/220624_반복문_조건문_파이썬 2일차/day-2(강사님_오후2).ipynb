{
 "cells": [
  {
   "cell_type": "code",
   "execution_count": 1,
   "id": "f891bad9",
   "metadata": {},
   "outputs": [
    {
     "name": "stdout",
     "output_type": "stream",
     "text": [
      " HELLO PYTHON PROGRAMMING !!\n",
      " hello python programming !!\n"
     ]
    }
   ],
   "source": [
    "# 문자열 관련 함수 : 문자열오브젝트.upper(), 오브젝트.lower()\n",
    "a_str = \" Hello Python programming !!\"\n",
    "print(a_str.upper())\n",
    "print(a_str.lower())"
   ]
  },
  {
   "cell_type": "code",
   "execution_count": 2,
   "id": "afb0b555",
   "metadata": {},
   "outputs": [
    {
     "data": {
      "text/plain": [
       "' HELLO PYTHON PROGRAMMING !!'"
      ]
     },
     "execution_count": 2,
     "metadata": {},
     "output_type": "execute_result"
    }
   ],
   "source": [
    "a_str_upper = a_str.upper()\n",
    "a_str_upper"
   ]
  },
  {
   "cell_type": "code",
   "execution_count": 8,
   "id": "14662b4c",
   "metadata": {},
   "outputs": [
    {
     "name": "stdout",
     "output_type": "stream",
     "text": [
      "strip() -> /Hello Python programming !!/\n",
      "lsrip() -> /Hello Python programming !!  /\n",
      "rsrip() -> /  Hello Python programming !!/\n"
     ]
    }
   ],
   "source": [
    "# 문자열의 공백 제거 : 문자열.strip() -> 양쪽의 공백 제거\n",
    "#   문자열.lstrip() ->  왼쪽의 공백 제거\n",
    "#   문자열.rstrip() ->  오른쪽의 공백 제거\n",
    "a_str = \"  Hello Python programming !!  \"\n",
    "print(\"strip() -> /{}/\".format(a_str.strip()))\n",
    "print(\"lsrip() -> /{}/\".format(a_str.lstrip()))\n",
    "print(\"rsrip() -> /{}/\".format(a_str.rstrip()))"
   ]
  },
  {
   "cell_type": "code",
   "execution_count": 11,
   "id": "5effb72b",
   "metadata": {},
   "outputs": [
    {
     "name": "stdout",
     "output_type": "stream",
     "text": [
      "False\n"
     ]
    },
    {
     "data": {
      "text/plain": [
       "True"
      ]
     },
     "execution_count": 11,
     "metadata": {},
     "output_type": "execute_result"
    }
   ],
   "source": [
    "print(a_str.isalnum())  # False\n",
    "\n",
    "b_str = 'abcd1232cdcd'\n",
    "b_str.isalnum()  # True"
   ]
  },
  {
   "cell_type": "code",
   "execution_count": 14,
   "id": "464b5505",
   "metadata": {},
   "outputs": [
    {
     "data": {
      "text/plain": [
       "'Python'"
      ]
     },
     "execution_count": 14,
     "metadata": {},
     "output_type": "execute_result"
    }
   ],
   "source": [
    "# find(), rfind() -> 위치 반환\n",
    "a_str = \"Hello Python programming!!\"\n",
    "# Python 만 출력\n",
    "a_str[ a_str.find(' ')+1 : a_str.rfind(' ')]\n"
   ]
  },
  {
   "cell_type": "code",
   "execution_count": 24,
   "id": "4c17a769",
   "metadata": {},
   "outputs": [
    {
     "data": {
      "text/plain": [
       "'Python'"
      ]
     },
     "execution_count": 24,
     "metadata": {},
     "output_type": "execute_result"
    }
   ],
   "source": [
    "b_str = \"Hello Python programming !!\"\n",
    "b_str[ b_str.find(' ')+1 : b_str.rfind(' ')]\\\n",
    "[ : b_str[ b_str.find(' ')+1 : b_str.rfind(' ')].rfind(' ')]"
   ]
  },
  {
   "cell_type": "code",
   "execution_count": 27,
   "id": "eb856fa1",
   "metadata": {},
   "outputs": [
    {
     "data": {
      "text/plain": [
       "'Python'"
      ]
     },
     "execution_count": 27,
     "metadata": {},
     "output_type": "execute_result"
    }
   ],
   "source": [
    "b_str[ b_str.find(' ')+1 : b_str.find(' ',b_str.find(' ')+1) ]"
   ]
  },
  {
   "cell_type": "code",
   "execution_count": 34,
   "id": "4d763703",
   "metadata": {},
   "outputs": [
    {
     "data": {
      "text/plain": [
       "'PYTHON'"
      ]
     },
     "execution_count": 34,
     "metadata": {},
     "output_type": "execute_result"
    }
   ],
   "source": [
    "s_idx = b_str.find(' ')+1\n",
    "e_idx = b_str.find(' ', s_idx)\n",
    "b_str[s_idx : e_idx].upper()"
   ]
  },
  {
   "cell_type": "code",
   "execution_count": 33,
   "id": "cea377b4",
   "metadata": {},
   "outputs": [
    {
     "name": "stdout",
     "output_type": "stream",
     "text": [
      "True\n",
      "False\n"
     ]
    }
   ],
   "source": [
    "a_str = \"hello hello python\"\n",
    "# 문자가 해당 문자열에 있는지 확인 : 문자 in 문자열\n",
    "print('hello' in a_str ) # True\n",
    "print('lo1' in a_str)  # False"
   ]
  },
  {
   "cell_type": "code",
   "execution_count": 38,
   "id": "f459cf90",
   "metadata": {},
   "outputs": [
    {
     "data": {
      "text/plain": [
       "['hello', 'hello', 'python']"
      ]
     },
     "execution_count": 38,
     "metadata": {},
     "output_type": "execute_result"
    }
   ],
   "source": [
    "a_str = \"hello hello python\"\n",
    "# 문자열.split('분리하고자 하는 문자') 공백은 생략 가능\n",
    "a_str.split()"
   ]
  },
  {
   "cell_type": "code",
   "execution_count": 49,
   "id": "ae9961ea",
   "metadata": {},
   "outputs": [
    {
     "data": {
      "text/plain": [
       "['Hello', 'Python', 'programming', '!!']"
      ]
     },
     "execution_count": 49,
     "metadata": {},
     "output_type": "execute_result"
    }
   ],
   "source": [
    "s_str = b_str.split()\n",
    "s_str"
   ]
  },
  {
   "cell_type": "code",
   "execution_count": 50,
   "id": "2fe3e0f2",
   "metadata": {},
   "outputs": [
    {
     "data": {
      "text/plain": [
       "['Hello', 'PYTHON', 'programming', '!!']"
      ]
     },
     "execution_count": 50,
     "metadata": {},
     "output_type": "execute_result"
    }
   ],
   "source": [
    "s_str[1] = s_str[1].upper()\n",
    "s_str"
   ]
  },
  {
   "cell_type": "code",
   "execution_count": 51,
   "id": "4831ecdb",
   "metadata": {},
   "outputs": [
    {
     "data": {
      "text/plain": [
       "' 3 + 4 = 7'"
      ]
     },
     "execution_count": 51,
     "metadata": {},
     "output_type": "execute_result"
    }
   ],
   "source": [
    "\" 3 + 4 = {}\".format(3+4)"
   ]
  },
  {
   "cell_type": "code",
   "execution_count": 52,
   "id": "5cdf196e",
   "metadata": {},
   "outputs": [
    {
     "data": {
      "text/plain": [
       "'3 + 4 = 7'"
      ]
     },
     "execution_count": 52,
     "metadata": {},
     "output_type": "execute_result"
    }
   ],
   "source": [
    "# 3.6 버전 이후부터 가능 : f'문자열{표현식}문자열'\n",
    "f'3 + 4 = {3+4}'"
   ]
  },
  {
   "cell_type": "markdown",
   "id": "e26e1330",
   "metadata": {},
   "source": [
    "# chap 3.조건문"
   ]
  },
  {
   "cell_type": "markdown",
   "id": "4d7e4807",
   "metadata": {},
   "source": [
    "## 1.  불 자료형과 if 조건문"
   ]
  },
  {
   "cell_type": "code",
   "execution_count": 53,
   "id": "238aed52",
   "metadata": {},
   "outputs": [
    {
     "name": "stdout",
     "output_type": "stream",
     "text": [
      "True 출력\n"
     ]
    }
   ],
   "source": [
    "# True, False, and, or, not , ==, !=, >, <, >=, <=\n",
    "# if 표현식 :\n",
    "#   들여쓰기 \n",
    "if True:\n",
    "    print(\"True 출력\")   # 실행\n",
    "    \n",
    "if False:\n",
    "    print(\"False 출력\")  # 실행 안됨\n"
   ]
  },
  {
   "cell_type": "code",
   "execution_count": 60,
   "id": "432ba278",
   "metadata": {},
   "outputs": [
    {
     "name": "stdout",
     "output_type": "stream",
     "text": [
      "자료 입력 :12.34\n",
      "입력 받은 자료는 문자 12.34\n"
     ]
    }
   ],
   "source": [
    "# 키보드에서 자료를 입력 받아 숫자이면 '입력 받은 자료는 숫자'\n",
    "# 문자이면 '입력 받은 자료는 문자' 출력\n",
    "# 1. 자료 입력 받음\n",
    "input_data = input(\"자료 입력 :\")\n",
    "# 2. 숫자이면 '입력 받은 자료는 숫자' 출력\n",
    "if input_data.isnumeric() :\n",
    "    print('입력 받은 자료는 숫자 {}'.format(input_data) )\n",
    "# 3. 문자이면 '입력 받은 자료는 문자' 출력\n",
    "if not input_data.isnumeric() :\n",
    "    print('입력 받은 자료는 문자 {}'.format(input_data) )"
   ]
  },
  {
   "cell_type": "code",
   "execution_count": 64,
   "id": "526ec18d",
   "metadata": {},
   "outputs": [
    {
     "name": "stdout",
     "output_type": "stream",
     "text": [
      "2022년 6월 24일 10시 42분 32초\n"
     ]
    }
   ],
   "source": [
    "# 날짜 / 시간 활용하기 : datetime 모듈 소스에 삽입\n",
    "# import 모듈명\n",
    "import datetime\n",
    "\n",
    "now = datetime.datetime.now()\n",
    "print(\"{}년 {}월 {}일 {}시 {}분 {}초\".format(now.year, now.month,\n",
    "                                       now.day, now.hour, now.minute,\n",
    "                                       now.second))"
   ]
  },
  {
   "cell_type": "code",
   "execution_count": 66,
   "id": "e3923ac2",
   "metadata": {},
   "outputs": [
    {
     "name": "stdout",
     "output_type": "stream",
     "text": [
      "현재 시각은 10시로 오전 입니다\n"
     ]
    }
   ],
   "source": [
    "if now.hour < 12:\n",
    "    print('현재 시각은 {}시로 오전 입니다'.format(now.hour))"
   ]
  },
  {
   "cell_type": "code",
   "execution_count": 67,
   "id": "d89e45b5",
   "metadata": {},
   "outputs": [
    {
     "name": "stdout",
     "output_type": "stream",
     "text": [
      "6월은 여름입니다\n"
     ]
    }
   ],
   "source": [
    "# 3월에서 5월은 봄, 6 ~ 8월은 여름, 9 ~11월은 가을, 1,2,12월은 겨울\n",
    "if 3 <= now.month <= 5 :\n",
    "    print(\"{}월은 봄입니다\".format(now.month))\n",
    "if 6 <= now.month <= 8 :\n",
    "    print(\"{}월은 여름입니다\".format(now.month))\n",
    "if 9 <= now.month <= 11 :\n",
    "    print(\"{}월은 가을입니다\".format(now.month))\n",
    "if 1 <= now.month <= 2 or now.month == 12 :\n",
    "    print(\"{}월은 겨울입니다\".format(now.month))    "
   ]
  },
  {
   "cell_type": "code",
   "execution_count": 76,
   "id": "ab8e2455",
   "metadata": {},
   "outputs": [
    {
     "name": "stdout",
     "output_type": "stream",
     "text": [
      "정수 입력 : 123\n",
      "입력한 숫자 123는 홀수입니다\n"
     ]
    }
   ],
   "source": [
    "# 정수를 입력 받아 입력된 숫자가 짝수인지 홀수인지 출력\n",
    "input_num = input(\"정수 입력 : \")\n",
    "\n",
    "# 1. 입력된 마지막 문자를 숫자로 변경 후 0, 2, 4, 6, 8 이면 짝수\n",
    "#                   1, 3, 5, 7, 9 이면 홀수\n",
    "last_num = int(input_num[-1])\n",
    "if last_num == 0 or last_num ==2 or last_num == 4 or last_num == 6 \\\n",
    " or last_num == 8:\n",
    "    print(f\"입력한 숫자 {input_num}는 짝수입니다\")\n",
    "\n",
    "if last_num == 1 or last_num ==3 or last_num == 5 or last_num == 7 \\\n",
    " or last_num == 9:\n",
    "    print(f\"입력한 숫자 {input_num}는 홀수입니다\")"
   ]
  },
  {
   "cell_type": "code",
   "execution_count": 77,
   "id": "0f0e014b",
   "metadata": {},
   "outputs": [
    {
     "name": "stdout",
     "output_type": "stream",
     "text": [
      "입력한 숫자 123는 홀수입니다\n"
     ]
    }
   ],
   "source": [
    "# 문자열의 경우 in 연산자를 사용 if '문자' in '문자열' :\n",
    "last_char = input_num[-1]\n",
    "if last_char in '02468':\n",
    "    print(f\"입력한 숫자 {input_num}는 짝수입니다\")\n",
    "\n",
    "if last_char in '13579':\n",
    "    print(f\"입력한 숫자 {input_num}는 홀수입니다\")"
   ]
  },
  {
   "cell_type": "code",
   "execution_count": 75,
   "id": "88cd9ffa",
   "metadata": {},
   "outputs": [
    {
     "name": "stdout",
     "output_type": "stream",
     "text": [
      "입력한 숫자 2334는 짝수입니다\n"
     ]
    }
   ],
   "source": [
    "# 2. 입력된 문자를 숫자로 변경 후 2나눈 나머지 값이 0면 짝수, 1이면 홀수\n",
    "input_num = input(\"정수 입력 : \")\n",
    "input_num = int(input_num)\n",
    "if input_num % 2 == 0:\n",
    "    print(f\"입력한 숫자 {input_num}는 짝수입니다\")\n",
    "    \n",
    "if input_num % 2 == 1:\n",
    "    print(f\"입력한 숫자 {input_num}는 홀수입니다\")\n",
    "    "
   ]
  },
  {
   "cell_type": "code",
   "execution_count": 79,
   "id": "9f0f52c3",
   "metadata": {},
   "outputs": [
    {
     "name": "stdout",
     "output_type": "stream",
     "text": [
      "1은 0이 아닙니다\n"
     ]
    }
   ],
   "source": [
    "num = 1\n",
    "if num:\n",
    "    print(\"{}은 0이 아닙니다\".format(num))"
   ]
  },
  {
   "cell_type": "code",
   "execution_count": 81,
   "id": "75c3e23e",
   "metadata": {},
   "outputs": [
    {
     "name": "stdout",
     "output_type": "stream",
     "text": [
      "abcd\n"
     ]
    }
   ],
   "source": [
    "char = 'abcd'\n",
    "if char:\n",
    "    print(char)"
   ]
  },
  {
   "cell_type": "markdown",
   "id": "4c00a06c",
   "metadata": {},
   "source": [
    "## 2. if~else, elif 구문"
   ]
  },
  {
   "cell_type": "code",
   "execution_count": 83,
   "id": "5ad7304e",
   "metadata": {},
   "outputs": [
    {
     "name": "stdout",
     "output_type": "stream",
     "text": [
      "정수 입력 : 11\n",
      "입력한 숫자 11는 홀수입니다\n"
     ]
    }
   ],
   "source": [
    "input_num = input(\"정수 입력 : \")\n",
    "input_num = int(input_num)\n",
    "if input_num % 2 == 0:\n",
    "    print(f\"입력한 숫자 {input_num}는 짝수입니다\")\n",
    "else:\n",
    "    print(f\"입력한 숫자 {input_num}는 홀수입니다\")\n",
    "    "
   ]
  },
  {
   "cell_type": "code",
   "execution_count": 84,
   "id": "55530495",
   "metadata": {},
   "outputs": [
    {
     "name": "stdout",
     "output_type": "stream",
     "text": [
      "6월은 여름입니다\n"
     ]
    }
   ],
   "source": [
    "# 3월에서 5월은 봄, 6 ~ 8월은 여름, 9 ~11월은 가을, 1,2,12월은 겨울\n",
    "if 3 <= now.month <= 5 :\n",
    "    print(\"{}월은 봄입니다\".format(now.month))\n",
    "elif 6 <= now.month <= 8 :\n",
    "    print(\"{}월은 여름입니다\".format(now.month))\n",
    "elif 9 <= now.month <= 11 :\n",
    "    print(\"{}월은 가을입니다\".format(now.month))\n",
    "else :\n",
    "    print(\"{}월은 겨울입니다\".format(now.month)) "
   ]
  },
  {
   "cell_type": "code",
   "execution_count": 87,
   "id": "c89269aa",
   "metadata": {},
   "outputs": [
    {
     "name": "stdout",
     "output_type": "stream",
     "text": [
      "자료 입력 : abcd test\n",
      "입력 받은 abcd test의 마지막 문자는 t\n"
     ]
    }
   ],
   "source": [
    "# 키보드에서 자료를 입력받아 정수이면 짝수인지 확인하고 짝수 출력\n",
    "# 정수가 아니면 마지막 문자출력 \n",
    "\n",
    "# 1. 키보드에서 자료 입력 받음\n",
    "input_str = input(\"자료 입력 : \")\n",
    "# 2. 정수인지 확인 -> 정수이면 짝수 홀수 check\n",
    "#    아니면 마지막 글자 출력\n",
    "if input_str.isdecimal():\n",
    "    if input_str[-1] in '02468':\n",
    "        print(\"입력 받은 {}는 짝수입니다\".format(input_str))\n",
    "    else:\n",
    "        print(\"입력 받은 {}는 홀수입니다\".format(input_str))\n",
    "else:\n",
    "    print(\"입력 받은 {}의 마지막 문자는 {}\".format(input_str,input_str[-1]))"
   ]
  },
  {
   "cell_type": "code",
   "execution_count": 89,
   "id": "c827a61f",
   "metadata": {},
   "outputs": [],
   "source": [
    "a = 10\n",
    "if a :\n",
    "    pass\n",
    "    # 아직 구현 안 됨\n"
   ]
  },
  {
   "cell_type": "markdown",
   "id": "538a0931",
   "metadata": {},
   "source": [
    "# chap4. 반복문\n",
    "## 1. 리스트와 반복문"
   ]
  },
  {
   "cell_type": "code",
   "execution_count": 92,
   "id": "e707df4d",
   "metadata": {},
   "outputs": [
    {
     "data": {
      "text/plain": [
       "[12, 'test', True, 345, 'python programming']"
      ]
     },
     "execution_count": 92,
     "metadata": {},
     "output_type": "execute_result"
    }
   ],
   "source": [
    "# 리스트 선언하기  : [ 요소, ... ]\n",
    "list_a = [12,'test', True, 345, 'python programming']\n",
    "list_a"
   ]
  },
  {
   "cell_type": "code",
   "execution_count": 100,
   "id": "b8e91e52",
   "metadata": {},
   "outputs": [
    {
     "name": "stdout",
     "output_type": "stream",
     "text": [
      "<class 'list'>\n",
      "test\n",
      "['test', True]\n",
      "python programming\n",
      "python\n",
      "python\n"
     ]
    }
   ],
   "source": [
    "# 리스트의 요소 접근하는 방법 : 리스트[인덱스]\n",
    "print(type(list_a))\n",
    "print(list_a[1])  # test\n",
    "print(list_a[1:3]) # test, True\n",
    "\n",
    "print(list_a[-1]) # 'python programming'\n",
    "\n",
    "# python programming의 자료에서 python만 출력\n",
    "print(list_a[-1].split()[0])  # ['python', 'programming']\n",
    "print(list_a[-1][ : list_a[-1].find(' ')])"
   ]
  },
  {
   "cell_type": "code",
   "execution_count": 106,
   "id": "392a6bd4",
   "metadata": {},
   "outputs": [
    {
     "data": {
      "text/plain": [
       "'python'"
      ]
     },
     "execution_count": 106,
     "metadata": {},
     "output_type": "execute_result"
    }
   ],
   "source": [
    "list_a[-1].split(' ')[0]"
   ]
  },
  {
   "cell_type": "code",
   "execution_count": 107,
   "id": "941d1db4",
   "metadata": {},
   "outputs": [
    {
     "data": {
      "text/plain": [
       "'a'"
      ]
     },
     "execution_count": 107,
     "metadata": {},
     "output_type": "execute_result"
    }
   ],
   "source": [
    "list_b = [[1,2,3], ['a','b','c'], [4,5,6]]\n",
    "# 'a' 추출\n",
    "list_b[1][0]"
   ]
  },
  {
   "cell_type": "code",
   "execution_count": 108,
   "id": "bd4ea38e",
   "metadata": {},
   "outputs": [
    {
     "data": {
      "text/plain": [
       "'e'"
      ]
     },
     "execution_count": 108,
     "metadata": {},
     "output_type": "execute_result"
    }
   ],
   "source": [
    "list_a = [12,'test', True, 345, 'python programming']\n",
    "list_a[1][1] # test의 'e' 추출"
   ]
  },
  {
   "cell_type": "code",
   "execution_count": 112,
   "id": "4cce4f2f",
   "metadata": {},
   "outputs": [
    {
     "ename": "IndexError",
     "evalue": "list index out of range",
     "output_type": "error",
     "traceback": [
      "\u001b[1;31m---------------------------------------------------------------------------\u001b[0m",
      "\u001b[1;31mIndexError\u001b[0m                                Traceback (most recent call last)",
      "Input \u001b[1;32mIn [112]\u001b[0m, in \u001b[0;36m<cell line: 1>\u001b[1;34m()\u001b[0m\n\u001b[1;32m----> 1\u001b[0m \u001b[43mlist_a\u001b[49m\u001b[43m[\u001b[49m\u001b[38;5;28;43mlen\u001b[39;49m\u001b[43m(\u001b[49m\u001b[43mlist_a\u001b[49m\u001b[43m)\u001b[49m\u001b[43m \u001b[49m\u001b[43m]\u001b[49m\n",
      "\u001b[1;31mIndexError\u001b[0m: list index out of range"
     ]
    }
   ],
   "source": [
    "list_a[len(list_a) ]   "
   ]
  },
  {
   "cell_type": "code",
   "execution_count": 113,
   "id": "a49165a9",
   "metadata": {},
   "outputs": [
    {
     "data": {
      "text/plain": [
       "5"
      ]
     },
     "execution_count": 113,
     "metadata": {},
     "output_type": "execute_result"
    }
   ],
   "source": [
    "len(list_a)"
   ]
  },
  {
   "cell_type": "code",
   "execution_count": 120,
   "id": "2adf9545",
   "metadata": {},
   "outputs": [
    {
     "name": "stdout",
     "output_type": "stream",
     "text": [
      "[1, 2, 3, 4, 5, 6]\n",
      "\n",
      "[1, 2, 3]\n",
      "\n",
      "[1, 2, 3, 'a']\n",
      "[1, 2, 3, 'a', [4, 5, 6]]\n",
      "[1, 'test', 2, 3, 'a', [4, 5, 6]]\n",
      "\n"
     ]
    },
    {
     "data": {
      "text/plain": [
       "[1, 'test', 2, 3, 'a', [4, 5, 6], 4, 5, 6]"
      ]
     },
     "execution_count": 120,
     "metadata": {},
     "output_type": "execute_result"
    }
   ],
   "source": [
    "# 리스트의 연산 : +, *\n",
    "# 리스트에 요소 추가하기 : 리스트명.append(요소), 리스트명.insert(위치, 요소)\n",
    "#  리스트의 각 요소를 리스트에 추가 : 리스트명.extend(리스트)\n",
    "list_a = [1, 2, 3]\n",
    "list_b = [4, 5, 6]\n",
    "print(list_a + list_b)  # 기존 자료에 영향을 주지 않음\n",
    "print()\n",
    "print(list_a)\n",
    "print()\n",
    "\n",
    "list_a.append('a')  #  기존의 리스트에 영향을 줌\n",
    "print(list_a)\n",
    "\n",
    "list_a.append(list_b)  # [ 1,2,3,'a', [4,5,6]]\n",
    "print(list_a)\n",
    "\n",
    "list_a.insert(1,'test')  # [ 1,'test',2,3,'a', [4,5,6]]\n",
    "print(list_a)\n",
    "print()\n",
    "\n",
    "list_a.extend(list_b)  # [ 1,'test',2,3,'a', [4,5,6], 4,5,6]\n",
    "list_a"
   ]
  },
  {
   "cell_type": "code",
   "execution_count": 121,
   "id": "cce0c8fd",
   "metadata": {},
   "outputs": [
    {
     "data": {
      "text/plain": [
       "['a', [1, 2, 3]]"
      ]
     },
     "execution_count": 121,
     "metadata": {},
     "output_type": "execute_result"
    }
   ],
   "source": [
    "list_c = []\n",
    "list_c.append('a')\n",
    "list_c.append([1,2,3])\n",
    "list_c"
   ]
  },
  {
   "cell_type": "code",
   "execution_count": 122,
   "id": "f1990bf5",
   "metadata": {},
   "outputs": [
    {
     "name": "stdout",
     "output_type": "stream",
     "text": [
      "자료 입력 : ㅁ\n",
      "자료 입력 : b\n",
      "자료 입력 : c\n",
      "자료 입력 : d\n",
      "자료 입력 : e\n",
      "입력한 자료 :  ['ㅁ', 'b', 'c', 'd', 'e']\n",
      "수정할 자료 입력 : 1000\n",
      "수정한 자료 :  ['ㅁ', 'b', '1000', 'd', 'e']\n"
     ]
    }
   ],
   "source": [
    "# 여러 개(5)의 자료를 입력받아 리스트로 만든 후\n",
    "# 리스트의 내용을 출력, \n",
    "# 다시 문자를 입력 받아 2번째 자료를 수정 하세요\n",
    "input_list = []\n",
    "\n",
    "input_data = input(\"자료 입력 : \")\n",
    "input_list.append(input_data)\n",
    "input_data = input(\"자료 입력 : \")\n",
    "input_list.append(input_data)\n",
    "input_data = input(\"자료 입력 : \")\n",
    "input_list.append(input_data)\n",
    "input_data = input(\"자료 입력 : \")\n",
    "input_list.append(input_data)\n",
    "input_data = input(\"자료 입력 : \")\n",
    "input_list.append(input_data)\n",
    "\n",
    "print(\"입력한 자료 : \", input_list)\n",
    "input_list[2] = input(\"수정할 자료 입력 : \")\n",
    "\n",
    "print(\"수정한 자료 : \", input_list)"
   ]
  },
  {
   "cell_type": "code",
   "execution_count": null,
   "id": "4cb333be",
   "metadata": {},
   "outputs": [],
   "source": [
    "# 리스트 제거 : 인덱스 제거 -> del 리스트명[인덱스]\n",
    "#     마지막 요소 제거 : 리스트.pop()"
   ]
  },
  {
   "cell_type": "code",
   "execution_count": 123,
   "id": "f5f37b78",
   "metadata": {},
   "outputs": [
    {
     "name": "stdout",
     "output_type": "stream",
     "text": [
      "['b', '1000', 'd', 'e']\n"
     ]
    }
   ],
   "source": [
    "del input_list[0]\n",
    "print(input_list)"
   ]
  },
  {
   "cell_type": "code",
   "execution_count": 124,
   "id": "8be3dd51",
   "metadata": {},
   "outputs": [
    {
     "name": "stdout",
     "output_type": "stream",
     "text": [
      "['b', '1000', 'd']\n"
     ]
    }
   ],
   "source": [
    "input_list.pop()\n",
    "print(input_list)"
   ]
  },
  {
   "cell_type": "code",
   "execution_count": 125,
   "id": "c3a74223",
   "metadata": {},
   "outputs": [
    {
     "name": "stdout",
     "output_type": "stream",
     "text": [
      "['b', 'd']\n"
     ]
    }
   ],
   "source": [
    "input_list.pop(1)\n",
    "print(input_list)"
   ]
  },
  {
   "cell_type": "code",
   "execution_count": 128,
   "id": "388704b2",
   "metadata": {},
   "outputs": [
    {
     "name": "stdout",
     "output_type": "stream",
     "text": [
      "[1, 3, 5, 7, 9]\n",
      "[3, 4, 5]\n",
      "[9, 8, 7, 6, 5, 4, 3, 2, 1]\n"
     ]
    }
   ],
   "source": [
    "# 리스트의 인덱스 슬라이싱 : 리스트명[ start : stop : step ]\n",
    "list_a = [1,2,3,4,5,6,7,8,9]\n",
    "\n",
    "print(list_a[ : :2])\n",
    "print(list_a[2 : 5: 1])\n",
    "\n",
    "print(list_a[ : : -1])"
   ]
  },
  {
   "cell_type": "code",
   "execution_count": 130,
   "id": "4ce2adaf",
   "metadata": {},
   "outputs": [
    {
     "name": "stdout",
     "output_type": "stream",
     "text": [
      "[1, 1, 2, 3]\n",
      "[]\n"
     ]
    }
   ],
   "source": [
    "# 리스트의 자료 제거 : del 리스트명[인덱스], 리스트명.pop([위치])\n",
    "# 리스트의 값으로 제거 : 리스트명.remove(값)\n",
    "list_r = [1,2,1,2,3]\n",
    "list_r.remove(2)  # 2\n",
    "\n",
    "print(list_r)\n",
    "\n",
    "# 리스트의 내용을 모두 제거 : 리스트명.clear()\n",
    "list_r.clear()\n",
    "print(list_r)"
   ]
  },
  {
   "cell_type": "code",
   "execution_count": null,
   "id": "6bbc2311",
   "metadata": {},
   "outputs": [],
   "source": [
    "# 리스트의 자료를 추가 : append(요소), insert(위치, 요소), extend(리스트)\n",
    "# 수정 : 리스트[위치] = 값\n",
    "# 삭제 : del 리스트[위치], 리스트.pop() 마지막 삭제, 리스트.pop(위치)\n",
    "#  값으로 삭제 : 리스트.remove(값)  -> 처음 나오는 값을 제거\n",
    "#  모든 요소 삭제 : 리스트.clear()\n",
    "# 정렬 : 리스트.sort(reverse=True)\n",
    "# 값 in 리스트"
   ]
  },
  {
   "cell_type": "code",
   "execution_count": 133,
   "id": "d8e949fd",
   "metadata": {},
   "outputs": [
    {
     "name": "stdout",
     "output_type": "stream",
     "text": [
      "[34, 56, 12, 78, 23]\n",
      "[78, 56, 34, 23, 12]\n"
     ]
    }
   ],
   "source": [
    "list_a = [34, 56, 12, 78, 23]\n",
    "print(list_a)\n",
    "\n",
    "list_a.sort(reverse=True)\n",
    "print(list_a)"
   ]
  },
  {
   "cell_type": "code",
   "execution_count": 135,
   "id": "7b42cc5e",
   "metadata": {},
   "outputs": [
    {
     "name": "stdout",
     "output_type": "stream",
     "text": [
      "False\n"
     ]
    },
    {
     "data": {
      "text/plain": [
       "True"
      ]
     },
     "execution_count": 135,
     "metadata": {},
     "output_type": "execute_result"
    }
   ],
   "source": [
    "print(20 in list_a)  # False\n",
    "print(20 not in list_a)  # True"
   ]
  },
  {
   "cell_type": "code",
   "execution_count": 136,
   "id": "c283a5e8",
   "metadata": {},
   "outputs": [
    {
     "name": "stdout",
     "output_type": "stream",
     "text": [
      "h e l l o   f o r \n"
     ]
    }
   ],
   "source": [
    "# for 반복문 : 리스트와 함께 사용\n",
    "# for 반복자 in 반복할 수 있는 모든 자료:\n",
    "\n",
    "for char in 'hello for':\n",
    "    print(char, end=' ')\n",
    "print()"
   ]
  },
  {
   "cell_type": "code",
   "execution_count": 140,
   "id": "1c2f0805",
   "metadata": {},
   "outputs": [
    {
     "name": "stdout",
     "output_type": "stream",
     "text": [
      "1회 : 78\n",
      "2회 : 56\n",
      "3회 : 34\n",
      "4회 : 23\n",
      "5회 : 12\n",
      "end\n"
     ]
    }
   ],
   "source": [
    "cnt = 0\n",
    "for items in list_a:\n",
    "    cnt += 1\n",
    "    print('{}회 : {}'.format(cnt,items))\n",
    "print('end')"
   ]
  },
  {
   "cell_type": "code",
   "execution_count": 141,
   "id": "3caf73c6",
   "metadata": {},
   "outputs": [
    {
     "name": "stdout",
     "output_type": "stream",
     "text": [
      "1\t2\t3\t\n",
      "4\t5\t6\t\n",
      "7\t8\t9\t10\t\n"
     ]
    }
   ],
   "source": [
    "list_array = [ [1,2,3], [4,5,6], [7,8,9,10]]\n",
    "for items in list_array:\n",
    "    for item in items:\n",
    "        print(item,end='\\t')\n",
    "    print()"
   ]
  },
  {
   "cell_type": "code",
   "execution_count": null,
   "id": "18214e7b",
   "metadata": {},
   "outputs": [],
   "source": [
    "# 구구단 출력 \n",
    "=== 2 단 ====\n",
    "2 * 1 =  2    2 * 2 =  4      2 * 3 =  6\n",
    "2 * 4 =  8    2 * 5 = 10      2 * 6 = 12\n",
    "2 * 7 = 14    2 * 8 = 16      2 * 9 = 18\n",
    "..\n",
    "3 단\n"
   ]
  },
  {
   "cell_type": "code",
   "execution_count": 158,
   "id": "e0ef7f7a",
   "metadata": {},
   "outputs": [
    {
     "name": "stdout",
     "output_type": "stream",
     "text": [
      "=== 2 단 === \n",
      "2 * 1 =  2\t2 * 2 =  4\t2 * 3 =  6\n",
      "2 * 4 =  8\t2 * 5 = 10\t2 * 6 = 12\n",
      "2 * 7 = 14\t2 * 8 = 16\t2 * 9 = 18\n",
      "\n",
      "=== 3 단 === \n",
      "3 * 1 =  3\t3 * 2 =  6\t3 * 3 =  9\n",
      "3 * 4 = 12\t3 * 5 = 15\t3 * 6 = 18\n",
      "3 * 7 = 21\t3 * 8 = 24\t3 * 9 = 27\n",
      "\n",
      "=== 4 단 === \n",
      "4 * 1 =  4\t4 * 2 =  8\t4 * 3 = 12\n",
      "4 * 4 = 16\t4 * 5 = 20\t4 * 6 = 24\n",
      "4 * 7 = 28\t4 * 8 = 32\t4 * 9 = 36\n",
      "\n",
      "=== 5 단 === \n",
      "5 * 1 =  5\t5 * 2 = 10\t5 * 3 = 15\n",
      "5 * 4 = 20\t5 * 5 = 25\t5 * 6 = 30\n",
      "5 * 7 = 35\t5 * 8 = 40\t5 * 9 = 45\n",
      "\n",
      "=== 6 단 === \n",
      "6 * 1 =  6\t6 * 2 = 12\t6 * 3 = 18\n",
      "6 * 4 = 24\t6 * 5 = 30\t6 * 6 = 36\n",
      "6 * 7 = 42\t6 * 8 = 48\t6 * 9 = 54\n",
      "\n",
      "=== 7 단 === \n",
      "7 * 1 =  7\t7 * 2 = 14\t7 * 3 = 21\n",
      "7 * 4 = 28\t7 * 5 = 35\t7 * 6 = 42\n",
      "7 * 7 = 49\t7 * 8 = 56\t7 * 9 = 63\n",
      "\n",
      "=== 8 단 === \n",
      "8 * 1 =  8\t8 * 2 = 16\t8 * 3 = 24\n",
      "8 * 4 = 32\t8 * 5 = 40\t8 * 6 = 48\n",
      "8 * 7 = 56\t8 * 8 = 64\t8 * 9 = 72\n",
      "\n",
      "=== 9 단 === \n",
      "9 * 1 =  9\t9 * 2 = 18\t9 * 3 = 27\n",
      "9 * 4 = 36\t9 * 5 = 45\t9 * 6 = 54\n",
      "9 * 7 = 63\t9 * 8 = 72\t9 * 9 = 81\n",
      "\n"
     ]
    }
   ],
   "source": [
    "list_dan = [2,3,4,5,6,7,8,9]\n",
    "list_num = [1,2,3,4,5,6,7,8,9]\n",
    "\n",
    "for dan in list_dan:\n",
    "    print(f\"=== {dan} 단 === \")\n",
    "    cnt = 1\n",
    "    for num in list_num:\n",
    "        if cnt < 3:\n",
    "            print(\"{} * {} = {:2d}\".format(dan, num, dan * num),end='\\t')\n",
    "            cnt += 1\n",
    "        else:\n",
    "            cnt = 1\n",
    "            print(\"{} * {} = {:2d}\".format(dan, num, dan * num))            \n",
    "    print()"
   ]
  },
  {
   "cell_type": "code",
   "execution_count": 161,
   "id": "2b812f9d",
   "metadata": {},
   "outputs": [
    {
     "name": "stdout",
     "output_type": "stream",
     "text": [
      "=== 2단 ===\n",
      "2 * 1 = 2\t2 * 2 = 4\t2 * 3 = 6\n",
      "2 * 4 = 8\t2 * 5 = 10\t2 * 6 = 12\n",
      "2 * 7 = 14\t2 * 8 = 16\t2 * 9 = 18\n",
      "\n",
      "=== 3단 ===\n",
      "3 * 1 = 3\t3 * 2 = 6\t3 * 3 = 9\n",
      "3 * 4 = 12\t3 * 5 = 15\t3 * 6 = 18\n",
      "3 * 7 = 21\t3 * 8 = 24\t3 * 9 = 27\n",
      "\n",
      "=== 5단 ===\n",
      "5 * 1 = 5\t5 * 2 = 10\t5 * 3 = 15\n",
      "5 * 4 = 20\t5 * 5 = 25\t5 * 6 = 30\n",
      "5 * 7 = 35\t5 * 8 = 40\t5 * 9 = 45\n",
      "\n",
      "=== 6단 ===\n",
      "6 * 1 = 6\t6 * 2 = 12\t6 * 3 = 18\n",
      "6 * 4 = 24\t6 * 5 = 30\t6 * 6 = 36\n",
      "6 * 7 = 42\t6 * 8 = 48\t6 * 9 = 54\n",
      "\n",
      "=== 7단 ===\n",
      "7 * 1 = 7\t7 * 2 = 14\t7 * 3 = 21\n",
      "7 * 4 = 28\t7 * 5 = 35\t7 * 6 = 42\n",
      "7 * 7 = 49\t7 * 8 = 56\t7 * 9 = 63\n",
      "\n"
     ]
    }
   ],
   "source": [
    "list_dan = [2,3,4,5,6,7,8,9]\n",
    "list_num = [1,2,3,4,5,6,7,8,9]\n",
    "\n",
    "# 단을 반복해서 리스트에서 가져옴\n",
    "for dan in list_dan:\n",
    "    if dan == 8:\n",
    "        break\n",
    "    if dan == 4:\n",
    "        continue\n",
    "    # 단을 출력\n",
    "    print(\"=== {}단 ===\".format(dan))\n",
    "    #단에 대해서 num의 각 값을 곱한 결과 출력\n",
    "    line_cnt = 0\n",
    "    for num in list_num:\n",
    "        line_cnt += 1        \n",
    "        if line_cnt < 3:\n",
    "            print(\"{} * {} = {}\".format(dan, num, dan * num), end='\\t')\n",
    "        else:\n",
    "            print(\"{} * {} = {}\".format(dan, num, dan * num))\n",
    "            line_cnt = 0\n",
    "    print()"
   ]
  },
  {
   "cell_type": "code",
   "execution_count": 162,
   "id": "485268b7",
   "metadata": {},
   "outputs": [
    {
     "name": "stdout",
     "output_type": "stream",
     "text": [
      "1\n",
      "2\n",
      "4\n",
      "5\n"
     ]
    }
   ],
   "source": [
    "a_list = [1,2,3,4,5,7,8,9]\n",
    "for items in a_list:\n",
    "    if items == 7:\n",
    "        break\n",
    "    if items % 3 == 0:\n",
    "        continue\n",
    "    print(items)"
   ]
  },
  {
   "cell_type": "code",
   "execution_count": 164,
   "id": "a269d478",
   "metadata": {},
   "outputs": [
    {
     "name": "stdout",
     "output_type": "stream",
     "text": [
      "[1, 2, 3, 4, 5, 7, 8, 9]\n",
      "1 2 3 4 5 7 8 9\n"
     ]
    }
   ],
   "source": [
    "print(a_list)\n",
    "print(*a_list)"
   ]
  },
  {
   "cell_type": "code",
   "execution_count": null,
   "id": "e9d318ba",
   "metadata": {},
   "outputs": [],
   "source": []
  },
  {
   "cell_type": "code",
   "execution_count": null,
   "id": "8027331e",
   "metadata": {},
   "outputs": [],
   "source": []
  }
 ],
 "metadata": {
  "kernelspec": {
   "display_name": "Python 3 (ipykernel)",
   "language": "python",
   "name": "python3"
  },
  "language_info": {
   "codemirror_mode": {
    "name": "ipython",
    "version": 3
   },
   "file_extension": ".py",
   "mimetype": "text/x-python",
   "name": "python",
   "nbconvert_exporter": "python",
   "pygments_lexer": "ipython3",
   "version": "3.9.12"
  }
 },
 "nbformat": 4,
 "nbformat_minor": 5
}
