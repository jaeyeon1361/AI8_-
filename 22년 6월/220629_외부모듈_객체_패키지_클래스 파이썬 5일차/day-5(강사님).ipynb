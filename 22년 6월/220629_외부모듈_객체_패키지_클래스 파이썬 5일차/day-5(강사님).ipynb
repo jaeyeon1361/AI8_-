{
 "cells": [
  {
   "cell_type": "code",
   "execution_count": 2,
   "id": "7e6dcd1d",
   "metadata": {},
   "outputs": [
    {
     "name": "stdout",
     "output_type": "stream",
     "text": [
      "start !!!\n",
      "hello !!\n",
      "end !!!\n"
     ]
    }
   ],
   "source": [
    "# 함수의 데코레이터 사용\n",
    "def test(func):\n",
    "    def wrapper():\n",
    "        print(\"start !!!\")\n",
    "        func()\n",
    "        print(\"end !!!\")\n",
    "    return wrapper\n",
    "\n",
    "# @데코레이션을 붙여 함수 생성\n",
    "@test\n",
    "def hello():\n",
    "    print(\"hello !!\")\n",
    "    \n",
    "# 함수 호출\n",
    "hello()\n"
   ]
  },
  {
   "cell_type": "markdown",
   "id": "6fc9278f",
   "metadata": {},
   "source": [
    "# chap 8. 클래스 "
   ]
  },
  {
   "cell_type": "code",
   "execution_count": 3,
   "id": "603eb51f",
   "metadata": {},
   "outputs": [
    {
     "name": "stdout",
     "output_type": "stream",
     "text": [
      "이름\t총점\t평균\n",
      "윤인성\t368\t92.0\n",
      "연하진\t384\t96.0\n",
      "구지연\t356\t89.0\n",
      "나선주\t378\t94.5\n",
      "윤아린\t389\t97.25\n",
      "윤명월\t336\t84.0\n"
     ]
    }
   ],
   "source": [
    "# 학생 리스트를 선언합니다.\n",
    "students = [\n",
    "    { \"name\": \"윤인성\", \"korean\": 87, \"math\": 98, \"english\": 88, \"science\": 95 },\n",
    "    { \"name\": \"연하진\", \"korean\": 92, \"math\": 98, \"english\": 96, \"science\": 98 },\n",
    "    { \"name\": \"구지연\", \"korean\": 76, \"math\": 96, \"english\": 94, \"science\": 90 },\n",
    "    { \"name\": \"나선주\", \"korean\": 98, \"math\": 92, \"english\": 96, \"science\": 92 },\n",
    "    { \"name\": \"윤아린\", \"korean\": 95, \"math\": 98, \"english\": 98, \"science\": 98 },\n",
    "    { \"name\": \"윤명월\", \"korean\": 64, \"math\": 88, \"english\": 92, \"science\": 92 }\n",
    "]\n",
    "\n",
    "# 학생을 한 명씩 반복합니다.\n",
    "print(\"이름\", \"총점\", \"평균\", sep=\"\\t\")\n",
    "for student in students:\n",
    "    # 점수의 총합과 평균을 구합니다.\n",
    "    score_sum = student[\"korean\"] + student[\"math\"] +\\\n",
    "        student[\"english\"] + student[\"science\"]\n",
    "    score_average = score_sum / 4\n",
    "    # 출력합니다.\n",
    "    print(student[\"name\"], score_sum, score_average, sep=\"\\t\")"
   ]
  },
  {
   "cell_type": "code",
   "execution_count": 5,
   "id": "a78a536a",
   "metadata": {},
   "outputs": [
    {
     "name": "stdout",
     "output_type": "stream",
     "text": [
      "이름\t총점\t평균\n",
      "윤인성\t368\t92.0\n",
      "연하진\t384\t96.0\n",
      "구지연\t356\t89.0\n",
      "나선주\t378\t94.5\n",
      "윤아린\t389\t97.25\n",
      "윤명월\t336\t84.0\n"
     ]
    }
   ],
   "source": [
    "# 객체를 생성하는 함수를 작성\n",
    "def create_student(name, korean, math, english, science):\n",
    "    return {\"name\": name, \"korean\":korean,\n",
    "            \"math\": math, \"english\": english, \"science\": science }\n",
    "\n",
    "srudents = [create_student(\"윤인성\", 87, 98, 88, 95),\n",
    "            create_student(\"연하진\",92, 98, 96, 98)\n",
    "           ]\n",
    "# 학생을 한 명씩 반복합니다.\n",
    "print(\"이름\", \"총점\", \"평균\", sep=\"\\t\")\n",
    "for student in students:\n",
    "    # 점수의 총합과 평균을 구합니다.\n",
    "    score_sum = student[\"korean\"] + student[\"math\"] +\\\n",
    "        student[\"english\"] + student[\"science\"]\n",
    "    score_average = score_sum / 4\n",
    "    # 출력합니다.\n",
    "    print(student[\"name\"], score_sum, score_average, sep=\"\\t\")"
   ]
  },
  {
   "cell_type": "code",
   "execution_count": 9,
   "id": "57baaedb",
   "metadata": {},
   "outputs": [],
   "source": [
    "# 객체를 생성하는 함수를 작성\n",
    "def create_student(name, korean, math, english, science):\n",
    "    return {\"name\": name, \"korean\":korean,\n",
    "            \"math\": math, \"english\": english, \n",
    "            \"science\": science \n",
    "           }\n",
    "\n",
    "# 학생을 처리하는 함수 선언\n",
    "def student_get_sum(student):   # 총점\n",
    "    return student['korean'] + student['math'] \\\n",
    "        + student['english'] + student['science']\n",
    "\n",
    "def student_get_avg(student):   # 평균\n",
    "    return student_get_sum(student) / 4\n",
    "\n",
    "def student_to_string(student):   # 개인 학생의 정보 출력\n",
    "    return \"{}\\t{}\\t{}\".format(\n",
    "        student[\"name\"], student_get_sum(student), \n",
    "        student_get_avg(student))"
   ]
  },
  {
   "cell_type": "code",
   "execution_count": 10,
   "id": "5dccb708",
   "metadata": {},
   "outputs": [
    {
     "name": "stdout",
     "output_type": "stream",
     "text": [
      "이름\t총점\t평균\n",
      "윤인성\t368\t92.0\n",
      "연하진\t384\t96.0\n",
      "구지연\t356\t89.0\n"
     ]
    }
   ],
   "source": [
    "students = [\n",
    "    create_student(\"윤인성\",87,  98,  88,  95 ),\n",
    "    create_student(\"연하진\",92, 98,  96,  98 ),\n",
    "    create_student(\"구지연\",  76, 96,  94,  90 ),\n",
    "]\n",
    "\n",
    "# 학생을 한 명씩 자료 출려\n",
    "print(\"이름\", \"총점\", \"평균\", sep=\"\\t\")\n",
    "for student in students:\n",
    "    print(student_to_string(student))"
   ]
  },
  {
   "cell_type": "code",
   "execution_count": 11,
   "id": "6e480747",
   "metadata": {},
   "outputs": [
    {
     "name": "stdout",
     "output_type": "stream",
     "text": [
      "홍길동\n"
     ]
    }
   ],
   "source": [
    "# 클래스 생성 class 클래스명:\n",
    "class Student:   # 클래스 정의\n",
    "    def __init__(self, name):\n",
    "        self.name = name\n",
    "#     def 함수명(self, ...):\n",
    "#         self.\n",
    "\n",
    "# Student 클래스의 오브젝트 생성\n",
    "a = Student('홍길동')   # 클래스 생성은 클래스명('홍길동'), 생성자\n",
    "print(a.name)"
   ]
  },
  {
   "cell_type": "code",
   "execution_count": 15,
   "id": "3bf2321c",
   "metadata": {},
   "outputs": [],
   "source": [
    "class Student:\n",
    "    def __init__(self, name, korean, math, english, science):  # 변수 초기화\n",
    "        self.name = name\n",
    "        self.korean = korean\n",
    "        self.math = math\n",
    "        self.english = english\n",
    "        self.science = science\n",
    "    def get_sum(self):\n",
    "        return self.korean + self.math + self.english + self.science\n",
    "    def get_avg(self):\n",
    "        return self.get_sum() / 4\n",
    "    def to_string(self):\n",
    "        return  \"{}\\t{}\\t{}\".format(\n",
    "        self.name , self.get_sum(), \n",
    "        self.get_avg())"
   ]
  },
  {
   "cell_type": "code",
   "execution_count": 16,
   "id": "f4ba2a52",
   "metadata": {},
   "outputs": [
    {
     "name": "stdout",
     "output_type": "stream",
     "text": [
      "이름\t총점\t평균\n",
      "윤인성\t368\t92.0\n",
      "연하진\t384\t96.0\n",
      "구지연\t356\t89.0\n"
     ]
    }
   ],
   "source": [
    "students = [\n",
    "    Student(\"윤인성\",87,  98,  88,  95 ),\n",
    "    Student(\"연하진\",92, 98,  96,  98 ),\n",
    "    Student(\"구지연\",  76, 96,  94,  90 )\n",
    "]\n",
    "\n",
    "# 학생을 한 명씩 자료 출력\n",
    "print(\"이름\", \"총점\", \"평균\", sep=\"\\t\")\n",
    "for student in students:\n",
    "    print(student.to_string())"
   ]
  },
  {
   "cell_type": "code",
   "execution_count": 17,
   "id": "54fb0d8c",
   "metadata": {},
   "outputs": [
    {
     "data": {
      "text/plain": [
       "'윤인성'"
      ]
     },
     "execution_count": 17,
     "metadata": {},
     "output_type": "execute_result"
    }
   ],
   "source": [
    "a =     Student(\"윤인성\",87,  98,  88,  95 )\n",
    "a.name"
   ]
  },
  {
   "cell_type": "code",
   "execution_count": 18,
   "id": "dc6b0941",
   "metadata": {},
   "outputs": [
    {
     "data": {
      "text/plain": [
       "'윤인성\\t368\\t92.0'"
      ]
     },
     "execution_count": 18,
     "metadata": {},
     "output_type": "execute_result"
    }
   ],
   "source": [
    "a.to_string()"
   ]
  },
  {
   "cell_type": "code",
   "execution_count": 51,
   "id": "3a2857b3",
   "metadata": {},
   "outputs": [],
   "source": [
    "# 키보드에서 이름, 국어, 영어 성적을 입력받아 자료에 저장 한 후\n",
    "# 이름에 'q'가 입력되면 입력 종료\n",
    "# 저장된 각 자료의 이름, 총점, 평균을 출력\n",
    "# 전체 입력된 인원수를 출력\n",
    "\n",
    "class Student:\n",
    "    def __init__(self, name, korean, english):  # 변수 초기화\n",
    "        self.name = name\n",
    "        self.korean = korean\n",
    "        self.english = english\n",
    "\n",
    "    def get_sum(self):  # 총점\n",
    "        return self.korean + self.english \n",
    "    \n",
    "    def get_avg(self):   # 평균\n",
    "        return self.get_sum() / 4\n",
    "    \n",
    "    def to_string(self):  # 개인의 정보를 문자로\n",
    "        return  \"{}\\t{}\\t{}\".format(\n",
    "        self.name , self.get_sum(), \n",
    "        self.get_avg())\n",
    "    \n",
    "    def to_str(self):\n",
    "        return \"{},{},{}\".format(self.name, self.korean,self.english)"
   ]
  },
  {
   "cell_type": "code",
   "execution_count": 24,
   "id": "1d9a48e4",
   "metadata": {},
   "outputs": [
    {
     "name": "stdout",
     "output_type": "stream",
     "text": [
      "이름 입력 : aa \n",
      "국어 영어 성적 입력 : 99 88\n",
      "이름 입력 : bb\n",
      "국어 영어 성적 입력 : 99 77\n",
      "이름 입력 : cc\n",
      "국어 영어 성적 입력 : 77 88\n",
      "이름 입력 : dd\n",
      "국어 영어 성적 입력 : 99 66\n",
      "이름 입력 : q\n",
      "입력 종료\n"
     ]
    }
   ],
   "source": [
    "# 키보드에서 이름, 국어, 영어 성적을 입력받아 자료에 저장 한 후\n",
    "# 이름에 'q'가 입력되면 입력 종료\n",
    "\n",
    "students = []\n",
    "while True:\n",
    "    name = input(\"이름 입력 : \")\n",
    "    if name in 'qQ':   # 이름에 q 또는 Q가 입력되면 입력 종료\n",
    "        print(\"입력 종료\")\n",
    "        break\n",
    "    scores = input(\"국어 영어 성적 입력 : \").split()\n",
    "    if len(scores) != 2:\n",
    "        print(\"국어 영어 성적을 입력하세요 \")\n",
    "        continue\n",
    "    \n",
    "    korean = int(scores[0])\n",
    "    english = int(scores[1])\n",
    "    # 학생 자료 추가\n",
    "    students.append(Student(name,korean, english ))"
   ]
  },
  {
   "cell_type": "code",
   "execution_count": 29,
   "id": "51027cf2",
   "metadata": {},
   "outputs": [
    {
     "name": "stdout",
     "output_type": "stream",
     "text": [
      "이름\t총점\t평균\n",
      "aa \t187\t46.75\n",
      "bb\t176\t44.0\n",
      "cc\t165\t41.25\n",
      "dd\t165\t41.25\n",
      "입력된 학생의 총 인원수 :  4\n"
     ]
    }
   ],
   "source": [
    "# 저장된 각 자료의 이름, 총점, 평균을 출력\n",
    "print(\"이름\", \"총점\", \"평균\", sep=\"\\t\")\n",
    "for student in students:\n",
    "    print(student.to_string())\n",
    "\n",
    "print(\"입력된 학생의 총 인원수 : \",len(students))"
   ]
  },
  {
   "cell_type": "code",
   "execution_count": 30,
   "id": "5e6b9c11",
   "metadata": {},
   "outputs": [
    {
     "name": "stdout",
     "output_type": "stream",
     "text": [
      "aa \t187\t46.75\n",
      "bb\t176\t44.0\n",
      "cc\t165\t41.25\n",
      "dd\t165\t41.25\n"
     ]
    }
   ],
   "source": [
    "for i in range(len(students)):\n",
    "    print(students[i].to_string())"
   ]
  },
  {
   "cell_type": "code",
   "execution_count": 46,
   "id": "173be33f",
   "metadata": {
    "scrolled": true
   },
   "outputs": [
    {
     "name": "stdout",
     "output_type": "stream",
     "text": [
      "이름 입력 : ff\n",
      "국어 영어 성적 입력 : 99 88\n",
      "이름 입력 : q\n",
      "입력 종료\n"
     ]
    }
   ],
   "source": [
    "file = open(\"students.txt\", \"a+\")\n",
    "while True:\n",
    "    name = input(\"이름 입력 : \")\n",
    "    if name in 'qQ':   # 이름에 q 또는 Q가 입력되면 입력 종료\n",
    "        print(\"입력 종료\")\n",
    "        break\n",
    "    scores = input(\"국어 영어 성적 입력 : \").split()\n",
    "    if len(scores) != 2:\n",
    "        print(\"국어 영어 성적을 입력하세요 \")\n",
    "        continue\n",
    "    \n",
    "    korean = int(scores[0])\n",
    "    english = int(scores[1])\n",
    "    # 학생 자료 파일에 추가\n",
    "    student = Student(name,korean, english)\n",
    "    file.write(student.to_str()+'\\n')\n",
    "#     students.append(Student(name,korean, english ))"
   ]
  },
  {
   "cell_type": "code",
   "execution_count": 49,
   "id": "4c9a1fce",
   "metadata": {},
   "outputs": [
    {
     "name": "stdout",
     "output_type": "stream",
     "text": [
      "이름\t총점\t평균\n",
      "aa,99,88\n",
      "bb,77,88\n",
      "cc,77,88\n",
      "dd,88,99\n",
      "ww ,88,88\n",
      "aa,88,88\n",
      "입력된 학생의 총 인원수 :  6\n"
     ]
    }
   ],
   "source": [
    "file.seek(0)\n",
    "file_students = []\n",
    "for line in file.readlines():\n",
    "#     in_data = line.strip('\\n').split(',')\n",
    "#     name = in_data[0]\n",
    "#     korean = in_data[1]\n",
    "#     english = in_data[2]    \n",
    "    (name, korean, english )= line.strip('\\n').split(',')\n",
    "    file_students.append(Student(name,korean,english))\n",
    "\n",
    "# 저장된 각 자료의 이름, 총점, 평균을 출력\n",
    "print(\"이름\", \"총점\", \"평균\", sep=\"\\t\")\n",
    "for student in file_students:\n",
    "    print(student.to_str())\n",
    "\n",
    "print(\"입력된 학생의 총 인원수 : \",len(file_students))\n",
    "file.close()"
   ]
  },
  {
   "cell_type": "code",
   "execution_count": 52,
   "id": "eade499f",
   "metadata": {},
   "outputs": [],
   "source": []
  },
  {
   "cell_type": "code",
   "execution_count": null,
   "id": "1e050e69",
   "metadata": {},
   "outputs": [],
   "source": []
  }
 ],
 "metadata": {
  "kernelspec": {
   "display_name": "Python 3 (ipykernel)",
   "language": "python",
   "name": "python3"
  },
  "language_info": {
   "codemirror_mode": {
    "name": "ipython",
    "version": 3
   },
   "file_extension": ".py",
   "mimetype": "text/x-python",
   "name": "python",
   "nbconvert_exporter": "python",
   "pygments_lexer": "ipython3",
   "version": "3.9.12"
  }
 },
 "nbformat": 4,
 "nbformat_minor": 5
}
