{
 "cells": [
  {
   "cell_type": "code",
   "execution_count": 4,
   "id": "e12dedae",
   "metadata": {},
   "outputs": [
    {
     "name": "stdout",
     "output_type": "stream",
     "text": [
      "숫자 입력 : 10\n",
      "<function get_circum at 0x000001EB6D840940>\n",
      "314.0\n"
     ]
    }
   ],
   "source": [
    "# main 프로그램\n",
    "import test_module as test                # import 프로그램명 하게되면 모듈이 메인이 아니니까, test모듈에서 if 문 해놓은게 작동이 안됨\n",
    "\n",
    "radius = test.number_input()\n",
    "print(test.get_circum)\n",
    "print(test.get_circle_area(radius))"
   ]
  },
  {
   "cell_type": "code",
   "execution_count": 5,
   "id": "34ffdc76",
   "metadata": {},
   "outputs": [
    {
     "name": "stdout",
     "output_type": "stream",
     "text": [
      "main의 __name__ 출력 :  __main__\n"
     ]
    }
   ],
   "source": [
    "print(\"main의 __name__ 출력 : \", __name__)"
   ]
  },
  {
   "cell_type": "code",
   "execution_count": null,
   "id": "0938f520",
   "metadata": {},
   "outputs": [],
   "source": []
  }
 ],
 "metadata": {
  "kernelspec": {
   "display_name": "Python 3 (ipykernel)",
   "language": "python",
   "name": "python3"
  },
  "language_info": {
   "codemirror_mode": {
    "name": "ipython",
    "version": 3
   },
   "file_extension": ".py",
   "mimetype": "text/x-python",
   "name": "python",
   "nbconvert_exporter": "python",
   "pygments_lexer": "ipython3",
   "version": "3.9.12"
  }
 },
 "nbformat": 4,
 "nbformat_minor": 5
}
