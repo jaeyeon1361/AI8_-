{
 "cells": [
  {
   "cell_type": "code",
   "execution_count": null,
   "id": "6a5dc9bf",
   "metadata": {},
   "outputs": [],
   "source": [
    "# 학생의 이름과 점수 (국,영,수) 를 입력받아 저장 후\n",
    "#저장된 자료의 이름과 각 학생의 성적, 총점, 평균을 구하세요\n",
    "#가장 성적이 좋은 학생의 이름과 총점을 출력\n",
    "#가장 성적이 나쁜 학생의 이름과 총점을 출력\n",
    "#전체 학생의 인원수와 전체 평균을 구하세요\n",
    "# 조건 class 사용, 모든 문제는 함수로 구현"
   ]
  },
  {
   "cell_type": "code",
   "execution_count": 23,
   "id": "7ec06b80",
   "metadata": {},
   "outputs": [],
   "source": [
    "# 1\n",
    "class Student : \n",
    "    def __init__(self, name, scores) :\n",
    "        self.name = name\n",
    "        self.scores = scores\n",
    "        \n",
    "    def __str__(self) :\n",
    "        out_score = ''\n",
    "        for score in self.scores : \n",
    "            out_score += '\\t{}'.format(score)\n",
    "            \n",
    "        return \"{}{}\\t{}\\t{:3.2f}\".format(self.name, out_score, self.get_sum(), \n",
    "                                                    self.get_avg())\n",
    "    \n",
    "    def get_sum(self) :\n",
    "        total = 0\n",
    "        for score in self.scores :\n",
    "            total += score\n",
    "        return total\n",
    "    \n",
    "    def get_avg(self) : \n",
    "        return self.get_sum() / 3\n",
    "    \n",
    "    def __gt__(self, value) :\n",
    "        return self.get_sum() > value.get_sum()"
   ]
  },
  {
   "cell_type": "code",
   "execution_count": 27,
   "id": "d3516133",
   "metadata": {},
   "outputs": [],
   "source": [
    "def input_func(students) :\n",
    "    while True : \n",
    "        name = input(\"이름을 입력하시오 = \")\n",
    "        if name in 'q' :\n",
    "            break\n",
    "        scores = input(\"국어, 영어, 수학 성적 입력하시오 =  \").split()\n",
    "        if len(scores) != 3:\n",
    "            continue\n",
    "        for idx, score in enumerate(scores) :\n",
    "            scores[idx] = int(score)\n",
    "        students.append(Student(name, scores))\n",
    "\n",
    "def print_func(students) :\n",
    "    print(\"----------------------학생정보----------------------\")\n",
    "    print(\"이름\\t국어\\t영어\\t수학\\t총점\\t평균\")\n",
    "    for student in students :\n",
    "        print(str(student))\n",
    "    print(\"-----------------------------------------------------\")\n",
    "    \n",
    "def search_max(students) :\n",
    "    max_student = students[0]\n",
    "    for student in students :\n",
    "        if not max_student > student :\n",
    "            max_student = student\n",
    "        return max_student    \n",
    "def search_min(students) :\n",
    "    min_student = students[0]\n",
    "    for student in students :\n",
    "        if not min_student > student :\n",
    "            min_student = student\n",
    "        return min_student\n",
    "    \n",
    "def gat_avg(students) :\n",
    "    total = 0\n",
    "    for student in students :\n",
    "        total += sum(student.score)\n",
    "    return total"
   ]
  },
  {
   "cell_type": "code",
   "execution_count": 28,
   "id": "684e9ca1",
   "metadata": {},
   "outputs": [
    {
     "name": "stdout",
     "output_type": "stream",
     "text": [
      "이름을 입력하시오 = a\n",
      "국어, 영어, 수학 성적 입력하시오 =  50 50 50\n",
      "이름을 입력하시오 = b\n",
      "국어, 영어, 수학 성적 입력하시오 =  60 60 60\n",
      "이름을 입력하시오 = q\n",
      "----------------------학생정보----------------------\n",
      "이름\t국어\t영어\t수학\t총점\t평균\n",
      "a\t50\t50\t50\t150\t50.00\n",
      "b\t60\t60\t60\t180\t60.00\n",
      "-------------------------------------------------------\n",
      "최고점수 : a 150\n",
      "최저점수 : a 150\n"
     ]
    }
   ],
   "source": [
    "students = []\n",
    "if __name__ == '__main__' :\n",
    "    input_func(students)\n",
    "    print_func(students)\n",
    "    max_student = search_max(students)\n",
    "    print(\"최고점수 :\", max_student.name, max_student.get_sum())\n",
    "    min_student = search_min(students)\n",
    "    print(\"최저점수 :\", min_student.name, min_student.get_sum())\n",
    "    "
   ]
  },
  {
   "cell_type": "code",
   "execution_count": 29,
   "id": "0289ec22",
   "metadata": {},
   "outputs": [
    {
     "ename": "SyntaxError",
     "evalue": "unexpected EOF while parsing (3499817478.py, line 2)",
     "output_type": "error",
     "traceback": [
      "\u001b[1;36m  Input \u001b[1;32mIn [29]\u001b[1;36m\u001b[0m\n\u001b[1;33m    ))\u001b[0m\n\u001b[1;37m      ^\u001b[0m\n\u001b[1;31mSyntaxError\u001b[0m\u001b[1;31m:\u001b[0m unexpected EOF while parsing\n"
     ]
    }
   ],
   "source": []
  },
  {
   "cell_type": "code",
   "execution_count": null,
   "id": "a50cedbb",
   "metadata": {},
   "outputs": [],
   "source": []
  },
  {
   "cell_type": "code",
   "execution_count": null,
   "id": "2f6c7814",
   "metadata": {},
   "outputs": [],
   "source": []
  },
  {
   "cell_type": "code",
   "execution_count": null,
   "id": "a9c94505",
   "metadata": {},
   "outputs": [],
   "source": []
  },
  {
   "cell_type": "code",
   "execution_count": null,
   "id": "7f6fce11",
   "metadata": {},
   "outputs": [],
   "source": []
  },
  {
   "cell_type": "code",
   "execution_count": null,
   "id": "e970251a",
   "metadata": {},
   "outputs": [],
   "source": []
  }
 ],
 "metadata": {
  "kernelspec": {
   "display_name": "Python 3 (ipykernel)",
   "language": "python",
   "name": "python3"
  },
  "language_info": {
   "codemirror_mode": {
    "name": "ipython",
    "version": 3
   },
   "file_extension": ".py",
   "mimetype": "text/x-python",
   "name": "python",
   "nbconvert_exporter": "python",
   "pygments_lexer": "ipython3",
   "version": "3.9.12"
  }
 },
 "nbformat": 4,
 "nbformat_minor": 5
}
