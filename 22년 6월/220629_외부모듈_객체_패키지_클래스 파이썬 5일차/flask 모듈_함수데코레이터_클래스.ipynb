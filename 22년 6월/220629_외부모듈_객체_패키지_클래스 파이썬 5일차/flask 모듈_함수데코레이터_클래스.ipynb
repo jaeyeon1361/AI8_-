{
 "cells": [
  {
   "cell_type": "code",
   "execution_count": 1,
   "id": "438a32de",
   "metadata": {},
   "outputs": [],
   "source": [
    "# Flask모듈\n",
    "from flask import Flask"
   ]
  },
  {
   "cell_type": "code",
   "execution_count": 3,
   "id": "fb2105e5",
   "metadata": {},
   "outputs": [],
   "source": [
    "app = Flask(__name__)\n",
    "\n",
    "@app.route('/')\n",
    "def index():\n",
    "    return 'Hello World!'"
   ]
  },
  {
   "cell_type": "code",
   "execution_count": 5,
   "id": "ba409964",
   "metadata": {},
   "outputs": [
    {
     "name": "stdout",
     "output_type": "stream",
     "text": [
      "start ! ! \n",
      "hello\n",
      "end ! \n"
     ]
    }
   ],
   "source": [
    "# 함수 데코레이터\n",
    "def test(func) :\n",
    "    def wraper():                \n",
    "        print(\"start ! ! \")          # 순서 ①\n",
    "        func()                       # 순서 ③ _ def hello\n",
    "        print(\"end ! \")              # 순서 ④\n",
    "    return wraper                   \n",
    "\n",
    "# @데코레이션을 붙여 함수 생성\n",
    "@test \n",
    "def hello():                       # 순서 ② _ 데코레이터가 먼저 함수실행\n",
    "    print(\"hello\")\n",
    "    \n",
    "# 함수호출\n",
    "hello()"
   ]
  },
  {
   "cell_type": "code",
   "execution_count": 6,
   "id": "58ec66ff",
   "metadata": {},
   "outputs": [
    {
     "name": "stdout",
     "output_type": "stream",
     "text": [
      "이름\t총점\t평균\n",
      "윤인성\t368\t92.0\n",
      "연하진\t384\t96.0\n",
      "구지연\t356\t89.0\n",
      "나선주\t378\t94.5\n",
      "윤아린\t389\t97.25\n",
      "윤명월\t336\t84.0\n"
     ]
    }
   ],
   "source": [
    "# 클래스 \n",
    "# 학생 리스트를 선언합니다.\n",
    "students = [\n",
    "    { \"name\": \"윤인성\", \"korean\": 87, \"math\": 98, \"english\": 88, \"science\": 95 },\n",
    "    { \"name\": \"연하진\", \"korean\": 92, \"math\": 98, \"english\": 96, \"science\": 98 },\n",
    "    { \"name\": \"구지연\", \"korean\": 76, \"math\": 96, \"english\": 94, \"science\": 90 },\n",
    "    { \"name\": \"나선주\", \"korean\": 98, \"math\": 92, \"english\": 96, \"science\": 92 },\n",
    "    { \"name\": \"윤아린\", \"korean\": 95, \"math\": 98, \"english\": 98, \"science\": 98 },\n",
    "    { \"name\": \"윤명월\", \"korean\": 64, \"math\": 88, \"english\": 92, \"science\": 92 }\n",
    "]\n",
    "\n",
    "# 학생을 한 명씩 반복합니다.\n",
    "print(\"이름\", \"총점\", \"평균\", sep=\"\\t\")\n",
    "for student in students:\n",
    "    # 점수의 총합과 평균을 구합니다.\n",
    "    score_sum = student[\"korean\"] + student[\"math\"] +\\\n",
    "        student[\"english\"] + student[\"science\"]\n",
    "    score_average = score_sum / 4\n",
    "    # 출력합니다.\n",
    "    print(student[\"name\"], score_sum, score_average, sep=\"\\t\")\n"
   ]
  },
  {
   "cell_type": "code",
   "execution_count": 9,
   "id": "57b85e45",
   "metadata": {},
   "outputs": [],
   "source": [
    "# 객체를 생성하는 함수 작성\n",
    "def create_student(name, korean, math, english, science) :\n",
    "    return {\"name\": name, \"korean\": korean, \"math\": math, \n",
    "            \"english\": english,\"science\": science}\n"
   ]
  },
  {
   "cell_type": "code",
   "execution_count": 36,
   "id": "8b49a791",
   "metadata": {},
   "outputs": [],
   "source": [
    "# 학생을 처리하는 함수 선언\n",
    "def student_get_sum(student) :               #  총점\n",
    "    return student['korean'] + student['math'] \\\n",
    "        + student['english'] + student['science']\n",
    "\n",
    "def student_get_avg(student) :              # 평균\n",
    "    return student_get_sum(student) / 4\n",
    "\n",
    "def student_to_string(student) :            # 개인학생의 정보 출력\n",
    "    return(\"{}\\t{}\\t{}\".format(student[\"name\"], student_get_sum(student),\n",
    "                              student_get_avg(student)))"
   ]
  },
  {
   "cell_type": "code",
   "execution_count": 37,
   "id": "fcb13178",
   "metadata": {},
   "outputs": [],
   "source": [
    "students = [\n",
    "    create_student(\"윤인성\",87,  98,  88,  95 ),\n",
    "    create_student(\"연하진\",92, 98,  96,  98 ),\n",
    "    create_student(\"구지연\",  76, 96,  94,  90 ),\n",
    "]"
   ]
  },
  {
   "cell_type": "code",
   "execution_count": 38,
   "id": "8549d73d",
   "metadata": {},
   "outputs": [
    {
     "name": "stdout",
     "output_type": "stream",
     "text": [
      "이름\t총점\t평균\n",
      "윤인성\t368\t92.0\n",
      "연하진\t384\t96.0\n",
      "구지연\t356\t89.0\n"
     ]
    }
   ],
   "source": [
    "# 학생을 한명씩 출력 \n",
    "print(\"이름\", \"총점\", \"평균\", sep=\"\\t\")\n",
    "for student in students : \n",
    "    print(student_to_string(student))"
   ]
  },
  {
   "cell_type": "code",
   "execution_count": 39,
   "id": "90878e5b",
   "metadata": {},
   "outputs": [
    {
     "name": "stdout",
     "output_type": "stream",
     "text": [
      "홍길동\n"
     ]
    }
   ],
   "source": [
    "# 클래스 생성 class 클래스명 : \n",
    "class Student : # 클래스 정의\n",
    "    def __init__(self, name) : # 셀프(기본적으로 들어감), 매개변수\n",
    "        self.name = name\n",
    " #   def 함수명(self, ... ) :\n",
    " #      self\n",
    "# Student 클래스의 오브젝트 생성 => 생성자\n",
    "a = Student('홍길동') # 클래스 생성은 클래스명() -> 매개변수가 name 선언으로 Student('홍길동')\n",
    "print(a.name)"
   ]
  },
  {
   "cell_type": "code",
   "execution_count": 44,
   "id": "b4d9361e",
   "metadata": {},
   "outputs": [],
   "source": [
    "class Student :\n",
    "    def __init__(self, name, korean, math, english, science) :\n",
    "        self.name = name\n",
    "        self.korean = korean\n",
    "        self.math = math\n",
    "        self.english = english\n",
    "        self.science = science\n",
    "    def get_sum(self) :\n",
    "        return self.korean + self.math + self.english + self.science\n",
    "    def get_avg(self) : \n",
    "        return self.get_sum() / 4\n",
    "    def to_string(self) : \n",
    "        return \"{}\\t{}\\t{}\".format(self.name, self.get_sum(), self.get_avg())"
   ]
  },
  {
   "cell_type": "code",
   "execution_count": 46,
   "id": "dfe1990e",
   "metadata": {},
   "outputs": [
    {
     "name": "stdout",
     "output_type": "stream",
     "text": [
      "이름\t총점\t평균\n",
      "윤인성\t368\t92.0\n",
      "연하진\t384\t96.0\n",
      "구지연\t356\t89.0\n"
     ]
    }
   ],
   "source": [
    "students = [\n",
    "    Student(\"윤인성\",87, 98, 88, 95),\n",
    "    Student(\"연하진\",92, 98, 96, 98),\n",
    "    Student(\"구지연\",76, 96, 94, 90)\n",
    "]\n",
    "\n",
    "# 학생을 한 명씩 자료 출력\n",
    "print(\"이름\", \"총점\", \"평균\", sep=\"\\t\")\n",
    "for student in students :\n",
    "    print(student.to_string())"
   ]
  },
  {
   "cell_type": "code",
   "execution_count": null,
   "id": "bd28b708",
   "metadata": {},
   "outputs": [],
   "source": [
    "# 이름, 국어, 영어 성적을 입력받아 자료에 저장 후, 입력에 q입력되면 종료\n",
    "# 저장된 각 자료의 이름, 총ㅈㅁ, 평균을 출력\n",
    "# 전체 입력된 인원수를 출력"
   ]
  },
  {
   "cell_type": "code",
   "execution_count": 17,
   "id": "34a94b90",
   "metadata": {},
   "outputs": [],
   "source": [
    "class Student :\n",
    "    def __init__(self, name, korean, english) :\n",
    "        self.name = name\n",
    "        self.korean = korean\n",
    "        self.english = english\n",
    "    def get_sum(self) :\n",
    "        return self.korean + self.english\n",
    "    def get_avg(self) : \n",
    "        return self.get_sum() / 4\n",
    "    def to_string(self) : \n",
    "        return \"{}\\t{}\\t{}\".format(self.name, self.get_sum(), self.get_avg())"
   ]
  },
  {
   "cell_type": "code",
   "execution_count": 18,
   "id": "c257f9db",
   "metadata": {},
   "outputs": [
    {
     "name": "stdout",
     "output_type": "stream",
     "text": [
      "이름 입력 : thd\n",
      "국어 성적을 입력바랍니다 : 80\n",
      "국어 성적을 입력하셨습니다. \n",
      "영어 성적을 입력바랍니다. : 80\n",
      "영어 성적을 입력하셨습니다. 'q'를 입력하면 종료합니다.\n",
      "이름 입력 : q\n",
      "입력종료\n"
     ]
    }
   ],
   "source": [
    "students = []\n",
    "while True :\n",
    "    name = input(\"이름 입력 : \")\n",
    "    if name == 'q' :\n",
    "        print(\"입력종료\")\n",
    "        break\n",
    "    scores_korean = int(input(\"국어 성적을 입력바랍니다 : \"))\n",
    "    if scores_korean :\n",
    "        print(\"국어 성적을 입력하셨습니다. \")\n",
    "    scores_english = int(input(\"영어 성적을 입력바랍니다. : \"))\n",
    "    if scores_english : \n",
    "        print(\"영어 성적을 입력하셨습니다. 'q'를 입력하면 종료합니다.\")\n",
    "#         continue\n",
    "        \n",
    "    korean = int(scores_korean)\n",
    "    english = int(scores_english)\n",
    "\n",
    "    students.append(Student(name, korean, english))"
   ]
  },
  {
   "cell_type": "code",
   "execution_count": 19,
   "id": "155f4859",
   "metadata": {},
   "outputs": [
    {
     "name": "stdout",
     "output_type": "stream",
     "text": [
      "이름\t총점\t평균\n",
      "thd\t160\t40.0\n",
      "입력된 학생의 총 인원수 :  1\n"
     ]
    }
   ],
   "source": [
    "print(\"이름\", \"총점\", \"평균\", sep=\"\\t\")\n",
    "for student in students:\n",
    "    print(student.to_string())\n",
    "print(\"입력된 학생의 총 인원수 : \",len(students))"
   ]
  },
  {
   "cell_type": "code",
   "execution_count": 9,
   "id": "5e0f84a3",
   "metadata": {},
   "outputs": [
    {
     "name": "stdout",
     "output_type": "stream",
     "text": [
      "isinstance(student, Human) : True\n",
      "isinstance(student, Student) : True\n",
      "isinstance(human, Human) : True\n",
      "isinstance(human, Student) : False\n"
     ]
    }
   ],
   "source": [
    "# 클래스의 상속이 있는 경우 인스턴스가 어느 클래스인지 확인\n",
    "# isinstance(인스턴스, 클래스) : type(인스턴스) == 클래스\n",
    "class Human :\n",
    "    def __init__(self):\n",
    "        pass\n",
    "    \n",
    "class Student(Human) : # class 클래스명(클래스명_1) -> 클래스명 1의 내용을 상속받음\n",
    "    def __init__(self) :\n",
    "        pass\n",
    "                        # Human 이라는 클래스가 Student 클래스에 소속이 됨, 그전에 상속이\n",
    "                        # 되전에 선언이 되어있어야함\n",
    "student = Student()\n",
    "print(\"isinstance(student, Human) :\", isinstance(student, Human))\n",
    "print(\"isinstance(student, Student) :\", isinstance(student, Student))\n",
    "\n",
    "human = Human()\n",
    "print(\"isinstance(human, Human) :\", isinstance(human, Human))\n",
    "print(\"isinstance(human, Student) :\", isinstance(human, Student))"
   ]
  },
  {
   "cell_type": "code",
   "execution_count": 11,
   "id": "725ee9d4",
   "metadata": {},
   "outputs": [
    {
     "name": "stdout",
     "output_type": "stream",
     "text": [
      "공부를 합니다\n",
      "가르칩니다\n",
      "가르칩니다\n",
      "공부를 합니다\n",
      "공부를 합니다\n"
     ]
    }
   ],
   "source": [
    "# 클래스 상속\n",
    "class Student :\n",
    "    def study(self): # self라는 매개변수 무조건 넣어야함\n",
    "        print(\"공부를 합니다\")\n",
    "class Teacher:\n",
    "    def teach(self) : \n",
    "        print(\"가르칩니다\")\n",
    "        \n",
    "classroom = [Student(), Teacher(), Teacher(), Student(), Student()]\n",
    "\n",
    "for person in classroom :\n",
    "    if isinstance(person, Student) :\n",
    "        person.study()\n",
    "    elif isinstance(person, Teacher) :\n",
    "        person.teach()"
   ]
  },
  {
   "cell_type": "code",
   "execution_count": 23,
   "id": "44ec7e7e",
   "metadata": {},
   "outputs": [],
   "source": [
    "class Student :\n",
    "    def __init__(self, name, math, english) :\n",
    "        self.name = name\n",
    "        self.korean = korean\n",
    "        self.english = english\n",
    "    def get_sum(self) :\n",
    "        return self.korean + self.english\n",
    "    def get_avg(self) : \n",
    "        return self.get_sum() / 4\n",
    "    \n",
    "    def __str__(self) : # 개인의 정보를 문자로\n",
    "        return \"{}\\t{}\\t{}\".format(self.name, self.get_sum(), self.get_avg())"
   ]
  },
  {
   "cell_type": "code",
   "execution_count": 47,
   "id": "c572bc43",
   "metadata": {},
   "outputs": [
    {
     "name": "stdout",
     "output_type": "stream",
     "text": [
      "3번째 학생\n",
      "4번째 학생\n",
      "<__main__.Student object at 0x00000291B2795790> <__main__.Student object at 0x00000291B26FF4C0>\n",
      "두 학생의 성적은 같다 :  False\n"
     ]
    },
    {
     "ename": "TypeError",
     "evalue": "'>' not supported between instances of 'Student' and 'Student'",
     "output_type": "error",
     "traceback": [
      "\u001b[1;31m---------------------------------------------------------------------------\u001b[0m",
      "\u001b[1;31mTypeError\u001b[0m                                 Traceback (most recent call last)",
      "Input \u001b[1;32mIn [47]\u001b[0m, in \u001b[0;36m<cell line: 5>\u001b[1;34m()\u001b[0m\n\u001b[0;32m      3\u001b[0m \u001b[38;5;28mprint\u001b[39m(\u001b[38;5;28mstr\u001b[39m(student1), \u001b[38;5;28mstr\u001b[39m(student2))\n\u001b[0;32m      4\u001b[0m \u001b[38;5;28mprint\u001b[39m(\u001b[38;5;124m\"\u001b[39m\u001b[38;5;124m두 학생의 성적은 같다 : \u001b[39m\u001b[38;5;124m\"\u001b[39m, student1 \u001b[38;5;241m==\u001b[39m student2)\n\u001b[1;32m----> 5\u001b[0m \u001b[38;5;28;01mif\u001b[39;00m \u001b[43mstudent1\u001b[49m\u001b[43m \u001b[49m\u001b[38;5;241;43m>\u001b[39;49m\u001b[43m \u001b[49m\u001b[43mstudent2\u001b[49m : \n\u001b[0;32m      6\u001b[0m     \u001b[38;5;28mprint\u001b[39m(\u001b[38;5;124m\"\u001b[39m\u001b[38;5;124mf\u001b[39m\u001b[38;5;132;01m{student1.name}\u001b[39;00m\u001b[38;5;124m의 성적이 \u001b[39m\u001b[38;5;132;01m{student2.name}\u001b[39;00m\u001b[38;5;124m의 성적보다 크다\u001b[39m\u001b[38;5;124m\"\u001b[39m)\n",
      "\u001b[1;31mTypeError\u001b[0m: '>' not supported between instances of 'Student' and 'Student'"
     ]
    }
   ],
   "source": [
    "student1 = Student('test', 99, 99)\n",
    "student2 = Student('test123', 88, 90)\n",
    "print(str(student1), str(student2))\n",
    "print(\"두 학생의 성적은 같다 : \", student1 == student2)\n",
    "if student1 > student2 : \n",
    "    print(\"f{student1.name}의 성적이 {student2.name}의 성적보다 크다\")"
   ]
  },
  {
   "cell_type": "code",
   "execution_count": 48,
   "id": "f568fb4b",
   "metadata": {},
   "outputs": [
    {
     "name": "stdout",
     "output_type": "stream",
     "text": [
      "5번째 학생\n",
      "6번째 학생\n"
     ]
    }
   ],
   "source": [
    "students = [\n",
    "    Student('aa', 90, 80),\n",
    "    Student('bb', 80, 90)\n",
    "]"
   ]
  },
  {
   "cell_type": "code",
   "execution_count": 49,
   "id": "7c665862",
   "metadata": {},
   "outputs": [
    {
     "name": "stdout",
     "output_type": "stream",
     "text": [
      "6\n",
      "aa\n"
     ]
    }
   ],
   "source": [
    "print(Student.count)\n",
    "print(students[0].name)"
   ]
  },
  {
   "cell_type": "code",
   "execution_count": 57,
   "id": "1213fba5",
   "metadata": {},
   "outputs": [],
   "source": [
    "# class 변수, class 함수 @classmethod -> 함수정의\n",
    "class Student :\n",
    "    count = 0            # class 변수 선언, 사용은 클래스명.클래스변수\n",
    "    students = []\n",
    "    \n",
    "    @classmethod\n",
    "    def print(cls) : \n",
    "        print('==========학생 목록==========')\n",
    "        print(\"이름\\t총점\\t평균\")\n",
    "#        for student in cls.students : \n",
    "        for student in Student.students : \n",
    "            print(str(student))\n",
    "        print('================================')\n",
    "    def __init__(self, name, math, english) : # 변수초기화\n",
    "        self.name = name\n",
    "        self.korean = korean\n",
    "        self.english = english\n",
    "        \n",
    "        Student.count += 1\n",
    "        Student.students.append(self)\n",
    "        \n",
    "        def get_sum(self):  # 총점\n",
    "            return self.korean + self.english     \n",
    "        def get_avg(self):   # 평균\n",
    "            return self.get_sum() / 2    \n",
    "        def __str__(self):  # 개인의 정보를 문자로\n",
    "            return  \"{}\\t{}\\t{}\".format(self.name , self.get_sum(),self.get_avg())"
   ]
  },
  {
   "cell_type": "code",
   "execution_count": 56,
   "id": "8a01e004",
   "metadata": {},
   "outputs": [
    {
     "name": "stdout",
     "output_type": "stream",
     "text": [
      "이름 입력 : 송\n",
      "국어 영어 성적 입력 : 70\n",
      "국어 영어 성적을 입력하세요 \n",
      "이름 입력 : 07\n",
      "국어 영어 성적 입력 : \n",
      "국어 영어 성적을 입력하세요 \n",
      "이름 입력 : q\n",
      "입력 종료\n",
      "==========학생 목록==========\n",
      "이름\t총점\t평균\n"
     ]
    }
   ],
   "source": [
    "while True:\n",
    "    name = input(\"이름 입력 : \")\n",
    "    if name in 'qQ':   # 이름에 q 또는 Q가 입력되면 입력 종료\n",
    "        print(\"입력 종료\")\n",
    "        break\n",
    "    scores = input(\"국어 영어 성적 입력 : \").split()\n",
    "    if len(scores) != 2:\n",
    "        print(\"국어 영어 성적을 입력하세요 \")\n",
    "        continue\n",
    "    \n",
    "    korean = int(scores[0])\n",
    "    english = int(scores[1])\n",
    "    # 학생 자료 추가\n",
    "    Student(name,korean, english )\n",
    "\n",
    "Student.print()"
   ]
  },
  {
   "cell_type": "code",
   "execution_count": null,
   "id": "35feced6",
   "metadata": {},
   "outputs": [],
   "source": []
  }
 ],
 "metadata": {
  "kernelspec": {
   "display_name": "Python 3 (ipykernel)",
   "language": "python",
   "name": "python3"
  },
  "language_info": {
   "codemirror_mode": {
    "name": "ipython",
    "version": 3
   },
   "file_extension": ".py",
   "mimetype": "text/x-python",
   "name": "python",
   "nbconvert_exporter": "python",
   "pygments_lexer": "ipython3",
   "version": "3.9.12"
  }
 },
 "nbformat": 4,
 "nbformat_minor": 5
}
